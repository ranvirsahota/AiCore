{
 "cells": [
  {
   "cell_type": "markdown",
   "metadata": {},
   "source": [
    "# 11. Amazon RDS - Practicals"
   ]
  },
  {
   "cell_type": "markdown",
   "metadata": {},
   "source": [
    "## 1. Write a Python script that establishes a connection to the RDS database you have created in this lesson. Use the psycopg2 library to create a table."
   ]
  },
  {
   "cell_type": "code",
   "execution_count": 2,
   "metadata": {},
   "outputs": [],
   "source": [
    "import psycopg2\n",
    "\n",
    "# Database connection details\n",
    "database = 'postgres'\n",
    "host = \"my-first-rds-db.c4scbkwdgr7v.eu-west-2.rds.amazonaws.com\"\n",
    "password = \"awsrds_rambo123\"\n",
    "port = 5432\n",
    "user = 'postgres'\n",
    "\n",
    "# Establish the connection\n",
    "conn = psycopg2.connect(\n",
    "    host=host,\n",
    "    port=port,\n",
    "    database=database,\n",
    "    user=user,\n",
    "    password=password\n",
    ")\n",
    "\n",
    "cursor = conn.cursor()\n",
    "create_table_query = \"\"\"\n",
    "    CREATE TABLE IF NOT EXISTS psycop2tbl (\n",
    "        <column_name1> <data_type1>,\n",
    "        <column_name2> <data_type2>,\n",
    "        ...\n",
    "    )\n",
    "\"\"\""
   ]
  },
  {
   "cell_type": "markdown",
   "metadata": {},
   "source": [
    "## 2. Insert some sample data into the table"
   ]
  },
  {
   "cell_type": "markdown",
   "metadata": {},
   "source": [
    "## 3. Verify data was successfully inserted using pgAdmin queries to select all entries in the newly created table"
   ]
  }
 ],
 "metadata": {
  "kernelspec": {
   "display_name": "aicore",
   "language": "python",
   "name": "python3"
  },
  "language_info": {
   "codemirror_mode": {
    "name": "ipython",
    "version": 3
   },
   "file_extension": ".py",
   "mimetype": "text/x-python",
   "name": "python",
   "nbconvert_exporter": "python",
   "pygments_lexer": "ipython3",
   "version": "3.12.0"
  }
 },
 "nbformat": 4,
 "nbformat_minor": 2
}

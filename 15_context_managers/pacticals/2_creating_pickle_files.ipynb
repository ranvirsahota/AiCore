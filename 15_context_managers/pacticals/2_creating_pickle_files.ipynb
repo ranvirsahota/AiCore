{
  "cells": [
    {
      "cell_type": "markdown",
      "metadata": {
        "id": "view-in-github",
        "colab_type": "text"
      },
      "source": [
        "<a href=\"https://colab.research.google.com/github/ranvirsahota/AiCore/blob/python-basics/15_context_managers/pacticals/2_creating_pickle_files.ipynb\" target=\"_parent\"><img src=\"https://colab.research.google.com/assets/colab-badge.svg\" alt=\"Open In Colab\"/></a>"
      ]
    },
    {
      "cell_type": "markdown",
      "metadata": {
        "id": "chh7vXIeF7Bf"
      },
      "source": [
        "# Creating Pickle Files\n",
        "\n",
        "A pickle file in Python is a file type used to store complex data structures such as lists, dictionaries, or custom objects in a way that can be loaded back into a Python program while maintaining their original structure and data type.  You can read more about them [here](https://docs.python.org/3/library/pickle.html).\n",
        "\n",
        "\n",
        "The data in a pickle file are stored as binary information. This means that to read and write from them, we will need to use the `rb` (read binary) and `wb` (write binary) modes with our `open()` function.\n",
        "\n",
        "In the code block below, do the following:\n",
        "\n",
        "1. Import the `pickle` library\n",
        "2. Create a dictionary called `my_dict` with the keys `a`, `b`, and `c` and the values `1`, `2`, and `3`\n",
        "3. Create a context manager that opens a file called `my_dict.pkl` in write-binary mode and writes `my_dict` to the file. You will need to use the `pickle.dump(variable_to_save, file_handle)` method to write data to a pickle file. The `file_handle` parameter is the name of the temporary variable you use to address the file you are opening, after the `as` keyword in the context manager statement.\n"
      ]
    },
    {
      "cell_type": "code",
      "execution_count": 1,
      "metadata": {
        "id": "Cnfz5wBKF7Bg"
      },
      "outputs": [],
      "source": [
        "# TODO: Import pickle module\n",
        "import pickle\n",
        "\n",
        "# TODO: Create a dictionary\n",
        "my_dict = {\n",
        "    'a' : 1,\n",
        "    'b' : 2,\n",
        "    'c' : 3\n",
        "}\n",
        "\n",
        "# TODO: Open a file in write binary mode and dump the dictionary into it\n",
        "with open('my_dict.pk1', 'wb') as file:\n",
        "  pickle.dump(my_dict, file)"
      ]
    },
    {
      "cell_type": "markdown",
      "metadata": {
        "id": "mdY9mGaQF7Bh"
      },
      "source": [
        "You should see a file called `my_dict.pkl` in your colab files. If you downloaded it and tried to open it, you would see a bunch of gibberish. This is because it is a pickle file and not a text file, and so the data is stored in binary, not `UTF-8`, the encoding used for most text files.\n",
        "\n",
        "4. Now create a context manager that opens the file `my_dict.pkl` in read mode and reads the contents of the file into a variable called `my_dict_2`\n",
        "5. Print `my_dict_2`. You should see the original dictionary printed."
      ]
    },
    {
      "cell_type": "code",
      "execution_count": 4,
      "metadata": {
        "id": "IkPvZr-yF7Bh",
        "outputId": "c0ce8935-2b39-4902-fd98-f39fb2a9334e",
        "colab": {
          "base_uri": "https://localhost:8080/"
        }
      },
      "outputs": [
        {
          "output_type": "stream",
          "name": "stdout",
          "text": [
            "{'a': 1, 'b': 2, 'c': 3}\n"
          ]
        }
      ],
      "source": [
        "# TODO: Open the pickle file in read binary mode and load the dictionary from it\n",
        "with open('my_dict.pk1', 'rb') as file:\n",
        "  my_dict_2 = pickle.load(file)\n",
        "\n",
        "# TODO: Print the dictionary\n",
        "print(my_dict_2)"
      ]
    }
  ],
  "metadata": {
    "language_info": {
      "name": "python"
    },
    "colab": {
      "provenance": [],
      "include_colab_link": true
    },
    "kernelspec": {
      "name": "python3",
      "display_name": "Python 3"
    }
  },
  "nbformat": 4,
  "nbformat_minor": 0
}
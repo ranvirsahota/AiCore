{
  "cells": [
    {
      "cell_type": "markdown",
      "metadata": {
        "id": "view-in-github",
        "colab_type": "text"
      },
      "source": [
        "<a href=\"https://colab.research.google.com/github/ranvirsahota/AiCore/blob/python-basics/15_context_managers/notebook_lesson.ipynb\" target=\"_parent\"><img src=\"https://colab.research.google.com/assets/colab-badge.svg\" alt=\"Open In Colab\"/></a>"
      ]
    },
    {
      "cell_type": "markdown",
      "metadata": {
        "id": "v99KVXkNEQ00"
      },
      "source": [
        "# Context Managers"
      ]
    },
    {
      "cell_type": "markdown",
      "metadata": {
        "id": "PrCNXQf_EQ01"
      },
      "source": [
        "> Context managers are a type of object that you can use to properly manage resources. When you're working with files for example, it's important to open a file, and then close it again when you're done using it, regardless of whether your code ran successfully or encountered an error. Context managers help with this by providing a quick way to allocate and release resources precisely when you need them.\n"
      ]
    },
    {
      "cell_type": "markdown",
      "metadata": {
        "id": "XjEVyHAKEQ01"
      },
      "source": [
        "## Motivations\n",
        "\n",
        "Learning about context managers will allow you to:\n",
        "\n",
        "- Efficiently allocate and release resources\n",
        "- Minimise errors during file handling\n",
        "- Understand how to read from and write to files effectively"
      ]
    },
    {
      "cell_type": "markdown",
      "metadata": {
        "id": "8E9ODptqEQ01"
      },
      "source": [
        "## Example: File Handling\n",
        "\n",
        "A common problem in programming is that resources, such as files, directories, connections, etc., are retained indefinitely. Proper resource management is often a challenge. It requires both setup and cleanup phases.  \n",
        "\n",
        "Let's use reading and writing from files as an example. Python has a function called `open`, which assigns a file object to a variable, so that you can perform some task such as reading from or writing to the file. We call that variable that refers to a file object a \"file handle\". To write some data to a file, you must first call `open` on the filepath:"
      ]
    },
    {
      "cell_type": "code",
      "execution_count": null,
      "metadata": {
        "id": "82fpvkafEQ01"
      },
      "outputs": [],
      "source": [
        "file = open(\"hello.txt\", \"w\")\n",
        "file.write(\"Hello, World!\")\n",
        "file.close()"
      ]
    },
    {
      "cell_type": "markdown",
      "metadata": {
        "id": "OjZgocCrEQ02"
      },
      "source": [
        " If a file is updated without closing it, the data will not be stored in the target file. In the code block below, the string `Will i be stored in the file?`  has not yet been saved to `hello.txt`."
      ]
    },
    {
      "cell_type": "code",
      "execution_count": null,
      "metadata": {
        "id": "SVL-lVqZEQ02",
        "outputId": "ee8710b8-aed3-4115-dc93-8caa9a07b440"
      },
      "outputs": [
        {
          "data": {
            "text/plain": [
              "29"
            ]
          },
          "execution_count": 2,
          "metadata": {},
          "output_type": "execute_result"
        }
      ],
      "source": [
        "file = open(\"hello.txt\", \"w\")\n",
        "file.write(\"Will I be stored in the file?\")\n"
      ]
    },
    {
      "cell_type": "markdown",
      "metadata": {
        "id": "6JRgZjzJEQ02"
      },
      "source": [
        "To save it, you must also release the file handle using the .`close()` method:"
      ]
    },
    {
      "cell_type": "code",
      "execution_count": null,
      "metadata": {
        "id": "1EUIVfGJEQ02",
        "outputId": "8c59de2e-2645-4370-aca0-1c17e4d1afd3"
      },
      "outputs": [
        {
          "name": "stdout",
          "output_type": "stream",
          "text": [
            "Will I be stored in the file?\n"
          ]
        }
      ],
      "source": [
        "file.close()\n",
        "\n",
        "# check that the data is in the file:\n",
        "file = open(\"hello.txt\", \"r\")\n",
        "print(file.read())"
      ]
    },
    {
      "cell_type": "markdown",
      "metadata": {
        "id": "vZkpe42yEQ02"
      },
      "source": [
        "You can avoid the risk of forgetting to close the file (and thereby failing to save your data) by using context managers. Python uses the `with` keyword to denote the start of a context management code-block. Context managers have the following syntax:"
      ]
    },
    {
      "cell_type": "code",
      "execution_count": null,
      "metadata": {
        "id": "Z6fw6gJmEQ03"
      },
      "outputs": [],
      "source": [
        "\n",
        "with expression as target_var:\n",
        "    do_something(target_var)"
      ]
    },
    {
      "cell_type": "markdown",
      "metadata": {
        "id": "RwdGHBO-EQ03"
      },
      "source": [
        "For example, to open and close a file, you could use:"
      ]
    },
    {
      "cell_type": "code",
      "execution_count": null,
      "metadata": {
        "id": "YYW7covpEQ03"
      },
      "outputs": [],
      "source": [
        "with open(\"hello.txt\", mode=\"w\") as file:\n",
        "    file.write(\"I come from the context manager, nice to meet you\")"
      ]
    },
    {
      "cell_type": "markdown",
      "metadata": {
        "id": "Fvwlr3hzEQ03"
      },
      "source": [
        "This is telling the Python interpreter that, during the following codeblock (and *only* that codeblock), the interpreter should open the `hello.txt` file object in write (`w`) mode, and assign it to the variable `file`. Once the indented block following the `with` statement is finished, this will no longer be the case. The `file` variable will no longer be associated with that context, and the file object will be closed."
      ]
    },
    {
      "cell_type": "markdown",
      "metadata": {
        "id": "c1uqeTk1EQ03"
      },
      "source": [
        "## Key Takeaways"
      ]
    },
    {
      "cell_type": "markdown",
      "metadata": {
        "id": "lyM9m5J4EQ03"
      },
      "source": [
        "- Context Managers are useful for efficient and error-free resource handling\n",
        "- The `with` statement defines the start of a context management code block\n",
        "- The `with` statement assigns an expression to a variable for the duration of the indented block following it\n",
        "- You can use `with open(filename)` to manage reading from and writing to files"
      ]
    }
  ],
  "metadata": {
    "kernelspec": {
      "display_name": "base",
      "language": "python",
      "name": "python3"
    },
    "language_info": {
      "codemirror_mode": {
        "name": "ipython",
        "version": 3
      },
      "file_extension": ".py",
      "mimetype": "text/x-python",
      "name": "python",
      "nbconvert_exporter": "python",
      "pygments_lexer": "ipython3",
      "version": "3.11.3"
    },
    "vscode": {
      "interpreter": {
        "hash": "a2592652612463181e69ac003232387e3e9a99279aa6b168e76f5df16d5110f4"
      }
    },
    "colab": {
      "provenance": [],
      "include_colab_link": true
    }
  },
  "nbformat": 4,
  "nbformat_minor": 0
}
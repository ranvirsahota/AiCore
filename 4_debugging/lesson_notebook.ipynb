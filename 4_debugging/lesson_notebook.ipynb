{
  "cells": [
    {
      "cell_type": "markdown",
      "metadata": {
        "id": "view-in-github",
        "colab_type": "text"
      },
      "source": [
        "<a href=\"https://colab.research.google.com/github/ranvirsahota/AiCore/blob/advanced-python/2-debugging.ipynb\" target=\"_parent\"><img src=\"https://colab.research.google.com/assets/colab-badge.svg\" alt=\"Open In Colab\"/></a>"
      ]
    },
    {
      "cell_type": "markdown",
      "metadata": {
        "id": "vgEDDoILKJ6P"
      },
      "source": [
        "# Debugging"
      ]
    },
    {
      "cell_type": "markdown",
      "metadata": {
        "id": "X8BRda4yKJ6R"
      },
      "source": [
        "## Learning Objectives\n",
        "- Learn how to interpret error messages thrown by Python.\n",
        "- Understand the most common bugs you might find.\n",
        "- Learn some debugging techniques.\n",
        "- Learn the most common errors in Python and their solutions.\n",
        "- Learn how to read errors in the console.\n",
        "- Learn how to use the debugger."
      ]
    },
    {
      "cell_type": "markdown",
      "metadata": {
        "id": "MKJNRyArKJ6S"
      },
      "source": [
        "## Introduction\n",
        "Understanding the errors raised by Python (or any programming language) is crucial for progress in programming. You can expend a considerable amount of time figuring out an error if your knowledge of errors and how to address them is inadequate.\n",
        "\n",
        "When handling errors, adopting the right mindset is crucial. Fortunately, Python offers a compiler that traces the error and provides information on the location of the issue to the user."
      ]
    },
    {
      "cell_type": "markdown",
      "metadata": {
        "id": "fMLtpm6PKJ6S"
      },
      "source": [
        "## Python Standard Error"
      ]
    },
    {
      "cell_type": "markdown",
      "metadata": {
        "id": "aC4pQG1LKJ6S"
      },
      "source": [
        "If Python encounters an error in code during compilation, it will print the error (or exception) directly to the console. The error message provides information on the conflicting line to the user.\n",
        "\n",
        "For example,"
      ]
    },
    {
      "cell_type": "code",
      "execution_count": null,
      "metadata": {
        "id": "EiaNdTDrKJ6T",
        "outputId": "493cdcb1-f824-4bb0-a29b-4ded7c688746"
      },
      "outputs": [
        {
          "name": "stdout",
          "output_type": "stream",
          "text": [
            "15\n"
          ]
        },
        {
          "ename": "TypeError",
          "evalue": "unsupported operand type(s) for +: 'int' and 'str'",
          "output_type": "error",
          "traceback": [
            "\u001b[1;31m---------------------------------------------------------------------------\u001b[0m",
            "\u001b[1;31mTypeError\u001b[0m                                 Traceback (most recent call last)",
            "\u001b[1;32m<ipython-input-2-5c3285622dcc>\u001b[0m in \u001b[0;36m<module>\u001b[1;34m\u001b[0m\n\u001b[0;32m      4\u001b[0m \u001b[1;33m\u001b[0m\u001b[0m\n\u001b[0;32m      5\u001b[0m \u001b[0mprint\u001b[0m\u001b[1;33m(\u001b[0m\u001b[0mx\u001b[0m \u001b[1;33m+\u001b[0m \u001b[0my\u001b[0m\u001b[1;33m)\u001b[0m\u001b[1;33m\u001b[0m\u001b[1;33m\u001b[0m\u001b[0m\n\u001b[1;32m----> 6\u001b[1;33m \u001b[0mprint\u001b[0m\u001b[1;33m(\u001b[0m\u001b[0mx\u001b[0m \u001b[1;33m+\u001b[0m \u001b[0mz\u001b[0m\u001b[1;33m)\u001b[0m\u001b[1;33m\u001b[0m\u001b[1;33m\u001b[0m\u001b[0m\n\u001b[0m\u001b[0;32m      7\u001b[0m \u001b[0mprint\u001b[0m\u001b[1;33m(\u001b[0m\u001b[0mx\u001b[0m \u001b[1;33m*\u001b[0m \u001b[0my\u001b[0m\u001b[1;33m)\u001b[0m\u001b[1;33m\u001b[0m\u001b[1;33m\u001b[0m\u001b[0m\n",
            "\u001b[1;31mTypeError\u001b[0m: unsupported operand type(s) for +: 'int' and 'str'"
          ]
        }
      ],
      "source": [
        "x = 5\n",
        "y = 10\n",
        "z = 'Dog'\n",
        "\n",
        "print(x + y)\n",
        "print(x + z)\n",
        "print(x * y)"
      ]
    },
    {
      "cell_type": "markdown",
      "metadata": {
        "id": "LwAMhffkKJ6U"
      },
      "source": [
        "By inspecting the message provided by Python, we establish that it\n",
        "\n",
        "- provides information about the error (`TypeError: unsupported operand type(s) for +: 'int' and 'str'`).\n",
        "- points to the line causing the error (`----> 6 print(x + z)`).\n",
        "\n",
        "Notice that line 5 was executed (it printed out x + y `15`), but line 7 was not (it did not print x * y `50`). This is because Python halts the code execution immediately it finds an error,."
      ]
    },
    {
      "cell_type": "markdown",
      "metadata": {
        "id": "CYKHg94CKJ6U"
      },
      "source": [
        "In most cases, this information provided will be enough to debug your code. In the above example, we know that the error is in line 6, which makes the issue easy to correct."
      ]
    },
    {
      "cell_type": "code",
      "execution_count": null,
      "metadata": {
        "id": "4ploUyrDKJ6U",
        "outputId": "460965c9-dcac-48ab-b0b7-ded1a48315aa"
      },
      "outputs": [
        {
          "name": "stdout",
          "output_type": "stream",
          "text": [
            "15\n",
            "50\n"
          ]
        }
      ],
      "source": [
        "x = 5\n",
        "y = 10\n",
        "z = 'Dog'\n",
        "\n",
        "print(x + y)\n",
        "# print(x + z) # In this case, we cannot add an integer and a string; consequently, we remove the line.\n",
        "print(x * y)"
      ]
    },
    {
      "cell_type": "markdown",
      "metadata": {
        "id": "kCfBUR6XKJ6U"
      },
      "source": [
        "Alternatively, we can attempt to change the value of `z`."
      ]
    },
    {
      "cell_type": "code",
      "execution_count": null,
      "metadata": {
        "id": "yZpGXJ4kKJ6V",
        "outputId": "99830566-e045-4866-92e9-c907bd71cf5c"
      },
      "outputs": [
        {
          "name": "stdout",
          "output_type": "stream",
          "text": [
            "15\n",
            "47\n",
            "50\n"
          ]
        }
      ],
      "source": [
        "x = 5\n",
        "y = 10\n",
        "z = 42\n",
        "\n",
        "print(x + y)\n",
        "print(x + z)\n",
        "print(x * y)"
      ]
    },
    {
      "cell_type": "markdown",
      "metadata": {
        "id": "NqnmRDZzKJ6V"
      },
      "source": [
        "If the solution does not work, simply __Google__ it.\n",
        "<p align=center><img src=https://github.com/AI-Core/Content-Public/blob/main/Content/units/Essentials/7.%20Python%20programming/19.%20Debugging/images/Google_TypeError.png?raw=1 width=500></p>\n"
      ]
    },
    {
      "cell_type": "markdown",
      "metadata": {
        "id": "EKhrspwdKJ6V"
      },
      "source": [
        "If your code contains a bug, it is very likely that someone else already had that problem. Thus, to save time and find a solution, it is preferable to search for the solution online (Stack Overflow is a good resource).\n",
        "\n",
        "Note that in programming, it is conventional to refer to online resources and documentation frequently. You are not required to know all error types and their corresponding solutions.\n",
        "\n",
        "<p align=center><img src=https://github.com/AI-Core/Content-Public/blob/main/Content/units/Essentials/7.%20Python%20programming/19.%20Debugging/images/Google_10.jpg?raw=1 width=300></p>"
      ]
    },
    {
      "cell_type": "markdown",
      "metadata": {
        "id": "Ie_biIrrKJ6V"
      },
      "source": [
        "If the problem is overly complex, you might need to refine your search with more specific words. Notably, your debugging skills will improve considerably with practice, as long as you have the right mindset from the start."
      ]
    },
    {
      "cell_type": "markdown",
      "metadata": {
        "id": "bwCDynIbKJ6V"
      },
      "source": [
        "## Common Errors"
      ]
    },
    {
      "cell_type": "markdown",
      "metadata": {
        "id": "WKB7NnDJKJ6V"
      },
      "source": [
        "### NameError"
      ]
    },
    {
      "cell_type": "markdown",
      "metadata": {
        "id": "41pqGQaUKJ6V"
      },
      "source": [
        "NameError occurs when a variable is used or a function is called without definition."
      ]
    },
    {
      "cell_type": "code",
      "execution_count": null,
      "metadata": {
        "id": "_8ot7tB1KJ6V",
        "outputId": "23227f38-ae01-450f-cde4-2b5f9a555d92"
      },
      "outputs": [
        {
          "ename": "NameError",
          "evalue": "name 'y' is not defined",
          "output_type": "error",
          "traceback": [
            "\u001b[1;31m---------------------------------------------------------------------------\u001b[0m",
            "\u001b[1;31mNameError\u001b[0m                                 Traceback (most recent call last)",
            "\u001b[1;32m<ipython-input-1-87eafe7181cf>\u001b[0m in \u001b[0;36m<module>\u001b[1;34m\u001b[0m\n\u001b[1;32m----> 1\u001b[1;33m \u001b[0mx\u001b[0m \u001b[1;33m=\u001b[0m \u001b[0my\u001b[0m \u001b[1;33m+\u001b[0m \u001b[1;36m10\u001b[0m\u001b[1;33m\u001b[0m\u001b[1;33m\u001b[0m\u001b[0m\n\u001b[0m",
            "\u001b[1;31mNameError\u001b[0m: name 'y' is not defined"
          ]
        }
      ],
      "source": [
        "x = y + 10"
      ]
    },
    {
      "cell_type": "markdown",
      "metadata": {
        "id": "xl3veDSiKJ6V"
      },
      "source": [
        "#### Possible causes\n",
        "\n",
        "Spelling mistakes are a common cause of NameErrors. For example, below, we define and attempt to print a variable named `python`."
      ]
    },
    {
      "cell_type": "code",
      "execution_count": null,
      "metadata": {
        "id": "pck4PsG5KJ6W",
        "outputId": "3bf3b8db-2c72-4cbd-d8e7-533b2a354888"
      },
      "outputs": [
        {
          "ename": "NameError",
          "evalue": "name 'Python' is not defined",
          "output_type": "error",
          "traceback": [
            "\u001b[1;31m---------------------------------------------------------------------------\u001b[0m",
            "\u001b[1;31mNameError\u001b[0m                                 Traceback (most recent call last)",
            "\u001b[1;32m<ipython-input-1-a8f084a3e148>\u001b[0m in \u001b[0;36m<module>\u001b[1;34m\u001b[0m\n\u001b[0;32m      1\u001b[0m \u001b[0mpython\u001b[0m \u001b[1;33m=\u001b[0m \u001b[1;34m\"I'm 30 years old!\"\u001b[0m\u001b[1;33m\u001b[0m\u001b[1;33m\u001b[0m\u001b[0m\n\u001b[1;32m----> 2\u001b[1;33m \u001b[0mprint\u001b[0m\u001b[1;33m(\u001b[0m\u001b[0mPython\u001b[0m\u001b[1;33m)\u001b[0m\u001b[1;33m\u001b[0m\u001b[1;33m\u001b[0m\u001b[0m\n\u001b[0m",
            "\u001b[1;31mNameError\u001b[0m: name 'Python' is not defined"
          ]
        }
      ],
      "source": [
        "python = \"I'm 30 years old!\"\n",
        "print(Python)"
      ]
    },
    {
      "cell_type": "markdown",
      "metadata": {
        "id": "wtgrR2QYKJ6W"
      },
      "source": [
        "Observe that 'Python' was printed instead of 'python'. Since Python is case-sensitive, these words are not the same.\n",
        "\n",
        "Another common cause of NameErrors is declaring a variable out of scope. When a variable is defined within a function, it will remain in the scope of the function, i.e. the local scope."
      ]
    },
    {
      "cell_type": "code",
      "execution_count": null,
      "metadata": {
        "id": "MlJfDhmSKJ6W",
        "outputId": "0125e611-c240-436d-e78b-031707d061f4"
      },
      "outputs": [
        {
          "ename": "NameError",
          "evalue": "name 'x' is not defined",
          "output_type": "error",
          "traceback": [
            "\u001b[1;31m---------------------------------------------------------------------------\u001b[0m",
            "\u001b[1;31mNameError\u001b[0m                                 Traceback (most recent call last)",
            "\u001b[1;32m<ipython-input-8-66661b3b4301>\u001b[0m in \u001b[0;36m<module>\u001b[1;34m\u001b[0m\n\u001b[0;32m      2\u001b[0m     \u001b[0mx\u001b[0m \u001b[1;33m=\u001b[0m \u001b[1;34m'I am inside the function!'\u001b[0m\u001b[1;33m\u001b[0m\u001b[1;33m\u001b[0m\u001b[0m\n\u001b[0;32m      3\u001b[0m \u001b[1;33m\u001b[0m\u001b[0m\n\u001b[1;32m----> 4\u001b[1;33m \u001b[0mprint\u001b[0m\u001b[1;33m(\u001b[0m\u001b[0mx\u001b[0m\u001b[1;33m)\u001b[0m\u001b[1;33m\u001b[0m\u001b[1;33m\u001b[0m\u001b[0m\n\u001b[0m",
            "\u001b[1;31mNameError\u001b[0m: name 'x' is not defined"
          ]
        }
      ],
      "source": [
        "def dummy_func():\n",
        "    x = 'I am inside the function!'\n",
        "\n",
        "print(x)"
      ]
    },
    {
      "cell_type": "markdown",
      "metadata": {
        "id": "I5TSW5MfKJ6W"
      },
      "source": [
        "#### Debugging flow\n",
        "\n",
        "1. Read the final error in the traceback. It is a NameError that reads '`name 'x' is not defined`,' and the arrow points to line 4.\n",
        "2. Examine the spelling, and ensure that the variable name is correct.\n",
        "3. If working with functions, ensure that the variable is in the correct scope level.\n",
        "4. For the example above, you could return the value of `x`, so it becomes part of the global scope."
      ]
    },
    {
      "cell_type": "code",
      "execution_count": null,
      "metadata": {
        "id": "zWnwNzmjKJ6W",
        "outputId": "49181713-136d-4509-b2eb-cd7a40e6bae8"
      },
      "outputs": [
        {
          "name": "stdout",
          "output_type": "stream",
          "text": [
            "I am inside the function!\n"
          ]
        }
      ],
      "source": [
        "def dummy_func():\n",
        "    return 'I am inside the function!'\n",
        "\n",
        "x = dummy_func()\n",
        "print(x)"
      ]
    },
    {
      "cell_type": "markdown",
      "metadata": {
        "id": "MUrZ5SvyKJ6W"
      },
      "source": [
        "### TypeError"
      ]
    },
    {
      "cell_type": "markdown",
      "metadata": {
        "id": "ZKd_GLMTKJ6W"
      },
      "source": [
        "A TypeError is thrown when the wrong data type is used in an operation or a function."
      ]
    },
    {
      "cell_type": "markdown",
      "metadata": {
        "id": "Lo-y9J0OKJ6W"
      },
      "source": [
        "#### Possible causes"
      ]
    },
    {
      "cell_type": "markdown",
      "metadata": {
        "id": "wuZWBFQXKJ6W"
      },
      "source": [
        "The most common cause of a __TypeError__ is using a variable that cannot be processed in an operation. For example, in the code below, we attempt to print out the square of the number inputted by the user."
      ]
    },
    {
      "cell_type": "code",
      "execution_count": null,
      "metadata": {
        "id": "nkXSDoUlKJ6W",
        "outputId": "e050a9fd-ed4a-467e-cecb-44e871b765eb"
      },
      "outputs": [
        {
          "name": "stdout",
          "output_type": "stream",
          "text": [
            "2\n"
          ]
        },
        {
          "ename": "TypeError",
          "evalue": "unsupported operand type(s) for ** or pow(): 'str' and 'int'",
          "output_type": "error",
          "traceback": [
            "\u001b[1;31m---------------------------------------------------------------------------\u001b[0m",
            "\u001b[1;31mTypeError\u001b[0m                                 Traceback (most recent call last)",
            "\u001b[1;32m<ipython-input-2-014d58182033>\u001b[0m in \u001b[0;36m<module>\u001b[1;34m\u001b[0m\n\u001b[0;32m      1\u001b[0m \u001b[0mx\u001b[0m \u001b[1;33m=\u001b[0m \u001b[0minput\u001b[0m\u001b[1;33m(\u001b[0m\u001b[1;34m'Enter your number'\u001b[0m\u001b[1;33m)\u001b[0m\u001b[1;33m\u001b[0m\u001b[1;33m\u001b[0m\u001b[0m\n\u001b[0;32m      2\u001b[0m \u001b[0mprint\u001b[0m\u001b[1;33m(\u001b[0m\u001b[0mx\u001b[0m\u001b[1;33m)\u001b[0m\u001b[1;33m\u001b[0m\u001b[1;33m\u001b[0m\u001b[0m\n\u001b[1;32m----> 3\u001b[1;33m \u001b[0mprint\u001b[0m\u001b[1;33m(\u001b[0m\u001b[0mx\u001b[0m \u001b[1;33m**\u001b[0m \u001b[1;36m2\u001b[0m\u001b[1;33m)\u001b[0m\u001b[1;33m\u001b[0m\u001b[1;33m\u001b[0m\u001b[0m\n\u001b[0m",
            "\u001b[1;31mTypeError\u001b[0m: unsupported operand type(s) for ** or pow(): 'str' and 'int'"
          ]
        }
      ],
      "source": [
        "x = input('Enter your number')\n",
        "print(x)\n",
        "print(x ** 2)"
      ]
    },
    {
      "cell_type": "markdown",
      "metadata": {
        "id": "HW42RetkKJ6W"
      },
      "source": [
        "In this case, the problem arises because the input function returns a string (characters) by default. Thus, it would be equivalent to attempting to square a word.\n",
        "\n",
        "Another example is using two different data types within an operation."
      ]
    },
    {
      "cell_type": "code",
      "execution_count": null,
      "metadata": {
        "id": "p8akhkOSKJ6X",
        "outputId": "817b18db-9d67-4372-8462-cd74eebc2437"
      },
      "outputs": [
        {
          "ename": "TypeError",
          "evalue": "can only concatenate str (not \"int\") to str",
          "output_type": "error",
          "traceback": [
            "\u001b[1;31m---------------------------------------------------------------------------\u001b[0m",
            "\u001b[1;31mTypeError\u001b[0m                                 Traceback (most recent call last)",
            "\u001b[1;32m<ipython-input-6-d052e9eff03a>\u001b[0m in \u001b[0;36m<module>\u001b[1;34m\u001b[0m\n\u001b[0;32m      1\u001b[0m \u001b[0mx\u001b[0m \u001b[1;33m=\u001b[0m \u001b[1;34m'Hello'\u001b[0m\u001b[1;33m\u001b[0m\u001b[1;33m\u001b[0m\u001b[0m\n\u001b[0;32m      2\u001b[0m \u001b[0my\u001b[0m \u001b[1;33m=\u001b[0m \u001b[1;36m5\u001b[0m\u001b[1;33m\u001b[0m\u001b[1;33m\u001b[0m\u001b[0m\n\u001b[1;32m----> 3\u001b[1;33m \u001b[0mprint\u001b[0m\u001b[1;33m(\u001b[0m\u001b[0mx\u001b[0m \u001b[1;33m+\u001b[0m \u001b[0my\u001b[0m\u001b[1;33m)\u001b[0m\u001b[1;33m\u001b[0m\u001b[1;33m\u001b[0m\u001b[0m\n\u001b[0m",
            "\u001b[1;31mTypeError\u001b[0m: can only concatenate str (not \"int\") to str"
          ]
        }
      ],
      "source": [
        "x = 'Hello'\n",
        "y = 5\n",
        "print(x + y)"
      ]
    },
    {
      "cell_type": "markdown",
      "metadata": {
        "id": "C4DeNjRFKJ6X"
      },
      "source": [
        "Another common cause is accidentally replacing a Python built-in function. The `print` function is built-in; however, if replaced, `print` will assume the specified value."
      ]
    },
    {
      "cell_type": "code",
      "execution_count": null,
      "metadata": {
        "id": "h_aYDoSjKJ6X",
        "outputId": "5f324da8-6711-42b2-be37-e50b6b4c9498"
      },
      "outputs": [
        {
          "ename": "TypeError",
          "evalue": "'int' object is not callable",
          "output_type": "error",
          "traceback": [
            "\u001b[1;31m---------------------------------------------------------------------------\u001b[0m",
            "\u001b[1;31mTypeError\u001b[0m                                 Traceback (most recent call last)",
            "\u001b[1;32m<ipython-input-3-e7a974980d65>\u001b[0m in \u001b[0;36m<module>\u001b[1;34m\u001b[0m\n\u001b[0;32m      1\u001b[0m \u001b[0mprint\u001b[0m \u001b[1;33m=\u001b[0m \u001b[1;36m5\u001b[0m\u001b[1;33m\u001b[0m\u001b[1;33m\u001b[0m\u001b[0m\n\u001b[1;32m----> 2\u001b[1;33m \u001b[0mprint\u001b[0m\u001b[1;33m(\u001b[0m\u001b[1;34m'Hello World'\u001b[0m\u001b[1;33m)\u001b[0m\u001b[1;33m\u001b[0m\u001b[1;33m\u001b[0m\u001b[0m\n\u001b[0m",
            "\u001b[1;31mTypeError\u001b[0m: 'int' object is not callable"
          ]
        }
      ],
      "source": [
        "print = 5\n",
        "print('Hello World')"
      ]
    },
    {
      "cell_type": "markdown",
      "metadata": {
        "id": "9T6jNJRLKJ6X"
      },
      "source": [
        "As shown, the returned error message informs us that we cannot __'call'__ for an integer, indicating that an integer is not a function."
      ]
    },
    {
      "cell_type": "markdown",
      "metadata": {
        "id": "tSOPkxzDKJ6X"
      },
      "source": [
        "#### Debuging flow\n",
        "\n",
        "1. Read the final error in the traceback. It is a __TypeError__ that reads `'int' object is not callable`, and the arrow points to line 2.\n",
        "2. Examine the data type you are using.\n",
        "3. Determine the variable that is causing the issue. In this case, the problem is `print`, which has become an integer.\n",
        "4. Determine where the value of `print` was changed.\n",
        "\n",
        "As the name suggests, the main problem with a __TypeError__ is the data type of the variable used. The type of each variable can be determined using the `type()` function."
      ]
    },
    {
      "cell_type": "code",
      "execution_count": null,
      "metadata": {
        "id": "7cmXzLU4KJ6X",
        "outputId": "7fcfccd5-3776-4e15-b86f-db74de54c657"
      },
      "outputs": [
        {
          "name": "stdout",
          "output_type": "stream",
          "text": [
            "The type of x is <class 'str'>\n",
            "The type of y is <class 'int'>\n",
            "4\n"
          ]
        }
      ],
      "source": [
        "x = input('Enter your number')\n",
        "print(f'The type of x is {type(x)}')\n",
        "y = int(x)\n",
        "print(f'The type of y is {type(y)}')\n",
        "print(y ** 2)"
      ]
    },
    {
      "cell_type": "markdown",
      "metadata": {
        "id": "285aYL-MKJ6X"
      },
      "source": [
        "### ValueError"
      ]
    },
    {
      "cell_type": "markdown",
      "metadata": {
        "id": "YpVHbXmhKJ6X"
      },
      "source": [
        "\n",
        "ValueError occurs when an inappropriate value is used with the right data type for an operation or function."
      ]
    },
    {
      "cell_type": "markdown",
      "metadata": {
        "id": "JAAcBemoKJ6X"
      },
      "source": [
        "#### Possible causes\n",
        "\n",
        "One of the most common causes is casting a string to an integer, and passing a string that does not represent an integer."
      ]
    },
    {
      "cell_type": "code",
      "execution_count": null,
      "metadata": {
        "id": "XGZ7qN_9KJ6a",
        "outputId": "e3c634cb-4dff-42d0-82d8-dff876b4319d"
      },
      "outputs": [
        {
          "name": "stdout",
          "output_type": "stream",
          "text": [
            "The type of x is <class 'str'>\n",
            "The type of y is <class 'int'>\n"
          ]
        }
      ],
      "source": [
        "x = '2'\n",
        "print(f'The type of x is {type(x)}')\n",
        "y = int(x)\n",
        "print(f'The type of y is {type(y)}')"
      ]
    },
    {
      "cell_type": "markdown",
      "metadata": {
        "id": "ZLtSP7mWKJ6a"
      },
      "source": [
        "The code above works; however, consider the following:"
      ]
    },
    {
      "cell_type": "code",
      "execution_count": null,
      "metadata": {
        "id": "G7dMEdYkKJ6a",
        "outputId": "1bb785b8-87d1-4c3c-8ae9-9aaab1903be4"
      },
      "outputs": [
        {
          "name": "stdout",
          "output_type": "stream",
          "text": [
            "The type of x is <class 'str'>\n"
          ]
        },
        {
          "ename": "ValueError",
          "evalue": "invalid literal for int() with base 10: 'Dog'",
          "output_type": "error",
          "traceback": [
            "\u001b[1;31m---------------------------------------------------------------------------\u001b[0m",
            "\u001b[1;31mValueError\u001b[0m                                Traceback (most recent call last)",
            "\u001b[1;32m<ipython-input-3-4d9f42a11682>\u001b[0m in \u001b[0;36m<module>\u001b[1;34m\u001b[0m\n\u001b[0;32m      1\u001b[0m \u001b[0mx\u001b[0m \u001b[1;33m=\u001b[0m \u001b[1;34m'Dog'\u001b[0m\u001b[1;33m\u001b[0m\u001b[1;33m\u001b[0m\u001b[0m\n\u001b[0;32m      2\u001b[0m \u001b[0mprint\u001b[0m\u001b[1;33m(\u001b[0m\u001b[1;34mf'The type of x is {type(x)}'\u001b[0m\u001b[1;33m)\u001b[0m\u001b[1;33m\u001b[0m\u001b[1;33m\u001b[0m\u001b[0m\n\u001b[1;32m----> 3\u001b[1;33m \u001b[0my\u001b[0m \u001b[1;33m=\u001b[0m \u001b[0mint\u001b[0m\u001b[1;33m(\u001b[0m\u001b[0mx\u001b[0m\u001b[1;33m)\u001b[0m\u001b[1;33m\u001b[0m\u001b[1;33m\u001b[0m\u001b[0m\n\u001b[0m\u001b[0;32m      4\u001b[0m \u001b[0mprint\u001b[0m\u001b[1;33m(\u001b[0m\u001b[1;34mf'The type of y is {type(y)}'\u001b[0m\u001b[1;33m)\u001b[0m\u001b[1;33m\u001b[0m\u001b[1;33m\u001b[0m\u001b[0m\n",
            "\u001b[1;31mValueError\u001b[0m: invalid literal for int() with base 10: 'Dog'"
          ]
        }
      ],
      "source": [
        "x = 'Dog'\n",
        "print(f'The type of x is {type(x)}')\n",
        "y = int(x)\n",
        "print(f'The type of y is {type(y)}')"
      ]
    },
    {
      "cell_type": "markdown",
      "metadata": {
        "id": "wS-neAymKJ6a"
      },
      "source": [
        "As the error message explains, the value passed to the `int` function is not valid because it does not represent a number.\n",
        "\n",
        "#### Debugging flow\n",
        "\n",
        "1. Read the final error in the traceback. It is a __ValueError__ that reads `invalid literal for int() with base 10: 'Dog'`, and the arrow points to line 3.\n",
        "2. Examine the __value__ passing to the function, in this case, `Dog`.\n",
        "3. Ensure that the appropriate function or the correct value is applied."
      ]
    },
    {
      "cell_type": "markdown",
      "metadata": {
        "id": "0hN5GIVCKJ6a"
      },
      "source": [
        "\n",
        "ValueErrors are often defined by the developers when creating their applications. This way, they can prevent programmers from using values that will not work with their application.\n",
        "\n",
        "Consider another example:"
      ]
    },
    {
      "cell_type": "code",
      "execution_count": null,
      "metadata": {
        "id": "Zt-D9XtoKJ6a",
        "outputId": "9ffddefe-4a88-49d1-c7d6-3c8ef6a93f73"
      },
      "outputs": [
        {
          "ename": "ValueError",
          "evalue": "math domain error",
          "output_type": "error",
          "traceback": [
            "\u001b[1;31m---------------------------------------------------------------------------\u001b[0m",
            "\u001b[1;31mValueError\u001b[0m                                Traceback (most recent call last)",
            "\u001b[1;32m<ipython-input-4-ed311b1c5dd9>\u001b[0m in \u001b[0;36m<module>\u001b[1;34m\u001b[0m\n\u001b[0;32m      1\u001b[0m \u001b[1;32mimport\u001b[0m \u001b[0mmath\u001b[0m\u001b[1;33m\u001b[0m\u001b[1;33m\u001b[0m\u001b[0m\n\u001b[1;32m----> 2\u001b[1;33m \u001b[0mmath\u001b[0m\u001b[1;33m.\u001b[0m\u001b[0msqrt\u001b[0m\u001b[1;33m(\u001b[0m\u001b[1;33m-\u001b[0m\u001b[1;36m1\u001b[0m\u001b[1;33m)\u001b[0m\u001b[1;33m\u001b[0m\u001b[1;33m\u001b[0m\u001b[0m\n\u001b[0m",
            "\u001b[1;31mValueError\u001b[0m: math domain error"
          ]
        }
      ],
      "source": [
        "import math\n",
        "math.sqrt(-1)"
      ]
    },
    {
      "cell_type": "markdown",
      "metadata": {
        "id": "9U5wftvqKJ6a"
      },
      "source": [
        "#### Debugging flow\n",
        "\n",
        "1. Read the final error in the traceback. It is a __ValueError__ that reads '`math domain error`', and the arrow points to line 2.\n",
        "2. Examine the __value__ passed to the function. In this case, we are attempting to calculate the square root of `-1`.\n",
        "3. You can either change the value of the variable or find another function that can calculate the square root of a negative number.\n",
        "\n",
        "For the latter option,\n",
        "Google it.\n",
        "<p align=center><img src=https://github.com/AI-Core/Content-Public/blob/main/Content/units/Essentials/7.%20Python%20programming/19.%20Debugging/images/Google_1.png?raw=1 width=500></p>\n",
        "If that does not work, explore different keywords.\n",
        "<p align=center><img src=https://github.com/AI-Core/Content-Public/blob/main/Content/units/Essentials/7.%20Python%20programming/19.%20Debugging/images/Google_2.png?raw=1 width=500></p>"
      ]
    },
    {
      "cell_type": "markdown",
      "metadata": {
        "id": "nmKw_kUlKJ6a"
      },
      "source": [
        "Afterwards, try the found solution."
      ]
    },
    {
      "cell_type": "code",
      "execution_count": null,
      "metadata": {
        "id": "8wq1HkPCKJ6a",
        "outputId": "0b0b8aad-ebe5-419d-aa86-0ca9e8f9bf33"
      },
      "outputs": [
        {
          "data": {
            "text/plain": [
              "1j"
            ]
          },
          "execution_count": 4,
          "metadata": {},
          "output_type": "execute_result"
        }
      ],
      "source": [
        "import cmath\n",
        "cmath.sqrt(-1)"
      ]
    },
    {
      "cell_type": "markdown",
      "metadata": {
        "id": "CY0oq9vyKJ6b"
      },
      "source": [
        "Here, the solution works. However, if it does not in your case, keep refining your search until you find the right answer."
      ]
    },
    {
      "cell_type": "markdown",
      "metadata": {
        "id": "xvqUy9ieKJ6b"
      },
      "source": [
        "### SyntaxError"
      ]
    },
    {
      "cell_type": "markdown",
      "metadata": {
        "id": "EiXK5VFmKJ6b"
      },
      "source": [
        "A SyntaxError is thrown when Python finds a syntax error."
      ]
    },
    {
      "cell_type": "markdown",
      "metadata": {
        "id": "5JcI6YisKJ6b"
      },
      "source": [
        "#### Possible causes\n",
        "One of the most common causes is omitting closing brackets or quotes."
      ]
    },
    {
      "cell_type": "code",
      "execution_count": null,
      "metadata": {
        "id": "660FsooXKJ6b",
        "outputId": "f55f650c-6bfb-40b8-bfa9-e6c0b3e6f52c"
      },
      "outputs": [
        {
          "ename": "SyntaxError",
          "evalue": "EOL while scanning string literal (<ipython-input-7-6e6ee195e71c>, line 1)",
          "output_type": "error",
          "traceback": [
            "\u001b[1;36m  File \u001b[1;32m\"<ipython-input-7-6e6ee195e71c>\"\u001b[1;36m, line \u001b[1;32m1\u001b[0m\n\u001b[1;33m    x = 'Hello\u001b[0m\n\u001b[1;37m              ^\u001b[0m\n\u001b[1;31mSyntaxError\u001b[0m\u001b[1;31m:\u001b[0m EOL while scanning string literal\n"
          ]
        }
      ],
      "source": [
        "x = 'Hello"
      ]
    },
    {
      "cell_type": "code",
      "execution_count": null,
      "metadata": {
        "id": "eVvb_9X_KJ6b",
        "outputId": "6e38968b-15f0-4f9b-f95f-fb32b60cdfe5"
      },
      "outputs": [
        {
          "ename": "SyntaxError",
          "evalue": "unexpected EOF while parsing (<ipython-input-8-1a1cdaf4f567>, line 1)",
          "output_type": "error",
          "traceback": [
            "\u001b[1;36m  File \u001b[1;32m\"<ipython-input-8-1a1cdaf4f567>\"\u001b[1;36m, line \u001b[1;32m1\u001b[0m\n\u001b[1;33m    y = (5 + 3\u001b[0m\n\u001b[1;37m              ^\u001b[0m\n\u001b[1;31mSyntaxError\u001b[0m\u001b[1;31m:\u001b[0m unexpected EOF while parsing\n"
          ]
        }
      ],
      "source": [
        "y = (5 + 3"
      ]
    },
    {
      "cell_type": "markdown",
      "metadata": {
        "id": "iS6L2ikJKJ6b"
      },
      "source": [
        "#### Debugging flow"
      ]
    },
    {
      "cell_type": "markdown",
      "metadata": {
        "id": "ADL17dVjKJ6b"
      },
      "source": [
        "1. Read the final error in the traceback. It is a __ValueError__ that reads '`unexpected EOF while parsing`', and the arrow points to line 1.\n",
        "2. If you are unsure about the meaning of the error, Google it.\n",
        "<p align=center><img src=https://github.com/AI-Core/Content-Public/blob/main/Content/units/Essentials/7.%20Python%20programming/19.%20Debugging/images/Google_EOF.png?raw=1 width=500></p>\n",
        "3. Based on the search, we can see that EOF means end of file, and it is thrown when there is a mistake in the syntax. Thus, go to line 1 and correct the mistake."
      ]
    },
    {
      "cell_type": "code",
      "execution_count": null,
      "metadata": {
        "id": "9bygTSoHKJ6b"
      },
      "outputs": [],
      "source": [
        "y = ((5 + 3) / 2)"
      ]
    },
    {
      "cell_type": "markdown",
      "metadata": {
        "id": "mmd9Kc9xKJ6c"
      },
      "source": [
        "*Tip*\n",
        "\n",
        "Observe that when the cursor is next to the right bracket, the corresponding bracket (leftmost) is highlighted. Conversely, if the cursor is next to one of the inner brackets, the corresponding inner bracket is highlighted. This tip can aid you in preventing syntax errors.\n",
        "\n",
        "<p align=center><img src=https://github.com/AI-Core/Content-Public/blob/main/Content/units/Essentials/7.%20Python%20programming/19.%20Debugging/images/outer.png?raw=1 width=200> <img src=https://github.com/AI-Core/Content-Public/blob/main/Content/units/Essentials/7.%20Python%20programming/19.%20Debugging/images/inner.png?raw=1 width=200></p>"
      ]
    },
    {
      "cell_type": "markdown",
      "metadata": {
        "id": "nBRaWrBxKJ6c"
      },
      "source": [
        "### IndexError and KeyError"
      ]
    },
    {
      "cell_type": "markdown",
      "metadata": {
        "id": "w_1hTiLJKJ6c"
      },
      "source": [
        "#### Possible causes"
      ]
    },
    {
      "cell_type": "markdown",
      "metadata": {
        "id": "lfEAH0sJKJ6c"
      },
      "source": [
        "These errors occur when attempting to access an element that is out of range (`IndexError`) or when using a non-existent key in a dictionary (`KeyError`)."
      ]
    },
    {
      "cell_type": "code",
      "execution_count": null,
      "metadata": {
        "id": "ZpdO0kZdKJ6c",
        "outputId": "553a5a1d-d2c2-4b11-8dba-7ea6d70d5a01"
      },
      "outputs": [
        {
          "ename": "IndexError",
          "evalue": "list index out of range",
          "output_type": "error",
          "traceback": [
            "\u001b[1;31m---------------------------------------------------------------------------\u001b[0m",
            "\u001b[1;31mIndexError\u001b[0m                                Traceback (most recent call last)",
            "\u001b[1;32m<ipython-input-14-fb13742f3dd5>\u001b[0m in \u001b[0;36m<module>\u001b[1;34m\u001b[0m\n\u001b[0;32m      1\u001b[0m \u001b[0mls\u001b[0m \u001b[1;33m=\u001b[0m \u001b[1;33m[\u001b[0m\u001b[1;36m1\u001b[0m\u001b[1;33m,\u001b[0m \u001b[1;36m2\u001b[0m\u001b[1;33m,\u001b[0m \u001b[1;36m3\u001b[0m\u001b[1;33m]\u001b[0m\u001b[1;33m\u001b[0m\u001b[1;33m\u001b[0m\u001b[0m\n\u001b[1;32m----> 2\u001b[1;33m \u001b[0mls\u001b[0m\u001b[1;33m[\u001b[0m\u001b[1;36m3\u001b[0m\u001b[1;33m]\u001b[0m\u001b[1;33m\u001b[0m\u001b[1;33m\u001b[0m\u001b[0m\n\u001b[0m",
            "\u001b[1;31mIndexError\u001b[0m: list index out of range"
          ]
        }
      ],
      "source": [
        "ls = [1, 2, 3]\n",
        "ls[3]"
      ]
    },
    {
      "cell_type": "markdown",
      "metadata": {
        "id": "wGwAvagoKJ6c"
      },
      "source": [
        "Recall that Python is zero-indexed; therefore, this error is thrown because index 3 points to the fourth element, which is nonexistent in `ls`."
      ]
    },
    {
      "cell_type": "code",
      "execution_count": null,
      "metadata": {
        "id": "B3ILezm5KJ6c",
        "outputId": "f1b4e50c-5552-4cb0-bc38-54f721fbfb21"
      },
      "outputs": [
        {
          "ename": "KeyError",
          "evalue": "'Age'",
          "output_type": "error",
          "traceback": [
            "\u001b[1;31m---------------------------------------------------------------------------\u001b[0m",
            "\u001b[1;31mKeyError\u001b[0m                                  Traceback (most recent call last)",
            "\u001b[1;32m<ipython-input-15-f7fae62e8e3d>\u001b[0m in \u001b[0;36m<module>\u001b[1;34m\u001b[0m\n\u001b[0;32m      1\u001b[0m \u001b[0mmy_dict\u001b[0m \u001b[1;33m=\u001b[0m \u001b[1;33m{\u001b[0m\u001b[1;34m'Name'\u001b[0m\u001b[1;33m:\u001b[0m \u001b[1;34m'Walter White'\u001b[0m\u001b[1;33m,\u001b[0m \u001b[1;34m'Occupation'\u001b[0m\u001b[1;33m:\u001b[0m \u001b[1;34m'Cook'\u001b[0m\u001b[1;33m}\u001b[0m\u001b[1;33m\u001b[0m\u001b[1;33m\u001b[0m\u001b[0m\n\u001b[1;32m----> 2\u001b[1;33m \u001b[0mmy_dict\u001b[0m\u001b[1;33m[\u001b[0m\u001b[1;34m'Age'\u001b[0m\u001b[1;33m]\u001b[0m\u001b[1;33m\u001b[0m\u001b[1;33m\u001b[0m\u001b[0m\n\u001b[0m",
            "\u001b[1;31mKeyError\u001b[0m: 'Age'"
          ]
        }
      ],
      "source": [
        "my_dict = {'Name': 'Walter White', 'Occupation': 'Cook'}\n",
        "my_dict['Age']"
      ]
    },
    {
      "cell_type": "markdown",
      "metadata": {
        "id": "BM1G2SXhKJ6c"
      },
      "source": [
        "We can observe that `my_dict` does not have a key named `Age`; therefore, Python will throw an error. This should not be confused with assigning a value to a non-existent key, in which case a new key will simply be added to the dictionary:"
      ]
    },
    {
      "cell_type": "code",
      "execution_count": null,
      "metadata": {
        "id": "cPE9gG-tKJ6c",
        "outputId": "74fa2b1c-f688-4186-fbf1-59bd6bd19b1c"
      },
      "outputs": [
        {
          "name": "stdout",
          "output_type": "stream",
          "text": [
            "{'Name': 'Walter White', 'Occupation': 'Cook', 'Age': 52}\n"
          ]
        }
      ],
      "source": [
        "my_dict = {'Name': 'Walter White', 'Occupation': 'Cook'}\n",
        "my_dict['Age'] = 52\n",
        "print(my_dict)"
      ]
    },
    {
      "cell_type": "markdown",
      "metadata": {
        "id": "1fgD-HT5KJ6c"
      },
      "source": [
        "#### Debugging flow"
      ]
    },
    {
      "cell_type": "markdown",
      "metadata": {
        "id": "4AdCRCqJKJ6c"
      },
      "source": [
        "IndexErrors and KeyErrors are quite common, particularly at the beginning of a programmer's journey; however, they are simple to resolve. Consider the below IndexError message:"
      ]
    },
    {
      "cell_type": "code",
      "execution_count": null,
      "metadata": {
        "id": "XAH-uwgYKJ6d",
        "outputId": "edcd62e6-cea9-4621-f54b-b8867273feac"
      },
      "outputs": [
        {
          "ename": "IndexError",
          "evalue": "list index out of range",
          "output_type": "error",
          "traceback": [
            "\u001b[1;31m---------------------------------------------------------------------------\u001b[0m",
            "\u001b[1;31mIndexError\u001b[0m                                Traceback (most recent call last)",
            "\u001b[1;32m<ipython-input-5-fb13742f3dd5>\u001b[0m in \u001b[0;36m<module>\u001b[1;34m\u001b[0m\n\u001b[0;32m      1\u001b[0m \u001b[0mls\u001b[0m \u001b[1;33m=\u001b[0m \u001b[1;33m[\u001b[0m\u001b[1;36m1\u001b[0m\u001b[1;33m,\u001b[0m \u001b[1;36m2\u001b[0m\u001b[1;33m,\u001b[0m \u001b[1;36m3\u001b[0m\u001b[1;33m]\u001b[0m\u001b[1;33m\u001b[0m\u001b[1;33m\u001b[0m\u001b[0m\n\u001b[1;32m----> 2\u001b[1;33m \u001b[0mls\u001b[0m\u001b[1;33m[\u001b[0m\u001b[1;36m3\u001b[0m\u001b[1;33m]\u001b[0m\u001b[1;33m\u001b[0m\u001b[1;33m\u001b[0m\u001b[0m\n\u001b[0m",
            "\u001b[1;31mIndexError\u001b[0m: list index out of range"
          ]
        }
      ],
      "source": [
        "ls = [1, 2, 3]\n",
        "ls[3]"
      ]
    },
    {
      "cell_type": "markdown",
      "metadata": {
        "id": "ja6hfSEvKJ6d"
      },
      "source": [
        "1. Read the final error in the traceback. It is an __IndexError__ that reads '`list index out of range`', and the arrow points to line 2.\n",
        "2. Ensure that your list (or other sequential data structure) contains the index that you are attempting to access. The number of elements in the list can be determined using the `len` function."
      ]
    },
    {
      "cell_type": "code",
      "execution_count": null,
      "metadata": {
        "id": "k9YEjJy1KJ6d",
        "outputId": "39da0cb5-40ff-4d7c-f502-c8d66bfbd26d"
      },
      "outputs": [
        {
          "name": "stdout",
          "output_type": "stream",
          "text": [
            "3\n"
          ]
        }
      ],
      "source": [
        "ls = [1, 2, 3]\n",
        "print(len(ls))"
      ]
    },
    {
      "cell_type": "markdown",
      "metadata": {
        "id": "9gHkf-K8KJ6d"
      },
      "source": [
        "Thus, the last accessible __index__ is __2__ `(length of list - 1)`.\n",
        "\n",
        "As a dictionary example, consider the following:"
      ]
    },
    {
      "cell_type": "code",
      "execution_count": null,
      "metadata": {
        "id": "VKGBvs26KJ6d",
        "outputId": "9229016e-fb33-4cb1-eb94-f90021750584"
      },
      "outputs": [
        {
          "ename": "KeyError",
          "evalue": "'Age'",
          "output_type": "error",
          "traceback": [
            "\u001b[1;31m---------------------------------------------------------------------------\u001b[0m",
            "\u001b[1;31mKeyError\u001b[0m                                  Traceback (most recent call last)",
            "\u001b[1;32m<ipython-input-6-f7fae62e8e3d>\u001b[0m in \u001b[0;36m<module>\u001b[1;34m\u001b[0m\n\u001b[0;32m      1\u001b[0m \u001b[0mmy_dict\u001b[0m \u001b[1;33m=\u001b[0m \u001b[1;33m{\u001b[0m\u001b[1;34m'Name'\u001b[0m\u001b[1;33m:\u001b[0m \u001b[1;34m'Walter White'\u001b[0m\u001b[1;33m,\u001b[0m \u001b[1;34m'Occupation'\u001b[0m\u001b[1;33m:\u001b[0m \u001b[1;34m'Cook'\u001b[0m\u001b[1;33m}\u001b[0m\u001b[1;33m\u001b[0m\u001b[1;33m\u001b[0m\u001b[0m\n\u001b[1;32m----> 2\u001b[1;33m \u001b[0mmy_dict\u001b[0m\u001b[1;33m[\u001b[0m\u001b[1;34m'Age'\u001b[0m\u001b[1;33m]\u001b[0m\u001b[1;33m\u001b[0m\u001b[1;33m\u001b[0m\u001b[0m\n\u001b[0m",
            "\u001b[1;31mKeyError\u001b[0m: 'Age'"
          ]
        }
      ],
      "source": [
        "my_dict = {'Name': 'Walter White', 'Occupation': 'Cook'}\n",
        "my_dict['Age']"
      ]
    },
    {
      "cell_type": "markdown",
      "metadata": {
        "id": "cI5OW67fKJ6d"
      },
      "source": [
        "1. Read the final error in the traceback. It is a __KeyError__ that reads `'Age'`, and the arrow points to line 2.\n",
        "2. 'Age' is the name of the non-existent key.\n",
        "3. The keys in the dictionary can be inspected using the `keys()` method."
      ]
    },
    {
      "cell_type": "code",
      "execution_count": null,
      "metadata": {
        "id": "cUXMWgL3KJ6d",
        "outputId": "ab915261-9e4f-4b94-dd64-b7c0b1f15797"
      },
      "outputs": [
        {
          "name": "stdout",
          "output_type": "stream",
          "text": [
            "dict_keys(['Name', 'Occupation'])\n"
          ]
        }
      ],
      "source": [
        "my_dict = {'Name': 'Walter White', 'Occupation': 'Cook'}\n",
        "print(my_dict.keys())"
      ]
    },
    {
      "cell_type": "markdown",
      "metadata": {
        "id": "N6uzgauAKJ6d"
      },
      "source": [
        "4. Add the key to the dictionary or ensure that it is correct."
      ]
    },
    {
      "cell_type": "markdown",
      "metadata": {
        "id": "JjXsAmLoKJ6d"
      },
      "source": [
        "### AttributeError"
      ]
    },
    {
      "cell_type": "markdown",
      "metadata": {
        "id": "-IBbLgJ4KJ6d"
      },
      "source": [
        "This error is thrown when attempting to access an attribute or a method in an object in which it does not exist."
      ]
    },
    {
      "cell_type": "markdown",
      "metadata": {
        "id": "Bga50c-uKJ6d"
      },
      "source": [
        "#### Possible causes\n",
        "This error occurs mostly when an inappropriate wrong method is used with a data type. For example, dictionaries have the `keys()` method, while lists do not."
      ]
    },
    {
      "cell_type": "code",
      "execution_count": null,
      "metadata": {
        "id": "4tojb_jyKJ6e",
        "outputId": "77be1987-69e2-4f10-8d68-c3ae2e12c36d"
      },
      "outputs": [
        {
          "ename": "AttributeError",
          "evalue": "'list' object has no attribute 'keys'",
          "output_type": "error",
          "traceback": [
            "\u001b[1;31m---------------------------------------------------------------------------\u001b[0m",
            "\u001b[1;31mAttributeError\u001b[0m                            Traceback (most recent call last)",
            "\u001b[1;32m<ipython-input-21-cf39c5813e09>\u001b[0m in \u001b[0;36m<module>\u001b[1;34m\u001b[0m\n\u001b[0;32m      1\u001b[0m \u001b[0mls\u001b[0m \u001b[1;33m=\u001b[0m \u001b[1;33m[\u001b[0m\u001b[1;36m1\u001b[0m\u001b[1;33m,\u001b[0m \u001b[1;36m2\u001b[0m\u001b[1;33m,\u001b[0m \u001b[1;36m3\u001b[0m\u001b[1;33m]\u001b[0m\u001b[1;33m\u001b[0m\u001b[1;33m\u001b[0m\u001b[0m\n\u001b[1;32m----> 2\u001b[1;33m \u001b[0mls\u001b[0m\u001b[1;33m.\u001b[0m\u001b[0mkeys\u001b[0m\u001b[1;33m(\u001b[0m\u001b[1;33m)\u001b[0m\u001b[1;33m\u001b[0m\u001b[1;33m\u001b[0m\u001b[0m\n\u001b[0m",
            "\u001b[1;31mAttributeError\u001b[0m: 'list' object has no attribute 'keys'"
          ]
        }
      ],
      "source": [
        "ls = [1, 2, 3]\n",
        "ls.keys()"
      ]
    },
    {
      "cell_type": "markdown",
      "metadata": {
        "id": "4RZHzGIyKJ6e"
      },
      "source": [
        "#### Debugging flow"
      ]
    },
    {
      "cell_type": "markdown",
      "metadata": {
        "id": "0Bd0ud6cKJ6e"
      },
      "source": [
        "1. Read the final error in the traceback. It is an __AttributeError__ that reads, `'list' object has no attribute 'keys'`, and the arrow points to line 2.\n",
        "2. Check the methods associated with the data type. If working in a modern IDE, such as VSCode, you can press Ctrl + Space to see the available methods and attributes. For this to work, an internet connection might be required.\n",
        "<p align=center><img src=https://github.com/AI-Core/Content-Public/blob/main/Content/units/Essentials/7.%20Python%20programming/19.%20Debugging/images/attributeerror.png?raw=1 width=400></p>\n",
        "\n",
        "3. If you are unsure about the methods that a specific data type has, Google it.\n",
        "<p align=center><img src=https://github.com/AI-Core/Content-Public/blob/main/Content/units/Essentials/7.%20Python%20programming/19.%20Debugging/images/Google_dict_methods.png?raw=1 width=400></p>"
      ]
    },
    {
      "cell_type": "markdown",
      "metadata": {
        "id": "d2m-8XVDKJ6e"
      },
      "source": [
        "This way, you can guarantee that you use a method that the variable does have. Additionally, you can explore the Python documentation to determine the methods that these data structures have. Check out this [page](https://docs.python.org/3/tutorial/datastructures.html) for more information."
      ]
    },
    {
      "cell_type": "markdown",
      "metadata": {
        "id": "9MRtdBn3KJ6e"
      },
      "source": [
        "## Hidden Bugs"
      ]
    },
    {
      "cell_type": "markdown",
      "metadata": {
        "id": "mWyAckV3KJ6e"
      },
      "source": [
        "There are situations where your code does not generate the expected output and also does not throw any error. For example, in the following code, our __initial__ intention is to multiply each number by 2:"
      ]
    },
    {
      "cell_type": "code",
      "execution_count": null,
      "metadata": {
        "id": "RYBX7AYqKJ6e",
        "outputId": "df9b3f5a-b5aa-452f-c66b-012c3f02813f"
      },
      "outputs": [
        {
          "name": "stdout",
          "output_type": "stream",
          "text": [
            "[1, 2, 3, 1, 2, 3]\n"
          ]
        }
      ],
      "source": [
        "x = [1, 2, 3]\n",
        "print(x * 2)"
      ]
    },
    {
      "cell_type": "markdown",
      "metadata": {
        "id": "WfXhZw9WKJ6e"
      },
      "source": [
        "Evidently, no error is thrown; however, we do not obtain the expected output. Eventually, you will learn how to multiply each element in a list; alternatively, you can follow the same steps discussed in this notebook.\n",
        "\n",
        "<p align=center><img src=https://github.com/AI-Core/Content-Public/blob/main/Content/units/Essentials/7.%20Python%20programming/19.%20Debugging/images/Google_list.png?raw=1 width=400></p>"
      ]
    },
    {
      "cell_type": "code",
      "execution_count": null,
      "metadata": {
        "id": "QAPhnGiLKJ6e",
        "outputId": "b0ebfd65-2d4b-4397-e816-99b27b5c3e34"
      },
      "outputs": [
        {
          "name": "stdout",
          "output_type": "stream",
          "text": [
            "[2, 4, 6]\n"
          ]
        }
      ],
      "source": [
        "x = [1, 2, 3]\n",
        "multiplied_list = [element * 2 for element in x]\n",
        "print(multiplied_list)"
      ]
    },
    {
      "cell_type": "markdown",
      "metadata": {
        "id": "VLcvgJ6OKJ6e"
      },
      "source": [
        "## Summary"
      ]
    },
    {
      "cell_type": "markdown",
      "metadata": {
        "id": "bKPTrJznKJ6e"
      },
      "source": [
        "We introduced the most common errors you are likely to encounter. Eventually, you will encounter more errors, about which you can find more information [here](https://docs.python.org/3/library/exceptions.html).\n",
        "\n",
        "In a nutshell, if you have an error output, follow these steps:\n",
        "1. Read the error message, and attempt to solve it based on the error output.\n",
        "2. If you cannot solve it, Google the problem.\n",
        "3. If that does not work, refine your search keywords.\n",
        "4. Attempt the solutions you find in your searches, and keep refining your keywords.\n",
        "5. If the above does not work, ask your instructor for help.\n",
        "\n",
        "By repeating this process, you will gradually acquire the skill of writing good code with a few errors.\n",
        "\n",
        "\n",
        "Throughout this lesson, we discussed the steps to take when an error presents. However, endeavour to be flexible, and note that the steps outlined here are not a universal solution for all errors.\n",
        "\n",
        "Proactiveness is an important quality for a programmer. When faced with hindrances, endeavour to find the solution and not commit the same mistake again. As mentioned previously, your overall programming and debugging skills will improve with practice.\n",
        "\n",
        "> <font size=+1> Starting with the right mindset will save you a considerable amount of time.</font>"
      ]
    },
    {
      "cell_type": "markdown",
      "metadata": {
        "id": "UVi4uDweKJ6f"
      },
      "source": [
        "## Using the Debugger"
      ]
    },
    {
      "cell_type": "markdown",
      "metadata": {
        "id": "vXtuG444KJ6f"
      },
      "source": [
        "If working in an IDE, you can debug your code using the integrated debugger. This should be used for really complex problems. The debugger can be used in both notebooks and scripts. Run the next cell to download a file named `example.py`, where you can run the debugger. If using VSCode, you can go to `Run` and click `Start Debugging`. For other IDEs, check the corresponding documentation."
      ]
    },
    {
      "cell_type": "code",
      "execution_count": null,
      "metadata": {
        "id": "CvmUAMTwKJ6f"
      },
      "outputs": [],
      "source": [
        "!wget https://aicore-files.s3.amazonaws.com/Foundations/Python_Programming/example.py"
      ]
    },
    {
      "cell_type": "markdown",
      "metadata": {
        "id": "G-jo5olFKJ6f"
      },
      "source": [
        "Most times, a debugger is not necessary. You can find the root cause of the problem quickly by simply adding print statements and working your way back. However, it is useful to know that it exists should you ever hit a wall."
      ]
    },
    {
      "cell_type": "markdown",
      "metadata": {
        "id": "43c1lSWIKJ6f"
      },
      "source": [
        "In the debugger mode, you can determine what point to stop and check the status of your code. These 'stops' are called break points. They are particularly useful when the flow of the code is not linear and you are attempting to pinpoint the origin of the unexpected behaviour."
      ]
    },
    {
      "cell_type": "markdown",
      "metadata": {
        "id": "S1m93-B-KJ6f"
      },
      "source": [
        "<p align=center><img src=https://github.com/AI-Core/Content-Public/blob/main/Content/units/Essentials/7.%20Python%20programming/19.%20Debugging/images/debugger.png?raw=1 width=500></p>"
      ]
    },
    {
      "cell_type": "markdown",
      "metadata": {
        "id": "TWt3liLtKJ6f"
      },
      "source": [
        "As shown in the figure above, the Debug Console is located at the bottom. In it, you can determine the values of variables and perform operations with the variables corresponding to the break points."
      ]
    },
    {
      "cell_type": "markdown",
      "metadata": {
        "id": "j5mOC6fJKJ6f"
      },
      "source": [
        "## Conclusion\n",
        "At this point, you should have a good understanding of"
      ]
    },
    {
      "cell_type": "markdown",
      "metadata": {
        "id": "PPlBXaEDKJ6f"
      },
      "source": [
        "- how to read errors in the console.\n",
        "- the steps to take when addressing an error.\n",
        "- the most common errors in Python and their solutions.\n",
        "- how to use the debugger."
      ]
    }
  ],
  "metadata": {
    "interpreter": {
      "hash": "ad8bebc098a042dc0df4e42fc2ecc8fff0bd7b8741641ce29007c29766dadbe0"
    },
    "kernelspec": {
      "display_name": "Python 3.9.1 64-bit ('base': conda)",
      "name": "python3"
    },
    "language_info": {
      "codemirror_mode": {
        "name": "ipython",
        "version": 3
      },
      "file_extension": ".py",
      "mimetype": "text/x-python",
      "name": "python",
      "nbconvert_exporter": "python",
      "pygments_lexer": "ipython3",
      "version": "3.9.5"
    },
    "colab": {
      "provenance": [],
      "include_colab_link": true
    }
  },
  "nbformat": 4,
  "nbformat_minor": 0
}
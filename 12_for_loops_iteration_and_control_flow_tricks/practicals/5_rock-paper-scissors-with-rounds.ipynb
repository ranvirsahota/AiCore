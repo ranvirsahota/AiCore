{
  "cells": [
    {
      "cell_type": "markdown",
      "metadata": {
        "id": "view-in-github",
        "colab_type": "text"
      },
      "source": [
        "<a href=\"https://colab.research.google.com/github/ranvirsahota/AiCore/blob/python-basics/12_for_loops_iteration_and_control_flow_tricks/practicals/5_rock-paper-scissors-with-rounds.ipynb\" target=\"_parent\"><img src=\"https://colab.research.google.com/assets/colab-badge.svg\" alt=\"Open In Colab\"/></a>"
      ]
    },
    {
      "cell_type": "markdown",
      "id": "ae88abd9",
      "metadata": {
        "id": "ae88abd9"
      },
      "source": [
        "# Rock-Paper-Scissors with Rounds"
      ]
    },
    {
      "cell_type": "code",
      "execution_count": 1,
      "id": "bed00472",
      "metadata": {
        "id": "bed00472",
        "outputId": "b40006bc-b37f-44f0-de07-125d7f39b360",
        "colab": {
          "base_uri": "https://localhost:8080/"
        }
      },
      "outputs": [
        {
          "output_type": "stream",
          "name": "stdout",
          "text": [
            "  Preparing metadata (setup.py) ... \u001b[?25l\u001b[?25hdone\n",
            "  Building wheel for timeout-decorator (setup.py) ... \u001b[?25l\u001b[?25hdone\n",
            "Downloading the marking system\n"
          ]
        }
      ],
      "source": [
        "#@title ### Run the following cell to download the necessary files for this practical { display-mode: \"form\" }\n",
        "#@markdown Don't worry about what's in this collapsed cell\n",
        "\n",
        "!pip install -q timeout-decorator\n",
        "print('Downloading the marking system')\n",
        "!wget https://s3-eu-west-1.amazonaws.com/aicore-portal-public-prod-307050600709/practical_files/11a45beb-e4ad-4f16-be70-c355c7897947/marking_system.py -q -O marking_system.py\n",
        "import marking_system\n",
        "import importlib\n",
        "importlib.reload(marking_system)\n",
        "import sys\n",
        "ipython = get_ipython()\n",
        "def hide_traceback(exc_tuple=None, filename=None, tb_offset=None, exception_only=False, running_compiled_code=False):\n",
        "    etype, value, tb = sys.exc_info()\n",
        "    value.__cause__ = None  # suppress chained exceptions\n",
        "    return ipython._showtraceback(etype, \"❌ \" + f\"\u001b[91m{value}\", ipython.InteractiveTB.get_exception_only(etype, \"❌ \" + f\"\u001b[91m{value}\"))\n",
        "ipython.showtraceback = hide_traceback\n"
      ]
    },
    {
      "cell_type": "markdown",
      "id": "d63419df",
      "metadata": {
        "id": "d63419df"
      },
      "source": [
        "In this practical you will create a game of Rock-Paper-Scissors with multiple rounds.\n",
        "\n",
        "### 1. Code the logic of the game to see who wins. Print the result like: `'Player 1 wins'` or `'Player 2 wins'`\n",
        "\n",
        "The game logic is as follows:\n",
        "\n",
        "- `rock` beats `scissors`\n",
        "- `scissors` beats `paper`\n",
        "- `paper` beats `rock`\n",
        "\n",
        "Use the code below to get started\n",
        "\n",
        "__The marking system will be case sensitive, so make sure you use the exact same words as above.__"
      ]
    },
    {
      "cell_type": "code",
      "execution_count": 2,
      "id": "f1e5dcaf",
      "metadata": {
        "id": "f1e5dcaf",
        "outputId": "81b874e2-9750-497f-cede-5d29a1e2e329",
        "colab": {
          "base_uri": "https://localhost:8080/"
        }
      },
      "outputs": [
        {
          "output_type": "stream",
          "name": "stdout",
          "text": [
            "What is player 1 choice? rock, paper or scissors? rock\n",
            "What is player 2 choice? rock, paper or scissors? paper\n",
            "Player 2 wins\n"
          ]
        }
      ],
      "source": [
        "player_1 = input(\"What is player 1 choice? rock, paper or scissors? \")\n",
        "player_2 = input(\"What is player 2 choice? rock, paper or scissors? \")\n",
        "# Add your code below this line\n",
        "if ((player_1 == 'rock' and player_2 == 'scissors') or\n",
        "    (player_1 == 'scissors'  and player_2 == 'paper') or\n",
        "    (player_1 == 'paper'  and player_2 == 'rock')):\n",
        "      print('Player 1 wins')\n",
        "else:\n",
        "  print('Player 2 wins')"
      ]
    },
    {
      "cell_type": "code",
      "execution_count": 3,
      "id": "3112f37b",
      "metadata": {
        "id": "3112f37b",
        "outputId": "4a516923-fcb5-40d1-c3cd-44a5211c3db0",
        "colab": {
          "base_uri": "https://localhost:8080/"
        }
      },
      "outputs": [
        {
          "output_type": "stream",
          "name": "stdout",
          "text": [
            "\u001b[92m✔ Well done! You successfully checked the winner of the game.\n"
          ]
        }
      ],
      "source": [
        "#@title #### Run this cell to check if your code looks good { display-mode: \"form\"}\n",
        "assert \"# Add your code below this line\" in _ih[-2], \"Before checking your code, make sure the last cell you ran contains your code. If you did, make sure you haven't deleted the comment that says '# Add your code below this line'.\"\n",
        "assert \"#@title\" not in _ih[-2], \"If you want to check your code, rerun the cell that contains your code. If you did, make sure you haven't deleted the comment that says '# Add your code below this line'.\"\n",
        "\n",
        "marking_system.check_step_1(_ih[-2])\n"
      ]
    },
    {
      "cell_type": "markdown",
      "id": "17f838b8",
      "metadata": {
        "id": "17f838b8"
      },
      "source": [
        "### 2. Add a check to see if the inputs are valid.\n",
        "\n",
        "Use the same code you have written above, but add a check to see if the inputs are valid.\n",
        "\n",
        "If one of the inputs is not `'rock'`, `'paper'` or `'scissors'`, print `'Invalid input'`"
      ]
    },
    {
      "cell_type": "code",
      "execution_count": 4,
      "id": "beea4602",
      "metadata": {
        "id": "beea4602",
        "outputId": "eb85b592-351e-42eb-833c-7edf55615afb",
        "colab": {
          "base_uri": "https://localhost:8080/"
        }
      },
      "outputs": [
        {
          "output_type": "stream",
          "name": "stdout",
          "text": [
            "What is player 1 choice? rock, paper or scissors? paper\n",
            "What is player 2 choice? rock, paper or scissors? bag\n",
            "Invalid input\n"
          ]
        }
      ],
      "source": [
        "player_1 = input(\"What is player 1 choice? rock, paper or scissors? \")\n",
        "player_2 = input(\"What is player 2 choice? rock, paper or scissors? \")\n",
        "# Add your code below this line\n",
        "def is_input_valid(player_input): return player_input == 'rock' or player_input == 'scissors' or player_input == 'paper'\n",
        "\n",
        "if is_input_valid(player_1) and is_input_valid(player_2):\n",
        "  if ((player_1 == 'rock' and player_2 == 'scissors') or\n",
        "      (player_1 == 'scissors'  and player_2 == 'paper') or\n",
        "      (player_1 == 'paper'  and player_2 == 'rock')):\n",
        "        print('Player 1 wins')\n",
        "  else:\n",
        "    print('Player 2 wins')\n",
        "else:\n",
        "  print('Invalid input')"
      ]
    },
    {
      "cell_type": "code",
      "execution_count": 5,
      "id": "1e033988",
      "metadata": {
        "id": "1e033988",
        "outputId": "fb11ee1f-68e2-4054-bfa1-0e1b86c64302",
        "colab": {
          "base_uri": "https://localhost:8080/"
        }
      },
      "outputs": [
        {
          "output_type": "stream",
          "name": "stdout",
          "text": [
            "\u001b[92m✔ Well done! You successfully checked the winner of the game and checked if the input is valid.\n"
          ]
        }
      ],
      "source": [
        "#@title #### Run this cell to check if your code looks good { display-mode: \"form\"}\n",
        "assert \"# Add your code below this line\" in _ih[-2], \"Before checking your code, make sure the last cell you ran contains your code. If you did, make sure you haven't deleted the comment that says '# Add your code below this line'.\"\n",
        "assert \"#@title\" not in _ih[-2], \"If you want to check your code, rerun the cell that contains your code. If you did, make sure you haven't deleted the comment that says '# Add your code below this line'.\"\n",
        "\n",
        "marking_system.check_step_2(_ih[-2])\n"
      ]
    },
    {
      "cell_type": "markdown",
      "id": "008f6bac",
      "metadata": {
        "id": "008f6bac"
      },
      "source": [
        "### 3. Add a check to see if the inputs are the same.\n",
        "\n",
        "Use the same code you have written above, but add a check to see if the inputs are the same.\n",
        "\n",
        "If both inputs are the same, print `\"It's a tie\"`"
      ]
    },
    {
      "cell_type": "code",
      "execution_count": 6,
      "id": "c18cd5c9",
      "metadata": {
        "id": "c18cd5c9",
        "outputId": "da459f1e-77db-45a3-f777-832d79adef82",
        "colab": {
          "base_uri": "https://localhost:8080/"
        }
      },
      "outputs": [
        {
          "output_type": "stream",
          "name": "stdout",
          "text": [
            "What is player 1 choice? rock, paper or scissors? paper\n",
            "What is player 2 choice? rock, paper or scissors? paper\n",
            "It's a tie\n"
          ]
        }
      ],
      "source": [
        "player_1 = input(\"What is player 1 choice? rock, paper or scissors? \")\n",
        "player_2 = input(\"What is player 2 choice? rock, paper or scissors? \")\n",
        "# Add your code below this line\n",
        "def is_input_valid(player_input): return player_input == 'rock' or player_input == 'scissors' or player_input == 'paper'\n",
        "\n",
        "if is_input_valid(player_1) and is_input_valid(player_2):\n",
        "  if (player_1 == player_2):\n",
        "    print('It\\'s a tie')\n",
        "  elif ((player_1 == 'rock' and player_2 == 'scissors') or\n",
        "      (player_1 == 'scissors'  and player_2 == 'paper') or\n",
        "      (player_1 == 'paper'  and player_2 == 'rock')):\n",
        "        print('Player 1 wins')\n",
        "  else:\n",
        "    print('Player 2 wins')\n",
        "else:\n",
        "  print('Invalid input')"
      ]
    },
    {
      "cell_type": "code",
      "execution_count": 7,
      "id": "b3d304f1",
      "metadata": {
        "id": "b3d304f1",
        "outputId": "186fad45-8d57-4646-d841-e2e5af7360de",
        "colab": {
          "base_uri": "https://localhost:8080/"
        }
      },
      "outputs": [
        {
          "output_type": "stream",
          "name": "stdout",
          "text": [
            "\u001b[92m✔ Well done! You successfully checked the winner of the game, checked if the input is valid, and checked if it's a tie.\n"
          ]
        }
      ],
      "source": [
        "#@title #### Run this cell to check if your code looks good { display-mode: \"form\"}\n",
        "assert \"# Add your code below this line\" in _ih[-2], \"Before checking your code, make sure the last cell you ran contains your code. If you did, make sure you haven't deleted the comment that says '# Add your code below this line'.\"\n",
        "assert \"#@title\" not in _ih[-2], \"If you want to check your code, rerun the cell that contains your code. If you did, make sure you haven't deleted the comment that says '# Add your code below this line'.\"\n",
        "\n",
        "marking_system.check_step_3(_ih[-2])\n"
      ]
    },
    {
      "cell_type": "markdown",
      "id": "4c3bc148",
      "metadata": {
        "id": "4c3bc148"
      },
      "source": [
        "### 4. Play the game until one of the players wins 3 times\n",
        "\n",
        "1. Create two variables `player_1_wins` and `player_2_wins` and set them to 0\n",
        "2. Create a while loop that runs until one of the players wins 3 times\n",
        "    - You can set the condition for the `while` loop to `player_1_wins < 3 and player_2_wins < 3`\n",
        "3. At the beginning of the loop, ask the users for their inputs\n",
        "4. Every time a player wins, instead of printing the winner, add 1 to the corresponding variable\n",
        "5. Print the result of the game at the end of the loop in the following format: `\"Player 1 won 3 times`, or `\"Player 2 won 2 times\"`\n",
        "\n",
        "__This step doesn't have a marking system because there are many ways to tackle this issue__"
      ]
    },
    {
      "cell_type": "code",
      "execution_count": 8,
      "id": "1235dddb",
      "metadata": {
        "id": "1235dddb",
        "outputId": "c08abb0c-def6-45b3-80c4-18b8f58409ab",
        "colab": {
          "base_uri": "https://localhost:8080/"
        }
      },
      "outputs": [
        {
          "output_type": "stream",
          "name": "stdout",
          "text": [
            "What is player 1 choice? rock, paper or scissors? paper\n",
            "What is player 2 choice? rock, paper or scissors? rock\n",
            "What is player 1 choice? rock, paper or scissors? scissors\n",
            "What is player 2 choice? rock, paper or scissors? paper\n",
            "What is player 1 choice? rock, paper or scissors? paper\n",
            "What is player 2 choice? rock, paper or scissors? rock\n",
            "Player 1 won 3 times\n"
          ]
        }
      ],
      "source": [
        "# TODO - Code the logic for the game to play multiple rounds until one player wins 3 rounds\n",
        "player_1_wins = 0\n",
        "player_2_wins = 0\n",
        "def is_input_valid(player_input): return player_input == 'rock' or player_input == 'scissors' or player_input == 'paper'\n",
        "\n",
        "while player_1_wins < 3 and player_2_wins < 3:\n",
        "  player_1 = input(\"What is player 1 choice? rock, paper or scissors? \")\n",
        "  player_2 = input(\"What is player 2 choice? rock, paper or scissors? \")\n",
        "\n",
        "  if is_input_valid(player_1) and is_input_valid(player_2):\n",
        "    if (player_1 == player_2):\n",
        "      print('It\\'s a tie')\n",
        "    elif ((player_1 == 'rock' and player_2 == 'scissors') or\n",
        "        (player_1 == 'scissors'  and player_2 == 'paper') or\n",
        "        (player_1 == 'paper'  and player_2 == 'rock')):\n",
        "          player_1_wins+=1\n",
        "    else:\n",
        "      player_2_wins+=1\n",
        "  else:\n",
        "    print('Invalid input')\n",
        "\n",
        "if player_1_wins == 3:\n",
        "    print(\"Player 1 won 3 times\")\n",
        "else:\n",
        "    print(\"Player 2 won 2 times\")"
      ]
    }
  ],
  "metadata": {
    "kernelspec": {
      "display_name": "content-projects_new",
      "language": "python",
      "name": "python3"
    },
    "language_info": {
      "codemirror_mode": {
        "name": "ipython",
        "version": 3
      },
      "file_extension": ".py",
      "mimetype": "text/x-python",
      "name": "python",
      "nbconvert_exporter": "python",
      "pygments_lexer": "ipython3",
      "version": "3.10.8"
    },
    "vscode": {
      "interpreter": {
        "hash": "4b961f8166aad6ccb4cf65d0f9c742ef9c6c23ffe83ad932438cd83ed96aebaf"
      }
    },
    "colab": {
      "provenance": [],
      "include_colab_link": true
    }
  },
  "nbformat": 4,
  "nbformat_minor": 5
}
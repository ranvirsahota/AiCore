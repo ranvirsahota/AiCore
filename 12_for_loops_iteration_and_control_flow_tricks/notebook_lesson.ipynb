{
  "cells": [
    {
      "cell_type": "markdown",
      "metadata": {
        "id": "view-in-github",
        "colab_type": "text"
      },
      "source": [
        "<a href=\"https://colab.research.google.com/github/ranvirsahota/AiCore/blob/python-basics/12_for_loops_iteration_and_control_flow_tricks/notebook_lesson.ipynb\" target=\"_parent\"><img src=\"https://colab.research.google.com/assets/colab-badge.svg\" alt=\"Open In Colab\"/></a>"
      ]
    },
    {
      "cell_type": "markdown",
      "metadata": {
        "id": "R90_Pf3Y0jK5"
      },
      "source": [
        "# For Loops, Iteration and Control Flow Tricks"
      ]
    },
    {
      "cell_type": "markdown",
      "metadata": {
        "id": "x0nTe_uT0jK6"
      },
      "source": [
        "In this notebook we will continue learning about different control flow structures, focusing on `for` loops."
      ]
    },
    {
      "cell_type": "markdown",
      "metadata": {
        "id": "mgDW8mp10jK6"
      },
      "source": [
        "## Motivation\n",
        "\n",
        "Welcome to your journey of learning about for loops and iteration in programming! Let's explore the key reasons why learning about for loops and iteration is valuable:\n",
        "- **Automatic Repetition**: For loops help you do the same task again and again without writing repetitive code. It's like having a robot that can do a task for each item in a group.\n",
        "\n",
        "- **Data Processing and Transformation**: For loops are great for working with large amounts of data. They help you process and change the data systematically.\n",
        "\n",
        "- **Code Reusability and Scalability**: For loops make your code flexible and ready for the future. They let you write code that can handle different amounts of data easily."
      ]
    },
    {
      "cell_type": "markdown",
      "metadata": {
        "id": "ZXQOR0ZG0jK6"
      },
      "source": [
        "## Iteration and Iterables\n",
        "\n",
        "> *Iteration* refers to the process of repeatedly performing a specific action or executing a block of code.\n",
        "\n",
        "In programming, iteration allows you to perform tasks repeatedly until a certain condition is met. Loops are the primary construct used for iteration in Python.\n",
        "\n",
        "> An *iterable* is an object that can be iterated over, meaning it can be used in a loop.\n",
        "\n",
        "It provides a sequence of values that can be accessed one at a time. Common iterable objects in Python include strings, lists, tuples, sets, and dictionaries."
      ]
    },
    {
      "cell_type": "markdown",
      "metadata": {
        "id": "untP-MLQ0jK6"
      },
      "source": [
        "## For Loops"
      ]
    },
    {
      "cell_type": "markdown",
      "metadata": {
        "id": "BqlLMi4A0jK7"
      },
      "source": [
        "For loops perform an operation on each element in an iterable (each character in a string or each item in a list) until no element is left in the iterable. It repeatedly executes a block of code for each item in the sequence.\n",
        "\n",
        "This form of iteration is called *definite iteration*, where the number of iterations is known. Further, this is an example of Don't Repeat Yourself (DRY) coding, since a single `for` loop performs numerous operations in one pass.\n",
        "\n",
        "> As opposed to the `while` loop, the `for` loop is limited by the number of items in the iterable.\n",
        "\n",
        "<p align=center><img src=https://github.com/AI-Core/Content-Public/blob/main/Content/units/Essentials/7.%20Python%20programming/15.%20For%20Loops%2C%20Iteration%20and%20Control%20Flow%20Tricks/images/for_while.jpeg?raw=1></p>"
      ]
    },
    {
      "cell_type": "markdown",
      "metadata": {
        "id": "q5X06sXF0jK7"
      },
      "source": [
        "### Syntax\n",
        "\n",
        "The syntax of a `for` loop in Python is as follows:"
      ]
    },
    {
      "cell_type": "code",
      "execution_count": null,
      "metadata": {
        "id": "xPVqcYJ10jK7"
      },
      "outputs": [],
      "source": [
        "for item in sequence:\n",
        "#     do_something\n",
        "#     do_something_to_i"
      ]
    },
    {
      "cell_type": "markdown",
      "metadata": {
        "id": "sng7d5f30jK7"
      },
      "source": [
        "\n",
        "- The `item` represents the current item in the sequence. For readability, the best practice is to use naming words, such as `city in cities`, `item in items`, where `cities` or `items` are the name of the iterable.\n",
        "\n",
        "- `item` refers to each element in the iterable in a given iteration; thus, we can employ `item` in the `do_something` block\n",
        "\n",
        "- `in` is a keyword referencing the iterable\n",
        "\n",
        "- `sequence` is the data structure over which the operation is performed. The `sequence` can be a string, list, tuple, or any other iterable object.\n",
        "\n",
        "- __colon__ indicates control flow and signals an indentation, completing the set phrase\n",
        "\n",
        "- `do_something` is the code block to be executed on each element"
      ]
    },
    {
      "cell_type": "markdown",
      "metadata": {
        "id": "oemsMA2S0jK7"
      },
      "source": [
        "## Common Iterable Objects\n",
        "\n",
        "In this section, let's look at how we would use `for` loops to iterate over different iterable objects.\n",
        "\n",
        "### Strings"
      ]
    },
    {
      "cell_type": "code",
      "execution_count": null,
      "metadata": {
        "id": "fORR6S010jK7",
        "outputId": "d6dd32cb-0744-410f-f4c8-6bda36a86eb3"
      },
      "outputs": [
        {
          "name": "stdout",
          "output_type": "stream",
          "text": [
            "H\n",
            "e\n",
            "l\n",
            "l\n",
            "o\n"
          ]
        }
      ],
      "source": [
        "message = \"Hello\"\n",
        "for char in message:\n",
        "    print(char)\n"
      ]
    },
    {
      "cell_type": "markdown",
      "metadata": {
        "id": "UGh1gTjT0jK8"
      },
      "source": [
        "### Lists"
      ]
    },
    {
      "cell_type": "code",
      "execution_count": null,
      "metadata": {
        "id": "utHa47T-0jK8",
        "outputId": "a583cc05-8d3d-4853-dd09-fef0fbbc83bb"
      },
      "outputs": [
        {
          "name": "stdout",
          "output_type": "stream",
          "text": [
            "apple\n",
            "banana\n",
            "cherry\n"
          ]
        }
      ],
      "source": [
        "fruits = [\"apple\", \"banana\", \"cherry\"]\n",
        "for fruit in fruits:\n",
        "    print(fruit)"
      ]
    },
    {
      "cell_type": "markdown",
      "metadata": {
        "id": "W4eFp4f10jK8"
      },
      "source": [
        "### Tuples"
      ]
    },
    {
      "cell_type": "code",
      "execution_count": null,
      "metadata": {
        "id": "-o1ByeJn0jK8",
        "outputId": "3fe5b026-ec4c-4397-852b-98e4819e81d1"
      },
      "outputs": [
        {
          "name": "stdout",
          "output_type": "stream",
          "text": [
            "3\n",
            "7\n"
          ]
        }
      ],
      "source": [
        "point = (3, 7)\n",
        "for coordinate in point:\n",
        "    print(coordinate)"
      ]
    },
    {
      "cell_type": "markdown",
      "metadata": {
        "id": "N-XlM9c40jK8"
      },
      "source": [
        "### Sets"
      ]
    },
    {
      "cell_type": "code",
      "execution_count": null,
      "metadata": {
        "id": "K9l4_8kl0jK8",
        "outputId": "57d0e28f-c99e-40dd-8978-d771627557ec"
      },
      "outputs": [
        {
          "name": "stdout",
          "output_type": "stream",
          "text": [
            "blue\n",
            "red\n",
            "green\n"
          ]
        }
      ],
      "source": [
        "colors = {\"red\", \"green\", \"blue\"}\n",
        "for color in colors:\n",
        "    print(color)"
      ]
    },
    {
      "cell_type": "markdown",
      "metadata": {
        "id": "hmiLwybQ0jK9"
      },
      "source": [
        "### Dictionaries"
      ]
    },
    {
      "cell_type": "code",
      "execution_count": null,
      "metadata": {
        "id": "rahKqBWX0jK9",
        "outputId": "b34f6ab3-f0d2-4ad4-b5d7-c68a63808f4c"
      },
      "outputs": [
        {
          "name": "stdout",
          "output_type": "stream",
          "text": [
            "name Alice\n",
            "age 20\n",
            "grade A\n"
          ]
        }
      ],
      "source": [
        "student = {\"name\": \"Alice\", \"age\": 20, \"grade\": \"A\"}\n",
        "for key in student:\n",
        "    print(key, student[key])"
      ]
    },
    {
      "cell_type": "markdown",
      "metadata": {
        "id": "x7Y1zrEg0jK9"
      },
      "source": [
        "In this example, the keys represent different attributes of the student, such as `\"name\"`, `\"age\"`, and `\"grade\"`, while the corresponding values hold the actual data.\n",
        "\n",
        "The `for` loop iterates over the keys of the `student` dictionary. In each iteration, the loop variable key takes on the value of each key in the dictionary.\n",
        "\n",
        "Inside the loop, we access the value associated with each key using the square bracket notation (`student[key]`). This allows us to retrieve the corresponding value from the `student` dictionary based on the current key."
      ]
    },
    {
      "cell_type": "markdown",
      "metadata": {
        "id": "mYMLpHAd0jK-"
      },
      "source": [
        "When iterating over dictionaries, you have a few other options to access both the keys and values. Let's consider the following dictionary as an example:"
      ]
    },
    {
      "cell_type": "code",
      "execution_count": null,
      "metadata": {
        "id": "4bPi6jCq0jK-"
      },
      "outputs": [],
      "source": [
        "student = {\"name\": \"Alice\", \"age\": 20, \"grade\": \"A\"}"
      ]
    },
    {
      "cell_type": "markdown",
      "metadata": {
        "id": "m5O8wOmT0jK-"
      },
      "source": [
        "### Iterating through `d.keys()`:\n",
        "\n",
        "You can iterate directly over the keys of a dictionary using the `d.keys()` method. The `d.keys()` method returns a view object that represents the keys of the dictionary. Here's an example:"
      ]
    },
    {
      "cell_type": "code",
      "execution_count": null,
      "metadata": {
        "id": "yk-GLIyR0jK-",
        "outputId": "83b7c162-bb1c-4320-ac68-0540bc26a4fb"
      },
      "outputs": [
        {
          "name": "stdout",
          "output_type": "stream",
          "text": [
            "name\n",
            "age\n",
            "grade\n"
          ]
        }
      ],
      "source": [
        "for key in student.keys():\n",
        "    print(key)"
      ]
    },
    {
      "cell_type": "markdown",
      "metadata": {
        "id": "iE9vHsiN0jK-"
      },
      "source": [
        "In this example, we iterate over the keys of the `student` dictionary using the `student.keys()` method. In each iteration, the loop variable key holds the current key from the dictionary.\n",
        "\n",
        "> You can perform operations on the key or use it to access the corresponding value in the dictionary.\n"
      ]
    },
    {
      "cell_type": "markdown",
      "metadata": {
        "id": "ci5xL2ko0jK-"
      },
      "source": [
        "### Using tuple unpacking with `d.items()`\n",
        "\n",
        "The `d.items()` method returns a view object that represents the key-value pairs of a dictionary as tuples. You can use tuple unpacking to iterate over both the keys and values simultaneously. Here's an example:"
      ]
    },
    {
      "cell_type": "code",
      "execution_count": null,
      "metadata": {
        "id": "2ZxWMi550jK_",
        "outputId": "e7f232d2-8170-47f0-dded-5301875898c2"
      },
      "outputs": [
        {
          "name": "stdout",
          "output_type": "stream",
          "text": [
            "name Alice\n",
            "age 20\n",
            "grade A\n"
          ]
        }
      ],
      "source": [
        "for key, value in student.items():\n",
        "    print(key, value)"
      ]
    },
    {
      "cell_type": "markdown",
      "metadata": {
        "id": "g7YQxvqG0jK_"
      },
      "source": [
        "In this example, we iterate over the key-value pairs of the `student` dictionary using the `student.items()` method. In each iteration, the loop variables key and value hold the current key and its associated value from the dictionary, respectively. You can perform operations on both the key and value within the loop body.\n",
        "\n",
        "> Using `d.items()` you can perform operations on the keys and values of a dictionaries within the loop body.\n",
        "\n",
        "For example:"
      ]
    },
    {
      "cell_type": "code",
      "execution_count": null,
      "metadata": {
        "id": "3ee8WJ1F0jK_",
        "outputId": "52f6fbbe-f067-4b09-f123-c1d402fbc104"
      },
      "outputs": [
        {
          "name": "stdout",
          "output_type": "stream",
          "text": [
            "The student's name is Alice\n",
            "The student's age is 20\n",
            "The student's grade is A\n"
          ]
        }
      ],
      "source": [
        "student = {\"name\": \"Alice\", \"age\": 20, \"grade\": \"A\"}\n",
        "\n",
        "for key, value in student.items():\n",
        "    if key == \"name\":\n",
        "        print(f\"The student's name is {value}\")\n",
        "    elif key == \"age\":\n",
        "        print(f\"The student's age is {value}\")\n",
        "    elif key == \"grade\":\n",
        "        print(f\"The student's grade is {value}\")\n",
        "    else:\n",
        "        print(\"Unknown attribute\")\n"
      ]
    },
    {
      "cell_type": "markdown",
      "metadata": {
        "id": "mP50_Fev0jK_"
      },
      "source": [
        "In this example, within the loop body, we perform operations based on different specific keys. In this case, we check if the key is equal to `\"name\"`, `\"age\"`, or `\"grade\"` and print the corresponding information about the student. If the key does not match any of these conditions, we print `\"Unknown attribute\"`."
      ]
    },
    {
      "cell_type": "markdown",
      "metadata": {
        "id": "AIvwjate0jK_"
      },
      "source": [
        "## The `range()` function\n",
        "\n",
        "The `range()` function is commonly used in for loops to generate a sequence of numbers. It takes up to three arguments: `start`, `stop`, and `step`. Here's the general syntax:"
      ]
    },
    {
      "cell_type": "code",
      "execution_count": null,
      "metadata": {
        "id": "IxilhetU0jK_"
      },
      "outputs": [],
      "source": [
        "range(start, stop, step)"
      ]
    },
    {
      "cell_type": "markdown",
      "metadata": {
        "id": "HAiqD9gj0jK_"
      },
      "source": [
        "- `start` (optional): The starting value of the sequence (default is 0)\n",
        "- `stop`: The ending value of the sequence (exclusive)\n",
        "- `step` (optional): The step size between each number in the sequence (default is 1)\n",
        "\n",
        "The `range()` function returns an iterable sequence of numbers that can be used in a for loop. Here's an example:"
      ]
    },
    {
      "cell_type": "code",
      "execution_count": null,
      "metadata": {
        "id": "RQCuDtmg0jK_",
        "outputId": "d1e2b214-1647-4621-e558-e8c551947eef"
      },
      "outputs": [
        {
          "name": "stdout",
          "output_type": "stream",
          "text": [
            "1\n",
            "2\n",
            "3\n",
            "4\n"
          ]
        }
      ],
      "source": [
        "for i in range(1, 5):\n",
        "    print(i)"
      ]
    },
    {
      "cell_type": "markdown",
      "metadata": {
        "id": "p9NL5E-L0jK_"
      },
      "source": [
        "In this example, the `range(1, 5)` generates a sequence of numbers from 1 to 4 (excluding 5). The `for` loop iterates over this sequence, and in each iteration, the loop variable `i` takes on the current value from the sequence."
      ]
    },
    {
      "cell_type": "markdown",
      "metadata": {
        "id": "YZLIpzZ_0jK_"
      },
      "source": [
        "### Using a step size"
      ]
    },
    {
      "cell_type": "code",
      "execution_count": null,
      "metadata": {
        "id": "0XZMgE5Z0jLA",
        "outputId": "d6cb4345-7398-4e19-e183-1a796b52d5e1"
      },
      "outputs": [
        {
          "name": "stdout",
          "output_type": "stream",
          "text": [
            "1\n",
            "3\n",
            "5\n",
            "7\n",
            "9\n"
          ]
        }
      ],
      "source": [
        "for i in range(1, 10, 2):\n",
        "    print(i)\n"
      ]
    },
    {
      "cell_type": "markdown",
      "metadata": {
        "id": "hkCrbpQA0jLA"
      },
      "source": [
        "In this example, the `range(1, 10, 2)` generates a sequence of odd numbers from 1 to 9, in steps of 2.\n",
        "\n",
        "### Creating a list using `list()`"
      ]
    },
    {
      "cell_type": "code",
      "execution_count": null,
      "metadata": {
        "id": "fSKCCnM-0jLA",
        "outputId": "94606380-4133-4ea7-c8c1-b5799450e824"
      },
      "outputs": [
        {
          "name": "stdout",
          "output_type": "stream",
          "text": [
            "[1, 2, 3, 4, 5]\n"
          ]
        }
      ],
      "source": [
        "numbers = list(range(1, 6))\n",
        "print(numbers)"
      ]
    },
    {
      "cell_type": "markdown",
      "metadata": {
        "id": "PL1Y-YsC0jLC"
      },
      "source": [
        "In this example, the `range(1, 6)` generates a sequence of numbers from 1 to 5 (exclusive). The `list()` function is used to convert the sequence into a list, which is then assigned to the variable numbers.\n",
        "\n",
        "If we print the type of `range(1,6)` and `list(range(1,6))` we will see more clearly the difference:"
      ]
    },
    {
      "cell_type": "code",
      "execution_count": null,
      "metadata": {
        "id": "MqDF67BI0jLC",
        "outputId": "a756f4ba-7198-4625-89d8-e4d83e648870"
      },
      "outputs": [
        {
          "name": "stdout",
          "output_type": "stream",
          "text": [
            "<class 'range'>\n",
            "<class 'list'>\n"
          ]
        }
      ],
      "source": [
        "print(type(range(1,6)))\n",
        "print(type(list(range(1,6))))"
      ]
    },
    {
      "cell_type": "markdown",
      "metadata": {
        "id": "jJVLeLJH0jLC"
      },
      "source": [
        "### The `range(len(iterable))` function\n",
        "\n",
        "The `range(len(iterable))` is a useful construct that combines the `range()` function with the `len()` function to iterate over the indices of an iterable object. Here's how it works:"
      ]
    },
    {
      "cell_type": "code",
      "execution_count": null,
      "metadata": {
        "id": "QiEplRPm0jLC",
        "outputId": "f2f853d2-2b12-4b6c-9b7e-d35c59b5d71e"
      },
      "outputs": [
        {
          "name": "stdout",
          "output_type": "stream",
          "text": [
            "0 apple\n",
            "1 banana\n",
            "2 cherry\n"
          ]
        }
      ],
      "source": [
        "fruits = [\"apple\", \"banana\", \"cherry\"]\n",
        "\n",
        "for i in range(len(fruits)):\n",
        "    print(i, fruits[i])"
      ]
    },
    {
      "cell_type": "markdown",
      "metadata": {
        "id": "wAp4x1XP0jLC"
      },
      "source": [
        "In this example, `len(fruits)` returns the length of the fruits list, which is `3`. The `range(len(fruits))` generates a sequence of numbers from 0 to 2 (exclusive). The loop iterates over this sequence, and in each iteration, the loop variable `i` takes on the current value from the sequence. By using `fruits[i]`, we can access the element at index `i` in the `fruits` list.\n",
        "\n",
        "> This construct is useful when you need both the index and the corresponding value of each element in an iterable object. It allows you to perform operations or access specific elements based on their indices within the loop body."
      ]
    },
    {
      "cell_type": "markdown",
      "metadata": {
        "id": "SpEsR3ka0jLD"
      },
      "source": [
        "## Control Statements\n",
        "\n",
        "Control statements such as `break`, `continue`, and `else` can be used within for loops to modify the flow of execution.\n",
        "\n",
        "### `break`\n",
        "\n",
        "The `break` statement is used to exit the loop prematurely. It terminates the loop and transfers control to the next statement outside the loop. Here's an example:"
      ]
    },
    {
      "cell_type": "code",
      "execution_count": null,
      "metadata": {
        "id": "S_LqXUef0jLD",
        "outputId": "6c1380f2-7b1e-4392-d321-a9f698f1b290"
      },
      "outputs": [
        {
          "name": "stdout",
          "output_type": "stream",
          "text": [
            "1\n",
            "2\n",
            "3\n"
          ]
        }
      ],
      "source": [
        "for i in range(1, 6):\n",
        "    if i == 4:\n",
        "        break\n",
        "    print(i)"
      ]
    },
    {
      "cell_type": "markdown",
      "metadata": {
        "id": "ItjxBfqs0jLD"
      },
      "source": [
        "In this example, the loop is interrupted when `i` equals `4`, and the loop is terminated, skipping the remaining iterations.\n",
        "\n",
        "### `continue`\n",
        "\n",
        "The `continue` statement is used to skip the rest of the current iteration and move to the next iteration. It jumps to the next iteration without executing the remaining statements in the loop body. Here's an example:"
      ]
    },
    {
      "cell_type": "code",
      "execution_count": null,
      "metadata": {
        "id": "dROtdFx20jLD",
        "outputId": "eac310e7-3003-4473-8e09-5b27be464e68"
      },
      "outputs": [
        {
          "name": "stdout",
          "output_type": "stream",
          "text": [
            "1\n",
            "2\n",
            "4\n",
            "5\n"
          ]
        }
      ],
      "source": [
        "for i in range(1, 6):\n",
        "    if i == 3:\n",
        "        continue\n",
        "    print(i)"
      ]
    },
    {
      "cell_type": "markdown",
      "metadata": {
        "id": "gTuKtUtk0jLD"
      },
      "source": [
        "In this example, the loop skips the iteration when `i` equals `3`, and the remaining statements within the loop body are not executed. The loop then proceeds to the next iteration.\n",
        "\n",
        "### `else`\n",
        "\n",
        "The `else` statement in a `for` loop is executed when the loop has exhausted all the items in the iterable. It is not executed if the loop is terminated by a `break` statement. Here's an example:"
      ]
    },
    {
      "cell_type": "code",
      "execution_count": null,
      "metadata": {
        "id": "8B9kjkZZ0jLE",
        "outputId": "2e5b8517-8e48-4d08-950f-518d8382156b"
      },
      "outputs": [
        {
          "name": "stdout",
          "output_type": "stream",
          "text": [
            "1\n",
            "2\n",
            "3\n",
            "4\n",
            "Loop completed successfully!\n"
          ]
        }
      ],
      "source": [
        "for i in range(1, 5):\n",
        "    print(i)\n",
        "else:\n",
        "    print(\"Loop completed successfully!\")"
      ]
    },
    {
      "cell_type": "markdown",
      "metadata": {
        "id": "WFDhDXVO0jLE"
      },
      "source": [
        "In this example, the loop completes all iterations, so the `else` block is executed, and the corresponding message is printed."
      ]
    },
    {
      "cell_type": "markdown",
      "metadata": {
        "id": "AMVoLWNp0jLE"
      },
      "source": [
        "## `pass` Keyword and `for` loops\n",
        "\n",
        "In Python, the `pass` keyword is used as a placeholder when you need a statement syntactically, but you don't want to add any code or perform any action. It is often used in combination with for loops to create empty loops or to temporarily skip the implementation of certain parts. Here's how the `pass` keyword can be used with `for` loops:\n",
        "\n",
        "### Empty Loop\n",
        "\n",
        "An empty loop is a loop that doesn't contain any statements inside its body. It is used when you want to create a loop structure but leave the implementation details empty. The `pass` keyword is used as a placeholder in this case. Here's an example:"
      ]
    },
    {
      "cell_type": "code",
      "execution_count": null,
      "metadata": {
        "id": "xe_VCPOf0jLE"
      },
      "outputs": [],
      "source": [
        "for i in range(5):\n",
        "    pass"
      ]
    },
    {
      "cell_type": "markdown",
      "metadata": {
        "id": "RkDttITC0jLE"
      },
      "source": [
        "In this example, the loop iterates five times, but since there is no code inside the loop body, the `pass` keyword serves as a placeholder. It allows the loop to iterate without performing any specific actions.\n",
        "\n",
        "### Temporary Skip\n",
        "\n",
        "The `pass` keyword can also be used to temporarily skip the implementation of a particular part within a loop. This is useful when you are in the process of writing or designing your code and want to skip a certain section until later. Here's an example:"
      ]
    },
    {
      "cell_type": "code",
      "execution_count": null,
      "metadata": {
        "id": "vSxcOGqQ0jLE"
      },
      "outputs": [],
      "source": [
        "for item in iterable:\n",
        "    if condition:\n",
        "        pass\n",
        "        # Code to be implemented later\n",
        "    else:\n",
        "        # Code to be executed for other iterations"
      ]
    },
    {
      "cell_type": "markdown",
      "metadata": {
        "id": "_LYxNWjX0jLF"
      },
      "source": [
        "In this example, the `pass` keyword is used as a placeholder for the code that is yet to be implemented. It allows you to keep the loop structure intact and continue with the rest of the iterations. Later, you can come back and fill in the necessary code.\n",
        "\n",
        "### Usage and Benefits\n",
        "\n",
        "The `pass` keyword provides a way to maintain the syntactical correctness of your code when you need an empty or incomplete loop structure. It can be particularly useful in the following scenarios:\n",
        "- **Placeholder for future code**: When you want to create a loop structure but haven't yet decided on the specific actions to be performed within the loop body, you can use pass as a temporary placeholder until you're ready to add the code\n",
        "- **Code organization**: When working on a larger codebase, you may want to outline the structure of your loops first and then fill in the details later. By using `pass`, you can create empty loops and come back to them at a later time without causing any syntax errors.\n",
        "- **Stubbing out code**: When collaborating with others or working on a project with multiple developers, you can use pass to indicate that a particular section of the code is still in progress or requires someone else's implementation.="
      ]
    },
    {
      "cell_type": "markdown",
      "metadata": {
        "id": "2S9BXvdP0jLF"
      },
      "source": [
        "## `zip` and `enumerate`\n",
        "\n",
        "In Python, the `zip` and `enumerate` functions are commonly used in conjunction with `for` loops to iterate over multiple iterables or to retrieve both the index and the value of each item in an iterable. Let's explore these functions in more detail.\n",
        "\n",
        "### `zip` function\n",
        "\n",
        "The `zip` function allows you to combine multiple iterables into a single iterable of tuples. Each tuple contains the corresponding elements from all the iterables. Here's how it works:"
      ]
    },
    {
      "cell_type": "code",
      "execution_count": null,
      "metadata": {
        "id": "OEe1mZnz0jLF",
        "outputId": "5f8a8ed4-49b6-4e27-e009-c608468308a4"
      },
      "outputs": [
        {
          "name": "stdout",
          "output_type": "stream",
          "text": [
            "1 a\n",
            "2 b\n",
            "3 c\n"
          ]
        }
      ],
      "source": [
        "iterable1 = [1, 2, 3]\n",
        "iterable2 = ['a', 'b', 'c']\n",
        "\n",
        "for item1, item2 in zip(iterable1, iterable2):\n",
        "    print(item1, item2)\n"
      ]
    },
    {
      "cell_type": "markdown",
      "metadata": {
        "id": "qCFh7Rdv0jLF"
      },
      "source": [
        "In this example, the `zip` function pairs the elements from `iterable1` and `iterable2` together. The `for` loop then iterates over the resulting iterable of tuples, and each tuple is unpacked into `item1` and `item2`. This allows you to access and work with corresponding elements from different iterables simultaneously.\n",
        "\n",
        "> It's worth noting that `zip` stops iterating as soon as one of the input iterables is exhausted. If the input iterables have different lengths, the resulting iterable will only contain tuples up to the length of the shortest input iterable.\n",
        "\n",
        "### `enumerate` function\n",
        "\n",
        "The `enumerate` function provides an elegant way to iterate over an iterable while also retrieving the index of each item. Here's an example:"
      ]
    },
    {
      "cell_type": "code",
      "execution_count": null,
      "metadata": {
        "id": "DQA1PDjA0jLF",
        "outputId": "1b00c976-40fc-494c-e222-ab807585b70e"
      },
      "outputs": [
        {
          "name": "stdout",
          "output_type": "stream",
          "text": [
            "0 a\n",
            "1 b\n",
            "2 c\n"
          ]
        }
      ],
      "source": [
        "iterable = ['a', 'b', 'c']\n",
        "\n",
        "for index, item in enumerate(iterable):\n",
        "    print(index, item)"
      ]
    },
    {
      "cell_type": "markdown",
      "metadata": {
        "id": "xw7IUQxi0jLF"
      },
      "source": [
        "In this example, the `enumerate` function adds an index to each item in the iterable. The `for` loop iterates over the resulting iterable of tuples, and each tuple is unpacked into index and item. This allows you to access both the index and the value of each item in the iterable within the loop.\n",
        "\n",
        "By default, enumerate starts the index from `0`, but you can specify a different starting value by passing it as the second argument to the function, like `enumerate(iterable, start=1)`."
      ]
    },
    {
      "cell_type": "markdown",
      "metadata": {
        "id": "Wwcvjw2p0jLF"
      },
      "source": [
        "## Nested `for` loops"
      ]
    },
    {
      "cell_type": "markdown",
      "metadata": {
        "id": "eeqYsfWS0jLG"
      },
      "source": [
        "In Python, it is possible to have one or more for loops nested inside another for loop. This concept is known as *nested for loops*, and it allows you to iterate over multiple levels of iterables, creating a hierarchical or nested structure.\n",
        "\n",
        "Nested for loops are particularly useful when working with multidimensional data structures or when you need to perform operations on combinations of elements from different iterables.\n",
        "\n",
        "<p align=center><img src=https://github.com/AI-Core/Content-Public/blob/main/Content/units/Essentials/7.%20Python%20programming/15.%20For%20Loops%2C%20Iteration%20and%20Control%20Flow%20Tricks/images/nested_loop.png?raw=1 width=500></p>"
      ]
    },
    {
      "cell_type": "markdown",
      "metadata": {
        "id": "fWCdYjGP0jLG"
      },
      "source": [
        "Here's an example of a simple nested for loop:"
      ]
    },
    {
      "cell_type": "code",
      "execution_count": null,
      "metadata": {
        "id": "7myxYmFI0jLG",
        "outputId": "8364ae00-450a-4ef6-b892-b42e2b7f363f"
      },
      "outputs": [
        {
          "name": "stdout",
          "output_type": "stream",
          "text": [
            "Player 1 belongs to Team A\n",
            "Player 2 belongs to Team A\n",
            "Player 3 belongs to Team A\n",
            "Player 1 belongs to Team B\n",
            "Player 2 belongs to Team B\n",
            "Player 3 belongs to Team B\n",
            "Player 1 belongs to Team C\n",
            "Player 2 belongs to Team C\n",
            "Player 3 belongs to Team C\n"
          ]
        }
      ],
      "source": [
        "teams = [\"Team A\", \"Team B\", \"Team C\"]\n",
        "players = [\"Player 1\", \"Player 2\", \"Player 3\"]\n",
        "\n",
        "for team in teams:\n",
        "    for player in players:\n",
        "        print(f\"{player} belongs to {team}\")\n"
      ]
    },
    {
      "cell_type": "markdown",
      "metadata": {
        "id": "65yjNWKO0jLG"
      },
      "source": [
        "In this example, there are two lists: `teams` and `players`. The outer loop iterates over each `team` in the `teams` list, and for each team, the inner loop iterates over each `player` in the `players` list. The print statement inside the nested loops outputs the combination of players and teams."
      ]
    },
    {
      "cell_type": "markdown",
      "metadata": {
        "id": "Zg2hUA4H0jLG"
      },
      "source": [
        "Nested for loops can also be used with other types of iterables, such as strings or ranges.\n",
        "\n",
        "> When working with nested for loops, it's crucial to pay attention to the indentation to ensure proper nesting. Each level of indentation indicates the scope of the loop and its associated block of code."
      ]
    },
    {
      "cell_type": "markdown",
      "metadata": {
        "id": "xwOwRhGn0jLG"
      },
      "source": [
        "## Common Errors and Troubleshooting\n",
        "\n",
        "### Infinite loops\n",
        "\n",
        "Infinite loops occur when the loop condition or iteration logic is incorrect, causing the loop to continue indefinitely. Check your loop condition and ensure that it eventually evaluates to False to exit the loop. Additionally, ensure that your loop logic includes a way to progress towards the exit condition.\n",
        "\n",
        "### Incorrect indentation\n",
        "\n",
        "Python relies on proper indentation to determine the scope of code blocks. Make sure your loop body and any nested blocks are indented correctly. Inconsistent or incorrect indentation can lead to syntax errors or unexpected behaviors.\n",
        "\n",
        "### Modifying the iterated object\n",
        "\n",
        "Avoid modifying the iterated object (e.g., a list) within the loop. Modifying the length or content of the iterated object during iteration can result in unpredictable outcomes and errors. If you need to modify the iterated object, consider creating a copy or using a different approach."
      ]
    },
    {
      "cell_type": "markdown",
      "metadata": {
        "id": "2PfPv2RH0jLG"
      },
      "source": [
        "##  Key Takeaways\n",
        "\n",
        "- For loops are used to iterate over elements in an iterable object such as strings, lists, tuples, or ranges\n",
        "- The `range()` function is commonly used to generate a sequence of numbers that can be used in for loops\n",
        "- Nested for loops allow you to perform repetitive actions within repetitive actions, enabling you to handle multidimensional data structures and perform complex operations\n",
        "- The `zip()` function combines multiple iterables into a single iterable, allowing you to iterate over them in parallel\n",
        "- The `enumerate()` function provides an index value along with the elements of an iterable, making it useful when you need to track the index during iteration\n",
        "- Control statements such as `break`, `continue`, and `else` can be used within for loops to modify the flow of execution"
      ]
    }
  ],
  "metadata": {
    "interpreter": {
      "hash": "569d6b7e9215e11aba41c6454007e5c1b78bad7df09dab765d8cf00362c40f03"
    },
    "kernelspec": {
      "display_name": "Python 3.9.1 64-bit ('base': conda)",
      "name": "python3"
    },
    "language_info": {
      "codemirror_mode": {
        "name": "ipython",
        "version": 3
      },
      "file_extension": ".py",
      "mimetype": "text/x-python",
      "name": "python",
      "nbconvert_exporter": "python",
      "pygments_lexer": "ipython3",
      "version": "3.9.2"
    },
    "colab": {
      "provenance": [],
      "include_colab_link": true
    }
  },
  "nbformat": 4,
  "nbformat_minor": 0
}
{
 "cells": [
  {
   "cell_type": "code",
   "execution_count": 2,
   "metadata": {},
   "outputs": [],
   "source": [
    "import numpy as np"
   ]
  },
  {
   "cell_type": "markdown",
   "metadata": {},
   "source": [
    "# 1. Create a NumPy array of random numbers with dimensions 6 x 10. Call it my_array"
   ]
  },
  {
   "cell_type": "code",
   "execution_count": 10,
   "metadata": {},
   "outputs": [
    {
     "name": "stdout",
     "output_type": "stream",
     "text": [
      "[[ 1.41114494  0.15358338  1.15499343  1.41657862  0.53306564 -1.65972019\n",
      "  -1.11035009 -0.16065344  0.83501041  0.16294001]\n",
      " [-0.7631869   1.64936481  0.3896498  -1.35423999 -2.01512559 -0.98193495\n",
      "   0.24535301 -1.79103679  1.73102936  0.99136699]\n",
      " [ 0.62197696  0.49633566  0.91121472 -0.77684983  0.12199874  0.15748038\n",
      "   0.09845986 -0.96711165 -1.23736323  2.20387112]\n",
      " [ 0.41486888  0.31576735  0.16783404 -2.17909744 -1.5897972  -0.62448734\n",
      "  -0.26026916 -0.9218923  -0.01818464 -0.1271994 ]\n",
      " [ 0.61196902  0.06481545  1.24956607  0.42948494  0.39896951 -1.14099795\n",
      "  -0.34355649 -0.07324472  0.17963395  1.20846815]\n",
      " [ 0.4774873   1.36764568  0.83601202 -2.08597348 -1.30391772  0.12039438\n",
      "   0.43844021 -0.50271793 -0.34422481  0.05894534]]\n"
     ]
    }
   ],
   "source": [
    "my_array = np.random.randn(6, 10)\n",
    "print(my_array)\n"
   ]
  },
  {
   "cell_type": "markdown",
   "metadata": {},
   "source": [
    "# 2. Slice out the 1st, 3rd and 5th column of the array into as new array. Call it new_array\n",
    "subarray = array[row_start:row_stop, column_start:column_stop]"
   ]
  },
  {
   "cell_type": "code",
   "execution_count": 20,
   "metadata": {},
   "outputs": [
    {
     "data": {
      "text/plain": [
       "array([[ 1.41114494,  1.15499343,  0.53306564],\n",
       "       [-0.7631869 ,  0.3896498 , -2.01512559],\n",
       "       [ 0.62197696,  0.91121472,  0.12199874],\n",
       "       [ 0.41486888,  0.16783404, -1.5897972 ],\n",
       "       [ 0.61196902,  1.24956607,  0.39896951],\n",
       "       [ 0.4774873 ,  0.83601202, -1.30391772]])"
      ]
     },
     "execution_count": 20,
     "metadata": {},
     "output_type": "execute_result"
    }
   ],
   "source": [
    "new_array = my_array[:, [0, 2, 4]]\n",
    "new_array"
   ]
  },
  {
   "cell_type": "markdown",
   "metadata": {},
   "source": [
    "# 3. Print the shape of each array you have created."
   ]
  },
  {
   "cell_type": "code",
   "execution_count": 21,
   "metadata": {},
   "outputs": [
    {
     "data": {
      "text/plain": [
       "(6, 3)"
      ]
     },
     "execution_count": 21,
     "metadata": {},
     "output_type": "execute_result"
    }
   ],
   "source": [
    "new_array.shape"
   ]
  },
  {
   "cell_type": "markdown",
   "metadata": {},
   "source": [
    "# 4. Try to multiply new_array x my_array. Does it work? If not, do you know why?"
   ]
  },
  {
   "cell_type": "code",
   "execution_count": 29,
   "metadata": {},
   "outputs": [
    {
     "ename": "ValueError",
     "evalue": "matmul: Input operand 1 has a mismatch in its core dimension 0, with gufunc signature (n?,k),(k,m?)->(n?,m?) (size 6 is different from 3)",
     "output_type": "error",
     "traceback": [
      "\u001b[0;31m---------------------------------------------------------------------------\u001b[0m",
      "\u001b[0;31mValueError\u001b[0m                                Traceback (most recent call last)",
      "\u001b[1;32m/home/ranvir/AiCore/07_numpy_array_operations/matrix_multiplication.ipynb Cell 9\u001b[0m line \u001b[0;36m1\n\u001b[0;32m----> <a href='vscode-notebook-cell://wsl%2Bubuntu/home/ranvir/AiCore/07_numpy_array_operations/matrix_multiplication.ipynb#X12sdnNjb2RlLXJlbW90ZQ%3D%3D?line=0'>1</a>\u001b[0m new_array \u001b[39m@\u001b[39;49m my_array\n",
      "\u001b[0;31mValueError\u001b[0m: matmul: Input operand 1 has a mismatch in its core dimension 0, with gufunc signature (n?,k),(k,m?)->(n?,m?) (size 6 is different from 3)"
     ]
    }
   ],
   "source": [
    "new_array @ my_array"
   ]
  },
  {
   "cell_type": "markdown",
   "metadata": {},
   "source": [
    "Matrix multiplication **(@)**: does not work becuase the requires that the number of columns in the first matrix matches the number of rows in the second matrix."
   ]
  },
  {
   "cell_type": "code",
   "execution_count": null,
   "metadata": {},
   "outputs": [],
   "source": [
    "new_array * my_array"
   ]
  },
  {
   "cell_type": "markdown",
   "metadata": {},
   "source": [
    "Element-Wise Multiplication **(*)**: does not work becuase the arrays are not the same size\n"
   ]
  },
  {
   "cell_type": "markdown",
   "metadata": {},
   "source": [
    "# 5. Transpose new_array and try again. Does it work now?"
   ]
  },
  {
   "cell_type": "code",
   "execution_count": 34,
   "metadata": {},
   "outputs": [
    {
     "data": {
      "text/plain": [
       "array([[ 3.735256  ,  0.09036466,  3.13275203,  0.91211918,  1.32802618,\n",
       "        -2.39460566, -1.80174922, -0.12865998, -0.97436644,  1.55901035],\n",
       "       [ 3.13275203,  2.54968676,  4.6046488 , -1.17237317, -0.91671315,\n",
       "        -3.58598966, -1.20356451, -2.43120442,  0.44505961,  4.12067181],\n",
       "       [ 1.32802618, -5.44069901, -0.91671315,  9.74493052,  8.74660704,\n",
       "         1.49379531, -1.36927797,  5.49744103, -2.64466378, -1.03449846]])"
      ]
     },
     "execution_count": 34,
     "metadata": {},
     "output_type": "execute_result"
    }
   ],
   "source": [
    "new_array.T @ my_array\n"
   ]
  },
  {
   "cell_type": "markdown",
   "metadata": {},
   "source": [
    "`.T` attribute is used to obtain the transpose of an array, which flips the array over its diagonal. \n",
    "This operation swaps rows and columns, effectively changing the shape of the array.\n",
    "Also this returns a reference not a new copy, this is to be memory efficient"
   ]
  }
 ],
 "metadata": {
  "kernelspec": {
   "display_name": "aicore",
   "language": "python",
   "name": "python3"
  },
  "language_info": {
   "codemirror_mode": {
    "name": "ipython",
    "version": 3
   },
   "file_extension": ".py",
   "mimetype": "text/x-python",
   "name": "python",
   "nbconvert_exporter": "python",
   "pygments_lexer": "ipython3",
   "version": "3.12.0"
  }
 },
 "nbformat": 4,
 "nbformat_minor": 2
}

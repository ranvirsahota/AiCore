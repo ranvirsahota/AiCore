{
  "cells": [
    {
      "cell_type": "markdown",
      "metadata": {
        "colab_type": "text",
        "id": "view-in-github"
      },
      "source": [
        "<a href=\"https://colab.research.google.com/github/ranvirsahota/AiCore/blob/advanced-python/4-generators.ipynb\" target=\"_parent\"><img src=\"https://colab.research.google.com/assets/colab-badge.svg\" alt=\"Open In Colab\"/></a>"
      ]
    },
    {
      "cell_type": "markdown",
      "metadata": {
        "id": "KHT8gr60Jjo4"
      },
      "source": [
        "# Generators"
      ]
    },
    {
      "cell_type": "markdown",
      "metadata": {
        "id": "sD2_I9nHJjo6"
      },
      "source": [
        "## Lesson Materials\n",
        "For this lesson, we will use a folder name `utils`. If you are in Colab and currently do not have this folder, run the following code to download the folder with the examples. Remember that you can access `.py` files in Colab and modify them."
      ]
    },
    {
      "cell_type": "code",
      "execution_count": null,
      "metadata": {
        "id": "OOIDt2hWJjo6"
      },
      "outputs": [],
      "source": [
        "!wget \"https://aicore-files.s3.amazonaws.com/Foundations/Python_Programming/advanced_py.zip\"\n",
        "import zipfile\n",
        "with zipfile.ZipFile(\"advanced_py.zip\", 'r') as zip_ref:\n",
        "    zip_ref.extractall(\"utils\")"
      ]
    },
    {
      "cell_type": "markdown",
      "metadata": {
        "id": "gYXjRiM_Jjo7"
      },
      "source": [
        "## Introduction\n",
        "Generators are similar to lists; however, instead of providing information on every element in the list, they supply tiny slices of the whole list. This is beneficial for\n",
        "\n",
        "- saving memory.\n",
        "- representing infinite lists (without buffer overflow).\n",
        "- generating pipelines (Fibonacci or factorial)."
      ]
    },
    {
      "cell_type": "markdown",
      "metadata": {
        "id": "39B4pXcrJjo7"
      },
      "source": [
        "## Creating Generators\n",
        "There are two approaches for creating generators:\n",
        "1. substituting return for yield in a function.\n",
        "2. using a comprehension.\n",
        "\n",
        "The difference between `return` and `yield` is that `yield` _pauses_ a function at a point and _resumes_ at that point the next time the function is called."
      ]
    },
    {
      "cell_type": "code",
      "execution_count": null,
      "metadata": {
        "id": "XxoZlQ1CJjo7"
      },
      "outputs": [],
      "source": [
        "def gen_test():\n",
        "    print('Starting the generator')\n",
        "    yield 1\n",
        "    print('Second time calling the generator')\n",
        "    yield 2\n",
        "    print('Third time calling the generator')\n",
        "    yield 3\n",
        "    print('Fourth time. After this, I will die if you call me again')\n",
        "    yield 4\n",
        "    print('Why do you hate me?')\n",
        "\n",
        "gen = gen_test()"
      ]
    },
    {
      "cell_type": "markdown",
      "metadata": {
        "id": "al-81tFlJjo8"
      },
      "source": [
        "Python is dynamically typed; therefore, by observing that `yield` is a keyword, Python acknowledges it as a generator."
      ]
    },
    {
      "cell_type": "code",
      "execution_count": null,
      "metadata": {
        "id": "PrhabD7dJjo8",
        "outputId": "9841b774-463a-4b3a-d5e6-045ed28ed7af"
      },
      "outputs": [],
      "source": [
        "type(gen)"
      ]
    },
    {
      "cell_type": "markdown",
      "metadata": {
        "id": "MzBLgauOJjo9"
      },
      "source": [
        "Consider the following, where a generator is called similar to a normal function."
      ]
    },
    {
      "cell_type": "code",
      "execution_count": null,
      "metadata": {
        "id": "VtUoR45cJjo9",
        "outputId": "5b02914e-abe1-45ad-ae21-38ca0e5e2ad1"
      },
      "outputs": [],
      "source": [
        "gen()"
      ]
    },
    {
      "cell_type": "markdown",
      "metadata": {
        "id": "A5FkfryEJjo9"
      },
      "source": [
        "The result is an error.\n",
        "\n",
        "The appropriate function for initialising a generator is `next`."
      ]
    },
    {
      "cell_type": "code",
      "execution_count": null,
      "metadata": {
        "id": "_Qhdyj3-Jjo9",
        "outputId": "ea7c2102-b00e-4329-bedb-f456b4d0f08e"
      },
      "outputs": [],
      "source": [
        "next(gen)"
      ]
    },
    {
      "cell_type": "markdown",
      "metadata": {
        "id": "IrbUPV6sJjo9"
      },
      "source": [
        "If we call it once more, we receive a different output:"
      ]
    },
    {
      "cell_type": "code",
      "execution_count": null,
      "metadata": {
        "id": "wxIRSnQsJjo9",
        "outputId": "d5207a7c-66cd-448d-dff9-f39c96212587"
      },
      "outputs": [],
      "source": [
        "next(gen)"
      ]
    },
    {
      "cell_type": "markdown",
      "metadata": {
        "id": "XgxBBDVBJjo9"
      },
      "source": [
        "If `next` is called repeatedly, the following occurs:"
      ]
    },
    {
      "cell_type": "code",
      "execution_count": null,
      "metadata": {
        "id": "1poUXmSXJjo-",
        "outputId": "5b83ce28-654a-4a4a-f98e-7a9ac71f32f1"
      },
      "outputs": [],
      "source": [
        "next(gen)"
      ]
    },
    {
      "cell_type": "code",
      "execution_count": null,
      "metadata": {
        "id": "7uK4G779Jjo-",
        "outputId": "d5568874-e5d4-4e88-877f-4d83c7aa52d8"
      },
      "outputs": [],
      "source": [
        "next(gen)"
      ]
    },
    {
      "cell_type": "markdown",
      "metadata": {
        "id": "Cr3QqorXJjo-"
      },
      "source": [
        "There appear to be no more `yield` statements. If `next` is called once more at this point, we receive the following output:"
      ]
    },
    {
      "cell_type": "code",
      "execution_count": null,
      "metadata": {
        "id": "ksVXEiOLJjo-",
        "outputId": "aa76bd4f-c431-42d4-984f-a635a3fcc169"
      },
      "outputs": [],
      "source": [
        "next(gen)"
      ]
    },
    {
      "cell_type": "markdown",
      "metadata": {
        "id": "8OY-PJzbJjo-"
      },
      "source": [
        "As can be observed, the iteration has been halted."
      ]
    },
    {
      "cell_type": "markdown",
      "metadata": {
        "id": "jHzBVKnNJjo-"
      },
      "source": [
        "## Generators in Loops"
      ]
    },
    {
      "cell_type": "markdown",
      "metadata": {
        "id": "QdTBGMM6Jjo-"
      },
      "source": [
        "Conventionally, generators are used in loops. A `For` loop halts when there are no more elements (or `yield` statements) to iterate through."
      ]
    },
    {
      "cell_type": "code",
      "execution_count": null,
      "metadata": {
        "id": "1_9lm97_Jjo-"
      },
      "outputs": [],
      "source": [
        "def gen_test():\n",
        "    print('Starting the generator')\n",
        "    yield 1\n",
        "    print('Second time calling the generator')\n",
        "    yield 2\n",
        "    print('Third time calling the generator')\n",
        "    yield 3\n",
        "    print('Fourth time. After this, I will die if you call me again')\n",
        "    yield 4\n",
        "    print('Why do you hate me?')\n",
        "\n",
        "gen = gen_test()"
      ]
    },
    {
      "cell_type": "markdown",
      "metadata": {
        "id": "U32fZkykJjo-"
      },
      "source": [
        "Here, we employ gen as an iterable in a `For` loop:"
      ]
    },
    {
      "cell_type": "code",
      "execution_count": null,
      "metadata": {
        "id": "_ubZ8OAZJjo-",
        "outputId": "6698d67a-2331-4389-ff18-49e8e95f22c9"
      },
      "outputs": [],
      "source": [
        "for i in gen:\n",
        "    print(i)"
      ]
    },
    {
      "cell_type": "markdown",
      "metadata": {
        "id": "kwCmLcCVJjo_"
      },
      "source": [
        "As shown above, all the items inside the generator were printed out successfully."
      ]
    },
    {
      "cell_type": "markdown",
      "metadata": {
        "id": "zJsjY2_KJjo_"
      },
      "source": [
        "With this in mind, it is possible to create infinite generators without expending infinite memory resources."
      ]
    },
    {
      "cell_type": "code",
      "execution_count": null,
      "metadata": {
        "id": "_o69meZjJjo_"
      },
      "outputs": [],
      "source": [
        "def inf_gen():\n",
        "    i = 0\n",
        "    while True:\n",
        "        yield i\n",
        "        i += 1\n",
        "\n",
        "gen = inf_gen()"
      ]
    },
    {
      "cell_type": "markdown",
      "metadata": {
        "id": "VoYPc08AJjo_"
      },
      "source": [
        "Observe that this generator has an infinite loop inside, and it will hit the `yield` statement every time it loops."
      ]
    },
    {
      "cell_type": "code",
      "execution_count": null,
      "metadata": {
        "id": "l0-ogKJeJjo_",
        "outputId": "aaf8a4e4-2a51-4498-8c02-4d1eb888fbc3"
      },
      "outputs": [],
      "source": [
        "next(gen)"
      ]
    },
    {
      "cell_type": "markdown",
      "metadata": {
        "id": "MP2rA4MbJjo_"
      },
      "source": [
        "It is a generator that returns the numbers from 0 to infinity.\n",
        "\n",
        "Please exercise caution! If used in a `For` loop, it will never stop!"
      ]
    },
    {
      "cell_type": "code",
      "execution_count": null,
      "metadata": {
        "id": "6wmtfwmlJjo_"
      },
      "outputs": [],
      "source": [
        "# Press Ctrl + C or the stop button to stop me!\n",
        "for i in inf_gen():\n",
        "    print(i, end=' ')"
      ]
    },
    {
      "cell_type": "markdown",
      "metadata": {
        "id": "KAGinUGkJjo_"
      },
      "source": [
        "Using this principle, it is possible to create an infinite fibonacci generator, the role of which is left to the programmer."
      ]
    },
    {
      "cell_type": "code",
      "execution_count": null,
      "metadata": {
        "id": "YwhhtVtRJjo_"
      },
      "outputs": [],
      "source": [
        "# Function with yield statement:\n",
        "def gen_fib():\n",
        "    n_0 = 0\n",
        "    n_1 = 1\n",
        "    while True:\n",
        "        n_2 = n_0 + n_1\n",
        "        yield n_2\n",
        "        print('I am coming back')\n",
        "        n_0 = n_1\n",
        "        n_1 = n_2\n",
        "\n",
        "fib = gen_fib()\n"
      ]
    },
    {
      "cell_type": "code",
      "execution_count": null,
      "metadata": {
        "id": "8IalVz2aJjo_",
        "outputId": "a2ce2940-3978-47ee-ec07-08d427450110"
      },
      "outputs": [],
      "source": [
        "for _ in range(10):\n",
        "    print(next(fib))"
      ]
    },
    {
      "cell_type": "markdown",
      "metadata": {
        "id": "jpkMO4fjJjo_"
      },
      "source": [
        "## Generator Comprehensions"
      ]
    },
    {
      "cell_type": "markdown",
      "metadata": {
        "id": "PLvOrQM7JjpA"
      },
      "source": [
        "A function definion is not required to create a generator. A comprehension statement can be employed to wrap it in parentheses."
      ]
    },
    {
      "cell_type": "code",
      "execution_count": null,
      "metadata": {
        "id": "31MYV0-cJjpA"
      },
      "outputs": [],
      "source": [
        "ls_double = [x * 2 for x in range(10)]\n",
        "ls_gen = (x * 2 for x in range(10))"
      ]
    },
    {
      "cell_type": "code",
      "execution_count": null,
      "metadata": {
        "id": "h9IpbmD5JjpA",
        "outputId": "ce1b5bf6-3262-4b65-f549-f4237453c1b1"
      },
      "outputs": [],
      "source": [
        "print(ls_double)\n",
        "print(ls_gen)\n",
        "# print(next(ls_gen))\n",
        "# print(next(ls_gen))\n",
        "# print(next(ls_gen))"
      ]
    },
    {
      "cell_type": "markdown",
      "metadata": {
        "id": "OQMF-iqVJjpC"
      },
      "source": [
        "However, similar to normal generators, if exhausted, Python will throw an error on the next attempt to retrieve data."
      ]
    },
    {
      "cell_type": "code",
      "execution_count": null,
      "metadata": {
        "id": "9dFMCrIeJjpC",
        "outputId": "13726fe2-e6a9-439a-adba-919e85d9b33f"
      },
      "outputs": [],
      "source": [
        "next(ls_gen)"
      ]
    },
    {
      "cell_type": "code",
      "execution_count": null,
      "metadata": {
        "id": "k1UY7EOgJjpC",
        "outputId": "411b75d2-dd52-4f91-f686-4c257674f2e0"
      },
      "outputs": [],
      "source": [
        "for i in ls_gen:\n",
        "    print(i)"
      ]
    },
    {
      "cell_type": "markdown",
      "metadata": {
        "id": "XkoUv8GgJjpC"
      },
      "source": [
        "## Conclusion\n",
        "In this lesson, we reviewed generators in Python on the surface level. To improve your knowledge and understanding of generators, engage in practicals and participate in as many challenges as possible. For examples, check [here](https://github.com/IvanYingX/Challenges_AiCore.git)"
      ]
    }
  ],
  "metadata": {
    "colab": {
      "include_colab_link": true,
      "provenance": []
    },
    "interpreter": {
      "hash": "beedbe2faf2f7048d727558d0bc3221e7eba2a0b921cac4d4771b2feb8f74b30"
    },
    "kernelspec": {
      "display_name": "Python 3.10.2 64-bit",
      "language": "python",
      "name": "python3"
    },
    "language_info": {
      "codemirror_mode": {
        "name": "ipython",
        "version": 3
      },
      "file_extension": ".py",
      "mimetype": "text/x-python",
      "name": "python",
      "nbconvert_exporter": "python",
      "pygments_lexer": "ipython3",
      "version": "3.10.2"
    }
  },
  "nbformat": 4,
  "nbformat_minor": 0
}

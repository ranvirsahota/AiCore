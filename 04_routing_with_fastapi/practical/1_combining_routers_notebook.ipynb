{
  "cells": [
    {
      "cell_type": "markdown",
      "metadata": {
        "id": "view-in-github",
        "colab_type": "text"
      },
      "source": [
        "<a href=\"https://colab.research.google.com/github/ranvirsahota/AiCore/blob/web-apis/04_routing_with_fastapi/practical/1_combining_routers_notebook.ipynb\" target=\"_parent\"><img src=\"https://colab.research.google.com/assets/colab-badge.svg\" alt=\"Open In Colab\"/></a>"
      ]
    },
    {
      "cell_type": "markdown",
      "metadata": {
        "id": "Nh-CeHWU67Zv"
      },
      "source": [
        "# Combining Routers"
      ]
    },
    {
      "cell_type": "markdown",
      "metadata": {
        "id": "amqf3BvM67Zx"
      },
      "source": [
        "\n",
        "You are building a simple API for a restaurant, and want to haver the endpoints associated with viewing the menu in a different file from those relating to placing an order.\n",
        "\n",
        "1. Create a file called `menu.py` and copy the following code into it:"
      ]
    },
    {
      "cell_type": "code",
      "execution_count": null,
      "metadata": {
        "id": "GJIA3VnR67Zx"
      },
      "outputs": [],
      "source": [
        "import fastapi\n",
        "\n",
        "api = fastapi.FastAPI()\n",
        "\n",
        "@api.get('/menu/')\n",
        "def menu():\n",
        "    return {'menu': ['pizza', 'pasta', 'salad', 'soup']}\n"
      ]
    },
    {
      "cell_type": "markdown",
      "metadata": {
        "id": "4Ivl_nV367Zy"
      },
      "source": [
        "2. Create another file called `order.py` and copy the following code into it:"
      ]
    },
    {
      "cell_type": "code",
      "execution_count": null,
      "metadata": {
        "id": "R3kWUvdu67Zy"
      },
      "outputs": [],
      "source": [
        "import fastapi\n",
        "\n",
        "api = fastapi.FastAPI()\n",
        "\n",
        "@api.post('/order/')\n",
        "def order(item: str, quantity: int):\n",
        "    print(f'Order received for {quantity} of {item}')\n"
      ]
    },
    {
      "cell_type": "markdown",
      "metadata": {
        "id": "KPmbtLlZ67Zy"
      },
      "source": [
        "3. Make changes to the code in `order.py` and `menu.py` so that each has its own router."
      ]
    },
    {
      "cell_type": "markdown",
      "metadata": {
        "id": "zHIv0XLT67Zz"
      },
      "source": [
        "4. Now create a file called `main.py` and add the two routers to a single main instance of `fastapi.FastAPI()`"
      ]
    },
    {
      "cell_type": "markdown",
      "metadata": {
        "id": "TddXT8kK67Zz"
      },
      "source": [
        "5. Test your code by running the API from `main.py` in the command line using `uvicorn`, and running the following Python code in a separate file:\n",
        "\n",
        "\n",
        "\n"
      ]
    },
    {
      "cell_type": "code",
      "execution_count": null,
      "metadata": {
        "id": "6bGg-t3I67Zz"
      },
      "outputs": [],
      "source": [
        "#%%\n",
        "import requests\n",
        "\n",
        "response = requests.get(\"http://127.0.0.1:8000/menu/\")\n",
        "print(response.json())\n",
        "\n",
        "response = requests.post(\"http://127.0.0.1:8000/order?item=pizza&quantity=2\")\n"
      ]
    }
  ],
  "metadata": {
    "language_info": {
      "name": "python"
    },
    "colab": {
      "provenance": [],
      "include_colab_link": true
    }
  },
  "nbformat": 4,
  "nbformat_minor": 0
}
{
  "cells": [
    {
      "cell_type": "markdown",
      "metadata": {
        "colab_type": "text",
        "id": "view-in-github"
      },
      "source": [
        "<a href=\"https://colab.research.google.com/github/ranvirsahota/AiCore/blob/14-advanced-sql/13_common_table_expressions/notebook_lesson.ipynb\" target=\"_parent\"><img src=\"https://colab.research.google.com/assets/colab-badge.svg\" alt=\"Open In Colab\"/></a>"
      ]
    },
    {
      "cell_type": "code",
      "execution_count": 1,
      "metadata": {},
      "outputs": [],
      "source": [
        "import sys\n",
        "sys.path.append('/home/ranvir/AiCore')\n",
        "from database_connection import DatabaseConnection\n",
        "db = DatabaseConnection()"
      ]
    },
    {
      "cell_type": "markdown",
      "metadata": {
        "id": "yivpfj6ebnGQ"
      },
      "source": [
        "<h1 style=\"color: rgb(241, 90, 36)\"><img src=\"https://github.com/AI-Core/Content-Public/blob/main/Content/units/Data-Handling/3.%20SQL/16.%20Common%20Table%20Expressions%20(CTEs)/images/SQLIcon.png?modified=24223&raw=1\" width=80px height=80px style=\"vertical-align: middle;\"> Common Table Expressions(CTEs)</h1>\n",
        "\n",
        "A *Common Table Expression* or *CTE* for short, is a temporary named result set in a SQL statement that can be referenced within the same query. You can have multiple CTEs included in the same query. You can think of CTEs as temporary tables which can help solve your query.\n",
        "\n",
        "The following is an example of syntax you can use to create CTEs:"
      ]
    },
    {
      "cell_type": "code",
      "execution_count": null,
      "metadata": {
        "id": "nubf8Mz7bnGR",
        "vscode": {
          "languageId": "sql"
        }
      },
      "outputs": [],
      "source": [
        "WITH {cte1_name} AS (\n",
        "    SELECT {column1, column2 ...}\n",
        "    FROM {table_name}\n",
        "    WHERE {VALUE OPERATOR}\n",
        "),\n",
        "{cte2} AS (\n",
        "    SELECT {column1, column2 ...}\n",
        "    FROM {table_name}\n",
        "    WHERE {VALUE OPERATOR}\n",
        ")\n",
        "SELECT {column1, column2 ...}\n",
        "FROM {table_name}\n",
        "WHERE {VALUE OPERATOR};"
      ]
    },
    {
      "cell_type": "markdown",
      "metadata": {
        "id": "QJylobKYbnGS"
      },
      "source": [
        "Creating CTEs begins with the `WITH` keyword followed by an alias `AS` for the CTE. You then wrap the query which will return your resultant set inside **parentheses**. In the example syntax, we've created a second CTE, which is separated by `,` another alias and again parentheses. The query ends with the final statement retrieving the final dataset.\n",
        "\n",
        "There are many benefits to use CTE's:\n",
        "\n",
        "- <b style=\"color: rgb(241, 90, 36)\">Code reuse and organization</b>: By using a CTE, you can define a complex query once and then reference it multiple times within the same query. This can simplify the code and makes it easier to read and maintain.\n",
        "\n",
        "- <b style=\"color: rgb(241, 90, 36)\">Improving query performance</b>: In some cases, a CTE can improve query performance by allowing the database engine to optimize the execution plan. This is especially true when the same subquery is repeated multiple times within a larger query.\n",
        "\n",
        "- <b style=\"color: rgb(241, 90, 36)\">Recursive queries</b>: CTEs can be used to perform recursive queries that are not possible with standard SQL queries. For example, you can use a CTE to traverse a tree structure or hierarchical data.\n",
        "\n",
        "- <b style=\"color: rgb(241, 90, 36)\">Simplifying complex queries</b>: When a query involves multiple levels of **nested subqueries**, using CTEs can make the code more readable and easier to understand.\n",
        "\n",
        "CTEs can often be a replacement for subqueries where a **derived table** was used. Let's look at an example of how to replace a **derived table** with a CTE:"
      ]
    },
    {
      "cell_type": "code",
      "execution_count": 10,
      "metadata": {
        "id": "bkd06dPybnGS"
      },
      "outputs": [
        {
          "data": {
            "text/html": [
              "<div>\n",
              "<style scoped>\n",
              "    .dataframe tbody tr th:only-of-type {\n",
              "        vertical-align: middle;\n",
              "    }\n",
              "\n",
              "    .dataframe tbody tr th {\n",
              "        vertical-align: top;\n",
              "    }\n",
              "\n",
              "    .dataframe thead th {\n",
              "        text-align: right;\n",
              "    }\n",
              "</style>\n",
              "<table border=\"1\" class=\"dataframe\">\n",
              "  <thead>\n",
              "    <tr style=\"text-align: right;\">\n",
              "      <th></th>\n",
              "      <th>average_sum_of_payments</th>\n",
              "    </tr>\n",
              "  </thead>\n",
              "  <tbody>\n",
              "    <tr>\n",
              "      <th>0</th>\n",
              "      <td>112.55</td>\n",
              "    </tr>\n",
              "  </tbody>\n",
              "</table>\n",
              "</div>"
            ],
            "text/plain": [
              "   average_sum_of_payments\n",
              "0                   112.55"
            ]
          },
          "execution_count": 10,
          "metadata": {},
          "output_type": "execute_result"
        }
      ],
      "source": [
        "db.execute_query('''\n",
        "                    SELECT ROUND(AVG(payment_sums.sum_of_payments), 2) AS average_sum_of_payments\n",
        "                    FROM\n",
        "                        (\n",
        "                            SELECT SUM(amount) AS sum_of_payments\n",
        "                            FROM\n",
        "                                payment\n",
        "                            GROUP BY\n",
        "                                customer_id\n",
        "                        ) AS payment_sums\n",
        "'''\n",
        ")"
      ]
    },
    {
      "cell_type": "markdown",
      "metadata": {
        "id": "bbWZ5FScbnGS"
      },
      "source": [
        "This could be represented by CTEs in the following way:"
      ]
    },
    {
      "cell_type": "code",
      "execution_count": 9,
      "metadata": {
        "id": "wPhVg_hzbnGS"
      },
      "outputs": [
        {
          "data": {
            "text/html": [
              "<div>\n",
              "<style scoped>\n",
              "    .dataframe tbody tr th:only-of-type {\n",
              "        vertical-align: middle;\n",
              "    }\n",
              "\n",
              "    .dataframe tbody tr th {\n",
              "        vertical-align: top;\n",
              "    }\n",
              "\n",
              "    .dataframe thead th {\n",
              "        text-align: right;\n",
              "    }\n",
              "</style>\n",
              "<table border=\"1\" class=\"dataframe\">\n",
              "  <thead>\n",
              "    <tr style=\"text-align: right;\">\n",
              "      <th></th>\n",
              "      <th>average_sum_of_payments</th>\n",
              "    </tr>\n",
              "  </thead>\n",
              "  <tbody>\n",
              "    <tr>\n",
              "      <th>0</th>\n",
              "      <td>112.55</td>\n",
              "    </tr>\n",
              "  </tbody>\n",
              "</table>\n",
              "</div>"
            ],
            "text/plain": [
              "   average_sum_of_payments\n",
              "0                   112.55"
            ]
          },
          "execution_count": 9,
          "metadata": {},
          "output_type": "execute_result"
        }
      ],
      "source": [
        "db.execute_query('''\n",
        "                    WITH cte AS (\n",
        "                        SELECT SUM(amount) AS sum_of_payments\n",
        "                        FROM\n",
        "                            payment\n",
        "                        GROUP BY\n",
        "                            customer_id\n",
        "                    )\n",
        "                    \n",
        "                    SELECT ROUND(AVG(sum_of_payments), 2) AS average_sum_of_payments\n",
        "                    FROM cte\n",
        "'''\n",
        ")"
      ]
    },
    {
      "cell_type": "markdown",
      "metadata": {
        "id": "GuXtgG1WbnGS"
      },
      "source": [
        "Here instead of deriving the table using a subquery we've just created a `cte`, which we can then reference in the final statement as though it was its own table."
      ]
    },
    {
      "cell_type": "markdown",
      "metadata": {
        "id": "bE6fjzb9bnGT"
      },
      "source": [
        "<h3 style=\"color: rgb(241, 90, 36)\"> Multiple CTEs</h3>\n",
        "\n",
        "Multiple CTEs can also be used to break down complex queries into stages, making it easier to retrieve the data you want. Let's count the amount of customers that rent movies at a higher than average `rental_rate`.\n",
        "\n",
        "- First create a CTE that returns the average of `rental_rate` in the `film` table\n",
        "- Create a CTE which contains information about the distinct costs of renting a movie\n",
        "- Create a third CTE which finds the average `amount` customers make to rent a movie\n",
        "- Create a the final query that only returns the customers with a higher than average payment `amount`\n",
        "\n",
        "We could break the first two statements into two separate queries first, before joining them together using CTEs to get the final result.\n",
        "\n",
        "Get the average of all `rental_rate`'s from `film`:"
      ]
    },
    {
      "cell_type": "code",
      "execution_count": 5,
      "metadata": {
        "id": "p8GSl1AobnGT"
      },
      "outputs": [
        {
          "data": {
            "text/html": [
              "<div>\n",
              "<style scoped>\n",
              "    .dataframe tbody tr th:only-of-type {\n",
              "        vertical-align: middle;\n",
              "    }\n",
              "\n",
              "    .dataframe tbody tr th {\n",
              "        vertical-align: top;\n",
              "    }\n",
              "\n",
              "    .dataframe thead th {\n",
              "        text-align: right;\n",
              "    }\n",
              "</style>\n",
              "<table border=\"1\" class=\"dataframe\">\n",
              "  <thead>\n",
              "    <tr style=\"text-align: right;\">\n",
              "      <th></th>\n",
              "      <th>avg</th>\n",
              "    </tr>\n",
              "  </thead>\n",
              "  <tbody>\n",
              "    <tr>\n",
              "      <th>0</th>\n",
              "      <td>2.978</td>\n",
              "    </tr>\n",
              "  </tbody>\n",
              "</table>\n",
              "</div>"
            ],
            "text/plain": [
              "     avg\n",
              "0  2.978"
            ]
          },
          "execution_count": 5,
          "metadata": {},
          "output_type": "execute_result"
        }
      ],
      "source": [
        "db.execute_query('''\n",
        "                    SELECT AVG(rental_rate)\n",
        "                    FROM film;\n",
        "''')\n"
      ]
    },
    {
      "cell_type": "markdown",
      "metadata": {
        "id": "Kh0SFTBubnGT"
      },
      "source": [
        "Get all distinct costs of renting a movie:"
      ]
    },
    {
      "cell_type": "code",
      "execution_count": 6,
      "metadata": {
        "id": "xW9OiOlzbnGT"
      },
      "outputs": [
        {
          "data": {
            "text/html": [
              "<div>\n",
              "<style scoped>\n",
              "    .dataframe tbody tr th:only-of-type {\n",
              "        vertical-align: middle;\n",
              "    }\n",
              "\n",
              "    .dataframe tbody tr th {\n",
              "        vertical-align: top;\n",
              "    }\n",
              "\n",
              "    .dataframe thead th {\n",
              "        text-align: right;\n",
              "    }\n",
              "</style>\n",
              "<table border=\"1\" class=\"dataframe\">\n",
              "  <thead>\n",
              "    <tr style=\"text-align: right;\">\n",
              "      <th></th>\n",
              "      <th>rental_rate</th>\n",
              "    </tr>\n",
              "  </thead>\n",
              "  <tbody>\n",
              "    <tr>\n",
              "      <th>0</th>\n",
              "      <td>2.99</td>\n",
              "    </tr>\n",
              "    <tr>\n",
              "      <th>1</th>\n",
              "      <td>4.99</td>\n",
              "    </tr>\n",
              "    <tr>\n",
              "      <th>2</th>\n",
              "      <td>0.99</td>\n",
              "    </tr>\n",
              "  </tbody>\n",
              "</table>\n",
              "</div>"
            ],
            "text/plain": [
              "   rental_rate\n",
              "0         2.99\n",
              "1         4.99\n",
              "2         0.99"
            ]
          },
          "execution_count": 6,
          "metadata": {},
          "output_type": "execute_result"
        }
      ],
      "source": [
        "db.execute_query('''\n",
        "                    SELECT DISTINCT(rental_rate)\n",
        "                    FROM film\n",
        "''')\n"
      ]
    },
    {
      "cell_type": "markdown",
      "metadata": {
        "id": "Alm5EjdGbnGT"
      },
      "source": [
        "Now we can join them together with CTEs and to create the third CTE. Which will, get all `amounts` in the `payment` table where the `amount` exists in the `distinct_rental_rates` CTE."
      ]
    },
    {
      "cell_type": "code",
      "execution_count": 11,
      "metadata": {
        "id": "VCZzkfV_bnGT"
      },
      "outputs": [
        {
          "data": {
            "text/html": [
              "<div>\n",
              "<style scoped>\n",
              "    .dataframe tbody tr th:only-of-type {\n",
              "        vertical-align: middle;\n",
              "    }\n",
              "\n",
              "    .dataframe tbody tr th {\n",
              "        vertical-align: top;\n",
              "    }\n",
              "\n",
              "    .dataframe thead th {\n",
              "        text-align: right;\n",
              "    }\n",
              "</style>\n",
              "<table border=\"1\" class=\"dataframe\">\n",
              "  <thead>\n",
              "    <tr style=\"text-align: right;\">\n",
              "      <th></th>\n",
              "      <th>rental_rates</th>\n",
              "    </tr>\n",
              "  </thead>\n",
              "  <tbody>\n",
              "    <tr>\n",
              "      <th>0</th>\n",
              "      <td>2.99</td>\n",
              "    </tr>\n",
              "    <tr>\n",
              "      <th>1</th>\n",
              "      <td>4.99</td>\n",
              "    </tr>\n",
              "    <tr>\n",
              "      <th>2</th>\n",
              "      <td>0.99</td>\n",
              "    </tr>\n",
              "  </tbody>\n",
              "</table>\n",
              "</div>"
            ],
            "text/plain": [
              "   rental_rates\n",
              "0          2.99\n",
              "1          4.99\n",
              "2          0.99"
            ]
          },
          "execution_count": 11,
          "metadata": {},
          "output_type": "execute_result"
        }
      ],
      "source": [
        "db.execute_query('''\n",
        "                    WITH distinct_rental_rates AS (\n",
        "                        SELECT DISTINCT(rental_rate) AS rental_rates\n",
        "                        FROM film\n",
        "                    ),average_rental_rate AS (\n",
        "                        SELECT AVG(rental_rate)\n",
        "                        FROM film\n",
        "                    ),average_customer_rental_payment AS (\n",
        "                        SELECT customer_id,\n",
        "                        AVG(amount) AS average_rental_payment\n",
        "                        FROM\n",
        "                            payment\n",
        "                        WHERE\n",
        "                            amount IN\n",
        "                            (\n",
        "                                SELECT rental_rates\n",
        "                                FROM distinct_rental_rates\n",
        "                            )\n",
        "                        GROUP BY\n",
        "                            customer_id\n",
        "                    )\n",
        "                    SELECT *\n",
        "                    FROM distinct_rental_rates;\n",
        "''')\n"
      ]
    },
    {
      "cell_type": "markdown",
      "metadata": {
        "id": "iAjbsRNWbnGT"
      },
      "source": [
        "Notice in the last CTE, we have to use a subquery to check the `amount` exists in `distinct_rental_rates`, since we can't use a CTE in the `WHERE` clause. Now we just have to perform the final query as we have all the required information."
      ]
    },
    {
      "cell_type": "code",
      "execution_count": 12,
      "metadata": {
        "id": "9mK_KnxybnGT"
      },
      "outputs": [
        {
          "data": {
            "text/html": [
              "<div>\n",
              "<style scoped>\n",
              "    .dataframe tbody tr th:only-of-type {\n",
              "        vertical-align: middle;\n",
              "    }\n",
              "\n",
              "    .dataframe tbody tr th {\n",
              "        vertical-align: top;\n",
              "    }\n",
              "\n",
              "    .dataframe thead th {\n",
              "        text-align: right;\n",
              "    }\n",
              "</style>\n",
              "<table border=\"1\" class=\"dataframe\">\n",
              "  <thead>\n",
              "    <tr style=\"text-align: right;\">\n",
              "      <th></th>\n",
              "      <th>customer_id</th>\n",
              "      <th>average_rental_payment</th>\n",
              "    </tr>\n",
              "  </thead>\n",
              "  <tbody>\n",
              "    <tr>\n",
              "      <th>0</th>\n",
              "      <td>43</td>\n",
              "      <td>4.36</td>\n",
              "    </tr>\n",
              "    <tr>\n",
              "      <th>1</th>\n",
              "      <td>363</td>\n",
              "      <td>4.36</td>\n",
              "    </tr>\n",
              "    <tr>\n",
              "      <th>2</th>\n",
              "      <td>59</td>\n",
              "      <td>4.19</td>\n",
              "    </tr>\n",
              "    <tr>\n",
              "      <th>3</th>\n",
              "      <td>478</td>\n",
              "      <td>4.17</td>\n",
              "    </tr>\n",
              "    <tr>\n",
              "      <th>4</th>\n",
              "      <td>398</td>\n",
              "      <td>3.99</td>\n",
              "    </tr>\n",
              "    <tr>\n",
              "      <th>...</th>\n",
              "      <td>...</td>\n",
              "      <td>...</td>\n",
              "    </tr>\n",
              "    <tr>\n",
              "      <th>421</th>\n",
              "      <td>143</td>\n",
              "      <td>2.99</td>\n",
              "    </tr>\n",
              "    <tr>\n",
              "      <th>422</th>\n",
              "      <td>129</td>\n",
              "      <td>2.99</td>\n",
              "    </tr>\n",
              "    <tr>\n",
              "      <th>423</th>\n",
              "      <td>131</td>\n",
              "      <td>2.99</td>\n",
              "    </tr>\n",
              "    <tr>\n",
              "      <th>424</th>\n",
              "      <td>510</td>\n",
              "      <td>2.99</td>\n",
              "    </tr>\n",
              "    <tr>\n",
              "      <th>425</th>\n",
              "      <td>172</td>\n",
              "      <td>2.99</td>\n",
              "    </tr>\n",
              "  </tbody>\n",
              "</table>\n",
              "<p>426 rows × 2 columns</p>\n",
              "</div>"
            ],
            "text/plain": [
              "     customer_id  average_rental_payment\n",
              "0             43                    4.36\n",
              "1            363                    4.36\n",
              "2             59                    4.19\n",
              "3            478                    4.17\n",
              "4            398                    3.99\n",
              "..           ...                     ...\n",
              "421          143                    2.99\n",
              "422          129                    2.99\n",
              "423          131                    2.99\n",
              "424          510                    2.99\n",
              "425          172                    2.99\n",
              "\n",
              "[426 rows x 2 columns]"
            ]
          },
          "execution_count": 12,
          "metadata": {},
          "output_type": "execute_result"
        }
      ],
      "source": [
        "db.execute_query('''\n",
        "                    WITH distinct_rental_rates AS (\n",
        "                        SELECT DISTINCT(rental_rate) AS rental_rates\n",
        "                        FROM film\n",
        "                    ),average_rental_rate AS (\n",
        "                        SELECT AVG(rental_rate) AS avg_rental_rate\n",
        "                        FROM film\n",
        "                    ),average_customer_rental_payment AS (\n",
        "                        SELECT customer_id,\n",
        "                        AVG(amount) AS average_rental_payment\n",
        "                        FROM\n",
        "                            payment\n",
        "                        WHERE\n",
        "                            amount IN\n",
        "                            (\n",
        "                                SELECT rental_rates\n",
        "                                FROM distinct_rental_rates\n",
        "                            )\n",
        "                        GROUP BY\n",
        "                            customer_id\n",
        "                    )SELECT customer_id,\n",
        "                        ROUND(average_rental_payment, 2) AS average_rental_payment\n",
        "                    FROM\n",
        "                        average_customer_rental_payment\n",
        "                    WHERE\n",
        "                        average_rental_payment >\n",
        "                        (\n",
        "                            SELECT avg_rental_rate\n",
        "                            FROM average_rental_rate\n",
        "                        )\n",
        "                    ORDER BY\n",
        "                        average_rental_payment DESC;\n",
        "''')"
      ]
    },
    {
      "cell_type": "markdown",
      "metadata": {
        "id": "qe6GOth4bnGT"
      },
      "source": [
        "This may look like a large and complicated query, but you can imagine how tangled it would be if we used **nested subqueries**. The logic here is easier to follow since we can break the complex query up into a series of steps using the CTEs, while not losing performance.\n",
        "\n",
        "The third CTE could have even been broken further into two separate CTE's. One to filter all the records for payment amounts which don't exist in the `distinct_rental_rates` table. Then a further CTE to group all those records by `customer_id` before returning the final query.\n",
        "\n",
        "You can see that CTEs can be very powerful to breakup the logic of a complex query making it easier to reach the result.\n",
        "\n",
        "## Key Takeaways\n",
        "\n",
        "- CTEs are reusable so they can help to reduce the amount of code required to perform complex queries\n",
        "- CTEs are great at helping you solve complex queries since you can build the query up in stages\n",
        "- CTEs can make code more readable by using them in place of nested subqueries\n"
      ]
    }
  ],
  "metadata": {
    "colab": {
      "include_colab_link": true,
      "provenance": []
    },
    "kernelspec": {
      "display_name": "base",
      "language": "python",
      "name": "python3"
    },
    "language_info": {
      "codemirror_mode": {
        "name": "ipython",
        "version": 3
      },
      "file_extension": ".py",
      "mimetype": "text/x-python",
      "name": "python",
      "nbconvert_exporter": "python",
      "pygments_lexer": "ipython3",
      "version": "3.12.0"
    },
    "vscode": {
      "interpreter": {
        "hash": "a2592652612463181e69ac003232387e3e9a99279aa6b168e76f5df16d5110f4"
      }
    }
  },
  "nbformat": 4,
  "nbformat_minor": 0
}

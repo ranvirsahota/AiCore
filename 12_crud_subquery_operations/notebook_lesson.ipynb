{
  "cells": [
    {
      "cell_type": "markdown",
      "metadata": {
        "colab_type": "text",
        "id": "view-in-github"
      },
      "source": [
        "<a href=\"https://colab.research.google.com/github/ranvirsahota/AiCore/blob/14-advanced-sql/12_crud_subquery_operations/notebook_lesson.ipynb\" target=\"_parent\"><img src=\"https://colab.research.google.com/assets/colab-badge.svg\" alt=\"Open In Colab\"/></a>"
      ]
    },
    {
      "cell_type": "code",
      "execution_count": 2,
      "metadata": {},
      "outputs": [],
      "source": [
        "import sys\n",
        "sys.path.append('/home/ranvir/AiCore')\n",
        "from database_connection import DatabaseConnection\n",
        "db = DatabaseConnection()"
      ]
    },
    {
      "cell_type": "markdown",
      "metadata": {
        "id": "4xy4UjUuNnnb"
      },
      "source": [
        "\n",
        "<h1 style=\"color: rgb(241, 90, 36)\"><img src=\"https://github.com/AI-Core/Content-Public/blob/main/Content/units/Data-Handling/3.%20SQL/15.%20CRUD%20Subquery%20Operations/images/SQLIcon.png?modified=2223&raw=1\" width=80px height=80px style=\"vertical-align: middle;\">CRUD Subquery Operations</h1>\n",
        "\n",
        "<h2 style=\"color: rgb(241, 90, 36)\"> Adding and removing records</h2>\n",
        "\n",
        "Subqueries can be of great help with inserting and removing data from a table. Instead of manually entering the data into a `INSERT`, `UPDATE` or `DELETE` statement, a subquery can be used to add or remove data.\n",
        "\n",
        ">Note that running these queries will either add or remove data from your database. You may need to restore the original if you want it back to its default state.\n",
        "\n",
        "<h3 style=\"color: rgb(241, 90, 36)\"> INSERT</h3>\n",
        "\n",
        "Data can be inserted into a table from the results of a subquery. Imagine we want a new table in our database solely to track payments coming from movie replacements not rental of movies. If you check the `rental_rate` using `DISTINCT` and `replacement_cost` columns of the `film` table. The cost to replace films starts at `9.99` and the cost to rent movies is a maximum of `4.99`. So we would want to create a table from `payments` where the `amount` taken is `>= 9.99`.\n",
        "\n",
        "Let's created a new table to store the data, tracking the `rental_id` `amount`, `payment_date` and `staff_id`. We'll also add a `replacement_id` column as a `PRIMARY KEY` to track **unique** replacements.\n"
      ]
    },
    {
      "cell_type": "code",
      "execution_count": null,
      "metadata": {
        "id": "ina1Ps3NNnnc",
        "vscode": {
          "languageId": "sql"
        }
      },
      "outputs": [],
      "source": [
        "CREATE TABLE IF NOT EXISTS rental_replacements (\n",
        "    replacement_id SERIAL PRIMARY KEY,\n",
        "    amount NUMERIC(8,2) NOT NULL,\n",
        "    payment_date TIMESTAMP NOT NULL,\n",
        "    staff_id INTEGER NOT NULL\n",
        ")"
      ]
    },
    {
      "cell_type": "markdown",
      "metadata": {
        "id": "uLV6Ic3eNnnd"
      },
      "source": [
        "That creates our table, now let's fill it with data using a **subquery**, the syntax to `INSERT` data using a **subquery** is:"
      ]
    },
    {
      "cell_type": "code",
      "execution_count": null,
      "metadata": {
        "id": "fjnpu84sNnnd",
        "vscode": {
          "languageId": "sql"
        }
      },
      "outputs": [],
      "source": [
        "INSERT INTO table_name (column1, column2 )\n",
        "(\n",
        "    SELECT column1,\n",
        "           column2\n",
        "    FROM\n",
        "        table1,\n",
        "        table2\n",
        "    WHERE\n",
        "        {VALUE OPERATOR }\n",
        ");"
      ]
    },
    {
      "cell_type": "markdown",
      "metadata": {
        "id": "A0UhPGoxNnnd"
      },
      "source": [
        "> Note the **subquery** `INSERT` doesn't require the use of the `VALUES` keyword.\n",
        "\n",
        "Using this syntax we create the query:"
      ]
    },
    {
      "cell_type": "code",
      "execution_count": null,
      "metadata": {
        "id": "1qlbYi2HNnnd",
        "vscode": {
          "languageId": "sql"
        }
      },
      "outputs": [],
      "source": [
        "\n",
        "INSERT INTO rental_replacements (amount, payment_date, staff_id)\n",
        "(\n",
        "    SELECT amount, payment_date, staff_id\n",
        "    FROM\n",
        "        payment\n",
        "    WHERE\n",
        "        amount >= 9.99\n",
        ");"
      ]
    },
    {
      "cell_type": "code",
      "execution_count": 3,
      "metadata": {},
      "outputs": [
        {
          "data": {
            "text/html": [
              "<div>\n",
              "<style scoped>\n",
              "    .dataframe tbody tr th:only-of-type {\n",
              "        vertical-align: middle;\n",
              "    }\n",
              "\n",
              "    .dataframe tbody tr th {\n",
              "        vertical-align: top;\n",
              "    }\n",
              "\n",
              "    .dataframe thead th {\n",
              "        text-align: right;\n",
              "    }\n",
              "</style>\n",
              "<table border=\"1\" class=\"dataframe\">\n",
              "  <thead>\n",
              "    <tr style=\"text-align: right;\">\n",
              "      <th></th>\n",
              "      <th>replacement_id</th>\n",
              "      <th>amount</th>\n",
              "      <th>payment_date</th>\n",
              "      <th>staff_id</th>\n",
              "    </tr>\n",
              "  </thead>\n",
              "  <tbody>\n",
              "    <tr>\n",
              "      <th>0</th>\n",
              "      <td>1</td>\n",
              "      <td>10.99</td>\n",
              "      <td>2007-01-30 01:13:42.996577</td>\n",
              "      <td>1</td>\n",
              "    </tr>\n",
              "    <tr>\n",
              "      <th>1</th>\n",
              "      <td>2</td>\n",
              "      <td>10.99</td>\n",
              "      <td>2007-01-25 20:27:24.996577</td>\n",
              "      <td>1</td>\n",
              "    </tr>\n",
              "    <tr>\n",
              "      <th>2</th>\n",
              "      <td>3</td>\n",
              "      <td>9.99</td>\n",
              "      <td>2007-01-26 08:46:53.996577</td>\n",
              "      <td>1</td>\n",
              "    </tr>\n",
              "    <tr>\n",
              "      <th>3</th>\n",
              "      <td>4</td>\n",
              "      <td>9.99</td>\n",
              "      <td>2007-01-24 23:07:48.996577</td>\n",
              "      <td>1</td>\n",
              "    </tr>\n",
              "    <tr>\n",
              "      <th>4</th>\n",
              "      <td>5</td>\n",
              "      <td>10.99</td>\n",
              "      <td>2007-01-28 23:29:52.996577</td>\n",
              "      <td>1</td>\n",
              "    </tr>\n",
              "    <tr>\n",
              "      <th>...</th>\n",
              "      <td>...</td>\n",
              "      <td>...</td>\n",
              "      <td>...</td>\n",
              "      <td>...</td>\n",
              "    </tr>\n",
              "    <tr>\n",
              "      <th>365</th>\n",
              "      <td>366</td>\n",
              "      <td>10.99</td>\n",
              "      <td>2007-04-30 16:12:50.996577</td>\n",
              "      <td>2</td>\n",
              "    </tr>\n",
              "    <tr>\n",
              "      <th>366</th>\n",
              "      <td>367</td>\n",
              "      <td>10.99</td>\n",
              "      <td>2007-04-29 20:14:47.996577</td>\n",
              "      <td>1</td>\n",
              "    </tr>\n",
              "    <tr>\n",
              "      <th>367</th>\n",
              "      <td>368</td>\n",
              "      <td>9.99</td>\n",
              "      <td>2007-04-07 17:44:24.996577</td>\n",
              "      <td>1</td>\n",
              "    </tr>\n",
              "    <tr>\n",
              "      <th>368</th>\n",
              "      <td>369</td>\n",
              "      <td>9.99</td>\n",
              "      <td>2007-04-10 20:39:30.996577</td>\n",
              "      <td>1</td>\n",
              "    </tr>\n",
              "    <tr>\n",
              "      <th>369</th>\n",
              "      <td>370</td>\n",
              "      <td>9.99</td>\n",
              "      <td>2007-04-10 09:01:18.996577</td>\n",
              "      <td>1</td>\n",
              "    </tr>\n",
              "  </tbody>\n",
              "</table>\n",
              "<p>370 rows × 4 columns</p>\n",
              "</div>"
            ],
            "text/plain": [
              "     replacement_id  amount               payment_date  staff_id\n",
              "0                 1   10.99 2007-01-30 01:13:42.996577         1\n",
              "1                 2   10.99 2007-01-25 20:27:24.996577         1\n",
              "2                 3    9.99 2007-01-26 08:46:53.996577         1\n",
              "3                 4    9.99 2007-01-24 23:07:48.996577         1\n",
              "4                 5   10.99 2007-01-28 23:29:52.996577         1\n",
              "..              ...     ...                        ...       ...\n",
              "365             366   10.99 2007-04-30 16:12:50.996577         2\n",
              "366             367   10.99 2007-04-29 20:14:47.996577         1\n",
              "367             368    9.99 2007-04-07 17:44:24.996577         1\n",
              "368             369    9.99 2007-04-10 20:39:30.996577         1\n",
              "369             370    9.99 2007-04-10 09:01:18.996577         1\n",
              "\n",
              "[370 rows x 4 columns]"
            ]
          },
          "execution_count": 3,
          "metadata": {},
          "output_type": "execute_result"
        }
      ],
      "source": [
        "db.execute_query('SELECT * FROM rental_replacements')"
      ]
    },
    {
      "cell_type": "markdown",
      "metadata": {
        "id": "xvw_AJkjNnnd"
      },
      "source": [
        "Which inserts all records into the new `rental_replacements` table with a payment `amount >= 9.99`.\n",
        "\n",
        "<h3 style=\"color: rgb(241, 90, 36)\"> UPDATE</h3>\n",
        "\n",
        "Updating a table can be done with the following syntax:\n"
      ]
    },
    {
      "cell_type": "code",
      "execution_count": null,
      "metadata": {
        "id": "hrRUi_I7Nnnd",
        "vscode": {
          "languageId": "sql"
        }
      },
      "outputs": [],
      "source": [
        "UPDATE {table_name}\n",
        "SET\n",
        "    column_name = new_value\n",
        "WHERE\n",
        "    {VALUE OPERATOR}\n",
        "    (\n",
        "        SELECT COLUMN_NAME\n",
        "        FROM {TABLE_NAME)\n",
        "        WHERE {VALUE OPERATOR}\n",
        "    );"
      ]
    },
    {
      "cell_type": "markdown",
      "metadata": {
        "id": "rkuv7XE4Nnnd"
      },
      "source": [
        "Let's imagine there is an error in our `rental` table. All payments taken for movies with `amount = 0.99` were actually sold by the staff member with `staff_id = 1`. So we can use the `payments` table to get all the `rental_id`'s `WHERE` the `staff_id = 2`. Then we match it with the `rental_id`'s in the `rental` table since they're unique. This is how to perform the query:"
      ]
    },
    {
      "cell_type": "code",
      "execution_count": null,
      "metadata": {
        "id": "4-x90ZV9Nnne",
        "vscode": {
          "languageId": "sql"
        }
      },
      "outputs": [],
      "source": [
        "UPDATE rental\n",
        "SET\n",
        "    staff_id = 1\n",
        "WHERE\n",
        "    rental_id IN\n",
        "    (\n",
        "        SELECT rental_id\n",
        "        FROM\n",
        "            payment\n",
        "        WHERE\n",
        "            amount = '0.99'\n",
        "            AND staff_id = 2\n",
        "    );"
      ]
    },
    {
      "cell_type": "markdown",
      "metadata": {
        "id": "YePqfsuNNnne"
      },
      "source": [
        "The **inside query** returns all `rental_id`'s with `amount = 0.99` and `staff_id = 2`, which are the records we want to `UPDATE` in the `rental` table. We then use the `WHERE` statement of the **outer query** to match all `rental_id`'s found by the subquery. Finally we set the `staff_id = 2` since these are the records we want to `UPDATE`.\n",
        "\n",
        "<h3 style=\"color: rgb(241, 90, 36)\"> DELETE</h3>\n",
        "\n",
        "Using subqueries to `DELETE` records has similar syntax to `INSERT` with subqueries, with the addition of a `WHERE` clause to filter the records to `DELETE`."
      ]
    },
    {
      "cell_type": "code",
      "execution_count": null,
      "metadata": {
        "id": "qHZ7fM7TNnne",
        "vscode": {
          "languageId": "sql"
        }
      },
      "outputs": [],
      "source": [
        "DELETE FROM table_name (column1, column2 )\n",
        "WHERE\n",
        "    {VALUE OPERATOR}\n",
        "(\n",
        "    SELECT column1,\n",
        "           column2\n",
        "    FROM\n",
        "        table1,\n",
        "        table2\n",
        "    WHERE\n",
        "        {VALUE OPERATOR }\n",
        ");"
      ]
    },
    {
      "cell_type": "markdown",
      "metadata": {
        "id": "sIGmhcKfNnne"
      },
      "source": [
        "Let's `DELETE` all rentals from the `rental` table where an `amount` hasn't been taken since the 28th of January 2007:"
      ]
    },
    {
      "cell_type": "code",
      "execution_count": null,
      "metadata": {
        "id": "WUypDLl8Nnne",
        "vscode": {
          "languageId": "sql"
        }
      },
      "outputs": [],
      "source": [
        "DELETE FROM rental\n",
        "WHERE\n",
        "    rental_id IN\n",
        "    (\n",
        "        SELECT rental_id\n",
        "        FROM\n",
        "            payment\n",
        "        GROUP BY\n",
        "            rental_id\n",
        "        HAVING\n",
        "            MIN(payment_date) <=  '2007-01-29'\n",
        "    );"
      ]
    },
    {
      "cell_type": "markdown",
      "metadata": {
        "id": "AInRbdUxNnne"
      },
      "source": [
        "We actually get an error, that the records can't be deleted since they violate a **constraint**, which is good database design. This stops the records being removed as another table depends on them. We could remove the **primary key constraint** from the `rental` table with a `CASCADE` such that we can then `DELETE` the records.\n",
        "\n",
        "First we need to find the name of the constraint. This can be done by querying the databases *information_schema*. The **information schema** holds metadata information about the database such as the name, tables, constraints and privileges among others.\n",
        "\n",
        "In particular, the `information_schema` has a table called `table_constraints`, where we can view the names of all constraints in the database. We can query it like any other table:"
      ]
    },
    {
      "cell_type": "code",
      "execution_count": 4,
      "metadata": {
        "id": "P40XWEFlNnne"
      },
      "outputs": [
        {
          "data": {
            "text/html": [
              "<div>\n",
              "<style scoped>\n",
              "    .dataframe tbody tr th:only-of-type {\n",
              "        vertical-align: middle;\n",
              "    }\n",
              "\n",
              "    .dataframe tbody tr th {\n",
              "        vertical-align: top;\n",
              "    }\n",
              "\n",
              "    .dataframe thead th {\n",
              "        text-align: right;\n",
              "    }\n",
              "</style>\n",
              "<table border=\"1\" class=\"dataframe\">\n",
              "  <thead>\n",
              "    <tr style=\"text-align: right;\">\n",
              "      <th></th>\n",
              "      <th>constraint_catalog</th>\n",
              "      <th>constraint_schema</th>\n",
              "      <th>constraint_name</th>\n",
              "      <th>table_catalog</th>\n",
              "      <th>table_schema</th>\n",
              "      <th>table_name</th>\n",
              "      <th>constraint_type</th>\n",
              "      <th>is_deferrable</th>\n",
              "      <th>initially_deferred</th>\n",
              "      <th>enforced</th>\n",
              "    </tr>\n",
              "  </thead>\n",
              "  <tbody>\n",
              "    <tr>\n",
              "      <th>0</th>\n",
              "      <td>pagila</td>\n",
              "      <td>pg_catalog</td>\n",
              "      <td>pg_proc_oid_index</td>\n",
              "      <td>pagila</td>\n",
              "      <td>pg_catalog</td>\n",
              "      <td>pg_proc</td>\n",
              "      <td>PRIMARY KEY</td>\n",
              "      <td>NO</td>\n",
              "      <td>NO</td>\n",
              "      <td>YES</td>\n",
              "    </tr>\n",
              "    <tr>\n",
              "      <th>1</th>\n",
              "      <td>pagila</td>\n",
              "      <td>pg_catalog</td>\n",
              "      <td>pg_proc_proname_args_nsp_index</td>\n",
              "      <td>pagila</td>\n",
              "      <td>pg_catalog</td>\n",
              "      <td>pg_proc</td>\n",
              "      <td>UNIQUE</td>\n",
              "      <td>NO</td>\n",
              "      <td>NO</td>\n",
              "      <td>YES</td>\n",
              "    </tr>\n",
              "    <tr>\n",
              "      <th>2</th>\n",
              "      <td>pagila</td>\n",
              "      <td>pg_catalog</td>\n",
              "      <td>pg_type_oid_index</td>\n",
              "      <td>pagila</td>\n",
              "      <td>pg_catalog</td>\n",
              "      <td>pg_type</td>\n",
              "      <td>PRIMARY KEY</td>\n",
              "      <td>NO</td>\n",
              "      <td>NO</td>\n",
              "      <td>YES</td>\n",
              "    </tr>\n",
              "    <tr>\n",
              "      <th>3</th>\n",
              "      <td>pagila</td>\n",
              "      <td>pg_catalog</td>\n",
              "      <td>pg_type_typname_nsp_index</td>\n",
              "      <td>pagila</td>\n",
              "      <td>pg_catalog</td>\n",
              "      <td>pg_type</td>\n",
              "      <td>UNIQUE</td>\n",
              "      <td>NO</td>\n",
              "      <td>NO</td>\n",
              "      <td>YES</td>\n",
              "    </tr>\n",
              "    <tr>\n",
              "      <th>4</th>\n",
              "      <td>pagila</td>\n",
              "      <td>pg_catalog</td>\n",
              "      <td>pg_attribute_relid_attnam_index</td>\n",
              "      <td>pagila</td>\n",
              "      <td>pg_catalog</td>\n",
              "      <td>pg_attribute</td>\n",
              "      <td>UNIQUE</td>\n",
              "      <td>NO</td>\n",
              "      <td>NO</td>\n",
              "      <td>YES</td>\n",
              "    </tr>\n",
              "    <tr>\n",
              "      <th>...</th>\n",
              "      <td>...</td>\n",
              "      <td>...</td>\n",
              "      <td>...</td>\n",
              "      <td>...</td>\n",
              "      <td>...</td>\n",
              "      <td>...</td>\n",
              "      <td>...</td>\n",
              "      <td>...</td>\n",
              "      <td>...</td>\n",
              "      <td>...</td>\n",
              "    </tr>\n",
              "    <tr>\n",
              "      <th>777</th>\n",
              "      <td>pagila</td>\n",
              "      <td>public</td>\n",
              "      <td>2200_25106_4_not_null</td>\n",
              "      <td>pagila</td>\n",
              "      <td>public</td>\n",
              "      <td>b_films</td>\n",
              "      <td>CHECK</td>\n",
              "      <td>NO</td>\n",
              "      <td>NO</td>\n",
              "      <td>YES</td>\n",
              "    </tr>\n",
              "    <tr>\n",
              "      <th>778</th>\n",
              "      <td>pagila</td>\n",
              "      <td>public</td>\n",
              "      <td>2200_41439_2_not_null</td>\n",
              "      <td>pagila</td>\n",
              "      <td>public</td>\n",
              "      <td>rental_replacements</td>\n",
              "      <td>CHECK</td>\n",
              "      <td>NO</td>\n",
              "      <td>NO</td>\n",
              "      <td>YES</td>\n",
              "    </tr>\n",
              "    <tr>\n",
              "      <th>779</th>\n",
              "      <td>pagila</td>\n",
              "      <td>public</td>\n",
              "      <td>2200_41439_3_not_null</td>\n",
              "      <td>pagila</td>\n",
              "      <td>public</td>\n",
              "      <td>rental_replacements</td>\n",
              "      <td>CHECK</td>\n",
              "      <td>NO</td>\n",
              "      <td>NO</td>\n",
              "      <td>YES</td>\n",
              "    </tr>\n",
              "    <tr>\n",
              "      <th>780</th>\n",
              "      <td>pagila</td>\n",
              "      <td>public</td>\n",
              "      <td>2200_41439_4_not_null</td>\n",
              "      <td>pagila</td>\n",
              "      <td>public</td>\n",
              "      <td>rental_replacements</td>\n",
              "      <td>CHECK</td>\n",
              "      <td>NO</td>\n",
              "      <td>NO</td>\n",
              "      <td>YES</td>\n",
              "    </tr>\n",
              "    <tr>\n",
              "      <th>781</th>\n",
              "      <td>pagila</td>\n",
              "      <td>public</td>\n",
              "      <td>2200_41439_1_not_null</td>\n",
              "      <td>pagila</td>\n",
              "      <td>public</td>\n",
              "      <td>rental_replacements</td>\n",
              "      <td>CHECK</td>\n",
              "      <td>NO</td>\n",
              "      <td>NO</td>\n",
              "      <td>YES</td>\n",
              "    </tr>\n",
              "  </tbody>\n",
              "</table>\n",
              "<p>782 rows × 10 columns</p>\n",
              "</div>"
            ],
            "text/plain": [
              "    constraint_catalog constraint_schema                  constraint_name table_catalog table_schema           table_name constraint_type is_deferrable initially_deferred enforced\n",
              "0               pagila        pg_catalog                pg_proc_oid_index        pagila   pg_catalog              pg_proc     PRIMARY KEY            NO                 NO      YES\n",
              "1               pagila        pg_catalog   pg_proc_proname_args_nsp_index        pagila   pg_catalog              pg_proc          UNIQUE            NO                 NO      YES\n",
              "2               pagila        pg_catalog                pg_type_oid_index        pagila   pg_catalog              pg_type     PRIMARY KEY            NO                 NO      YES\n",
              "3               pagila        pg_catalog        pg_type_typname_nsp_index        pagila   pg_catalog              pg_type          UNIQUE            NO                 NO      YES\n",
              "4               pagila        pg_catalog  pg_attribute_relid_attnam_index        pagila   pg_catalog         pg_attribute          UNIQUE            NO                 NO      YES\n",
              "..                 ...               ...                              ...           ...          ...                  ...             ...           ...                ...      ...\n",
              "777             pagila            public            2200_25106_4_not_null        pagila       public              b_films           CHECK            NO                 NO      YES\n",
              "778             pagila            public            2200_41439_2_not_null        pagila       public  rental_replacements           CHECK            NO                 NO      YES\n",
              "779             pagila            public            2200_41439_3_not_null        pagila       public  rental_replacements           CHECK            NO                 NO      YES\n",
              "780             pagila            public            2200_41439_4_not_null        pagila       public  rental_replacements           CHECK            NO                 NO      YES\n",
              "781             pagila            public            2200_41439_1_not_null        pagila       public  rental_replacements           CHECK            NO                 NO      YES\n",
              "\n",
              "[782 rows x 10 columns]"
            ]
          },
          "execution_count": 4,
          "metadata": {},
          "output_type": "execute_result"
        }
      ],
      "source": [
        "db.execute_query('SELECT * FROM information_schema.table_constraints;')"
      ]
    },
    {
      "cell_type": "markdown",
      "metadata": {
        "id": "KqibjMShNnne"
      },
      "source": [
        "Notice one of the columns is named `table_name`, so we can query it to check for all **constraints** in the `rental` table:"
      ]
    },
    {
      "cell_type": "code",
      "execution_count": null,
      "metadata": {
        "id": "jfVEhwslNnnf",
        "vscode": {
          "languageId": "sql"
        }
      },
      "outputs": [],
      "source": [
        "SELECT * FROM information_schema.table_constraints\n",
        "WHERE table_name = 'rental';"
      ]
    },
    {
      "cell_type": "markdown",
      "metadata": {
        "id": "iGJYRw4eNnnf"
      },
      "source": [
        "Which returns the results:\n",
        "\n",
        "<img src='https://github.com/AI-Core/Content-Public/blob/main/Content/units/Data-Handling/3.%20SQL/15.%20CRUD%20Subquery%20Operations/images/table_schema_constraints.png?modified=232&raw=1'>\n",
        "\n",
        "We can see that the **primary key constraint** is called `rental_pkey`. This is the constraint we need to drop. Since other tables rely on this **constraint** we will need to use `CASCADE` to drop the **constraint** and any **foreign keys** that rely on this column."
      ]
    },
    {
      "cell_type": "code",
      "execution_count": null,
      "metadata": {
        "id": "8-6tTM1nNnnf",
        "vscode": {
          "languageId": "sql"
        }
      },
      "outputs": [],
      "source": [
        "ALTER TABLE rental\n",
        "DROP CONSTRAINT rental_pkey CASCADE;"
      ]
    },
    {
      "cell_type": "markdown",
      "metadata": {
        "id": "qhxMZohYNnnf"
      },
      "source": [
        "Now that the constraint has been removed we should be able to drop the records. Rerun the `DELETE` query and it should result in the records being removed.\n",
        "\n",
        "## Key Takeaways\n",
        "\n",
        "- Using subqueries with **CRUD operations** can help you to insert data quickly which is less prone to error\n",
        "- Be careful when using `DELETE` when performing subqueries, use a `SELECT` first to check they data you're deleted is what you expect\n",
        "- When using `DELETE` on a table you might need to drop some constraints first before it can be deleted. So be sure you want to delete this data as another table might rely on it.\n",
        "- Using `UPDATE` with subqueries can help you to update very specific information in a table\n",
        "- Using `INSERT` with subqueries allows you fill new tables with data quickly from other tables"
      ]
    }
  ],
  "metadata": {
    "colab": {
      "include_colab_link": true,
      "provenance": []
    },
    "kernelspec": {
      "display_name": "base",
      "language": "python",
      "name": "python3"
    },
    "language_info": {
      "codemirror_mode": {
        "name": "ipython",
        "version": 3
      },
      "file_extension": ".py",
      "mimetype": "text/x-python",
      "name": "python",
      "nbconvert_exporter": "python",
      "pygments_lexer": "ipython3",
      "version": "3.12.0"
    },
    "vscode": {
      "interpreter": {
        "hash": "a2592652612463181e69ac003232387e3e9a99279aa6b168e76f5df16d5110f4"
      }
    }
  },
  "nbformat": 4,
  "nbformat_minor": 0
}

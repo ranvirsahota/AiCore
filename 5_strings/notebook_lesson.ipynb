{
  "cells": [
    {
      "cell_type": "markdown",
      "metadata": {
        "id": "view-in-github",
        "colab_type": "text"
      },
      "source": [
        "<a href=\"https://colab.research.google.com/github/ranvirsahota/AiCore/blob/python-basics/5_strings/notebook_lesson.ipynb\" target=\"_parent\"><img src=\"https://colab.research.google.com/assets/colab-badge.svg\" alt=\"Open In Colab\"/></a>"
      ]
    },
    {
      "cell_type": "markdown",
      "metadata": {
        "id": "yCSoEsgUN40r"
      },
      "source": [
        "# Strings"
      ]
    },
    {
      "cell_type": "markdown",
      "metadata": {
        "id": "vQNO0QoXN40r"
      },
      "source": [
        "In Python, a *string* is a sequence of characters enclosed in either single quotes (`''`) or double quotes (`\"\"`). Strings are one of the fundamental data types in Python and are widely used for representing textual data. They allow us to store and manipulate text, such as names, sentences, or even entire documents.\n",
        "\n",
        "Strings can contain any combination of letters, numbers, symbols, and whitespace characters. For example, `\"Hello, World!\"` and `'I love Python'` are both valid string literals in Python."
      ]
    },
    {
      "cell_type": "markdown",
      "metadata": {
        "id": "CE8BM-boN40s"
      },
      "source": [
        "## Motivation\n",
        "\n",
        "Welcome to your journey of learning about strings in programming! Let's explore the key reasons why learning about strings is valuable:\n",
        "- **Text Manipulation**: Strings are essential for working with text data in programming. They allow us to store and change groups of letters, words, and sentences. With strings, we can do cool things like getting input from users, processing text, and making text look nice and organized.\n",
        "\n",
        "- **Data Representation and Communication**: Strings help us represent and communicate text information in programs. They are like messengers that help us send and receive text. We can display messages to users, read and write text from files, and even send text over the internet. Strings are the language that computers understand when it comes to text.\n",
        "\n",
        "- **Problem Solving and Data Analysis**: Understanding strings is important for problem-solving and data analysis. Many real-world problems involve working with text, like finding specific words, changing parts of a text, or doing calculations based on text. When we know how to work with strings, we can solve all sorts of interesting problems and analyze data in new and exciting ways."
      ]
    },
    {
      "cell_type": "markdown",
      "metadata": {
        "id": "jcWnO4IRN40s"
      },
      "source": [
        "## Creating String variables\n",
        "\n",
        "To work with strings in Python, you can assign them to variables. Variables act as containers that store data, including strings. Here's an example of creating a string variable:"
      ]
    },
    {
      "cell_type": "code",
      "execution_count": null,
      "metadata": {
        "id": "3J1Uwml-N40s",
        "outputId": "440f9571-7fa4-4e37-808f-aa23778ad501"
      },
      "outputs": [
        {
          "name": "stdout",
          "output_type": "stream",
          "text": [
            "Hello, Python!\n"
          ]
        }
      ],
      "source": [
        "message = \"Hello, Python!\"\n",
        "print(message)"
      ]
    },
    {
      "cell_type": "markdown",
      "metadata": {
        "id": "d5MxryiZN40t"
      },
      "source": [
        "In this example, we create a string variable named `message` and assign it the value `\"Hello, Python!\"`. The `print()` function is then used to display the value of the message variable, which will output `\"Hello, Python!\"`.\n",
        "\n",
        "String variables can also be created using single quotes:"
      ]
    },
    {
      "cell_type": "code",
      "execution_count": 1,
      "metadata": {
        "colab": {
          "base_uri": "https://localhost:8080/"
        },
        "id": "2zAfUmBpN40t",
        "outputId": "d73dc6aa-132f-427b-f3a6-4a3a7e39b59d"
      },
      "outputs": [
        {
          "output_type": "stream",
          "name": "stdout",
          "text": [
            "John Doe\n"
          ]
        }
      ],
      "source": [
        "name = 'John Doe'\n",
        "print(name)"
      ]
    },
    {
      "cell_type": "markdown",
      "metadata": {
        "id": "9YaOrTbkN40t"
      },
      "source": [
        "> It's important to note that the choice between single quotes and double quotes is a matter of personal preference or specific requirements. However, it's recommended to be consistent in your usage throughout your codebase.\n",
        "\n",
        "You can also assign an empty string to a variable:"
      ]
    },
    {
      "cell_type": "code",
      "execution_count": 2,
      "metadata": {
        "colab": {
          "base_uri": "https://localhost:8080/"
        },
        "id": "KL7vEilwN40t",
        "outputId": "bec41ab1-3e9a-4738-dfef-896d4d14f324"
      },
      "outputs": [
        {
          "output_type": "stream",
          "name": "stdout",
          "text": [
            "\n"
          ]
        }
      ],
      "source": [
        "empty_string = \"\"\n",
        "print(empty_string)"
      ]
    },
    {
      "cell_type": "markdown",
      "metadata": {
        "id": "LXS8L0OON40t"
      },
      "source": [
        "In this case, the `empty_string` variable is assigned an empty string value, represented by two quotation marks with nothing in between. The `print()` function will output an empty line."
      ]
    },
    {
      "cell_type": "markdown",
      "metadata": {
        "id": "IbubKkrgN40t"
      },
      "source": [
        "## String Concatenation\n",
        "\n",
        "String concatenation is the process of combining two or more strings together. In Python, you can concatenate strings using the `+` operator. When you use the `+` operator with strings, it merges them into a single string.\n",
        "\n",
        "Here's an example of string concatenation:"
      ]
    },
    {
      "cell_type": "code",
      "execution_count": 3,
      "metadata": {
        "colab": {
          "base_uri": "https://localhost:8080/"
        },
        "id": "h4QCxzjsN40t",
        "outputId": "610d6443-c9a5-43d8-d57f-0ded3949f3ec"
      },
      "outputs": [
        {
          "output_type": "stream",
          "name": "stdout",
          "text": [
            "John Doe\n"
          ]
        }
      ],
      "source": [
        "first_name = \"John\"\n",
        "last_name = \"Doe\"\n",
        "full_name = first_name + \" \" + last_name\n",
        "print(full_name)"
      ]
    },
    {
      "cell_type": "markdown",
      "metadata": {
        "id": "xYzEUf5vN40u"
      },
      "source": [
        "In this example, we have two string variables `first_name` and `last_name`. By using the `+` operator and an additional string containing a space, we concatenate the two variables together, resulting in the `full_name` variable containing `\"John Doe\"`. The `print()` function displays the value of `full_name`.\n",
        "\n",
        "You can also concatenate string literals directly without using variables:"
      ]
    },
    {
      "cell_type": "code",
      "execution_count": 4,
      "metadata": {
        "colab": {
          "base_uri": "https://localhost:8080/"
        },
        "id": "_Nxd1XJTN40u",
        "outputId": "e3a12fe0-2b39-4174-89be-2fbf0bafed11"
      },
      "outputs": [
        {
          "output_type": "stream",
          "name": "stdout",
          "text": [
            "Hello, World!\n"
          ]
        }
      ],
      "source": [
        "greeting = \"Hello\" + \", \" + \"World!\"\n",
        "print(greeting)"
      ]
    },
    {
      "cell_type": "markdown",
      "metadata": {
        "id": "BFDfWnyMN40u"
      },
      "source": [
        "In this case, we concatenate the string literals `\"Hello\"`, `\", \"`, and `\"World!\"` together, resulting in the greeting variable containing `\"Hello, World!\"`.\n",
        "\n",
        "It's worth noting that when concatenating strings, you can include additional characters or whitespace between the string variables or literals to format the resulting string as desired."
      ]
    },
    {
      "cell_type": "markdown",
      "metadata": {
        "id": "4Apma88xN40u"
      },
      "source": [
        "## String Indexing and Slicing\n",
        "\n",
        "> Strings in Python are ordered sequences of characters, which means that each character in a string has a specific index associated with it.\n",
        "\n",
        "String indexing allows you to access individual characters within a string.\n",
        "\n",
        "> In Python, string indexing starts at 0, so the first character of a string has an index of 0, the second character has an index of 1, and so on.\n",
        "\n",
        "You can use square brackets (`[]`) and the index number to access a specific character in a string. Here's an example of string indexing:"
      ]
    },
    {
      "cell_type": "code",
      "execution_count": 5,
      "metadata": {
        "colab": {
          "base_uri": "https://localhost:8080/"
        },
        "id": "N6rnmp1BN40u",
        "outputId": "857c583a-fe1a-4ade-899b-3bd178d1330c"
      },
      "outputs": [
        {
          "output_type": "stream",
          "name": "stdout",
          "text": [
            "H\n",
            "W\n"
          ]
        }
      ],
      "source": [
        "message = \"Hello, World!\"\n",
        "print(message[0])  # Output: H\n",
        "print(message[7])  # Output: W"
      ]
    },
    {
      "cell_type": "markdown",
      "metadata": {
        "id": "g6P380ykN40u"
      },
      "source": [
        "In this example, we define a string variable `message` with the value `\"Hello, World!\"`. By using the square brackets and the index numbers, we access the first character of the string (index 0), which is `\"H\"`, and the eighth character of the string (index 7), which is `\"W\"`.\n",
        "\n",
        "In addition to indexing individual characters, you can also extract a portion of a string using string slicing.\n",
        "> String slicing allows you to create a new string that includes a specified range of characters from the original string.\n",
        "\n",
        "To slice a string, you need to provide the starting index and the ending index (exclusive) separated by a colon (`:`) inside the square brackets. The starting index is inclusive, meaning that the character at that index will be included in the slice. The ending index is exclusive, meaning that the character at that index will not be included in the slice.\n",
        "\n",
        "Here's an example of string slicing:"
      ]
    },
    {
      "cell_type": "code",
      "execution_count": 6,
      "metadata": {
        "colab": {
          "base_uri": "https://localhost:8080/"
        },
        "id": "0cAJ_zczN40u",
        "outputId": "50574410-1a26-4deb-a3bc-b2a2994c4846"
      },
      "outputs": [
        {
          "output_type": "stream",
          "name": "stdout",
          "text": [
            "Hello\n",
            "World\n"
          ]
        }
      ],
      "source": [
        "message = \"Hello, World!\"\n",
        "print(message[0:5])  # Output: Hello\n",
        "print(message[7:12])  # Output: World"
      ]
    },
    {
      "cell_type": "markdown",
      "metadata": {
        "id": "Iupl_CIdN40u"
      },
      "source": [
        "In this example, we use string slicing to extract the substring `\"Hello\"` from the message string. The slice `message[0:5]` starts at index `0` and ends at index `5` (exclusive), including characters at indices 0, 1, 2."
      ]
    },
    {
      "cell_type": "markdown",
      "metadata": {
        "id": "G-DFXJ4fN40u"
      },
      "source": [
        "Here are some additional examples of slicing that use different slicing syntax and step values:\n",
        "- Slicing from the beginning"
      ]
    },
    {
      "cell_type": "code",
      "execution_count": 7,
      "metadata": {
        "colab": {
          "base_uri": "https://localhost:8080/"
        },
        "id": "9e0dUDlmN40u",
        "outputId": "efdfaaf3-4de1-4b59-b6aa-a180371b15f8"
      },
      "outputs": [
        {
          "output_type": "stream",
          "name": "stdout",
          "text": [
            "Hello\n"
          ]
        }
      ],
      "source": [
        "text = \"Hello, World!\"\n",
        "print(text[:5])\n",
        "# Output: \"Hello\""
      ]
    },
    {
      "cell_type": "markdown",
      "metadata": {
        "id": "9tE_6QYJN40u"
      },
      "source": [
        "In this example, we use `text[:5]` to slice the string text from the beginning up to index `5` (exclusive). This includes characters at indices 0, 1, 2, 3, and 4, resulting in the substring `\"Hello\"`.\n",
        "- Slicing to the end"
      ]
    },
    {
      "cell_type": "code",
      "execution_count": 8,
      "metadata": {
        "colab": {
          "base_uri": "https://localhost:8080/"
        },
        "id": "tKCgTpTnN40v",
        "outputId": "9d55fabb-2f04-4f48-f53f-0164e0124ec0"
      },
      "outputs": [
        {
          "output_type": "stream",
          "name": "stdout",
          "text": [
            "World!\n"
          ]
        }
      ],
      "source": [
        "text = \"Hello, World!\"\n",
        "print(text[7:])\n",
        "# Output: \"World!\""
      ]
    },
    {
      "cell_type": "markdown",
      "metadata": {
        "id": "rB0Oq9sGN40v"
      },
      "source": [
        "Here, we use `text[7:]` to slice the string text from index `7` to the end. This includes all characters starting from index `7` to the end of the string, resulting in the substring `\"World!\"`.\n",
        "- slicing with start and end indices"
      ]
    },
    {
      "cell_type": "code",
      "execution_count": 9,
      "metadata": {
        "colab": {
          "base_uri": "https://localhost:8080/"
        },
        "id": "WIPIRtIsN40v",
        "outputId": "e17a18c5-01f1-4268-92d5-26edb32f37cc"
      },
      "outputs": [
        {
          "output_type": "stream",
          "name": "stdout",
          "text": [
            "llo, \n"
          ]
        }
      ],
      "source": [
        "text = \"Hello, World!\"\n",
        "print(text[2:7])\n",
        "# Output: \"llo, \""
      ]
    },
    {
      "cell_type": "markdown",
      "metadata": {
        "id": "4vET9m7LN40v"
      },
      "source": [
        "In this example, we use `text[2:7]` to slice the string text from index `2` to index `7` (exclusive). This includes characters at indices 2, 3, 4, 5, and 6, resulting in the substring `\"llo, \"`.\n",
        "- Slicing with step value"
      ]
    },
    {
      "cell_type": "code",
      "execution_count": 10,
      "metadata": {
        "colab": {
          "base_uri": "https://localhost:8080/"
        },
        "id": "cV6UVn9fN40v",
        "outputId": "67d13c0e-1fe3-415b-d159-45544217dec2"
      },
      "outputs": [
        {
          "output_type": "stream",
          "name": "stdout",
          "text": [
            "Hlo ol!\n"
          ]
        }
      ],
      "source": [
        "text = \"Hello, World!\"\n",
        "print(text[::2])\n",
        "# Output: \"Hlo ol!\""
      ]
    },
    {
      "cell_type": "markdown",
      "metadata": {
        "id": "wmvf0_9JN40v"
      },
      "source": [
        "Here, we use `text[::2]` to slice the string text with a step value of `2`. This retrieves every second character in the string, resulting in the substring `\"Hlo ol!\"`."
      ]
    },
    {
      "cell_type": "code",
      "execution_count": 11,
      "metadata": {
        "colab": {
          "base_uri": "https://localhost:8080/"
        },
        "id": "e8xMZ2GRN40v",
        "outputId": "0fe79d89-08a2-4c75-8d3f-cdec4704709b"
      },
      "outputs": [
        {
          "output_type": "stream",
          "name": "stdout",
          "text": [
            "el,Wr\n"
          ]
        }
      ],
      "source": [
        "text = \"Hello, World!\"\n",
        "print(text[1:10:2])\n",
        "# Output: \"el,Wr\""
      ]
    },
    {
      "cell_type": "markdown",
      "metadata": {
        "id": "USzkvpZfN40v"
      },
      "source": [
        "In this example, we use `text[1:10:2]` to slice the string `text`. The start index is `1`, the end index is `10` (exclusive), and the step value is `2`.\n",
        "\n",
        "The slicing operation starts at index `1` (`\"e\"`), includes every second character, and stops at index `10` (`\"d\"`). The resulting substring is `\"el,Wr\"`.\n",
        "\n",
        "Here's a breakdown of the slicing steps:\n",
        "- The character at index `1` is included: `\"e\"`\n",
        "- The character at index `3` is skipped: `\"l\"`\n",
        "- The character at index `5` is included: `\",\"`\n",
        "- The character at index `7` is skipped: `\"W\"`\n",
        "- The character at index `9` is included: `\"r\"`\n",
        "\n",
        "By specifying both start and end indices along with a step value, you can create customized slices that skip or include specific characters based on your requirements."
      ]
    },
    {
      "cell_type": "markdown",
      "metadata": {
        "id": "qky2rOjjN40v"
      },
      "source": [
        "## Common indexing and slicing errors\n",
        "\n",
        "### Index Out of Range"
      ]
    },
    {
      "cell_type": "code",
      "execution_count": 12,
      "metadata": {
        "colab": {
          "base_uri": "https://localhost:8080/",
          "height": 193
        },
        "id": "Udk69jhtN40v",
        "outputId": "1b5f2c2e-6a2b-49bc-b58b-861865ec6f56"
      },
      "outputs": [
        {
          "output_type": "error",
          "ename": "IndexError",
          "evalue": "ignored",
          "traceback": [
            "\u001b[0;31m---------------------------------------------------------------------------\u001b[0m",
            "\u001b[0;31mIndexError\u001b[0m                                Traceback (most recent call last)",
            "\u001b[0;32m<ipython-input-12-dc264166fe02>\u001b[0m in \u001b[0;36m<cell line: 2>\u001b[0;34m()\u001b[0m\n\u001b[1;32m      1\u001b[0m \u001b[0mtext\u001b[0m \u001b[0;34m=\u001b[0m \u001b[0;34m\"Hello, World!\"\u001b[0m\u001b[0;34m\u001b[0m\u001b[0;34m\u001b[0m\u001b[0m\n\u001b[0;32m----> 2\u001b[0;31m \u001b[0mprint\u001b[0m\u001b[0;34m(\u001b[0m\u001b[0mtext\u001b[0m\u001b[0;34m[\u001b[0m\u001b[0;36m20\u001b[0m\u001b[0;34m]\u001b[0m\u001b[0;34m)\u001b[0m\u001b[0;34m\u001b[0m\u001b[0;34m\u001b[0m\u001b[0m\n\u001b[0m",
            "\u001b[0;31mIndexError\u001b[0m: string index out of range"
          ]
        }
      ],
      "source": [
        "text = \"Hello, World!\"\n",
        "print(text[20])"
      ]
    },
    {
      "cell_type": "markdown",
      "metadata": {
        "id": "cuxm3m90N40v"
      },
      "source": [
        "In this example, the string `text` has a length of 13. However, when we try to access the character at index `20`, which is beyond the range of valid indices for the string, we encounter an `IndexError`. Python raises this error to indicate that the index is out of range.\n",
        "\n",
        "To avoid this error, ensure that the index used for indexing or slicing is within the valid range of the string's indices (0 to length-1)."
      ]
    },
    {
      "cell_type": "markdown",
      "metadata": {
        "id": "Tpd-luMxN40w"
      },
      "source": [
        "### Using a Floating-Point Index"
      ]
    },
    {
      "cell_type": "code",
      "execution_count": 13,
      "metadata": {
        "colab": {
          "base_uri": "https://localhost:8080/",
          "height": 193
        },
        "id": "KqMUkf1PN40w",
        "outputId": "5414f6a1-25a4-487e-e100-736c6e8d7551"
      },
      "outputs": [
        {
          "output_type": "error",
          "ename": "TypeError",
          "evalue": "ignored",
          "traceback": [
            "\u001b[0;31m---------------------------------------------------------------------------\u001b[0m",
            "\u001b[0;31mTypeError\u001b[0m                                 Traceback (most recent call last)",
            "\u001b[0;32m<ipython-input-13-0933c100ae47>\u001b[0m in \u001b[0;36m<cell line: 2>\u001b[0;34m()\u001b[0m\n\u001b[1;32m      1\u001b[0m \u001b[0mtext\u001b[0m \u001b[0;34m=\u001b[0m \u001b[0;34m\"Hello, World!\"\u001b[0m\u001b[0;34m\u001b[0m\u001b[0;34m\u001b[0m\u001b[0m\n\u001b[0;32m----> 2\u001b[0;31m \u001b[0mprint\u001b[0m\u001b[0;34m(\u001b[0m\u001b[0mtext\u001b[0m\u001b[0;34m[\u001b[0m\u001b[0;36m2.5\u001b[0m\u001b[0;34m]\u001b[0m\u001b[0;34m)\u001b[0m\u001b[0;34m\u001b[0m\u001b[0;34m\u001b[0m\u001b[0m\n\u001b[0m",
            "\u001b[0;31mTypeError\u001b[0m: string indices must be integers"
          ]
        }
      ],
      "source": [
        "text = \"Hello, World!\"\n",
        "print(text[2.5])"
      ]
    },
    {
      "cell_type": "markdown",
      "metadata": {
        "id": "gRkxsli2N40w"
      },
      "source": [
        "In this example, we try to access the character at index `2.5` of the string `text`. However, string indices must be integers, and using a floating-point index raises a `TypeError`. Python expects whole numbers for indexing or slicing operations.\n",
        "\n",
        "To resolve this error, make sure to use integer values for indices when accessing characters or performing slicing operations on strings."
      ]
    },
    {
      "cell_type": "markdown",
      "metadata": {
        "id": "Y1A2r5vnN40w"
      },
      "source": [
        "### Slicing with Invalid Step"
      ]
    },
    {
      "cell_type": "code",
      "execution_count": 14,
      "metadata": {
        "colab": {
          "base_uri": "https://localhost:8080/",
          "height": 193
        },
        "id": "aB6YODP1N40w",
        "outputId": "41901ad1-d16b-47ff-945c-e03d13460924"
      },
      "outputs": [
        {
          "output_type": "error",
          "ename": "ValueError",
          "evalue": "ignored",
          "traceback": [
            "\u001b[0;31m---------------------------------------------------------------------------\u001b[0m",
            "\u001b[0;31mValueError\u001b[0m                                Traceback (most recent call last)",
            "\u001b[0;32m<ipython-input-14-da3650140da9>\u001b[0m in \u001b[0;36m<cell line: 2>\u001b[0;34m()\u001b[0m\n\u001b[1;32m      1\u001b[0m \u001b[0mtext\u001b[0m \u001b[0;34m=\u001b[0m \u001b[0;34m\"Hello, World!\"\u001b[0m\u001b[0;34m\u001b[0m\u001b[0;34m\u001b[0m\u001b[0m\n\u001b[0;32m----> 2\u001b[0;31m \u001b[0mprint\u001b[0m\u001b[0;34m(\u001b[0m\u001b[0mtext\u001b[0m\u001b[0;34m[\u001b[0m\u001b[0;34m:\u001b[0m\u001b[0;34m:\u001b[0m\u001b[0;36m0\u001b[0m\u001b[0;34m]\u001b[0m\u001b[0;34m)\u001b[0m\u001b[0;34m\u001b[0m\u001b[0;34m\u001b[0m\u001b[0m\n\u001b[0m",
            "\u001b[0;31mValueError\u001b[0m: slice step cannot be zero"
          ]
        }
      ],
      "source": [
        "text = \"Hello, World!\"\n",
        "print(text[::0])"
      ]
    },
    {
      "cell_type": "markdown",
      "metadata": {
        "id": "J9esLJtRN40y"
      },
      "source": [
        "In this example, we attempt to slice the string `text` using a step value of `0`. However, the step value in a slice operation cannot be zero because it determines the increment or decrement between successive elements. A step of zero does not provide meaningful iteration and raises a `ValueError`.\n",
        "\n",
        "To resolve this error, use a non-zero step value that suits your intended slicing operation."
      ]
    },
    {
      "cell_type": "markdown",
      "metadata": {
        "id": "E0WcXhj6N40y"
      },
      "source": [
        "## String Methods\n",
        "\n",
        "Python provides several built-in methods that allow you to perform various operations on strings. These methods enable you to modify and manipulate strings in different ways. Let's explore some commonly used string methods:\n",
        "\n",
        "- `upper()`: Converts all characters in a string to uppercase"
      ]
    },
    {
      "cell_type": "code",
      "execution_count": 15,
      "metadata": {
        "colab": {
          "base_uri": "https://localhost:8080/"
        },
        "id": "i0NkwWmTN40y",
        "outputId": "cda5ea0e-c276-4046-dc35-22677348c2eb"
      },
      "outputs": [
        {
          "output_type": "stream",
          "name": "stdout",
          "text": [
            "HELLO, WORLD!\n"
          ]
        }
      ],
      "source": [
        "message = \"Hello, World!\"\n",
        "print(message.upper())  # Output: HELLO, WORLD!\n"
      ]
    },
    {
      "cell_type": "markdown",
      "metadata": {
        "id": "V9-uj8ZKN40y"
      },
      "source": [
        "- `lower()`: Converts all characters in a string to lowercase"
      ]
    },
    {
      "cell_type": "code",
      "execution_count": 16,
      "metadata": {
        "colab": {
          "base_uri": "https://localhost:8080/"
        },
        "id": "-OFPjsNKN40y",
        "outputId": "5246a315-0c3c-4153-a3eb-1c77ee1f85a8"
      },
      "outputs": [
        {
          "output_type": "stream",
          "name": "stdout",
          "text": [
            "hello, world!\n"
          ]
        }
      ],
      "source": [
        "message = \"Hello, World!\"\n",
        "print(message.lower())  # Output: hello, world!"
      ]
    },
    {
      "cell_type": "markdown",
      "metadata": {
        "id": "87qmXLVcN40y"
      },
      "source": [
        "- `capitalize()`: Capitalizes the first character of a string and converts the remaining characters to lowercase"
      ]
    },
    {
      "cell_type": "code",
      "execution_count": 17,
      "metadata": {
        "colab": {
          "base_uri": "https://localhost:8080/"
        },
        "id": "6EfpvInNN40y",
        "outputId": "ee8dd918-e3be-474f-96ef-d1124dfad44c"
      },
      "outputs": [
        {
          "output_type": "stream",
          "name": "stdout",
          "text": [
            "Hello, world!\n"
          ]
        }
      ],
      "source": [
        "message = \"hello, world!\"\n",
        "print(message.capitalize())  # Output: Hello, world!"
      ]
    },
    {
      "cell_type": "markdown",
      "metadata": {
        "id": "TWc2XvgRN40z"
      },
      "source": [
        "- `title()`: Capitalizes the first character of each word in a string"
      ]
    },
    {
      "cell_type": "code",
      "execution_count": 18,
      "metadata": {
        "colab": {
          "base_uri": "https://localhost:8080/"
        },
        "id": "RN68ZK5FN40z",
        "outputId": "6c052355-6efe-4608-cb53-9e05a0ec4b45"
      },
      "outputs": [
        {
          "output_type": "stream",
          "name": "stdout",
          "text": [
            "Hello, World!\n"
          ]
        }
      ],
      "source": [
        "message = \"hello, world!\"\n",
        "print(message.title())  # Output: Hello, World!"
      ]
    },
    {
      "cell_type": "markdown",
      "metadata": {
        "id": "e2mU-X7dN40z"
      },
      "source": [
        "- `strip()`: Removes leading and trailing whitespace from a string"
      ]
    },
    {
      "cell_type": "code",
      "execution_count": 19,
      "metadata": {
        "colab": {
          "base_uri": "https://localhost:8080/"
        },
        "id": "Aq0ZacV0N40z",
        "outputId": "9b25bbf6-1b8a-441c-c049-59392d69d739"
      },
      "outputs": [
        {
          "output_type": "stream",
          "name": "stdout",
          "text": [
            "Hello, World!\n"
          ]
        }
      ],
      "source": [
        "message = \"   Hello, World!   \"\n",
        "print(message.strip())  # Output: \"Hello, World!\""
      ]
    },
    {
      "cell_type": "markdown",
      "metadata": {
        "id": "qVG7uS-LN40z"
      },
      "source": [
        "- `replace(old, new)`: Replaces all occurrences of a specified substring with a new substring"
      ]
    },
    {
      "cell_type": "code",
      "execution_count": 20,
      "metadata": {
        "colab": {
          "base_uri": "https://localhost:8080/"
        },
        "id": "-NxnO55xN40z",
        "outputId": "98e87de4-d1d1-4a5d-b215-4a5d7a88d31b"
      },
      "outputs": [
        {
          "output_type": "stream",
          "name": "stdout",
          "text": [
            "Hello, Python!\n"
          ]
        }
      ],
      "source": [
        "message = \"Hello, World!\"\n",
        "new_message = message.replace(\"World\", \"Python\")\n",
        "print(new_message)  # Output: Hello, Python!"
      ]
    },
    {
      "cell_type": "markdown",
      "metadata": {
        "id": "W96t0xt0N40z"
      },
      "source": [
        "- `split(separator)`: Splits a string into a list of substrings based on a specified separator"
      ]
    },
    {
      "cell_type": "code",
      "execution_count": 21,
      "metadata": {
        "colab": {
          "base_uri": "https://localhost:8080/"
        },
        "id": "009BUexUN40z",
        "outputId": "b85b4d77-cd22-4e84-e935-e257283cff49"
      },
      "outputs": [
        {
          "output_type": "stream",
          "name": "stdout",
          "text": [
            "['Hello', ' World!']\n"
          ]
        }
      ],
      "source": [
        "message = \"Hello, World!\"\n",
        "split_message = message.split(\",\")\n",
        "print(split_message)  # Output: ['Hello', ' World!']"
      ]
    },
    {
      "cell_type": "markdown",
      "metadata": {
        "id": "zFJ_LF89N40z"
      },
      "source": [
        "## String Formatting\n",
        "\n",
        "String formatting allows you to create dynamic strings by incorporating variables or values into pre-defined string templates. Python provides multiple ways to format strings, including:\n",
        "- Using the `% `operator: This approach is known as \"old-style\" string formatting and involves using placeholders (`%s`, `%d`, `%f`, etc.) to specify where values should be inserted within a string"
      ]
    },
    {
      "cell_type": "code",
      "execution_count": 22,
      "metadata": {
        "colab": {
          "base_uri": "https://localhost:8080/"
        },
        "id": "gHdlO-sWN40z",
        "outputId": "cf85a3a9-782c-4c5c-ea46-931937930f5f"
      },
      "outputs": [
        {
          "output_type": "stream",
          "name": "stdout",
          "text": [
            "My name is John and I am 30 years old.\n"
          ]
        }
      ],
      "source": [
        "name = \"John\"\n",
        "age = 30\n",
        "print(\"My name is %s and I am %d years old.\" % (name, age))\n",
        "# Output: My name is John and I am 30 years old."
      ]
    },
    {
      "cell_type": "markdown",
      "metadata": {
        "id": "dVPyRN-GN400"
      },
      "source": [
        "The `%` operator is used to perform string formatting. It allows us to replace the placeholders with the actual values from the variables. In the example, `%s` is replaced by the value of the `name` variable, and `%d` is replaced by the value of the `age` variable.\n",
        "\n",
        "The values to be inserted into the placeholders are provided in a tuple `(name, age)` following the `%` operator. Don't worry about knowing what tuples are we will cover them in details in a latter lesson.\n",
        "\n",
        "- Using the `format()` method: This approach involves using curly braces `{}` as placeholders and calling the `format()` method on the string to specify the values to be inserted"
      ]
    },
    {
      "cell_type": "code",
      "execution_count": 23,
      "metadata": {
        "colab": {
          "base_uri": "https://localhost:8080/"
        },
        "id": "xxmrj1TJN400",
        "outputId": "5ea65255-f091-43ee-b2b4-4c0e8e79f447"
      },
      "outputs": [
        {
          "output_type": "stream",
          "name": "stdout",
          "text": [
            "My name is John and I am 30 years old.\n"
          ]
        }
      ],
      "source": [
        "name = \"John\"\n",
        "age = 30\n",
        "print(\"My name is {} and I am {} years old.\".format(name, age))\n",
        "# Output: My name is John and I am 30 years old."
      ]
    },
    {
      "cell_type": "markdown",
      "metadata": {
        "id": "U7zt9G4dN400"
      },
      "source": [
        "The `print()` function is used to display a formatted string, which consists of a template string with placeholders. The placeholders are represented by curly braces `{}`.\n",
        "\n",
        "To insert the actual values into the placeholders, we use the `format()` method on the string. This method takes the values to be inserted as arguments in the same order as the placeholders in the string. In our example, the `format()` method is called on the template string `\"My name is {} and I am {} years old.\"`. We pass the `name` variable as the first argument and the `age` variable as the second argument to the `format()` method. The `format()` method replaces the curly braces `{}` with the corresponding values, resulting in the formatted string `\"My name is John and I am 30 years old.\"`\n",
        "\n",
        "- Using *f-strings* (formatted string literals): This is a newer and more concise approach introduced in Python 3.6. It allows you to embed expressions directly within curly braces `{}` in the string"
      ]
    },
    {
      "cell_type": "code",
      "execution_count": 24,
      "metadata": {
        "colab": {
          "base_uri": "https://localhost:8080/"
        },
        "id": "qLT5S0LaN400",
        "outputId": "8687dade-bb2e-4368-a8c6-8407c610db42"
      },
      "outputs": [
        {
          "output_type": "stream",
          "name": "stdout",
          "text": [
            "My name is John and I am 30 years old.\n"
          ]
        }
      ],
      "source": [
        "name = \"John\"\n",
        "age = 30\n",
        "print(f\"My name is {name} and I am {age} years old.\")\n",
        "# Output: My name is John and I am 30 years old."
      ]
    },
    {
      "cell_type": "markdown",
      "metadata": {
        "id": "UEGBVk90N400"
      },
      "source": [
        "> F-strings provide a concise and readable way to format strings by directly embedding expressions within the string, making the code more straightforward and less error-prone."
      ]
    },
    {
      "cell_type": "markdown",
      "metadata": {
        "id": "v40MEsPnN400"
      },
      "source": [
        "## String Escape Sequences\n",
        "\n",
        "In Python, escape sequences are special characters that are used to represent certain characters that cannot be easily typed or displayed directly within a string. Escape sequences are denoted by a backslash (`\\`) followed by a specific character or combination of characters.\n",
        "\n",
        "Here are some commonly used escape sequences:\n",
        "- `\\n`: Represents a newline character and is used to start a new line\n",
        "- `\\t`: Represents a tab character and is used to create horizontal spacing\n",
        "- `\\\\`: Represents a backslash character and is used to display a literal backslash\n",
        "- `\\\"` or `\\'`: Represents a double quote or a single quote character, respectively, and is used to include these characters within a string when using the corresponding quotation marks\n",
        "\n",
        "Here are some examples:"
      ]
    },
    {
      "cell_type": "code",
      "execution_count": 25,
      "metadata": {
        "colab": {
          "base_uri": "https://localhost:8080/"
        },
        "id": "cdXE6yO8N400",
        "outputId": "fe03ee85-517b-4e94-ebba-f37893809a1d"
      },
      "outputs": [
        {
          "output_type": "stream",
          "name": "stdout",
          "text": [
            "Hello\n",
            "World!\n",
            "Hello\t\tWorld!\n",
            "This is a backslash: \\\n",
            "She said, \"Hello!\"\n"
          ]
        }
      ],
      "source": [
        "print(\"Hello\\nWorld!\")\n",
        "# Output:\n",
        "# Hello\n",
        "# World!\n",
        "\n",
        "print(\"Hello\\t\\tWorld!\")\n",
        "# Output: Hello        World!\n",
        "\n",
        "print(\"This is a backslash: \\\\\")\n",
        "# Output: This is a backslash: \\\n",
        "\n",
        "print(\"She said, \\\"Hello!\\\"\")\n",
        "# Output: She said, \"Hello!\""
      ]
    },
    {
      "cell_type": "markdown",
      "metadata": {
        "id": "pbryZ3VcN400"
      },
      "source": [
        "In the first example, the `\\n` escape sequence is used to insert a newline between `\"Hello\"` and `\"World!\"`, resulting in the output being displayed on separate lines.\n",
        "\n",
        "In the second example, the `\\t` escape sequence is used to insert horizontal spacing between `\"Hello\"` and `\"World!\"`, creating a tab-like effect.\n",
        "\n",
        "In the third example, the double backslash `\\\\` is used to escape the special meaning of the backslash character itself and display it as a literal backslash within the string.\n",
        "\n",
        "In the fourth example, the backslash `\\\"` is used to escape the double quote character and include it within the string. Similarly, the backslash `\\'` can be used to escape the single quote character."
      ]
    },
    {
      "cell_type": "markdown",
      "metadata": {
        "id": "5mwUVV-4N400"
      },
      "source": [
        "## Working with String Operations\n",
        "\n",
        "### Length of a String\n",
        "\n",
        "To determine the length of a string in Python, you can use the built-in `len()` function. The `len()` function returns the number of characters in a string. Here's an example:"
      ]
    },
    {
      "cell_type": "code",
      "execution_count": 26,
      "metadata": {
        "colab": {
          "base_uri": "https://localhost:8080/"
        },
        "id": "o-3vEVs9N400",
        "outputId": "1d0e440e-14ca-4043-a155-943ca2f12680"
      },
      "outputs": [
        {
          "output_type": "stream",
          "name": "stdout",
          "text": [
            "The length of the string is: 13\n"
          ]
        }
      ],
      "source": [
        "message = \"Hello, World!\"\n",
        "length = len(message)\n",
        "print(\"The length of the string is:\", length)\n",
        "# Output: The length of the string is: 13"
      ]
    },
    {
      "cell_type": "markdown",
      "metadata": {
        "id": "xXSZDDdLN400"
      },
      "source": [
        "In this example, the `len()` function is called with the string variable `message` as an argument. The returned value, which represents the number of characters in the string, is stored in the `length` variable. Finally, the `length` is displayed using the `print()` function."
      ]
    },
    {
      "cell_type": "markdown",
      "metadata": {
        "id": "v7x6KbZDN401"
      },
      "source": [
        "## Converting other data types to strings\n",
        "\n",
        "In Python, you can convert data between strings and other data types using built-in functions. These functions allow you to convert values from one data type to another, providing flexibility in data manipulation and representation. The`str()` function converts a value to its string representation."
      ]
    },
    {
      "cell_type": "code",
      "execution_count": 27,
      "metadata": {
        "colab": {
          "base_uri": "https://localhost:8080/"
        },
        "id": "IJmOR5lcN401",
        "outputId": "49c7a55d-562a-4b1e-f167-8d473bbd8a0f"
      },
      "outputs": [
        {
          "output_type": "stream",
          "name": "stdout",
          "text": [
            "42\n",
            "<class 'str'>\n"
          ]
        }
      ],
      "source": [
        "number = 42\n",
        "string_number = str(number)\n",
        "print(string_number)\n",
        "print(type(string_number))\n",
        "# Output: \"42\"\n",
        "# Output: <class 'str'>\n"
      ]
    },
    {
      "cell_type": "markdown",
      "metadata": {
        "id": "kgTkeTNaN401"
      },
      "source": [
        "In this example, the variable `number` is assigned the value `42`. The `str()` function is then used to convert number to its string representation, which is stored in the variable `string_number`.\n",
        "\n",
        "By printing `string_number`, we can observe the output as `\"42\"`, which is the string representation of the number `42`. To demonstrate the change in data type, the `type()` function is called on `string_number`, and its output `<class 'str'>` confirms that `string_number` is indeed of type `string`."
      ]
    },
    {
      "cell_type": "markdown",
      "metadata": {
        "id": "HA2EwZJ9N401"
      },
      "source": [
        "## String Immutability\n",
        "\n",
        "> In Python, strings are immutable, which means that once a string is created, its contents cannot be changed. This immutability property has several implications and considerations when working with strings.\n",
        "- **Creating a new String**: Whenever you perform an operation that appears to modify a string, such as concatenation or replacing characters, it actually creates a new string with the desired changes. The original string remains unchanged.\n",
        "\n",
        "- **Memory Efficiency**: When you assign a value to a variable that already holds a string, Python tries to optimize memory usage by reusing existing string objects. It checks if the string you are assigning already exists in memory. If it does, Python doesn't create a new string object. Instead, it assigns the existing string object to the variable.\n",
        "\n",
        "- **String Methods**: String methods that seem to modify the string, such as `upper()`, `lower()`, or `replace()`, actually return a new modified string while leaving the original string unchanged. This is important to keep in mind when working with string methods.\n",
        "\n",
        "- **Understanding Assignments**: Assigning a new value to a string variable replaces the reference to the original string with a reference to the new string. It does not modify the original string in-place.\n",
        "\n",
        "Here's an example to illustrate the immutability of strings:"
      ]
    },
    {
      "cell_type": "code",
      "execution_count": 28,
      "metadata": {
        "colab": {
          "base_uri": "https://localhost:8080/"
        },
        "id": "kjflNmlzN401",
        "outputId": "25a81c94-a4b6-4661-99ec-d448699a65f9"
      },
      "outputs": [
        {
          "output_type": "stream",
          "name": "stdout",
          "text": [
            "Hello, World!\n",
            "Hi, World!\n"
          ]
        }
      ],
      "source": [
        "text = \"Hello, World!\"\n",
        "modified_text = text.replace(\"Hello\", \"Hi\")\n",
        "print(text)  # Output: \"Hello, World!\"\n",
        "print(modified_text)  # Output: \"Hi, World!\""
      ]
    },
    {
      "cell_type": "markdown",
      "metadata": {
        "id": "Cc4XC66JN401"
      },
      "source": [
        "In this example, the `replace()` method is called on the `text` string to replace the substring `\"Hello\"` with `\"Hi\"`. However, the original text string remains unchanged, and the modified string is stored in the `modified_text` variable."
      ]
    },
    {
      "cell_type": "markdown",
      "metadata": {
        "id": "4P5Lj_3pN401"
      },
      "source": [
        "## Key Takeaways\n",
        "\n",
        "- Strings are a data type used to represent textual data in Python\n",
        "- They are created by enclosing text within single quotes (`'...'`) or double quotes (`\"...\"`)\n",
        "- Strings are sequences of characters, and each character has an index starting from 0\n",
        "- Indexing allows accessing individual characters in a string using their position\n",
        "- Slicing enables extracting a portion of a string by specifying a range of indices\n",
        "- String concatenation combines multiple strings into a single string\n",
        "- String methods provide built-in functionality to manipulate and modify strings\n",
        "- Common string methods include `upper()`, `lower()`, `capitalize()`, and `replace()`\n",
        "- These methods return new modified strings while leaving the original string unchanged\n",
        "- String formatting allows inserting dynamic values into a string using placeholders\n",
        "- Escape sequences allow representing special characters within strings\n",
        "- Examples of escape sequences include `\\n` for a new line, `\\t` for a tab, and `\\\"` for a double quote\n",
        "- Strings in Python are immutable, meaning they cannot be changed once created\n",
        "- Modifying a string actually involves creating a new string with the desired changes"
      ]
    }
  ],
  "metadata": {
    "kernelspec": {
      "display_name": "Python 3.9.0 64-bit",
      "language": "python",
      "name": "python3"
    },
    "language_info": {
      "codemirror_mode": {
        "name": "ipython",
        "version": 3
      },
      "file_extension": ".py",
      "mimetype": "text/x-python",
      "name": "python",
      "nbconvert_exporter": "python",
      "pygments_lexer": "ipython3",
      "version": "3.9.2"
    },
    "vscode": {
      "interpreter": {
        "hash": "aee8b7b246df8f9039afb4144a1f6fd8d2ca17a180786b69acc140d282b71a49"
      }
    },
    "colab": {
      "provenance": [],
      "include_colab_link": true
    }
  },
  "nbformat": 4,
  "nbformat_minor": 0
}
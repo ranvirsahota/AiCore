{
  "cells": [
    {
      "cell_type": "markdown",
      "metadata": {
        "id": "view-in-github",
        "colab_type": "text"
      },
      "source": [
        "<a href=\"https://colab.research.google.com/github/ranvirsahota/AiCore/blob/python-basics/5_strings/notebook_lesson.ipynb\" target=\"_parent\"><img src=\"https://colab.research.google.com/assets/colab-badge.svg\" alt=\"Open In Colab\"/></a>"
      ]
    },
    {
      "cell_type": "markdown",
      "metadata": {
        "id": "yCSoEsgUN40r"
      },
      "source": [
        "# Strings"
      ]
    },
    {
      "cell_type": "markdown",
      "metadata": {
        "id": "vQNO0QoXN40r"
      },
      "source": [
        "In Python, a *string* is a sequence of characters enclosed in either single quotes (`''`) or double quotes (`\"\"`). Strings are one of the fundamental data types in Python and are widely used for representing textual data. They allow us to store and manipulate text, such as names, sentences, or even entire documents.\n",
        "\n",
        "Strings can contain any combination of letters, numbers, symbols, and whitespace characters. For example, `\"Hello, World!\"` and `'I love Python'` are both valid string literals in Python."
      ]
    },
    {
      "cell_type": "markdown",
      "metadata": {
        "id": "CE8BM-boN40s"
      },
      "source": [
        "## Motivation\n",
        "\n",
        "Welcome to your journey of learning about strings in programming! Let's explore the key reasons why learning about strings is valuable:\n",
        "- **Text Manipulation**: Strings are essential for working with text data in programming. They allow us to store and change groups of letters, words, and sentences. With strings, we can do cool things like getting input from users, processing text, and making text look nice and organized.\n",
        "\n",
        "- **Data Representation and Communication**: Strings help us represent and communicate text information in programs. They are like messengers that help us send and receive text. We can display messages to users, read and write text from files, and even send text over the internet. Strings are the language that computers understand when it comes to text.\n",
        "\n",
        "- **Problem Solving and Data Analysis**: Understanding strings is important for problem-solving and data analysis. Many real-world problems involve working with text, like finding specific words, changing parts of a text, or doing calculations based on text. When we know how to work with strings, we can solve all sorts of interesting problems and analyze data in new and exciting ways."
      ]
    },
    {
      "cell_type": "markdown",
      "metadata": {
        "id": "jcWnO4IRN40s"
      },
      "source": [
        "## Creating String variables\n",
        "\n",
        "To work with strings in Python, you can assign them to variables. Variables act as containers that store data, including strings. Here's an example of creating a string variable:"
      ]
    },
    {
      "cell_type": "code",
      "execution_count": null,
      "metadata": {
        "id": "3J1Uwml-N40s",
        "outputId": "440f9571-7fa4-4e37-808f-aa23778ad501"
      },
      "outputs": [
        {
          "name": "stdout",
          "output_type": "stream",
          "text": [
            "Hello, Python!\n"
          ]
        }
      ],
      "source": [
        "message = \"Hello, Python!\"\n",
        "print(message)"
      ]
    },
    {
      "cell_type": "markdown",
      "metadata": {
        "id": "d5MxryiZN40t"
      },
      "source": [
        "In this example, we create a string variable named `message` and assign it the value `\"Hello, Python!\"`. The `print()` function is then used to display the value of the message variable, which will output `\"Hello, Python!\"`.\n",
        "\n",
        "String variables can also be created using single quotes:"
      ]
    },
    {
      "cell_type": "code",
      "execution_count": null,
      "metadata": {
        "id": "2zAfUmBpN40t",
        "outputId": "c28a3437-092b-4a2e-9416-da0450c90afc"
      },
      "outputs": [
        {
          "name": "stdout",
          "output_type": "stream",
          "text": [
            "John Doe\n"
          ]
        }
      ],
      "source": [
        "name = 'John Doe'\n",
        "print(name)"
      ]
    },
    {
      "cell_type": "markdown",
      "metadata": {
        "id": "9YaOrTbkN40t"
      },
      "source": [
        "> It's important to note that the choice between single quotes and double quotes is a matter of personal preference or specific requirements. However, it's recommended to be consistent in your usage throughout your codebase.\n",
        "\n",
        "You can also assign an empty string to a variable:"
      ]
    },
    {
      "cell_type": "code",
      "execution_count": null,
      "metadata": {
        "id": "KL7vEilwN40t",
        "outputId": "c232e113-089d-4dc9-9eef-97fdfde3b27f"
      },
      "outputs": [
        {
          "name": "stdout",
          "output_type": "stream",
          "text": [
            "\n"
          ]
        }
      ],
      "source": [
        "empty_string = \"\"\n",
        "print(empty_string)"
      ]
    },
    {
      "cell_type": "markdown",
      "metadata": {
        "id": "LXS8L0OON40t"
      },
      "source": [
        "In this case, the `empty_string` variable is assigned an empty string value, represented by two quotation marks with nothing in between. The `print()` function will output an empty line."
      ]
    },
    {
      "cell_type": "markdown",
      "metadata": {
        "id": "IbubKkrgN40t"
      },
      "source": [
        "## String Concatenation\n",
        "\n",
        "String concatenation is the process of combining two or more strings together. In Python, you can concatenate strings using the `+` operator. When you use the `+` operator with strings, it merges them into a single string.\n",
        "\n",
        "Here's an example of string concatenation:"
      ]
    },
    {
      "cell_type": "code",
      "execution_count": null,
      "metadata": {
        "id": "h4QCxzjsN40t",
        "outputId": "b4a05185-fb50-40e4-b756-a8d52e8a98c5"
      },
      "outputs": [
        {
          "name": "stdout",
          "output_type": "stream",
          "text": [
            "John Doe\n"
          ]
        }
      ],
      "source": [
        "first_name = \"John\"\n",
        "last_name = \"Doe\"\n",
        "full_name = first_name + \" \" + last_name\n",
        "print(full_name)"
      ]
    },
    {
      "cell_type": "markdown",
      "metadata": {
        "id": "xYzEUf5vN40u"
      },
      "source": [
        "In this example, we have two string variables `first_name` and `last_name`. By using the `+` operator and an additional string containing a space, we concatenate the two variables together, resulting in the `full_name` variable containing `\"John Doe\"`. The `print()` function displays the value of `full_name`.\n",
        "\n",
        "You can also concatenate string literals directly without using variables:"
      ]
    },
    {
      "cell_type": "code",
      "execution_count": null,
      "metadata": {
        "id": "_Nxd1XJTN40u",
        "outputId": "a484f30b-c8ce-4124-a1de-75829df4ed37"
      },
      "outputs": [
        {
          "name": "stdout",
          "output_type": "stream",
          "text": [
            "Hello, World!\n"
          ]
        }
      ],
      "source": [
        "greeting = \"Hello\" + \", \" + \"World!\"\n",
        "print(greeting)"
      ]
    },
    {
      "cell_type": "markdown",
      "metadata": {
        "id": "BFDfWnyMN40u"
      },
      "source": [
        "In this case, we concatenate the string literals `\"Hello\"`, `\", \"`, and `\"World!\"` together, resulting in the greeting variable containing `\"Hello, World!\"`.\n",
        "\n",
        "It's worth noting that when concatenating strings, you can include additional characters or whitespace between the string variables or literals to format the resulting string as desired."
      ]
    },
    {
      "cell_type": "markdown",
      "metadata": {
        "id": "4Apma88xN40u"
      },
      "source": [
        "## String Indexing and Slicing\n",
        "\n",
        "> Strings in Python are ordered sequences of characters, which means that each character in a string has a specific index associated with it.\n",
        "\n",
        "String indexing allows you to access individual characters within a string.\n",
        "\n",
        "> In Python, string indexing starts at 0, so the first character of a string has an index of 0, the second character has an index of 1, and so on.\n",
        "\n",
        "You can use square brackets (`[]`) and the index number to access a specific character in a string. Here's an example of string indexing:"
      ]
    },
    {
      "cell_type": "code",
      "execution_count": null,
      "metadata": {
        "id": "N6rnmp1BN40u",
        "outputId": "e5f658fb-818e-41ae-c7d1-a2d3f9d9eafd"
      },
      "outputs": [
        {
          "name": "stdout",
          "output_type": "stream",
          "text": [
            "H\n",
            "W\n"
          ]
        }
      ],
      "source": [
        "message = \"Hello, World!\"\n",
        "print(message[0])  # Output: H\n",
        "print(message[7])  # Output: W"
      ]
    },
    {
      "cell_type": "markdown",
      "metadata": {
        "id": "g6P380ykN40u"
      },
      "source": [
        "In this example, we define a string variable `message` with the value `\"Hello, World!\"`. By using the square brackets and the index numbers, we access the first character of the string (index 0), which is `\"H\"`, and the eighth character of the string (index 7), which is `\"W\"`.\n",
        "\n",
        "In addition to indexing individual characters, you can also extract a portion of a string using string slicing.\n",
        "> String slicing allows you to create a new string that includes a specified range of characters from the original string.\n",
        "\n",
        "To slice a string, you need to provide the starting index and the ending index (exclusive) separated by a colon (`:`) inside the square brackets. The starting index is inclusive, meaning that the character at that index will be included in the slice. The ending index is exclusive, meaning that the character at that index will not be included in the slice.\n",
        "\n",
        "Here's an example of string slicing:"
      ]
    },
    {
      "cell_type": "code",
      "execution_count": null,
      "metadata": {
        "id": "0cAJ_zczN40u",
        "outputId": "2574a55a-ef01-4655-f881-faf96fa69c3b"
      },
      "outputs": [
        {
          "name": "stdout",
          "output_type": "stream",
          "text": [
            "Hello\n",
            "World\n"
          ]
        }
      ],
      "source": [
        "message = \"Hello, World!\"\n",
        "print(message[0:5])  # Output: Hello\n",
        "print(message[7:12])  # Output: World"
      ]
    },
    {
      "cell_type": "markdown",
      "metadata": {
        "id": "Iupl_CIdN40u"
      },
      "source": [
        "In this example, we use string slicing to extract the substring `\"Hello\"` from the message string. The slice `message[0:5]` starts at index `0` and ends at index `5` (exclusive), including characters at indices 0, 1, 2."
      ]
    },
    {
      "cell_type": "markdown",
      "metadata": {
        "id": "G-DFXJ4fN40u"
      },
      "source": [
        "Here are some additional examples of slicing that use different slicing syntax and step values:\n",
        "- Slicing from the beginning"
      ]
    },
    {
      "cell_type": "code",
      "execution_count": null,
      "metadata": {
        "id": "9e0dUDlmN40u",
        "outputId": "08ea4cb5-3236-4275-a43e-4e35146df26a"
      },
      "outputs": [
        {
          "name": "stdout",
          "output_type": "stream",
          "text": [
            "Hello\n"
          ]
        }
      ],
      "source": [
        "text = \"Hello, World!\"\n",
        "print(text[:5])\n",
        "# Output: \"Hello\""
      ]
    },
    {
      "cell_type": "markdown",
      "metadata": {
        "id": "9tE_6QYJN40u"
      },
      "source": [
        "In this example, we use `text[:5]` to slice the string text from the beginning up to index `5` (exclusive). This includes characters at indices 0, 1, 2, 3, and 4, resulting in the substring `\"Hello\"`.\n",
        "- Slicing to the end"
      ]
    },
    {
      "cell_type": "code",
      "execution_count": null,
      "metadata": {
        "id": "tKCgTpTnN40v",
        "outputId": "c8797d94-2edf-4de3-a396-16bc6bf8540d"
      },
      "outputs": [
        {
          "name": "stdout",
          "output_type": "stream",
          "text": [
            "World!\n"
          ]
        }
      ],
      "source": [
        "text = \"Hello, World!\"\n",
        "print(text[7:])\n",
        "# Output: \"World!\""
      ]
    },
    {
      "cell_type": "markdown",
      "metadata": {
        "id": "rB0Oq9sGN40v"
      },
      "source": [
        "Here, we use `text[7:]` to slice the string text from index `7` to the end. This includes all characters starting from index `7` to the end of the string, resulting in the substring `\"World!\"`.\n",
        "- slicing with start and end indices"
      ]
    },
    {
      "cell_type": "code",
      "execution_count": null,
      "metadata": {
        "id": "WIPIRtIsN40v",
        "outputId": "e437a7d2-472c-4918-844a-024368c6a161"
      },
      "outputs": [
        {
          "name": "stdout",
          "output_type": "stream",
          "text": [
            "llo, \n"
          ]
        }
      ],
      "source": [
        "text = \"Hello, World!\"\n",
        "print(text[2:7])\n",
        "# Output: \"llo, \""
      ]
    },
    {
      "cell_type": "markdown",
      "metadata": {
        "id": "4vET9m7LN40v"
      },
      "source": [
        "In this example, we use `text[2:7]` to slice the string text from index `2` to index `7` (exclusive). This includes characters at indices 2, 3, 4, 5, and 6, resulting in the substring `\"llo, \"`.\n",
        "- Slicing with step value"
      ]
    },
    {
      "cell_type": "code",
      "execution_count": null,
      "metadata": {
        "id": "cV6UVn9fN40v",
        "outputId": "98e27565-7a2d-4587-e5bf-e1249ca649c9"
      },
      "outputs": [
        {
          "name": "stdout",
          "output_type": "stream",
          "text": [
            "Hlo ol!\n"
          ]
        }
      ],
      "source": [
        "text = \"Hello, World!\"\n",
        "print(text[::2])\n",
        "# Output: \"Hlo ol!\""
      ]
    },
    {
      "cell_type": "markdown",
      "metadata": {
        "id": "wmvf0_9JN40v"
      },
      "source": [
        "Here, we use `text[::2]` to slice the string text with a step value of `2`. This retrieves every second character in the string, resulting in the substring `\"Hlo ol!\"`."
      ]
    },
    {
      "cell_type": "code",
      "execution_count": null,
      "metadata": {
        "id": "e8xMZ2GRN40v",
        "outputId": "d7d0c1d1-17bf-4e80-822c-bf7f39f3c89f"
      },
      "outputs": [
        {
          "name": "stdout",
          "output_type": "stream",
          "text": [
            "el,Wr\n"
          ]
        }
      ],
      "source": [
        "text = \"Hello, World!\"\n",
        "print(text[1:10:2])\n",
        "# Output: \"el,Wr\""
      ]
    },
    {
      "cell_type": "markdown",
      "metadata": {
        "id": "USzkvpZfN40v"
      },
      "source": [
        "In this example, we use `text[1:10:2]` to slice the string `text`. The start index is `1`, the end index is `10` (exclusive), and the step value is `2`.\n",
        "\n",
        "The slicing operation starts at index `1` (`\"e\"`), includes every second character, and stops at index `10` (`\"d\"`). The resulting substring is `\"el,Wr\"`.\n",
        "\n",
        "Here's a breakdown of the slicing steps:\n",
        "- The character at index `1` is included: `\"e\"`\n",
        "- The character at index `3` is skipped: `\"l\"`\n",
        "- The character at index `5` is included: `\",\"`\n",
        "- The character at index `7` is skipped: `\"W\"`\n",
        "- The character at index `9` is included: `\"r\"`\n",
        "\n",
        "By specifying both start and end indices along with a step value, you can create customized slices that skip or include specific characters based on your requirements."
      ]
    },
    {
      "cell_type": "markdown",
      "metadata": {
        "id": "qky2rOjjN40v"
      },
      "source": [
        "## Common indexing and slicing errors\n",
        "\n",
        "### Index Out of Range"
      ]
    },
    {
      "cell_type": "code",
      "execution_count": null,
      "metadata": {
        "id": "Udk69jhtN40v",
        "outputId": "0b69f57a-18df-4043-f3db-c4716b00c4e1"
      },
      "outputs": [
        {
          "ename": "IndexError",
          "evalue": "string index out of range",
          "output_type": "error",
          "traceback": [
            "\u001b[0;31m---------------------------------------------------------------------------\u001b[0m",
            "\u001b[0;31mIndexError\u001b[0m                                Traceback (most recent call last)",
            "\u001b[1;32m/Users/maya/Desktop/AiCore Work/Content-Projects/Content/units/Essentials/7. Python programming/4. Strings/Notebook.ipynb Cell 21\u001b[0m in \u001b[0;36m<cell line: 2>\u001b[0;34m()\u001b[0m\n\u001b[1;32m      <a href='vscode-notebook-cell:/Users/maya/Desktop/AiCore%20Work/Content-Projects/Content/units/Essentials/7.%20Python%20programming/4.%20Strings/Notebook.ipynb#Y214sZmlsZQ%3D%3D?line=0'>1</a>\u001b[0m text \u001b[39m=\u001b[39m \u001b[39m\"\u001b[39m\u001b[39mHello, World!\u001b[39m\u001b[39m\"\u001b[39m\n\u001b[0;32m----> <a href='vscode-notebook-cell:/Users/maya/Desktop/AiCore%20Work/Content-Projects/Content/units/Essentials/7.%20Python%20programming/4.%20Strings/Notebook.ipynb#Y214sZmlsZQ%3D%3D?line=1'>2</a>\u001b[0m \u001b[39mprint\u001b[39m(text[\u001b[39m20\u001b[39;49m])\n",
            "\u001b[0;31mIndexError\u001b[0m: string index out of range"
          ]
        }
      ],
      "source": [
        "text = \"Hello, World!\"\n",
        "print(text[20])"
      ]
    },
    {
      "cell_type": "markdown",
      "metadata": {
        "id": "cuxm3m90N40v"
      },
      "source": [
        "In this example, the string `text` has a length of 13. However, when we try to access the character at index `20`, which is beyond the range of valid indices for the string, we encounter an `IndexError`. Python raises this error to indicate that the index is out of range.\n",
        "\n",
        "To avoid this error, ensure that the index used for indexing or slicing is within the valid range of the string's indices (0 to length-1)."
      ]
    },
    {
      "cell_type": "markdown",
      "metadata": {
        "id": "Tpd-luMxN40w"
      },
      "source": [
        "### Using a Floating-Point Index"
      ]
    },
    {
      "cell_type": "code",
      "execution_count": null,
      "metadata": {
        "id": "KqMUkf1PN40w",
        "outputId": "8341d0ad-07cf-4dba-e824-0ef8565aec38"
      },
      "outputs": [
        {
          "ename": "TypeError",
          "evalue": "string indices must be integers",
          "output_type": "error",
          "traceback": [
            "\u001b[0;31m---------------------------------------------------------------------------\u001b[0m",
            "\u001b[0;31mTypeError\u001b[0m                                 Traceback (most recent call last)",
            "\u001b[1;32m/Users/maya/Desktop/AiCore Work/Content-Projects/Content/units/Essentials/7. Python programming/4. Strings/Notebook.ipynb Cell 24\u001b[0m in \u001b[0;36m<cell line: 2>\u001b[0;34m()\u001b[0m\n\u001b[1;32m      <a href='vscode-notebook-cell:/Users/maya/Desktop/AiCore%20Work/Content-Projects/Content/units/Essentials/7.%20Python%20programming/4.%20Strings/Notebook.ipynb#Y220sZmlsZQ%3D%3D?line=0'>1</a>\u001b[0m text \u001b[39m=\u001b[39m \u001b[39m\"\u001b[39m\u001b[39mHello, World!\u001b[39m\u001b[39m\"\u001b[39m\n\u001b[0;32m----> <a href='vscode-notebook-cell:/Users/maya/Desktop/AiCore%20Work/Content-Projects/Content/units/Essentials/7.%20Python%20programming/4.%20Strings/Notebook.ipynb#Y220sZmlsZQ%3D%3D?line=1'>2</a>\u001b[0m \u001b[39mprint\u001b[39m(text[\u001b[39m2.5\u001b[39;49m])\n",
            "\u001b[0;31mTypeError\u001b[0m: string indices must be integers"
          ]
        }
      ],
      "source": [
        "text = \"Hello, World!\"\n",
        "print(text[2.5])"
      ]
    },
    {
      "cell_type": "markdown",
      "metadata": {
        "id": "gRkxsli2N40w"
      },
      "source": [
        "In this example, we try to access the character at index `2.5` of the string `text`. However, string indices must be integers, and using a floating-point index raises a `TypeError`. Python expects whole numbers for indexing or slicing operations.\n",
        "\n",
        "To resolve this error, make sure to use integer values for indices when accessing characters or performing slicing operations on strings."
      ]
    },
    {
      "cell_type": "markdown",
      "metadata": {
        "id": "Y1A2r5vnN40w"
      },
      "source": [
        "### Slicing with Invalid Step"
      ]
    },
    {
      "cell_type": "code",
      "execution_count": null,
      "metadata": {
        "id": "aB6YODP1N40w",
        "outputId": "276329c3-d175-4b6f-d509-03573ebb29c3"
      },
      "outputs": [
        {
          "ename": "ValueError",
          "evalue": "slice step cannot be zero",
          "output_type": "error",
          "traceback": [
            "\u001b[0;31m---------------------------------------------------------------------------\u001b[0m",
            "\u001b[0;31mValueError\u001b[0m                                Traceback (most recent call last)",
            "\u001b[1;32m/Users/maya/Desktop/AiCore Work/Content-Projects/Content/units/Essentials/7. Python programming/4. Strings/Notebook.ipynb Cell 27\u001b[0m in \u001b[0;36m<cell line: 2>\u001b[0;34m()\u001b[0m\n\u001b[1;32m      <a href='vscode-notebook-cell:/Users/maya/Desktop/AiCore%20Work/Content-Projects/Content/units/Essentials/7.%20Python%20programming/4.%20Strings/Notebook.ipynb#Y223sZmlsZQ%3D%3D?line=0'>1</a>\u001b[0m text \u001b[39m=\u001b[39m \u001b[39m\"\u001b[39m\u001b[39mHello, World!\u001b[39m\u001b[39m\"\u001b[39m\n\u001b[0;32m----> <a href='vscode-notebook-cell:/Users/maya/Desktop/AiCore%20Work/Content-Projects/Content/units/Essentials/7.%20Python%20programming/4.%20Strings/Notebook.ipynb#Y223sZmlsZQ%3D%3D?line=1'>2</a>\u001b[0m \u001b[39mprint\u001b[39m(text[::\u001b[39m0\u001b[39;49m])\n",
            "\u001b[0;31mValueError\u001b[0m: slice step cannot be zero"
          ]
        }
      ],
      "source": [
        "text = \"Hello, World!\"\n",
        "print(text[::0])"
      ]
    },
    {
      "cell_type": "markdown",
      "metadata": {
        "id": "J9esLJtRN40y"
      },
      "source": [
        "In this example, we attempt to slice the string `text` using a step value of `0`. However, the step value in a slice operation cannot be zero because it determines the increment or decrement between successive elements. A step of zero does not provide meaningful iteration and raises a `ValueError`.\n",
        "\n",
        "To resolve this error, use a non-zero step value that suits your intended slicing operation."
      ]
    },
    {
      "cell_type": "markdown",
      "metadata": {
        "id": "E0WcXhj6N40y"
      },
      "source": [
        "## String Methods\n",
        "\n",
        "Python provides several built-in methods that allow you to perform various operations on strings. These methods enable you to modify and manipulate strings in different ways. Let's explore some commonly used string methods:\n",
        "\n",
        "- `upper()`: Converts all characters in a string to uppercase"
      ]
    },
    {
      "cell_type": "code",
      "execution_count": null,
      "metadata": {
        "id": "i0NkwWmTN40y",
        "outputId": "5ba55670-6a7a-485e-d4eb-8e1797f2cce3"
      },
      "outputs": [
        {
          "name": "stdout",
          "output_type": "stream",
          "text": [
            "HELLO, WORLD!\n"
          ]
        }
      ],
      "source": [
        "message = \"Hello, World!\"\n",
        "print(message.upper())  # Output: HELLO, WORLD!\n"
      ]
    },
    {
      "cell_type": "markdown",
      "metadata": {
        "id": "V9-uj8ZKN40y"
      },
      "source": [
        "- `lower()`: Converts all characters in a string to lowercase"
      ]
    },
    {
      "cell_type": "code",
      "execution_count": null,
      "metadata": {
        "id": "-OFPjsNKN40y",
        "outputId": "4e795c4d-09b5-4e12-816b-e093c2d9b5ed"
      },
      "outputs": [
        {
          "name": "stdout",
          "output_type": "stream",
          "text": [
            "hello, world!\n"
          ]
        }
      ],
      "source": [
        "message = \"Hello, World!\"\n",
        "print(message.lower())  # Output: hello, world!"
      ]
    },
    {
      "cell_type": "markdown",
      "metadata": {
        "id": "87qmXLVcN40y"
      },
      "source": [
        "- `capitalize()`: Capitalizes the first character of a string and converts the remaining characters to lowercase"
      ]
    },
    {
      "cell_type": "code",
      "execution_count": null,
      "metadata": {
        "id": "6EfpvInNN40y",
        "outputId": "23c9d58d-356d-4a42-bc9a-f9e1fc9b80dc"
      },
      "outputs": [
        {
          "name": "stdout",
          "output_type": "stream",
          "text": [
            "Hello, world!\n"
          ]
        }
      ],
      "source": [
        "message = \"hello, world!\"\n",
        "print(message.capitalize())  # Output: Hello, world!"
      ]
    },
    {
      "cell_type": "markdown",
      "metadata": {
        "id": "TWc2XvgRN40z"
      },
      "source": [
        "- `title()`: Capitalizes the first character of each word in a string"
      ]
    },
    {
      "cell_type": "code",
      "execution_count": null,
      "metadata": {
        "id": "RN68ZK5FN40z",
        "outputId": "a253c35e-d914-4dc4-a453-2ed839a31f17"
      },
      "outputs": [
        {
          "name": "stdout",
          "output_type": "stream",
          "text": [
            "Hello, World!\n"
          ]
        }
      ],
      "source": [
        "message = \"hello, world!\"\n",
        "print(message.title())  # Output: Hello, World!"
      ]
    },
    {
      "cell_type": "markdown",
      "metadata": {
        "id": "e2mU-X7dN40z"
      },
      "source": [
        "- `strip()`: Removes leading and trailing whitespace from a string"
      ]
    },
    {
      "cell_type": "code",
      "execution_count": null,
      "metadata": {
        "id": "Aq0ZacV0N40z",
        "outputId": "f4bec247-ecbe-4ad2-861c-e9b5448059d6"
      },
      "outputs": [
        {
          "name": "stdout",
          "output_type": "stream",
          "text": [
            "Hello, World!\n"
          ]
        }
      ],
      "source": [
        "message = \"   Hello, World!   \"\n",
        "print(message.strip())  # Output: \"Hello, World!\""
      ]
    },
    {
      "cell_type": "markdown",
      "metadata": {
        "id": "qVG7uS-LN40z"
      },
      "source": [
        "- `replace(old, new)`: Replaces all occurrences of a specified substring with a new substring"
      ]
    },
    {
      "cell_type": "code",
      "execution_count": null,
      "metadata": {
        "id": "-NxnO55xN40z",
        "outputId": "e1b3285c-9729-47f3-874e-76bf2b67f723"
      },
      "outputs": [
        {
          "name": "stdout",
          "output_type": "stream",
          "text": [
            "Hello, Python!\n"
          ]
        }
      ],
      "source": [
        "message = \"Hello, World!\"\n",
        "new_message = message.replace(\"World\", \"Python\")\n",
        "print(new_message)  # Output: Hello, Python!"
      ]
    },
    {
      "cell_type": "markdown",
      "metadata": {
        "id": "W96t0xt0N40z"
      },
      "source": [
        "- `split(separator)`: Splits a string into a list of substrings based on a specified separator"
      ]
    },
    {
      "cell_type": "code",
      "execution_count": null,
      "metadata": {
        "id": "009BUexUN40z",
        "outputId": "80a31207-debc-47ac-a671-64b838a9f4e0"
      },
      "outputs": [
        {
          "name": "stdout",
          "output_type": "stream",
          "text": [
            "['Hello', ' World!']\n"
          ]
        }
      ],
      "source": [
        "message = \"Hello, World!\"\n",
        "split_message = message.split(\",\")\n",
        "print(split_message)  # Output: ['Hello', ' World!']"
      ]
    },
    {
      "cell_type": "markdown",
      "metadata": {
        "id": "zFJ_LF89N40z"
      },
      "source": [
        "## String Formatting\n",
        "\n",
        "String formatting allows you to create dynamic strings by incorporating variables or values into pre-defined string templates. Python provides multiple ways to format strings, including:\n",
        "- Using the `% `operator: This approach is known as \"old-style\" string formatting and involves using placeholders (`%s`, `%d`, `%f`, etc.) to specify where values should be inserted within a string"
      ]
    },
    {
      "cell_type": "code",
      "execution_count": null,
      "metadata": {
        "id": "gHdlO-sWN40z",
        "outputId": "3f8ad25c-1fb8-41d4-a442-c55274e8f08b"
      },
      "outputs": [
        {
          "name": "stdout",
          "output_type": "stream",
          "text": [
            "My name is John and I am 30 years old.\n"
          ]
        }
      ],
      "source": [
        "name = \"John\"\n",
        "age = 30\n",
        "print(\"My name is %s and I am %d years old.\" % (name, age))\n",
        "# Output: My name is John and I am 30 years old."
      ]
    },
    {
      "cell_type": "markdown",
      "metadata": {
        "id": "dVPyRN-GN400"
      },
      "source": [
        "The `%` operator is used to perform string formatting. It allows us to replace the placeholders with the actual values from the variables. In the example, `%s` is replaced by the value of the `name` variable, and `%d` is replaced by the value of the `age` variable.\n",
        "\n",
        "The values to be inserted into the placeholders are provided in a tuple `(name, age)` following the `%` operator. Don't worry about knowing what tuples are we will cover them in details in a latter lesson.\n",
        "\n",
        "- Using the `format()` method: This approach involves using curly braces `{}` as placeholders and calling the `format()` method on the string to specify the values to be inserted"
      ]
    },
    {
      "cell_type": "code",
      "execution_count": null,
      "metadata": {
        "id": "xxmrj1TJN400",
        "outputId": "97f7272c-0f0c-4838-feb5-928cfbaa20fc"
      },
      "outputs": [
        {
          "name": "stdout",
          "output_type": "stream",
          "text": [
            "My name is John and I am 30 years old.\n"
          ]
        }
      ],
      "source": [
        "name = \"John\"\n",
        "age = 30\n",
        "print(\"My name is {} and I am {} years old.\".format(name, age))\n",
        "# Output: My name is John and I am 30 years old."
      ]
    },
    {
      "cell_type": "markdown",
      "metadata": {
        "id": "U7zt9G4dN400"
      },
      "source": [
        "The `print()` function is used to display a formatted string, which consists of a template string with placeholders. The placeholders are represented by curly braces `{}`.\n",
        "\n",
        "To insert the actual values into the placeholders, we use the `format()` method on the string. This method takes the values to be inserted as arguments in the same order as the placeholders in the string. In our example, the `format()` method is called on the template string `\"My name is {} and I am {} years old.\"`. We pass the `name` variable as the first argument and the `age` variable as the second argument to the `format()` method. The `format()` method replaces the curly braces `{}` with the corresponding values, resulting in the formatted string `\"My name is John and I am 30 years old.\"`\n",
        "\n",
        "- Using *f-strings* (formatted string literals): This is a newer and more concise approach introduced in Python 3.6. It allows you to embed expressions directly within curly braces `{}` in the string"
      ]
    },
    {
      "cell_type": "code",
      "execution_count": null,
      "metadata": {
        "id": "qLT5S0LaN400",
        "outputId": "45c43583-9047-4694-8e37-87820b3d79aa"
      },
      "outputs": [
        {
          "name": "stdout",
          "output_type": "stream",
          "text": [
            "My name is John and I am 30 years old.\n"
          ]
        }
      ],
      "source": [
        "name = \"John\"\n",
        "age = 30\n",
        "print(f\"My name is {name} and I am {age} years old.\")\n",
        "# Output: My name is John and I am 30 years old."
      ]
    },
    {
      "cell_type": "markdown",
      "metadata": {
        "id": "UEGBVk90N400"
      },
      "source": [
        "> F-strings provide a concise and readable way to format strings by directly embedding expressions within the string, making the code more straightforward and less error-prone."
      ]
    },
    {
      "cell_type": "markdown",
      "metadata": {
        "id": "v40MEsPnN400"
      },
      "source": [
        "## String Escape Sequences\n",
        "\n",
        "In Python, escape sequences are special characters that are used to represent certain characters that cannot be easily typed or displayed directly within a string. Escape sequences are denoted by a backslash (`\\`) followed by a specific character or combination of characters.\n",
        "\n",
        "Here are some commonly used escape sequences:\n",
        "- `\\n`: Represents a newline character and is used to start a new line\n",
        "- `\\t`: Represents a tab character and is used to create horizontal spacing\n",
        "- `\\\\`: Represents a backslash character and is used to display a literal backslash\n",
        "- `\\\"` or `\\'`: Represents a double quote or a single quote character, respectively, and is used to include these characters within a string when using the corresponding quotation marks\n",
        "\n",
        "Here are some examples:"
      ]
    },
    {
      "cell_type": "code",
      "execution_count": null,
      "metadata": {
        "id": "cdXE6yO8N400",
        "outputId": "07560028-147a-44c4-c1dc-f391d5769574"
      },
      "outputs": [
        {
          "name": "stdout",
          "output_type": "stream",
          "text": [
            "Hello\n",
            "World!\n",
            "Hello\t\tWorld!\n",
            "This is a backslash: \\\n",
            "She said, \"Hello!\"\n"
          ]
        }
      ],
      "source": [
        "print(\"Hello\\nWorld!\")\n",
        "# Output:\n",
        "# Hello\n",
        "# World!\n",
        "\n",
        "print(\"Hello\\t\\tWorld!\")\n",
        "# Output: Hello        World!\n",
        "\n",
        "print(\"This is a backslash: \\\\\")\n",
        "# Output: This is a backslash: \\\n",
        "\n",
        "print(\"She said, \\\"Hello!\\\"\")\n",
        "# Output: She said, \"Hello!\""
      ]
    },
    {
      "cell_type": "markdown",
      "metadata": {
        "id": "pbryZ3VcN400"
      },
      "source": [
        "In the first example, the `\\n` escape sequence is used to insert a newline between `\"Hello\"` and `\"World!\"`, resulting in the output being displayed on separate lines.\n",
        "\n",
        "In the second example, the `\\t` escape sequence is used to insert horizontal spacing between `\"Hello\"` and `\"World!\"`, creating a tab-like effect.\n",
        "\n",
        "In the third example, the double backslash `\\\\` is used to escape the special meaning of the backslash character itself and display it as a literal backslash within the string.\n",
        "\n",
        "In the fourth example, the backslash `\\\"` is used to escape the double quote character and include it within the string. Similarly, the backslash `\\'` can be used to escape the single quote character."
      ]
    },
    {
      "cell_type": "markdown",
      "metadata": {
        "id": "5mwUVV-4N400"
      },
      "source": [
        "## Working with String Operations\n",
        "\n",
        "### Length of a String\n",
        "\n",
        "To determine the length of a string in Python, you can use the built-in `len()` function. The `len()` function returns the number of characters in a string. Here's an example:"
      ]
    },
    {
      "cell_type": "code",
      "execution_count": null,
      "metadata": {
        "id": "o-3vEVs9N400",
        "outputId": "88410571-58e7-44f7-8f4c-83d315330da5"
      },
      "outputs": [
        {
          "name": "stdout",
          "output_type": "stream",
          "text": [
            "The length of the string is: 13\n"
          ]
        }
      ],
      "source": [
        "message = \"Hello, World!\"\n",
        "length = len(message)\n",
        "print(\"The length of the string is:\", length)\n",
        "# Output: The length of the string is: 13"
      ]
    },
    {
      "cell_type": "markdown",
      "metadata": {
        "id": "xXSZDDdLN400"
      },
      "source": [
        "In this example, the `len()` function is called with the string variable `message` as an argument. The returned value, which represents the number of characters in the string, is stored in the `length` variable. Finally, the `length` is displayed using the `print()` function."
      ]
    },
    {
      "cell_type": "markdown",
      "metadata": {
        "id": "v7x6KbZDN401"
      },
      "source": [
        "## Converting other data types to strings\n",
        "\n",
        "In Python, you can convert data between strings and other data types using built-in functions. These functions allow you to convert values from one data type to another, providing flexibility in data manipulation and representation. The`str()` function converts a value to its string representation."
      ]
    },
    {
      "cell_type": "code",
      "execution_count": null,
      "metadata": {
        "id": "IJmOR5lcN401",
        "outputId": "22fd6aca-a1b1-480c-d1c3-4337701e2ed0"
      },
      "outputs": [
        {
          "name": "stdout",
          "output_type": "stream",
          "text": [
            "42\n"
          ]
        }
      ],
      "source": [
        "number = 42\n",
        "string_number = str(number)\n",
        "print(string_number)\n",
        "print(type(string_number))\n",
        "# Output: \"42\"\n",
        "# Output: <class 'str'>\n"
      ]
    },
    {
      "cell_type": "markdown",
      "metadata": {
        "id": "kgTkeTNaN401"
      },
      "source": [
        "In this example, the variable `number` is assigned the value `42`. The `str()` function is then used to convert number to its string representation, which is stored in the variable `string_number`.\n",
        "\n",
        "By printing `string_number`, we can observe the output as `\"42\"`, which is the string representation of the number `42`. To demonstrate the change in data type, the `type()` function is called on `string_number`, and its output `<class 'str'>` confirms that `string_number` is indeed of type `string`."
      ]
    },
    {
      "cell_type": "markdown",
      "metadata": {
        "id": "HA2EwZJ9N401"
      },
      "source": [
        "## String Immutability\n",
        "\n",
        "> In Python, strings are immutable, which means that once a string is created, its contents cannot be changed. This immutability property has several implications and considerations when working with strings.\n",
        "- **Creating a new String**: Whenever you perform an operation that appears to modify a string, such as concatenation or replacing characters, it actually creates a new string with the desired changes. The original string remains unchanged.\n",
        "\n",
        "- **Memory Efficiency**: When you assign a value to a variable that already holds a string, Python tries to optimize memory usage by reusing existing string objects. It checks if the string you are assigning already exists in memory. If it does, Python doesn't create a new string object. Instead, it assigns the existing string object to the variable.\n",
        "\n",
        "- **String Methods**: String methods that seem to modify the string, such as `upper()`, `lower()`, or `replace()`, actually return a new modified string while leaving the original string unchanged. This is important to keep in mind when working with string methods.\n",
        "\n",
        "- **Understanding Assignments**: Assigning a new value to a string variable replaces the reference to the original string with a reference to the new string. It does not modify the original string in-place.\n",
        "\n",
        "Here's an example to illustrate the immutability of strings:"
      ]
    },
    {
      "cell_type": "code",
      "execution_count": null,
      "metadata": {
        "id": "kjflNmlzN401",
        "outputId": "675a7e43-3ebc-4f20-8614-bc8c8a2bc116"
      },
      "outputs": [
        {
          "name": "stdout",
          "output_type": "stream",
          "text": [
            "Hello, World!\n",
            "Hi, World!\n"
          ]
        }
      ],
      "source": [
        "text = \"Hello, World!\"\n",
        "modified_text = text.replace(\"Hello\", \"Hi\")\n",
        "print(text)  # Output: \"Hello, World!\"\n",
        "print(modified_text)  # Output: \"Hi, World!\""
      ]
    },
    {
      "cell_type": "markdown",
      "metadata": {
        "id": "Cc4XC66JN401"
      },
      "source": [
        "In this example, the `replace()` method is called on the `text` string to replace the substring `\"Hello\"` with `\"Hi\"`. However, the original text string remains unchanged, and the modified string is stored in the `modified_text` variable."
      ]
    },
    {
      "cell_type": "markdown",
      "metadata": {
        "id": "4P5Lj_3pN401"
      },
      "source": [
        "## Key Takeaways\n",
        "\n",
        "- Strings are a data type used to represent textual data in Python\n",
        "- They are created by enclosing text within single quotes (`'...'`) or double quotes (`\"...\"`)\n",
        "- Strings are sequences of characters, and each character has an index starting from 0\n",
        "- Indexing allows accessing individual characters in a string using their position\n",
        "- Slicing enables extracting a portion of a string by specifying a range of indices\n",
        "- String concatenation combines multiple strings into a single string\n",
        "- String methods provide built-in functionality to manipulate and modify strings\n",
        "- Common string methods include `upper()`, `lower()`, `capitalize()`, and `replace()`\n",
        "- These methods return new modified strings while leaving the original string unchanged\n",
        "- String formatting allows inserting dynamic values into a string using placeholders\n",
        "- Escape sequences allow representing special characters within strings\n",
        "- Examples of escape sequences include `\\n` for a new line, `\\t` for a tab, and `\\\"` for a double quote\n",
        "- Strings in Python are immutable, meaning they cannot be changed once created\n",
        "- Modifying a string actually involves creating a new string with the desired changes"
      ]
    }
  ],
  "metadata": {
    "kernelspec": {
      "display_name": "Python 3.9.0 64-bit",
      "language": "python",
      "name": "python3"
    },
    "language_info": {
      "codemirror_mode": {
        "name": "ipython",
        "version": 3
      },
      "file_extension": ".py",
      "mimetype": "text/x-python",
      "name": "python",
      "nbconvert_exporter": "python",
      "pygments_lexer": "ipython3",
      "version": "3.9.2"
    },
    "vscode": {
      "interpreter": {
        "hash": "aee8b7b246df8f9039afb4144a1f6fd8d2ca17a180786b69acc140d282b71a49"
      }
    },
    "colab": {
      "provenance": [],
      "include_colab_link": true
    }
  },
  "nbformat": 4,
  "nbformat_minor": 0
}
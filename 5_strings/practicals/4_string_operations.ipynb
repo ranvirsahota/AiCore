{
  "cells": [
    {
      "cell_type": "markdown",
      "metadata": {
        "id": "view-in-github",
        "colab_type": "text"
      },
      "source": [
        "<a href=\"https://colab.research.google.com/github/ranvirsahota/AiCore/blob/python-basics/5_strings/practicals/4_string_operations.ipynb\" target=\"_parent\"><img src=\"https://colab.research.google.com/assets/colab-badge.svg\" alt=\"Open In Colab\"/></a>"
      ]
    },
    {
      "cell_type": "markdown",
      "metadata": {
        "id": "D1TXDCUXVhwn"
      },
      "source": [
        "# String Operations"
      ]
    },
    {
      "cell_type": "code",
      "execution_count": 19,
      "metadata": {
        "id": "34b0f502",
        "outputId": "27cf7a73-c32b-43a7-c85a-cf1496ef33e1",
        "colab": {
          "base_uri": "https://localhost:8080/"
        }
      },
      "outputs": [
        {
          "output_type": "stream",
          "name": "stdout",
          "text": [
            "Downloading the marking system\n"
          ]
        }
      ],
      "source": [
        "#@title ### Run the following cell to download the necessary files for this practical { display-mode: \"form\" }\n",
        "#@markdown Don't worry about what's in this collapsed cell\n",
        "\n",
        "print('Downloading the marking system')\n",
        "!wget https://s3-eu-west-1.amazonaws.com/aicore-portal-public-prod-307050600709/practical_files/40718403-5192-4021-a5bf-ebded753cab5/marking_system.py -q -O marking_system.py\n",
        "import marking_system\n",
        "import importlib\n",
        "importlib.reload(marking_system)\n",
        "import sys\n",
        "ipython = get_ipython()\n",
        "def hide_traceback(exc_tuple=None, filename=None, tb_offset=None, exception_only=False, running_compiled_code=False):\n",
        "    etype, value, tb = sys.exc_info()\n",
        "    value.__cause__ = None  # suppress chained exceptions\n",
        "    return ipython._showtraceback(etype, \"❌ \" + f\"\u001b[91m{value}\", ipython.InteractiveTB.get_exception_only(etype, \"❌ \" + f\"\u001b[91m{value}\"))\n",
        "ipython.showtraceback = hide_traceback\n"
      ]
    },
    {
      "cell_type": "markdown",
      "metadata": {
        "id": "BedB2ZggVhwo"
      },
      "source": [
        "## Adding Strings\n",
        "\n",
        "Strings can be added together using the `+` operator.\n",
        "\n",
        "- Create two strings called `string_1` and `string_2`. Assign the value `\"Hello \"` to `string_1` and the value `\"World!\"` to `string_2`.\n",
        "- Add the two strings together and assign them to a variable called `string_3`.\n",
        "- Print `string_3`."
      ]
    },
    {
      "cell_type": "code",
      "execution_count": 18,
      "metadata": {
        "id": "9tmPgkEBVhwp",
        "outputId": "5438f12c-ab75-414c-cf6a-8b031f774842",
        "colab": {
          "base_uri": "https://localhost:8080/"
        }
      },
      "outputs": [
        {
          "output_type": "stream",
          "name": "stdout",
          "text": [
            "Hello World!\n"
          ]
        }
      ],
      "source": [
        "# TODO -  Create a variable called `string_1` - assign it a value of \"Hello \"\n",
        "string_1 = \"Hello \"\n",
        "\n",
        "# TODO -  Create a variable called `string_2` - assign it a value of \"World!\"\n",
        "string_2 = \"World!\"\n",
        "\n",
        "# TODO - Add `string_1` and `string_2`\n",
        "string_3 = string_1 + string_2\n",
        "\n",
        "# TODO - Print `string_3`\n",
        "print(string_3)"
      ]
    },
    {
      "cell_type": "code",
      "execution_count": 20,
      "metadata": {
        "id": "pT7kiaosVhwp",
        "outputId": "eeb6a929-9bbb-4b35-9afe-f8fac31e1fb0",
        "colab": {
          "base_uri": "https://localhost:8080/"
        }
      },
      "outputs": [
        {
          "output_type": "stream",
          "name": "stdout",
          "text": [
            "\u001b[92m✔ Well done! You have successfully assigned the strings 'Hello ', 'World!' and 'Hello World!' to the variables 'string_1', 'string_2' and 'string_3'.\n"
          ]
        }
      ],
      "source": [
        "#@title #### Run this cell to check your solution { display-mode: \"form\", run: \"auto\" }\n",
        "\n",
        "assert \"string_1\" in globals(), \"The variable 'string_1' has not been created.\"\n",
        "assert \"string_2\" in globals(), \"The variable 'string_2' has not been created.\"\n",
        "assert \"string_3\" in globals(), \"The variable 'string_3' has not been created.\"\n",
        "marking_system.check_step_1(string_1, string_2, string_3)\n"
      ]
    },
    {
      "cell_type": "markdown",
      "metadata": {
        "id": "3KFTeCEVVhwp"
      },
      "source": [
        "### Slicing Strings\n",
        "\n",
        "An extension of the idea of indexing a string is slicing. Slicing allows us to select a range of values from a string, based on their indices:"
      ]
    },
    {
      "cell_type": "code",
      "execution_count": 21,
      "metadata": {
        "id": "W6_hwKwQVhwp",
        "outputId": "f5e0f816-98a8-4a08-a102-cdbd8caac141",
        "colab": {
          "base_uri": "https://localhost:8080/"
        }
      },
      "outputs": [
        {
          "output_type": "stream",
          "name": "stdout",
          "text": [
            "the first three characters of my string are: \n",
            "one\n",
            "the 4th to 7th character of the string: \n",
            " two\n",
            "the last two characters are:\n",
            "ee\n"
          ]
        }
      ],
      "source": [
        "my_string = \"one two three\"\n",
        "print('the first three characters of my string are:', '\\n' + my_string[:3])\n",
        "# TODO - print the 4th to 7th characters of the string\n",
        "print('the 4th to 7th character of the string:', '\\n' + my_string[3:7])\n",
        "\n",
        "print('the last two characters are:' '\\n' + my_string[-2:])\n"
      ]
    },
    {
      "cell_type": "code",
      "execution_count": 22,
      "metadata": {
        "id": "lW_rwjrwVhwp",
        "outputId": "6a1ece84-19b4-4863-860b-9048f3ce69b9",
        "colab": {
          "base_uri": "https://localhost:8080/"
        }
      },
      "outputs": [
        {
          "output_type": "stream",
          "name": "stdout",
          "text": [
            "\u001b[92m✔ Well done! Indices in Python start at 0, so the 4th character is at index 3. On the other hand, the second index in the slicing is not included, so you have to include the index of the last character you want to get.\n"
          ]
        }
      ],
      "source": [
        "#@title #### Enter your solution here { display-mode: \"form\", run: \"auto\" }\n",
        "assert \"my_string\" in globals(), \"The variable 'my_string' has not been created. Make sure you haven't deleted it. If so, the value should be 'one two three'.\"\n",
        "#@markdown What indices did you use to print the 4th to 7th characters of the string?\n",
        "index_1 = 3 #@param [2, 3, 4, 5, 6, 7, 8, 9] {type: \"number\"}\n",
        "index_2 = 7 #@param [2, 3, 4, 5, 6, 7, 8, 9] {type: \"number\"}\n",
        "marking_system.check_step_2(index_1, index_2, my_string)\n"
      ]
    },
    {
      "cell_type": "markdown",
      "metadata": {
        "id": "aHVQnnnmVhwp"
      },
      "source": [
        "### Updating a string\n",
        "\n",
        "You can change part of the content of a string by adding part of string_1 to a new substring, and assigning the new string to the old variable. For example in the code block below, we replace the word `\"World\"` with `\"Crab\"`. You may remember that strings are `immutable`, so you can't just reassign the letters by indexing them. This is the way around that constraint."
      ]
    },
    {
      "cell_type": "code",
      "execution_count": 23,
      "metadata": {
        "id": "iZh1kJBHVhwp",
        "outputId": "98bdba09-0e7d-4de6-8312-c57926fd8610",
        "colab": {
          "base_uri": "https://localhost:8080/"
        }
      },
      "outputs": [
        {
          "output_type": "stream",
          "name": "stdout",
          "text": [
            "Hello Crab!\n"
          ]
        }
      ],
      "source": [
        "string_1 = \"Hello World!\"\n",
        "string_2 = \"Crab!\"\n",
        "string_1 = string_1[:6] + string_2\n",
        "print(string_1)\n"
      ]
    },
    {
      "cell_type": "markdown",
      "metadata": {
        "id": "cSE7EgoIVhwq"
      },
      "source": [
        "In the code block below, replace the word \"large\" with the word \"small\" in the string, and print the string."
      ]
    },
    {
      "cell_type": "code",
      "execution_count": 24,
      "metadata": {
        "id": "R1G-eO39Vhwq",
        "outputId": "9d5e5086-4a49-4156-9c5f-ab79ed76f69e",
        "colab": {
          "base_uri": "https://localhost:8080/"
        }
      },
      "outputs": [
        {
          "output_type": "stream",
          "name": "stdout",
          "text": [
            "Wow, what a large horse!\n"
          ]
        }
      ],
      "source": [
        "sentence_1 = 'Wow, what a large horse!'\n",
        "substring_1 = \"small\"\n",
        "# TODO - Replace \"large\" with \"small\" in the sentence\n",
        "print(sentence_1)\n"
      ]
    },
    {
      "cell_type": "markdown",
      "metadata": {
        "id": "C5oFHOuxVhwq"
      },
      "source": [
        "## Splitting strings\n",
        "\n",
        "We can split strings on a given character value using the `.split()` method. Try splitting up this filepath into drive, folder and filename.\n",
        " -  Call `my_filepath`'s  `.split` method and assign the output to a variable called `my_file_structure`.\n",
        " -  print `my_file_structure`.\n",
        "\n",
        "The variable created is called a `list`. You will learn a lot more about lists later, but for now, you just need to know that they can be indexed, just like strings.\n",
        "\n",
        "- print just the filename, `cow.jpg`"
      ]
    },
    {
      "cell_type": "code",
      "execution_count": 26,
      "metadata": {
        "id": "1REejC3nVhwq",
        "outputId": "7c393325-6642-4638-db24-f342ff4335c0",
        "colab": {
          "base_uri": "https://localhost:8080/"
        }
      },
      "outputs": [
        {
          "output_type": "stream",
          "name": "stdout",
          "text": [
            "['C:', 'Images', 'cow.jpg']\n",
            "cow.jpg\n"
          ]
        }
      ],
      "source": [
        "my_filepath = \"C:/Images/cow.jpg\"\n",
        "# TODO  Call `my_filepath`'s  `.split` method and assign the output to a variable called `my_file_structure`.\n",
        "my_file_structure = my_filepath.split('/')\n",
        "\n",
        "# TODO - print `my_file_structure`\n",
        "print(my_file_structure)\n",
        "\n",
        "# TODO - print just the filename\n",
        "print(my_file_structure[2])\n"
      ]
    },
    {
      "cell_type": "code",
      "execution_count": 27,
      "metadata": {
        "id": "lcl_RThVVhwq",
        "outputId": "76709d52-2833-4bb8-ac42-37f3c27780f0",
        "colab": {
          "base_uri": "https://localhost:8080/"
        }
      },
      "outputs": [
        {
          "output_type": "stream",
          "name": "stdout",
          "text": [
            "\u001b[92m✔ Well done! You have successfully used the split() method and got the right answers for the length and the index of the filename.\n"
          ]
        }
      ],
      "source": [
        "#@title #### Enter your solution here { display-mode: \"form\", run: \"auto\" }\n",
        "assert \"my_file_structure\" in globals(), \"The variable 'my_file_structure' has not been created. Make sure you haven't deleted it. If so, the value should be 'C:/Images/cow.jpg'.\"\n",
        "#@markdown How many elements are in `my_file_structure`?\n",
        "ans_1 = 3 #@param [0, 1, 2, 3, 4, 5] {type: \"number\"}\n",
        "#@markdown What is the index of the filename in `my_file_structure`?\n",
        "ans_2 = 2 #@param [0, 1, 2, 3, 4, 5] {type: \"number\"}\n",
        "marking_system.check_step_3(my_file_structure, ans_1, ans_2)\n"
      ]
    }
  ],
  "metadata": {
    "kernelspec": {
      "display_name": "content-projects_new",
      "language": "python",
      "name": "python3"
    },
    "language_info": {
      "codemirror_mode": {
        "name": "ipython",
        "version": 3
      },
      "file_extension": ".py",
      "mimetype": "text/x-python",
      "name": "python",
      "nbconvert_exporter": "python",
      "pygments_lexer": "ipython3",
      "version": "3.10.8"
    },
    "vscode": {
      "interpreter": {
        "hash": "4b961f8166aad6ccb4cf65d0f9c742ef9c6c23ffe83ad932438cd83ed96aebaf"
      }
    },
    "colab": {
      "provenance": [],
      "include_colab_link": true
    }
  },
  "nbformat": 4,
  "nbformat_minor": 0
}
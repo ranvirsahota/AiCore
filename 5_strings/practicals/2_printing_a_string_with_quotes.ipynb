{
  "cells": [
    {
      "cell_type": "markdown",
      "metadata": {
        "id": "view-in-github",
        "colab_type": "text"
      },
      "source": [
        "<a href=\"https://colab.research.google.com/github/ranvirsahota/AiCore/blob/python-basics/5_strings/practicals/2_printing_a_string_with_quotes.ipynb\" target=\"_parent\"><img src=\"https://colab.research.google.com/assets/colab-badge.svg\" alt=\"Open In Colab\"/></a>"
      ]
    },
    {
      "cell_type": "markdown",
      "id": "271152cb",
      "metadata": {
        "id": "271152cb"
      },
      "source": [
        "# Printing a String with Quotes"
      ]
    },
    {
      "cell_type": "code",
      "execution_count": 1,
      "id": "daf99291",
      "metadata": {
        "id": "daf99291",
        "outputId": "281879e9-5632-4edf-a080-316c927000e9",
        "colab": {
          "base_uri": "https://localhost:8080/"
        }
      },
      "outputs": [
        {
          "output_type": "stream",
          "name": "stdout",
          "text": [
            "Downloading the marking system\n"
          ]
        }
      ],
      "source": [
        "#@title ### Run the following cell to download the necessary files for this practical { display-mode: \"form\" }\n",
        "#@markdown Don't worry about what's in this collapsed cell\n",
        "\n",
        "print('Downloading the marking system')\n",
        "!wget https://s3-eu-west-1.amazonaws.com/aicore-portal-public-prod-307050600709/practical_files/41545ed1-346b-4f95-b0dd-0ed79114c9bf/marking_system.py -q -O marking_system.py\n",
        "import marking_system\n",
        "import importlib\n",
        "importlib.reload(marking_system)\n",
        "import sys\n",
        "ipython = get_ipython()\n",
        "def hide_traceback(exc_tuple=None, filename=None, tb_offset=None, exception_only=False, running_compiled_code=False):\n",
        "    etype, value, tb = sys.exc_info()\n",
        "    value.__cause__ = None  # suppress chained exceptions\n",
        "    return ipython._showtraceback(etype, \"❌ \" + f\"\u001b[91m{value}\", ipython.InteractiveTB.get_exception_only(etype, \"❌ \" + f\"\u001b[91m{value}\"))\n",
        "ipython.showtraceback = hide_traceback\n"
      ]
    },
    {
      "cell_type": "markdown",
      "id": "9fea4c28",
      "metadata": {
        "id": "9fea4c28"
      },
      "source": [
        "#### 1. Create a variable called `my_string` and assign it the value `\"Hello \"World\"`, including the `\"` quotes around `World` inside the string definition:\n",
        "\n",
        "Did it work? What happened?"
      ]
    },
    {
      "cell_type": "code",
      "execution_count": 2,
      "id": "7adbb4a1",
      "metadata": {
        "id": "7adbb4a1",
        "outputId": "757a0c3b-a5c0-4c63-884c-4d89a47562b2",
        "colab": {
          "base_uri": "https://localhost:8080/",
          "height": 141
        }
      },
      "outputs": [
        {
          "output_type": "error",
          "ename": "SyntaxError",
          "evalue": "ignored",
          "traceback": [
            "\u001b[0;36m  File \u001b[0;32m\"<ipython-input-2-a5e29ecaab4f>\"\u001b[0;36m, line \u001b[0;32m2\u001b[0m\n\u001b[0;31m    my_string = \"Hello \"World\"\u001b[0m\n\u001b[0m                             ^\u001b[0m\n\u001b[0;31mSyntaxError\u001b[0m\u001b[0;31m:\u001b[0m unterminated string literal (detected at line 2)\n"
          ]
        }
      ],
      "source": [
        "# TODO - Create a string called 'my_string' that contains the string \"Hello \"World\"\n",
        "my_string = \"Hello \"World\""
      ]
    },
    {
      "cell_type": "code",
      "execution_count": 3,
      "id": "2b7c2489",
      "metadata": {
        "id": "2b7c2489",
        "outputId": "8bcb3d90-4d32-4fdf-9ae8-d5be0411ec2b",
        "colab": {
          "base_uri": "https://localhost:8080/"
        }
      },
      "outputs": [
        {
          "output_type": "stream",
          "name": "stdout",
          "text": [
            "\u001b[92m✔ Well done! That's correct, you can't create the string because the second quotation mark closes the first one.\n"
          ]
        }
      ],
      "source": [
        "#@title #### Enter your solution here { display-mode: \"form\", run: \"auto\" }\n",
        "\n",
        "#@markdown Could you create the string? Why or why not?\n",
        "ans = \"No, because the second quotation mark closes the first one\" #@param [\"Yes\", \"No, because the second quotation mark closes the first one\", \"No, because you can't use quotation marks in a string\"] {allow-input: true}\n",
        "marking_system.check_step_1(ans)\n"
      ]
    },
    {
      "cell_type": "markdown",
      "id": "a618523a",
      "metadata": {
        "id": "a618523a"
      },
      "source": [
        "#### 2. Create a variable called `my_string` and assign it the value `\"Hello 'World'\"`. Then print it.\n",
        "\n",
        "Did it work? In this case, you are using single quotes to enclose the string."
      ]
    },
    {
      "cell_type": "code",
      "execution_count": 5,
      "id": "dbeeece4",
      "metadata": {
        "id": "dbeeece4",
        "outputId": "db4468a7-f907-432d-8160-abb55e9a572a",
        "colab": {
          "base_uri": "https://localhost:8080/"
        }
      },
      "outputs": [
        {
          "output_type": "stream",
          "name": "stdout",
          "text": [
            "Hello 'World'\n"
          ]
        }
      ],
      "source": [
        "# TODO -  Create a variable called `my_string` and assign it the value \"Hello 'World'\".\n",
        "my_string = \"Hello 'World'\"\n",
        "print(my_string)\n"
      ]
    },
    {
      "cell_type": "code",
      "execution_count": 6,
      "id": "75a1473e",
      "metadata": {
        "id": "75a1473e",
        "outputId": "8440142e-b16f-4b30-d02c-dafe0fcd2fe3",
        "colab": {
          "base_uri": "https://localhost:8080/"
        }
      },
      "outputs": [
        {
          "output_type": "stream",
          "name": "stdout",
          "text": [
            "\u001b[92m✔ Well done! Here, there wasn't any issue because inside the quotation marks we are using single quotation marks, and they don't close the string.\n"
          ]
        }
      ],
      "source": [
        "#@title #### Enter your solution here { display-mode: \"form\", run: \"auto\" }\n",
        "\n",
        "#@markdown Could you create the string? Why or why not?\n",
        "ans = \"Yes\" #@param [\"Yes\", \"No, because the second quotation mark closes the first one\", \"No, because you can't use quotation marks in a string\"] {allow-input: true}\n",
        "marking_system.check_step_2(ans)\n"
      ]
    },
    {
      "cell_type": "markdown",
      "id": "35b23a89",
      "metadata": {
        "id": "35b23a89"
      },
      "source": [
        "#### 3. Create a variable called `my_string` and assign it the value `\"Hello \\\"World\\\"\"`\n",
        "\n",
        "If you want to enclose a string in double quotes, you can use the escape character `\\` to escape the double quotes."
      ]
    },
    {
      "cell_type": "code",
      "execution_count": 7,
      "id": "cee68195",
      "metadata": {
        "id": "cee68195",
        "outputId": "d93ee492-f511-42be-d0d8-18ba70b3d96a",
        "colab": {
          "base_uri": "https://localhost:8080/"
        }
      },
      "outputs": [
        {
          "output_type": "stream",
          "name": "stdout",
          "text": [
            "Hello \"World\"\n"
          ]
        }
      ],
      "source": [
        "# TODO - Create a variable called `my_string` and assign it the value \"Hello \\\"World\\\"\"\n",
        "my_string = \"Hello \\\"World\\\"\"\n",
        "print(my_string)\n"
      ]
    },
    {
      "cell_type": "code",
      "execution_count": 8,
      "id": "54b50c02",
      "metadata": {
        "id": "54b50c02",
        "outputId": "5cf4f80d-da32-4c97-ded9-6d363729abc8",
        "colab": {
          "base_uri": "https://localhost:8080/"
        }
      },
      "outputs": [
        {
          "output_type": "stream",
          "name": "stdout",
          "text": [
            "\u001b[92m✔ Well done! Here, there wasn't any issue because the quotation marks were escaped with a backslash, so they don't close the string.\n"
          ]
        }
      ],
      "source": [
        "#@title #### Enter your solution here { display-mode: \"form\", run: \"auto\" }\n",
        "\n",
        "#@markdown Could you create the string? Why or why not?\n",
        "ans = \"Yes\" #@param [\"Yes\", \"No, because the second quotation mark closes the first one\", \"No, because you can't use quotation marks in a string\"] {allow-input: true}\n",
        "marking_system.check_step_3(ans)\n"
      ]
    }
  ],
  "metadata": {
    "kernelspec": {
      "display_name": "content-projects_new",
      "language": "python",
      "name": "python3"
    },
    "language_info": {
      "codemirror_mode": {
        "name": "ipython",
        "version": 3
      },
      "file_extension": ".py",
      "mimetype": "text/x-python",
      "name": "python",
      "nbconvert_exporter": "python",
      "pygments_lexer": "ipython3",
      "version": "3.10.8"
    },
    "vscode": {
      "interpreter": {
        "hash": "4b961f8166aad6ccb4cf65d0f9c742ef9c6c23ffe83ad932438cd83ed96aebaf"
      }
    },
    "colab": {
      "provenance": [],
      "include_colab_link": true
    }
  },
  "nbformat": 4,
  "nbformat_minor": 5
}
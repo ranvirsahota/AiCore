{
  "cells": [
    {
      "cell_type": "markdown",
      "metadata": {
        "id": "view-in-github",
        "colab_type": "text"
      },
      "source": [
        "<a href=\"https://colab.research.google.com/github/ranvirsahota/AiCore/blob/python-basics/5_strings/practicals/1_basics_of_strings.ipynb\" target=\"_parent\"><img src=\"https://colab.research.google.com/assets/colab-badge.svg\" alt=\"Open In Colab\"/></a>"
      ]
    },
    {
      "cell_type": "markdown",
      "id": "d01eaeda",
      "metadata": {
        "id": "d01eaeda"
      },
      "source": [
        "# Basics of Strings\n",
        "\n",
        "In Python, a string variable type is a sequence of characters enclosed within either single or double quotes. It is a fundamental data type used to represent text data."
      ]
    },
    {
      "cell_type": "code",
      "execution_count": 1,
      "id": "97732b8b",
      "metadata": {
        "colab": {
          "base_uri": "https://localhost:8080/"
        },
        "id": "97732b8b",
        "outputId": "c6e2f7cb-6c39-421a-bfee-97f4bb37d651"
      },
      "outputs": [
        {
          "output_type": "stream",
          "name": "stdout",
          "text": [
            "Downloading the marking system\n"
          ]
        }
      ],
      "source": [
        "#@title ### Run the following cell to download the necessary files for this practical { display-mode: \"form\" }\n",
        "#@markdown Don't worry about what's in this collapsed cell\n",
        "\n",
        "print('Downloading the marking system')\n",
        "!wget https://s3-eu-west-1.amazonaws.com/aicore-portal-public-prod-307050600709/practical_files/a6c1a8f2-905c-4e05-99a8-c0ded723ed5e/marking_system.py -q -O marking_system.py\n",
        "import marking_system\n",
        "import importlib\n",
        "importlib.reload(marking_system)\n",
        "import sys\n",
        "ipython = get_ipython()\n",
        "def hide_traceback(exc_tuple=None, filename=None, tb_offset=None, exception_only=False, running_compiled_code=False):\n",
        "    etype, value, tb = sys.exc_info()\n",
        "    value.__cause__ = None  # suppress chained exceptions\n",
        "    return ipython._showtraceback(etype, \"❌ \" + f\"\u001b[91m{value}\", ipython.InteractiveTB.get_exception_only(etype, \"❌ \" + f\"\u001b[91m{value}\"))\n",
        "ipython.showtraceback = hide_traceback\n"
      ]
    },
    {
      "cell_type": "markdown",
      "id": "839c0a7d",
      "metadata": {
        "id": "839c0a7d"
      },
      "source": [
        "### 1. Create a variable called `my_string` and assign it the value `\"Hello World\"`."
      ]
    },
    {
      "cell_type": "code",
      "execution_count": 2,
      "id": "28ff9bb1",
      "metadata": {
        "id": "28ff9bb1"
      },
      "outputs": [],
      "source": [
        "# TODO - Create a variable called `my_string` and assign it the value \"Hello World\"\n",
        "my_string = \"Hello World\""
      ]
    },
    {
      "cell_type": "code",
      "execution_count": 3,
      "id": "000f4399",
      "metadata": {
        "colab": {
          "base_uri": "https://localhost:8080/"
        },
        "id": "000f4399",
        "outputId": "d1f5f976-842d-4332-cdc2-f3615c7f2598"
      },
      "outputs": [
        {
          "output_type": "stream",
          "name": "stdout",
          "text": [
            "\u001b[92m✔ Well done! You have successfully assigned the string 'Hello World' to the variable 'my_string'.\n"
          ]
        }
      ],
      "source": [
        "#@title #### Run this cell to check your solution { display-mode: \"form\", run: \"auto\" }\n",
        "\n",
        "assert \"my_string\" in globals(), \"You haven't defined the variable 'my_string'.\"\n",
        "marking_system.check_step_1(my_string)\n"
      ]
    },
    {
      "cell_type": "markdown",
      "id": "b4f7ac5b",
      "metadata": {
        "id": "b4f7ac5b"
      },
      "source": [
        "### 2. Print the value of `my_string`.\n"
      ]
    },
    {
      "cell_type": "code",
      "execution_count": 4,
      "id": "a5671b88",
      "metadata": {
        "colab": {
          "base_uri": "https://localhost:8080/"
        },
        "id": "a5671b88",
        "outputId": "587ba06f-1b4d-44ef-a69d-aa514882d697"
      },
      "outputs": [
        {
          "output_type": "stream",
          "name": "stdout",
          "text": [
            "Hello World\n"
          ]
        }
      ],
      "source": [
        "# TODO - Print the value of `my_string`\n",
        "print(my_string)"
      ]
    },
    {
      "cell_type": "code",
      "execution_count": 5,
      "id": "e5711a19",
      "metadata": {
        "colab": {
          "base_uri": "https://localhost:8080/"
        },
        "id": "e5711a19",
        "outputId": "9f16a887-050a-42e3-dd2b-caab1a6ed788"
      },
      "outputs": [
        {
          "output_type": "stream",
          "name": "stdout",
          "text": [
            "\u001b[92m✔ Well done! You have successfully printed the value of the variable 'my_string'.\n"
          ]
        }
      ],
      "source": [
        "#@title #### Copy and paste your line of code in this form to check your solution { display-mode: \"form\", run: \"auto\" }\n",
        "\n",
        "your_code = \"print(my_string)\" #@param {type:\"string\"}\n",
        "marking_system.check_step_2(your_code=your_code)\n"
      ]
    },
    {
      "cell_type": "markdown",
      "id": "4ade9d59",
      "metadata": {
        "id": "4ade9d59"
      },
      "source": [
        "### 3. Print the type of `my_string`."
      ]
    },
    {
      "cell_type": "code",
      "execution_count": 7,
      "id": "9f12b65d",
      "metadata": {
        "colab": {
          "base_uri": "https://localhost:8080/"
        },
        "id": "9f12b65d",
        "outputId": "1e4deca2-7f70-4db1-9a6f-d056e16dadae"
      },
      "outputs": [
        {
          "output_type": "stream",
          "name": "stdout",
          "text": [
            "<class 'str'>\n"
          ]
        }
      ],
      "source": [
        "# TODO - Print the type of `my_string`\n",
        "print(type(my_string))"
      ]
    },
    {
      "cell_type": "code",
      "execution_count": 6,
      "id": "22d73e4d",
      "metadata": {
        "colab": {
          "base_uri": "https://localhost:8080/"
        },
        "id": "22d73e4d",
        "outputId": "b2985be7-42db-437d-9459-060c20d477f2"
      },
      "outputs": [
        {
          "output_type": "stream",
          "name": "stdout",
          "text": [
            "\u001b[92m✔ Well done! You have successfully printed the type of the variable 'my_string'.\n"
          ]
        }
      ],
      "source": [
        "#@title #### Copy and paste your line of code in this form to check your solution { display-mode: \"form\", run: \"auto\" }\n",
        "\n",
        "your_code = \"print(type(my_string))\" #@param {type:\"string\"}\n",
        "marking_system.check_step_3(your_code=your_code)\n"
      ]
    },
    {
      "cell_type": "markdown",
      "id": "ace4d606",
      "metadata": {
        "id": "ace4d606"
      },
      "source": [
        "## Escaped Characters can perform special functions\n",
        "\n",
        "The escape character(`\\`) is a special character used to indicate that the following character should be treated differently. it is followed by a character or a sequence of characters that have a special meaning in the context of the string.\n",
        "\n",
        "There are two main uses of `\\` :\n",
        "- to denote that the next character should have a special meaning, eg. `\\n` to create a newline.\n",
        "- to prevent a character that usually has a special function from having that function, eg. `\\\"`"
      ]
    },
    {
      "cell_type": "markdown",
      "id": "df24e3df",
      "metadata": {
        "id": "df24e3df"
      },
      "source": [
        "#### 1. Create a variable called `my_string` and assign it the value `\"Hello \\nWorld\"`"
      ]
    },
    {
      "cell_type": "code",
      "execution_count": 8,
      "id": "f0b4bf94",
      "metadata": {
        "id": "f0b4bf94"
      },
      "outputs": [],
      "source": [
        "# TODO - Create a variable called `my_string` and assign it the value \"Hello \\nWorld\".\n",
        "my_string = \"Hello \\nWorld\""
      ]
    },
    {
      "cell_type": "code",
      "execution_count": 9,
      "id": "5a054c79",
      "metadata": {
        "colab": {
          "base_uri": "https://localhost:8080/"
        },
        "id": "5a054c79",
        "outputId": "3f7f655e-16d7-466b-d40b-e37614a6aef6"
      },
      "outputs": [
        {
          "output_type": "stream",
          "name": "stdout",
          "text": [
            "\u001b[92m✔ Well done! You have successfully assigned the string 'Hello \\nWorld' to the variable 'my_string'.\n"
          ]
        }
      ],
      "source": [
        "#@title #### Run this cell to check your solution { display-mode: \"form\", run: \"auto\" }\n",
        "\n",
        "assert \"my_string\" in globals(), \"You haven't defined the variable 'my_string'.\"\n",
        "marking_system.check_step_4(my_string)\n"
      ]
    },
    {
      "cell_type": "markdown",
      "id": "4a22f333",
      "metadata": {
        "id": "4a22f333"
      },
      "source": [
        "#### 2. Print the value of `my_string`\n",
        "\n",
        "The \"\\n\" is a special character that tells Python to start a new line."
      ]
    },
    {
      "cell_type": "code",
      "execution_count": 11,
      "id": "5c2a055e",
      "metadata": {
        "colab": {
          "base_uri": "https://localhost:8080/"
        },
        "id": "5c2a055e",
        "outputId": "c732e33d-6a55-49cf-84c6-2eea0b6fb31f"
      },
      "outputs": [
        {
          "output_type": "stream",
          "name": "stdout",
          "text": [
            "Hello \n",
            "World\n"
          ]
        }
      ],
      "source": [
        "# TODO - Print the value of my_string.\n",
        "print(my_string)"
      ]
    },
    {
      "cell_type": "markdown",
      "id": "066bde31",
      "metadata": {
        "id": "066bde31"
      },
      "source": [
        "#### 3. Create a variable called `my_string` and assign it the value `\"Hello \\tWorld\"`"
      ]
    },
    {
      "cell_type": "code",
      "execution_count": 12,
      "id": "d054e13b",
      "metadata": {
        "id": "d054e13b"
      },
      "outputs": [],
      "source": [
        "# TODO - Create a variable called `my_string` and assign it the value \"Hello \\tWorld\".\n",
        "my_string = \"Hello \\tWorld\""
      ]
    },
    {
      "cell_type": "code",
      "execution_count": 13,
      "id": "282bccb4",
      "metadata": {
        "colab": {
          "base_uri": "https://localhost:8080/"
        },
        "id": "282bccb4",
        "outputId": "8d6b83b6-65fb-4ff9-be87-ba98fd2c0b66"
      },
      "outputs": [
        {
          "output_type": "stream",
          "name": "stdout",
          "text": [
            "\u001b[92m✔ Well done! You have successfully assigned the string 'Hello \\tWorld' to the variable 'my_string'.\n"
          ]
        }
      ],
      "source": [
        "#@title #### Run this cell to check your solution { display-mode: \"form\", run: \"auto\" }\n",
        "\n",
        "assert \"my_string\" in globals(), \"You haven't defined the variable 'my_string'.\"\n",
        "marking_system.check_step_5(my_string)\n"
      ]
    },
    {
      "cell_type": "markdown",
      "id": "5f13eae2",
      "metadata": {
        "id": "5f13eae2"
      },
      "source": [
        "#### 4. Print the value of `my_string`\n",
        "\n",
        "The \"\\t\" is a special character that tells Python to start a new tab."
      ]
    },
    {
      "cell_type": "code",
      "execution_count": 14,
      "id": "cccaaebf",
      "metadata": {
        "colab": {
          "base_uri": "https://localhost:8080/"
        },
        "id": "cccaaebf",
        "outputId": "b1fee022-2143-4c23-a622-44238acf6811"
      },
      "outputs": [
        {
          "output_type": "stream",
          "name": "stdout",
          "text": [
            "Hello \tWorld\n"
          ]
        }
      ],
      "source": [
        "# TODO - Print the value of my_string.\n",
        "print(my_string)"
      ]
    }
  ],
  "metadata": {
    "kernelspec": {
      "display_name": "content-projects_new",
      "language": "python",
      "name": "python3"
    },
    "language_info": {
      "codemirror_mode": {
        "name": "ipython",
        "version": 3
      },
      "file_extension": ".py",
      "mimetype": "text/x-python",
      "name": "python",
      "nbconvert_exporter": "python",
      "pygments_lexer": "ipython3",
      "version": "3.11.0"
    },
    "vscode": {
      "interpreter": {
        "hash": "4b961f8166aad6ccb4cf65d0f9c742ef9c6c23ffe83ad932438cd83ed96aebaf"
      }
    },
    "colab": {
      "provenance": [],
      "include_colab_link": true
    }
  },
  "nbformat": 4,
  "nbformat_minor": 5
}
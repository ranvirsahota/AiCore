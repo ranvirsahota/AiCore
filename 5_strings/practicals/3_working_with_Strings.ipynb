{
  "cells": [
    {
      "cell_type": "markdown",
      "metadata": {
        "id": "view-in-github",
        "colab_type": "text"
      },
      "source": [
        "<a href=\"https://colab.research.google.com/github/ranvirsahota/AiCore/blob/python-basics/5_strings/practicals/3_working_with_Strings.ipynb\" target=\"_parent\"><img src=\"https://colab.research.google.com/assets/colab-badge.svg\" alt=\"Open In Colab\"/></a>"
      ]
    },
    {
      "cell_type": "markdown",
      "metadata": {
        "id": "R08ElcMdRX1_"
      },
      "source": [
        "# Working with Strings"
      ]
    },
    {
      "cell_type": "code",
      "execution_count": 1,
      "metadata": {
        "id": "6e65dca4",
        "outputId": "05c61de0-b466-4894-c60f-2d6710d2864f",
        "colab": {
          "base_uri": "https://localhost:8080/"
        }
      },
      "outputs": [
        {
          "output_type": "stream",
          "name": "stdout",
          "text": [
            "Downloading the marking system\n"
          ]
        }
      ],
      "source": [
        "#@title ### Run the following cell to download the necessary files for this practical { display-mode: \"form\" }\n",
        "#@markdown Don't worry about what's in this collapsed cell\n",
        "\n",
        "print('Downloading the marking system')\n",
        "!wget https://s3-eu-west-1.amazonaws.com/aicore-portal-public-prod-307050600709/practical_files/cd0ca448-662b-4b28-ba5f-57c381565db5/marking_system.py -q -O marking_system.py\n",
        "import marking_system\n",
        "import importlib\n",
        "importlib.reload(marking_system)\n",
        "import sys\n",
        "ipython = get_ipython()\n",
        "def hide_traceback(exc_tuple=None, filename=None, tb_offset=None, exception_only=False, running_compiled_code=False):\n",
        "    etype, value, tb = sys.exc_info()\n",
        "    value.__cause__ = None  # suppress chained exceptions\n",
        "    return ipython._showtraceback(etype, \"❌ \" + f\"\u001b[91m{value}\", ipython.InteractiveTB.get_exception_only(etype, \"❌ \" + f\"\u001b[91m{value}\"))\n",
        "ipython.showtraceback = hide_traceback\n"
      ]
    },
    {
      "cell_type": "markdown",
      "metadata": {
        "id": "GUe4voAmRX2A"
      },
      "source": [
        "## Strings are iterable\n",
        "\n",
        "Strings, like many other `Python` variables, are iterable, which means we can index their individual elements. In the case of strings, the elements are the characters of the string.\n",
        "\n",
        "- In the code block below, create a variable called `test_string` and assign it the value `\"hello\"`.\n",
        "- Now try to select the 2nd character of the string, which should be `e`. Assign the result to a variable called `second_char`.\n"
      ]
    },
    {
      "cell_type": "code",
      "execution_count": 4,
      "metadata": {
        "id": "p4Plm-TwRX2A",
        "outputId": "ce7ad8fb-d4ac-4059-9e79-d85e30285346",
        "colab": {
          "base_uri": "https://localhost:8080/"
        }
      },
      "outputs": [
        {
          "output_type": "stream",
          "name": "stdout",
          "text": [
            "e\n"
          ]
        }
      ],
      "source": [
        "# TODO - Create a variable called `test_string` and assign it the value \"hello\".\n",
        "# TODO - Select the 2nd character of the string. Assign it to a variable called `second_char`.\n",
        "test_string = \"hello\"\n",
        "second_char = test_string[1]\n",
        "print(second_char)"
      ]
    },
    {
      "cell_type": "code",
      "execution_count": 5,
      "metadata": {
        "id": "Xd5LO1hsRX2A",
        "outputId": "13251cfb-9516-4521-9c73-8c2abf07cac8",
        "colab": {
          "base_uri": "https://localhost:8080/"
        }
      },
      "outputs": [
        {
          "output_type": "stream",
          "name": "stdout",
          "text": [
            "\u001b[92m✔ Well done! You have successfully assigned the string 'hello' to the variable 'test_string'.\n"
          ]
        }
      ],
      "source": [
        "#@title #### Run this cell to check your solution { display-mode: \"form\", run: \"auto\" }\n",
        "\n",
        "assert \"test_string\" in globals(), \"You haven't defined the variable 'test_string'.\"\n",
        "assert \"second_char\" in globals(), \"You haven't defined the variable 'second_char'.\"\n",
        "marking_system.check_step_1(test_string, second_char)\n"
      ]
    },
    {
      "cell_type": "markdown",
      "metadata": {
        "id": "CpzRjaCaRX2A"
      },
      "source": [
        "We can also do this the other way around, using the `.index()` method. The index is the location of an element in a string. As with other variables, the first element has index 0.\n",
        "\n",
        "Find the index of the letter `e` in `test_string`:"
      ]
    },
    {
      "cell_type": "code",
      "execution_count": 6,
      "metadata": {
        "id": "6U7K167aRX2B",
        "outputId": "7cc04378-409e-4786-bb42-cd85ed8ad5ae",
        "colab": {
          "base_uri": "https://localhost:8080/"
        }
      },
      "outputs": [
        {
          "output_type": "stream",
          "name": "stdout",
          "text": [
            "1\n"
          ]
        }
      ],
      "source": [
        "# TODO - Find the index of the letter `e` in `test_string`\n",
        "print(test_string.index('e'))"
      ]
    },
    {
      "cell_type": "code",
      "execution_count": 7,
      "metadata": {
        "id": "1AU8ne0VRX2B",
        "outputId": "b6f61ce2-e547-4105-a6db-c728c460aaea",
        "colab": {
          "base_uri": "https://localhost:8080/"
        }
      },
      "outputs": [
        {
          "output_type": "stream",
          "name": "stdout",
          "text": [
            "\u001b[92m✔ Well done! The index of 'e' in the string 'hello' is 1. Remember that Python starts counting from 0.\n"
          ]
        }
      ],
      "source": [
        "#@title #### Enter your solution here { display-mode: \"form\", run: \"auto\" }\n",
        "\n",
        "#@markdown What is the index of the letter `e` in `test_string`?\n",
        "ans = \"1\" #@param [\"0\", \"1\", \"2\", \"3\", \"4\"] {allow-input: true}\n",
        "marking_system.check_step_2(ans)\n"
      ]
    },
    {
      "cell_type": "markdown",
      "metadata": {
        "id": "V5J4lwOoRX2B"
      },
      "source": [
        "## Replacing elements in strings.\n",
        "\n",
        "Strings are immutable, which means we can't just use indexing to replace an element. You might think that the code below would allow us to replace the `e` in \"hello\" with a `*`. Run the code block below to see if it works.\n"
      ]
    },
    {
      "cell_type": "code",
      "execution_count": 9,
      "metadata": {
        "id": "Vm0Gm3iWRX2B",
        "outputId": "0366e821-37d7-43c6-bc0f-c6609af8263a",
        "colab": {
          "base_uri": "https://localhost:8080/",
          "height": 89
        }
      },
      "outputs": [
        {
          "output_type": "error",
          "ename": "TypeError",
          "evalue": "ignored",
          "traceback": [
            "\u001b[0;31mTypeError\u001b[0m\u001b[0;31m:\u001b[0m ❌ \u001b[91m'str' object does not support item assignment\n"
          ]
        }
      ],
      "source": [
        "s =\"hello\"\n",
        "s[1]=\"*\"\n"
      ]
    },
    {
      "cell_type": "markdown",
      "metadata": {
        "id": "nHgmzlfsRX2B"
      },
      "source": [
        "To get around this, we can quickly replace all the elements in a string using the `.replace` method.\n",
        "\n",
        "Replace all the `o` characters with `*` in the following string."
      ]
    },
    {
      "cell_type": "code",
      "execution_count": 10,
      "metadata": {
        "id": "XlIR5S2RRX2B",
        "outputId": "989812ad-1411-4208-ce6a-9b4a94c2074b",
        "colab": {
          "base_uri": "https://localhost:8080/",
          "height": 35
        }
      },
      "outputs": [
        {
          "output_type": "execute_result",
          "data": {
            "text/plain": [
              "'The quick br*wn f*x jumps *ver the lazy d*g'"
            ],
            "application/vnd.google.colaboratory.intrinsic+json": {
              "type": "string"
            }
          },
          "metadata": {},
          "execution_count": 10
        }
      ],
      "source": [
        "s = \"The quick brown fox jumps over the lazy dog\"\n",
        "# TODO: Use the appropriate method to replace all occurrences of \"o\" with \"*\"\n",
        "s.replace('o', '*')"
      ]
    },
    {
      "cell_type": "code",
      "execution_count": 11,
      "metadata": {
        "id": "jcEfQo7qRX2B",
        "outputId": "f081eac6-8532-4696-9085-8974c18f85c0",
        "colab": {
          "base_uri": "https://localhost:8080/"
        }
      },
      "outputs": [
        {
          "output_type": "stream",
          "name": "stdout",
          "text": [
            "\u001b[92m✔ Well done! You have successfully changed the 'o' characters in the string 's'.\n"
          ]
        }
      ],
      "source": [
        "#@title #### Enter your solution here { display-mode: \"form\", run: \"auto\" }\n",
        "\n",
        "assert \"s\" in globals(), \"You haven't defined the variable 's'. Please, run the cell above.\"\n",
        "marking_system.check_step_3(s)\n"
      ]
    },
    {
      "cell_type": "markdown",
      "metadata": {
        "id": "HFwFKP7nRX2B"
      },
      "source": [
        "## Finding the length of a string\n",
        "\n",
        "We can find the length of a string using it's `len()` function.\n",
        "\n",
        "- Write a sentence and assign it to the variable `my_sentence`.\n",
        "- Find the length of `my_sentence`."
      ]
    },
    {
      "cell_type": "code",
      "execution_count": 12,
      "metadata": {
        "id": "qp_HuxWsRX2C",
        "outputId": "29a28755-2a39-4b6c-f41f-54853234a7a1",
        "colab": {
          "base_uri": "https://localhost:8080/"
        }
      },
      "outputs": [
        {
          "output_type": "stream",
          "name": "stdout",
          "text": [
            "30\n"
          ]
        }
      ],
      "source": [
        "# TODO: Write a sentence with more than 20 characters and assign it to the variable `my_sentence`.\n",
        "# TODO: Find the length of `my_sentence`\n",
        "my_sentence = 'Must be at least 20 characters'\n",
        "print(len(my_sentence))"
      ]
    },
    {
      "cell_type": "code",
      "execution_count": 13,
      "metadata": {
        "id": "LyL7Q5mLRX2C",
        "outputId": "e0962355-9047-4f8d-e816-a4ae5e7c5b2a",
        "colab": {
          "base_uri": "https://localhost:8080/"
        }
      },
      "outputs": [
        {
          "output_type": "stream",
          "name": "stdout",
          "text": [
            "\u001b[92m✔ Well done! You have successfully calculated the length of the string 'my_sentence'.\n"
          ]
        }
      ],
      "source": [
        "#@title #### Run this cell to check your solution { display-mode: \"form\", run: \"auto\" }\n",
        "\n",
        "assert \"my_sentence\" in globals(), \"You haven't defined the variable 'my_sentence'.\"\n",
        "#@markdown What is the length of your variable `my_sentence`?\n",
        "sentence_length = 30  #@param {type: \"number\"}\n",
        "marking_system.check_step_4(my_sentence, sentence_length)\n"
      ]
    }
  ],
  "metadata": {
    "kernelspec": {
      "display_name": "content-projects_new",
      "language": "python",
      "name": "python3"
    },
    "language_info": {
      "codemirror_mode": {
        "name": "ipython",
        "version": 3
      },
      "file_extension": ".py",
      "mimetype": "text/x-python",
      "name": "python",
      "nbconvert_exporter": "python",
      "pygments_lexer": "ipython3",
      "version": "3.10.8"
    },
    "vscode": {
      "interpreter": {
        "hash": "4b961f8166aad6ccb4cf65d0f9c742ef9c6c23ffe83ad932438cd83ed96aebaf"
      }
    },
    "colab": {
      "provenance": [],
      "include_colab_link": true
    }
  },
  "nbformat": 4,
  "nbformat_minor": 0
}
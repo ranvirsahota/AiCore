{
  "cells": [
    {
      "cell_type": "code",
      "execution_count": 1,
      "metadata": {},
      "outputs": [],
      "source": [
        "import sys\n",
        "sys.path.append('/home/ranvir/AiCore')\n",
        "from pagila_connection import execute_query"
      ]
    },
    {
      "cell_type": "markdown",
      "metadata": {
        "id": "C_hxpdftuYoc"
      },
      "source": [
        "<h2 style=\"color: rgb(241, 90, 36)\"><img src=\"https://github.com/AI-Core/Content-Public/blob/main/Content/units/Data-Handling/3.%20SQL/8.%20CRUD%20Altering%20Tables/images/SQLIcon.png?modified=223&raw=1\" width=80px height=80px style=\"vertical-align: middle;\">CRUD Altering Tables</h2>\n",
        "\n",
        "After you have inserted data into your database tables, there of course might be a need to alter, or insert new data. In this notebook you will learn how you can update your tables using **CRUD operations**.\n",
        "\n",
        "## Adding/removing columns\n",
        "\n",
        "When updating a table you can add or drop columns, rows or completely change data points, as long as the data matches the correct type and the constraints are met.\n",
        "\n",
        "Manipulations of columns are done using the `ALTER TABLE` statement with the following syntax:"
      ]
    },
    {
      "cell_type": "code",
      "execution_count": null,
      "metadata": {
        "id": "rr4YwE-ZuYof",
        "vscode": {
          "languageId": "sql"
        }
      },
      "outputs": [],
      "source": [
        "ALTER TABLE {table_name}\n",
        "    ADD COLUMN {column name} {data_type} {constraint};"
      ]
    },
    {
      "cell_type": "markdown",
      "metadata": {
        "id": "ajETkyY_uYog"
      },
      "source": [
        "Adding a new `available` column to signify that a film is available for rental:"
      ]
    },
    {
      "cell_type": "code",
      "execution_count": null,
      "metadata": {
        "id": "kKN9guqzuYoh",
        "vscode": {
          "languageId": "sql"
        }
      },
      "outputs": [],
      "source": [
        "ALTER TABLE rental\n",
        "    ADD COLUMN available BOOLEAN NOT NULL DEFAULT True;"
      ]
    },
    {
      "cell_type": "code",
      "execution_count": 2,
      "metadata": {},
      "outputs": [
        {
          "data": {
            "text/html": [
              "<div>\n",
              "<style scoped>\n",
              "    .dataframe tbody tr th:only-of-type {\n",
              "        vertical-align: middle;\n",
              "    }\n",
              "\n",
              "    .dataframe tbody tr th {\n",
              "        vertical-align: top;\n",
              "    }\n",
              "\n",
              "    .dataframe thead th {\n",
              "        text-align: right;\n",
              "    }\n",
              "</style>\n",
              "<table border=\"1\" class=\"dataframe\">\n",
              "  <thead>\n",
              "    <tr style=\"text-align: right;\">\n",
              "      <th></th>\n",
              "      <th>rental_id</th>\n",
              "      <th>rental_date</th>\n",
              "      <th>inventory_id</th>\n",
              "      <th>customer_id</th>\n",
              "      <th>return_date</th>\n",
              "      <th>staff_id</th>\n",
              "      <th>last_update</th>\n",
              "      <th>available</th>\n",
              "    </tr>\n",
              "  </thead>\n",
              "  <tbody>\n",
              "    <tr>\n",
              "      <th>0</th>\n",
              "      <td>2</td>\n",
              "      <td>2005-05-24 22:54:33</td>\n",
              "      <td>1525</td>\n",
              "      <td>459</td>\n",
              "      <td>2005-05-28 19:40:33</td>\n",
              "      <td>1</td>\n",
              "      <td>2006-02-16 02:30:53</td>\n",
              "      <td>True</td>\n",
              "    </tr>\n",
              "    <tr>\n",
              "      <th>1</th>\n",
              "      <td>3</td>\n",
              "      <td>2005-05-24 23:03:39</td>\n",
              "      <td>1711</td>\n",
              "      <td>408</td>\n",
              "      <td>2005-06-01 22:12:39</td>\n",
              "      <td>1</td>\n",
              "      <td>2006-02-16 02:30:53</td>\n",
              "      <td>True</td>\n",
              "    </tr>\n",
              "    <tr>\n",
              "      <th>2</th>\n",
              "      <td>4</td>\n",
              "      <td>2005-05-24 23:04:41</td>\n",
              "      <td>2452</td>\n",
              "      <td>333</td>\n",
              "      <td>2005-06-03 01:43:41</td>\n",
              "      <td>2</td>\n",
              "      <td>2006-02-16 02:30:53</td>\n",
              "      <td>True</td>\n",
              "    </tr>\n",
              "    <tr>\n",
              "      <th>3</th>\n",
              "      <td>5</td>\n",
              "      <td>2005-05-24 23:05:21</td>\n",
              "      <td>2079</td>\n",
              "      <td>222</td>\n",
              "      <td>2005-06-02 04:33:21</td>\n",
              "      <td>1</td>\n",
              "      <td>2006-02-16 02:30:53</td>\n",
              "      <td>True</td>\n",
              "    </tr>\n",
              "    <tr>\n",
              "      <th>4</th>\n",
              "      <td>6</td>\n",
              "      <td>2005-05-24 23:08:07</td>\n",
              "      <td>2792</td>\n",
              "      <td>549</td>\n",
              "      <td>2005-05-27 01:32:07</td>\n",
              "      <td>1</td>\n",
              "      <td>2006-02-16 02:30:53</td>\n",
              "      <td>True</td>\n",
              "    </tr>\n",
              "    <tr>\n",
              "      <th>...</th>\n",
              "      <td>...</td>\n",
              "      <td>...</td>\n",
              "      <td>...</td>\n",
              "      <td>...</td>\n",
              "      <td>...</td>\n",
              "      <td>...</td>\n",
              "      <td>...</td>\n",
              "      <td>...</td>\n",
              "    </tr>\n",
              "    <tr>\n",
              "      <th>16039</th>\n",
              "      <td>16046</td>\n",
              "      <td>2005-08-23 22:26:47</td>\n",
              "      <td>4364</td>\n",
              "      <td>74</td>\n",
              "      <td>2005-08-27 18:02:47</td>\n",
              "      <td>2</td>\n",
              "      <td>2006-02-16 02:30:53</td>\n",
              "      <td>True</td>\n",
              "    </tr>\n",
              "    <tr>\n",
              "      <th>16040</th>\n",
              "      <td>16047</td>\n",
              "      <td>2005-08-23 22:42:48</td>\n",
              "      <td>2088</td>\n",
              "      <td>114</td>\n",
              "      <td>2005-08-25 02:48:48</td>\n",
              "      <td>2</td>\n",
              "      <td>2006-02-16 02:30:53</td>\n",
              "      <td>True</td>\n",
              "    </tr>\n",
              "    <tr>\n",
              "      <th>16041</th>\n",
              "      <td>16048</td>\n",
              "      <td>2005-08-23 22:43:07</td>\n",
              "      <td>2019</td>\n",
              "      <td>103</td>\n",
              "      <td>2005-08-31 21:33:07</td>\n",
              "      <td>1</td>\n",
              "      <td>2006-02-16 02:30:53</td>\n",
              "      <td>True</td>\n",
              "    </tr>\n",
              "    <tr>\n",
              "      <th>16042</th>\n",
              "      <td>16049</td>\n",
              "      <td>2005-08-23 22:50:12</td>\n",
              "      <td>2666</td>\n",
              "      <td>393</td>\n",
              "      <td>2005-08-30 01:01:12</td>\n",
              "      <td>2</td>\n",
              "      <td>2006-02-16 02:30:53</td>\n",
              "      <td>True</td>\n",
              "    </tr>\n",
              "    <tr>\n",
              "      <th>16043</th>\n",
              "      <td>1</td>\n",
              "      <td>2005-05-24 22:53:30</td>\n",
              "      <td>367</td>\n",
              "      <td>130</td>\n",
              "      <td>2005-05-26 22:04:30</td>\n",
              "      <td>1</td>\n",
              "      <td>2006-02-15 21:30:53</td>\n",
              "      <td>True</td>\n",
              "    </tr>\n",
              "  </tbody>\n",
              "</table>\n",
              "<p>16044 rows × 8 columns</p>\n",
              "</div>"
            ],
            "text/plain": [
              "       rental_id         rental_date  inventory_id  customer_id         return_date  staff_id         last_update  available\n",
              "0              2 2005-05-24 22:54:33          1525          459 2005-05-28 19:40:33         1 2006-02-16 02:30:53       True\n",
              "1              3 2005-05-24 23:03:39          1711          408 2005-06-01 22:12:39         1 2006-02-16 02:30:53       True\n",
              "2              4 2005-05-24 23:04:41          2452          333 2005-06-03 01:43:41         2 2006-02-16 02:30:53       True\n",
              "3              5 2005-05-24 23:05:21          2079          222 2005-06-02 04:33:21         1 2006-02-16 02:30:53       True\n",
              "4              6 2005-05-24 23:08:07          2792          549 2005-05-27 01:32:07         1 2006-02-16 02:30:53       True\n",
              "...          ...                 ...           ...          ...                 ...       ...                 ...        ...\n",
              "16039      16046 2005-08-23 22:26:47          4364           74 2005-08-27 18:02:47         2 2006-02-16 02:30:53       True\n",
              "16040      16047 2005-08-23 22:42:48          2088          114 2005-08-25 02:48:48         2 2006-02-16 02:30:53       True\n",
              "16041      16048 2005-08-23 22:43:07          2019          103 2005-08-31 21:33:07         1 2006-02-16 02:30:53       True\n",
              "16042      16049 2005-08-23 22:50:12          2666          393 2005-08-30 01:01:12         2 2006-02-16 02:30:53       True\n",
              "16043          1 2005-05-24 22:53:30           367          130 2005-05-26 22:04:30         1 2006-02-15 21:30:53       True\n",
              "\n",
              "[16044 rows x 8 columns]"
            ]
          },
          "execution_count": 2,
          "metadata": {},
          "output_type": "execute_result"
        }
      ],
      "source": [
        "execute_query('SELECT * FROM rental;')"
      ]
    },
    {
      "cell_type": "markdown",
      "metadata": {
        "id": "S1kAZM1AuYoh"
      },
      "source": [
        "Notice the additional statement keyword `DEFAULT` was added with the value set to `True`. Since we set column constraint to be `NOT NULL`, we needed to set the default value as the column can't contain `NULL` values. SQL would throw an error if we didn't set this default value.\n",
        "\n",
        "Dropping columns can also be done using the syntax:"
      ]
    },
    {
      "cell_type": "code",
      "execution_count": null,
      "metadata": {
        "id": "kNx75dlMuYoh",
        "vscode": {
          "languageId": "sql"
        }
      },
      "outputs": [],
      "source": [
        "ALTER TABLE {table_name}\n",
        "    DROP COLUMN {column_name} [ RESTRICT | CASCADE ];"
      ]
    },
    {
      "cell_type": "markdown",
      "metadata": {
        "id": "VK2KSqTguYoh"
      },
      "source": [
        "Again we can choose to cascade the dropping of constraints and relationships if another table depends on the column."
      ]
    },
    {
      "cell_type": "code",
      "execution_count": null,
      "metadata": {
        "id": "WW-mxxY8uYoi",
        "vscode": {
          "languageId": "sql"
        }
      },
      "outputs": [],
      "source": [
        "ALTER TABLE rental\n",
        "    DROP COLUMN available;"
      ]
    },
    {
      "cell_type": "code",
      "execution_count": 3,
      "metadata": {},
      "outputs": [
        {
          "data": {
            "text/html": [
              "<div>\n",
              "<style scoped>\n",
              "    .dataframe tbody tr th:only-of-type {\n",
              "        vertical-align: middle;\n",
              "    }\n",
              "\n",
              "    .dataframe tbody tr th {\n",
              "        vertical-align: top;\n",
              "    }\n",
              "\n",
              "    .dataframe thead th {\n",
              "        text-align: right;\n",
              "    }\n",
              "</style>\n",
              "<table border=\"1\" class=\"dataframe\">\n",
              "  <thead>\n",
              "    <tr style=\"text-align: right;\">\n",
              "      <th></th>\n",
              "      <th>rental_id</th>\n",
              "      <th>rental_date</th>\n",
              "      <th>inventory_id</th>\n",
              "      <th>customer_id</th>\n",
              "      <th>return_date</th>\n",
              "      <th>staff_id</th>\n",
              "      <th>last_update</th>\n",
              "    </tr>\n",
              "  </thead>\n",
              "  <tbody>\n",
              "    <tr>\n",
              "      <th>0</th>\n",
              "      <td>2</td>\n",
              "      <td>2005-05-24 22:54:33</td>\n",
              "      <td>1525</td>\n",
              "      <td>459</td>\n",
              "      <td>2005-05-28 19:40:33</td>\n",
              "      <td>1</td>\n",
              "      <td>2006-02-16 02:30:53</td>\n",
              "    </tr>\n",
              "    <tr>\n",
              "      <th>1</th>\n",
              "      <td>3</td>\n",
              "      <td>2005-05-24 23:03:39</td>\n",
              "      <td>1711</td>\n",
              "      <td>408</td>\n",
              "      <td>2005-06-01 22:12:39</td>\n",
              "      <td>1</td>\n",
              "      <td>2006-02-16 02:30:53</td>\n",
              "    </tr>\n",
              "    <tr>\n",
              "      <th>2</th>\n",
              "      <td>4</td>\n",
              "      <td>2005-05-24 23:04:41</td>\n",
              "      <td>2452</td>\n",
              "      <td>333</td>\n",
              "      <td>2005-06-03 01:43:41</td>\n",
              "      <td>2</td>\n",
              "      <td>2006-02-16 02:30:53</td>\n",
              "    </tr>\n",
              "    <tr>\n",
              "      <th>3</th>\n",
              "      <td>5</td>\n",
              "      <td>2005-05-24 23:05:21</td>\n",
              "      <td>2079</td>\n",
              "      <td>222</td>\n",
              "      <td>2005-06-02 04:33:21</td>\n",
              "      <td>1</td>\n",
              "      <td>2006-02-16 02:30:53</td>\n",
              "    </tr>\n",
              "    <tr>\n",
              "      <th>4</th>\n",
              "      <td>6</td>\n",
              "      <td>2005-05-24 23:08:07</td>\n",
              "      <td>2792</td>\n",
              "      <td>549</td>\n",
              "      <td>2005-05-27 01:32:07</td>\n",
              "      <td>1</td>\n",
              "      <td>2006-02-16 02:30:53</td>\n",
              "    </tr>\n",
              "    <tr>\n",
              "      <th>...</th>\n",
              "      <td>...</td>\n",
              "      <td>...</td>\n",
              "      <td>...</td>\n",
              "      <td>...</td>\n",
              "      <td>...</td>\n",
              "      <td>...</td>\n",
              "      <td>...</td>\n",
              "    </tr>\n",
              "    <tr>\n",
              "      <th>16039</th>\n",
              "      <td>16046</td>\n",
              "      <td>2005-08-23 22:26:47</td>\n",
              "      <td>4364</td>\n",
              "      <td>74</td>\n",
              "      <td>2005-08-27 18:02:47</td>\n",
              "      <td>2</td>\n",
              "      <td>2006-02-16 02:30:53</td>\n",
              "    </tr>\n",
              "    <tr>\n",
              "      <th>16040</th>\n",
              "      <td>16047</td>\n",
              "      <td>2005-08-23 22:42:48</td>\n",
              "      <td>2088</td>\n",
              "      <td>114</td>\n",
              "      <td>2005-08-25 02:48:48</td>\n",
              "      <td>2</td>\n",
              "      <td>2006-02-16 02:30:53</td>\n",
              "    </tr>\n",
              "    <tr>\n",
              "      <th>16041</th>\n",
              "      <td>16048</td>\n",
              "      <td>2005-08-23 22:43:07</td>\n",
              "      <td>2019</td>\n",
              "      <td>103</td>\n",
              "      <td>2005-08-31 21:33:07</td>\n",
              "      <td>1</td>\n",
              "      <td>2006-02-16 02:30:53</td>\n",
              "    </tr>\n",
              "    <tr>\n",
              "      <th>16042</th>\n",
              "      <td>16049</td>\n",
              "      <td>2005-08-23 22:50:12</td>\n",
              "      <td>2666</td>\n",
              "      <td>393</td>\n",
              "      <td>2005-08-30 01:01:12</td>\n",
              "      <td>2</td>\n",
              "      <td>2006-02-16 02:30:53</td>\n",
              "    </tr>\n",
              "    <tr>\n",
              "      <th>16043</th>\n",
              "      <td>1</td>\n",
              "      <td>2005-05-24 22:53:30</td>\n",
              "      <td>367</td>\n",
              "      <td>130</td>\n",
              "      <td>2005-05-26 22:04:30</td>\n",
              "      <td>1</td>\n",
              "      <td>2006-02-15 21:30:53</td>\n",
              "    </tr>\n",
              "  </tbody>\n",
              "</table>\n",
              "<p>16044 rows × 7 columns</p>\n",
              "</div>"
            ],
            "text/plain": [
              "       rental_id         rental_date  inventory_id  customer_id         return_date  staff_id         last_update\n",
              "0              2 2005-05-24 22:54:33          1525          459 2005-05-28 19:40:33         1 2006-02-16 02:30:53\n",
              "1              3 2005-05-24 23:03:39          1711          408 2005-06-01 22:12:39         1 2006-02-16 02:30:53\n",
              "2              4 2005-05-24 23:04:41          2452          333 2005-06-03 01:43:41         2 2006-02-16 02:30:53\n",
              "3              5 2005-05-24 23:05:21          2079          222 2005-06-02 04:33:21         1 2006-02-16 02:30:53\n",
              "4              6 2005-05-24 23:08:07          2792          549 2005-05-27 01:32:07         1 2006-02-16 02:30:53\n",
              "...          ...                 ...           ...          ...                 ...       ...                 ...\n",
              "16039      16046 2005-08-23 22:26:47          4364           74 2005-08-27 18:02:47         2 2006-02-16 02:30:53\n",
              "16040      16047 2005-08-23 22:42:48          2088          114 2005-08-25 02:48:48         2 2006-02-16 02:30:53\n",
              "16041      16048 2005-08-23 22:43:07          2019          103 2005-08-31 21:33:07         1 2006-02-16 02:30:53\n",
              "16042      16049 2005-08-23 22:50:12          2666          393 2005-08-30 01:01:12         2 2006-02-16 02:30:53\n",
              "16043          1 2005-05-24 22:53:30           367          130 2005-05-26 22:04:30         1 2006-02-15 21:30:53\n",
              "\n",
              "[16044 rows x 7 columns]"
            ]
          },
          "execution_count": 3,
          "metadata": {},
          "output_type": "execute_result"
        }
      ],
      "source": [
        "execute_query('SELECT * FROM rental;')"
      ]
    },
    {
      "cell_type": "markdown",
      "metadata": {
        "id": "83DB250cuYoi"
      },
      "source": [
        "<h3 style=\"color: rgb(241, 90, 36)\">Renaming columns and tables</h3>\n",
        "\n",
        "You might want to rename columns or tables if they no longer make sense to the current needs of the business.\n",
        "\n",
        "To change this name of a table use the following syntax:"
      ]
    },
    {
      "cell_type": "code",
      "execution_count": null,
      "metadata": {
        "id": "d25VPeINuYoi",
        "vscode": {
          "languageId": "sql"
        }
      },
      "outputs": [],
      "source": [
        "ALTER TABLE {table_name}\n",
        "    RENAME TO {new_table_name};"
      ]
    },
    {
      "cell_type": "markdown",
      "metadata": {
        "id": "ykBe-haauYoi"
      },
      "source": [
        "Column renaming can be done with:"
      ]
    },
    {
      "cell_type": "code",
      "execution_count": null,
      "metadata": {
        "id": "x9JYJPU4uYoi",
        "vscode": {
          "languageId": "sql"
        }
      },
      "outputs": [],
      "source": [
        "ALTER TABLE {table_name}\n",
        "    RENAME {previous_column_name} TO {new_column_name};"
      ]
    },
    {
      "cell_type": "markdown",
      "metadata": {
        "id": "A4MekjZSuYoj"
      },
      "source": [
        "<h3 style=\"color: rgb(241, 90, 36)\">Changing column types</h3>\n",
        "\n",
        "Often column types may need to be changed, this could be due to the current data type not handling the size of the data correctly. The data type could be too small to hold the data or too large, taking up extra space. Sometimes on first insertion of data into a new table by another service or application the data types might be inferred. This can lead to data being modelled incorrectly and thus might need to be altered.\n",
        "\n",
        "The syntax to alter the column data type is:\n"
      ]
    },
    {
      "cell_type": "code",
      "execution_count": null,
      "metadata": {
        "id": "ifMbBdaUuYoj",
        "vscode": {
          "languageId": "sql"
        }
      },
      "outputs": [],
      "source": [
        "ALTER TABLE {table_name}\n",
        "    ALTER COLUMN {column_name} TYPE {data type};"
      ]
    },
    {
      "cell_type": "markdown",
      "metadata": {
        "id": "uw4alpZluYoj"
      },
      "source": [
        "We could remove the time zone from the `rental_date` column in the `rental` table by casting it to a timestamp without time zone:"
      ]
    },
    {
      "cell_type": "code",
      "execution_count": null,
      "metadata": {
        "id": "kXMzYGUAuYoj",
        "vscode": {
          "languageId": "sql"
        }
      },
      "outputs": [],
      "source": [
        "\n",
        "ALTER TABLE rental\n",
        "    ALTER COLUMN rental_date TYPE TIMESTAMP without TIME ZONE;"
      ]
    },
    {
      "cell_type": "code",
      "execution_count": 6,
      "metadata": {},
      "outputs": [
        {
          "data": {
            "text/html": [
              "<div>\n",
              "<style scoped>\n",
              "    .dataframe tbody tr th:only-of-type {\n",
              "        vertical-align: middle;\n",
              "    }\n",
              "\n",
              "    .dataframe tbody tr th {\n",
              "        vertical-align: top;\n",
              "    }\n",
              "\n",
              "    .dataframe thead th {\n",
              "        text-align: right;\n",
              "    }\n",
              "</style>\n",
              "<table border=\"1\" class=\"dataframe\">\n",
              "  <thead>\n",
              "    <tr style=\"text-align: right;\">\n",
              "      <th></th>\n",
              "      <th>rental_id</th>\n",
              "      <th>rental_date</th>\n",
              "      <th>inventory_id</th>\n",
              "      <th>customer_id</th>\n",
              "      <th>return_date</th>\n",
              "      <th>staff_id</th>\n",
              "      <th>last_update</th>\n",
              "    </tr>\n",
              "  </thead>\n",
              "  <tbody>\n",
              "    <tr>\n",
              "      <th>0</th>\n",
              "      <td>2</td>\n",
              "      <td>2005-05-24 22:54:33</td>\n",
              "      <td>1525</td>\n",
              "      <td>459</td>\n",
              "      <td>2005-05-28 19:40:33</td>\n",
              "      <td>1</td>\n",
              "      <td>2006-02-16 02:30:53</td>\n",
              "    </tr>\n",
              "    <tr>\n",
              "      <th>1</th>\n",
              "      <td>3</td>\n",
              "      <td>2005-05-24 23:03:39</td>\n",
              "      <td>1711</td>\n",
              "      <td>408</td>\n",
              "      <td>2005-06-01 22:12:39</td>\n",
              "      <td>1</td>\n",
              "      <td>2006-02-16 02:30:53</td>\n",
              "    </tr>\n",
              "    <tr>\n",
              "      <th>2</th>\n",
              "      <td>4</td>\n",
              "      <td>2005-05-24 23:04:41</td>\n",
              "      <td>2452</td>\n",
              "      <td>333</td>\n",
              "      <td>2005-06-03 01:43:41</td>\n",
              "      <td>2</td>\n",
              "      <td>2006-02-16 02:30:53</td>\n",
              "    </tr>\n",
              "    <tr>\n",
              "      <th>3</th>\n",
              "      <td>5</td>\n",
              "      <td>2005-05-24 23:05:21</td>\n",
              "      <td>2079</td>\n",
              "      <td>222</td>\n",
              "      <td>2005-06-02 04:33:21</td>\n",
              "      <td>1</td>\n",
              "      <td>2006-02-16 02:30:53</td>\n",
              "    </tr>\n",
              "    <tr>\n",
              "      <th>4</th>\n",
              "      <td>6</td>\n",
              "      <td>2005-05-24 23:08:07</td>\n",
              "      <td>2792</td>\n",
              "      <td>549</td>\n",
              "      <td>2005-05-27 01:32:07</td>\n",
              "      <td>1</td>\n",
              "      <td>2006-02-16 02:30:53</td>\n",
              "    </tr>\n",
              "    <tr>\n",
              "      <th>...</th>\n",
              "      <td>...</td>\n",
              "      <td>...</td>\n",
              "      <td>...</td>\n",
              "      <td>...</td>\n",
              "      <td>...</td>\n",
              "      <td>...</td>\n",
              "      <td>...</td>\n",
              "    </tr>\n",
              "    <tr>\n",
              "      <th>16039</th>\n",
              "      <td>16046</td>\n",
              "      <td>2005-08-23 22:26:47</td>\n",
              "      <td>4364</td>\n",
              "      <td>74</td>\n",
              "      <td>2005-08-27 18:02:47</td>\n",
              "      <td>2</td>\n",
              "      <td>2006-02-16 02:30:53</td>\n",
              "    </tr>\n",
              "    <tr>\n",
              "      <th>16040</th>\n",
              "      <td>16047</td>\n",
              "      <td>2005-08-23 22:42:48</td>\n",
              "      <td>2088</td>\n",
              "      <td>114</td>\n",
              "      <td>2005-08-25 02:48:48</td>\n",
              "      <td>2</td>\n",
              "      <td>2006-02-16 02:30:53</td>\n",
              "    </tr>\n",
              "    <tr>\n",
              "      <th>16041</th>\n",
              "      <td>16048</td>\n",
              "      <td>2005-08-23 22:43:07</td>\n",
              "      <td>2019</td>\n",
              "      <td>103</td>\n",
              "      <td>2005-08-31 21:33:07</td>\n",
              "      <td>1</td>\n",
              "      <td>2006-02-16 02:30:53</td>\n",
              "    </tr>\n",
              "    <tr>\n",
              "      <th>16042</th>\n",
              "      <td>16049</td>\n",
              "      <td>2005-08-23 22:50:12</td>\n",
              "      <td>2666</td>\n",
              "      <td>393</td>\n",
              "      <td>2005-08-30 01:01:12</td>\n",
              "      <td>2</td>\n",
              "      <td>2006-02-16 02:30:53</td>\n",
              "    </tr>\n",
              "    <tr>\n",
              "      <th>16043</th>\n",
              "      <td>1</td>\n",
              "      <td>2005-05-24 22:53:30</td>\n",
              "      <td>367</td>\n",
              "      <td>130</td>\n",
              "      <td>2005-05-26 22:04:30</td>\n",
              "      <td>1</td>\n",
              "      <td>2006-02-15 21:30:53</td>\n",
              "    </tr>\n",
              "  </tbody>\n",
              "</table>\n",
              "<p>16044 rows × 7 columns</p>\n",
              "</div>"
            ],
            "text/plain": [
              "       rental_id         rental_date  inventory_id  customer_id         return_date  staff_id         last_update\n",
              "0              2 2005-05-24 22:54:33          1525          459 2005-05-28 19:40:33         1 2006-02-16 02:30:53\n",
              "1              3 2005-05-24 23:03:39          1711          408 2005-06-01 22:12:39         1 2006-02-16 02:30:53\n",
              "2              4 2005-05-24 23:04:41          2452          333 2005-06-03 01:43:41         2 2006-02-16 02:30:53\n",
              "3              5 2005-05-24 23:05:21          2079          222 2005-06-02 04:33:21         1 2006-02-16 02:30:53\n",
              "4              6 2005-05-24 23:08:07          2792          549 2005-05-27 01:32:07         1 2006-02-16 02:30:53\n",
              "...          ...                 ...           ...          ...                 ...       ...                 ...\n",
              "16039      16046 2005-08-23 22:26:47          4364           74 2005-08-27 18:02:47         2 2006-02-16 02:30:53\n",
              "16040      16047 2005-08-23 22:42:48          2088          114 2005-08-25 02:48:48         2 2006-02-16 02:30:53\n",
              "16041      16048 2005-08-23 22:43:07          2019          103 2005-08-31 21:33:07         1 2006-02-16 02:30:53\n",
              "16042      16049 2005-08-23 22:50:12          2666          393 2005-08-30 01:01:12         2 2006-02-16 02:30:53\n",
              "16043          1 2005-05-24 22:53:30           367          130 2005-05-26 22:04:30         1 2006-02-15 21:30:53\n",
              "\n",
              "[16044 rows x 7 columns]"
            ]
          },
          "execution_count": 6,
          "metadata": {},
          "output_type": "execute_result"
        }
      ],
      "source": [
        "execute_query('SELECT * FROM rental;')"
      ]
    },
    {
      "cell_type": "markdown",
      "metadata": {
        "id": "-Kc1ckTiuYoj"
      },
      "source": [
        "Although casting is great for quickly converting column types, it won't work in all cases. The current data type to be cast has to be of the correct form to be cast to the new value. For example you can't cast a `timestamp` to an `integer`, but casting an `integer` to another `numerical` type like a `real` would be possible."
      ]
    },
    {
      "cell_type": "markdown",
      "metadata": {
        "id": "2RXZQWxduYoj"
      },
      "source": [
        "## Adding/Removing constraints\n",
        "\n",
        "Constraints can also be altered after the table was created using `ALTER TABLE`. This can be used to both add and remove table constraints.\n",
        "\n",
        "To remove constraints use the following syntax:\n"
      ]
    },
    {
      "cell_type": "code",
      "execution_count": null,
      "metadata": {
        "id": "befiXSt2uYoj",
        "vscode": {
          "languageId": "sql"
        }
      },
      "outputs": [],
      "source": [
        "ALTER TABLE {table_name}\n",
        "    DROP CONSTRAINT {name_of_the_constraint} [ RESTRICT | CASCADE]"
      ]
    },
    {
      "cell_type": "markdown",
      "metadata": {
        "id": "iRHeh_nRuYoj"
      },
      "source": [
        "Table constraints can be added with:"
      ]
    },
    {
      "cell_type": "code",
      "execution_count": null,
      "metadata": {
        "id": "cMQ2jAl5uYoj",
        "vscode": {
          "languageId": "sql"
        }
      },
      "outputs": [],
      "source": [
        "ALTER TABLE {table_name}\n",
        "    ADD {table_constraint}"
      ]
    },
    {
      "cell_type": "markdown",
      "metadata": {
        "id": "uvgqLgg8uYok"
      },
      "source": [
        "For example adding a constraint that the `staff_id > 0` to the `staff` table:"
      ]
    },
    {
      "cell_type": "code",
      "execution_count": null,
      "metadata": {
        "id": "NZpJhpKtuYok",
        "vscode": {
          "languageId": "sql"
        }
      },
      "outputs": [],
      "source": [
        "ALTER TABLE staff\n",
        "    ADD CHECK (staff_id > 0);\n",
        "\n",
        "-- Or with a named constraint, always better to name your constraint as best practice\n",
        "\n",
        "ALTER TABLE staff\n",
        "    ADD CONSTRAINT min_staff_id CHECK (staff_id > 0);"
      ]
    },
    {
      "cell_type": "code",
      "execution_count": 8,
      "metadata": {},
      "outputs": [
        {
          "data": {
            "text/html": [
              "<div>\n",
              "<style scoped>\n",
              "    .dataframe tbody tr th:only-of-type {\n",
              "        vertical-align: middle;\n",
              "    }\n",
              "\n",
              "    .dataframe tbody tr th {\n",
              "        vertical-align: top;\n",
              "    }\n",
              "\n",
              "    .dataframe thead th {\n",
              "        text-align: right;\n",
              "    }\n",
              "</style>\n",
              "<table border=\"1\" class=\"dataframe\">\n",
              "  <thead>\n",
              "    <tr style=\"text-align: right;\">\n",
              "      <th></th>\n",
              "      <th>first_name</th>\n",
              "      <th>last_name</th>\n",
              "      <th>address_id</th>\n",
              "      <th>email</th>\n",
              "      <th>store_id</th>\n",
              "      <th>active</th>\n",
              "      <th>username</th>\n",
              "      <th>password</th>\n",
              "      <th>last_update</th>\n",
              "      <th>picture</th>\n",
              "    </tr>\n",
              "    <tr>\n",
              "      <th>staff_id</th>\n",
              "      <th></th>\n",
              "      <th></th>\n",
              "      <th></th>\n",
              "      <th></th>\n",
              "      <th></th>\n",
              "      <th></th>\n",
              "      <th></th>\n",
              "      <th></th>\n",
              "      <th></th>\n",
              "      <th></th>\n",
              "    </tr>\n",
              "  </thead>\n",
              "  <tbody>\n",
              "    <tr>\n",
              "      <th>1</th>\n",
              "      <td>Mike</td>\n",
              "      <td>Hillyer</td>\n",
              "      <td>3</td>\n",
              "      <td>Mike.Hillyer@sakilastaff.com</td>\n",
              "      <td>1</td>\n",
              "      <td>True</td>\n",
              "      <td>Mike</td>\n",
              "      <td>8cb2237d0679ca88db6464eac60da96345513964</td>\n",
              "      <td>2006-05-16 16:13:11.793280</td>\n",
              "      <td>[b'\\x89', b'P', b'N', b'G', b'\\r', b'\\n', b'Z'...</td>\n",
              "    </tr>\n",
              "    <tr>\n",
              "      <th>2</th>\n",
              "      <td>Jon</td>\n",
              "      <td>Stephens</td>\n",
              "      <td>4</td>\n",
              "      <td>Jon.Stephens@sakilastaff.com</td>\n",
              "      <td>2</td>\n",
              "      <td>True</td>\n",
              "      <td>Jon</td>\n",
              "      <td>8cb2237d0679ca88db6464eac60da96345513964</td>\n",
              "      <td>2006-05-16 16:13:11.793280</td>\n",
              "      <td>None</td>\n",
              "    </tr>\n",
              "  </tbody>\n",
              "</table>\n",
              "</div>"
            ],
            "text/plain": [
              "         first_name last_name  address_id                         email  store_id  active username                                  password                last_update  \\\n",
              "staff_id                                                                                                                                                                  \n",
              "1              Mike   Hillyer           3  Mike.Hillyer@sakilastaff.com         1    True     Mike  8cb2237d0679ca88db6464eac60da96345513964 2006-05-16 16:13:11.793280   \n",
              "2               Jon  Stephens           4  Jon.Stephens@sakilastaff.com         2    True      Jon  8cb2237d0679ca88db6464eac60da96345513964 2006-05-16 16:13:11.793280   \n",
              "\n",
              "                                                    picture  \n",
              "staff_id                                                     \n",
              "1         [b'\\x89', b'P', b'N', b'G', b'\\r', b'\\n', b'Z'...  \n",
              "2                                                      None  "
            ]
          },
          "execution_count": 8,
          "metadata": {},
          "output_type": "execute_result"
        }
      ],
      "source": [
        "execute_query('SELECT * FROM staff;').set_index('staff_id')"
      ]
    },
    {
      "cell_type": "markdown",
      "metadata": {
        "id": "InlxtGxSuYok"
      },
      "source": [
        "## Adding new rows\n",
        "\n",
        "To add new rows to a table we can use the following syntax:"
      ]
    },
    {
      "cell_type": "code",
      "execution_count": null,
      "metadata": {
        "id": "MF6SFdc6uYok",
        "vscode": {
          "languageId": "sql"
        }
      },
      "outputs": [],
      "source": [
        "INSERT INTO {table_name}\n",
        "    ({column_1}, {column_2}, ....)\n",
        "VALUES\n",
        "    ({column_1 value}, {column_2 value}, ......);"
      ]
    },
    {
      "cell_type": "markdown",
      "metadata": {
        "id": "OSdUK5atuYok"
      },
      "source": [
        "Let's insert a new film category into the `category` table:"
      ]
    },
    {
      "cell_type": "code",
      "execution_count": null,
      "metadata": {
        "id": "YEqxRII5uYok",
        "vscode": {
          "languageId": "sql"
        }
      },
      "outputs": [],
      "source": [
        "INSERT INTO category\n",
        "    (name, last_update)\n",
        "VALUES\n",
        "    ('Thriller', NOW());"
      ]
    },
    {
      "cell_type": "code",
      "execution_count": 11,
      "metadata": {},
      "outputs": [
        {
          "data": {
            "text/html": [
              "<div>\n",
              "<style scoped>\n",
              "    .dataframe tbody tr th:only-of-type {\n",
              "        vertical-align: middle;\n",
              "    }\n",
              "\n",
              "    .dataframe tbody tr th {\n",
              "        vertical-align: top;\n",
              "    }\n",
              "\n",
              "    .dataframe thead th {\n",
              "        text-align: right;\n",
              "    }\n",
              "</style>\n",
              "<table border=\"1\" class=\"dataframe\">\n",
              "  <thead>\n",
              "    <tr style=\"text-align: right;\">\n",
              "      <th></th>\n",
              "      <th>category_id</th>\n",
              "      <th>name</th>\n",
              "      <th>last_update</th>\n",
              "    </tr>\n",
              "  </thead>\n",
              "  <tbody>\n",
              "    <tr>\n",
              "      <th>0</th>\n",
              "      <td>1</td>\n",
              "      <td>Action</td>\n",
              "      <td>2006-02-15 09:46:27</td>\n",
              "    </tr>\n",
              "    <tr>\n",
              "      <th>1</th>\n",
              "      <td>2</td>\n",
              "      <td>Animation</td>\n",
              "      <td>2006-02-15 09:46:27</td>\n",
              "    </tr>\n",
              "    <tr>\n",
              "      <th>2</th>\n",
              "      <td>3</td>\n",
              "      <td>Children</td>\n",
              "      <td>2006-02-15 09:46:27</td>\n",
              "    </tr>\n",
              "    <tr>\n",
              "      <th>3</th>\n",
              "      <td>4</td>\n",
              "      <td>Classics</td>\n",
              "      <td>2006-02-15 09:46:27</td>\n",
              "    </tr>\n",
              "    <tr>\n",
              "      <th>4</th>\n",
              "      <td>5</td>\n",
              "      <td>Comedy</td>\n",
              "      <td>2006-02-15 09:46:27</td>\n",
              "    </tr>\n",
              "    <tr>\n",
              "      <th>5</th>\n",
              "      <td>6</td>\n",
              "      <td>Documentary</td>\n",
              "      <td>2006-02-15 09:46:27</td>\n",
              "    </tr>\n",
              "    <tr>\n",
              "      <th>6</th>\n",
              "      <td>7</td>\n",
              "      <td>Drama</td>\n",
              "      <td>2006-02-15 09:46:27</td>\n",
              "    </tr>\n",
              "    <tr>\n",
              "      <th>7</th>\n",
              "      <td>8</td>\n",
              "      <td>Family</td>\n",
              "      <td>2006-02-15 09:46:27</td>\n",
              "    </tr>\n",
              "    <tr>\n",
              "      <th>8</th>\n",
              "      <td>9</td>\n",
              "      <td>Foreign</td>\n",
              "      <td>2006-02-15 09:46:27</td>\n",
              "    </tr>\n",
              "    <tr>\n",
              "      <th>9</th>\n",
              "      <td>10</td>\n",
              "      <td>Games</td>\n",
              "      <td>2006-02-15 09:46:27</td>\n",
              "    </tr>\n",
              "    <tr>\n",
              "      <th>10</th>\n",
              "      <td>11</td>\n",
              "      <td>Horror</td>\n",
              "      <td>2006-02-15 09:46:27</td>\n",
              "    </tr>\n",
              "    <tr>\n",
              "      <th>11</th>\n",
              "      <td>12</td>\n",
              "      <td>Music</td>\n",
              "      <td>2006-02-15 09:46:27</td>\n",
              "    </tr>\n",
              "    <tr>\n",
              "      <th>12</th>\n",
              "      <td>13</td>\n",
              "      <td>New</td>\n",
              "      <td>2006-02-15 09:46:27</td>\n",
              "    </tr>\n",
              "    <tr>\n",
              "      <th>13</th>\n",
              "      <td>14</td>\n",
              "      <td>Sci-Fi</td>\n",
              "      <td>2006-02-15 09:46:27</td>\n",
              "    </tr>\n",
              "    <tr>\n",
              "      <th>14</th>\n",
              "      <td>15</td>\n",
              "      <td>Sports</td>\n",
              "      <td>2006-02-15 09:46:27</td>\n",
              "    </tr>\n",
              "    <tr>\n",
              "      <th>15</th>\n",
              "      <td>16</td>\n",
              "      <td>Travel</td>\n",
              "      <td>2006-02-15 09:46:27</td>\n",
              "    </tr>\n",
              "  </tbody>\n",
              "</table>\n",
              "</div>"
            ],
            "text/plain": [
              "    category_id         name         last_update\n",
              "0             1       Action 2006-02-15 09:46:27\n",
              "1             2    Animation 2006-02-15 09:46:27\n",
              "2             3     Children 2006-02-15 09:46:27\n",
              "3             4     Classics 2006-02-15 09:46:27\n",
              "4             5       Comedy 2006-02-15 09:46:27\n",
              "5             6  Documentary 2006-02-15 09:46:27\n",
              "6             7        Drama 2006-02-15 09:46:27\n",
              "7             8       Family 2006-02-15 09:46:27\n",
              "8             9      Foreign 2006-02-15 09:46:27\n",
              "9            10        Games 2006-02-15 09:46:27\n",
              "10           11       Horror 2006-02-15 09:46:27\n",
              "11           12        Music 2006-02-15 09:46:27\n",
              "12           13          New 2006-02-15 09:46:27\n",
              "13           14       Sci-Fi 2006-02-15 09:46:27\n",
              "14           15       Sports 2006-02-15 09:46:27\n",
              "15           16       Travel 2006-02-15 09:46:27"
            ]
          },
          "execution_count": 11,
          "metadata": {},
          "output_type": "execute_result"
        }
      ],
      "source": [
        "execute_query('SELECT * FROM category;')"
      ]
    },
    {
      "cell_type": "code",
      "execution_count": 13,
      "metadata": {},
      "outputs": [
        {
          "data": {
            "text/html": [
              "<div>\n",
              "<style scoped>\n",
              "    .dataframe tbody tr th:only-of-type {\n",
              "        vertical-align: middle;\n",
              "    }\n",
              "\n",
              "    .dataframe tbody tr th {\n",
              "        vertical-align: top;\n",
              "    }\n",
              "\n",
              "    .dataframe thead th {\n",
              "        text-align: right;\n",
              "    }\n",
              "</style>\n",
              "<table border=\"1\" class=\"dataframe\">\n",
              "  <thead>\n",
              "    <tr style=\"text-align: right;\">\n",
              "      <th></th>\n",
              "      <th>category_id</th>\n",
              "      <th>name</th>\n",
              "      <th>last_update</th>\n",
              "    </tr>\n",
              "  </thead>\n",
              "  <tbody>\n",
              "    <tr>\n",
              "      <th>12</th>\n",
              "      <td>13</td>\n",
              "      <td>New</td>\n",
              "      <td>2006-02-15 09:46:27.000000</td>\n",
              "    </tr>\n",
              "    <tr>\n",
              "      <th>13</th>\n",
              "      <td>14</td>\n",
              "      <td>Sci-Fi</td>\n",
              "      <td>2006-02-15 09:46:27.000000</td>\n",
              "    </tr>\n",
              "    <tr>\n",
              "      <th>14</th>\n",
              "      <td>15</td>\n",
              "      <td>Sports</td>\n",
              "      <td>2006-02-15 09:46:27.000000</td>\n",
              "    </tr>\n",
              "    <tr>\n",
              "      <th>15</th>\n",
              "      <td>16</td>\n",
              "      <td>Travel</td>\n",
              "      <td>2006-02-15 09:46:27.000000</td>\n",
              "    </tr>\n",
              "    <tr>\n",
              "      <th>16</th>\n",
              "      <td>17</td>\n",
              "      <td>Thriller</td>\n",
              "      <td>2023-11-06 20:11:34.311358</td>\n",
              "    </tr>\n",
              "  </tbody>\n",
              "</table>\n",
              "</div>"
            ],
            "text/plain": [
              "    category_id      name                last_update\n",
              "12           13       New 2006-02-15 09:46:27.000000\n",
              "13           14    Sci-Fi 2006-02-15 09:46:27.000000\n",
              "14           15    Sports 2006-02-15 09:46:27.000000\n",
              "15           16    Travel 2006-02-15 09:46:27.000000\n",
              "16           17  Thriller 2023-11-06 20:11:34.311358"
            ]
          },
          "execution_count": 13,
          "metadata": {},
          "output_type": "execute_result"
        }
      ],
      "source": [
        "execute_query('SELECT * FROM category;').tail()"
      ]
    },
    {
      "cell_type": "markdown",
      "metadata": {
        "id": "W6qTHwDMuYok"
      },
      "source": [
        "Important to note here that the order of `(name, last_update)` only matters when referencing the values to be inserted. In the `VALUES` clause we have input `('Thriller', NOW())` to insert the category `'Thriller'` at the current datetime `NOW()`. Since `name` comes first in the `INSERT INTO` clause `Thriller` will be inserting into the `name` column first and the timestamp `NOW()` inserted into the `last_update` column as it comes second.\n",
        "\n",
        "This order doesn't need to reflect the ordering of the table. It just needs to be ordered in the correct way in the `INSERT INTO` and `VALUES` clauses, better seen with an example:"
      ]
    },
    {
      "cell_type": "code",
      "execution_count": null,
      "metadata": {
        "id": "6S1LD5N8uYok",
        "vscode": {
          "languageId": "sql"
        }
      },
      "outputs": [],
      "source": [
        "INSERT INTO category\n",
        "    (last_update, name)\n",
        "VALUES\n",
        "    (NOW(), 'Thriller');"
      ]
    },
    {
      "cell_type": "code",
      "execution_count": 18,
      "metadata": {},
      "outputs": [
        {
          "data": {
            "text/html": [
              "<div>\n",
              "<style scoped>\n",
              "    .dataframe tbody tr th:only-of-type {\n",
              "        vertical-align: middle;\n",
              "    }\n",
              "\n",
              "    .dataframe tbody tr th {\n",
              "        vertical-align: top;\n",
              "    }\n",
              "\n",
              "    .dataframe thead th {\n",
              "        text-align: right;\n",
              "    }\n",
              "</style>\n",
              "<table border=\"1\" class=\"dataframe\">\n",
              "  <thead>\n",
              "    <tr style=\"text-align: right;\">\n",
              "      <th></th>\n",
              "      <th>category_id</th>\n",
              "      <th>name</th>\n",
              "      <th>last_update</th>\n",
              "    </tr>\n",
              "  </thead>\n",
              "  <tbody>\n",
              "    <tr>\n",
              "      <th>15</th>\n",
              "      <td>16</td>\n",
              "      <td>Travel</td>\n",
              "      <td>2006-02-15 09:46:27.000000</td>\n",
              "    </tr>\n",
              "    <tr>\n",
              "      <th>16</th>\n",
              "      <td>17</td>\n",
              "      <td>Thriller</td>\n",
              "      <td>2023-11-06 20:11:34.311358</td>\n",
              "    </tr>\n",
              "    <tr>\n",
              "      <th>17</th>\n",
              "      <td>18</td>\n",
              "      <td>Thriller</td>\n",
              "      <td>2023-11-06 20:13:48.205653</td>\n",
              "    </tr>\n",
              "  </tbody>\n",
              "</table>\n",
              "</div>"
            ],
            "text/plain": [
              "    category_id      name                last_update\n",
              "15           16    Travel 2006-02-15 09:46:27.000000\n",
              "16           17  Thriller 2023-11-06 20:11:34.311358\n",
              "17           18  Thriller 2023-11-06 20:13:48.205653"
            ]
          },
          "execution_count": 18,
          "metadata": {},
          "output_type": "execute_result"
        }
      ],
      "source": [
        "execute_query('SELECT * FROM category;').tail(3)"
      ]
    },
    {
      "cell_type": "markdown",
      "metadata": {
        "id": "bCY6ShKWuYok"
      },
      "source": [
        "This would insert the same data, the positions of the arguments only matter in the statement itself. We also didn't include the column `id` since SQL will auto generate the `id` on table insertion.\n",
        "\n",
        "<h4 style=\"color: rgb(241, 90, 36)\">Inserting rows with SELECT</h4>\n",
        "\n",
        "SQL also gives you the ability to insert rows into tables using the `SELECT` statement. The syntax is a little different from inserting rows using the `VALUES` clause. Rows can be inserted with the `SELECT` statement using the syntax:\n"
      ]
    },
    {
      "cell_type": "code",
      "execution_count": null,
      "metadata": {
        "id": "Z9xbloN_uYok",
        "vscode": {
          "languageId": "sql"
        }
      },
      "outputs": [],
      "source": [
        "INSERT INTO {table_name}\n",
        "    ({column_1}, {column_2}, ....)\n",
        "(SELECT query);"
      ]
    },
    {
      "cell_type": "markdown",
      "metadata": {
        "id": "Xo1rRePwuYok"
      },
      "source": [
        "Let's create a small table in the database which will contain films starting with the letter B and a few details about the films. We will use the `film` table to get the data to insert using a `SELECT` statement:"
      ]
    },
    {
      "cell_type": "code",
      "execution_count": null,
      "metadata": {
        "id": "7GTlfRSeuYok",
        "vscode": {
          "languageId": "sql"
        }
      },
      "outputs": [],
      "source": [
        "CREATE TABLE b_films (\n",
        "    title VARCHAR(300) UNIQUE NOT NULL,\n",
        "    description TEXT NOT NULL,\n",
        "    release_year INT NOT NULL,\n",
        "    rating CHAR(5) NOT NULL\n",
        ");"
      ]
    },
    {
      "cell_type": "code",
      "execution_count": 19,
      "metadata": {},
      "outputs": [
        {
          "data": {
            "text/html": [
              "<div>\n",
              "<style scoped>\n",
              "    .dataframe tbody tr th:only-of-type {\n",
              "        vertical-align: middle;\n",
              "    }\n",
              "\n",
              "    .dataframe tbody tr th {\n",
              "        vertical-align: top;\n",
              "    }\n",
              "\n",
              "    .dataframe thead th {\n",
              "        text-align: right;\n",
              "    }\n",
              "</style>\n",
              "<table border=\"1\" class=\"dataframe\">\n",
              "  <thead>\n",
              "    <tr style=\"text-align: right;\">\n",
              "      <th></th>\n",
              "      <th>title</th>\n",
              "      <th>description</th>\n",
              "      <th>release_year</th>\n",
              "      <th>rating</th>\n",
              "    </tr>\n",
              "  </thead>\n",
              "  <tbody>\n",
              "  </tbody>\n",
              "</table>\n",
              "</div>"
            ],
            "text/plain": [
              "Empty DataFrame\n",
              "Columns: [title, description, release_year, rating]\n",
              "Index: []"
            ]
          },
          "execution_count": 19,
          "metadata": {},
          "output_type": "execute_result"
        }
      ],
      "source": [
        "execute_query('SELECT * FROM b_films;')"
      ]
    },
    {
      "cell_type": "markdown",
      "metadata": {
        "id": "MPaTbZk9uYok"
      },
      "source": [
        "Now we can insert the data using `SELECT`. When selecting the data we need to select the same number of columns we want to insert and of the correct data type to insert or SQL will cause an error."
      ]
    },
    {
      "cell_type": "code",
      "execution_count": null,
      "metadata": {
        "id": "DW7i8o0duYol",
        "vscode": {
          "languageId": "sql"
        }
      },
      "outputs": [],
      "source": [
        "INSERT INTO B_films(title, description, release_year, rating)\n",
        "\n",
        "SELECT title,\n",
        "        description,\n",
        "        release_year,\n",
        "        rating\n",
        "    FROM\n",
        "        film\n",
        "    WHERE\n",
        "        title LIKE 'B%';"
      ]
    },
    {
      "cell_type": "code",
      "execution_count": 23,
      "metadata": {},
      "outputs": [
        {
          "data": {
            "text/html": [
              "<div>\n",
              "<style scoped>\n",
              "    .dataframe tbody tr th:only-of-type {\n",
              "        vertical-align: middle;\n",
              "    }\n",
              "\n",
              "    .dataframe tbody tr th {\n",
              "        vertical-align: top;\n",
              "    }\n",
              "\n",
              "    .dataframe thead th {\n",
              "        text-align: right;\n",
              "    }\n",
              "</style>\n",
              "<table border=\"1\" class=\"dataframe\">\n",
              "  <thead>\n",
              "    <tr style=\"text-align: right;\">\n",
              "      <th></th>\n",
              "      <th>title</th>\n",
              "      <th>description</th>\n",
              "      <th>release_year</th>\n",
              "      <th>rating</th>\n",
              "    </tr>\n",
              "  </thead>\n",
              "  <tbody>\n",
              "    <tr>\n",
              "      <th>0</th>\n",
              "      <td>BABY HALL</td>\n",
              "      <td>A Boring Character Study of a A Shark And a Gi...</td>\n",
              "      <td>2006</td>\n",
              "      <td>NC-17</td>\n",
              "    </tr>\n",
              "    <tr>\n",
              "      <th>1</th>\n",
              "      <td>BACKLASH UNDEFEATED</td>\n",
              "      <td>A Stunning Character Study of a Mad Scientist ...</td>\n",
              "      <td>2006</td>\n",
              "      <td>PG-13</td>\n",
              "    </tr>\n",
              "    <tr>\n",
              "      <th>2</th>\n",
              "      <td>BADMAN DAWN</td>\n",
              "      <td>A Emotional Panorama of a Pioneer And a Compos...</td>\n",
              "      <td>2006</td>\n",
              "      <td>R</td>\n",
              "    </tr>\n",
              "    <tr>\n",
              "      <th>3</th>\n",
              "      <td>BAKED CLEOPATRA</td>\n",
              "      <td>A Stunning Drama of a Forensic Psychologist An...</td>\n",
              "      <td>2006</td>\n",
              "      <td>G</td>\n",
              "    </tr>\n",
              "    <tr>\n",
              "      <th>4</th>\n",
              "      <td>BALLOON HOMEWARD</td>\n",
              "      <td>A Insightful Panorama of a Forensic Psychologi...</td>\n",
              "      <td>2006</td>\n",
              "      <td>NC-17</td>\n",
              "    </tr>\n",
              "    <tr>\n",
              "      <th>...</th>\n",
              "      <td>...</td>\n",
              "      <td>...</td>\n",
              "      <td>...</td>\n",
              "      <td>...</td>\n",
              "    </tr>\n",
              "    <tr>\n",
              "      <th>58</th>\n",
              "      <td>BULL SHAWSHANK</td>\n",
              "      <td>A Fanciful Drama of a Moose And a Squirrel who...</td>\n",
              "      <td>2006</td>\n",
              "      <td>NC-17</td>\n",
              "    </tr>\n",
              "    <tr>\n",
              "      <th>59</th>\n",
              "      <td>BULWORTH COMMANDMENTS</td>\n",
              "      <td>A Amazing Display of a Mad Cow And a Pioneer w...</td>\n",
              "      <td>2006</td>\n",
              "      <td>G</td>\n",
              "    </tr>\n",
              "    <tr>\n",
              "      <th>60</th>\n",
              "      <td>BUNCH MINDS</td>\n",
              "      <td>A Emotional Story of a Feminist And a Feminist...</td>\n",
              "      <td>2006</td>\n",
              "      <td>G</td>\n",
              "    </tr>\n",
              "    <tr>\n",
              "      <th>61</th>\n",
              "      <td>BUTCH PANTHER</td>\n",
              "      <td>A Lacklusture Yarn of a Feminist And a Databas...</td>\n",
              "      <td>2006</td>\n",
              "      <td>PG-13</td>\n",
              "    </tr>\n",
              "    <tr>\n",
              "      <th>62</th>\n",
              "      <td>BUTTERFLY CHOCOLAT</td>\n",
              "      <td>A Fateful Story of a Girl And a Composer who m...</td>\n",
              "      <td>2006</td>\n",
              "      <td>G</td>\n",
              "    </tr>\n",
              "  </tbody>\n",
              "</table>\n",
              "<p>63 rows × 4 columns</p>\n",
              "</div>"
            ],
            "text/plain": [
              "                    title                                        description  release_year rating\n",
              "0               BABY HALL  A Boring Character Study of a A Shark And a Gi...          2006  NC-17\n",
              "1     BACKLASH UNDEFEATED  A Stunning Character Study of a Mad Scientist ...          2006  PG-13\n",
              "2             BADMAN DAWN  A Emotional Panorama of a Pioneer And a Compos...          2006  R    \n",
              "3         BAKED CLEOPATRA  A Stunning Drama of a Forensic Psychologist An...          2006  G    \n",
              "4        BALLOON HOMEWARD  A Insightful Panorama of a Forensic Psychologi...          2006  NC-17\n",
              "..                    ...                                                ...           ...    ...\n",
              "58         BULL SHAWSHANK  A Fanciful Drama of a Moose And a Squirrel who...          2006  NC-17\n",
              "59  BULWORTH COMMANDMENTS  A Amazing Display of a Mad Cow And a Pioneer w...          2006  G    \n",
              "60            BUNCH MINDS  A Emotional Story of a Feminist And a Feminist...          2006  G    \n",
              "61          BUTCH PANTHER  A Lacklusture Yarn of a Feminist And a Databas...          2006  PG-13\n",
              "62     BUTTERFLY CHOCOLAT  A Fateful Story of a Girl And a Composer who m...          2006  G    \n",
              "\n",
              "[63 rows x 4 columns]"
            ]
          },
          "execution_count": 23,
          "metadata": {},
          "output_type": "execute_result"
        }
      ],
      "source": [
        "execute_query(\"SELECT * FROM B_films;\")"
      ]
    },
    {
      "cell_type": "markdown",
      "metadata": {
        "id": "NmfZ3saMuYol"
      },
      "source": [
        "This fills the `b_films` table with all films starting with the letter B. You can add as much complexity to the `SELECT` query as you want, allowing you to quickly insert data into a new table from other tables."
      ]
    },
    {
      "cell_type": "markdown",
      "metadata": {
        "id": "83gISuGCuYol"
      },
      "source": [
        "<h2 style=\"color: rgb(241, 90, 36)\">Updating data</h2>\n",
        "\n",
        "The `UPDATE` keyword is used to modify data already existing in the database. When combined with the `WHERE` statement you can accurately target rows or data you want to update.\n",
        "\n",
        "The syntax to update rows has the structure:"
      ]
    },
    {
      "cell_type": "code",
      "execution_count": null,
      "metadata": {
        "id": "Ts20NriRuYol",
        "vscode": {
          "languageId": "sql"
        }
      },
      "outputs": [],
      "source": [
        "UPDATE {table_name}\n",
        "SET\n",
        "    {column_1} = {column_value_1}\n",
        "    {column_2} = {column_value_2}\n",
        "    ...\n",
        "WHERE {condition}"
      ]
    },
    {
      "cell_type": "markdown",
      "metadata": {
        "id": "lqtYh8twuYol"
      },
      "source": [
        "We tell SQL which columns we want to change the values of with the `SET` keyword. Which specifies the column to change and the value to change it to. Notice in the structure of the query we can change multiple columns at once.\n",
        "\n",
        "The `WHERE` keyword is then used as a conditional to check for the correct rows to update.\n",
        "\n",
        ">`WHERE` conditions can match multiple rows, so there's the possibility you might update multiple rows by accident when this wasn't intended. This is more likely to happen when using a `LIKE` statement to pattern match the rows. It's preferable to use the explicit `WHERE column = '<value>'` statements to ensure targeting of the correct information.\n",
        "\n",
        ">To avoid this, a careful way to do the update is, first use a `SELECT` and `WHERE` condition to find the rows you will use in the update. If the return rows are the rows you want to update then you can use that condition in the `UPDATE` statement.  \n",
        "\n",
        "Let's take a look at an an example of applying an `UPDATE`, we'll first `SELECT` the rows to make sure we're targeting the correct rows then update. Let's look at the example of what can go wrong when using a `LIKE` statement. We'll try and update the row with `title = AIRPLANE SIERRA` in the `film` table. Using `LIKE` to find films starting with `AIR`:"
      ]
    },
    {
      "cell_type": "code",
      "execution_count": null,
      "metadata": {
        "id": "b4BuQGxPuYoo",
        "vscode": {
          "languageId": "sql"
        }
      },
      "outputs": [],
      "source": [
        "SELECT title\n",
        "FROM film\n",
        "WHERE title LIKE 'AIR%';"
      ]
    },
    {
      "cell_type": "code",
      "execution_count": 32,
      "metadata": {},
      "outputs": [
        {
          "data": {
            "text/html": [
              "<div>\n",
              "<style scoped>\n",
              "    .dataframe tbody tr th:only-of-type {\n",
              "        vertical-align: middle;\n",
              "    }\n",
              "\n",
              "    .dataframe tbody tr th {\n",
              "        vertical-align: top;\n",
              "    }\n",
              "\n",
              "    .dataframe thead th {\n",
              "        text-align: right;\n",
              "    }\n",
              "</style>\n",
              "<table border=\"1\" class=\"dataframe\">\n",
              "  <thead>\n",
              "    <tr style=\"text-align: right;\">\n",
              "      <th></th>\n",
              "      <th>title</th>\n",
              "    </tr>\n",
              "  </thead>\n",
              "  <tbody>\n",
              "    <tr>\n",
              "      <th>0</th>\n",
              "      <td>AIRPLANE SIERRA</td>\n",
              "    </tr>\n",
              "    <tr>\n",
              "      <th>1</th>\n",
              "      <td>AIRPORT POLLOCK</td>\n",
              "    </tr>\n",
              "  </tbody>\n",
              "</table>\n",
              "</div>"
            ],
            "text/plain": [
              "             title\n",
              "0  AIRPLANE SIERRA\n",
              "1  AIRPORT POLLOCK"
            ]
          },
          "execution_count": 32,
          "metadata": {},
          "output_type": "execute_result"
        }
      ],
      "source": [
        "execute_query('''\n",
        "                SELECT title\n",
        "                FROM   film\n",
        "                WHERE  title LIKE 'AIR%%';\n",
        "            ''')"
      ]
    },
    {
      "cell_type": "markdown",
      "metadata": {
        "id": "KTWl6wWguYoo"
      },
      "source": [
        "This query actually returned two films `AIRPLANE SIERRA` and `AIRPORT POLLOCK`, let's be more specific to avoid updating with incorrect information."
      ]
    },
    {
      "cell_type": "code",
      "execution_count": null,
      "metadata": {
        "id": "t4oW55dPuYoo",
        "vscode": {
          "languageId": "sql"
        }
      },
      "outputs": [],
      "source": [
        "SELECT title\n",
        "FROM film\n",
        "WHERE title = 'AIRPLANE SIERRA';"
      ]
    },
    {
      "cell_type": "code",
      "execution_count": 33,
      "metadata": {},
      "outputs": [
        {
          "data": {
            "text/html": [
              "<div>\n",
              "<style scoped>\n",
              "    .dataframe tbody tr th:only-of-type {\n",
              "        vertical-align: middle;\n",
              "    }\n",
              "\n",
              "    .dataframe tbody tr th {\n",
              "        vertical-align: top;\n",
              "    }\n",
              "\n",
              "    .dataframe thead th {\n",
              "        text-align: right;\n",
              "    }\n",
              "</style>\n",
              "<table border=\"1\" class=\"dataframe\">\n",
              "  <thead>\n",
              "    <tr style=\"text-align: right;\">\n",
              "      <th></th>\n",
              "      <th>title</th>\n",
              "      <th>rental_rate</th>\n",
              "      <th>release_year</th>\n",
              "    </tr>\n",
              "  </thead>\n",
              "  <tbody>\n",
              "    <tr>\n",
              "      <th>0</th>\n",
              "      <td>AIRPLANE SIERRA</td>\n",
              "      <td>4.99</td>\n",
              "      <td>2006</td>\n",
              "    </tr>\n",
              "  </tbody>\n",
              "</table>\n",
              "</div>"
            ],
            "text/plain": [
              "             title  rental_rate  release_year\n",
              "0  AIRPLANE SIERRA         4.99          2006"
            ]
          },
          "execution_count": 33,
          "metadata": {},
          "output_type": "execute_result"
        }
      ],
      "source": [
        "execute_query('''\n",
        "                SELECT title, rental_rate, release_year\n",
        "                FROM   film\n",
        "                WHERE  title = 'AIRPLANE SIERRA';\n",
        "            ''')"
      ]
    },
    {
      "cell_type": "markdown",
      "metadata": {
        "id": "wuk97dGJuYoo"
      },
      "source": [
        "Perfect, we got an exact match, so we can use this in our `UPDATE` statement. Let's use the condition to update the `rental_rate` and the `release_year` columns. There was an error with the original data, the release year it was actually `2008` and the price has dropped to `2.99`."
      ]
    },
    {
      "cell_type": "code",
      "execution_count": null,
      "metadata": {
        "id": "d9m_wJcuuYoo",
        "vscode": {
          "languageId": "sql"
        }
      },
      "outputs": [],
      "source": [
        "UPDATE film\n",
        "    SET rental_rate = 2.99,\n",
        "        release_year = 2010\n",
        "WHERE\n",
        "    title = 'AIRPLANE SIERRA';"
      ]
    },
    {
      "cell_type": "code",
      "execution_count": 35,
      "metadata": {},
      "outputs": [
        {
          "data": {
            "text/html": [
              "<div>\n",
              "<style scoped>\n",
              "    .dataframe tbody tr th:only-of-type {\n",
              "        vertical-align: middle;\n",
              "    }\n",
              "\n",
              "    .dataframe tbody tr th {\n",
              "        vertical-align: top;\n",
              "    }\n",
              "\n",
              "    .dataframe thead th {\n",
              "        text-align: right;\n",
              "    }\n",
              "</style>\n",
              "<table border=\"1\" class=\"dataframe\">\n",
              "  <thead>\n",
              "    <tr style=\"text-align: right;\">\n",
              "      <th></th>\n",
              "      <th>title</th>\n",
              "      <th>rental_rate</th>\n",
              "      <th>release_year</th>\n",
              "    </tr>\n",
              "  </thead>\n",
              "  <tbody>\n",
              "    <tr>\n",
              "      <th>0</th>\n",
              "      <td>AIRPLANE SIERRA</td>\n",
              "      <td>2.99</td>\n",
              "      <td>2010</td>\n",
              "    </tr>\n",
              "  </tbody>\n",
              "</table>\n",
              "</div>"
            ],
            "text/plain": [
              "             title  rental_rate  release_year\n",
              "0  AIRPLANE SIERRA         2.99          2010"
            ]
          },
          "execution_count": 35,
          "metadata": {},
          "output_type": "execute_result"
        }
      ],
      "source": [
        "execute_query('''\n",
        "                SELECT title, rental_rate, release_year\n",
        "                FROM   film\n",
        "                WHERE  title = 'AIRPLANE SIERRA';\n",
        "            ''')"
      ]
    },
    {
      "cell_type": "markdown",
      "metadata": {
        "id": "tTajN5F6uYoo"
      },
      "source": [
        "Since we confirmed that we were selecting the correct data using the `SELECT/WHERE` query, the `UPDATE` has been applied to the desired row.\n",
        "\n",
        "`UPDATE` can also be used if the constraints allow, to clear the values in the rows using `NULL`:\n"
      ]
    },
    {
      "cell_type": "code",
      "execution_count": null,
      "metadata": {
        "id": "KjVDib2QuYoo",
        "vscode": {
          "languageId": "sql"
        }
      },
      "outputs": [],
      "source": [
        "UPDATE film\n",
        "    SET rental_rate = NULL,\n",
        "        release_year = NULL\n",
        "WHERE\n",
        "    title = 'AIRPLANE SIERRA';"
      ]
    },
    {
      "cell_type": "markdown",
      "metadata": {},
      "source": [
        "ERRORED OUT\n",
        "\n",
        "null value in column \"rental_rate\" of relation \"film\" violates not-null constraint\n",
        "\n",
        "so no change"
      ]
    },
    {
      "cell_type": "code",
      "execution_count": 36,
      "metadata": {},
      "outputs": [
        {
          "data": {
            "text/html": [
              "<div>\n",
              "<style scoped>\n",
              "    .dataframe tbody tr th:only-of-type {\n",
              "        vertical-align: middle;\n",
              "    }\n",
              "\n",
              "    .dataframe tbody tr th {\n",
              "        vertical-align: top;\n",
              "    }\n",
              "\n",
              "    .dataframe thead th {\n",
              "        text-align: right;\n",
              "    }\n",
              "</style>\n",
              "<table border=\"1\" class=\"dataframe\">\n",
              "  <thead>\n",
              "    <tr style=\"text-align: right;\">\n",
              "      <th></th>\n",
              "      <th>title</th>\n",
              "      <th>rental_rate</th>\n",
              "      <th>release_year</th>\n",
              "    </tr>\n",
              "  </thead>\n",
              "  <tbody>\n",
              "    <tr>\n",
              "      <th>0</th>\n",
              "      <td>AIRPLANE SIERRA</td>\n",
              "      <td>2.99</td>\n",
              "      <td>2010</td>\n",
              "    </tr>\n",
              "  </tbody>\n",
              "</table>\n",
              "</div>"
            ],
            "text/plain": [
              "             title  rental_rate  release_year\n",
              "0  AIRPLANE SIERRA         2.99          2010"
            ]
          },
          "execution_count": 36,
          "metadata": {},
          "output_type": "execute_result"
        }
      ],
      "source": [
        "execute_query('''\n",
        "                SELECT title, rental_rate, release_year\n",
        "                FROM   film\n",
        "                WHERE  title = 'AIRPLANE SIERRA';\n",
        "            ''')"
      ]
    },
    {
      "cell_type": "markdown",
      "metadata": {
        "id": "9Mb3PrMiuYoo"
      },
      "source": [
        "<h2 style=\"color: rgb(241, 90, 36)\">Removing rows</h2>\n",
        "\n",
        "The syntax to delete a row from a table is:"
      ]
    },
    {
      "cell_type": "code",
      "execution_count": null,
      "metadata": {
        "id": "EzarmOq0uYop",
        "vscode": {
          "languageId": "sql"
        }
      },
      "outputs": [],
      "source": [
        "DELETE FROM {table_name}\n",
        "WHERE {condition};"
      ]
    },
    {
      "cell_type": "markdown",
      "metadata": {
        "id": "nsqUo5-5uYop"
      },
      "source": [
        "Remember you might want to verify you're going to delete the correct rows by first performing a `SELECT` statement before running a `DELETE` statement. In this case we will delete all rows in the `actor` table where the actors `first_name` is `Ben`. Since this query is so specific we can be sure we get the result we want and may not require the `SELECT` first. If you're ever unsure remember to use the `SELECT` first before the `DELETE`."
      ]
    },
    {
      "cell_type": "code",
      "execution_count": null,
      "metadata": {
        "id": "ucBcptROuYop",
        "vscode": {
          "languageId": "sql"
        }
      },
      "outputs": [],
      "source": [
        "DELETE FROM actor\n",
        "WHERE first_name = 'Ben';"
      ]
    },
    {
      "cell_type": "code",
      "execution_count": 40,
      "metadata": {},
      "outputs": [
        {
          "data": {
            "text/html": [
              "<div>\n",
              "<style scoped>\n",
              "    .dataframe tbody tr th:only-of-type {\n",
              "        vertical-align: middle;\n",
              "    }\n",
              "\n",
              "    .dataframe tbody tr th {\n",
              "        vertical-align: top;\n",
              "    }\n",
              "\n",
              "    .dataframe thead th {\n",
              "        text-align: right;\n",
              "    }\n",
              "</style>\n",
              "<table border=\"1\" class=\"dataframe\">\n",
              "  <thead>\n",
              "    <tr style=\"text-align: right;\">\n",
              "      <th></th>\n",
              "      <th>actor_id</th>\n",
              "      <th>first_name</th>\n",
              "      <th>last_name</th>\n",
              "      <th>last_update</th>\n",
              "    </tr>\n",
              "  </thead>\n",
              "  <tbody>\n",
              "  </tbody>\n",
              "</table>\n",
              "</div>"
            ],
            "text/plain": [
              "Empty DataFrame\n",
              "Columns: [actor_id, first_name, last_name, last_update]\n",
              "Index: []"
            ]
          },
          "execution_count": 40,
          "metadata": {},
          "output_type": "execute_result"
        }
      ],
      "source": [
        "execute_query('''\n",
        "                SELECT * FROM actor\n",
        "                WHERE first_name = 'Ben';\n",
        "            ''')"
      ]
    },
    {
      "cell_type": "markdown",
      "metadata": {
        "id": "3ufeAZIquYop"
      },
      "source": [
        "## Key Takeaways\n",
        "\n",
        "- Tables can be altered in almost any fashion: dropping rows, updating column, changing data types etc\n",
        "- `NULL` values in rows can be avoided by setting `DEFAULT` values for rows\n",
        "- Be careful when changing the data in your table. You can use a `SELECT` statement first to check the correct data is being changed\n",
        "- `CONSTRAINT`s can be added after a tables creation which can often be the case when you haven't fully modelled your data yet"
      ]
    }
  ],
  "metadata": {
    "colab": {
      "provenance": []
    },
    "kernelspec": {
      "display_name": "base",
      "language": "python",
      "name": "python3"
    },
    "language_info": {
      "codemirror_mode": {
        "name": "ipython",
        "version": 3
      },
      "file_extension": ".py",
      "mimetype": "text/x-python",
      "name": "python",
      "nbconvert_exporter": "python",
      "pygments_lexer": "ipython3",
      "version": "3.12.0"
    },
    "vscode": {
      "interpreter": {
        "hash": "a2592652612463181e69ac003232387e3e9a99279aa6b168e76f5df16d5110f4"
      }
    }
  },
  "nbformat": 4,
  "nbformat_minor": 0
}

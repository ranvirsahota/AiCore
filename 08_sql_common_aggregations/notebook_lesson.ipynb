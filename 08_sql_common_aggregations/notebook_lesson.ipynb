{
  "cells": [
    {
      "cell_type": "code",
      "execution_count": 1,
      "metadata": {},
      "outputs": [],
      "source": [
        "import sys\n",
        "sys.path.append('/home/ranvir/AiCore')\n",
        "from database_connection import DatabaseConnection\n",
        "db = DatabaseConnection()"
      ]
    },
    {
      "cell_type": "markdown",
      "metadata": {
        "id": "CkXSnVgDChQH"
      },
      "source": [
        "<h1 style=\"color: rgb(241, 90, 36)\"><img src=\"https://github.com/AI-Core/Content-Public/blob/main/Content/units/Data-Handling/3.%20SQL/11.%20SQL%20Common%20Aggregations/images/SQLIcon.png?modified=2233&raw=1\" width=80px height=80px style=\"vertical-align: middle;\"> SQL Common Aggregations</h1>\n",
        "\n",
        "When working in the domain of data, once the data is stored in the database, you might need to gather insight from it. What use is there in gathering data if we can't apply some analysis to draw key insights from it? This can be done with the use of SQL *aggregation functions*. **Aggregation functions** perform calculations on a set of values to return a single value.\n",
        "\n",
        "Here are the most commonly used **aggregation functions**:\n",
        "\n",
        "- <b style=\"color: rgb(241, 90, 36)\">COUNT</b> : To count how many rows are in a particular column\n",
        "- <b style=\"color: rgb(241, 90, 36)\">SUM</b> : To `SUM` all rows in a particular column\n",
        "- <b style=\"color: rgb(241, 90, 36)\">MIN/MAX</b> : To get the **maximum** or **minimum** values in a column\n",
        "- <b style=\"color: rgb(241, 90, 36)\">AVG</b> : To return the **average** value in a column\n",
        "\n",
        "These are the most commonly used aggregation function in PostgreSQL, though there are many more. If you would like to find out what's possible all other functions can be seen at this [link.](https://www.postgresql.org/docs/9.5/functions-aggregate.html)\n",
        "\n",
        "## `COUNT`\n",
        "\n",
        "`COUNT` allows you to count the number of **non-NULL** values in a column, the syntax is:\n"
      ]
    },
    {
      "cell_type": "code",
      "execution_count": null,
      "metadata": {
        "id": "0iy5Tym0ChQI",
        "vscode": {
          "languageId": "sql"
        }
      },
      "outputs": [],
      "source": [
        "COUNT({column name});"
      ]
    },
    {
      "cell_type": "markdown",
      "metadata": {
        "id": "hZ18dbxyChQI"
      },
      "source": [
        "We can apply the `COUNT` to any column in our `SELECT` statement:"
      ]
    },
    {
      "cell_type": "code",
      "execution_count": 2,
      "metadata": {
        "id": "XWF3FgK2ChQI"
      },
      "outputs": [
        {
          "data": {
            "text/html": [
              "<div>\n",
              "<style scoped>\n",
              "    .dataframe tbody tr th:only-of-type {\n",
              "        vertical-align: middle;\n",
              "    }\n",
              "\n",
              "    .dataframe tbody tr th {\n",
              "        vertical-align: top;\n",
              "    }\n",
              "\n",
              "    .dataframe thead th {\n",
              "        text-align: right;\n",
              "    }\n",
              "</style>\n",
              "<table border=\"1\" class=\"dataframe\">\n",
              "  <thead>\n",
              "    <tr style=\"text-align: right;\">\n",
              "      <th></th>\n",
              "      <th>count</th>\n",
              "    </tr>\n",
              "  </thead>\n",
              "  <tbody>\n",
              "    <tr>\n",
              "      <th>0</th>\n",
              "      <td>603</td>\n",
              "    </tr>\n",
              "  </tbody>\n",
              "</table>\n",
              "</div>"
            ],
            "text/plain": [
              "   count\n",
              "0    603"
            ]
          },
          "execution_count": 2,
          "metadata": {},
          "output_type": "execute_result"
        }
      ],
      "source": [
        "db.execute_query('''\n",
        "                    SELECT COUNT(address)\n",
        "                    FROM address;\n",
        "                ''')"
      ]
    },
    {
      "cell_type": "markdown",
      "metadata": {
        "id": "0sjdce_3ChQJ"
      },
      "source": [
        "Which returns a value of `603`. Remember that `COUNT` doesn't count `NULL` values so applying it to the `address2` column we get a different answer:"
      ]
    },
    {
      "cell_type": "code",
      "execution_count": 4,
      "metadata": {
        "id": "SLTUEDq3ChQJ"
      },
      "outputs": [
        {
          "data": {
            "text/html": [
              "<div>\n",
              "<style scoped>\n",
              "    .dataframe tbody tr th:only-of-type {\n",
              "        vertical-align: middle;\n",
              "    }\n",
              "\n",
              "    .dataframe tbody tr th {\n",
              "        vertical-align: top;\n",
              "    }\n",
              "\n",
              "    .dataframe thead th {\n",
              "        text-align: right;\n",
              "    }\n",
              "</style>\n",
              "<table border=\"1\" class=\"dataframe\">\n",
              "  <thead>\n",
              "    <tr style=\"text-align: right;\">\n",
              "      <th></th>\n",
              "      <th>count</th>\n",
              "    </tr>\n",
              "  </thead>\n",
              "  <tbody>\n",
              "    <tr>\n",
              "      <th>0</th>\n",
              "      <td>599</td>\n",
              "    </tr>\n",
              "  </tbody>\n",
              "</table>\n",
              "</div>"
            ],
            "text/plain": [
              "   count\n",
              "0    599"
            ]
          },
          "execution_count": 4,
          "metadata": {},
          "output_type": "execute_result"
        }
      ],
      "source": [
        "db.execute_query('''\n",
        "                    SELECT COUNT(address2)\n",
        "                    FROM address;\n",
        "                ''')"
      ]
    },
    {
      "cell_type": "markdown",
      "metadata": {
        "id": "FeFneU65ChQJ"
      },
      "source": [
        "Which returns a value of `599`. There are `603` records in the `address` table so we know that the `address2` column has four `NULL` values in it.\n",
        "\n",
        "`total rows - COUNT(address2)` = `4`"
      ]
    },
    {
      "cell_type": "markdown",
      "metadata": {
        "id": "sNqGtVX0ChQJ"
      },
      "source": [
        "## `SUM`\n",
        "\n",
        "`SUM`, sums all the values in a column, it only works on `numerical` data (we can't sum the `address` column for example). If there is a `NULL` value in the column it is ignored. The syntax is:"
      ]
    },
    {
      "cell_type": "code",
      "execution_count": null,
      "metadata": {
        "id": "Q03dD_FPChQJ",
        "vscode": {
          "languageId": "sql"
        }
      },
      "outputs": [],
      "source": [
        "SUM({column name})"
      ]
    },
    {
      "cell_type": "code",
      "execution_count": 5,
      "metadata": {
        "id": "_odjdjptChQJ"
      },
      "outputs": [
        {
          "data": {
            "text/html": [
              "<div>\n",
              "<style scoped>\n",
              "    .dataframe tbody tr th:only-of-type {\n",
              "        vertical-align: middle;\n",
              "    }\n",
              "\n",
              "    .dataframe tbody tr th {\n",
              "        vertical-align: top;\n",
              "    }\n",
              "\n",
              "    .dataframe thead th {\n",
              "        text-align: right;\n",
              "    }\n",
              "</style>\n",
              "<table border=\"1\" class=\"dataframe\">\n",
              "  <thead>\n",
              "    <tr style=\"text-align: right;\">\n",
              "      <th></th>\n",
              "      <th>sum</th>\n",
              "    </tr>\n",
              "  </thead>\n",
              "  <tbody>\n",
              "    <tr>\n",
              "      <th>0</th>\n",
              "      <td>19984.0</td>\n",
              "    </tr>\n",
              "  </tbody>\n",
              "</table>\n",
              "</div>"
            ],
            "text/plain": [
              "       sum\n",
              "0  19984.0"
            ]
          },
          "execution_count": 5,
          "metadata": {},
          "output_type": "execute_result"
        }
      ],
      "source": [
        "db.execute_query('''\n",
        "                    SELECT SUM(replacement_cost)\n",
        "                    FROM film;\n",
        "                ''')"
      ]
    },
    {
      "cell_type": "markdown",
      "metadata": {
        "id": "HUvepRocChQJ"
      },
      "source": [
        "Looks like the replacement value of all stock is 20k interesting to know for a business.\n",
        "\n",
        "## `MIN/MAX`\n",
        "\n",
        "`MIN` returns the **minimum value** in a column and `MAX` returns the **maximum value**. They can be applied to **numerical data**, **array** or **character** columns. Both functions have the syntax:"
      ]
    },
    {
      "cell_type": "code",
      "execution_count": null,
      "metadata": {
        "id": "WxS8nKBuChQJ",
        "vscode": {
          "languageId": "sql"
        }
      },
      "outputs": [],
      "source": [
        "MIN({column name})\n",
        "MAX({column name})"
      ]
    },
    {
      "cell_type": "markdown",
      "metadata": {
        "id": "HrDrILCuChQJ"
      },
      "source": [
        "Let's get the minimum `replacement_cost` and maximum `replacement_cost` of a film in the `film` table:"
      ]
    },
    {
      "cell_type": "code",
      "execution_count": 6,
      "metadata": {
        "id": "ct35Um-pChQK"
      },
      "outputs": [
        {
          "data": {
            "text/html": [
              "<div>\n",
              "<style scoped>\n",
              "    .dataframe tbody tr th:only-of-type {\n",
              "        vertical-align: middle;\n",
              "    }\n",
              "\n",
              "    .dataframe tbody tr th {\n",
              "        vertical-align: top;\n",
              "    }\n",
              "\n",
              "    .dataframe thead th {\n",
              "        text-align: right;\n",
              "    }\n",
              "</style>\n",
              "<table border=\"1\" class=\"dataframe\">\n",
              "  <thead>\n",
              "    <tr style=\"text-align: right;\">\n",
              "      <th></th>\n",
              "      <th>minimum_replacement_cost</th>\n",
              "      <th>maximum_replacement_cost</th>\n",
              "    </tr>\n",
              "  </thead>\n",
              "  <tbody>\n",
              "    <tr>\n",
              "      <th>0</th>\n",
              "      <td>9.99</td>\n",
              "      <td>29.99</td>\n",
              "    </tr>\n",
              "  </tbody>\n",
              "</table>\n",
              "</div>"
            ],
            "text/plain": [
              "   minimum_replacement_cost  maximum_replacement_cost\n",
              "0                      9.99                     29.99"
            ]
          },
          "execution_count": 6,
          "metadata": {},
          "output_type": "execute_result"
        }
      ],
      "source": [
        "db.execute_query('''\n",
        "                    SELECT MIN(replacement_cost) AS minimum_replacement_cost,\n",
        "                        MAX(replacement_cost) AS maximum_replacement_cost\n",
        "                    FROM\n",
        "                        film;\n",
        "                ''')"
      ]
    },
    {
      "cell_type": "markdown",
      "metadata": {
        "id": "q8uMylC3ChQK"
      },
      "source": [
        ">You'll often want to alias your aggregation columns, since by default, the aggregated column will be named by the name of the aggregation. So the intended result of the aggregation won't be clear. For example `SUM(replacement_cost)` creates a column called `sum` .\n",
        "\n",
        "## `AVG`\n",
        "\n",
        "`AVG` returns the average value in a column. It ignores `NULL`'s in both the *numerator* and *denominator* and only works on numerical values:"
      ]
    },
    {
      "cell_type": "code",
      "execution_count": null,
      "metadata": {
        "id": "fyf88Qr-ChQK",
        "vscode": {
          "languageId": "sql"
        }
      },
      "outputs": [],
      "source": [
        "AVG({column name})"
      ]
    },
    {
      "cell_type": "markdown",
      "metadata": {
        "id": "l9-78p-sChQK"
      },
      "source": [
        "Getting the `average_replacement` cost of a film:"
      ]
    },
    {
      "cell_type": "code",
      "execution_count": 9,
      "metadata": {
        "id": "orBwFxciChQK"
      },
      "outputs": [
        {
          "data": {
            "text/html": [
              "<div>\n",
              "<style scoped>\n",
              "    .dataframe tbody tr th:only-of-type {\n",
              "        vertical-align: middle;\n",
              "    }\n",
              "\n",
              "    .dataframe tbody tr th {\n",
              "        vertical-align: top;\n",
              "    }\n",
              "\n",
              "    .dataframe thead th {\n",
              "        text-align: right;\n",
              "    }\n",
              "</style>\n",
              "<table border=\"1\" class=\"dataframe\">\n",
              "  <thead>\n",
              "    <tr style=\"text-align: right;\">\n",
              "      <th></th>\n",
              "      <th>average_replacement_cost</th>\n",
              "    </tr>\n",
              "  </thead>\n",
              "  <tbody>\n",
              "    <tr>\n",
              "      <th>0</th>\n",
              "      <td>19.984</td>\n",
              "    </tr>\n",
              "  </tbody>\n",
              "</table>\n",
              "</div>"
            ],
            "text/plain": [
              "   average_replacement_cost\n",
              "0                    19.984"
            ]
          },
          "execution_count": 9,
          "metadata": {},
          "output_type": "execute_result"
        }
      ],
      "source": [
        "db.execute_query('''\n",
        "                    SELECT AVG(replacement_cost) AS average_replacement_cost\n",
        "                    FROM film;\n",
        "                ''')"
      ]
    },
    {
      "cell_type": "markdown",
      "metadata": {
        "id": "68w_zy2oChQL"
      },
      "source": [
        "<h2 style=\"color: rgb(241, 90, 36)\">Calculations with aggregations</h2>\n",
        "\n",
        "You can also perform *arithmetic operations* with the results of an aggregation to achieve complex analysis of data. This can be done with the standard operators `+ - / * %`.\n",
        "\n",
        "Calculating the range of cost between the **maximum** and **minimum** `replacement_cost`:"
      ]
    },
    {
      "cell_type": "code",
      "execution_count": 11,
      "metadata": {
        "id": "H3SRcsDEChQL"
      },
      "outputs": [
        {
          "data": {
            "text/html": [
              "<div>\n",
              "<style scoped>\n",
              "    .dataframe tbody tr th:only-of-type {\n",
              "        vertical-align: middle;\n",
              "    }\n",
              "\n",
              "    .dataframe tbody tr th {\n",
              "        vertical-align: top;\n",
              "    }\n",
              "\n",
              "    .dataframe thead th {\n",
              "        text-align: right;\n",
              "    }\n",
              "</style>\n",
              "<table border=\"1\" class=\"dataframe\">\n",
              "  <thead>\n",
              "    <tr style=\"text-align: right;\">\n",
              "      <th></th>\n",
              "      <th>replacement_cost_range</th>\n",
              "    </tr>\n",
              "  </thead>\n",
              "  <tbody>\n",
              "    <tr>\n",
              "      <th>0</th>\n",
              "      <td>20.0</td>\n",
              "    </tr>\n",
              "  </tbody>\n",
              "</table>\n",
              "</div>"
            ],
            "text/plain": [
              "   replacement_cost_range\n",
              "0                    20.0"
            ]
          },
          "execution_count": 11,
          "metadata": {},
          "output_type": "execute_result"
        }
      ],
      "source": [
        "db.execute_query('''\n",
        "                    SELECT (MAX(replacement_cost) - MIN(replacement_cost)) AS replacement_cost_range\n",
        "                    FROM film;\n",
        "                ''')"
      ]
    },
    {
      "cell_type": "markdown",
      "metadata": {
        "id": "qAlk-aMBChQL"
      },
      "source": [
        "`MAX` and `MIN` can be performed on dates so we could calculate how long the business has been renting out movies for:"
      ]
    },
    {
      "cell_type": "code",
      "execution_count": 13,
      "metadata": {
        "id": "2zsgrykDChQL"
      },
      "outputs": [
        {
          "data": {
            "text/html": [
              "<div>\n",
              "<style scoped>\n",
              "    .dataframe tbody tr th:only-of-type {\n",
              "        vertical-align: middle;\n",
              "    }\n",
              "\n",
              "    .dataframe tbody tr th {\n",
              "        vertical-align: top;\n",
              "    }\n",
              "\n",
              "    .dataframe thead th {\n",
              "        text-align: right;\n",
              "    }\n",
              "</style>\n",
              "<table border=\"1\" class=\"dataframe\">\n",
              "  <thead>\n",
              "    <tr style=\"text-align: right;\">\n",
              "      <th></th>\n",
              "      <th>payment_span</th>\n",
              "    </tr>\n",
              "  </thead>\n",
              "  <tbody>\n",
              "    <tr>\n",
              "      <th>0</th>\n",
              "      <td>109 days 16:22:33</td>\n",
              "    </tr>\n",
              "  </tbody>\n",
              "</table>\n",
              "</div>"
            ],
            "text/plain": [
              "       payment_span\n",
              "0 109 days 16:22:33"
            ]
          },
          "execution_count": 13,
          "metadata": {},
          "output_type": "execute_result"
        }
      ],
      "source": [
        "db.execute_query('''\n",
        "                    SELECT MAX(payment_date)- MIN(payment_date) AS payment_span\n",
        "                    FROM payment;\n",
        "                ''')"
      ]
    },
    {
      "cell_type": "markdown",
      "metadata": {
        "id": "CcPVIOiiChQL"
      },
      "source": [
        "Notice this returns an interval since we're getting the time span between two dates.\n",
        "\n",
        "Let's calculate the average `replacement_cost` as a percentage of total stock `replacement_cost`:"
      ]
    },
    {
      "cell_type": "code",
      "execution_count": 17,
      "metadata": {
        "id": "k46WS92nChQL"
      },
      "outputs": [
        {
          "data": {
            "text/html": [
              "<div>\n",
              "<style scoped>\n",
              "    .dataframe tbody tr th:only-of-type {\n",
              "        vertical-align: middle;\n",
              "    }\n",
              "\n",
              "    .dataframe tbody tr th {\n",
              "        vertical-align: top;\n",
              "    }\n",
              "\n",
              "    .dataframe thead th {\n",
              "        text-align: right;\n",
              "    }\n",
              "</style>\n",
              "<table border=\"1\" class=\"dataframe\">\n",
              "  <thead>\n",
              "    <tr style=\"text-align: right;\">\n",
              "      <th></th>\n",
              "      <th>average_replacement_cost(%)</th>\n",
              "    </tr>\n",
              "  </thead>\n",
              "  <tbody>\n",
              "    <tr>\n",
              "      <th>0</th>\n",
              "      <td>0.1</td>\n",
              "    </tr>\n",
              "  </tbody>\n",
              "</table>\n",
              "</div>"
            ],
            "text/plain": [
              "   average_replacement_cost(%)\n",
              "0                          0.1"
            ]
          },
          "execution_count": 17,
          "metadata": {},
          "output_type": "execute_result"
        }
      ],
      "source": [
        "# Double percentage for sql_alchemy\n",
        "db.execute_query('''\n",
        "                    SELECT (AVG(replacement_cost) / SUM(replacement_cost)) * 100 AS \"average_replacement_cost(%%)\"\n",
        "                    FROM film;\n",
        "                ''')"
      ]
    },
    {
      "cell_type": "markdown",
      "metadata": {
        "id": "AsuiZN10ChQL"
      },
      "source": [
        "## `DISTINCT`\n",
        "\n",
        "By default SQL will return all rows even duplicate rows. Sometimes you may want to return only the rows where column values are unique. This can be done by applying the keyword `DISTINCT` to a column. The syntax of `DISTINCT` is:\n"
      ]
    },
    {
      "cell_type": "code",
      "execution_count": null,
      "metadata": {
        "id": "vcPY3HadChQL",
        "vscode": {
          "languageId": "sql"
        }
      },
      "outputs": [],
      "source": [
        "DISTINCT {column1, column2, column3 ....}"
      ]
    },
    {
      "cell_type": "markdown",
      "metadata": {
        "id": "6eRX4ORrChQL"
      },
      "source": [
        "Any column specified after the `DISTINCT` keyword will return only unique values from that column. This can be a great way to check a column to understand all the values the column contains. Imagine we want to check what the different types of ratings a movie could have, we could run the query:"
      ]
    },
    {
      "cell_type": "code",
      "execution_count": 18,
      "metadata": {
        "id": "LdkFLDzbChQL"
      },
      "outputs": [
        {
          "data": {
            "text/html": [
              "<div>\n",
              "<style scoped>\n",
              "    .dataframe tbody tr th:only-of-type {\n",
              "        vertical-align: middle;\n",
              "    }\n",
              "\n",
              "    .dataframe tbody tr th {\n",
              "        vertical-align: top;\n",
              "    }\n",
              "\n",
              "    .dataframe thead th {\n",
              "        text-align: right;\n",
              "    }\n",
              "</style>\n",
              "<table border=\"1\" class=\"dataframe\">\n",
              "  <thead>\n",
              "    <tr style=\"text-align: right;\">\n",
              "      <th></th>\n",
              "      <th>rating</th>\n",
              "    </tr>\n",
              "  </thead>\n",
              "  <tbody>\n",
              "    <tr>\n",
              "      <th>0</th>\n",
              "      <td>PG-13</td>\n",
              "    </tr>\n",
              "    <tr>\n",
              "      <th>1</th>\n",
              "      <td>NC-17</td>\n",
              "    </tr>\n",
              "    <tr>\n",
              "      <th>2</th>\n",
              "      <td>G</td>\n",
              "    </tr>\n",
              "    <tr>\n",
              "      <th>3</th>\n",
              "      <td>PG</td>\n",
              "    </tr>\n",
              "    <tr>\n",
              "      <th>4</th>\n",
              "      <td>R</td>\n",
              "    </tr>\n",
              "  </tbody>\n",
              "</table>\n",
              "</div>"
            ],
            "text/plain": [
              "  rating\n",
              "0  PG-13\n",
              "1  NC-17\n",
              "2      G\n",
              "3     PG\n",
              "4      R"
            ]
          },
          "execution_count": 18,
          "metadata": {},
          "output_type": "execute_result"
        }
      ],
      "source": [
        "db.execute_query('''\n",
        "                    SELECT DISTINCT rating\n",
        "                    FROM film;\n",
        "                ''')"
      ]
    },
    {
      "cell_type": "markdown",
      "metadata": {
        "id": "e_HN_xOQChQM"
      },
      "source": [
        "Returning all the possible ratings a film could have. If we wanted to check for each of those ratings what are all the possible `rental_rate`'s, we could add the `rental_rate` column to your distinct query. Returning distinct values which are a combination of `rating` and `rental_rate`:"
      ]
    },
    {
      "cell_type": "code",
      "execution_count": 25,
      "metadata": {},
      "outputs": [
        {
          "data": {
            "text/html": [
              "<div>\n",
              "<style scoped>\n",
              "    .dataframe tbody tr th:only-of-type {\n",
              "        vertical-align: middle;\n",
              "    }\n",
              "\n",
              "    .dataframe tbody tr th {\n",
              "        vertical-align: top;\n",
              "    }\n",
              "\n",
              "    .dataframe thead th {\n",
              "        text-align: right;\n",
              "    }\n",
              "</style>\n",
              "<table border=\"1\" class=\"dataframe\">\n",
              "  <thead>\n",
              "    <tr style=\"text-align: right;\">\n",
              "      <th></th>\n",
              "      <th>rating</th>\n",
              "      <th>rental_rate</th>\n",
              "    </tr>\n",
              "  </thead>\n",
              "  <tbody>\n",
              "    <tr>\n",
              "      <th>0</th>\n",
              "      <td>G</td>\n",
              "      <td>0.99</td>\n",
              "    </tr>\n",
              "    <tr>\n",
              "      <th>1</th>\n",
              "      <td>G</td>\n",
              "      <td>4.99</td>\n",
              "    </tr>\n",
              "    <tr>\n",
              "      <th>2</th>\n",
              "      <td>G</td>\n",
              "      <td>2.99</td>\n",
              "    </tr>\n",
              "    <tr>\n",
              "      <th>3</th>\n",
              "      <td>PG</td>\n",
              "      <td>2.99</td>\n",
              "    </tr>\n",
              "    <tr>\n",
              "      <th>4</th>\n",
              "      <td>PG</td>\n",
              "      <td>4.99</td>\n",
              "    </tr>\n",
              "    <tr>\n",
              "      <th>5</th>\n",
              "      <td>PG</td>\n",
              "      <td>0.99</td>\n",
              "    </tr>\n",
              "    <tr>\n",
              "      <th>6</th>\n",
              "      <td>PG-13</td>\n",
              "      <td>4.99</td>\n",
              "    </tr>\n",
              "    <tr>\n",
              "      <th>7</th>\n",
              "      <td>PG-13</td>\n",
              "      <td>2.99</td>\n",
              "    </tr>\n",
              "    <tr>\n",
              "      <th>8</th>\n",
              "      <td>PG-13</td>\n",
              "      <td>0.99</td>\n",
              "    </tr>\n",
              "    <tr>\n",
              "      <th>9</th>\n",
              "      <td>R</td>\n",
              "      <td>0.99</td>\n",
              "    </tr>\n",
              "    <tr>\n",
              "      <th>10</th>\n",
              "      <td>R</td>\n",
              "      <td>4.99</td>\n",
              "    </tr>\n",
              "    <tr>\n",
              "      <th>11</th>\n",
              "      <td>R</td>\n",
              "      <td>2.99</td>\n",
              "    </tr>\n",
              "    <tr>\n",
              "      <th>12</th>\n",
              "      <td>NC-17</td>\n",
              "      <td>4.99</td>\n",
              "    </tr>\n",
              "    <tr>\n",
              "      <th>13</th>\n",
              "      <td>NC-17</td>\n",
              "      <td>0.99</td>\n",
              "    </tr>\n",
              "    <tr>\n",
              "      <th>14</th>\n",
              "      <td>NC-17</td>\n",
              "      <td>2.99</td>\n",
              "    </tr>\n",
              "  </tbody>\n",
              "</table>\n",
              "</div>"
            ],
            "text/plain": [
              "   rating  rental_rate\n",
              "0       G         0.99\n",
              "1       G         4.99\n",
              "2       G         2.99\n",
              "3      PG         2.99\n",
              "4      PG         4.99\n",
              "5      PG         0.99\n",
              "6   PG-13         4.99\n",
              "7   PG-13         2.99\n",
              "8   PG-13         0.99\n",
              "9       R         0.99\n",
              "10      R         4.99\n",
              "11      R         2.99\n",
              "12  NC-17         4.99\n",
              "13  NC-17         0.99\n",
              "14  NC-17         2.99"
            ]
          },
          "execution_count": 25,
          "metadata": {},
          "output_type": "execute_result"
        }
      ],
      "source": [
        "db.execute_query('''\n",
        "                    SELECT \n",
        "                        DISTINCT rating,\n",
        "                        rental_rate\n",
        "                    FROM \n",
        "                        film\n",
        "                    ORDER BY\n",
        "                        rating;\n",
        "                ''')"
      ]
    },
    {
      "cell_type": "markdown",
      "metadata": {
        "id": "SdvxBa_eChQM"
      },
      "source": [
        "This can be a great way to quickly summarise the data in columns when performing initial data analysis. `DISTINCT` can also be used in conjugation with aggregations like `COUNT`. Which would return a count of unique values in a column:\n"
      ]
    },
    {
      "cell_type": "code",
      "execution_count": 26,
      "metadata": {
        "id": "amNv_n2aChQM"
      },
      "outputs": [
        {
          "data": {
            "text/html": [
              "<div>\n",
              "<style scoped>\n",
              "    .dataframe tbody tr th:only-of-type {\n",
              "        vertical-align: middle;\n",
              "    }\n",
              "\n",
              "    .dataframe tbody tr th {\n",
              "        vertical-align: top;\n",
              "    }\n",
              "\n",
              "    .dataframe thead th {\n",
              "        text-align: right;\n",
              "    }\n",
              "</style>\n",
              "<table border=\"1\" class=\"dataframe\">\n",
              "  <thead>\n",
              "    <tr style=\"text-align: right;\">\n",
              "      <th></th>\n",
              "      <th>count</th>\n",
              "      <th>count</th>\n",
              "    </tr>\n",
              "  </thead>\n",
              "  <tbody>\n",
              "    <tr>\n",
              "      <th>0</th>\n",
              "      <td>5</td>\n",
              "      <td>3</td>\n",
              "    </tr>\n",
              "  </tbody>\n",
              "</table>\n",
              "</div>"
            ],
            "text/plain": [
              "   count  count\n",
              "0      5      3"
            ]
          },
          "execution_count": 26,
          "metadata": {},
          "output_type": "execute_result"
        }
      ],
      "source": [
        "\n",
        "db.execute_query('''\n",
        "                    SELECT\n",
        "                        COUNT(DISTINCT(rating)),\n",
        "                        COUNT(DISTINCT(rental_rate))\n",
        "                    FROM\n",
        "                        film;\n",
        "                ''')"
      ]
    },
    {
      "cell_type": "markdown",
      "metadata": {
        "id": "OWH6eLKvChQM"
      },
      "source": [
        "Notice here, we apply `COUNT` individually to each column  so we need to apply `DISTINCT` separately to each column.\n",
        "\n",
        "## `DATE TRUNC`\n",
        "\n",
        "`DATE TRUNC` stands for *date truncate* and can be a very useful function if you want to strip away values in a `timestamp`. This can help when you want to aggregate times together. The syntax is:"
      ]
    },
    {
      "cell_type": "code",
      "execution_count": null,
      "metadata": {
        "id": "i9FuuxfZChQM",
        "vscode": {
          "languageId": "sql"
        }
      },
      "outputs": [],
      "source": [
        "DATE_TRUNC({field}, {column})"
      ]
    },
    {
      "cell_type": "markdown",
      "metadata": {
        "id": "RhqN6CgjChQM"
      },
      "source": [
        "With `DATE_TRUNC` you can remove values from the `timestamp` up to the specified `field` value. The options for the `field` value are:\n",
        "\n",
        "- `microseconds`\n",
        "- `milliseconds`\n",
        "- `second`\n",
        "- `minute`\n",
        "- `hour`\n",
        "- `day`\n",
        "- `week`\n",
        "- `month`\n",
        "- `quarter`\n",
        "- `year`\n",
        "- `decade`\n",
        "- `century`\n",
        "- `millennium`\n",
        "\n",
        "If we specified `DATE_TRUNC('day', {column})` the function would truncate(remove) all values up to the date value in a timestamp.\n",
        "\n",
        "Imagine you want to group together all the days a rental was made by `rental_date`. In the `rental` table the `rental_date` has values such as, `2005-05-24 23:03:39` and `2005-05-24 22:54:33`. Though rentals occurred on the same day, if we try to group the data by these values they won't belong to the same group since the times are different.\n",
        "\n",
        "We can instead truncate the date up to the day value so that the value of these dates will be the same:\n",
        "\n"
      ]
    },
    {
      "cell_type": "code",
      "execution_count": 30,
      "metadata": {
        "id": "yBqYOE5jChQM"
      },
      "outputs": [
        {
          "data": {
            "text/html": [
              "<div>\n",
              "<style scoped>\n",
              "    .dataframe tbody tr th:only-of-type {\n",
              "        vertical-align: middle;\n",
              "    }\n",
              "\n",
              "    .dataframe tbody tr th {\n",
              "        vertical-align: top;\n",
              "    }\n",
              "\n",
              "    .dataframe thead th {\n",
              "        text-align: right;\n",
              "    }\n",
              "</style>\n",
              "<table border=\"1\" class=\"dataframe\">\n",
              "  <thead>\n",
              "    <tr style=\"text-align: right;\">\n",
              "      <th></th>\n",
              "      <th>date_trunc</th>\n",
              "    </tr>\n",
              "  </thead>\n",
              "  <tbody>\n",
              "    <tr>\n",
              "      <th>0</th>\n",
              "      <td>2005-05-24</td>\n",
              "    </tr>\n",
              "    <tr>\n",
              "      <th>1</th>\n",
              "      <td>2005-05-24</td>\n",
              "    </tr>\n",
              "    <tr>\n",
              "      <th>2</th>\n",
              "      <td>2005-05-24</td>\n",
              "    </tr>\n",
              "    <tr>\n",
              "      <th>3</th>\n",
              "      <td>2005-05-24</td>\n",
              "    </tr>\n",
              "    <tr>\n",
              "      <th>4</th>\n",
              "      <td>2005-05-24</td>\n",
              "    </tr>\n",
              "    <tr>\n",
              "      <th>...</th>\n",
              "      <td>...</td>\n",
              "    </tr>\n",
              "    <tr>\n",
              "      <th>16039</th>\n",
              "      <td>2005-08-23</td>\n",
              "    </tr>\n",
              "    <tr>\n",
              "      <th>16040</th>\n",
              "      <td>2005-08-23</td>\n",
              "    </tr>\n",
              "    <tr>\n",
              "      <th>16041</th>\n",
              "      <td>2005-08-23</td>\n",
              "    </tr>\n",
              "    <tr>\n",
              "      <th>16042</th>\n",
              "      <td>2005-08-23</td>\n",
              "    </tr>\n",
              "    <tr>\n",
              "      <th>16043</th>\n",
              "      <td>2005-05-24</td>\n",
              "    </tr>\n",
              "  </tbody>\n",
              "</table>\n",
              "<p>16044 rows × 1 columns</p>\n",
              "</div>"
            ],
            "text/plain": [
              "      date_trunc\n",
              "0     2005-05-24\n",
              "1     2005-05-24\n",
              "2     2005-05-24\n",
              "3     2005-05-24\n",
              "4     2005-05-24\n",
              "...          ...\n",
              "16039 2005-08-23\n",
              "16040 2005-08-23\n",
              "16041 2005-08-23\n",
              "16042 2005-08-23\n",
              "16043 2005-05-24\n",
              "\n",
              "[16044 rows x 1 columns]"
            ]
          },
          "execution_count": 30,
          "metadata": {},
          "output_type": "execute_result"
        }
      ],
      "source": [
        "db.execute_query('''\n",
        "                    SELECT DATE_TRUNC('day', rental_date)\n",
        "                    FROM rental;\n",
        "                ''')"
      ]
    },
    {
      "cell_type": "markdown",
      "metadata": {
        "id": "vM8z54CKChQM"
      },
      "source": [
        "After running this query you can see the values `2005-05-24 23:03:39` and `2005-05-24 22:54:33` have both been stripped of their time values, so both have the value `2005-05-24 00:00:00`. This could be useful when you want to group the entries together by day of the month. You will learn how to then group the data using a `GROUP BY` in the next lesson."
      ]
    },
    {
      "cell_type": "code",
      "execution_count": 31,
      "metadata": {
        "id": "hLI36rTjChQM"
      },
      "outputs": [
        {
          "data": {
            "text/html": [
              "<div>\n",
              "<style scoped>\n",
              "    .dataframe tbody tr th:only-of-type {\n",
              "        vertical-align: middle;\n",
              "    }\n",
              "\n",
              "    .dataframe tbody tr th {\n",
              "        vertical-align: top;\n",
              "    }\n",
              "\n",
              "    .dataframe thead th {\n",
              "        text-align: right;\n",
              "    }\n",
              "</style>\n",
              "<table border=\"1\" class=\"dataframe\">\n",
              "  <thead>\n",
              "    <tr style=\"text-align: right;\">\n",
              "      <th></th>\n",
              "      <th>rental_day</th>\n",
              "      <th>total_daily_rentals</th>\n",
              "    </tr>\n",
              "  </thead>\n",
              "  <tbody>\n",
              "    <tr>\n",
              "      <th>0</th>\n",
              "      <td>2005-07-31</td>\n",
              "      <td>679</td>\n",
              "    </tr>\n",
              "    <tr>\n",
              "      <th>1</th>\n",
              "      <td>2005-08-01</td>\n",
              "      <td>671</td>\n",
              "    </tr>\n",
              "    <tr>\n",
              "      <th>2</th>\n",
              "      <td>2005-08-21</td>\n",
              "      <td>659</td>\n",
              "    </tr>\n",
              "    <tr>\n",
              "      <th>3</th>\n",
              "      <td>2005-07-27</td>\n",
              "      <td>649</td>\n",
              "    </tr>\n",
              "    <tr>\n",
              "      <th>4</th>\n",
              "      <td>2005-08-02</td>\n",
              "      <td>643</td>\n",
              "    </tr>\n",
              "    <tr>\n",
              "      <th>5</th>\n",
              "      <td>2005-07-29</td>\n",
              "      <td>641</td>\n",
              "    </tr>\n",
              "    <tr>\n",
              "      <th>6</th>\n",
              "      <td>2005-07-30</td>\n",
              "      <td>634</td>\n",
              "    </tr>\n",
              "    <tr>\n",
              "      <th>7</th>\n",
              "      <td>2005-08-19</td>\n",
              "      <td>628</td>\n",
              "    </tr>\n",
              "    <tr>\n",
              "      <th>8</th>\n",
              "      <td>2005-08-22</td>\n",
              "      <td>626</td>\n",
              "    </tr>\n",
              "    <tr>\n",
              "      <th>9</th>\n",
              "      <td>2005-08-20</td>\n",
              "      <td>624</td>\n",
              "    </tr>\n",
              "    <tr>\n",
              "      <th>10</th>\n",
              "      <td>2005-08-18</td>\n",
              "      <td>621</td>\n",
              "    </tr>\n",
              "    <tr>\n",
              "      <th>11</th>\n",
              "      <td>2005-07-28</td>\n",
              "      <td>620</td>\n",
              "    </tr>\n",
              "    <tr>\n",
              "      <th>12</th>\n",
              "      <td>2005-08-23</td>\n",
              "      <td>598</td>\n",
              "    </tr>\n",
              "    <tr>\n",
              "      <th>13</th>\n",
              "      <td>2005-08-17</td>\n",
              "      <td>593</td>\n",
              "    </tr>\n",
              "    <tr>\n",
              "      <th>14</th>\n",
              "      <td>2005-07-09</td>\n",
              "      <td>513</td>\n",
              "    </tr>\n",
              "    <tr>\n",
              "      <th>15</th>\n",
              "      <td>2005-07-08</td>\n",
              "      <td>512</td>\n",
              "    </tr>\n",
              "    <tr>\n",
              "      <th>16</th>\n",
              "      <td>2005-07-06</td>\n",
              "      <td>504</td>\n",
              "    </tr>\n",
              "    <tr>\n",
              "      <th>17</th>\n",
              "      <td>2005-07-12</td>\n",
              "      <td>495</td>\n",
              "    </tr>\n",
              "    <tr>\n",
              "      <th>18</th>\n",
              "      <td>2005-07-10</td>\n",
              "      <td>480</td>\n",
              "    </tr>\n",
              "    <tr>\n",
              "      <th>19</th>\n",
              "      <td>2005-07-07</td>\n",
              "      <td>461</td>\n",
              "    </tr>\n",
              "    <tr>\n",
              "      <th>20</th>\n",
              "      <td>2005-07-11</td>\n",
              "      <td>461</td>\n",
              "    </tr>\n",
              "    <tr>\n",
              "      <th>21</th>\n",
              "      <td>2005-06-15</td>\n",
              "      <td>348</td>\n",
              "    </tr>\n",
              "    <tr>\n",
              "      <th>22</th>\n",
              "      <td>2005-06-19</td>\n",
              "      <td>348</td>\n",
              "    </tr>\n",
              "    <tr>\n",
              "      <th>23</th>\n",
              "      <td>2005-06-18</td>\n",
              "      <td>344</td>\n",
              "    </tr>\n",
              "    <tr>\n",
              "      <th>24</th>\n",
              "      <td>2005-06-20</td>\n",
              "      <td>331</td>\n",
              "    </tr>\n",
              "    <tr>\n",
              "      <th>25</th>\n",
              "      <td>2005-06-17</td>\n",
              "      <td>325</td>\n",
              "    </tr>\n",
              "    <tr>\n",
              "      <th>26</th>\n",
              "      <td>2005-06-16</td>\n",
              "      <td>324</td>\n",
              "    </tr>\n",
              "    <tr>\n",
              "      <th>27</th>\n",
              "      <td>2005-06-21</td>\n",
              "      <td>275</td>\n",
              "    </tr>\n",
              "    <tr>\n",
              "      <th>28</th>\n",
              "      <td>2005-05-28</td>\n",
              "      <td>196</td>\n",
              "    </tr>\n",
              "    <tr>\n",
              "      <th>29</th>\n",
              "      <td>2006-02-14</td>\n",
              "      <td>182</td>\n",
              "    </tr>\n",
              "    <tr>\n",
              "      <th>30</th>\n",
              "      <td>2005-05-26</td>\n",
              "      <td>174</td>\n",
              "    </tr>\n",
              "    <tr>\n",
              "      <th>31</th>\n",
              "      <td>2005-05-27</td>\n",
              "      <td>166</td>\n",
              "    </tr>\n",
              "    <tr>\n",
              "      <th>32</th>\n",
              "      <td>2005-05-31</td>\n",
              "      <td>163</td>\n",
              "    </tr>\n",
              "    <tr>\n",
              "      <th>33</th>\n",
              "      <td>2005-05-30</td>\n",
              "      <td>158</td>\n",
              "    </tr>\n",
              "    <tr>\n",
              "      <th>34</th>\n",
              "      <td>2005-05-29</td>\n",
              "      <td>154</td>\n",
              "    </tr>\n",
              "    <tr>\n",
              "      <th>35</th>\n",
              "      <td>2005-05-25</td>\n",
              "      <td>137</td>\n",
              "    </tr>\n",
              "    <tr>\n",
              "      <th>36</th>\n",
              "      <td>2005-07-26</td>\n",
              "      <td>33</td>\n",
              "    </tr>\n",
              "    <tr>\n",
              "      <th>37</th>\n",
              "      <td>2005-07-05</td>\n",
              "      <td>27</td>\n",
              "    </tr>\n",
              "    <tr>\n",
              "      <th>38</th>\n",
              "      <td>2005-08-16</td>\n",
              "      <td>23</td>\n",
              "    </tr>\n",
              "    <tr>\n",
              "      <th>39</th>\n",
              "      <td>2005-06-14</td>\n",
              "      <td>16</td>\n",
              "    </tr>\n",
              "    <tr>\n",
              "      <th>40</th>\n",
              "      <td>2005-05-24</td>\n",
              "      <td>8</td>\n",
              "    </tr>\n",
              "  </tbody>\n",
              "</table>\n",
              "</div>"
            ],
            "text/plain": [
              "   rental_day  total_daily_rentals\n",
              "0  2005-07-31                  679\n",
              "1  2005-08-01                  671\n",
              "2  2005-08-21                  659\n",
              "3  2005-07-27                  649\n",
              "4  2005-08-02                  643\n",
              "5  2005-07-29                  641\n",
              "6  2005-07-30                  634\n",
              "7  2005-08-19                  628\n",
              "8  2005-08-22                  626\n",
              "9  2005-08-20                  624\n",
              "10 2005-08-18                  621\n",
              "11 2005-07-28                  620\n",
              "12 2005-08-23                  598\n",
              "13 2005-08-17                  593\n",
              "14 2005-07-09                  513\n",
              "15 2005-07-08                  512\n",
              "16 2005-07-06                  504\n",
              "17 2005-07-12                  495\n",
              "18 2005-07-10                  480\n",
              "19 2005-07-07                  461\n",
              "20 2005-07-11                  461\n",
              "21 2005-06-15                  348\n",
              "22 2005-06-19                  348\n",
              "23 2005-06-18                  344\n",
              "24 2005-06-20                  331\n",
              "25 2005-06-17                  325\n",
              "26 2005-06-16                  324\n",
              "27 2005-06-21                  275\n",
              "28 2005-05-28                  196\n",
              "29 2006-02-14                  182\n",
              "30 2005-05-26                  174\n",
              "31 2005-05-27                  166\n",
              "32 2005-05-31                  163\n",
              "33 2005-05-30                  158\n",
              "34 2005-05-29                  154\n",
              "35 2005-05-25                  137\n",
              "36 2005-07-26                   33\n",
              "37 2005-07-05                   27\n",
              "38 2005-08-16                   23\n",
              "39 2005-06-14                   16\n",
              "40 2005-05-24                    8"
            ]
          },
          "execution_count": 31,
          "metadata": {},
          "output_type": "execute_result"
        }
      ],
      "source": [
        "db.execute_query('''\n",
        "                    SELECT DATE_TRUNC('day', rental_date) AS rental_day,\n",
        "                        COUNT(*) AS total_daily_rentals\n",
        "                    FROM rental\n",
        "                    GROUP BY DATE_TRUNC('day', rental_date)\n",
        "                    ORDER BY total_daily_rentals DESC;\n",
        "                ''')"
      ]
    },
    {
      "cell_type": "markdown",
      "metadata": {
        "id": "kCIOjiT7ChQM"
      },
      "source": [
        "## `DATE PART/EXTRACT`\n",
        "\n",
        "The `DATE_PART` or `EXTRACT` allows us to extract a specific field from a `timestamp` or `interval`, with the following syntax:"
      ]
    },
    {
      "cell_type": "code",
      "execution_count": null,
      "metadata": {
        "id": "xjeR4QxOChQP",
        "vscode": {
          "languageId": "sql"
        }
      },
      "outputs": [],
      "source": [
        "DATE_PART({field}, {timestamp/interval})\n",
        "EXTRACT({field from timestamp/interval})"
      ]
    },
    {
      "cell_type": "markdown",
      "metadata": {
        "id": "oFv3ohKdChQP"
      },
      "source": [
        "There is a slight difference between `EXTRACT` and `DATE_PART` though in most cases they can be used interchangeably. Since PostgreSQL 14 `EXTRACT` returns a `numeric` type and `DATE_PART` returns a `double precision` type. Double precision has precision up to 15 digits after the decimal point and numeric is up to 16383 so they can round slightly differently in rare cases.\n",
        "\n",
        "The `field` value allows you to specify which part of the `interval` or `timestamp` you would like to extract and has the same options as `DATE_TRUNC` plus additionally:\n",
        "\n",
        "- `timezone`: extract the timezone\n",
        "- `timezone_hour`: hour component of the time zone\n",
        "- `timezone_minute`: minute component of the time zone\n",
        "- `dow`: numerical value for the day of the week\n",
        "- `doy`: numerical value for the day of the year\n",
        "- `epoch`: number of seconds past since 1970-01-01 00:00:00\n",
        "\n",
        "An example of extracting the year from the `payment_date` in the `payment` table:\n",
        "\n"
      ]
    },
    {
      "cell_type": "code",
      "execution_count": 32,
      "metadata": {
        "id": "OpcZVkR4ChQP"
      },
      "outputs": [
        {
          "data": {
            "text/html": [
              "<div>\n",
              "<style scoped>\n",
              "    .dataframe tbody tr th:only-of-type {\n",
              "        vertical-align: middle;\n",
              "    }\n",
              "\n",
              "    .dataframe tbody tr th {\n",
              "        vertical-align: top;\n",
              "    }\n",
              "\n",
              "    .dataframe thead th {\n",
              "        text-align: right;\n",
              "    }\n",
              "</style>\n",
              "<table border=\"1\" class=\"dataframe\">\n",
              "  <thead>\n",
              "    <tr style=\"text-align: right;\">\n",
              "      <th></th>\n",
              "      <th>day_taken_payment</th>\n",
              "    </tr>\n",
              "  </thead>\n",
              "  <tbody>\n",
              "    <tr>\n",
              "      <th>0</th>\n",
              "      <td>2007.0</td>\n",
              "    </tr>\n",
              "    <tr>\n",
              "      <th>1</th>\n",
              "      <td>2007.0</td>\n",
              "    </tr>\n",
              "    <tr>\n",
              "      <th>2</th>\n",
              "      <td>2007.0</td>\n",
              "    </tr>\n",
              "    <tr>\n",
              "      <th>3</th>\n",
              "      <td>2007.0</td>\n",
              "    </tr>\n",
              "    <tr>\n",
              "      <th>4</th>\n",
              "      <td>2007.0</td>\n",
              "    </tr>\n",
              "    <tr>\n",
              "      <th>...</th>\n",
              "      <td>...</td>\n",
              "    </tr>\n",
              "    <tr>\n",
              "      <th>16044</th>\n",
              "      <td>2007.0</td>\n",
              "    </tr>\n",
              "    <tr>\n",
              "      <th>16045</th>\n",
              "      <td>2007.0</td>\n",
              "    </tr>\n",
              "    <tr>\n",
              "      <th>16046</th>\n",
              "      <td>2007.0</td>\n",
              "    </tr>\n",
              "    <tr>\n",
              "      <th>16047</th>\n",
              "      <td>2007.0</td>\n",
              "    </tr>\n",
              "    <tr>\n",
              "      <th>16048</th>\n",
              "      <td>2007.0</td>\n",
              "    </tr>\n",
              "  </tbody>\n",
              "</table>\n",
              "<p>16049 rows × 1 columns</p>\n",
              "</div>"
            ],
            "text/plain": [
              "       day_taken_payment\n",
              "0                 2007.0\n",
              "1                 2007.0\n",
              "2                 2007.0\n",
              "3                 2007.0\n",
              "4                 2007.0\n",
              "...                  ...\n",
              "16044             2007.0\n",
              "16045             2007.0\n",
              "16046             2007.0\n",
              "16047             2007.0\n",
              "16048             2007.0\n",
              "\n",
              "[16049 rows x 1 columns]"
            ]
          },
          "execution_count": 32,
          "metadata": {},
          "output_type": "execute_result"
        }
      ],
      "source": [
        "db.execute_query('''\n",
        "                    SELECT EXTRACT('year' from payment_date) as day_taken_payment\n",
        "                    FROM payment;\n",
        "                ''')"
      ]
    },
    {
      "cell_type": "markdown",
      "metadata": {},
      "source": [
        "What it normally looks like, for reference:"
      ]
    },
    {
      "cell_type": "code",
      "execution_count": 33,
      "metadata": {},
      "outputs": [
        {
          "data": {
            "text/html": [
              "<div>\n",
              "<style scoped>\n",
              "    .dataframe tbody tr th:only-of-type {\n",
              "        vertical-align: middle;\n",
              "    }\n",
              "\n",
              "    .dataframe tbody tr th {\n",
              "        vertical-align: top;\n",
              "    }\n",
              "\n",
              "    .dataframe thead th {\n",
              "        text-align: right;\n",
              "    }\n",
              "</style>\n",
              "<table border=\"1\" class=\"dataframe\">\n",
              "  <thead>\n",
              "    <tr style=\"text-align: right;\">\n",
              "      <th></th>\n",
              "      <th>day_taken_payment</th>\n",
              "    </tr>\n",
              "  </thead>\n",
              "  <tbody>\n",
              "    <tr>\n",
              "      <th>0</th>\n",
              "      <td>2007-01-24 21:40:19.996577</td>\n",
              "    </tr>\n",
              "    <tr>\n",
              "      <th>1</th>\n",
              "      <td>2007-01-25 15:16:50.996577</td>\n",
              "    </tr>\n",
              "    <tr>\n",
              "      <th>2</th>\n",
              "      <td>2007-01-28 21:44:14.996577</td>\n",
              "    </tr>\n",
              "    <tr>\n",
              "      <th>3</th>\n",
              "      <td>2007-01-29 00:58:02.996577</td>\n",
              "    </tr>\n",
              "    <tr>\n",
              "      <th>4</th>\n",
              "      <td>2007-01-29 08:10:06.996577</td>\n",
              "    </tr>\n",
              "    <tr>\n",
              "      <th>...</th>\n",
              "      <td>...</td>\n",
              "    </tr>\n",
              "    <tr>\n",
              "      <th>16044</th>\n",
              "      <td>2007-05-14 13:44:29.996577</td>\n",
              "    </tr>\n",
              "    <tr>\n",
              "      <th>16045</th>\n",
              "      <td>2007-05-14 13:44:29.996577</td>\n",
              "    </tr>\n",
              "    <tr>\n",
              "      <th>16046</th>\n",
              "      <td>2007-05-14 13:44:29.996577</td>\n",
              "    </tr>\n",
              "    <tr>\n",
              "      <th>16047</th>\n",
              "      <td>2007-05-14 13:44:29.996577</td>\n",
              "    </tr>\n",
              "    <tr>\n",
              "      <th>16048</th>\n",
              "      <td>2007-05-14 13:44:29.996577</td>\n",
              "    </tr>\n",
              "  </tbody>\n",
              "</table>\n",
              "<p>16049 rows × 1 columns</p>\n",
              "</div>"
            ],
            "text/plain": [
              "               day_taken_payment\n",
              "0     2007-01-24 21:40:19.996577\n",
              "1     2007-01-25 15:16:50.996577\n",
              "2     2007-01-28 21:44:14.996577\n",
              "3     2007-01-29 00:58:02.996577\n",
              "4     2007-01-29 08:10:06.996577\n",
              "...                          ...\n",
              "16044 2007-05-14 13:44:29.996577\n",
              "16045 2007-05-14 13:44:29.996577\n",
              "16046 2007-05-14 13:44:29.996577\n",
              "16047 2007-05-14 13:44:29.996577\n",
              "16048 2007-05-14 13:44:29.996577\n",
              "\n",
              "[16049 rows x 1 columns]"
            ]
          },
          "execution_count": 33,
          "metadata": {},
          "output_type": "execute_result"
        }
      ],
      "source": [
        "db.execute_query('''\n",
        "                    SELECT payment_date as day_taken_payment\n",
        "                    FROM payment;\n",
        "                ''')"
      ]
    },
    {
      "cell_type": "markdown",
      "metadata": {
        "id": "8XUFmLdCChQP"
      },
      "source": [
        "## `CASE`\n",
        "\n",
        "The `CASE` statement checks multiple conditional statements and returns a value when one is met. It evaluates each statement in order, and once one is met it will return the specified value from that statement. You will always find the `CASE` statement as part of the `SELECT` clause.\n",
        "\n",
        "The `CASE` statement is created using the keywords `WHEN`, `THEN`, `END` and optionally `ELSE` or `AS`. Let's take a look at the syntax of the statement:"
      ]
    },
    {
      "cell_type": "code",
      "execution_count": null,
      "metadata": {
        "id": "0lkkyOsMChQP",
        "vscode": {
          "languageId": "sql"
        }
      },
      "outputs": [],
      "source": [
        "CASE\n",
        "    WHEN condition THEN result\n",
        "    [WHEN ...]\n",
        "    [ELSE result]\n",
        "END AS {column alias}"
      ]
    },
    {
      "cell_type": "markdown",
      "metadata": {
        "id": "s1R0_Ir3ChQP"
      },
      "source": [
        "First the `CASE` statement is created with the `CASE` keyword and ends when it reaches the `END` keyword. This can be followed by `AS`, to alias the newly created column from the `CASE` statement. Each condition in the `CASE` statement starts with `WHEN condition`. If this condition is met then its associated `THEN result` updates the new column with `result`.\n",
        "\n",
        "You can think of `CASE` like `if else` statements in another programming language. The Pythonic way to view this is:"
      ]
    },
    {
      "cell_type": "code",
      "execution_count": null,
      "metadata": {
        "id": "yVeb_QndChQP"
      },
      "outputs": [],
      "source": [
        "if condition_1:\n",
        "    return value_1\n",
        "elif condition_2:\n",
        "    return value_2\n",
        "else:\n",
        "    return value_3"
      ]
    },
    {
      "cell_type": "markdown",
      "metadata": {
        "id": "2NN65hDCChQP"
      },
      "source": [
        "Let's create a `CASE` statement to categorise each film in the `film` table based on their `rental_rate`:"
      ]
    },
    {
      "cell_type": "code",
      "execution_count": 35,
      "metadata": {
        "id": "RLZBDsskChQP"
      },
      "outputs": [
        {
          "data": {
            "text/html": [
              "<div>\n",
              "<style scoped>\n",
              "    .dataframe tbody tr th:only-of-type {\n",
              "        vertical-align: middle;\n",
              "    }\n",
              "\n",
              "    .dataframe tbody tr th {\n",
              "        vertical-align: top;\n",
              "    }\n",
              "\n",
              "    .dataframe thead th {\n",
              "        text-align: right;\n",
              "    }\n",
              "</style>\n",
              "<table border=\"1\" class=\"dataframe\">\n",
              "  <thead>\n",
              "    <tr style=\"text-align: right;\">\n",
              "      <th></th>\n",
              "      <th>title</th>\n",
              "      <th>release_year</th>\n",
              "      <th>rental_rate</th>\n",
              "      <th>quality</th>\n",
              "    </tr>\n",
              "  </thead>\n",
              "  <tbody>\n",
              "    <tr>\n",
              "      <th>0</th>\n",
              "      <td>ACADEMY DINOSAUR</td>\n",
              "      <td>2006</td>\n",
              "      <td>0.99</td>\n",
              "      <td>discount</td>\n",
              "    </tr>\n",
              "    <tr>\n",
              "      <th>1</th>\n",
              "      <td>ACE GOLDFINGER</td>\n",
              "      <td>2006</td>\n",
              "      <td>4.99</td>\n",
              "      <td>premium</td>\n",
              "    </tr>\n",
              "    <tr>\n",
              "      <th>2</th>\n",
              "      <td>ADAPTATION HOLES</td>\n",
              "      <td>2006</td>\n",
              "      <td>2.99</td>\n",
              "      <td>regular</td>\n",
              "    </tr>\n",
              "    <tr>\n",
              "      <th>3</th>\n",
              "      <td>AFFAIR PREJUDICE</td>\n",
              "      <td>2006</td>\n",
              "      <td>2.99</td>\n",
              "      <td>regular</td>\n",
              "    </tr>\n",
              "    <tr>\n",
              "      <th>4</th>\n",
              "      <td>AFRICAN EGG</td>\n",
              "      <td>2006</td>\n",
              "      <td>2.99</td>\n",
              "      <td>regular</td>\n",
              "    </tr>\n",
              "    <tr>\n",
              "      <th>...</th>\n",
              "      <td>...</td>\n",
              "      <td>...</td>\n",
              "      <td>...</td>\n",
              "      <td>...</td>\n",
              "    </tr>\n",
              "    <tr>\n",
              "      <th>995</th>\n",
              "      <td>YOUTH KICK</td>\n",
              "      <td>2006</td>\n",
              "      <td>0.99</td>\n",
              "      <td>discount</td>\n",
              "    </tr>\n",
              "    <tr>\n",
              "      <th>996</th>\n",
              "      <td>ZHIVAGO CORE</td>\n",
              "      <td>2006</td>\n",
              "      <td>0.99</td>\n",
              "      <td>discount</td>\n",
              "    </tr>\n",
              "    <tr>\n",
              "      <th>997</th>\n",
              "      <td>ZOOLANDER FICTION</td>\n",
              "      <td>2006</td>\n",
              "      <td>2.99</td>\n",
              "      <td>regular</td>\n",
              "    </tr>\n",
              "    <tr>\n",
              "      <th>998</th>\n",
              "      <td>ZORRO ARK</td>\n",
              "      <td>2006</td>\n",
              "      <td>4.99</td>\n",
              "      <td>premium</td>\n",
              "    </tr>\n",
              "    <tr>\n",
              "      <th>999</th>\n",
              "      <td>AIRPLANE SIERRA</td>\n",
              "      <td>2010</td>\n",
              "      <td>2.99</td>\n",
              "      <td>regular</td>\n",
              "    </tr>\n",
              "  </tbody>\n",
              "</table>\n",
              "<p>1000 rows × 4 columns</p>\n",
              "</div>"
            ],
            "text/plain": [
              "                 title  release_year  rental_rate   quality\n",
              "0     ACADEMY DINOSAUR          2006         0.99  discount\n",
              "1       ACE GOLDFINGER          2006         4.99   premium\n",
              "2     ADAPTATION HOLES          2006         2.99   regular\n",
              "3     AFFAIR PREJUDICE          2006         2.99   regular\n",
              "4          AFRICAN EGG          2006         2.99   regular\n",
              "..                 ...           ...          ...       ...\n",
              "995         YOUTH KICK          2006         0.99  discount\n",
              "996       ZHIVAGO CORE          2006         0.99  discount\n",
              "997  ZOOLANDER FICTION          2006         2.99   regular\n",
              "998          ZORRO ARK          2006         4.99   premium\n",
              "999    AIRPLANE SIERRA          2010         2.99   regular\n",
              "\n",
              "[1000 rows x 4 columns]"
            ]
          },
          "execution_count": 35,
          "metadata": {},
          "output_type": "execute_result"
        }
      ],
      "source": [
        "db.execute_query('''\n",
        "                    SELECT title,\n",
        "                           release_year,\n",
        "                           rental_rate,\n",
        "                    CASE\n",
        "                        WHEN rental_rate > 0 AND rental_rate < 2.99 THEN 'discount'\n",
        "                        WHEN rental_rate >= 2.99 AND rental_rate < 4.99 THEN 'regular'\n",
        "                        ELSE 'premium'\n",
        "                    END AS quality\n",
        "                    FROM\n",
        "                        film;\n",
        "                ''')"
      ]
    },
    {
      "cell_type": "markdown",
      "metadata": {
        "id": "wihwsGTYChQP"
      },
      "source": [
        "Notice we're using the `rental_rate` column to determine which quality category each film should belong to.\n",
        "\n",
        "We have the ranges:\n",
        "\n",
        "- `WHEN rental_rate > 0 AND rental_rate < 2.99 THEN 'discount'`\n",
        "- `WHEN rental_rate >= 2.99 AND rental_rate < 4.99 THEN 'regular'`\n",
        "- `ELSE premium`\n",
        "\n",
        "After the `CASE` statement is completed with `END`, we've aliased the column to create `AS quality`. So the first statement is saying if the `rental_rate` is between `0` and less than `2.99` then the value `discount` will be inserted into the new column `quality`. If it's between `2.99` and `4.99` then the value `regular` will be inserted. In all other cases the value `premium` will inserted into the column.\n",
        "\n",
        "## Key Takeaways\n",
        "\n",
        "- **Aggregations** are a powerful way to summarise your data\n",
        "- **Aggregations** can be used in conjunction with the **arithmetic operators** to perform calculation on your aggregated data\n",
        "- The `DISTINCT` keyword can be a great way to understand data on initial viewing. You can use it to view all unique values in a column\n",
        "- `DATE PART/EXTRACT` can give retrieve almost any part of a timestamp so use it when you need time values\n",
        "- The `DATE TRUNC` function can used great when you need to aggregate the data by a specific part of a **timestamp**\n",
        "- The `CASE` statement can be a great way to generate new columns based on the value of other columns in your table"
      ]
    }
  ],
  "metadata": {
    "colab": {
      "provenance": []
    },
    "kernelspec": {
      "display_name": "base",
      "language": "python",
      "name": "python3"
    },
    "language_info": {
      "codemirror_mode": {
        "name": "ipython",
        "version": 3
      },
      "file_extension": ".py",
      "mimetype": "text/x-python",
      "name": "python",
      "nbconvert_exporter": "python",
      "pygments_lexer": "ipython3",
      "version": "3.12.0"
    },
    "vscode": {
      "interpreter": {
        "hash": "a2592652612463181e69ac003232387e3e9a99279aa6b168e76f5df16d5110f4"
      }
    }
  },
  "nbformat": 4,
  "nbformat_minor": 0
}

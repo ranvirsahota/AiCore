{
  "cells": [
    {
      "cell_type": "markdown",
      "metadata": {
        "colab_type": "text",
        "id": "view-in-github"
      },
      "source": [
        "<a href=\"https://colab.research.google.com/github/ranvirsahota/AiCore/blob/pandas/6_numpy/notebook_lesson.ipynb\" target=\"_parent\"><img src=\"https://colab.research.google.com/assets/colab-badge.svg\" alt=\"Open In Colab\"/></a>"
      ]
    },
    {
      "cell_type": "markdown",
      "id": "c4d9f0e6",
      "metadata": {
        "id": "c4d9f0e6"
      },
      "source": [
        "# Numpy\n"
      ]
    },
    {
      "cell_type": "markdown",
      "id": "64a6737d",
      "metadata": {
        "id": "64a6737d"
      },
      "source": [
        "> <font size=+1>Numpy is a scientific standard for handling multidimensional data in Python</font>\n",
        "\n",
        "__This is one of the most if not the most important library for Python__, because:\n",
        "- It is a core of many scientific stacks:\n",
        "    - Underlying library for __Pandas__ (we will learn about it later)\n",
        "    - API parity (or similarity) with __PyTorch__ or __Tensorflow__, two of the main Deep Learning libraries for Python\n",
        "    - Many third party libraries implement ideas we will see here, such as dimensionality\n",
        "    \n",
        "Its popularity could be attributed to a few key traits:\n",
        "- Ease of use\n",
        "- Efficiency: Numpy is built on top of C (Python acts as a front-end)\n",
        "- Intuitive syntax\n",
        "- It \"just works\" as you'd expect (and would like it to)\n"
      ]
    },
    {
      "cell_type": "markdown",
      "id": "bf6107d2",
      "metadata": {
        "id": "bf6107d2"
      },
      "source": [
        "## Installation\n"
      ]
    },
    {
      "cell_type": "markdown",
      "id": "e3b5de31",
      "metadata": {
        "id": "e3b5de31"
      },
      "source": [
        "We can install Numpy really easily via `pip` or `conda` (available in the main `conda` channel) via:\n",
        "\n",
        "```bash\n",
        "pip install numpy\n",
        "```\n",
        "\n",
        "```\n",
        "conda install numpy\n",
        "```"
      ]
    },
    {
      "cell_type": "code",
      "execution_count": 1,
      "id": "bd7da0f0",
      "metadata": {
        "colab": {
          "base_uri": "https://localhost:8080/"
        },
        "id": "bd7da0f0",
        "outputId": "96476c5e-19ee-4304-a720-3b73cedc513e"
      },
      "outputs": [
        {
          "name": "stdout",
          "output_type": "stream",
          "text": [
            "Requirement already satisfied: numpy in /usr/local/lib/python3.10/dist-packages (1.23.5)\n"
          ]
        }
      ],
      "source": [
        "!pip install numpy"
      ]
    },
    {
      "cell_type": "markdown",
      "id": "beba850e",
      "metadata": {
        "id": "beba850e"
      },
      "source": [
        "Once installed, the canonical way to import it in Python is giving it the alias `np`, so it will look like:"
      ]
    },
    {
      "cell_type": "markdown",
      "id": "f9bd1e7b",
      "metadata": {
        "id": "f9bd1e7b"
      },
      "source": [
        "`import numpy as np`"
      ]
    },
    {
      "cell_type": "markdown",
      "id": "01d2c7d1",
      "metadata": {
        "id": "01d2c7d1"
      },
      "source": [
        "Let's take a look at the some of the most common elements you will find in Numpy"
      ]
    },
    {
      "cell_type": "markdown",
      "id": "b42a8d60",
      "metadata": {
        "id": "b42a8d60"
      },
      "source": [
        "## np.ndarray\n"
      ]
    },
    {
      "cell_type": "markdown",
      "id": "6a0aadc8",
      "metadata": {
        "id": "6a0aadc8"
      },
      "source": [
        "> <font size=+1>`np.ndarray` is highly-efficient data abstraction written in C with Python's bindings for easier usage</font>\n",
        "\n",
        "Important traits about `np.ndarray`:\n",
        "- Can have arbitrary number of dimensions\n",
        "- Single `dtype`__ (type of data), usually numeric, for example:\n",
        "    - `float32` (a.k.a. `float`)\n",
        "    - `float64` (a.k.a. `double`); __default__\n",
        "    - `int32` (a.k.a. `int`)\n",
        "- __Has to be \"rectangle-like\"__:\n",
        "    - We cannot have `3` lists of different sizes in a single `np.ndarray`"
      ]
    },
    {
      "cell_type": "markdown",
      "id": "244ddb3e",
      "metadata": {
        "id": "244ddb3e"
      },
      "source": [
        "You can generate ndarrays using this method. However, it might not be very intuitive at the beginning, since we need to pass the dimension of the matrix we want to generate, and `ndarray` will populate it with random numbers"
      ]
    },
    {
      "cell_type": "code",
      "execution_count": 2,
      "id": "967b4109",
      "metadata": {
        "colab": {
          "base_uri": "https://localhost:8080/"
        },
        "id": "967b4109",
        "outputId": "a69ba247-7244-4b7b-96dc-b7b79d5b8859"
      },
      "outputs": [
        {
          "name": "stdout",
          "output_type": "stream",
          "text": [
            "[[4.94540513e-310 0.00000000e+000]\n",
            " [7.29543846e+175 2.20892684e+161]]\n"
          ]
        }
      ],
      "source": [
        "import numpy as np\n",
        "\n",
        "nd_array1 = np.ndarray((2, 2))\n",
        "print(nd_array1)"
      ]
    },
    {
      "cell_type": "markdown",
      "id": "c8f16a79",
      "metadata": {
        "id": "c8f16a79"
      },
      "source": [
        "To create `ndarrays` out of an object we already have, for example, a list, we can use the `array` method"
      ]
    },
    {
      "cell_type": "markdown",
      "id": "9687cd71",
      "metadata": {
        "id": "9687cd71"
      },
      "source": [
        "\n",
        "### np.array vs np.ndarray\n"
      ]
    },
    {
      "cell_type": "markdown",
      "id": "0f09c148",
      "metadata": {
        "id": "0f09c148"
      },
      "source": [
        "> __`np.array` IS A FACTORY METHOD which creates `np.ndarray` (numpy N-dimensional array) objects__\n",
        "\n",
        "What is a factory method?\n",
        "\n",
        "> Factory methods are methods which, dependent on the input we pass to it __returns different object types__\n",
        "\n",
        "Let's see:\n",
        "- How to create `np.ndarray` object from Python's objects (`list` and `tuple`)\n",
        "- How the type is inferred based on content\n",
        "- Uniform presentation of arrays on Python level (`type(array)`)\n",
        "\n",
        "> __You should always use `np.array` in order to create an array because it infers `dtype` correctly!__"
      ]
    },
    {
      "cell_type": "code",
      "execution_count": 4,
      "id": "45f1635e",
      "metadata": {
        "colab": {
          "base_uri": "https://localhost:8080/"
        },
        "id": "45f1635e",
        "outputId": "f473a08f-9609-4280-d918-63d58bb2072f"
      },
      "outputs": [
        {
          "name": "stdout",
          "output_type": "stream",
          "text": [
            "[1 2 3 4]\n",
            "[[1. 2. 3. 4.]\n",
            " [5. 6. 7. 8.]]\n"
          ]
        },
        {
          "data": {
            "text/plain": [
              "(dtype('int64'), numpy.ndarray, dtype('float64'), numpy.ndarray)"
            ]
          },
          "execution_count": 4,
          "metadata": {},
          "output_type": "execute_result"
        }
      ],
      "source": [
        "import numpy as np  # always use this alias!\n",
        "\n",
        "# Defining arrays\n",
        "arr1d_int = np.array([1, 2, 3, 4])\n",
        "arr2d_float = np.array(((1, 2, 3, 4), (5, 6, 7, 8.0)))  # Notice 8.0\n",
        "\n",
        "print(arr1d_int)\n",
        "print(arr2d_float)\n",
        "arr1d_int.dtype, type(arr1d_int), arr2d_float.dtype, type(arr2d_float)"
      ]
    },
    {
      "cell_type": "markdown",
      "id": "b99f9a9d",
      "metadata": {
        "id": "b99f9a9d"
      },
      "source": [
        "Notice that, just by adding a float to the array, the whole array now contains solely floats."
      ]
    },
    {
      "cell_type": "markdown",
      "id": "cc265e4e",
      "metadata": {
        "id": "cc265e4e"
      },
      "source": [
        "### Changing data type\n"
      ]
    },
    {
      "cell_type": "markdown",
      "id": "c87cb62e",
      "metadata": {
        "id": "c87cb62e"
      },
      "source": [
        "Sometimes we would like to use different data type than the one inferred.\n",
        "\n",
        "There are two basic approaches to obtain that:\n",
        "- Specifying during creation\n",
        "- __Casting__ via `.astype` (__new array is created, THIS IS NOT DONE IN-PLACE__ as new array has to be\n",
        "\n",
        "Let's see casting first:"
      ]
    },
    {
      "cell_type": "code",
      "execution_count": 5,
      "id": "c556c4f0",
      "metadata": {
        "colab": {
          "base_uri": "https://localhost:8080/"
        },
        "id": "c556c4f0",
        "outputId": "528d61a3-8ca7-4679-9322-ed157890b80c"
      },
      "outputs": [
        {
          "name": "stdout",
          "output_type": "stream",
          "text": [
            "int64\n"
          ]
        },
        {
          "data": {
            "text/plain": [
              "dtype('int8')"
            ]
          },
          "execution_count": 5,
          "metadata": {},
          "output_type": "execute_result"
        }
      ],
      "source": [
        "# Failed attempt, new array returned\n",
        "arr1d_int.astype(\"int8\")\n",
        "print(arr1d_int.dtype)\n",
        "\n",
        "# Correct way, new object is assigned to itself\n",
        "arr1d_int = arr1d_int.astype(\"int8\")\n",
        "\n",
        "arr1d_int.dtype"
      ]
    },
    {
      "cell_type": "code",
      "execution_count": 6,
      "id": "b1c74fd4",
      "metadata": {
        "id": "b1c74fd4"
      },
      "outputs": [],
      "source": [
        "# We can also specify it as `np.TYPE` object\n",
        "new_arr = np.array([1, 2, 3], dtype=np.int8) # or \"int8\" string"
      ]
    },
    {
      "cell_type": "markdown",
      "id": "04ec0349",
      "metadata": {
        "id": "04ec0349"
      },
      "source": [
        "## Data layout\n",
        "\n",
        "> __`np.ndarray` is kept in memory as `1D` array of contiguous values__\n",
        "\n",
        "If so, how can we have, for example, `3D` array? Numpy has everything stored in a \"single line\", but it has an attribute called _stride_ that helps to know how the data is distributed.\n",
        "\n",
        "### strides\n",
        "\n",
        "> __Strides define HOW MANY BYTES one need to traverse in order to get next element for each dimension__\n",
        "\n",
        "<p align=center><img src=https://github.com/AI-Core/Content-Public/blob/main/Content/units/Data-Handling/1.%20Numpy/0.%20Numpy%20-%20Intro/images/numpy_memory_layout.png?raw=1 width=600></p>\n",
        "\n",
        "<p align=center><img src=https://github.com/AI-Core/Content-Public/blob/main/Content/units/Data-Handling/1.%20Numpy/0.%20Numpy%20-%20Intro/images/numpy_strides.svg?raw=1 width=600></p>\n",
        "\n",
        "Let's see what these are for our two arrays:"
      ]
    },
    {
      "cell_type": "code",
      "execution_count": 7,
      "id": "78309c95",
      "metadata": {
        "colab": {
          "base_uri": "https://localhost:8080/"
        },
        "id": "78309c95",
        "outputId": "80b34f6b-047d-4491-c926-3b2c603ac48a"
      },
      "outputs": [
        {
          "name": "stdout",
          "output_type": "stream",
          "text": [
            "Int1D itemsize: 1\n",
            "Int1D strides: (1,)\n",
            "Float2D itemsize: 8\n",
            "Float2D strides: (32, 8)\n",
            "    \n"
          ]
        }
      ],
      "source": [
        "print(\n",
        "    f\"\"\"Int1D itemsize: {arr1d_int.itemsize}\n",
        "Int1D strides: {arr1d_int.strides}\n",
        "Float2D itemsize: {arr2d_float.itemsize}\n",
        "Float2D strides: {arr2d_float.strides}\n",
        "    \"\"\"\n",
        ")"
      ]
    },
    {
      "cell_type": "markdown",
      "id": "3031ef49",
      "metadata": {
        "id": "3031ef49"
      },
      "source": [
        "- `itemsize` - specifies how many bytes are used for the data type\n",
        "- `stride` - specifies how many bytes we have to jump in order to move to the next element"
      ]
    },
    {
      "cell_type": "code",
      "execution_count": 8,
      "id": "7df355d2",
      "metadata": {
        "colab": {
          "base_uri": "https://localhost:8080/"
        },
        "id": "7df355d2",
        "outputId": "44c0837c-f408-4338-df54-5b3ec32e20ee"
      },
      "outputs": [
        {
          "name": "stdout",
          "output_type": "stream",
          "text": [
            "[[0 1 2]\n",
            " [3 4 5]\n",
            " [6 7 8]]\n",
            "The data type of each element is: int64\n",
            "The length of each element in bytes is: 8\n",
            "The strides of the data types is: (24, 8)\n"
          ]
        }
      ],
      "source": [
        "# Explain values below based on the code and output\n",
        "\n",
        "arr = np.arange(9).reshape(3, 3)\n",
        "\n",
        "print(arr)\n",
        "print(f'The data type of each element is: {arr.dtype}')\n",
        "print(f'The length of each element in bytes is: {arr.itemsize}')\n",
        "print(f'The strides of the data types is: {arr.strides}')"
      ]
    },
    {
      "cell_type": "markdown",
      "id": "194c2075",
      "metadata": {
        "id": "194c2075"
      },
      "source": [
        "Makes sense right? The second element in the tuple is the amount of bytes we need to \"move to the right\" and the first element is the number of bytes we need to \"move to the next row\""
      ]
    },
    {
      "cell_type": "markdown",
      "id": "d6b72372",
      "metadata": {
        "id": "d6b72372"
      },
      "source": [
        "We can also transposed our array, let's see how this changes our strides\n",
        "\n",
        "<p align=center><img src=https://github.com/AI-Core/Content-Public/blob/main/Content/units/Data-Handling/1.%20Numpy/0.%20Numpy%20-%20Intro/images/numpy_strides_transposed.svg?raw=1 width=600></p>\n",
        "\n",
        "__Take note that__:\n",
        "- Our internal data was \"moved\" around\n",
        "- __Why would we need it, wouldn't change in strides suffice?__"
      ]
    },
    {
      "cell_type": "code",
      "execution_count": 9,
      "id": "967ce622",
      "metadata": {
        "colab": {
          "base_uri": "https://localhost:8080/"
        },
        "id": "967ce622",
        "outputId": "d04fb6cb-965b-4c49-8901-aec504649d94"
      },
      "outputs": [
        {
          "name": "stdout",
          "output_type": "stream",
          "text": [
            "[[0 3 6]\n",
            " [1 4 7]\n",
            " [2 5 8]]\n"
          ]
        },
        {
          "data": {
            "text/plain": [
              "(8, 24)"
            ]
          },
          "execution_count": 9,
          "metadata": {},
          "output_type": "execute_result"
        }
      ],
      "source": [
        "transposed = arr.T\n",
        "\n",
        "print(transposed)\n",
        "transposed.strides"
      ]
    },
    {
      "cell_type": "markdown",
      "id": "58136058",
      "metadata": {
        "id": "58136058"
      },
      "source": [
        "## shape\n"
      ]
    },
    {
      "cell_type": "markdown",
      "id": "aa64fef0",
      "metadata": {
        "id": "aa64fef0"
      },
      "source": [
        "> `<our_array>.shape` returns dimensionality of `<our_array>`\n",
        "\n",
        "It is one of the most often used attributes in `numpy` and scientific computing so keep that in mind!\n"
      ]
    },
    {
      "cell_type": "markdown",
      "id": "93226b1d",
      "metadata": {
        "id": "93226b1d"
      },
      "source": [
        "## Creating `np.ndarray`s\n"
      ]
    },
    {
      "cell_type": "markdown",
      "id": "caa429dd",
      "metadata": {
        "id": "caa429dd"
      },
      "source": [
        "Numpy allows us to easily create data in multiple ways, namely:\n",
        "- __From standard Python structures (`list`s or `tuple`s)__ (possibly nested)\n",
        "- __Direct creation of `np.ndarray`__ via:\n",
        "    - random operations (elements are taken from some distribution)\n",
        "    - using single value (zeros, ones, `eye` with some value)\n",
        "    \n",
        "Let's see a few creation operations (__all of them are listed [here](https://numpy.org/doc/stable/reference/routines.array-creation.html)__). Usually, the arguments we pass to them is the dimensions we want to give to the matrix"
      ]
    },
    {
      "cell_type": "code",
      "execution_count": 10,
      "id": "f77e2038",
      "metadata": {
        "colab": {
          "base_uri": "https://localhost:8080/"
        },
        "id": "f77e2038",
        "outputId": "bd0c0650-bf37-4953-bff5-38a8c69ca644"
      },
      "outputs": [
        {
          "name": "stdout",
          "output_type": "stream",
          "text": [
            "[[1. 1.]\n",
            " [1. 1.]\n",
            " [1. 1.]]\n",
            "Shape of \"one\" is: (3, 2)\n",
            "[[0. 0.]\n",
            " [0. 0.]\n",
            " [0. 0.]]\n",
            "Shape of \"zeros\" is: (3, 2)\n",
            "[[1. 0. 0.]\n",
            " [0. 1. 0.]\n",
            " [0. 0. 1.]]\n",
            "Shape of \"identity\" is: (3, 3)\n"
          ]
        }
      ],
      "source": [
        "ones = np.ones((3, 2)) # 2D matrix filled with ones\n",
        "zeros = np.zeros_like(ones) # 2D zero matrix filled with zeros of the same shape as ones and zeros\n",
        "identity = np.eye(3)\n",
        "\n",
        "print(ones)\n",
        "print(f'Shape of \"one\" is: {ones.shape}')\n",
        "print(zeros)\n",
        "print(f'Shape of \"zeros\" is: {zeros.shape}')\n",
        "print(identity)\n",
        "print(f'Shape of \"identity\" is: {identity.shape}')\n"
      ]
    },
    {
      "cell_type": "markdown",
      "id": "1c607da0",
      "metadata": {
        "id": "1c607da0"
      },
      "source": [
        "## Creating random np.array\n"
      ]
    },
    {
      "cell_type": "markdown",
      "id": "4c3b4387",
      "metadata": {
        "id": "4c3b4387"
      },
      "source": [
        "> `numpy` provides means to create random arrays (for example defined by some distribution)\n",
        "\n",
        "[Here](https://numpy.org/doc/stable/reference/random/index.html) you can see a full list of possibilities,\n",
        "__all of them are located in `random` module__.\n",
        "\n",
        "Example usage:"
      ]
    },
    {
      "cell_type": "code",
      "execution_count": 11,
      "id": "5985d890",
      "metadata": {
        "colab": {
          "base_uri": "https://localhost:8080/"
        },
        "id": "5985d890",
        "outputId": "63098307-371d-491d-9dca-a610de905234"
      },
      "outputs": [
        {
          "data": {
            "text/plain": [
              "array([ 2.29051424,  0.52362165,  0.30930146,  0.79878559, -0.22675659,\n",
              "        0.70598685, -0.04921779, -0.7812008 , -0.88702975,  1.22039566])"
            ]
          },
          "execution_count": 11,
          "metadata": {},
          "output_type": "execute_result"
        }
      ],
      "source": [
        "vals = np.random.standard_normal(10)\n",
        "\n",
        "vals"
      ]
    },
    {
      "cell_type": "code",
      "execution_count": 12,
      "id": "5b630898",
      "metadata": {
        "colab": {
          "base_uri": "https://localhost:8080/"
        },
        "id": "5b630898",
        "outputId": "d5b140fe-8fc3-4f78-f9ed-257d08bc90f0"
      },
      "outputs": [
        {
          "data": {
            "text/plain": [
              "array([[-0.39775661, -0.08583357,  0.05162188, -1.4939201 ],\n",
              "       [-0.21787274, -1.70047511, -0.79067127,  1.66534783],\n",
              "       [-0.95456546,  0.25567849,  0.35839379,  0.85123138]])"
            ]
          },
          "execution_count": 12,
          "metadata": {},
          "output_type": "execute_result"
        }
      ],
      "source": [
        "# Random NORMAL distribution (mean: 0 and stddev: 1)\n",
        "vals = np.random.randn(3, 4)\n",
        "\n",
        "vals"
      ]
    },
    {
      "cell_type": "code",
      "execution_count": 13,
      "id": "490b9690",
      "metadata": {
        "colab": {
          "base_uri": "https://localhost:8080/"
        },
        "id": "490b9690",
        "outputId": "bc408766-2f91-4788-9ecd-ec9528ac1a5a"
      },
      "outputs": [
        {
          "data": {
            "text/plain": [
              "array([[0.59156751, 0.92913678, 0.83538384, 0.59930812],\n",
              "       [0.47270505, 0.39867217, 0.69632707, 0.64559524],\n",
              "       [0.28797959, 0.06696303, 0.4416721 , 0.98329664]])"
            ]
          },
          "execution_count": 13,
          "metadata": {},
          "output_type": "execute_result"
        }
      ],
      "source": [
        "# Random UNIFORM distribution (0, 1 range)\n",
        "vals = np.random.rand(3, 4)\n",
        "\n",
        "vals"
      ]
    },
    {
      "cell_type": "markdown",
      "id": "1f39bbc6",
      "metadata": {
        "id": "1f39bbc6"
      },
      "source": [
        "# Key Takeaways\n",
        "\n",
        "- Numpy is one of the most important and useful Python libraries\n",
        "- NumPy allows performing various mathematical operations on arrays easily\n",
        "- `ndarray` is a highly efficient data abstraction used by Python to store and manipulate data in array structures\n",
        "- `shape` returns the dimensionality of an array\n",
        "- `stride` helps to know how the data is distributed in a Python array\n",
        "- Numpy provides different ways to slice the arrays to get the data we need"
      ]
    },
    {
      "cell_type": "markdown",
      "id": "54133c7a",
      "metadata": {},
      "source": [
        "# More Resources\n",
        " - Numpy - Fundamentals: https://youtu.be/Lfd776JSicY?feature=shared"
      ]
    }
  ],
  "metadata": {
    "colab": {
      "include_colab_link": true,
      "provenance": []
    },
    "interpreter": {
      "hash": "ad8bebc098a042dc0df4e42fc2ecc8fff0bd7b8741641ce29007c29766dadbe0"
    },
    "kernelspec": {
      "display_name": "Python 3.9.1 64-bit ('base': conda)",
      "name": "python3"
    },
    "language_info": {
      "codemirror_mode": {
        "name": "ipython",
        "version": 3
      },
      "file_extension": ".py",
      "mimetype": "text/x-python",
      "name": "python",
      "nbconvert_exporter": "python",
      "pygments_lexer": "ipython3",
      "version": "3.9.5"
    }
  },
  "nbformat": 4,
  "nbformat_minor": 5
}

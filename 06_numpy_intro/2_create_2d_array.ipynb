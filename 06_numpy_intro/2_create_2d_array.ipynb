{
 "cells": [
  {
   "cell_type": "markdown",
   "metadata": {},
   "source": [
    "# Use the np.random.randint function to create a 2D array of size (3,4) with random integers between 0 and 10.\n"
   ]
  },
  {
   "cell_type": "code",
   "execution_count": 2,
   "metadata": {},
   "outputs": [
    {
     "name": "stdout",
     "output_type": "stream",
     "text": [
      "The array shape is (row,column): (3, 4)\n"
     ]
    },
    {
     "data": {
      "text/plain": [
       "array([[2, 3, 4, 9],\n",
       "       [1, 4, 0, 9],\n",
       "       [7, 6, 8, 9]])"
      ]
     },
     "execution_count": 2,
     "metadata": {},
     "output_type": "execute_result"
    }
   ],
   "source": [
    "import numpy as np\n",
    "\n",
    "np_array = np.random.randint(low=0, high=10, size=(3,4))\n",
    "print(f'The array shape is (row,column): {np_array.shape}')\n",
    "np_array"
   ]
  }
 ],
 "metadata": {
  "kernelspec": {
   "display_name": "aicore",
   "language": "python",
   "name": "python3"
  },
  "language_info": {
   "codemirror_mode": {
    "name": "ipython",
    "version": 3
   },
   "file_extension": ".py",
   "mimetype": "text/x-python",
   "name": "python",
   "nbconvert_exporter": "python",
   "pygments_lexer": "ipython3",
   "version": "3.12.0"
  }
 },
 "nbformat": 4,
 "nbformat_minor": 2
}

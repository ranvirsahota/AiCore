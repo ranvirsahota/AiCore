{
  "cells": [
    {
      "cell_type": "markdown",
      "metadata": {
        "id": "view-in-github",
        "colab_type": "text"
      },
      "source": [
        "<a href=\"https://colab.research.google.com/github/ranvirsahota/AiCore/blob/python-basics/16_comprehensions/practicals/2_odd_and_even_list_comprehension.ipynb\" target=\"_parent\"><img src=\"https://colab.research.google.com/assets/colab-badge.svg\" alt=\"Open In Colab\"/></a>"
      ]
    },
    {
      "cell_type": "markdown",
      "id": "27035db0",
      "metadata": {
        "id": "27035db0"
      },
      "source": [
        "# Odd and even List Comprehension"
      ]
    },
    {
      "cell_type": "markdown",
      "id": "8bc77b02",
      "metadata": {
        "id": "8bc77b02"
      },
      "source": [
        "#### 1. Create a list comprehension that squares even arguments, and squares odd arguments after adding one to them. Test it on  `my_list = [1, 5, 8, 6, 21]`."
      ]
    },
    {
      "cell_type": "code",
      "execution_count": 3,
      "id": "7090583e",
      "metadata": {
        "id": "7090583e",
        "outputId": "8ff8fb8e-e9c0-4035-f7f7-62510ec756d2",
        "colab": {
          "base_uri": "https://localhost:8080/"
        }
      },
      "outputs": [
        {
          "output_type": "stream",
          "name": "stdout",
          "text": [
            "[4, 36, 64, 36, 484]\n"
          ]
        }
      ],
      "source": [
        "# TODO - Create a list comprehension that squares even arguments, and squares odd arguments after adding one to them. Test it on `my_list`.\n",
        "my_list = [1, 5, 8, 6, 21]\n",
        "print([num ** 2 if num % 2 == 0 else (num + 1) ** 2 for num in my_list])"
      ]
    },
    {
      "cell_type": "markdown",
      "id": "95aac6b4",
      "metadata": {
        "id": "95aac6b4"
      },
      "source": [
        "The output should be:\n",
        "\n",
        "`[4, 36, 64, 36, 484]`"
      ]
    }
  ],
  "metadata": {
    "kernelspec": {
      "display_name": "huggingface1",
      "language": "python",
      "name": "python3"
    },
    "language_info": {
      "codemirror_mode": {
        "name": "ipython",
        "version": 3
      },
      "file_extension": ".py",
      "mimetype": "text/x-python",
      "name": "python",
      "nbconvert_exporter": "python",
      "pygments_lexer": "ipython3",
      "version": "3.10.8"
    },
    "colab": {
      "provenance": [],
      "include_colab_link": true
    }
  },
  "nbformat": 4,
  "nbformat_minor": 5
}
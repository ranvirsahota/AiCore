{
  "cells": [
    {
      "cell_type": "markdown",
      "metadata": {
        "id": "view-in-github",
        "colab_type": "text"
      },
      "source": [
        "<a href=\"https://colab.research.google.com/github/ranvirsahota/AiCore/blob/python-basics/16_comprehensions/practicals/4_shop_item_filter.ipynb\" target=\"_parent\"><img src=\"https://colab.research.google.com/assets/colab-badge.svg\" alt=\"Open In Colab\"/></a>"
      ]
    },
    {
      "cell_type": "markdown",
      "id": "1ba35424",
      "metadata": {
        "id": "1ba35424"
      },
      "source": [
        "# Shop Item Filter"
      ]
    },
    {
      "cell_type": "markdown",
      "id": "805b1325",
      "metadata": {
        "id": "805b1325"
      },
      "source": [
        "Given the following variables:"
      ]
    },
    {
      "cell_type": "code",
      "execution_count": 11,
      "id": "67f758cb",
      "metadata": {
        "id": "67f758cb"
      },
      "outputs": [],
      "source": [
        "shop_dict = {\n",
        "    \"tom\": 0.87,\n",
        "    \"sug\": 1.09,\n",
        "    \"ws\": 0.29,\n",
        "    \"cc\": 1.89,\n",
        "    \"ccz\": 1.29\n",
        "}\n",
        "names_dict = {\n",
        "    \"tom\": \"Tomatoes\",\n",
        "    \"sug\": \"Sugar\",\n",
        "    \"ws\": \"Washing Sponges\",\n",
        "    \"cc\": \"Coca-Cola\",\n",
        "    \"ccz\": \"Coca-Cola Zero\"\n",
        "}"
      ]
    },
    {
      "cell_type": "markdown",
      "id": "290aee1d",
      "metadata": {
        "id": "290aee1d"
      },
      "source": [
        "#### 1. Filter `shop_dict` using list comprehension to find only items with values of over 1.00"
      ]
    },
    {
      "cell_type": "code",
      "execution_count": 12,
      "id": "d4c0ce1a",
      "metadata": {
        "id": "d4c0ce1a",
        "outputId": "754e5405-b968-47ba-c970-dcd7ff5a923d",
        "colab": {
          "base_uri": "https://localhost:8080/"
        }
      },
      "outputs": [
        {
          "output_type": "stream",
          "name": "stdout",
          "text": [
            "['sug', 'cc', 'ccz']\n"
          ]
        }
      ],
      "source": [
        "def filter_value(value):\n",
        "  return\n",
        "\n",
        "print([key for key, value in shop_dict.items() if value > 1])"
      ]
    },
    {
      "cell_type": "markdown",
      "id": "98ca9b14",
      "metadata": {
        "id": "98ca9b14"
      },
      "source": [
        "#### 2. Assign them to a list called `filtered_shop` by their full names, not their codes, using `names_dict`."
      ]
    },
    {
      "cell_type": "code",
      "execution_count": 13,
      "id": "4480619a",
      "metadata": {
        "id": "4480619a",
        "outputId": "7eefe3de-00f5-4053-df19-7020b908f1d4",
        "colab": {
          "base_uri": "https://localhost:8080/"
        }
      },
      "outputs": [
        {
          "output_type": "stream",
          "name": "stdout",
          "text": [
            "[['Sugar', 'Coca-Cola', 'Coca-Cola Zero']]\n"
          ]
        }
      ],
      "source": [
        "filtered_shop = [[names_dict[key] for key, value in shop_dict.items() if value > 1]]\n",
        "print(filtered_shop)"
      ]
    }
  ],
  "metadata": {
    "language_info": {
      "name": "python"
    },
    "colab": {
      "provenance": [],
      "include_colab_link": true
    },
    "kernelspec": {
      "name": "python3",
      "display_name": "Python 3"
    }
  },
  "nbformat": 4,
  "nbformat_minor": 5
}
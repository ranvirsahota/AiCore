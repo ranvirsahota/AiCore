{
  "cells": [
    {
      "cell_type": "markdown",
      "metadata": {
        "id": "view-in-github",
        "colab_type": "text"
      },
      "source": [
        "<a href=\"https://colab.research.google.com/github/ranvirsahota/AiCore/blob/python-basics/16_comprehensions/practicals/3_dictionaries_and_list_comprehensions.ipynb\" target=\"_parent\"><img src=\"https://colab.research.google.com/assets/colab-badge.svg\" alt=\"Open In Colab\"/></a>"
      ]
    },
    {
      "cell_type": "markdown",
      "id": "bdef2a2d",
      "metadata": {
        "id": "bdef2a2d"
      },
      "source": [
        "# Dictionaries and List Comprehensions"
      ]
    },
    {
      "cell_type": "markdown",
      "id": "5a9e69e9",
      "metadata": {
        "id": "5a9e69e9"
      },
      "source": [
        "#### 1. Create two dictionaries named dict_1 and dict_2, each one with 2 keys\n",
        "- `name`: a string with a name\n",
        "- `skills`: a list of strings (at least 3) with your skills\n"
      ]
    },
    {
      "cell_type": "code",
      "execution_count": 9,
      "id": "a0eba8c7",
      "metadata": {
        "id": "a0eba8c7"
      },
      "outputs": [],
      "source": [
        "\n",
        "# TODO - Create a dictionaries named dict_1, according to the schema above\n",
        "dict_1 = {'name' : 'Dracula', 'skills' : ['Demon Castle', 'Immortlity', 'Eternal Night']}\n",
        "# TODO - Create a dictionaries named dict_2, according to the schema above\n",
        "dict_2 = {'name' : 'Alucard', 'skills' : ['Hellfire', 'Tetra Spirit', 'Soul Steal']}"
      ]
    },
    {
      "cell_type": "markdown",
      "id": "90cd8391",
      "metadata": {
        "id": "90cd8391"
      },
      "source": [
        "#### 2. Put both of them in a list called `list_of_dictionaries`"
      ]
    },
    {
      "cell_type": "code",
      "execution_count": 10,
      "id": "a519d58f",
      "metadata": {
        "id": "a519d58f",
        "outputId": "306c40bc-e075-48b2-f227-17047857d2be",
        "colab": {
          "base_uri": "https://localhost:8080/"
        }
      },
      "outputs": [
        {
          "output_type": "stream",
          "name": "stdout",
          "text": [
            "[{'name': 'Dracula', 'skills': ['Demon Castle', 'Immortlity', 'Eternal Night']}, {'name': 'Alucard', 'skills': ['Hellfire', 'Tetra Spirit', 'Soul Steal']}]\n"
          ]
        }
      ],
      "source": [
        "# TODO - Put both of them in a list called `list_of_dictionaries`\n",
        "list_of_dictionaries = [dict_1, dict_2]\n",
        "print(list_of_dictionaries)"
      ]
    },
    {
      "cell_type": "markdown",
      "id": "742c57e6",
      "metadata": {
        "id": "742c57e6"
      },
      "source": [
        "#### 3. Now index that list of dictionaries to find the last letter of the first skill of the last dictionary\n",
        "\n",
        "So, if you have a list of dictionaries like this:\n",
        "\n",
        "```python\n",
        "list_of_dictionaries = [\n",
        "    {\n",
        "        'name': 'John',\n",
        "        'skills': ['Python', 'JavaScript', 'HTML']\n",
        "    },\n",
        "    {\n",
        "        'name': 'Jane',\n",
        "        'skills': ['Python', 'JavaScript', 'CSS']\n",
        "    }\n",
        "]\n",
        "```\n",
        "\n",
        "The last letter of the first skill of the last dictionary would be `n`"
      ]
    },
    {
      "cell_type": "code",
      "execution_count": 11,
      "id": "53e105d2",
      "metadata": {
        "id": "53e105d2",
        "outputId": "6f48977f-623d-4b49-ea41-cf22199a76be",
        "colab": {
          "base_uri": "https://localhost:8080/"
        }
      },
      "outputs": [
        {
          "output_type": "stream",
          "name": "stdout",
          "text": [
            "e\n"
          ]
        }
      ],
      "source": [
        "# TODO - Now index that list of dictionaries to find the last letter of the first skill of the last dictionary.\n",
        "print(list_of_dictionaries[1]['skills'][0][-1])"
      ]
    },
    {
      "cell_type": "markdown",
      "id": "6d8cd9fb",
      "metadata": {
        "id": "6d8cd9fb"
      },
      "source": [
        "#### 4. Create a list comprehension which maps that list to a list of the length of names. Assign it to a variable called `name_lengths`.\n",
        "\n",
        "So, if you have a list of dictionaries like this:\n",
        "\n",
        "```python\n",
        "list_of_dictionaries = [\n",
        "    {\n",
        "        'name': 'John',\n",
        "        'skills': ['Python', 'JavaScript', 'HTML']\n",
        "    },\n",
        "    {\n",
        "        'name': 'Mayer',\n",
        "        'skills': ['Python', 'JavaScript', 'CSS']\n",
        "    }\n",
        "]\n",
        "```\n",
        "\n",
        "The result would be `[4, 5]` (because the length of `John` is 4 and the length of `Mayer` is 5)"
      ]
    },
    {
      "cell_type": "code",
      "execution_count": 12,
      "id": "d392e5ab",
      "metadata": {
        "id": "d392e5ab",
        "outputId": "8a3fbc1f-d475-4917-ce6a-ef7234a718ca",
        "colab": {
          "base_uri": "https://localhost:8080/"
        }
      },
      "outputs": [
        {
          "output_type": "stream",
          "name": "stdout",
          "text": [
            "[7, 7]\n"
          ]
        }
      ],
      "source": [
        "# TODO - Create a list comprehension which maps that list to a list of the length of names. Assign it to a variable called `name_lengths`.\n",
        "name_lengths = [len(dictionary['name']) for dictionary in list_of_dictionaries]\n",
        "print(name_lengths)"
      ]
    },
    {
      "cell_type": "markdown",
      "id": "b58bf91c",
      "metadata": {
        "id": "b58bf91c"
      },
      "source": [
        "#### 5. Add that list together to get the total number of characters in all of the names\n",
        "\n",
        "So, if you have a list of dictionaries like this:\n",
        "\n",
        "```python\n",
        "list_of_dictionaries = [\n",
        "    {\n",
        "        'name': 'John',\n",
        "        'skills': ['Python', 'JavaScript', 'HTML']\n",
        "    },\n",
        "    {\n",
        "        'name': 'Mayer',\n",
        "        'skills': ['Python', 'JavaScript', 'CSS']\n",
        "    }\n",
        "]\n",
        "```\n",
        "\n",
        "The result would be `9` (because the length of `John` is 4 and the length of `Mayer` is 5, so 4 + 5 = 9)"
      ]
    },
    {
      "cell_type": "code",
      "execution_count": 14,
      "id": "4409b00d",
      "metadata": {
        "id": "4409b00d",
        "outputId": "5196188a-eff0-4427-e961-078a341f79a7",
        "colab": {
          "base_uri": "https://localhost:8080/"
        }
      },
      "outputs": [
        {
          "output_type": "stream",
          "name": "stdout",
          "text": [
            "7 + 7 = 14\n"
          ]
        }
      ],
      "source": [
        "# TODO - add the lengths together\n",
        "print(f'{name_lengths[0]} + {name_lengths[1]} = {name_lengths[0] + name_lengths[1]}')"
      ]
    }
  ],
  "metadata": {
    "kernelspec": {
      "display_name": "huggingface1",
      "language": "python",
      "name": "python3"
    },
    "language_info": {
      "codemirror_mode": {
        "name": "ipython",
        "version": 3
      },
      "file_extension": ".py",
      "mimetype": "text/x-python",
      "name": "python",
      "nbconvert_exporter": "python",
      "pygments_lexer": "ipython3",
      "version": "3.10.8"
    },
    "colab": {
      "provenance": [],
      "include_colab_link": true
    }
  },
  "nbformat": 4,
  "nbformat_minor": 5
}
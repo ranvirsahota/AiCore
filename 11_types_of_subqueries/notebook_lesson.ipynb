{
  "cells": [
    {
      "cell_type": "markdown",
      "metadata": {
        "id": "view-in-github",
        "colab_type": "text"
      },
      "source": [
        "<a href=\"https://colab.research.google.com/github/ranvirsahota/AiCore/blob/14-advanced-sql/11_types_of_subqueries/notebook_lesson.ipynb\" target=\"_parent\"><img src=\"https://colab.research.google.com/assets/colab-badge.svg\" alt=\"Open In Colab\"/></a>"
      ]
    },
    {
      "cell_type": "markdown",
      "metadata": {
        "id": "vKYVzw0LC70X"
      },
      "source": [
        "\n",
        "<h1 style=\"color: rgb(241, 90, 36)\"><img src=\"https://github.com/AI-Core/Content-Public/blob/main/Content/units/Data-Handling/3.%20SQL/14.%20Types%20of%20Subqueries/images/SQLIcon.png?modified=23223&raw=1\" width=80px height=80px style=\"vertical-align: middle;\"> Types of Subqueries</h2>\n",
        "\n",
        "There are various types of subqueries that can be used to get the results you want.\n",
        "\n",
        "<h3 style=\"color: rgb(241, 90, 36)\"> Single row and scalar subqueries</h3>\n",
        "\n",
        "These types of subqueries either return a **single row** or *scalar* value. Some common uses for them are:\n",
        "\n",
        "- Updating, deleting or inserting data based on the row returned by the subquery\n",
        "- Returning a **scalar** value which can be used as a comparison in your `HAVING` and `WHERE` statements\n",
        "- Setting a default value for columns in your `SELECT` statement in the case of a `NULL`\n",
        "- Updating a single value in your table\n",
        "\n",
        "Let's look at some examples. Imagine we wanted to get all films from the `film` table which have a greater than average `runtime`. We could do so with the following query:\n",
        "\n",
        ">All example code will be run on the **pagila** database, so make sure you have it available to run the code in this notebook."
      ]
    },
    {
      "cell_type": "code",
      "execution_count": null,
      "metadata": {
        "vscode": {
          "languageId": "sql"
        },
        "id": "9FuXJlpPC70Z"
      },
      "outputs": [],
      "source": [
        "SELECT title,\n",
        "       length\n",
        "FROM\n",
        "    film\n",
        "WHERE\n",
        "    length >\n",
        "    (\n",
        "        SELECT AVG(length)\n",
        "        FROM film\n",
        "    )\n",
        "ORDER BY\n",
        "    length DESC;"
      ]
    },
    {
      "cell_type": "markdown",
      "metadata": {
        "id": "_dnDODvSC70a"
      },
      "source": [
        "Which returns all movies with a `length` greater than the **average** runtime, note here our subquery:"
      ]
    },
    {
      "cell_type": "code",
      "execution_count": null,
      "metadata": {
        "vscode": {
          "languageId": "sql"
        },
        "id": "rUndDbqiC70a"
      },
      "outputs": [],
      "source": [
        "(\n",
        "    SELECT AVG(length)\n",
        "    FROM film\n",
        ");"
      ]
    },
    {
      "cell_type": "markdown",
      "metadata": {
        "id": "w_U2lHejC70a"
      },
      "source": [
        "Returns a scalar value `115.272`. Since subqueries are evaluated inside out, imagine the `WHERE` statement is evaluated, then it reads:\n",
        "\n",
        "`WHERE length > 115.272`\n",
        "\n",
        "So it's filtering the table for rows where `length > 115.272`. All the usual **comparison operators** would have worked here for a scalar subquery `<, >, =`, `>=`, `<=` or `<>`. Ordering the data we get the following result:\n",
        "\n",
        "<img src='https://github.com/AI-Core/Content-Public/blob/main/Content/units/Data-Handling/3.%20SQL/14.%20Types%20of%20Subqueries/images/average_length_subquery.png?modified=343232&raw=1'>\n",
        "\n",
        "Now what if we wanted to display the **average length** alongside the `length` column to visually validate our data. Then we could actually create a new column based on a subquery inside the `SELECT` statement."
      ]
    },
    {
      "cell_type": "code",
      "execution_count": null,
      "metadata": {
        "vscode": {
          "languageId": "sql"
        },
        "id": "N5lJpYI1C70a"
      },
      "outputs": [],
      "source": [
        "SELECT title,\n",
        "       length,\n",
        "       (\n",
        "            SELECT ROUND(AVG(length)) AS average_film_length\n",
        "            FROM film\n",
        "       )\n",
        "FROM\n",
        "    film\n",
        "WHERE\n",
        "    length >\n",
        "    (\n",
        "        SELECT AVG(length)\n",
        "        FROM film\n",
        "    )\n",
        "ORDER BY\n",
        "    length;"
      ]
    },
    {
      "cell_type": "markdown",
      "metadata": {
        "id": "4ukBTIO7C70b"
      },
      "source": [
        "Returning the results:\n",
        "\n",
        "<img src='https://github.com/AI-Core/Content-Public/blob/main/Content/units/Data-Handling/3.%20SQL/14.%20Types%20of%20Subqueries/images/scalar_sub_select.png?modified=32232&raw=1'>\n",
        "\n",
        "The `length` column has been sorted in **descending** order this time, to show that all movies in the resultant query are in fact over the **average** length.\n",
        "\n",
        "> So we can actually use subqueries in `SELECT` statements to generate new columns if they return a scalar value.\n",
        "\n",
        "We can also use a subquery in the `HAVING` statement to filter the data:"
      ]
    },
    {
      "cell_type": "code",
      "execution_count": null,
      "metadata": {
        "vscode": {
          "languageId": "sql"
        },
        "id": "D8OTRcccC70b"
      },
      "outputs": [],
      "source": [
        "SELECT AVG(length) AS film_rating_average_length,\n",
        "       rating\n",
        "FROM\n",
        "    film\n",
        "GROUP BY\n",
        "    rating\n",
        "HAVING\n",
        "    AVG(length) >\n",
        "    (\n",
        "        SELECT AVG(length)\n",
        "        FROM film\n",
        "    );"
      ]
    },
    {
      "cell_type": "markdown",
      "metadata": {
        "id": "VrrvP1SfC70b"
      },
      "source": [
        "Here we've filtered the results after the `GROUP BY` statement using the `HAVING` statement. Let's group the films by `rating` and then determine which `rating`s have a higher than average `replacement_cost`."
      ]
    },
    {
      "cell_type": "code",
      "execution_count": null,
      "metadata": {
        "vscode": {
          "languageId": "sql"
        },
        "id": "HoozVe02C70b"
      },
      "outputs": [],
      "source": [
        "SELECT rating,\n",
        "       ROUND(AVG(replacement_cost), 2) AS avg_rating_replacement_cost,\n",
        "       (\n",
        "            SELECT ROUND(AVG(replacement_cost),2) AS avg_film_replacement_cost\n",
        "            FROM film\n",
        "       )\n",
        "FROM\n",
        "    film\n",
        "GROUP BY\n",
        "    rating\n",
        "HAVING\n",
        "    AVG(replacement_cost) >\n",
        "    (\n",
        "        SELECT AVG(replacement_cost)\n",
        "        FROM film\n",
        "    );"
      ]
    },
    {
      "cell_type": "markdown",
      "metadata": {
        "id": "UCc8eoHNC70c"
      },
      "source": [
        "We've used another subquery to create a column with the average `replacement_cost` of all movies, so we can validate the data. In the `HAVING` statement we're checking that the average `replacement_cost` for that specific rating is greater than the average `replacement_cost` across all movies. This gives the following results:\n",
        "\n",
        "<img src='https://github.com/AI-Core/Content-Public/blob/main/Content/units/Data-Handling/3.%20SQL/14.%20Types%20of%20Subqueries/images/avg_replacement_cost.png?modified=204524&raw=1'>\n",
        "\n",
        "<h3 style=\"color: rgb(241, 90, 36)\"> Multiple row subquery</h3>\n",
        "\n",
        "Subqueries that return multiple rows of data to an **outside query** are called *multiple-row subqueries*. These are great for targeting a **subsets** of the data. They can be used in the `SELECT`, `FROM`, `WHERE` and `HAVING` just like *single row subqueries*. They can't be used with **comparison operators**, unless preceded with one of the **keywords** `ANY`, `ALL`, `IN` or `NOT IN`.\n",
        "\n",
        "Let's imagine we want to check which actors appeared in the film `ACE GOLDFINGER` in the `film` table, which has `film_id = 2`. We could do this by joining the two tables and then filtering the data in the `WHERE` statement. Or we could use a subquery to get the data:\n"
      ]
    },
    {
      "cell_type": "code",
      "execution_count": null,
      "metadata": {
        "vscode": {
          "languageId": "sql"
        },
        "id": "VgkFWZhQC70c"
      },
      "outputs": [],
      "source": [
        "SELECT actor_id,\n",
        "       first_name,\n",
        "       last_name\n",
        "FROM\n",
        "    actor\n",
        "WHERE\n",
        "    actor_id IN\n",
        "    (\n",
        "        SELECT actor_id\n",
        "        FROM film_actor\n",
        "        WHERE film_id = 2\n",
        "    );"
      ]
    },
    {
      "cell_type": "markdown",
      "metadata": {
        "id": "N6AC_7N6C70c"
      },
      "source": [
        "First we evaluate the inner query which selects all rows from the `film_actor` table where the `film_id = 2`. This should give us a **subset** of the `film_actor` table since there are multiple rows meeting the condition. You can check this by running the subquery as its own query, it should produce the following result:\n"
      ]
    },
    {
      "cell_type": "markdown",
      "metadata": {
        "id": "aHPf9N-7C70c"
      },
      "source": [
        "\n",
        "<img src='https://github.com/AI-Core/Content-Public/blob/main/Content/units/Data-Handling/3.%20SQL/14.%20Types%20of%20Subqueries/images/multi_row_subquery_run.png?modified=234324&raw=1'>\n",
        "\n",
        "So after the subquery is evaluated, the `WHERE` statement would then become `WHERE actor_id IN (19, 85, 90, 160)` which allows us to produce the final result.\n",
        "\n",
        "<img src='https://github.com/AI-Core/Content-Public/blob/main/Content/units/Data-Handling/3.%20SQL/14.%20Types%20of%20Subqueries/images/subset_filter_multi_row.png?modified=23424&raw=1'>\n",
        "\n",
        "Ideally, we would like to `SELECT` the `film_id` column to be part of the final result, so we can verify the accuracy of the results. Unfortunately, the `film_id` column exists in the `film_actor` table, which the subquery selects from and does not exist in `actor` table used by the **outer query**.\n",
        "\n",
        "<h4 style=\"color: rgb(241, 90, 36)\"> ANY, ALL, IN, NOT IN</h4>\n",
        "\n",
        "`ANY`, `ALL`, `IN`, `NOT IN` can be used in conjunction with a **comparison operator**. In all cases the subquery must return **at least one column** to be used with these subquery expressions. They have the following use cases:\n",
        "\n",
        "- <b style=\"color: rgb(241, 90, 36)\">ANY/SOME</b>: `ANY` or `SOME` can be used interchangeably. If the evaluated is `True` for any row returned by the subquery, then the statement will ultimately evaluate to `True`.\n",
        "- <b style=\"color: rgb(241, 90, 36)\">IN</b>: Evaluates to `True` if the expression matches any rows in the subquery\n",
        "- <b style=\"color: rgb(241, 90, 36)\">NOT IN</b>: Evaluates to `True` if the expression does not match any rows in the subquery\n",
        "- <b style=\"color: rgb(241, 90, 36)\">ALL</b>: The statement will evaluate to `True` if the expression matches all rows in the subquery\n"
      ]
    },
    {
      "cell_type": "code",
      "execution_count": null,
      "metadata": {
        "vscode": {
          "languageId": "sql"
        },
        "id": "F2Bp-shSC70c"
      },
      "outputs": [],
      "source": [
        "{expression} {operator} [ ALL | ANY | IN | NOT IN] (subquery)"
      ]
    },
    {
      "cell_type": "markdown",
      "metadata": {
        "id": "i10RDCdlC70c"
      },
      "source": [
        "Let's take a look at some examples:"
      ]
    },
    {
      "cell_type": "code",
      "execution_count": null,
      "metadata": {
        "vscode": {
          "languageId": "sql"
        },
        "id": "Z2GXwaQKC70c"
      },
      "outputs": [],
      "source": [
        "SELECT title,\n",
        "       release_year,\n",
        "       replacement_cost\n",
        "FROM\n",
        "    film\n",
        "WHERE\n",
        "    replacement_cost IN\n",
        "    (\n",
        "        SELECT DISTINCT(replacement_cost)\n",
        "        FROM film\n",
        "        WHERE replacement_cost < 12.99\n",
        "        AND replacement_cost > 9.99\n",
        "    );"
      ]
    },
    {
      "cell_type": "markdown",
      "metadata": {
        "id": "9Oj8Zfl1C70c"
      },
      "source": [
        "Here the subquery gets all movies with `replacement_cost` < `12.99`. If we run it on its own we get the following result:\n",
        "\n",
        "<img src='https://github.com/AI-Core/Content-Public/blob/main/Content/units/Data-Handling/3.%20SQL/14.%20Types%20of%20Subqueries/images/replacement_cost_sub.png?modified=2234&raw=1'>\n",
        "\n",
        "In the query we're using the `IN` keyword to return all movies which have one of these rental ratings."
      ]
    },
    {
      "cell_type": "code",
      "execution_count": null,
      "metadata": {
        "vscode": {
          "languageId": "sql"
        },
        "id": "COORfPh1C70d"
      },
      "outputs": [],
      "source": [
        "replacement_cost > ANY\n",
        "(\n",
        "    SELECT DISTINCT(replacement_cost)\n",
        "    FROM film\n",
        "    WHERE replacement_cost < 12.99\n",
        "    AND replacement_cost > 9.99\n",
        ");"
      ]
    },
    {
      "cell_type": "markdown",
      "metadata": {
        "id": "BGXfABHZC70d"
      },
      "source": [
        "This query is saying, if the film `replacement_cost` is greater than `ANY` of the results of the subquery, then return the movie. So that's all movies with `replacement_cost > 10.99 or 11.99` which equates to `replacement_cost >= 11.99`.\n",
        "\n",
        "> Just a small note about `IN` and `ANY`, if we had stated `replacement_cost = ANY` then this would be logically equivalent to `replacement_cost IN` and can be used interchangeably. Both statements will be checking the current row for equality against values in the subquery. Though the use of `ANY` does give you use of other operators making it the more versatile option."
      ]
    },
    {
      "cell_type": "code",
      "execution_count": null,
      "metadata": {
        "vscode": {
          "languageId": "sql"
        },
        "id": "sqvX0nlOC70d"
      },
      "outputs": [],
      "source": [
        "replacement_cost NOT IN\n",
        "(\n",
        "    SELECT DISTINCT(replacement_cost)\n",
        "    FROM film\n",
        "    WHERE replacement_cost < 12.99\n",
        "    AND replacement_cost > 9.99\n",
        ");"
      ]
    },
    {
      "cell_type": "markdown",
      "metadata": {
        "id": "v3YKIAJVC70d"
      },
      "source": [
        "This returns all movies where their replacement_cost is not one of `10.99`, `11.99`. So would return all rows where `replacement_cost < 10.99` and `replacement_cost > 11.99`."
      ]
    },
    {
      "cell_type": "code",
      "execution_count": null,
      "metadata": {
        "vscode": {
          "languageId": "sql"
        },
        "id": "eWwHFxtcC70d"
      },
      "outputs": [],
      "source": [
        "replacement_cost <= ALL\n",
        "(\n",
        "    SELECT DISTINCT(replacement_cost)\n",
        "    FROM film\n",
        "    WHERE replacement_cost < 12.99\n",
        "    AND replacement_cost > 9.99\n",
        ");"
      ]
    },
    {
      "cell_type": "markdown",
      "metadata": {
        "id": "28ZHNt6mC70d"
      },
      "source": [
        "The `ALL` keyword is checking that the current row is less or equal to **all** of `10.99 and 11.99`. The query would then return all movies with `replacement_cost <= 10.99`. Why `10.99`?  Remember with the `ALL` keyword we need the `replacement_cost` condition to be `True` for **all** conditions for the row to be returned.\n",
        "\n",
        "It's clear this condition won't return values `> 11.99`. The rows which the query returns have a `replacement_cost` value of `10.99` and `9.99`. Let's see why this is true by checking the conditions:\n",
        "\n",
        "- For `11.99`, `11.99 <= 11.99 = true` and `11.99 <= 10.99 = false` so `11.99` is not returned, since we get `False` in one case\n",
        "- For `10.99`, `10.99 <= 11.99 = true` and `10.99 <= 10.99 = true` so the `10.99` value is returned, since `True1 for all\n",
        "- For `9.99`, `9.99 <= 11.99 = true` and `9.99 <= 10.99 = true` which is also returned, since `True` for all\n",
        "\n",
        "<h3 style=\"color: rgb(241, 90, 36)\"> Multiple column subqueries</h3>\n",
        "\n",
        "*Multiple column subqueries* are named as such because the **subquery** returns multiple columns. The query is usually used to filter or sort data in the **outer query** based on the results returned by the **subquery**.\n",
        "\n",
        "An example of a **multiple column subquery** which retrieves all films with the maximum `rental_cost` and `rental_duration`:"
      ]
    },
    {
      "cell_type": "code",
      "execution_count": null,
      "metadata": {
        "vscode": {
          "languageId": "sql"
        },
        "id": "jLA3jPTUC70d"
      },
      "outputs": [],
      "source": [
        "SELECT title,\n",
        "       rental_duration,\n",
        "       rental_rate\n",
        "FROM\n",
        "    film\n",
        "WHERE\n",
        "    (rental_duration, rental_rate) IN\n",
        "    (\n",
        "        SELECT MAX(rental_duration),\n",
        "               MAX(rental_rate)\n",
        "        FROM\n",
        "            film\n",
        "    );"
      ]
    },
    {
      "cell_type": "markdown",
      "metadata": {
        "id": "tZ39PjnQC70d"
      },
      "source": [
        "The subquery returns the results:\n",
        "\n",
        "<img src='https://github.com/AI-Core/Content-Public/blob/main/Content/units/Data-Handling/3.%20SQL/14.%20Types%20of%20Subqueries/images/maximum_rental_rate.png?modified=232&raw=1'>\n",
        "\n",
        "Since our **outer query** is checking that the `rental_rate` and `rental_duration` exist within the **subquery** results, it will return all films which match those values. Which is to say the outer query is returning all results where the `rental_duration` and `rental_rate` are both at their maximum.\n",
        "\n",
        "<h3 style=\"color: rgb(241, 90, 36)\"> Correlated subqueries</h3>\n",
        "\n",
        "*Correlated subqueries* are named as such, since the output of the **subquery** depends on the results form the **outside query**, hence the two queries are **correlated**. A **correlated subquery** refers to a column which is not in the table of its `FROM` clause. These subqueries are used within the `SELECT`, `WHERE`, `HAVING` and `FROM` clauses. Let's take a look at an example of using a **correlated query** in the `SELECT` statement:"
      ]
    },
    {
      "cell_type": "code",
      "execution_count": null,
      "metadata": {
        "vscode": {
          "languageId": "sql"
        },
        "id": "RUs7G5X0C70d"
      },
      "outputs": [],
      "source": [
        "SELECT customer_id,\n",
        "       first_name,\n",
        "       last_name,\n",
        "       (\n",
        "            SELECT ROUND(AVG(amount), 2) AS average_customer_payment\n",
        "            FROM payment\n",
        "            WHERE customer.customer_id = payment.customer_id\n",
        "        )\n",
        "FROM\n",
        "    customer;"
      ]
    },
    {
      "cell_type": "markdown",
      "metadata": {
        "id": "kAcaf1wkC70d"
      },
      "source": [
        "In the `SELECT` statement we've used the subquery to return the average payment made by each customer and included this as a column in our results. We've used the subquery to get the average `amount` paid by each customer. Notice that in the `WHERE` statement of the subquery we've matched the columns on the `customer_id` from `payment` and `customer` columns. So, the **inner query** is referencing the **outer query**, this creates the **correlation** between the two tables.\n",
        "\n",
        "We could have performed the same query using a `JOIN`:"
      ]
    },
    {
      "cell_type": "code",
      "execution_count": null,
      "metadata": {
        "vscode": {
          "languageId": "sql"
        },
        "id": "w09M1FPBC70d"
      },
      "outputs": [],
      "source": [
        "SELECT customer.customer_id,\n",
        "       first_name,\n",
        "       last_name,\n",
        "       ROUND(AVG(payment.amount), 2) AS average_customer_payment\n",
        "FROM\n",
        "    customer\n",
        "INNER JOIN\n",
        "    payment ON payment.customer_id = customer.customer_id\n",
        "GROUP BY\n",
        "    customer.customer_id, first_name, last_name\n",
        "ORDER BY\n",
        "    customer_id;"
      ]
    },
    {
      "cell_type": "markdown",
      "metadata": {
        "id": "K3uUELcDC70e"
      },
      "source": [
        "With **correlated queries** you can often get the same information using a `JOIN`. In most cases a `JOIN` is more efficient, as subqueries are executed on every row of the table whereas a `JOIN` is performed once. It is rare a subquery outperforms a `JOIN` so when given the choice, try and write the statement with a `JOIN`.\n",
        "\n",
        "<h3 style=\"color: rgb(241, 90, 36)\"> Nested subqueries</h3>\n",
        "\n",
        "*Nested subqueries* are queries which are **nested** inside other subqueries. Remember that queries are executed inside out, so if you have a subquery inside another subquery, the innermost query will be executed first:"
      ]
    },
    {
      "cell_type": "code",
      "execution_count": null,
      "metadata": {
        "vscode": {
          "languageId": "sql"
        },
        "id": "weQCFcesC70e"
      },
      "outputs": [],
      "source": [
        "SELECT title,\n",
        "       description\n",
        "FROM\n",
        "    film\n",
        "WHERE\n",
        "\tfilm_id IN\n",
        "\t(\n",
        "\t\tSELECT film_id\n",
        "\t\tFROM film_actor\n",
        "\t\tWHERE actor_id IN\n",
        "\t\t(\n",
        "\t\t\tSELECT actor_id\n",
        "\t\t\tFROM actor\n",
        "\t\t\tWHERE first_name = 'CHRISTIAN'\n",
        "\t\t)\n",
        "\t);"
      ]
    },
    {
      "cell_type": "markdown",
      "metadata": {
        "id": "u_MF3PRIC70e"
      },
      "source": [
        "Let's take a look at what this **nested query** is performing, the **innermost query** is executed first:"
      ]
    },
    {
      "cell_type": "code",
      "execution_count": null,
      "metadata": {
        "vscode": {
          "languageId": "sql"
        },
        "id": "tpS9cVduC70e"
      },
      "outputs": [],
      "source": [
        "SELECT actor_id\n",
        "FROM actor\n",
        "WHERE first_name = 'CHRISTIAN'"
      ]
    },
    {
      "cell_type": "markdown",
      "metadata": {
        "id": "5n_P5ShLC70e"
      },
      "source": [
        "Returning:\n",
        "\n",
        "<img src='https://github.com/AI-Core/Content-Public/blob/main/Content/units/Data-Handling/3.%20SQL/14.%20Types%20of%20Subqueries/images/nested_christian_inner.png?modified=2232&raw=1'>\n",
        "\n",
        "The outside query then becomes:"
      ]
    },
    {
      "cell_type": "code",
      "execution_count": null,
      "metadata": {
        "vscode": {
          "languageId": "sql"
        },
        "id": "MoPV27OhC70e"
      },
      "outputs": [],
      "source": [
        "SELECT film_id\n",
        "FROM film_actor\n",
        "WHERE actor_id IN (10, 58, 61)"
      ]
    },
    {
      "cell_type": "markdown",
      "metadata": {
        "id": "d3BtiygaC70e"
      },
      "source": [
        "Which returns the results(only partial results are shown):\n",
        "\n",
        "<img src='https://github.com/AI-Core/Content-Public/blob/main/Content/units/Data-Handling/3.%20SQL/14.%20Types%20of%20Subqueries/images/nested_outer_film_id.png?modified=32423&raw=1'>"
      ]
    },
    {
      "cell_type": "markdown",
      "metadata": {
        "id": "SO-GAjHVC70e"
      },
      "source": [
        "Then finally the **outer most query** results in:"
      ]
    },
    {
      "cell_type": "code",
      "execution_count": null,
      "metadata": {
        "vscode": {
          "languageId": "sql"
        },
        "id": "ew20hOEXC70e"
      },
      "outputs": [],
      "source": [
        "SELECT title,\n",
        "       description\n",
        "FROM\n",
        "    film\n",
        "WHERE\n",
        "\tfilm_id IN (1, 9, 191, 236, ....)"
      ]
    },
    {
      "cell_type": "markdown",
      "metadata": {
        "id": "9a5bf23bC70e"
      },
      "source": [
        "This returns all movies where the actors `first_name` is `CHRISTIAN`.\n",
        "\n",
        "<h3 style=\"color: rgb(241, 90, 36)\"> Derived tables</h3>\n",
        "\n",
        "A *derived table* is a table which is derived from an expression in the `FROM` clause of a SQL query. **Derived tables** can be useful for applying SQL logic to a **subset** or **aggregations** of a table. One important thing to remember when creating **derived tables** is, they need to have an aliases, such that they can be referenced in the outside query. An example of a query using a **derived table**:"
      ]
    },
    {
      "cell_type": "code",
      "execution_count": null,
      "metadata": {
        "vscode": {
          "languageId": "sql"
        },
        "id": "1T5EVSKMC70j"
      },
      "outputs": [],
      "source": [
        "SELECT ROUND(AVG(payment_sums.sum_of_payments), 2) AS average_sum_of_payments\n",
        "FROM\n",
        "    (\n",
        "        SELECT SUM(amount) AS sum_of_payments\n",
        "        FROM\n",
        "            payment\n",
        "        GROUP BY\n",
        "            customer_id\n",
        "    ) AS payment_sums"
      ]
    },
    {
      "cell_type": "markdown",
      "metadata": {
        "id": "pgG-HwCNC70j"
      },
      "source": [
        "Here the subquery derives a table from the `payments` table, grouping all the `customer_id`'s and summing all their payments. Notice the subquery table is also aliased as `payment_sums`, which the **outside query** can then reference to get the average of all customer payments.\n",
        "\n",
        "If we evaluate the **inside query** and add the `customer_id` column to it, it's clear it's summing up the total payments for all customers:"
      ]
    },
    {
      "cell_type": "code",
      "execution_count": null,
      "metadata": {
        "vscode": {
          "languageId": "sql"
        },
        "id": "Xb7kclYWC70j"
      },
      "outputs": [],
      "source": [
        "\n",
        "SELECT SUM(amount) AS sum_of_payments,\n",
        "       customer_id\n",
        "FROM\n",
        "    payment\n",
        "GROUP BY\n",
        "    customer_id;"
      ]
    },
    {
      "cell_type": "markdown",
      "metadata": {
        "id": "0rufXq2-C70j"
      },
      "source": [
        "Which returns the results:"
      ]
    },
    {
      "cell_type": "markdown",
      "metadata": {
        "id": "6GRyuT17C70j"
      },
      "source": [
        "<img src='https://github.com/AI-Core/Content-Public/blob/main/Content/units/Data-Handling/3.%20SQL/14.%20Types%20of%20Subqueries/images/sum_of_all_payments.png?modified=2332&raw=1'>\n",
        "\n",
        "We then get the average and `ROUND` the results by referencing the table in the `SELECT` statement, `ROUND(AVG(payment_sums.sum_of_payments), 2)` finalising the query:\n",
        "\n",
        "<img src='https://github.com/AI-Core/Content-Public/blob/main/Content/units/Data-Handling/3.%20SQL/14.%20Types%20of%20Subqueries/images/derived_table_results.png?modified=3234&raw=1'>\n",
        "\n",
        "## Key Takeaways\n",
        "\n",
        "- You can often get the same information using a `JOIN` instead of a **correlated subquery**\n",
        "- When deciding which subquery you need it can be helpful to think of what information you need to return. Is it a scalar value, multiple rows?\n",
        "- Using a **multiple row subquery** gives you access to the powerful `ANY`, `ALL`, `NOT IN` and `IN` operators\n",
        "- Using a subquery to create a **derived table** can be a quick way to begin performing a query on a subset of data\n",
        "- Continually nesting subqueries can be a great way to target incredibly specific data\n",
        "\n",
        "\n"
      ]
    }
  ],
  "metadata": {
    "kernelspec": {
      "display_name": "python39",
      "language": "python",
      "name": "python3"
    },
    "language_info": {
      "name": "python",
      "version": "3.9.16"
    },
    "vscode": {
      "interpreter": {
        "hash": "0525e202b6fd218605773abe3f41f1b2677deb6d490102468c00606d82fa7893"
      }
    },
    "colab": {
      "provenance": [],
      "include_colab_link": true
    }
  },
  "nbformat": 4,
  "nbformat_minor": 0
}
{
  "cells": [
    {
      "cell_type": "markdown",
      "metadata": {
        "colab_type": "text",
        "id": "view-in-github"
      },
      "source": [
        "<a href=\"https://colab.research.google.com/github/ranvirsahota/AiCore/blob/16-azure-essentials/6_azure_sql_database.ipynb\" target=\"_parent\"><img src=\"https://colab.research.google.com/assets/colab-badge.svg\" alt=\"Open In Colab\"/></a>"
      ]
    },
    {
      "cell_type": "markdown",
      "metadata": {
        "id": "dYP5-f7ycgUu"
      },
      "source": [
        "# Azure SQL Database"
      ]
    },
    {
      "cell_type": "markdown",
      "metadata": {
        "id": "QE_XyXRXcgUw"
      },
      "source": [
        "*Azure SQL Database* is a fully-managed, Platform-as-a-Service (PaaS) offering within Azure, built on the foundation of *Azure SQL Server*. Azure SQL Server is a cloud-based implementation of Microsoft SQL Server, a widely-used relational database management system (RDBMS). It provides a fully-managed environment for hosting SQL databases in the cloud, eliminating the need for on-premises hardware and maintenance.\n",
        "\n",
        "Azure SQL Database shares the same core capabilities as Azure SQL Server but adds additional benefits by abstracting away most of the infrastructure management tasks."
      ]
    },
    {
      "cell_type": "markdown",
      "metadata": {
        "id": "N96gSMQMcgUw"
      },
      "source": [
        "## Create an Azure SQL Database\n",
        "\n",
        "Let's begin by creating an Azure SQL Database. To do this start by typing **SQL databases** in the search bar of the Azure portal. Select its corresponding page, this will redirect you to the following page:\n",
        "\n",
        "<p align=\"center\">\n",
        "    <img src=\"https://github.com/AI-Core/Content-Public/blob/main/Content/units/Cloud-and-DevOps/11.%20Azure%20Essentials/6.%20Azure%20SQL%20Database/images/SQLDatabases.png?raw=1\" height=\"550\" width=\"1000\"/>\n",
        "</p>\n",
        "\n",
        "To create a SQL database click on the **Create** button, and begin filling in the required information. For **Subscription** we will select the subscription associated with our account, and for **Resource group** we will create a new one called `my-database-rg`.\n",
        "\n",
        "Next we will define the database name under the **Database details** pane. We need to set up the server that's going to be the underlying infrastructure of our database. Currently, we don't have any server existing in our subscription:\n",
        "\n",
        "<p align=\"center\">\n",
        "    <img src=\"https://github.com/AI-Core/Content-Public/blob/main/Content/units/Cloud-and-DevOps/11.%20Azure%20Essentials/6.%20Azure%20SQL%20Database/images/EmptyServerList.png?raw=1\" height=\"600\" width=\"1000\"/>\n",
        "</p>"
      ]
    },
    {
      "cell_type": "markdown",
      "metadata": {
        "id": "L5k_NZFtcgUx"
      },
      "source": [
        "### Create a SQL Database Server\n",
        "\n",
        "Before you can create an Azure SQL database, you need to create a new SQL database server. A database server is a logical container for your databases, and provides a centralized location to manage your database resources. We will create a new server using the **Create new** button.\n",
        "\n",
        "When creating a new SQL database server in Azure, you will need to provide a server name. The server name is a unique identifier for your database server that is used to access the server and the databases within it. The server name can be up to 63 characters in length and must contain only letters, numbers, and hyphens.\n",
        "\n",
        "> The server name must be globally unique across all Azure SQL database servers, so you may need to try a few different names before finding one that is available.\n",
        "\n",
        "The next thing you will need to do is select the location where the server will be created. As usual, make sure to select the region that's geographically closest to you.\n",
        "\n",
        "#### SQL Database Server Authentication Methods\n",
        "\n",
        "Azure SQL Database supports two primary authentication methods: Microsoft Entra ID authentication and SQL Server authentication. Here's a brief overview of each method:\n",
        "\n",
        "- *Microsoft Entra Authentication*: Microsoft Entra ID is an identity and access management service that provides a centralized location for managing user identities and access to Azure resources. With Microsoft Entra authentication, users can log in to Azure SQL Database using their Microsoft Entra credentials, eliminating the need for separate SQL Server credentials. We will cover Microsoft Entra ID in more detail in a future lesson.\n",
        "\n",
        "- *SQL Server Authentication*: SQL Server authentication is a traditional authentication method that uses a username and password to authenticate to Azure SQL Database\n",
        "\n",
        "For the purpose of this example, we will select **Use SQL authentication** as the **Authentication method** for our server, and will create a user and password for login.\n",
        "\n",
        "<p align=\"center\">\n",
        "    <img src=\"https://github.com/AI-Core/Content-Public/blob/main/Content/units/Cloud-and-DevOps/11.%20Azure%20Essentials/6.%20Azure%20SQL%20Database/images/CreateServer2.png?raw=1\" height=\"350\" width=\"900\"/>\n",
        "</p>\n",
        "\n",
        "Finally, click **OK** to create the server, this will redirect you back to the **Create SQL Database** page. The newly created server will now be visible in the servers list.\n",
        "\n",
        "### Configure Compute and Storage\n",
        "\n",
        "Once redirected to the **Create SQL Database** page, we can configure the database to the correct size that matches our workload, by clicking **Configure database** under the **Compute + storage** pane.\n",
        "\n",
        "> Azure SQL Database offers different tiers of service for different workloads and performance requirements. One of the options for storage tier is **Basic Compute**, which provides a low-cost option for small databases or those with modest performance needs. Basic Compute is a good option for test and development environments, small-scale applications, and low-traffic websites, like in this case. Select **Basic** from the service tier list and then click **Apply** to apply the changes.\n",
        "\n",
        "<p align=\"center\">\n",
        "    <img src=\"https://github.com/AI-Core/Content-Public/blob/main/Content/units/Cloud-and-DevOps/11.%20Azure%20Essentials/6.%20Azure%20SQL%20Database/images/BasicConfiguration.png?raw=1\" height=\"500\" width=\"1000\"/>\n",
        "</p>\n",
        "\n",
        "\n",
        "Finally, to create the database click **Review + create**, and once the validations have passed click **Create**. The deployment might take a couple of minutes to complete.\n",
        "\n",
        "Once deployment is completed click **Go to resource** to access the database overview page.\n",
        "\n",
        "<p align=\"center\">\n",
        "    <img src=\"https://github.com/AI-Core/Content-Public/blob/main/Content/units/Cloud-and-DevOps/11.%20Azure%20Essentials/6.%20Azure%20SQL%20Database/images/DatabaseOverview.png?raw=1\" height=\"550\" width=\"1000\"/>\n",
        "</p>"
      ]
    },
    {
      "cell_type": "markdown",
      "metadata": {
        "id": "RIF27eAHcgUx"
      },
      "source": [
        "## Connect to an Azure SQL Database using VSCode\n",
        "\n",
        "We are going to connect to our Azure SQL Database via VSCode. To connect to Azure SQL Database from VSCode, you will need to install the *SQL Server extension*. You can do this by following these steps:\n",
        "\n",
        "- Open VSCode and click on the **Extensions** icon on the left-hand side of the window\n",
        "- Search for `SQL Server` in the search bar and install the extension\n",
        "\n",
        "<p align=\"center\">\n",
        "    <img src=\"https://github.com/AI-Core/Content-Public/blob/main/Content/units/Cloud-and-DevOps/11.%20Azure%20Essentials/6.%20Azure%20SQL%20Database/images/SQLServerExtension.png?raw=1\" height=\"600\" width=\"1000\"/>\n",
        "</p>\n",
        "\n",
        "Once you have installed the SQL Server extension, you can open it by following these steps:\n",
        "\n",
        "- Click on the **SQL Server** icon on the left-hand side of the window\n",
        "- Click on the **Add Connection** button to open the Connection window\n",
        "\n",
        "<p align=\"center\">\n",
        "    <img src=\"https://github.com/AI-Core/Content-Public/blob/main/Content/units/Cloud-and-DevOps/11.%20Azure%20Essentials/6.%20Azure%20SQL%20Database/images/SQLServerCreateConnection.png?raw=1\" height=\"600\" width=\"1000\"/>\n",
        "</p>\n",
        "\n",
        "Once you have opened the Connection window, you can connect to your Azure SQL Database. To do this, follow these steps:\n",
        "\n",
        "- Enter the server name in the **Server name** field. You can find this under **Server name** in your SQL Database Azure overview page.\n",
        "\n",
        "<p align=\"center\">\n",
        "    <img src=\"https://github.com/AI-Core/Content-Public/blob/main/Content/units/Cloud-and-DevOps/11.%20Azure%20Essentials/6.%20Azure%20SQL%20Database/images/ServerName.png?raw=1\" height=\"550\" width=\"1000\"/>\n",
        "</p>\n",
        "\n",
        "- Copy this to your clipboard and the paste it in the **Server name** field in VSCode, and then press **Enter**.\n",
        "\n",
        "<p align=\"center\">\n",
        "    <img src=\"https://github.com/AI-Core/Content-Public/blob/main/Content/units/Cloud-and-DevOps/11.%20Azure%20Essentials/6.%20Azure%20SQL%20Database/images/ServerNameVSCode.png?raw=1\" height=\"600\" width=\"1000\"/>\n",
        "</p>"
      ]
    },
    {
      "cell_type": "markdown",
      "metadata": {
        "id": "zTlK9XuhcgUx"
      },
      "source": [
        "- You will be asked to optionally choose a name for this database. Choose the desired one and then press **Enter**\n",
        "- Select the **Authentication Type**, in this case it should be **SQL Login**, the same as for your Azure SQL Database, and click **Enter** again\n",
        "- Enter your username and password in the **User name** and **Password** fields, respectively. You can choose to save your password at this point for future logins.\n",
        "- Next, you will be asked to choose a display name for this connection, this step is optional. Once you have set this one press **Enter**\n",
        "\n",
        "At this point, you will likely encounter the following error message `Connection denied due to public access being off`, this means that public access to your database is currently disabled.\n",
        "\n",
        "<p align=\"center\">\n",
        "    <img src=\"https://github.com/AI-Core/Content-Public/blob/main/Content/units/Cloud-and-DevOps/11.%20Azure%20Essentials/6.%20Azure%20SQL%20Database/images/PublicAccessDenied.png?raw=1\" height=\"650\" width=\"1000\"/>\n",
        "</p>\n",
        "\n",
        "By default, Azure SQL Database is configured to deny all public connections. To connect to your database from outside of Azure, you will need to enable public access by configuring a firewall rule that allows traffic from your client IP address. To do this, first navigate to your Azure SQL Database in the Azure portal. Click on the **Set server firewall** tab on the top middle of the screen.\n",
        "\n",
        "Public network access to a SQL Server instance is controlled by the **Public Network Access** setting. This setting determines whether traffic from the public internet is allowed to reach your SQL Server instance."
      ]
    },
    {
      "cell_type": "markdown",
      "metadata": {
        "id": "MAfTLZumcgUx"
      },
      "source": [
        "By default, the **Public Network Access** setting is set to **Deny**, which means that only traffic from within the Azure network is allowed to reach your SQL Server instance. To allow traffic from the public internet to reach your SQL Server instance, you can change the **Public Network Access** setting to **Selected networks**.\n",
        "\n",
        "<p align=\"center\">\n",
        "    <img src=\"https://github.com/AI-Core/Content-Public/blob/main/Content/units/Cloud-and-DevOps/11.%20Azure%20Essentials/6.%20Azure%20SQL%20Database/images/AllowPublicAccess.png?raw=1\" height=\"700\" width=\"1050\"/>\n",
        "</p>\n",
        "\n",
        "Before adding our own IP address to the firewall, we need press **Save**, so Azure SQL remembers we want to allow public access to this server.\n",
        "\n",
        "Now, we can go back to VSCode, and repeat the login process in the **Add Connection** tab, just like we have done before: using the server name, admin name and password. You will now be prompted to the following message:\n",
        "\n",
        "<p align=\"center\">\n",
        "    <img src=\"https://github.com/AI-Core/Content-Public/blob/main/Content/units/Cloud-and-DevOps/11.%20Azure%20Essentials/6.%20Azure%20SQL%20Database/images/AddAccount.png?raw=1\" height=\"650\" width=\"1000\"/>\n",
        "</p>\n",
        "\n",
        "This means that VSCode cannot authenticate with Azure and therefore cannot connect to your database. To resolve this error, you need to sign in to Azure using an Azure account. To do so, click **Add an Account**, this will redirect you to the login page of the Azure portal. Once you have successfully logged in, you should see the following page:\n",
        "\n",
        "<p align=\"center\">\n",
        "    <img src=\"https://github.com/AI-Core/Content-Public/blob/main/Content/units/Cloud-and-DevOps/11.%20Azure%20Essentials/6.%20Azure%20SQL%20Database/images/AzureLogIn.png?raw=1\" height=\"600\" width=\"1000\"/>\n",
        "</p>"
      ]
    },
    {
      "cell_type": "markdown",
      "metadata": {
        "id": "z39DE-k1cgUy"
      },
      "source": [
        "\n",
        "Now that our Azure account has been added, we can follow the login process in the **Add Connection** tab again. This time, we will encounter the following message:\n",
        "\n",
        "<p align=\"center\">\n",
        "    <img src=\"https://github.com/AI-Core/Content-Public/blob/main/Content/units/Cloud-and-DevOps/11.%20Azure%20Essentials/6.%20Azure%20SQL%20Database/images/CreateFirewallRule.png?raw=1\" height=\"650\" width=\"1000\"/>\n",
        "</p>\n",
        "\n",
        "This means that your client IP address is not allowed to access the database server. Remember that earlier we allowed public access to selected networks, but have not specified which networks. To resolve this error, you need to create a firewall rule that allows traffic from your client IP address, and you can do so by clicking **Create Firewall Rule**. This will open a pop-up message in VSCode.\n",
        "\n",
        "<p align=\"center\">\n",
        "    <img src=\"https://github.com/AI-Core/Content-Public/blob/main/Content/units/Cloud-and-DevOps/11.%20Azure%20Essentials/6.%20Azure%20SQL%20Database/images/StartIP.png?raw=1\" height=\"650\" width=\"1000\"/>\n",
        "</p>\n",
        "\n",
        "When you configure a firewall rule for your Azure SQL Database server, you need to specify the *start IP* and *stop IP* addresses. These values determine the range of IP addresses that are allowed to access your database server. The start IP address is the first IP address in the range of IP addresses that are allowed to access your database server, while the stop IP address is the last IP address in the range that are allowed to access the server. VSCode will automatically infer your IP address, all you have to do is press **Enter** for both start and stop IP. Once this step is done you will get a new message indicating that the firewall rule was successfully created.\n",
        "\n",
        "Finally, we can go back to the login process in the **Add Connection** tab. You should now be able to successfully login. If you run into another error, such as `Cannot open server`, just try again as the security rule might take a few seconds to be updated. Once logged in, you should see the following in VSCode:\n",
        "\n",
        "<p align=\"center\">\n",
        "    <img src=\"https://github.com/AI-Core/Content-Public/blob/main/Content/units/Cloud-and-DevOps/11.%20Azure%20Essentials/6.%20Azure%20SQL%20Database/images/SuccessfulConnection.png?raw=1\" height=\"650\" width=\"1000\"/>\n",
        "</p>"
      ]
    },
    {
      "cell_type": "markdown",
      "metadata": {
        "id": "zIh3Nb3fcgUy"
      },
      "source": [
        "## Loading and Querying Data\n",
        "\n",
        "Once you have established a connection between Azure SQL Database and the SQL Server extension in VSCode, you can use this connection to load and query any database. In this example, we will use a table from the `Pagila` database, a sample database that is used for testing and demonstration purposes, into our Azure SQL database using `sqlachemy`. Download this table in `csv` format from [here](https://aicore-portal-public-prod-307050600709.s3.eu-west-1.amazonaws.com/lesson_files/film_actor_pagila.csv).\n",
        "\n",
        "Before sending data from a local `csv` file to Azure SQL Database using `sqlachemy`, you need to install the required packages. Install the following packages: `sqlalchemy`, `pandas` and `pyodbc`. `pyodbc` is a Python library that provides an interface for connecting to various databases using an *ODBC (Open Database Connectivity)* driver. ODBC is a standard for accessing databases, regardless of the specific database management system (DBMS) being used.\n",
        "\n",
        "### Install ODBC Driver\n",
        "\n",
        "In order to connect to the Azure SQL Database, you will need to install an ODBC driver. The instructions for installing the driver may vary based on your operating system. Here are the instructions for Linux, Windows, and Mac:\n",
        "\n",
        "#### Linux\n",
        "\n",
        "1. Update the packages and upgrade the system:\n"
      ]
    },
    {
      "cell_type": "code",
      "execution_count": null,
      "metadata": {
        "id": "7-KLxi0ocgUy",
        "vscode": {
          "languageId": "shellscript"
        }
      },
      "outputs": [],
      "source": [
        "sudo apt-get update\n",
        "sudo apt-get upgrade"
      ]
    },
    {
      "cell_type": "markdown",
      "metadata": {
        "id": "8-ZdXh42cgUz"
      },
      "source": [
        "2. Install the required packages to install the ODBC driver: `sudo apt-get install -y gnupg2 curl`\n",
        "\n",
        "3. Import the public repository GPG keys: `curl https://packages.microsoft.com/keys/microsoft.asc | sudo apt-key add -`\n",
        "\n",
        "4. Register the Microsoft SQL Server Ubuntu repository: `curl https://packages.microsoft.com/config/ubuntu/20.04/prod.list | sudo tee /etc/apt/sources.list.d/msprod.list`\n",
        "\n",
        "5. Update the packages and install the ODBC driver:"
      ]
    },
    {
      "cell_type": "code",
      "execution_count": null,
      "metadata": {
        "id": "4B9iKZAAcgUz",
        "vscode": {
          "languageId": "shellscript"
        }
      },
      "outputs": [],
      "source": [
        "sudo apt-get update\n",
        "sudo apt-get install -y mssql-tools unixodbc-dev"
      ]
    },
    {
      "cell_type": "markdown",
      "metadata": {
        "id": "Z9Wq4frlcgUz"
      },
      "source": [
        "6. You need to add the `mssql-tools` and `odbcinst` directories to your `PATH` environment variable for `sqlcmd` and `odbcinst` to work properly. You can do this by adding the following lines to your `~/.bashrc` file:\n"
      ]
    },
    {
      "cell_type": "code",
      "execution_count": null,
      "metadata": {
        "id": "QUzIzL2McgUz",
        "vscode": {
          "languageId": "shellscript"
        }
      },
      "outputs": [],
      "source": [
        "export PATH=\"$PATH:/opt/mssql-tools/bin\"\n",
        "export PATH=\"$PATH:/usr/local/lib:/usr/local/lib64:/usr/lib64\""
      ]
    },
    {
      "cell_type": "markdown",
      "metadata": {
        "id": "SidJTHkKcgUz"
      },
      "source": [
        "#### Windows\n",
        "\n",
        "1. Download the appropriate ODBC driver for your SQL database from the Microsoft Download Center. You can download the latest ODBC driver for SQL Server from [this link](https://go.microsoft.com/fwlink/?linkid=2223270).\n",
        "\n",
        "2. Once the download is complete, double-click on the downloaded `.msi` file to begin the installation process\n",
        "\n",
        "3. Follow the prompts in the installation wizard to complete the installation process. You can leave the default settings as they are. You might be asked to install **Visual C++ 2017 Redistributable** first before proceeding with this installation.\n",
        "\n",
        "4. Once the installation is complete, you will need to configure a data source in **Windows Tools**. You can access this from the **Control Panel**, by searching **ODBC data** in the search bar. Select **Set up ODBC data sources** 32-bit or 64-bit, depending on which application you are running. In Windows 10, you can search for **ODBC Data Sources (32-bit)** or **ODBC Data Sources (64-bit)** in the **Start** menu.\n",
        "\n",
        "5. In the **ODBC Data Source Administrator**, select the **System DSN** tab and click on the **Add** button\n",
        "\n",
        "6. Select the appropriate ODBC driver from the list of available drivers. If you have installed the latest ODBC driver for SQL Server, the driver should be named **ODBC Driver 18 for SQL Server**.\n",
        "\n",
        "7. Give your data source a name and specify the server name (the Azure Database server name). Select **With SQL Server authentication using login ID and password entered by the user** as the authentication method. Then specify the login ID and password needed to connect to the database. Leave the rest as the default settings.\n",
        "\n",
        "8. Click on the **Test Data Source** button to test the connection to your SQL database. If the connection is successful, you should see a **Connection Test Successful** message.\n",
        "\n",
        "9. Click on the **OK** button to save your data source configuration\n"
      ]
    },
    {
      "cell_type": "markdown",
      "metadata": {
        "id": "tm5vtRLecgU0"
      },
      "source": [
        "#### MacOS\n",
        "\n",
        "1. Install Homebrew (if you haven't already) by running the following command in the terminal:\n",
        "```bash\n",
        "/bin/bash -c \"$(curl -fsSL https://raw.githubusercontent.com/Homebrew/install/HEAD/install.sh)\"\n",
        "```\n",
        "\n",
        "2. Install the Microsoft ODBC Driver for SQL Server:"
      ]
    },
    {
      "cell_type": "code",
      "execution_count": null,
      "metadata": {
        "id": "-m8j9xhlcgU0",
        "vscode": {
          "languageId": "shellscript"
        }
      },
      "outputs": [],
      "source": [
        "brew tap microsoft/mssql-release https://github.com/Microsoft/homebrew-mssql-release\n",
        "brew install msodbcsql18 mssql-tools"
      ]
    },
    {
      "cell_type": "markdown",
      "metadata": {
        "id": "WVluP_VccgU0"
      },
      "source": [
        "3. Add the ODBC Driver to the path. On Mac Intel these are often the following:"
      ]
    },
    {
      "cell_type": "code",
      "execution_count": null,
      "metadata": {
        "id": "3mCXnXm8cgU0",
        "vscode": {
          "languageId": "shellscript"
        }
      },
      "outputs": [],
      "source": [
        "echo 'export PATH=\"$PATH:/opt/homebrew/bin\"' >> ~/.zshrc\n",
        "echo 'export PATH=\"$PATH:/opt/homebrew/opt/mssql-tools/bin\"' >> ~/.zshrc\n",
        "source ~/.zshrc"
      ]
    },
    {
      "cell_type": "markdown",
      "metadata": {
        "id": "TRe48TqEcgU1"
      },
      "source": [
        "Check by navigating to these folder, to ensure your installation has taken place in the same location. If you are on Mac M1 or M2, is likely the paths will be the following:"
      ]
    },
    {
      "cell_type": "code",
      "execution_count": null,
      "metadata": {
        "id": "6obSAaxfcgU1",
        "vscode": {
          "languageId": "shellscript"
        }
      },
      "outputs": [],
      "source": [
        "echo 'export PATH=\"$PATH:/opt/homebrew/Cellar/mssql-tools/17.10.1.1/bin\"' >> ~/.zshrc\n",
        "echo 'export PATH=\"$PATH:/opt/homebrew/opt/mssql-tools/bin\"' >> ~/.zshrc\n",
        "source ~/.zshrc"
      ]
    },
    {
      "cell_type": "markdown",
      "metadata": {
        "id": "vh_TVGBHcgU1"
      },
      "source": [
        "> To avoid having to run the `echo` commands each time you open a new shell, make sure to add the following lines to your `~/.zshrc` using an editor such as `nano`. For example for the Mac Intel example above, that will be:"
      ]
    },
    {
      "cell_type": "code",
      "execution_count": null,
      "metadata": {
        "id": "Xyv8EEnIcgU1",
        "vscode": {
          "languageId": "shellscript"
        }
      },
      "outputs": [],
      "source": [
        "export PATH=\"/opt/homebrew/opt/mssql-tools/bin:$PATH\"\n",
        "export PATH=\"/usr/local/Cellar/mssql-tools/18.10.1.1/bin:$PATH\""
      ]
    },
    {
      "cell_type": "markdown",
      "metadata": {
        "id": "I4GT7a3DcgU1"
      },
      "source": [
        "Make sure to modify the paths above if the files are located in a different location on your local computer.\n",
        "\n",
        "Don't forget to restart your shell by running `source ~/.zshrc` before continuing with the next steps."
      ]
    },
    {
      "cell_type": "markdown",
      "metadata": {
        "id": "Gquu9jflcgU1"
      },
      "source": [
        "4. Verify that the ODBC driver is installed: `/usr/local/bin/odbcinst -q -d -n \"ODBC Driver 18 for SQL Server\"` (normally for Mac Intel) or `/opt/homebrew/anaconda3/bin/odbcinst -q -d -n \"ODBC Driver 18 for SQL Server\"` (normally for Mac M1/M2).\n",
        "\n",
        "The path might be different for you, make sure to check this on your local machine. Another common path is `usr/local/etc/odbcinst.init`, for which you would have to run the following command instead: `/usr/local/etc/odbcinst -q -d -n \"ODBC Driver 18 for SQL Server\"`.\n",
        "\n",
        "If the ODBC driver is installed correctly, you should see output similar to the following:"
      ]
    },
    {
      "cell_type": "code",
      "execution_count": null,
      "metadata": {
        "id": "ZRzhMWLHcgU1",
        "vscode": {
          "languageId": "shellscript"
        }
      },
      "outputs": [],
      "source": [
        "[ODBC Driver 18 for SQL Server]\n",
        "Driver          = /../libmsodbcsql.18.dylib"
      ]
    },
    {
      "cell_type": "markdown",
      "metadata": {
        "id": "yetRDB5ucgU1"
      },
      "source": [
        "You might be running in the following error `odbcinst: SQLGetPrivateProfileString`. This error can occur when the ODBC driver manager is unable to locate the configuration file for the ODBC driver. You can try the following:\n",
        "\n",
        "- Check if the `odbcinst.ini` file exists in the expected location by running the command `ls /usr/local/etc/odbcinst.ini` (for Mac Intel). If you are on M1/m2 modify accordingly for the paths seen above.\n",
        "- If the file does not exist, create it by running the command `sudo touch /usr/local/etc/odbcinst.ini`\n",
        "- Edit the file by running the command `sudo nano /usr/local/etc/odbcinst.ini` and add the following lines to the file:\n"
      ]
    },
    {
      "cell_type": "code",
      "execution_count": null,
      "metadata": {
        "id": "lCF7XQOdcgU1",
        "vscode": {
          "languageId": "shellscript"
        }
      },
      "outputs": [],
      "source": [
        "[ODBC Driver 18 for SQL Server]\n",
        "Description=Microsoft ODBC Driver 18 for SQL Server\n",
        "Driver=/usr/local/lib/libmsodbcsql.17.dylib\n",
        "UsageCount=1"
      ]
    },
    {
      "cell_type": "markdown",
      "metadata": {
        "id": "z5Ai0h5PcgU1"
      },
      "source": [
        "- Save and close the file by pressing `Ctrl+X`, then `Y`, and finally `Enter`\n",
        "- Finally, run the command `odbcinst -q -d -n \"ODBC Driver 18 for SQL Server\" `to verify that the driver has been installed and configured correctly. If you still encounter the same error after following these steps, try restarting your terminal or computer and attempting the connection again."
      ]
    },
    {
      "cell_type": "markdown",
      "metadata": {
        "id": "r2oGBhyEcgU2"
      },
      "source": [
        "### Connect to the Azure SQL Database using `sqlachemy`\n",
        "\n",
        "Once the packages and ODBC driver have been installed, you can connect to the Azure SQL Database using `sqlachemy`. Here is an example code snippet that demonstrates how to create an engine and connect to the Azure SQL Database:"
      ]
    },
    {
      "cell_type": "code",
      "execution_count": 26,
      "metadata": {
        "id": "0Y31pq64cgU2"
      },
      "outputs": [],
      "source": [
        "import pyodbc\n",
        "from sqlalchemy import create_engine, text\n",
        "\n",
        "server = '<server>.database.windows.net' # replace with your Azure SQL Database server name\n",
        "database= '<database>' # replace with your Azure SQL Database name\n",
        "username = '<username>' # replace with your Azure SQL Database username\n",
        "password = '<password>' # replace with your Azure SQL Database password\n",
        "driver = '{ODBC Driver 18 for SQL Server}'\n",
        "\n",
        "# Create the connection string\n",
        "connection_string=f'Driver={driver};\\\n",
        "    Server=tcp:{server},1433;\\\n",
        "    Database={database};\\\n",
        "    Uid={username};\\\n",
        "    Pwd={password};\\\n",
        "    Encrypt=yes;\\\n",
        "    TrustServerCertificate=no;\\\n",
        "    Connection Timeout=30;'\n",
        "\n",
        "# Create the engine to connect to the database\n",
        "engine = create_engine(\"mssql+pyodbc:///?odbc_connect={}\".format(connection_string))"
      ]
    },
    {
      "cell_type": "markdown",
      "metadata": {
        "id": "ya6OpQEscgU2"
      },
      "source": [
        "> Make sure the ODBC driver version in the script above matches your local ODBC driver version, otherwise you will likely get an `InterfaceError`."
      ]
    },
    {
      "cell_type": "markdown",
      "metadata": {
        "id": "3fzx5M-rcgU2"
      },
      "source": [
        "### Load the `csv` data\n",
        "\n",
        "Once you have connected to the Azure SQL Database, you can load the data from the local `csv` file to a `Pandas` DataFrame. Here is an example code snippet that demonstrates how:"
      ]
    },
    {
      "cell_type": "code",
      "execution_count": 28,
      "metadata": {
        "id": "n4xP-uDwcgU2"
      },
      "outputs": [],
      "source": [
        "import pandas as pd\n",
        "\n",
        "df = pd.read_csv('/home/ranvir/windows_drop/film_actor_pagila.csv') # replace the `filename.csv` with the name and location of your csv file"
      ]
    },
    {
      "cell_type": "markdown",
      "metadata": {
        "id": "NqH52dHmcgU2"
      },
      "source": [
        "### Write data to the Azure SQL Database\n",
        "\n",
        "After loading the data into a DataFrame, you can write the data to the Azure SQL Database. Here is an example code snippet that demonstrates how to write data from a `Pandas` DataFrame to a SQL Server database:\n"
      ]
    },
    {
      "cell_type": "code",
      "execution_count": null,
      "metadata": {
        "id": "K49EQ5LzcgU2"
      },
      "outputs": [],
      "source": [
        "df.to_sql('film_actors', engine, if_exists='append', index=False)\n"
      ]
    },
    {
      "cell_type": "markdown",
      "metadata": {
        "id": "9Cp95eUmcgU2"
      },
      "source": [
        "In this example, `film_actors` is the name of the table in the Azure SQL Database where you want to insert the data. The `if_exists` parameter specifies what to do if the table already exists. If you want to replace the table, set if_exists to `replace`. If you want to append the data to the existing table, set `if_exists` to `append`."
      ]
    },
    {
      "cell_type": "markdown",
      "metadata": {
        "id": "hux_9DIacgU2"
      },
      "source": [
        "## Query an Azure SQL Database using VSCode\n",
        "\n",
        "Now let's look at a quick example on how to query the `film_actors` table in our Azure SQL database using `SQL Server`. To open a new query window, right-click on the server you want to connect to and select **New Query**. This will open a new query window, where you can enter your SQL query. For example, a query that selects all the data from the `film_actors` table:"
      ]
    },
    {
      "cell_type": "code",
      "execution_count": 32,
      "metadata": {
        "id": "WuKmSVtHcgU2"
      },
      "outputs": [
        {
          "data": {
            "text/html": [
              "<div>\n",
              "<style scoped>\n",
              "    .dataframe tbody tr th:only-of-type {\n",
              "        vertical-align: middle;\n",
              "    }\n",
              "\n",
              "    .dataframe tbody tr th {\n",
              "        vertical-align: top;\n",
              "    }\n",
              "\n",
              "    .dataframe thead th {\n",
              "        text-align: right;\n",
              "    }\n",
              "</style>\n",
              "<table border=\"1\" class=\"dataframe\">\n",
              "  <thead>\n",
              "    <tr style=\"text-align: right;\">\n",
              "      <th></th>\n",
              "      <th>film_id</th>\n",
              "      <th>title</th>\n",
              "      <th>description</th>\n",
              "      <th>release_year</th>\n",
              "      <th>language_id</th>\n",
              "      <th>original_language_id</th>\n",
              "      <th>rental_duration</th>\n",
              "      <th>rental_rate</th>\n",
              "      <th>length</th>\n",
              "      <th>replacement_cost</th>\n",
              "      <th>rating</th>\n",
              "      <th>last_update</th>\n",
              "      <th>special_features</th>\n",
              "      <th>fulltext</th>\n",
              "    </tr>\n",
              "  </thead>\n",
              "  <tbody>\n",
              "    <tr>\n",
              "      <th>0</th>\n",
              "      <td>1</td>\n",
              "      <td>ACADEMY DINOSAUR</td>\n",
              "      <td>A Epic Drama of a Feminist And a Mad Scientist...</td>\n",
              "      <td>2006</td>\n",
              "      <td>1</td>\n",
              "      <td></td>\n",
              "      <td>6</td>\n",
              "      <td>0.99</td>\n",
              "      <td>86</td>\n",
              "      <td>20.99</td>\n",
              "      <td>PG</td>\n",
              "      <td>2007-09-10 17:46:03.905795</td>\n",
              "      <td>{'Deleted Scenes'\"'\"Behind the Scenes'\"}\"</td>\n",
              "      <td>'academi':1 'battl':15 'canadian':20 'dinosaur...</td>\n",
              "    </tr>\n",
              "    <tr>\n",
              "      <th>1</th>\n",
              "      <td>2</td>\n",
              "      <td>ACE GOLDFINGER</td>\n",
              "      <td>A Astounding Epistle of a Database Administrat...</td>\n",
              "      <td>2006</td>\n",
              "      <td>1</td>\n",
              "      <td></td>\n",
              "      <td>3</td>\n",
              "      <td>4.99</td>\n",
              "      <td>48</td>\n",
              "      <td>12.99</td>\n",
              "      <td>G</td>\n",
              "      <td>2007-09-10 17:46:03.905795</td>\n",
              "      <td>{Trailers,'Deleted Scenes'\"}\"</td>\n",
              "      <td>'ace':1 'administr':9 'ancient':19 'astound':4...</td>\n",
              "    </tr>\n",
              "    <tr>\n",
              "      <th>2</th>\n",
              "      <td>3</td>\n",
              "      <td>ADAPTATION HOLES</td>\n",
              "      <td>A Astounding Reflection of a Lumberjack And a ...</td>\n",
              "      <td>2006</td>\n",
              "      <td>1</td>\n",
              "      <td></td>\n",
              "      <td>7</td>\n",
              "      <td>2.99</td>\n",
              "      <td>50</td>\n",
              "      <td>18.99</td>\n",
              "      <td>NC-17</td>\n",
              "      <td>2007-09-10 17:46:03.905795</td>\n",
              "      <td>{Trailers,'Deleted Scenes'\"}\"</td>\n",
              "      <td>''adapt'':1 ''astound'':4 ''baloon'':19 ''car'...</td>\n",
              "    </tr>\n",
              "    <tr>\n",
              "      <th>3</th>\n",
              "      <td>4</td>\n",
              "      <td>AFFAIR PREJUDICE</td>\n",
              "      <td>A Fanciful Documentary of a Frisbee And a Lumb...</td>\n",
              "      <td>2006</td>\n",
              "      <td>1</td>\n",
              "      <td></td>\n",
              "      <td>5</td>\n",
              "      <td>2.99</td>\n",
              "      <td>117</td>\n",
              "      <td>26.99</td>\n",
              "      <td>G</td>\n",
              "      <td>2007-09-10 17:46:03.905795</td>\n",
              "      <td>{Commentaries,'Behind the Scenes'\"}\"</td>\n",
              "      <td>'affair':1 'chase':14 'documentari':5 'fanci':...</td>\n",
              "    </tr>\n",
              "    <tr>\n",
              "      <th>4</th>\n",
              "      <td>5</td>\n",
              "      <td>AFRICAN EGG</td>\n",
              "      <td>A Fast-Paced Documentary of a Pastry Chef And ...</td>\n",
              "      <td>2006</td>\n",
              "      <td>1</td>\n",
              "      <td></td>\n",
              "      <td>6</td>\n",
              "      <td>2.99</td>\n",
              "      <td>130</td>\n",
              "      <td>22.99</td>\n",
              "      <td>G</td>\n",
              "      <td>2007-09-10 17:46:03.905795</td>\n",
              "      <td>{'Deleted Scenes'\"}\"</td>\n",
              "      <td>'african':1 'chef':11 'dentist':14 'documentar...</td>\n",
              "    </tr>\n",
              "    <tr>\n",
              "      <th>...</th>\n",
              "      <td>...</td>\n",
              "      <td>...</td>\n",
              "      <td>...</td>\n",
              "      <td>...</td>\n",
              "      <td>...</td>\n",
              "      <td>...</td>\n",
              "      <td>...</td>\n",
              "      <td>...</td>\n",
              "      <td>...</td>\n",
              "      <td>...</td>\n",
              "      <td>...</td>\n",
              "      <td>...</td>\n",
              "      <td>...</td>\n",
              "      <td>...</td>\n",
              "    </tr>\n",
              "    <tr>\n",
              "      <th>995</th>\n",
              "      <td>996</td>\n",
              "      <td>YOUNG LANGUAGE</td>\n",
              "      <td>A Unbelieveable Yarn of a Boat And a Database ...</td>\n",
              "      <td>2006</td>\n",
              "      <td>1</td>\n",
              "      <td></td>\n",
              "      <td>6</td>\n",
              "      <td>0.99</td>\n",
              "      <td>183</td>\n",
              "      <td>9.99</td>\n",
              "      <td>G</td>\n",
              "      <td>2007-09-10 17:46:03.905795</td>\n",
              "      <td>{Trailers,'Behind the Scenes'\"}\"</td>\n",
              "      <td>'administr':12 'boat':8 'boy':17 'databas':11 ...</td>\n",
              "    </tr>\n",
              "    <tr>\n",
              "      <th>996</th>\n",
              "      <td>997</td>\n",
              "      <td>YOUTH KICK</td>\n",
              "      <td>A Touching Drama of a Teacher And a Cat who mu...</td>\n",
              "      <td>2006</td>\n",
              "      <td>1</td>\n",
              "      <td></td>\n",
              "      <td>4</td>\n",
              "      <td>0.99</td>\n",
              "      <td>179</td>\n",
              "      <td>14.99</td>\n",
              "      <td>NC-17</td>\n",
              "      <td>2007-09-10 17:46:03.905795</td>\n",
              "      <td>{Trailers,'Behind the Scenes'\"}\"</td>\n",
              "      <td>'boat':22 'cat':11 'challeng':14 'drama':5 'ki...</td>\n",
              "    </tr>\n",
              "    <tr>\n",
              "      <th>997</th>\n",
              "      <td>998</td>\n",
              "      <td>ZHIVAGO CORE</td>\n",
              "      <td>A Fateful Yarn of a Composer And a Man who mus...</td>\n",
              "      <td>2006</td>\n",
              "      <td>1</td>\n",
              "      <td></td>\n",
              "      <td>6</td>\n",
              "      <td>0.99</td>\n",
              "      <td>105</td>\n",
              "      <td>10.99</td>\n",
              "      <td>NC-17</td>\n",
              "      <td>2007-09-10 17:46:03.905795</td>\n",
              "      <td>{'Deleted Scenes'\"}\"</td>\n",
              "      <td>'boy':16 'canadian':19 'compos':8 'core':2 'fa...</td>\n",
              "    </tr>\n",
              "    <tr>\n",
              "      <th>998</th>\n",
              "      <td>999</td>\n",
              "      <td>ZOOLANDER FICTION</td>\n",
              "      <td>A Fateful Reflection of a Waitress And a Boat ...</td>\n",
              "      <td>2006</td>\n",
              "      <td>1</td>\n",
              "      <td></td>\n",
              "      <td>5</td>\n",
              "      <td>2.99</td>\n",
              "      <td>101</td>\n",
              "      <td>28.99</td>\n",
              "      <td>R</td>\n",
              "      <td>2007-09-10 17:46:03.905795</td>\n",
              "      <td>{Trailers,'Deleted Scenes'\"}\"</td>\n",
              "      <td>'ancient':19 'boat':11 'china':20 'discov':14 ...</td>\n",
              "    </tr>\n",
              "    <tr>\n",
              "      <th>999</th>\n",
              "      <td>1000</td>\n",
              "      <td>ZORRO ARK</td>\n",
              "      <td>A Intrepid Panorama of a Mad Scientist And a B...</td>\n",
              "      <td>2006</td>\n",
              "      <td>1</td>\n",
              "      <td></td>\n",
              "      <td>3</td>\n",
              "      <td>4.99</td>\n",
              "      <td>50</td>\n",
              "      <td>18.99</td>\n",
              "      <td>NC-17</td>\n",
              "      <td>2007-09-10 17:46:03.905795</td>\n",
              "      <td>{Trailers,Commentaries,'Behind the Scenes'\"}\"</td>\n",
              "      <td>''ark'':2 ''boy'':12,17 ''intrepid'':4 ''mad''...</td>\n",
              "    </tr>\n",
              "  </tbody>\n",
              "</table>\n",
              "<p>1000 rows × 14 columns</p>\n",
              "</div>"
            ],
            "text/plain": [
              "    film_id              title  \\\n",
              "0         1   ACADEMY DINOSAUR   \n",
              "1         2     ACE GOLDFINGER   \n",
              "2         3   ADAPTATION HOLES   \n",
              "3         4   AFFAIR PREJUDICE   \n",
              "4         5        AFRICAN EGG   \n",
              "..      ...                ...   \n",
              "995     996     YOUNG LANGUAGE   \n",
              "996     997         YOUTH KICK   \n",
              "997     998       ZHIVAGO CORE   \n",
              "998     999  ZOOLANDER FICTION   \n",
              "999    1000          ZORRO ARK   \n",
              "\n",
              "                                           description release_year  \\\n",
              "0    A Epic Drama of a Feminist And a Mad Scientist...         2006   \n",
              "1    A Astounding Epistle of a Database Administrat...         2006   \n",
              "2    A Astounding Reflection of a Lumberjack And a ...         2006   \n",
              "3    A Fanciful Documentary of a Frisbee And a Lumb...         2006   \n",
              "4    A Fast-Paced Documentary of a Pastry Chef And ...         2006   \n",
              "..                                                 ...          ...   \n",
              "995  A Unbelieveable Yarn of a Boat And a Database ...         2006   \n",
              "996  A Touching Drama of a Teacher And a Cat who mu...         2006   \n",
              "997  A Fateful Yarn of a Composer And a Man who mus...         2006   \n",
              "998  A Fateful Reflection of a Waitress And a Boat ...         2006   \n",
              "999  A Intrepid Panorama of a Mad Scientist And a B...         2006   \n",
              "\n",
              "    language_id original_language_id rental_duration rental_rate length  \\\n",
              "0             1                                    6        0.99     86   \n",
              "1             1                                    3        4.99     48   \n",
              "2             1                                    7        2.99     50   \n",
              "3             1                                    5        2.99    117   \n",
              "4             1                                    6        2.99    130   \n",
              "..          ...                  ...             ...         ...    ...   \n",
              "995           1                                    6        0.99    183   \n",
              "996           1                                    4        0.99    179   \n",
              "997           1                                    6        0.99    105   \n",
              "998           1                                    5        2.99    101   \n",
              "999           1                                    3        4.99     50   \n",
              "\n",
              "    replacement_cost rating                 last_update  \\\n",
              "0              20.99     PG  2007-09-10 17:46:03.905795   \n",
              "1              12.99      G  2007-09-10 17:46:03.905795   \n",
              "2              18.99  NC-17  2007-09-10 17:46:03.905795   \n",
              "3              26.99      G  2007-09-10 17:46:03.905795   \n",
              "4              22.99      G  2007-09-10 17:46:03.905795   \n",
              "..               ...    ...                         ...   \n",
              "995             9.99      G  2007-09-10 17:46:03.905795   \n",
              "996            14.99  NC-17  2007-09-10 17:46:03.905795   \n",
              "997            10.99  NC-17  2007-09-10 17:46:03.905795   \n",
              "998            28.99      R  2007-09-10 17:46:03.905795   \n",
              "999            18.99  NC-17  2007-09-10 17:46:03.905795   \n",
              "\n",
              "                                  special_features  \\\n",
              "0        {'Deleted Scenes'\"'\"Behind the Scenes'\"}\"   \n",
              "1                    {Trailers,'Deleted Scenes'\"}\"   \n",
              "2                    {Trailers,'Deleted Scenes'\"}\"   \n",
              "3             {Commentaries,'Behind the Scenes'\"}\"   \n",
              "4                             {'Deleted Scenes'\"}\"   \n",
              "..                                             ...   \n",
              "995               {Trailers,'Behind the Scenes'\"}\"   \n",
              "996               {Trailers,'Behind the Scenes'\"}\"   \n",
              "997                           {'Deleted Scenes'\"}\"   \n",
              "998                  {Trailers,'Deleted Scenes'\"}\"   \n",
              "999  {Trailers,Commentaries,'Behind the Scenes'\"}\"   \n",
              "\n",
              "                                              fulltext  \n",
              "0    'academi':1 'battl':15 'canadian':20 'dinosaur...  \n",
              "1    'ace':1 'administr':9 'ancient':19 'astound':4...  \n",
              "2    ''adapt'':1 ''astound'':4 ''baloon'':19 ''car'...  \n",
              "3    'affair':1 'chase':14 'documentari':5 'fanci':...  \n",
              "4    'african':1 'chef':11 'dentist':14 'documentar...  \n",
              "..                                                 ...  \n",
              "995  'administr':12 'boat':8 'boy':17 'databas':11 ...  \n",
              "996  'boat':22 'cat':11 'challeng':14 'drama':5 'ki...  \n",
              "997  'boy':16 'canadian':19 'compos':8 'core':2 'fa...  \n",
              "998  'ancient':19 'boat':11 'china':20 'discov':14 ...  \n",
              "999  ''ark'':2 ''boy'':12,17 ''intrepid'':4 ''mad''...  \n",
              "\n",
              "[1000 rows x 14 columns]"
            ]
          },
          "metadata": {},
          "output_type": "display_data"
        }
      ],
      "source": [
        "with engine.connect() as engine_conn:\n",
        "    df = pd.DataFrame(\n",
        "        engine_conn.execute(text('''\n",
        "                                    SELECT * FROM film_actors\n",
        "                                '''))\n",
        "    )\n",
        "display(df)"
      ]
    },
    {
      "cell_type": "markdown",
      "metadata": {
        "id": "huWNuXM8cgU5"
      },
      "source": [
        "Press the **Execute Query**  green arrow at the top-right of the screen to execute the query. The results will be displayed in a new tab.\n",
        "\n",
        "<p align=\"center\">\n",
        "    <img src=\"https://github.com/AI-Core/Content-Public/blob/main/Content/units/Cloud-and-DevOps/11.%20Azure%20Essentials/6.%20Azure%20SQL%20Database/images/RunQuery.png?raw=1\" height=\"600\" width=\"1000\"/>\n",
        "</p>\n",
        "\n",
        "You can now run any types of queries on this data. For example, a more complex query that finds all films released in 2006:"
      ]
    },
    {
      "cell_type": "code",
      "execution_count": 38,
      "metadata": {
        "id": "owPy-NeecgU5"
      },
      "outputs": [
        {
          "data": {
            "text/html": [
              "<div>\n",
              "<style scoped>\n",
              "    .dataframe tbody tr th:only-of-type {\n",
              "        vertical-align: middle;\n",
              "    }\n",
              "\n",
              "    .dataframe tbody tr th {\n",
              "        vertical-align: top;\n",
              "    }\n",
              "\n",
              "    .dataframe thead th {\n",
              "        text-align: right;\n",
              "    }\n",
              "</style>\n",
              "<table border=\"1\" class=\"dataframe\">\n",
              "  <thead>\n",
              "    <tr style=\"text-align: right;\">\n",
              "      <th></th>\n",
              "      <th>film_id</th>\n",
              "      <th>title</th>\n",
              "      <th>description</th>\n",
              "      <th>release_year</th>\n",
              "      <th>language_id</th>\n",
              "      <th>original_language_id</th>\n",
              "      <th>rental_duration</th>\n",
              "      <th>rental_rate</th>\n",
              "      <th>length</th>\n",
              "      <th>replacement_cost</th>\n",
              "      <th>rating</th>\n",
              "      <th>last_update</th>\n",
              "      <th>special_features</th>\n",
              "      <th>fulltext</th>\n",
              "    </tr>\n",
              "  </thead>\n",
              "  <tbody>\n",
              "    <tr>\n",
              "      <th>0</th>\n",
              "      <td>1</td>\n",
              "      <td>ACADEMY DINOSAUR</td>\n",
              "      <td>A Epic Drama of a Feminist And a Mad Scientist...</td>\n",
              "      <td>2006</td>\n",
              "      <td>1</td>\n",
              "      <td></td>\n",
              "      <td>6</td>\n",
              "      <td>0.99</td>\n",
              "      <td>86</td>\n",
              "      <td>20.99</td>\n",
              "      <td>PG</td>\n",
              "      <td>2007-09-10 17:46:03.905795</td>\n",
              "      <td>{'Deleted Scenes'\"'\"Behind the Scenes'\"}\"</td>\n",
              "      <td>'academi':1 'battl':15 'canadian':20 'dinosaur...</td>\n",
              "    </tr>\n",
              "    <tr>\n",
              "      <th>1</th>\n",
              "      <td>2</td>\n",
              "      <td>ACE GOLDFINGER</td>\n",
              "      <td>A Astounding Epistle of a Database Administrat...</td>\n",
              "      <td>2006</td>\n",
              "      <td>1</td>\n",
              "      <td></td>\n",
              "      <td>3</td>\n",
              "      <td>4.99</td>\n",
              "      <td>48</td>\n",
              "      <td>12.99</td>\n",
              "      <td>G</td>\n",
              "      <td>2007-09-10 17:46:03.905795</td>\n",
              "      <td>{Trailers,'Deleted Scenes'\"}\"</td>\n",
              "      <td>'ace':1 'administr':9 'ancient':19 'astound':4...</td>\n",
              "    </tr>\n",
              "    <tr>\n",
              "      <th>2</th>\n",
              "      <td>3</td>\n",
              "      <td>ADAPTATION HOLES</td>\n",
              "      <td>A Astounding Reflection of a Lumberjack And a ...</td>\n",
              "      <td>2006</td>\n",
              "      <td>1</td>\n",
              "      <td></td>\n",
              "      <td>7</td>\n",
              "      <td>2.99</td>\n",
              "      <td>50</td>\n",
              "      <td>18.99</td>\n",
              "      <td>NC-17</td>\n",
              "      <td>2007-09-10 17:46:03.905795</td>\n",
              "      <td>{Trailers,'Deleted Scenes'\"}\"</td>\n",
              "      <td>''adapt'':1 ''astound'':4 ''baloon'':19 ''car'...</td>\n",
              "    </tr>\n",
              "    <tr>\n",
              "      <th>3</th>\n",
              "      <td>4</td>\n",
              "      <td>AFFAIR PREJUDICE</td>\n",
              "      <td>A Fanciful Documentary of a Frisbee And a Lumb...</td>\n",
              "      <td>2006</td>\n",
              "      <td>1</td>\n",
              "      <td></td>\n",
              "      <td>5</td>\n",
              "      <td>2.99</td>\n",
              "      <td>117</td>\n",
              "      <td>26.99</td>\n",
              "      <td>G</td>\n",
              "      <td>2007-09-10 17:46:03.905795</td>\n",
              "      <td>{Commentaries,'Behind the Scenes'\"}\"</td>\n",
              "      <td>'affair':1 'chase':14 'documentari':5 'fanci':...</td>\n",
              "    </tr>\n",
              "    <tr>\n",
              "      <th>4</th>\n",
              "      <td>5</td>\n",
              "      <td>AFRICAN EGG</td>\n",
              "      <td>A Fast-Paced Documentary of a Pastry Chef And ...</td>\n",
              "      <td>2006</td>\n",
              "      <td>1</td>\n",
              "      <td></td>\n",
              "      <td>6</td>\n",
              "      <td>2.99</td>\n",
              "      <td>130</td>\n",
              "      <td>22.99</td>\n",
              "      <td>G</td>\n",
              "      <td>2007-09-10 17:46:03.905795</td>\n",
              "      <td>{'Deleted Scenes'\"}\"</td>\n",
              "      <td>'african':1 'chef':11 'dentist':14 'documentar...</td>\n",
              "    </tr>\n",
              "    <tr>\n",
              "      <th>...</th>\n",
              "      <td>...</td>\n",
              "      <td>...</td>\n",
              "      <td>...</td>\n",
              "      <td>...</td>\n",
              "      <td>...</td>\n",
              "      <td>...</td>\n",
              "      <td>...</td>\n",
              "      <td>...</td>\n",
              "      <td>...</td>\n",
              "      <td>...</td>\n",
              "      <td>...</td>\n",
              "      <td>...</td>\n",
              "      <td>...</td>\n",
              "      <td>...</td>\n",
              "    </tr>\n",
              "    <tr>\n",
              "      <th>995</th>\n",
              "      <td>996</td>\n",
              "      <td>YOUNG LANGUAGE</td>\n",
              "      <td>A Unbelieveable Yarn of a Boat And a Database ...</td>\n",
              "      <td>2006</td>\n",
              "      <td>1</td>\n",
              "      <td></td>\n",
              "      <td>6</td>\n",
              "      <td>0.99</td>\n",
              "      <td>183</td>\n",
              "      <td>9.99</td>\n",
              "      <td>G</td>\n",
              "      <td>2007-09-10 17:46:03.905795</td>\n",
              "      <td>{Trailers,'Behind the Scenes'\"}\"</td>\n",
              "      <td>'administr':12 'boat':8 'boy':17 'databas':11 ...</td>\n",
              "    </tr>\n",
              "    <tr>\n",
              "      <th>996</th>\n",
              "      <td>997</td>\n",
              "      <td>YOUTH KICK</td>\n",
              "      <td>A Touching Drama of a Teacher And a Cat who mu...</td>\n",
              "      <td>2006</td>\n",
              "      <td>1</td>\n",
              "      <td></td>\n",
              "      <td>4</td>\n",
              "      <td>0.99</td>\n",
              "      <td>179</td>\n",
              "      <td>14.99</td>\n",
              "      <td>NC-17</td>\n",
              "      <td>2007-09-10 17:46:03.905795</td>\n",
              "      <td>{Trailers,'Behind the Scenes'\"}\"</td>\n",
              "      <td>'boat':22 'cat':11 'challeng':14 'drama':5 'ki...</td>\n",
              "    </tr>\n",
              "    <tr>\n",
              "      <th>997</th>\n",
              "      <td>998</td>\n",
              "      <td>ZHIVAGO CORE</td>\n",
              "      <td>A Fateful Yarn of a Composer And a Man who mus...</td>\n",
              "      <td>2006</td>\n",
              "      <td>1</td>\n",
              "      <td></td>\n",
              "      <td>6</td>\n",
              "      <td>0.99</td>\n",
              "      <td>105</td>\n",
              "      <td>10.99</td>\n",
              "      <td>NC-17</td>\n",
              "      <td>2007-09-10 17:46:03.905795</td>\n",
              "      <td>{'Deleted Scenes'\"}\"</td>\n",
              "      <td>'boy':16 'canadian':19 'compos':8 'core':2 'fa...</td>\n",
              "    </tr>\n",
              "    <tr>\n",
              "      <th>998</th>\n",
              "      <td>999</td>\n",
              "      <td>ZOOLANDER FICTION</td>\n",
              "      <td>A Fateful Reflection of a Waitress And a Boat ...</td>\n",
              "      <td>2006</td>\n",
              "      <td>1</td>\n",
              "      <td></td>\n",
              "      <td>5</td>\n",
              "      <td>2.99</td>\n",
              "      <td>101</td>\n",
              "      <td>28.99</td>\n",
              "      <td>R</td>\n",
              "      <td>2007-09-10 17:46:03.905795</td>\n",
              "      <td>{Trailers,'Deleted Scenes'\"}\"</td>\n",
              "      <td>'ancient':19 'boat':11 'china':20 'discov':14 ...</td>\n",
              "    </tr>\n",
              "    <tr>\n",
              "      <th>999</th>\n",
              "      <td>1000</td>\n",
              "      <td>ZORRO ARK</td>\n",
              "      <td>A Intrepid Panorama of a Mad Scientist And a B...</td>\n",
              "      <td>2006</td>\n",
              "      <td>1</td>\n",
              "      <td></td>\n",
              "      <td>3</td>\n",
              "      <td>4.99</td>\n",
              "      <td>50</td>\n",
              "      <td>18.99</td>\n",
              "      <td>NC-17</td>\n",
              "      <td>2007-09-10 17:46:03.905795</td>\n",
              "      <td>{Trailers,Commentaries,'Behind the Scenes'\"}\"</td>\n",
              "      <td>''ark'':2 ''boy'':12,17 ''intrepid'':4 ''mad''...</td>\n",
              "    </tr>\n",
              "  </tbody>\n",
              "</table>\n",
              "<p>1000 rows × 14 columns</p>\n",
              "</div>"
            ],
            "text/plain": [
              "    film_id              title  \\\n",
              "0         1   ACADEMY DINOSAUR   \n",
              "1         2     ACE GOLDFINGER   \n",
              "2         3   ADAPTATION HOLES   \n",
              "3         4   AFFAIR PREJUDICE   \n",
              "4         5        AFRICAN EGG   \n",
              "..      ...                ...   \n",
              "995     996     YOUNG LANGUAGE   \n",
              "996     997         YOUTH KICK   \n",
              "997     998       ZHIVAGO CORE   \n",
              "998     999  ZOOLANDER FICTION   \n",
              "999    1000          ZORRO ARK   \n",
              "\n",
              "                                           description release_year  \\\n",
              "0    A Epic Drama of a Feminist And a Mad Scientist...         2006   \n",
              "1    A Astounding Epistle of a Database Administrat...         2006   \n",
              "2    A Astounding Reflection of a Lumberjack And a ...         2006   \n",
              "3    A Fanciful Documentary of a Frisbee And a Lumb...         2006   \n",
              "4    A Fast-Paced Documentary of a Pastry Chef And ...         2006   \n",
              "..                                                 ...          ...   \n",
              "995  A Unbelieveable Yarn of a Boat And a Database ...         2006   \n",
              "996  A Touching Drama of a Teacher And a Cat who mu...         2006   \n",
              "997  A Fateful Yarn of a Composer And a Man who mus...         2006   \n",
              "998  A Fateful Reflection of a Waitress And a Boat ...         2006   \n",
              "999  A Intrepid Panorama of a Mad Scientist And a B...         2006   \n",
              "\n",
              "    language_id original_language_id rental_duration rental_rate length  \\\n",
              "0             1                                    6        0.99     86   \n",
              "1             1                                    3        4.99     48   \n",
              "2             1                                    7        2.99     50   \n",
              "3             1                                    5        2.99    117   \n",
              "4             1                                    6        2.99    130   \n",
              "..          ...                  ...             ...         ...    ...   \n",
              "995           1                                    6        0.99    183   \n",
              "996           1                                    4        0.99    179   \n",
              "997           1                                    6        0.99    105   \n",
              "998           1                                    5        2.99    101   \n",
              "999           1                                    3        4.99     50   \n",
              "\n",
              "    replacement_cost rating                 last_update  \\\n",
              "0              20.99     PG  2007-09-10 17:46:03.905795   \n",
              "1              12.99      G  2007-09-10 17:46:03.905795   \n",
              "2              18.99  NC-17  2007-09-10 17:46:03.905795   \n",
              "3              26.99      G  2007-09-10 17:46:03.905795   \n",
              "4              22.99      G  2007-09-10 17:46:03.905795   \n",
              "..               ...    ...                         ...   \n",
              "995             9.99      G  2007-09-10 17:46:03.905795   \n",
              "996            14.99  NC-17  2007-09-10 17:46:03.905795   \n",
              "997            10.99  NC-17  2007-09-10 17:46:03.905795   \n",
              "998            28.99      R  2007-09-10 17:46:03.905795   \n",
              "999            18.99  NC-17  2007-09-10 17:46:03.905795   \n",
              "\n",
              "                                  special_features  \\\n",
              "0        {'Deleted Scenes'\"'\"Behind the Scenes'\"}\"   \n",
              "1                    {Trailers,'Deleted Scenes'\"}\"   \n",
              "2                    {Trailers,'Deleted Scenes'\"}\"   \n",
              "3             {Commentaries,'Behind the Scenes'\"}\"   \n",
              "4                             {'Deleted Scenes'\"}\"   \n",
              "..                                             ...   \n",
              "995               {Trailers,'Behind the Scenes'\"}\"   \n",
              "996               {Trailers,'Behind the Scenes'\"}\"   \n",
              "997                           {'Deleted Scenes'\"}\"   \n",
              "998                  {Trailers,'Deleted Scenes'\"}\"   \n",
              "999  {Trailers,Commentaries,'Behind the Scenes'\"}\"   \n",
              "\n",
              "                                              fulltext  \n",
              "0    'academi':1 'battl':15 'canadian':20 'dinosaur...  \n",
              "1    'ace':1 'administr':9 'ancient':19 'astound':4...  \n",
              "2    ''adapt'':1 ''astound'':4 ''baloon'':19 ''car'...  \n",
              "3    'affair':1 'chase':14 'documentari':5 'fanci':...  \n",
              "4    'african':1 'chef':11 'dentist':14 'documentar...  \n",
              "..                                                 ...  \n",
              "995  'administr':12 'boat':8 'boy':17 'databas':11 ...  \n",
              "996  'boat':22 'cat':11 'challeng':14 'drama':5 'ki...  \n",
              "997  'boy':16 'canadian':19 'compos':8 'core':2 'fa...  \n",
              "998  'ancient':19 'boat':11 'china':20 'discov':14 ...  \n",
              "999  ''ark'':2 ''boy'':12,17 ''intrepid'':4 ''mad''...  \n",
              "\n",
              "[1000 rows x 14 columns]"
            ]
          },
          "metadata": {},
          "output_type": "display_data"
        }
      ],
      "source": [
        "with engine.connect() as engine_conn:\n",
        "    df = pd.DataFrame(engine_conn.execute(text(\n",
        "                                                '''\n",
        "                                                SELECT *\n",
        "                                                FROM film_actors\n",
        "                                                WHERE release_year = 2006\n",
        "                                                '''\n",
        "    )))\n",
        "    display(df)"
      ]
    },
    {
      "cell_type": "markdown",
      "metadata": {
        "id": "s3QwQFJccgU5"
      },
      "source": [
        "## Key Takeaways\n",
        "\n",
        "- SQL Server is a relational database management system (RDBMS) developed by Microsoft that can be used to manage data on a local machine or in the cloud\n",
        "- To connect to an Azure SQL Database instance from SQL Server, you will need to download and install the Microsoft ODBC Driver for SQL Server\n",
        "- To connect to an Azure SQL Database instance from SQL Server in VSCode, you will need to install the SQL Server extension and configure the connection settings\n",
        "- Once you are connected to an Azure SQL Database instance from SQL Server in VSCode, you can execute SQL queries and perform other database operations"
      ]
    }
  ],
  "metadata": {
    "colab": {
      "include_colab_link": true,
      "provenance": []
    },
    "language_info": {
      "name": "python"
    }
  },
  "nbformat": 4,
  "nbformat_minor": 0
}

{
  "cells": [
    {
      "cell_type": "markdown",
      "metadata": {
        "id": "view-in-github",
        "colab_type": "text"
      },
      "source": [
        "<a href=\"https://colab.research.google.com/github/ranvirsahota/AiCore/blob/python-basics/4_numbers/practicals/1_run_arithmetic_operations.ipynb\" target=\"_parent\"><img src=\"https://colab.research.google.com/assets/colab-badge.svg\" alt=\"Open In Colab\"/></a>"
      ]
    },
    {
      "cell_type": "markdown",
      "metadata": {
        "id": "XBScDO2_JbFY"
      },
      "source": [
        "# Run Arithmetic Operations"
      ]
    },
    {
      "cell_type": "code",
      "execution_count": 1,
      "metadata": {
        "colab": {
          "base_uri": "https://localhost:8080/"
        },
        "id": "2e82f338",
        "outputId": "fdd90e33-136a-4033-f911-09b32aaf1a5d"
      },
      "outputs": [
        {
          "output_type": "stream",
          "name": "stdout",
          "text": [
            "Downloading the marking system\n"
          ]
        }
      ],
      "source": [
        "#@title ### Run the following cell to download the necessary files for this practical { display-mode: \"form\" }\n",
        "#@markdown Don't worry about what's in this collapsed cell\n",
        "\n",
        "print('Downloading the marking system')\n",
        "!wget https://s3-eu-west-1.amazonaws.com/aicore-portal-public-prod-307050600709/practical_files/1170a6ea-64f1-4ddf-8c31-83178e2b9234/marking_system.py -q -O marking_system.py\n",
        "import marking_system\n",
        "import importlib\n",
        "importlib.reload(marking_system)\n",
        "import sys\n",
        "ipython = get_ipython()\n",
        "def hide_traceback(exc_tuple=None, filename=None, tb_offset=None, exception_only=False, running_compiled_code=False):\n",
        "    etype, value, tb = sys.exc_info()\n",
        "    value.__cause__ = None  # suppress chained exceptions\n",
        "    return ipython._showtraceback(etype, \"❌ \" + f\"\u001b[91m{value}\", ipython.InteractiveTB.get_exception_only(etype, \"❌ \" + f\"\u001b[91m{value}\"))\n",
        "ipython.showtraceback = hide_traceback\n"
      ]
    },
    {
      "cell_type": "markdown",
      "metadata": {
        "id": "831L1DstJbFZ"
      },
      "source": [
        "### 1. Define two variables `a` and `b` and assign them values `5` and `2` respectively.\n"
      ]
    },
    {
      "cell_type": "code",
      "execution_count": 2,
      "metadata": {
        "id": "kpLEGT0vJbFZ"
      },
      "outputs": [],
      "source": [
        "# TODO: Create a variable called 'a' and assign it the value 5\n",
        "# TODO: Create a variable called 'b' and assign it the value 2\n",
        "a = 5\n",
        "b = 2"
      ]
    },
    {
      "cell_type": "code",
      "execution_count": 3,
      "metadata": {
        "colab": {
          "base_uri": "https://localhost:8080/"
        },
        "id": "Dw0MtHLlJbFZ",
        "outputId": "253bc109-5d38-4def-cdb7-45fbd4612ef2"
      },
      "outputs": [
        {
          "output_type": "stream",
          "name": "stdout",
          "text": [
            "\u001b[92m✔ Well done! You have successfully assigned values to the variables 'a' and 'b'.\n"
          ]
        }
      ],
      "source": [
        "#@title #### Run this cell to check your solution { display-mode: \"form\", run: \"auto\" }\n",
        "\n",
        "assert \"a\" in globals(), \"You haven't defined the variable 'a'.\"\n",
        "assert \"b\" in globals(), \"You haven't defined the variable 'b'.\"\n",
        "marking_system.check_step_1(a=a, b=b)\n"
      ]
    },
    {
      "cell_type": "markdown",
      "metadata": {
        "id": "sf6yljPVJbFZ"
      },
      "source": [
        "### 2. Print the result of `a + b`"
      ]
    },
    {
      "cell_type": "code",
      "execution_count": 4,
      "metadata": {
        "colab": {
          "base_uri": "https://localhost:8080/"
        },
        "id": "8lX693DuJbFZ",
        "outputId": "9adbbd49-a936-4b0f-e55f-8f9568d3891d"
      },
      "outputs": [
        {
          "output_type": "stream",
          "name": "stdout",
          "text": [
            "7\n"
          ]
        }
      ],
      "source": [
        "# TODO: Add the values of 'a' and 'b' and print the result\n",
        "print(a + b)"
      ]
    },
    {
      "cell_type": "code",
      "execution_count": 5,
      "metadata": {
        "colab": {
          "base_uri": "https://localhost:8080/"
        },
        "id": "f4RyGKi8JbFa",
        "outputId": "4667acc5-ecb2-4bf7-b773-9f166d0e008e"
      },
      "outputs": [
        {
          "output_type": "stream",
          "name": "stdout",
          "text": [
            "\u001b[92m✔ Well done! you have successfully added the values of 'a' and 'b'.\n"
          ]
        }
      ],
      "source": [
        "#@title #### Copy and paste your line of code in this form to check your solution { display-mode: \"form\", run: \"auto\" }\n",
        "\n",
        "your_code = \"print(a + b)\" #@param {type:\"string\"}\n",
        "marking_system.check_step_2(your_code=your_code)\n"
      ]
    },
    {
      "cell_type": "markdown",
      "metadata": {
        "id": "Q58ucXFxJbFa"
      },
      "source": [
        "### 3. Print the result of `a - b`\n"
      ]
    },
    {
      "cell_type": "code",
      "execution_count": 6,
      "metadata": {
        "colab": {
          "base_uri": "https://localhost:8080/"
        },
        "id": "tS2TxWVKJbFa",
        "outputId": "c00b1da2-9bd0-4c22-89df-3f61f5425052"
      },
      "outputs": [
        {
          "output_type": "stream",
          "name": "stdout",
          "text": [
            "3\n"
          ]
        }
      ],
      "source": [
        "# TODO: Substract the values of 'a' and 'b' and print the result\n",
        "print(a - b)"
      ]
    },
    {
      "cell_type": "code",
      "execution_count": 7,
      "metadata": {
        "colab": {
          "base_uri": "https://localhost:8080/"
        },
        "id": "z90ynWZcJbFa",
        "outputId": "8f7704d0-7b4a-471c-d061-9e78cd6fe201"
      },
      "outputs": [
        {
          "output_type": "stream",
          "name": "stdout",
          "text": [
            "\u001b[92m✔ Well done! you have successfully substracted the values of 'a' and 'b'.\n"
          ]
        }
      ],
      "source": [
        "#@title #### Copy and paste your line of code in this form to check your solution { display-mode: \"form\", run: \"auto\" }\n",
        "\n",
        "your_code = \"print(a - b)\" #@param {type:\"string\"}\n",
        "marking_system.check_step_3(your_code=your_code)\n"
      ]
    },
    {
      "cell_type": "markdown",
      "metadata": {
        "id": "2VmozSg6JbFa"
      },
      "source": [
        "### 4. Print the result of `a * b`\n"
      ]
    },
    {
      "cell_type": "code",
      "execution_count": 8,
      "metadata": {
        "colab": {
          "base_uri": "https://localhost:8080/"
        },
        "id": "sXnyD6PrJbFa",
        "outputId": "9047275e-3a59-4cc6-c5cf-14965a0dff9e"
      },
      "outputs": [
        {
          "output_type": "stream",
          "name": "stdout",
          "text": [
            "10\n"
          ]
        }
      ],
      "source": [
        "# TODO: Multiply the values of 'a' and 'b' and print the result\n",
        "print(a * b)"
      ]
    },
    {
      "cell_type": "code",
      "execution_count": 9,
      "metadata": {
        "colab": {
          "base_uri": "https://localhost:8080/"
        },
        "id": "oNgjbJ27JbFa",
        "outputId": "7541f0b7-bcf6-4094-c666-94dae7c7c657"
      },
      "outputs": [
        {
          "output_type": "stream",
          "name": "stdout",
          "text": [
            "\u001b[92m✔ Well done! you have successfully multiplied the values of 'a' and 'b'.\n"
          ]
        }
      ],
      "source": [
        "#@title #### Copy and paste your line of code in this form to check your solution { display-mode: \"form\", run: \"auto\" }\n",
        "\n",
        "your_code = \"print(a * b)\" #@param {type:\"string\"}\n",
        "marking_system.check_step_4(your_code=your_code)\n"
      ]
    },
    {
      "cell_type": "markdown",
      "metadata": {
        "id": "B9pLa2-qJbFa"
      },
      "source": [
        "#### 5. Print the result of `a / b`\n"
      ]
    },
    {
      "cell_type": "code",
      "execution_count": 10,
      "metadata": {
        "colab": {
          "base_uri": "https://localhost:8080/"
        },
        "id": "aXCbco85JbFa",
        "outputId": "071e3271-02c2-4711-aeaa-7066daf3d935"
      },
      "outputs": [
        {
          "output_type": "stream",
          "name": "stdout",
          "text": [
            "2.5\n"
          ]
        }
      ],
      "source": [
        "# TODO: Divide the values of 'a' and 'b' and print the result\n",
        "print(a / b)"
      ]
    },
    {
      "cell_type": "code",
      "execution_count": 11,
      "metadata": {
        "colab": {
          "base_uri": "https://localhost:8080/"
        },
        "id": "h-HrbgyRJbFb",
        "outputId": "34112fc7-27d1-4ee0-deec-df702396dbb1"
      },
      "outputs": [
        {
          "output_type": "stream",
          "name": "stdout",
          "text": [
            "\u001b[92m✔ Well done! you have successfully divided the values of 'a' and 'b'.\n"
          ]
        }
      ],
      "source": [
        "#@title #### Copy and paste your line of code in this form to check your solution { display-mode: \"form\", run: \"auto\" }\n",
        "\n",
        "your_code = \"print(a / b)\" #@param {type:\"string\"}\n",
        "marking_system.check_step_5(your_code=your_code)\n"
      ]
    }
  ],
  "metadata": {
    "kernelspec": {
      "display_name": "content-projects_new",
      "language": "python",
      "name": "python3"
    },
    "language_info": {
      "name": "python",
      "version": "3.10.8"
    },
    "vscode": {
      "interpreter": {
        "hash": "4b961f8166aad6ccb4cf65d0f9c742ef9c6c23ffe83ad932438cd83ed96aebaf"
      }
    },
    "colab": {
      "provenance": [],
      "include_colab_link": true
    }
  },
  "nbformat": 4,
  "nbformat_minor": 0
}
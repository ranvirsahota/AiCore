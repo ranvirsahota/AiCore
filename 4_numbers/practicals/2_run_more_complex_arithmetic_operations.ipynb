{
  "cells": [
    {
      "cell_type": "markdown",
      "metadata": {
        "id": "view-in-github",
        "colab_type": "text"
      },
      "source": [
        "<a href=\"https://colab.research.google.com/github/ranvirsahota/AiCore/blob/python-basics/4_numbers/practicals/2_run_more_complex_arithmetic_operations.ipynb\" target=\"_parent\"><img src=\"https://colab.research.google.com/assets/colab-badge.svg\" alt=\"Open In Colab\"/></a>"
      ]
    },
    {
      "cell_type": "markdown",
      "metadata": {
        "id": "uyforAMYLVF0"
      },
      "source": [
        "# Run More Complex Arithmetic Operations"
      ]
    },
    {
      "cell_type": "code",
      "execution_count": 1,
      "metadata": {
        "id": "83dacc54",
        "outputId": "80c6042a-1ebf-4609-d70b-2f93296bf107",
        "colab": {
          "base_uri": "https://localhost:8080/"
        }
      },
      "outputs": [
        {
          "output_type": "stream",
          "name": "stdout",
          "text": [
            "Downloading the marking system\n"
          ]
        }
      ],
      "source": [
        "#@title ### Run the following cell to download the necessary files for this practical { display-mode: \"form\" }\n",
        "#@markdown Don't worry about what's in this collapsed cell\n",
        "\n",
        "print('Downloading the marking system')\n",
        "!wget https://s3-eu-west-1.amazonaws.com/aicore-portal-public-prod-307050600709/practical_files/a5b7b342-852d-437d-9186-a0d17932fdf8/marking_system.py -q -O marking_system.py\n",
        "import marking_system\n",
        "import importlib\n",
        "importlib.reload(marking_system)\n",
        "import sys\n",
        "ipython = get_ipython()\n",
        "def hide_traceback(exc_tuple=None, filename=None, tb_offset=None, exception_only=False, running_compiled_code=False):\n",
        "    etype, value, tb = sys.exc_info()\n",
        "    value.__cause__ = None  # suppress chained exceptions\n",
        "    return ipython._showtraceback(etype, \"❌ \" + f\"\u001b[91m{value}\", ipython.InteractiveTB.get_exception_only(etype, \"❌ \" + f\"\u001b[91m{value}\"))\n",
        "ipython.showtraceback = hide_traceback\n"
      ]
    },
    {
      "cell_type": "markdown",
      "metadata": {
        "id": "vXvuf8j1LVF1"
      },
      "source": [
        "### 1. Define two variables, `a` and `b` and assign them the value `10` and `7` respectively."
      ]
    },
    {
      "cell_type": "code",
      "execution_count": 2,
      "metadata": {
        "id": "apwle7xGLVF1"
      },
      "outputs": [],
      "source": [
        "# TODO: Create a variable called a and assign it the value 10\n",
        "# TODO: Create a variable called b and assign it the value 7\n",
        "a = 10\n",
        "b = 7"
      ]
    },
    {
      "cell_type": "code",
      "execution_count": 3,
      "metadata": {
        "id": "ej50z33MLVF2",
        "outputId": "33af7b13-dfe8-44fd-ae32-197a5b4a2bde",
        "colab": {
          "base_uri": "https://localhost:8080/"
        }
      },
      "outputs": [
        {
          "output_type": "stream",
          "name": "stdout",
          "text": [
            "\u001b[92m✔ Well done! You have successfully assigned values to the variables 'a' and 'b'.\n"
          ]
        }
      ],
      "source": [
        "#@title #### Run this cell to check your solution { display-mode: \"form\", run: \"auto\" }\n",
        "\n",
        "assert \"a\" in globals(), \"You haven't defined the variable 'a'.\"\n",
        "assert \"b\" in globals(), \"You haven't defined the variable 'b'.\"\n",
        "marking_system.check_step_1(a=a, b=b)\n"
      ]
    },
    {
      "cell_type": "markdown",
      "metadata": {
        "id": "SO-poLwILVF2"
      },
      "source": [
        "### 2. What is the modulus of `a` and `b`?\n",
        "\n",
        "Create a new variable called `mod_value` and assign it the value of the modulus of `a` and `b`.\n"
      ]
    },
    {
      "cell_type": "code",
      "execution_count": 4,
      "metadata": {
        "id": "eI4nZxtnLVF2"
      },
      "outputs": [],
      "source": [
        "# TODO: Create a variable called mod_value and assign it the value of the modulus (or remainder) of a divided by b\n",
        "mod_value = a % b"
      ]
    },
    {
      "cell_type": "code",
      "execution_count": 5,
      "metadata": {
        "id": "P9n3rznuLVF2",
        "outputId": "18c0a256-8136-45f6-ce3f-6fe540a74f6f",
        "colab": {
          "base_uri": "https://localhost:8080/"
        }
      },
      "outputs": [
        {
          "output_type": "stream",
          "name": "stdout",
          "text": [
            "\u001b[92m✔ Well done! You have successfully assigned the value of the remainder of 'a' divided by 'b' to the variable 'mod_value'.\n"
          ]
        }
      ],
      "source": [
        "#@title #### Run this cell to check your solution { display-mode: \"form\", run: \"auto\" }\n",
        "\n",
        "assert \"mod_value\" in globals(), \"You haven't defined the variable 'mod_value'.\"\n",
        "marking_system.check_step_2(mod_value=mod_value)\n"
      ]
    },
    {
      "cell_type": "markdown",
      "metadata": {
        "id": "FpVYy1jfLVF2"
      },
      "source": [
        "### 3. What is the floor division of `a` and `b`?\n",
        "\n",
        "Create a new variable called `floor_value` and assign it the value of the floor division of `a` and `b`.\n"
      ]
    },
    {
      "cell_type": "code",
      "execution_count": 6,
      "metadata": {
        "id": "e_t3vYJJLVF2"
      },
      "outputs": [],
      "source": [
        "# TODO: Create a variable called floor_value and assign it the value of the floor division of a divided by b\n",
        "floor_value = a // b"
      ]
    },
    {
      "cell_type": "code",
      "execution_count": 7,
      "metadata": {
        "id": "IktFL2arLVF2",
        "outputId": "e74fa1fc-b5c6-480e-c3d9-6035ae28b3a2",
        "colab": {
          "base_uri": "https://localhost:8080/"
        }
      },
      "outputs": [
        {
          "output_type": "stream",
          "name": "stdout",
          "text": [
            "\u001b[92m✔ Well done! You have successfully assigned the value of the floor division of 'a' divided by 'b' to the variable 'floor_value'.\n"
          ]
        }
      ],
      "source": [
        "#@title #### Run this cell to check your solution { display-mode: \"form\", run: \"auto\" }\n",
        "\n",
        "assert \"floor_value\" in globals(), \"You haven't defined the variable 'floor_value'.\"\n",
        "marking_system.check_step_3(floor_value=floor_value)\n"
      ]
    },
    {
      "cell_type": "markdown",
      "metadata": {
        "id": "pTAqjfGsLVF2"
      },
      "source": [
        "### 4. What is the exponent of `a` and `b`?\n",
        "\n",
        "Create a new variable called `exp_value` and assign it the value of the exponent of `a` and `b`."
      ]
    },
    {
      "cell_type": "code",
      "execution_count": 8,
      "metadata": {
        "id": "ZCsXgKSnLVF3"
      },
      "outputs": [],
      "source": [
        "# TODO: Create a variable called exp_value and assign it the value of a raised to the power of b\n",
        "exp_value = a ** b"
      ]
    },
    {
      "cell_type": "code",
      "execution_count": 9,
      "metadata": {
        "id": "-lSk2X3qLVF3",
        "outputId": "54b6a169-4403-489f-f3d1-49d904a70eab",
        "colab": {
          "base_uri": "https://localhost:8080/"
        }
      },
      "outputs": [
        {
          "output_type": "stream",
          "name": "stdout",
          "text": [
            "\u001b[92m✔ Well done! You have successfully assigned the value of the exponentiation of 'a' to the power of 'b' to the variable 'exp_value'.\n"
          ]
        }
      ],
      "source": [
        "#@title #### Run this cell to check your solution { display-mode: \"form\", run: \"auto\" }\n",
        "\n",
        "assert \"exp_value\" in globals(), \"You haven't defined the variable 'exp_value'.\"\n",
        "marking_system.check_step_4(exp_value=exp_value)\n"
      ]
    }
  ],
  "metadata": {
    "kernelspec": {
      "display_name": "content-projects_new",
      "language": "python",
      "name": "python3"
    },
    "language_info": {
      "codemirror_mode": {
        "name": "ipython",
        "version": 3
      },
      "file_extension": ".py",
      "mimetype": "text/x-python",
      "name": "python",
      "nbconvert_exporter": "python",
      "pygments_lexer": "ipython3",
      "version": "3.10.8"
    },
    "vscode": {
      "interpreter": {
        "hash": "4b961f8166aad6ccb4cf65d0f9c742ef9c6c23ffe83ad932438cd83ed96aebaf"
      }
    },
    "colab": {
      "provenance": [],
      "include_colab_link": true
    }
  },
  "nbformat": 4,
  "nbformat_minor": 0
}
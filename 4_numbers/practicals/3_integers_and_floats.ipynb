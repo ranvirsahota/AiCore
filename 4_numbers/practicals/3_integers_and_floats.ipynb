{
  "cells": [
    {
      "cell_type": "markdown",
      "metadata": {
        "id": "view-in-github",
        "colab_type": "text"
      },
      "source": [
        "<a href=\"https://colab.research.google.com/github/ranvirsahota/AiCore/blob/python-basics/4_numbers/practicals/3_integers_and_floats.ipynb\" target=\"_parent\"><img src=\"https://colab.research.google.com/assets/colab-badge.svg\" alt=\"Open In Colab\"/></a>"
      ]
    },
    {
      "cell_type": "markdown",
      "metadata": {
        "id": "odD1QfymM1um"
      },
      "source": [
        "# Integers and Floats"
      ]
    },
    {
      "cell_type": "code",
      "execution_count": 18,
      "metadata": {
        "id": "c10a9a05",
        "outputId": "b9d0a18c-03c0-4ee3-a25b-c1408ad241fa",
        "colab": {
          "base_uri": "https://localhost:8080/"
        }
      },
      "outputs": [
        {
          "output_type": "stream",
          "name": "stdout",
          "text": [
            "Downloading the marking system\n"
          ]
        }
      ],
      "source": [
        "#@title ### Run the following cell to download the necessary files for this practical { display-mode: \"form\" }\n",
        "#@markdown Don't worry about what's in this collapsed cell\n",
        "\n",
        "print('Downloading the marking system')\n",
        "!wget https://s3-eu-west-1.amazonaws.com/aicore-portal-public-prod-307050600709/practical_files/cc9d26e3-cb43-4db4-be73-222e33e2ab3f/marking_system.py -q -O marking_system.py\n",
        "import marking_system\n",
        "import importlib\n",
        "importlib.reload(marking_system)\n",
        "import sys\n",
        "ipython = get_ipython()\n",
        "def hide_traceback(exc_tuple=None, filename=None, tb_offset=None, exception_only=False, running_compiled_code=False):\n",
        "    etype, value, tb = sys.exc_info()\n",
        "    value.__cause__ = None  # suppress chained exceptions\n",
        "    return ipython._showtraceback(etype, \"❌ \" + f\"\u001b[91m{value}\", ipython.InteractiveTB.get_exception_only(etype, \"❌ \" + f\"\u001b[91m{value}\"))\n",
        "ipython.showtraceback = hide_traceback\n"
      ]
    },
    {
      "cell_type": "markdown",
      "metadata": {
        "id": "hFshXdwqM1uo"
      },
      "source": [
        "### 1. Define two variables, `a` and `b` and assign them the values `5` and `2` respectively."
      ]
    },
    {
      "cell_type": "code",
      "execution_count": 19,
      "metadata": {
        "id": "CGSFwUIKM1uo"
      },
      "outputs": [],
      "source": [
        "# TODO: Create a variable called 'a' and assign it the value of 5.\n",
        "# TODO: Create a variable called 'b' and assign it the value of 2.\n",
        "a = 5\n",
        "b = 2"
      ]
    },
    {
      "cell_type": "code",
      "execution_count": 20,
      "metadata": {
        "id": "sAuoKqq5M1uo",
        "outputId": "8b9f736c-9214-4b27-e6c7-347bc5661057",
        "colab": {
          "base_uri": "https://localhost:8080/"
        }
      },
      "outputs": [
        {
          "output_type": "stream",
          "name": "stdout",
          "text": [
            "\u001b[92m✔ Well done! You have successfully assigned values to the variables 'a' and 'b'.\n"
          ]
        }
      ],
      "source": [
        "#@title #### Run this cell to check your solution { display-mode: \"form\", run: \"auto\" }\n",
        "\n",
        "assert \"a\" in globals(), \"You haven't defined the variable 'a'.\"\n",
        "assert \"b\" in globals(), \"You haven't defined the variable 'b'.\"\n",
        "marking_system.check_step_1(a=a, b=b)\n"
      ]
    },
    {
      "cell_type": "markdown",
      "metadata": {
        "id": "82dtr0K2M1uo"
      },
      "source": [
        "### 2. What is the type of `a` and `b`?"
      ]
    },
    {
      "cell_type": "code",
      "execution_count": 21,
      "metadata": {
        "id": "FJDRBuILM1uo",
        "outputId": "c067fec1-0ce3-4de9-be8f-9973ae232e6c",
        "colab": {
          "base_uri": "https://localhost:8080/"
        }
      },
      "outputs": [
        {
          "output_type": "stream",
          "name": "stdout",
          "text": [
            "<class 'int'>\n",
            "<class 'int'>\n"
          ]
        }
      ],
      "source": [
        "# TODO: Print the type of 'a'.\n",
        "# TODO: Print the type of 'b'.\n",
        "print(type(a))\n",
        "print(type(b))"
      ]
    },
    {
      "cell_type": "code",
      "execution_count": 22,
      "metadata": {
        "id": "MTj5MlFGM1uo",
        "outputId": "738284ef-261d-466c-fd6d-8f19ef399f03",
        "colab": {
          "base_uri": "https://localhost:8080/"
        }
      },
      "outputs": [
        {
          "output_type": "stream",
          "name": "stdout",
          "text": [
            "\u001b[92m✔ Well done! Your answer is correct.\n"
          ]
        }
      ],
      "source": [
        "#@title #### Enter your solution here { display-mode: \"form\", run: \"auto\" }\n",
        "\n",
        "#@markdown What is the type of 'a'?\n",
        "a_type = \"int\" #@param [\"int\", \"str\", \"float\"] {allow-input: true}\n",
        "#@markdown What is the type of 'b'?\n",
        "b_type = \"int\" #@param [\"int\", \"str\", \"float\"] {allow-input: true}\n",
        "marking_system.check_step_2(a_type=a_type, b_type=b_type)\n"
      ]
    },
    {
      "cell_type": "markdown",
      "metadata": {
        "id": "TQWcKIrCM1up"
      },
      "source": [
        "### 3. Define a variable called `c` and assign it the value of `a / b`\n"
      ]
    },
    {
      "cell_type": "code",
      "execution_count": 23,
      "metadata": {
        "id": "EXm0U7c2M1up"
      },
      "outputs": [],
      "source": [
        "# TODO: Create a variable called 'c' and assign it the value of 'a' divided by 'b'.\n",
        "c = a / b"
      ]
    },
    {
      "cell_type": "code",
      "execution_count": 24,
      "metadata": {
        "id": "tsFxLhgTM1up",
        "outputId": "0373b333-fd9f-4d28-94a0-36dbb8e98024",
        "colab": {
          "base_uri": "https://localhost:8080/"
        }
      },
      "outputs": [
        {
          "output_type": "stream",
          "name": "stdout",
          "text": [
            "\u001b[92m✔ Well done! You have successfully assigned the value of the division of 'a' by 'b' to the variable 'c'.\n"
          ]
        }
      ],
      "source": [
        "#@title #### Run this cell to check your solution { display-mode: \"form\", run: \"auto\" }\n",
        "\n",
        "assert \"c\" in globals(), \"You haven't defined the variable 'c'.\"\n",
        "marking_system.check_step_3(c=c)\n"
      ]
    },
    {
      "cell_type": "markdown",
      "metadata": {
        "id": "D7OzskNnM1up"
      },
      "source": [
        "### 4. What is the type of `c`?"
      ]
    },
    {
      "cell_type": "code",
      "execution_count": 25,
      "metadata": {
        "id": "PeV4PVeGM1up",
        "outputId": "0eadf201-a03d-439e-dae2-60bc35b8603e",
        "colab": {
          "base_uri": "https://localhost:8080/"
        }
      },
      "outputs": [
        {
          "output_type": "stream",
          "name": "stdout",
          "text": [
            "<class 'float'>\n"
          ]
        }
      ],
      "source": [
        "# TODO: Print the type of 'c'.\n",
        "print(type(c))"
      ]
    },
    {
      "cell_type": "code",
      "execution_count": 26,
      "metadata": {
        "id": "KTiQJC8UM1up",
        "outputId": "04460f5a-697d-4298-dac3-1aabf08b5389",
        "colab": {
          "base_uri": "https://localhost:8080/"
        }
      },
      "outputs": [
        {
          "output_type": "stream",
          "name": "stdout",
          "text": [
            "\u001b[92m✔ Well done! Your answer is correct.\n"
          ]
        }
      ],
      "source": [
        "#@title #### Enter your solution here { display-mode: \"form\", run: \"auto\" }\n",
        "\n",
        "#@markdown What is the type of the 'c'?\n",
        "c_type = \"float\" #@param [\"int\", \"str\", \"float\"] {allow-input: true}\n",
        "marking_system.check_step_4(c_type=c_type)\n"
      ]
    },
    {
      "cell_type": "markdown",
      "metadata": {
        "id": "tX5OaGcVM1up"
      },
      "source": [
        "### 5. Define a variable called `d` and assign it the value of `a // b`\n"
      ]
    },
    {
      "cell_type": "code",
      "execution_count": 27,
      "metadata": {
        "id": "avpweCKiM1up"
      },
      "outputs": [],
      "source": [
        "# TODO: Create a variable called 'd' and assign it the value of 'a' divided by 'b' using integer division.\n",
        "d = a // b"
      ]
    },
    {
      "cell_type": "code",
      "execution_count": 28,
      "metadata": {
        "id": "7QXfNIGQM1up",
        "outputId": "1a98926c-8d3c-4d41-e407-f32148b07ac1",
        "colab": {
          "base_uri": "https://localhost:8080/"
        }
      },
      "outputs": [
        {
          "output_type": "stream",
          "name": "stdout",
          "text": [
            "\u001b[92m✔ Well done! You have successfully assigned the value of the floor division of 'a' by 'b' to the variable 'd'.By default, Python returns a float when performing a division operation, but it returns an integer when performing a floor division operation.\n"
          ]
        }
      ],
      "source": [
        "#@title #### Run this cell to check your solution { display-mode: \"form\", run: \"auto\" }\n",
        "\n",
        "assert \"d\" in globals(), \"You haven't defined the variable 'd'.\"\n",
        "marking_system.check_step_5(d=d)\n"
      ]
    },
    {
      "cell_type": "markdown",
      "metadata": {
        "id": "aeXaav4oM1uq"
      },
      "source": [
        "### 6. What is the type of `d`?\n"
      ]
    },
    {
      "cell_type": "code",
      "execution_count": 29,
      "metadata": {
        "id": "CKAYheBbM1uq",
        "outputId": "9b4e5da0-1863-4e57-d363-11eee401ad85",
        "colab": {
          "base_uri": "https://localhost:8080/"
        }
      },
      "outputs": [
        {
          "output_type": "stream",
          "name": "stdout",
          "text": [
            "<class 'int'>\n"
          ]
        }
      ],
      "source": [
        "# TODO: Print the type of 'd'.\n",
        "print(type(d))"
      ]
    },
    {
      "cell_type": "code",
      "execution_count": 30,
      "metadata": {
        "id": "_tFeLxCSM1uq",
        "outputId": "9a69a19d-ec60-4101-8c9a-a5bb1b92ab59",
        "colab": {
          "base_uri": "https://localhost:8080/"
        }
      },
      "outputs": [
        {
          "output_type": "stream",
          "name": "stdout",
          "text": [
            "\u001b[92m✔ Well done! A floor division operation returns an integer.\n"
          ]
        }
      ],
      "source": [
        "#@title #### Enter your solution here { display-mode: \"form\", run: \"auto\" }\n",
        "\n",
        "#@markdown What is the type of the 'd'?\n",
        "d_type = \"int\" #@param [\"int\", \"str\", \"float\", \"None\"] {allow-input: true}\n",
        "marking_system.check_step_6(d_type=d_type)\n"
      ]
    }
  ],
  "metadata": {
    "kernelspec": {
      "display_name": "content-projects_new",
      "language": "python",
      "name": "python3"
    },
    "language_info": {
      "codemirror_mode": {
        "name": "ipython",
        "version": 3
      },
      "file_extension": ".py",
      "mimetype": "text/x-python",
      "name": "python",
      "nbconvert_exporter": "python",
      "pygments_lexer": "ipython3",
      "version": "3.10.8"
    },
    "vscode": {
      "interpreter": {
        "hash": "4b961f8166aad6ccb4cf65d0f9c742ef9c6c23ffe83ad932438cd83ed96aebaf"
      }
    },
    "colab": {
      "provenance": [],
      "include_colab_link": true
    }
  },
  "nbformat": 4,
  "nbformat_minor": 0
}
{
  "cells": [
    {
      "cell_type": "markdown",
      "metadata": {
        "id": "view-in-github",
        "colab_type": "text"
      },
      "source": [
        "<a href=\"https://colab.research.google.com/github/ranvirsahota/AiCore/blob/web-apis/05_sending_data_to_FastAPI/writing_requests_notebook_practical.ipynb\" target=\"_parent\"><img src=\"https://colab.research.google.com/assets/colab-badge.svg\" alt=\"Open In Colab\"/></a>"
      ]
    },
    {
      "cell_type": "markdown",
      "metadata": {
        "id": "VE_srKSQsO7L"
      },
      "source": [
        "# Writing Requests"
      ]
    },
    {
      "cell_type": "markdown",
      "metadata": {
        "id": "oEQPVRIusO7N"
      },
      "source": [
        "Look at the code blocks below, and in each case write the request necessary to supply the required data in the correct format. Assume the API is running on the local host."
      ]
    },
    {
      "cell_type": "markdown",
      "metadata": {
        "id": "-Zh_LwYtsO7N"
      },
      "source": [
        "1. Write a `GET` request to retrieve the data for the product with `product_id` = `5`"
      ]
    },
    {
      "cell_type": "code",
      "execution_count": null,
      "metadata": {
        "id": "LtKd_jtHsO7N"
      },
      "outputs": [],
      "source": [
        "import fastapi\n",
        "import uvicorn\n",
        "\n",
        "api = fastapi.FastAPI()\n",
        "\n",
        "@api.get('/product/by_id/{product_id}')\n",
        "def get_product_by_ID(product_id: int):\n",
        "    # This function is looking for a query parameter called 'genre'\n",
        "    print(f'Fetching data for product with ID= {product_id}')\n"
      ]
    },
    {
      "cell_type": "code",
      "execution_count": null,
      "metadata": {
        "id": "5_g4lAJXsO7O"
      },
      "outputs": [],
      "source": [
        "# TODO - Write a request to get the product with ID= 5\n",
        "import requests\n",
        "requests.get('http://127.0.0.1:8000//product/by_id/5')"
      ]
    },
    {
      "cell_type": "markdown",
      "metadata": {
        "id": "Y0kQv8U9sO7O"
      },
      "source": [
        "2. Write a `GET` request to retrieve the products where `category` is `accessories` and `max_price` is `50.00`"
      ]
    },
    {
      "cell_type": "code",
      "execution_count": null,
      "metadata": {
        "id": "vQqBxTsHsO7P"
      },
      "outputs": [],
      "source": [
        "import fastapi\n",
        "import uvicorn\n",
        "\n",
        "api = fastapi.FastAPI()\n",
        "\n",
        "@api.get('/product/by_category_and_price/')\n",
        "def get_product_by_category_and_price(category: str, max_price: float):\n",
        "    # This function is looking for a query parameter called 'genre'\n",
        "    print(f'Fetching data for products in category {category} and price under £{max_price}')\n"
      ]
    },
    {
      "cell_type": "code",
      "execution_count": null,
      "metadata": {
        "id": "bnnDG4x-sO7P"
      },
      "outputs": [],
      "source": [
        "# TODO - Write a request to get the products in the 'accessories' category with a price under £50.00\n",
        "import requests\n",
        "requests.get('http://127.0.0.1:8000/product/by_category_and_price?category=accessories&max_price=50.00')"
      ]
    },
    {
      "cell_type": "markdown",
      "metadata": {
        "id": "UAvnr74esO7P"
      },
      "source": [
        "3. Write a `POST` request to add a new item with the following attributes:\n",
        "\n",
        "``` python\n",
        "\n",
        "name: ludicrously-expensive-sunglasses\n",
        "category: accessories\n",
        "product_id: 77\n",
        "price: 500\n",
        "\n",
        "```"
      ]
    },
    {
      "cell_type": "code",
      "execution_count": null,
      "metadata": {
        "id": "TkxKc4u5sO7Q"
      },
      "outputs": [],
      "source": [
        "import fastapi\n",
        "from pydantic import BaseModel\n",
        "api = fastapi.FastAPI()\n",
        "\n",
        "class Product(BaseModel):\n",
        "    name: str\n",
        "    category: str\n",
        "    product_id: int\n",
        "    price: float\n",
        "\n",
        "\n",
        "@api.post('/product/new_product')\n",
        "def create_new_author(product: Product):\n",
        "   print(f\"adding new product, name: {product.name}, id: {product.product_id}, category: {product.category}, price: {product.price}\")\n"
      ]
    },
    {
      "cell_type": "code",
      "execution_count": null,
      "metadata": {
        "id": "iSo171EDsO7Q"
      },
      "outputs": [],
      "source": [
        "# TODO - Write a POST request to create a new product with the correct details\n",
        "import requests\n",
        "import json\n",
        "product = {\n",
        "    'name': 'ludicrously-expensive-sunglasses',\n",
        "    'category': 'accessories',\n",
        "    'product_id': 77,\n",
        "    'price': 500,\n",
        "    }\n",
        "requests.post('http://127.0.0.1:8000/product/new_product', data=json.dumps(product))"
      ]
    }
  ],
  "metadata": {
    "language_info": {
      "name": "python"
    },
    "colab": {
      "provenance": [],
      "include_colab_link": true
    },
    "kernelspec": {
      "name": "python3",
      "display_name": "Python 3"
    }
  },
  "nbformat": 4,
  "nbformat_minor": 0
}
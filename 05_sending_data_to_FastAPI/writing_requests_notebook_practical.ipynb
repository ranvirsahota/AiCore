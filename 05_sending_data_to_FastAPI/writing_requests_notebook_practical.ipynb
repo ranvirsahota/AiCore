{
  "cells": [
    {
      "cell_type": "markdown",
      "metadata": {
        "id": "view-in-github",
        "colab_type": "text"
      },
      "source": [
        "<a href=\"https://colab.research.google.com/github/ranvirsahota/AiCore/blob/web-apis/05_sending_data_to_FastAPI/writing_requests_notebook_practical.ipynb\" target=\"_parent\"><img src=\"https://colab.research.google.com/assets/colab-badge.svg\" alt=\"Open In Colab\"/></a>"
      ]
    },
    {
      "cell_type": "markdown",
      "metadata": {
        "id": "wVWXo8Hkq5ro"
      },
      "source": [
        "# Writing Requests"
      ]
    },
    {
      "cell_type": "markdown",
      "metadata": {
        "id": "vpJwl6fMq5rq"
      },
      "source": [
        "Look at the code blocks below, and in each case write the request necessary to supply the required data in the correct format. Assume the API is running on the local host."
      ]
    },
    {
      "cell_type": "markdown",
      "metadata": {
        "id": "RaCmLK56q5rq"
      },
      "source": [
        "1. Write a `GET` request to retrieve the data for the product with `product_id` = `5`"
      ]
    },
    {
      "cell_type": "code",
      "execution_count": null,
      "metadata": {
        "id": "FRHBOtAdq5rq"
      },
      "outputs": [],
      "source": [
        "import fastapi\n",
        "import uvicorn\n",
        "\n",
        "api = fastapi.FastAPI()\n",
        "\n",
        "@api.get('/product/by_id/{product_id}')\n",
        "def get_product_by_ID(product_id: int):\n",
        "    # This function is looking for a query parameter called 'genre'\n",
        "    print(f'Fetching data for product with ID= {product_id}')\n"
      ]
    },
    {
      "cell_type": "code",
      "execution_count": null,
      "metadata": {
        "id": "86txehynq5rr"
      },
      "outputs": [],
      "source": [
        "# TODO - Write a request to get the product with ID= 5\n"
      ]
    },
    {
      "cell_type": "markdown",
      "metadata": {
        "id": "5jSLlK94q5rs"
      },
      "source": [
        "2. Write a `GET` request to retrieve the products where `category` is `accessories` and `max_price` is `50.00`"
      ]
    },
    {
      "cell_type": "code",
      "execution_count": null,
      "metadata": {
        "id": "UeNI8qtkq5rs"
      },
      "outputs": [],
      "source": [
        "import fastapi\n",
        "import uvicorn\n",
        "\n",
        "api = fastapi.FastAPI()\n",
        "\n",
        "@api.get('/product/by_category_and_price/')\n",
        "def get_product_by_category_and_price(category: str, max_price: float):\n",
        "    # This function is looking for a query parameter called 'genre'\n",
        "    print(f'Fetching data for products in category {category} and price under £{max_price}')\n"
      ]
    },
    {
      "cell_type": "code",
      "execution_count": null,
      "metadata": {
        "id": "KBWs2Nc9q5rs"
      },
      "outputs": [],
      "source": [
        "# TODO - Write a request to get the products in the 'accessories' category with a price under £50.00\n"
      ]
    },
    {
      "cell_type": "markdown",
      "metadata": {
        "id": "3vqNgr1Jq5rs"
      },
      "source": [
        "3. Write a `POST` request to add a new item with the following attributes:\n",
        "\n",
        "``` python\n",
        "\n",
        "name: ludicrously-expensive-sunglasses\n",
        "category: accessories\n",
        "product_id: 77\n",
        "price: 500\n",
        "\n",
        "```"
      ]
    },
    {
      "cell_type": "code",
      "execution_count": null,
      "metadata": {
        "id": "gzhA1YQiq5rt"
      },
      "outputs": [],
      "source": [
        "import fastapi\n",
        "from pydantic import BaseModel\n",
        "api = fastapi.FastAPI()\n",
        "\n",
        "class Product(BaseModel):\n",
        "    name: str\n",
        "    category: str\n",
        "    product_id: int\n",
        "    price: float\n",
        "\n",
        "\n",
        "@api.post('/product/new_product')\n",
        "def create_new_author(product: Product):\n",
        "   print(f\"adding new product, name: {product.name}, id: {product.product_id}, category: {product.category}, price: {product.price}\")\n"
      ]
    },
    {
      "cell_type": "code",
      "execution_count": null,
      "metadata": {
        "id": "0knodPemq5rt"
      },
      "outputs": [],
      "source": [
        "# TODO - Write a POST request to create a new product with the correct details\n"
      ]
    }
  ],
  "metadata": {
    "language_info": {
      "name": "python"
    },
    "colab": {
      "provenance": [],
      "include_colab_link": true
    }
  },
  "nbformat": 4,
  "nbformat_minor": 0
}
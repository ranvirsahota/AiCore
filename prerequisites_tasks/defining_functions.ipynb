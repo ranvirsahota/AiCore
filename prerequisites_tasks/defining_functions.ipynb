{
  "cells": [
    {
      "cell_type": "markdown",
      "metadata": {
        "id": "view-in-github",
        "colab_type": "text"
      },
      "source": [
        "<a href=\"https://colab.research.google.com/github/ranvirsahota/AiCore/blob/project-hangman/prerequisites_tasks/defining_functions.ipynb\" target=\"_parent\"><img src=\"https://colab.research.google.com/assets/colab-badge.svg\" alt=\"Open In Colab\"/></a>"
      ]
    },
    {
      "cell_type": "markdown",
      "metadata": {
        "id": "k2lFaqd_Yn80"
      },
      "source": [
        "# Functions"
      ]
    },
    {
      "cell_type": "markdown",
      "metadata": {
        "id": "CyrsHUzuYn80"
      },
      "source": [
        "## Learning Objectives\n",
        "- Understand functions.\n",
        "- Learn how to define a function.\n",
        "- Understand the basic difference between functions and methods.\n",
        "- Understand arguments and outputs.\n",
        "- Learn how to use the help() function.\n",
        "- Understand the concepts of scope and recursion."
      ]
    },
    {
      "cell_type": "markdown",
      "metadata": {
        "id": "PtnIuEtPYn81"
      },
      "source": [
        "## Introduction\n",
        "\n",
        "- Functions comprise a block of code that only runs when called.\n",
        "- They enable us to avoid redefining repetitive operations.\n",
        "- Similar to For loops, functions allow us to adhere to the DRY principle."
      ]
    },
    {
      "cell_type": "markdown",
      "metadata": {
        "id": "Xvh7i0SUYn81"
      },
      "source": [
        "## Defining Functions"
      ]
    },
    {
      "cell_type": "markdown",
      "metadata": {
        "id": "omqEiyYkYn81"
      },
      "source": [
        "- A function accepts parameters and can return an output.\n",
        "- The value passed in as a parameter is called an **argument**.\n",
        "- A function associated with an object is called a method.\n",
        "- An instance of a function is called a function call. <br><br>\n",
        "The basic syntax of a function is as follows:"
      ]
    },
    {
      "cell_type": "code",
      "execution_count": 19,
      "metadata": {
        "id": "u5eNkVjDYn81"
      },
      "outputs": [],
      "source": [
        "# function definition\n",
        "def function_name (param1, param2 = 1):\n",
        "    '''\n",
        "    DOCSTRING: explains function\n",
        "    INPUT: Name (str)\n",
        "    OUTPUT: Hello Name (str)\n",
        "    '''\n",
        "    # add code to run\n",
        "    return(\"Hello \" + param1)"
      ]
    },
    {
      "cell_type": "code",
      "execution_count": 20,
      "metadata": {
        "id": "gkN2yyn7Yn81",
        "outputId": "251373e9-af4a-4bee-de94-c01ff4ef22fd",
        "colab": {
          "base_uri": "https://localhost:8080/",
          "height": 35
        }
      },
      "outputs": [
        {
          "output_type": "execute_result",
          "data": {
            "text/plain": [
              "'Hello Zain'"
            ],
            "application/vnd.google.colaboratory.intrinsic+json": {
              "type": "string"
            }
          },
          "metadata": {},
          "execution_count": 20
        }
      ],
      "source": [
        "# function call\n",
        "function_name(\"Zain\")"
      ]
    },
    {
      "cell_type": "code",
      "execution_count": 21,
      "metadata": {
        "id": "34asH20lYn82",
        "outputId": "37075874-880d-48f4-bcb0-ef5fbb50245a",
        "colab": {
          "base_uri": "https://localhost:8080/"
        }
      },
      "outputs": [
        {
          "output_type": "execute_result",
          "data": {
            "text/plain": [
              "<function __main__.function_name(param1, param2=1)>"
            ]
          },
          "metadata": {},
          "execution_count": 21
        }
      ],
      "source": [
        "function_name"
      ]
    },
    {
      "cell_type": "markdown",
      "metadata": {
        "id": "5ptxxtCUYn82"
      },
      "source": [
        "- The __def__ keyword notifies python that a function is about to be defined.\n",
        "- __Function name__, as implied, refers to the name of the function (all in lower case, separated by an underscore; built-in keywords should not be used (see PEP8 for details)).\n",
        "- __Parameters__, in parentheses, are the passed-in values.\n",
        "- __Default arguments__ are arguments that have a default value to revert to if no other value is specified. Here, param2 = 1 indicates that param2 will be 1, unless otherwise specified in the function call.\n",
        "- __Colon__ indicates the end of the definition line; the next line will be indented.\n",
        "- __Docstrings__ explain what the function is doing (read PEP257 or google __*'python docstrings'*__ for guidelines; https://www.python.org/dev/peps/pep-0257/).\n",
        "- The __Return__ keyword indicates the output of the function.\n",
        "<br><br>\n",
        "\n",
        "Things to note.\n",
        "- When performing a function call, the name of the function should be written, followed by parentheses containing the arguments to be passed.\n",
        "- If a function is called without parentheses, it will not run! It will simply display some information on the function, including the module it belongs to, its name, and the parameters it accepts."
      ]
    },
    {
      "cell_type": "markdown",
      "metadata": {
        "id": "lcKlqVoEYn82"
      },
      "source": [
        "## The help() Function"
      ]
    },
    {
      "cell_type": "markdown",
      "metadata": {
        "id": "Da7_OTvrYn82"
      },
      "source": [
        "- The help() function is used to find the documentation of a function.\n",
        "- The keyboard shortcut for this is Shift + Tab.\n",
        "- For more detailed information, find and use the full function documentation on Google."
      ]
    },
    {
      "cell_type": "code",
      "execution_count": 22,
      "metadata": {
        "id": "8ldeesIrYn82",
        "outputId": "3b9bcc54-6b74-4b5c-f980-83c91078bce1",
        "colab": {
          "base_uri": "https://localhost:8080/"
        }
      },
      "outputs": [
        {
          "output_type": "stream",
          "name": "stdout",
          "text": [
            "Help on function function_name in module __main__:\n",
            "\n",
            "function_name(param1, param2=1)\n",
            "    DOCSTRING: explains function\n",
            "    INPUT: Name (str)\n",
            "    OUTPUT: Hello Name (str)\n",
            "\n"
          ]
        }
      ],
      "source": [
        "help(function_name)"
      ]
    },
    {
      "cell_type": "code",
      "execution_count": 23,
      "metadata": {
        "id": "OJpBuubZYn82",
        "outputId": "136414b7-e34e-4cd2-df87-d800feb7a1fe",
        "colab": {
          "base_uri": "https://localhost:8080/"
        }
      },
      "outputs": [
        {
          "output_type": "execute_result",
          "data": {
            "text/plain": [
              "1"
            ]
          },
          "metadata": {},
          "execution_count": 23
        }
      ],
      "source": [
        "x = 0\n",
        "def func(x):\n",
        "    x = x + 1\n",
        "    return x\n",
        "\n",
        "func(x)"
      ]
    },
    {
      "cell_type": "code",
      "execution_count": 24,
      "metadata": {
        "id": "ClygmX6NYn83",
        "outputId": "f001edb7-abb2-413c-fc10-5d7ba20c735e",
        "colab": {
          "base_uri": "https://localhost:8080/"
        }
      },
      "outputs": [
        {
          "output_type": "stream",
          "name": "stdout",
          "text": [
            "Help on built-in function print in module builtins:\n",
            "\n",
            "print(...)\n",
            "    print(value, ..., sep=' ', end='\\n', file=sys.stdout, flush=False)\n",
            "    \n",
            "    Prints the values to a stream, or to sys.stdout by default.\n",
            "    Optional keyword arguments:\n",
            "    file:  a file-like object (stream); defaults to the current sys.stdout.\n",
            "    sep:   string inserted between values, default a space.\n",
            "    end:   string appended after the last value, default a newline.\n",
            "    flush: whether to forcibly flush the stream.\n",
            "\n"
          ]
        }
      ],
      "source": [
        "help(print)"
      ]
    },
    {
      "cell_type": "markdown",
      "metadata": {
        "id": "2QgqIcvBYn83"
      },
      "source": [
        "## Variable Scope"
      ]
    },
    {
      "cell_type": "markdown",
      "metadata": {
        "id": "ojoKbOKGYn83"
      },
      "source": [
        "- Variable scope refers to the sections in a program in which a variable can be referenced.\n",
        "- There are two kinds of variable scopes: local and global.\n",
        "- A variable defined in a function can only be referenced within that function: local scope.\n",
        "- A variable defined outside a function (in the general script) can be referenced within the function; however, it cannot be modified from within the function (UnboundLocalError).\n",
        "- To modify it within the function, it must be redefined within the function."
      ]
    },
    {
      "cell_type": "code",
      "execution_count": 25,
      "metadata": {
        "id": "ltl1yI0VYn83",
        "outputId": "3b130ea7-ac59-4753-d185-ca34953e0245",
        "colab": {
          "base_uri": "https://localhost:8080/"
        }
      },
      "outputs": [
        {
          "output_type": "stream",
          "name": "stdout",
          "text": [
            "12\n",
            "0\n"
          ]
        }
      ],
      "source": [
        "counter = 0 # Global scope\n",
        "\n",
        "def add_to_counter():\n",
        "    counter = 12\n",
        "    output = counter # Local scope\n",
        "    return output # When calling for the function, the returned value will correspond to what is included in this statement.\n",
        "\n",
        "x = add_to_counter()\n",
        "print(x)\n",
        "print(counter) # The local scope does not change the global scope."
      ]
    },
    {
      "cell_type": "code",
      "execution_count": 26,
      "metadata": {
        "id": "O-zikQ28Yn83",
        "outputId": "bb59c0dd-2473-4a33-f06e-4c5bf68017a4",
        "colab": {
          "base_uri": "https://localhost:8080/"
        }
      },
      "outputs": [
        {
          "output_type": "stream",
          "name": "stdout",
          "text": [
            "12\n",
            "0\n"
          ]
        }
      ],
      "source": [
        "counter = 0 # Global scope\n",
        "\n",
        "def add_to_counter():\n",
        "    counter = 12 # Local scope\n",
        "    return counter # When calling for the function, the returned value will correspond to what is included in this statement.\n",
        "\n",
        "x = add_to_counter()\n",
        "print(x)\n",
        "print(counter) # The local scope does not change the global scope."
      ]
    },
    {
      "cell_type": "markdown",
      "metadata": {
        "id": "LVE5Yj2uYn83"
      },
      "source": [
        "Although the global scope affects the local scope, it does not mean that the global variable is actually within the function. In the below example, global counter affects the value of local counter; however, if it is used before it is defined in the function, it will not work. This is because the function does not know whether to use the local or global scope."
      ]
    },
    {
      "cell_type": "code",
      "execution_count": 27,
      "metadata": {
        "id": "5XL95BxVYn83",
        "outputId": "63c52568-038d-4687-ede8-a41139a5a31b",
        "colab": {
          "base_uri": "https://localhost:8080/",
          "height": 367
        }
      },
      "outputs": [
        {
          "output_type": "error",
          "ename": "UnboundLocalError",
          "evalue": "ignored",
          "traceback": [
            "\u001b[0;31m---------------------------------------------------------------------------\u001b[0m",
            "\u001b[0;31mUnboundLocalError\u001b[0m                         Traceback (most recent call last)",
            "\u001b[0;32m<ipython-input-27-80e4a6fcfdf9>\u001b[0m in \u001b[0;36m<cell line: 7>\u001b[0;34m()\u001b[0m\n\u001b[1;32m      5\u001b[0m     \u001b[0;32mreturn\u001b[0m \u001b[0mcounter\u001b[0m\u001b[0;34m\u001b[0m\u001b[0;34m\u001b[0m\u001b[0m\n\u001b[1;32m      6\u001b[0m \u001b[0;34m\u001b[0m\u001b[0m\n\u001b[0;32m----> 7\u001b[0;31m \u001b[0mcounter\u001b[0m \u001b[0;34m=\u001b[0m \u001b[0madd_to_counter\u001b[0m\u001b[0;34m(\u001b[0m\u001b[0;34m)\u001b[0m\u001b[0;34m\u001b[0m\u001b[0;34m\u001b[0m\u001b[0m\n\u001b[0m\u001b[1;32m      8\u001b[0m \u001b[0;34m\u001b[0m\u001b[0m\n\u001b[1;32m      9\u001b[0m \u001b[0mprint\u001b[0m\u001b[0;34m(\u001b[0m\u001b[0mcounter\u001b[0m\u001b[0;34m)\u001b[0m\u001b[0;34m\u001b[0m\u001b[0;34m\u001b[0m\u001b[0m\n",
            "\u001b[0;32m<ipython-input-27-80e4a6fcfdf9>\u001b[0m in \u001b[0;36madd_to_counter\u001b[0;34m()\u001b[0m\n\u001b[1;32m      2\u001b[0m \u001b[0;34m\u001b[0m\u001b[0m\n\u001b[1;32m      3\u001b[0m \u001b[0;32mdef\u001b[0m \u001b[0madd_to_counter\u001b[0m\u001b[0;34m(\u001b[0m\u001b[0;34m)\u001b[0m\u001b[0;34m:\u001b[0m\u001b[0;34m\u001b[0m\u001b[0;34m\u001b[0m\u001b[0m\n\u001b[0;32m----> 4\u001b[0;31m     \u001b[0mcounter\u001b[0m \u001b[0;34m=\u001b[0m \u001b[0mcounter\u001b[0m \u001b[0;34m+\u001b[0m \u001b[0;36m1\u001b[0m\u001b[0;34m\u001b[0m\u001b[0;34m\u001b[0m\u001b[0m\n\u001b[0m\u001b[1;32m      5\u001b[0m     \u001b[0;32mreturn\u001b[0m \u001b[0mcounter\u001b[0m\u001b[0;34m\u001b[0m\u001b[0;34m\u001b[0m\u001b[0m\n\u001b[1;32m      6\u001b[0m \u001b[0;34m\u001b[0m\u001b[0m\n",
            "\u001b[0;31mUnboundLocalError\u001b[0m: local variable 'counter' referenced before assignment"
          ]
        }
      ],
      "source": [
        "counter = 0\n",
        "\n",
        "def add_to_counter():\n",
        "    counter = counter + 1\n",
        "    return counter\n",
        "\n",
        "counter = add_to_counter()\n",
        "\n",
        "print(counter)"
      ]
    },
    {
      "cell_type": "markdown",
      "metadata": {
        "id": "IPR1kZoXYn83"
      },
      "source": [
        "Here, the value of counter is known, even though it has not been defined."
      ]
    },
    {
      "cell_type": "code",
      "execution_count": 28,
      "metadata": {
        "id": "8ptxy5_BYn83",
        "outputId": "97bee566-0dc2-47a3-f5ca-cda925c29d5a",
        "colab": {
          "base_uri": "https://localhost:8080/"
        }
      },
      "outputs": [
        {
          "output_type": "stream",
          "name": "stdout",
          "text": [
            "1\n"
          ]
        }
      ],
      "source": [
        "counter = 0\n",
        "\n",
        "def add_to_counter():\n",
        "    x = counter + 1\n",
        "    return x\n",
        "\n",
        "counter = add_to_counter()\n",
        "\n",
        "print(counter)"
      ]
    },
    {
      "cell_type": "markdown",
      "metadata": {
        "id": "d49tyhy4Yn84"
      },
      "source": [
        "To modify the global scope from within a function, the global keyword can be used."
      ]
    },
    {
      "cell_type": "code",
      "execution_count": 29,
      "metadata": {
        "id": "jxQV6747Yn84",
        "outputId": "375e9633-4ee9-418d-f8f4-aaa90f6657bf",
        "colab": {
          "base_uri": "https://localhost:8080/"
        }
      },
      "outputs": [
        {
          "output_type": "stream",
          "name": "stdout",
          "text": [
            "12\n"
          ]
        }
      ],
      "source": [
        "counter = 0\n",
        "\n",
        "def add_to_counter():\n",
        "    global counter\n",
        "    counter += 12 # add 12 to counter\n",
        "    return counter\n",
        "\n",
        "add_to_counter()\n",
        "print(counter)"
      ]
    },
    {
      "cell_type": "markdown",
      "metadata": {
        "id": "TsmNNBvCYn84"
      },
      "source": [
        "Functions can accept an indefinite number of arguments. However, if the number of arguments varies, the * and ** operators can be introduced as inputs for the function."
      ]
    },
    {
      "cell_type": "code",
      "execution_count": 30,
      "metadata": {
        "id": "VOwzlaLnYn84",
        "outputId": "f0080cc7-bf4f-4e41-8a92-b0b772a93936",
        "colab": {
          "base_uri": "https://localhost:8080/"
        }
      },
      "outputs": [
        {
          "output_type": "stream",
          "name": "stdout",
          "text": [
            "(1, 2, 3, 5, 6, 2, 1)\n",
            "{'a': 4, 'b': 5, 'c': 6}\n"
          ]
        }
      ],
      "source": [
        "def fun_dummy(*args, **kwargs): # args = arguments, kwargs = key word arguments\n",
        "    print(args) # args is now a tuple\n",
        "    print(kwargs) # kwargs now is a dictionary\n",
        "\n",
        "fun_dummy(1, 2, 3, 5, 6, 2, 1, a=4, b=5, c=6)\n",
        "# anything without a keyword argument (by keyword, we mean a, b, c) will be a tuple in the function.\n",
        "# Anything with a keyword argument will be included in a dictionary in the function."
      ]
    },
    {
      "cell_type": "markdown",
      "metadata": {
        "id": "TO5ulGNPYn84"
      },
      "source": [
        "In the following example, an undefined number of arguments is passed to a function to perform a sum operation:"
      ]
    },
    {
      "cell_type": "code",
      "execution_count": 31,
      "metadata": {
        "id": "D5j_DgKJYn84",
        "outputId": "0d0307fd-35aa-4d46-9bea-5b136c8d8618",
        "colab": {
          "base_uri": "https://localhost:8080/"
        }
      },
      "outputs": [
        {
          "output_type": "stream",
          "name": "stdout",
          "text": [
            "args is a tuple (1, 42, 4.2)\n",
            "47.2\n",
            "args is a tuple (1, 1, 1, 1, 1, 1, 1, 1, 1, 1, 1, 1, 1, 1, 1, 1)\n",
            "16\n"
          ]
        }
      ],
      "source": [
        "def sum_args(*args):\n",
        "    print(f'args is a tuple {args}')\n",
        "    return sum(args)\n",
        "\n",
        "\n",
        "print(sum_args(1, 42, 4.2))  # You can add as many arguments as you want.\n",
        "print(sum_args(1, 1, 1, 1, 1, 1, 1, 1, 1, 1, 1, 1, 1, 1, 1, 1))\n"
      ]
    },
    {
      "cell_type": "markdown",
      "metadata": {
        "id": "Nj7Fp6PsYn84"
      },
      "source": [
        "When passing **kwargs, kwargs can serve as a dictionary, which can be iterated over."
      ]
    },
    {
      "cell_type": "code",
      "execution_count": 32,
      "metadata": {
        "id": "r7etggOoYn84"
      },
      "outputs": [],
      "source": [
        "new_dict = {'a': 5, 'b': 3, 'c': 6}"
      ]
    },
    {
      "cell_type": "code",
      "execution_count": 33,
      "metadata": {
        "id": "7ApjdBUIYn84"
      },
      "outputs": [],
      "source": [
        "x, y = (1, 2)"
      ]
    },
    {
      "cell_type": "code",
      "execution_count": 34,
      "metadata": {
        "id": "8E0hmjsjYn84",
        "outputId": "dcd32897-c46f-4b12-8155-c61e57454567",
        "colab": {
          "base_uri": "https://localhost:8080/"
        }
      },
      "outputs": [
        {
          "output_type": "execute_result",
          "data": {
            "text/plain": [
              "dict_items([('a', 5), ('b', 3), ('c', 6)])"
            ]
          },
          "metadata": {},
          "execution_count": 34
        }
      ],
      "source": [
        "new_dict.items()"
      ]
    },
    {
      "cell_type": "code",
      "execution_count": 35,
      "metadata": {
        "id": "_rMb0PhoYn84",
        "outputId": "8c33efb5-f50a-4d81-b86e-c3e17558d369",
        "colab": {
          "base_uri": "https://localhost:8080/"
        }
      },
      "outputs": [
        {
          "output_type": "stream",
          "name": "stdout",
          "text": [
            "kwargs is a dictionary: {'a': 5, 'b': 3, 'c': 6}\n",
            "Key is a and its value is 5\n",
            "Key is b and its value is 3\n",
            "Key is c and its value is 6\n"
          ]
        }
      ],
      "source": [
        "def keys_and_values(**kwargs):\n",
        "    print(f'kwargs is a dictionary: {kwargs}')\n",
        "    for key, value in kwargs.items():\n",
        "        print(f'Key is {key} and its value is {value}')\n",
        "\n",
        "keys_and_values(a=5, b=3, c=6)"
      ]
    },
    {
      "cell_type": "markdown",
      "metadata": {
        "id": "MhR4ZqXmYn84"
      },
      "source": [
        "If a regular argument is passed to a function that only accepts keyword arguments, it will throw an error."
      ]
    },
    {
      "cell_type": "code",
      "execution_count": 36,
      "metadata": {
        "id": "ypDJWVcBYn85",
        "outputId": "3eb4f3f3-13bf-43fb-ea2d-6f2827ccf6f5",
        "colab": {
          "base_uri": "https://localhost:8080/"
        }
      },
      "outputs": [
        {
          "output_type": "stream",
          "name": "stdout",
          "text": [
            "6\n"
          ]
        }
      ],
      "source": [
        "def addition(x, y):\n",
        "    print(x + y)\n",
        "\n",
        "addition(1, 5)"
      ]
    },
    {
      "cell_type": "code",
      "execution_count": 37,
      "metadata": {
        "id": "RXED3zzrYn85",
        "outputId": "9ce56074-8a2c-4c07-e80b-bda9c798fe4a",
        "colab": {
          "base_uri": "https://localhost:8080/"
        }
      },
      "outputs": [
        {
          "output_type": "stream",
          "name": "stdout",
          "text": [
            "kwargs is a dictionary: {'a': 5, 'b': 3, 'c': 6}\n",
            "Key is a and its value is 5\n",
            "Key is b and its value is 3\n",
            "Key is c and its value is 6\n"
          ]
        }
      ],
      "source": [
        "def keys_and_values(*args, **kwargs):\n",
        "    print(f'kwargs is a dictionary: {kwargs}')\n",
        "    for key, value in kwargs.items():\n",
        "        print(f'Key is {key} and its value is {value}')\n",
        "\n",
        "keys_and_values(5, a=5, b=3, c=6)"
      ]
    },
    {
      "cell_type": "markdown",
      "metadata": {
        "id": "ilEuhx8iYn85"
      },
      "source": [
        "The same applies for the opposite.\n"
      ]
    },
    {
      "cell_type": "code",
      "execution_count": 38,
      "metadata": {
        "id": "ne08L__GYn85",
        "outputId": "b1ef49fe-5d3a-42d7-8918-f30a2e948418",
        "colab": {
          "base_uri": "https://localhost:8080/",
          "height": 211
        }
      },
      "outputs": [
        {
          "output_type": "error",
          "ename": "TypeError",
          "evalue": "ignored",
          "traceback": [
            "\u001b[0;31m---------------------------------------------------------------------------\u001b[0m",
            "\u001b[0;31mTypeError\u001b[0m                                 Traceback (most recent call last)",
            "\u001b[0;32m<ipython-input-38-9dd086bacca5>\u001b[0m in \u001b[0;36m<cell line: 5>\u001b[0;34m()\u001b[0m\n\u001b[1;32m      3\u001b[0m     \u001b[0;32mreturn\u001b[0m \u001b[0msum\u001b[0m\u001b[0;34m(\u001b[0m\u001b[0margs\u001b[0m\u001b[0;34m)\u001b[0m\u001b[0;34m\u001b[0m\u001b[0;34m\u001b[0m\u001b[0m\n\u001b[1;32m      4\u001b[0m \u001b[0;34m\u001b[0m\u001b[0m\n\u001b[0;32m----> 5\u001b[0;31m \u001b[0mx\u001b[0m \u001b[0;34m=\u001b[0m \u001b[0msum_args\u001b[0m\u001b[0;34m(\u001b[0m\u001b[0mc\u001b[0m\u001b[0;34m=\u001b[0m\u001b[0;36m1\u001b[0m\u001b[0;34m,\u001b[0m \u001b[0md\u001b[0m\u001b[0;34m=\u001b[0m\u001b[0;36m2\u001b[0m\u001b[0;34m)\u001b[0m\u001b[0;34m\u001b[0m\u001b[0;34m\u001b[0m\u001b[0m\n\u001b[0m",
            "\u001b[0;31mTypeError\u001b[0m: sum_args() got an unexpected keyword argument 'c'"
          ]
        }
      ],
      "source": [
        "def sum_args(*args):\n",
        "    print(f'args is a tuple {args}')\n",
        "    return sum(args)\n",
        "\n",
        "x = sum_args(c=1, d=2)"
      ]
    },
    {
      "cell_type": "markdown",
      "metadata": {
        "id": "eH87kbkpYn85"
      },
      "source": [
        "When positional arguments are passed, they must come first, followed by keyword arguments.\n"
      ]
    },
    {
      "cell_type": "code",
      "execution_count": 41,
      "metadata": {
        "id": "tdD_IPnMYn9A",
        "outputId": "ee68e60d-e453-4e1f-c0c8-41eabd631f93",
        "colab": {
          "base_uri": "https://localhost:8080/"
        }
      },
      "outputs": [
        {
          "output_type": "stream",
          "name": "stdout",
          "text": [
            "(1, 2)\n",
            "{'e': 4, 'd': 4, 'c': 6, 'f': 5}\n"
          ]
        }
      ],
      "source": [
        "def fun_dummy(*args, **kwargs):  # args = arguments, kwargs = key word arguments\n",
        "    print(args)  # args is now a tuple\n",
        "    print(kwargs)  # kwargs is now a dictionary\n",
        "\n",
        "\n",
        "fun_dummy(1, 2, e=4, d=4, c=6, f=5)\n"
      ]
    },
    {
      "cell_type": "markdown",
      "metadata": {
        "id": "qNVR8QXtYn9A"
      },
      "source": [
        "## Recursion"
      ]
    },
    {
      "cell_type": "markdown",
      "metadata": {
        "id": "hnbfzWkOYn9A"
      },
      "source": [
        "- A recursive function is one that calls itself within its definition.\n",
        "- This can be difficult to grasp at first; however, think of it as breaking down a large problem into a relatively small problem repeatedly.\n",
        "- This indicates that a complex problem can be made increasingly simple by repeatedly addressing a simpler form of the same problem with each repetition.\n",
        "- However, the 'simplest form' of the function must be provided where the function stops; otherwise, it will repeat forever and throw an error.\n",
        "- This 'simplest form' is called a base case.\n",
        "- This is best illustrated with an example:"
      ]
    },
    {
      "cell_type": "code",
      "execution_count": 40,
      "metadata": {
        "id": "28O88dCmYn9A",
        "outputId": "0d9019d7-192e-4c49-ef72-4ce7182e1cfb",
        "colab": {
          "base_uri": "https://localhost:8080/"
        }
      },
      "outputs": [
        {
          "output_type": "stream",
          "name": "stdout",
          "text": [
            "5\n",
            "4\n",
            "3\n",
            "2\n",
            "1\n",
            "0\n"
          ]
        }
      ],
      "source": [
        "# A function that takes in the starting number to countdown from as the input\n",
        "def countdown(n):\n",
        "\n",
        "    # base case: this is where the function will eventually stop\n",
        "    if n == 0:\n",
        "        print(0)\n",
        "\n",
        "    # Here, we reduce the problem to a simpler version.\n",
        "    else:\n",
        "\n",
        "        # We print the countdown number.\n",
        "        print(n)\n",
        "\n",
        "        # We repeat the function with the next smallest number.\n",
        "        countdown(n-1)\n",
        "\n",
        "\n",
        "countdown(5)"
      ]
    },
    {
      "cell_type": "markdown",
      "metadata": {
        "id": "ChHIsu6oYn9B"
      },
      "source": [
        "## Conclusion\n",
        "\n",
        "\n",
        "At this point, you should have a good understanding of\n",
        "- functions in Python.\n",
        "- variable scope.\n",
        "- the concept of recursion.\n",
        "- how to define a function.\n",
        "- how to call a function.\n",
        "- how to use the help() function.\n",
        "- how to use recursive functions.\n",
        "\n",
        "## Further Reading\n",
        "- Python Function Definitions: https://docs.python.org/3/reference/compound_stmts.html#function-definitions\n",
        "- Python Docstring Conventions: https://www.python.org/dev/peps/pep-0257/"
      ]
    }
  ],
  "metadata": {
    "interpreter": {
      "hash": "3d597f4c481aa0f25dceb95d2a0067e73c0966dcbd003d741d821a7208527ecf"
    },
    "kernelspec": {
      "display_name": "Python 3.9.1 64-bit ('base': conda)",
      "name": "python3"
    },
    "language_info": {
      "codemirror_mode": {
        "name": "ipython",
        "version": 3
      },
      "file_extension": ".py",
      "mimetype": "text/x-python",
      "name": "python",
      "nbconvert_exporter": "python",
      "pygments_lexer": "ipython3",
      "version": "3.8.11"
    },
    "colab": {
      "provenance": [],
      "include_colab_link": true
    }
  },
  "nbformat": 4,
  "nbformat_minor": 0
}
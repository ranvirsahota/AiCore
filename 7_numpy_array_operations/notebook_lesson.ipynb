{
  "cells": [
    {
      "cell_type": "markdown",
      "metadata": {
        "id": "view-in-github",
        "colab_type": "text"
      },
      "source": [
        "<a href=\"https://colab.research.google.com/github/ranvirsahota/AiCore/blob/pandas/7_numpy_array_operations/notebook_lesson.ipynb\" target=\"_parent\"><img src=\"https://colab.research.google.com/assets/colab-badge.svg\" alt=\"Open In Colab\"/></a>"
      ]
    },
    {
      "cell_type": "markdown",
      "id": "cc476e78",
      "metadata": {
        "id": "cc476e78"
      },
      "source": [
        "## Array Operations"
      ]
    },
    {
      "cell_type": "markdown",
      "id": "76ee8db5",
      "metadata": {
        "id": "76ee8db5"
      },
      "source": [
        "> __`numpy` provides a lot of mathematical functions via easy to use notation__\n",
        "\n",
        "Most of the operations are done \"element-wise\" (each element with respective elements of the other array):\n",
        "- addition: `+`\n",
        "- subtraction: `-`\n",
        "- multiplication: `*`\n",
        "- bitwise operations (when array is boolean)\n",
        "\n",
        "and many others (__see [here](https://scipy-lectures.org/intro/numpy/operations.html) for more examples__)"
      ]
    },
    {
      "cell_type": "code",
      "execution_count": 14,
      "id": "ce1b71c2",
      "metadata": {
        "id": "ce1b71c2",
        "outputId": "a57c811d-218a-491b-d029-bb8d9592894a",
        "colab": {
          "base_uri": "https://localhost:8080/"
        }
      },
      "outputs": [
        {
          "output_type": "stream",
          "name": "stdout",
          "text": [
            "[[5 5 5]\n",
            " [5 5 5]\n",
            " [5 5 5]]\n",
            "    +    \n",
            "[[1 0 0]\n",
            " [0 1 0]\n",
            " [0 0 1]]\n",
            "    =    \n",
            "[[6 5 5]\n",
            " [5 6 5]\n",
            " [5 5 6]]\n"
          ]
        }
      ],
      "source": [
        "import numpy as np\n",
        "\n",
        "arr1 = np.full((3, 3), fill_value = 5)\n",
        "identity_1 = np.eye(arr1.shape[0], dtype='int64')\n",
        "print(arr1)\n",
        "print('    +    ')\n",
        "print(identity_1)\n",
        "print('    =    ')\n",
        "print(arr1 + identity_1)"
      ]
    },
    {
      "cell_type": "markdown",
      "id": "463afc11",
      "metadata": {
        "id": "463afc11"
      },
      "source": [
        "## Mathematical functions\n"
      ]
    },
    {
      "cell_type": "markdown",
      "id": "cc806634",
      "metadata": {
        "id": "cc806634"
      },
      "source": [
        "> `numpy` provides a lot of math functions (e.g. trigonometric)\n",
        "\n",
        "Traits:\n",
        "- Works on any array (usually element-wise) with some edge-case exceptions\n",
        "- Optimized C implementations\n",
        "- Provided in the `np` namespace\n",
        "\n",
        "> All available operations are listed [here](https://numpy.org/doc/stable/reference/routines.math.html)\n",
        "\n",
        "Let's see an example below:"
      ]
    },
    {
      "cell_type": "code",
      "execution_count": 15,
      "id": "6a0be839",
      "metadata": {
        "scrolled": true,
        "id": "6a0be839",
        "outputId": "c76166f6-1bae-4030-8ae5-9199d0c0cc40",
        "colab": {
          "base_uri": "https://localhost:8080/"
        }
      },
      "outputs": [
        {
          "output_type": "execute_result",
          "data": {
            "text/plain": [
              "array([[ 0.41352406, 11.65427351, 11.65427351],\n",
              "       [11.65427351,  0.41352406, 11.65427351],\n",
              "       [11.65427351, 11.65427351,  0.41352406]])"
            ]
          },
          "metadata": {},
          "execution_count": 15
        }
      ],
      "source": [
        "# np.e and np.pi are predefined constant\n",
        "\n",
        "(np.cos(arr1) - np.sin(arr1) ** 3) / (np.eye(arr1.shape[0]) * np.e + 0.1)"
      ]
    },
    {
      "cell_type": "markdown",
      "id": "b5d939a8",
      "metadata": {
        "id": "b5d939a8"
      },
      "source": [
        "## Linear algebra operations\n",
        "\n",
        "> `numpy` provides linear algebra functionalities __located within `np.linalg` submodule__\n",
        "\n",
        "See [here](https://numpy.org/doc/stable/reference/routines.linalg.html) for available functionalities.\n",
        "\n",
        "Some of them are provided as overloaded operations, namely __matrix multiplication__:"
      ]
    },
    {
      "cell_type": "code",
      "execution_count": null,
      "id": "08df9155",
      "metadata": {
        "id": "08df9155",
        "outputId": "9427ab75-aa0a-4328-a237-1cdf7353689c"
      },
      "outputs": [
        {
          "ename": "ValueError",
          "evalue": "matmul: Input operand 1 has a mismatch in its core dimension 0, with gufunc signature (n?,k),(k,m?)->(n?,m?) (size 6 is different from 5)",
          "output_type": "error",
          "traceback": [
            "\u001b[0;31m---------------------------------------------------------------------------\u001b[0m",
            "\u001b[0;31mValueError\u001b[0m                                Traceback (most recent call last)",
            "\u001b[0;32m/var/folders/3z/29w5rr9d0k3_p863hm40sdnc0000gn/T/ipykernel_8046/1998573976.py\u001b[0m in \u001b[0;36m<module>\u001b[0;34m\u001b[0m\n\u001b[1;32m      3\u001b[0m \u001b[0mX\u001b[0m\u001b[0;34m,\u001b[0m \u001b[0my\u001b[0m \u001b[0;34m=\u001b[0m \u001b[0mnp\u001b[0m\u001b[0;34m.\u001b[0m\u001b[0mrandom\u001b[0m\u001b[0;34m.\u001b[0m\u001b[0mrandn\u001b[0m\u001b[0;34m(\u001b[0m\u001b[0;36m10\u001b[0m\u001b[0;34m,\u001b[0m \u001b[0;36m5\u001b[0m\u001b[0;34m)\u001b[0m\u001b[0;34m,\u001b[0m \u001b[0mnp\u001b[0m\u001b[0;34m.\u001b[0m\u001b[0mrandom\u001b[0m\u001b[0;34m.\u001b[0m\u001b[0mrandn\u001b[0m\u001b[0;34m(\u001b[0m\u001b[0;36m6\u001b[0m\u001b[0;34m,\u001b[0m \u001b[0;36m3\u001b[0m\u001b[0;34m)\u001b[0m\u001b[0;34m\u001b[0m\u001b[0;34m\u001b[0m\u001b[0m\n\u001b[1;32m      4\u001b[0m \u001b[0;34m\u001b[0m\u001b[0m\n\u001b[0;32m----> 5\u001b[0;31m \u001b[0;34m(\u001b[0m\u001b[0mX\u001b[0m \u001b[0;34m@\u001b[0m \u001b[0my\u001b[0m\u001b[0;34m)\u001b[0m\u001b[0;34m.\u001b[0m\u001b[0mshape\u001b[0m\u001b[0;34m\u001b[0m\u001b[0;34m\u001b[0m\u001b[0m\n\u001b[0m",
            "\u001b[0;31mValueError\u001b[0m: matmul: Input operand 1 has a mismatch in its core dimension 0, with gufunc signature (n?,k),(k,m?)->(n?,m?) (size 6 is different from 5)"
          ]
        }
      ],
      "source": [
        "# Inner dimensions must match!\n",
        "\n",
        "X, y = np.random.randn(10, 5), np.random.randn(6, 3)\n",
        "\n",
        "(X @ y).shape"
      ]
    },
    {
      "cell_type": "code",
      "execution_count": null,
      "id": "86dd83ae",
      "metadata": {
        "id": "86dd83ae",
        "outputId": "5f558e70-0ea2-4318-89bb-448a5fdd6181"
      },
      "outputs": [
        {
          "ename": "TypeError",
          "evalue": "Cannot interpret '3' as a data type",
          "output_type": "error",
          "traceback": [
            "\u001b[0;31m---------------------------------------------------------------------------\u001b[0m",
            "\u001b[0;31mTypeError\u001b[0m                                 Traceback (most recent call last)",
            "\u001b[0;32m/var/folders/3z/29w5rr9d0k3_p863hm40sdnc0000gn/T/ipykernel_8046/395221405.py\u001b[0m in \u001b[0;36m<module>\u001b[0;34m\u001b[0m\n\u001b[0;32m----> 1\u001b[0;31m \u001b[0mx\u001b[0m \u001b[0;34m=\u001b[0m \u001b[0mnp\u001b[0m\u001b[0;34m.\u001b[0m\u001b[0mndarray\u001b[0m\u001b[0;34m(\u001b[0m\u001b[0;36m2\u001b[0m\u001b[0;34m,\u001b[0m \u001b[0;36m3\u001b[0m\u001b[0;34m)\u001b[0m\u001b[0;34m\u001b[0m\u001b[0;34m\u001b[0m\u001b[0m\n\u001b[0m",
            "\u001b[0;31mTypeError\u001b[0m: Cannot interpret '3' as a data type"
          ]
        }
      ],
      "source": [
        "x = np.ndarray((2, 3)"
      ]
    },
    {
      "cell_type": "code",
      "execution_count": 16,
      "id": "4952abee",
      "metadata": {
        "id": "4952abee",
        "outputId": "ae29cc21-72f5-4c1b-be93-d341a7df40f0",
        "colab": {
          "base_uri": "https://localhost:8080/"
        }
      },
      "outputs": [
        {
          "output_type": "execute_result",
          "data": {
            "text/plain": [
              "1.3398373214198258"
            ]
          },
          "metadata": {},
          "execution_count": 16
        }
      ],
      "source": [
        "A = np.random.randn(10)\n",
        "B = np.random.randn(10)\n",
        "\n",
        "np.inner(A, B)"
      ]
    },
    {
      "cell_type": "code",
      "execution_count": 17,
      "id": "69c29ab0",
      "metadata": {
        "id": "69c29ab0",
        "outputId": "b1d7f94b-0734-401c-f34b-dab62fa268c7",
        "colab": {
          "base_uri": "https://localhost:8080/"
        }
      },
      "outputs": [
        {
          "output_type": "execute_result",
          "data": {
            "text/plain": [
              "(array([-3.01601802+0.j        , -2.2552013 +0.90780931j,\n",
              "        -2.2552013 -0.90780931j,  1.77031797+2.45474834j,\n",
              "         1.77031797-2.45474834j,  1.38320266+1.4254583j ,\n",
              "         1.38320266-1.4254583j ,  1.73165837+0.j        ,\n",
              "        -0.01720827+0.50123073j, -0.01720827-0.50123073j]),\n",
              " array([[-0.07192262+0.j        ,  0.04249584+0.13861783j,\n",
              "          0.04249584-0.13861783j, -0.0544982 -0.11015017j,\n",
              "         -0.0544982 +0.11015017j,  0.45356989-0.00247035j,\n",
              "          0.45356989+0.00247035j,  0.34243971+0.j        ,\n",
              "         -0.12294897-0.25575885j, -0.12294897+0.25575885j],\n",
              "        [ 0.19042422+0.j        , -0.1094781 -0.28161034j,\n",
              "         -0.1094781 +0.28161034j,  0.04730539-0.09470476j,\n",
              "          0.04730539+0.09470476j,  0.21181605+0.13332981j,\n",
              "          0.21181605-0.13332981j,  0.33549038+0.j        ,\n",
              "         -0.09007181-0.1909502j , -0.09007181+0.1909502j ],\n",
              "        [ 0.41999438+0.j        ,  0.31760584-0.03640494j,\n",
              "          0.31760584+0.03640494j,  0.1239054 +0.02170018j,\n",
              "          0.1239054 -0.02170018j, -0.03473826+0.27673584j,\n",
              "         -0.03473826-0.27673584j,  0.38227231+0.j        ,\n",
              "          0.29802533+0.1467433j ,  0.29802533-0.1467433j ],\n",
              "        [ 0.48010275+0.j        ,  0.51695069+0.25238497j,\n",
              "          0.51695069-0.25238497j,  0.31135083-0.43420552j,\n",
              "          0.31135083+0.43420552j,  0.04281603+0.2362347j ,\n",
              "          0.04281603-0.2362347j ,  0.39523821+0.j        ,\n",
              "          0.44879392-0.0589129j ,  0.44879392+0.0589129j ],\n",
              "        [ 0.00395983+0.j        , -0.10233829+0.03303958j,\n",
              "         -0.10233829-0.03303958j, -0.15470455+0.2974109j ,\n",
              "         -0.15470455-0.2974109j , -0.29045564+0.24927688j,\n",
              "         -0.29045564-0.24927688j,  0.38954693+0.j        ,\n",
              "          0.09521371-0.04008855j,  0.09521371+0.04008855j],\n",
              "        [ 0.33973405+0.j        ,  0.26100495+0.02737308j,\n",
              "          0.26100495-0.02737308j,  0.14074373-0.14900434j,\n",
              "          0.14074373+0.14900434j,  0.47318647+0.j        ,\n",
              "          0.47318647-0.j        , -0.3765962 +0.j        ,\n",
              "         -0.46924099+0.j        , -0.46924099-0.j        ],\n",
              "        [ 0.00369876+0.j        , -0.001275  +0.16971933j,\n",
              "         -0.001275  -0.16971933j,  0.60808287+0.j        ,\n",
              "          0.60808287-0.j        ,  0.10582547+0.1853881j ,\n",
              "          0.10582547-0.1853881j ,  0.13006554+0.j        ,\n",
              "          0.36372046+0.10648804j,  0.36372046-0.10648804j],\n",
              "        [-0.30474883+0.j        , -0.06873624-0.05404392j,\n",
              "         -0.06873624+0.05404392j,  0.15390744-0.15054344j,\n",
              "          0.15390744+0.15054344j,  0.23925191+0.22624675j,\n",
              "          0.23925191-0.22624675j,  0.07072134+0.j        ,\n",
              "          0.21244624-0.23978792j,  0.21244624+0.23978792j],\n",
              "        [ 0.58313332+0.j        ,  0.57689293+0.j        ,\n",
              "          0.57689293-0.j        , -0.04075955+0.14217378j,\n",
              "         -0.04075955-0.14217378j, -0.10630357-0.06725069j,\n",
              "         -0.10630357+0.06725069j, -0.12500799+0.j        ,\n",
              "          0.14262348-0.17396371j,  0.14262348+0.17396371j],\n",
              "        [-0.05750587+0.j        ,  0.03982696-0.05721402j,\n",
              "          0.03982696+0.05721402j,  0.26121036+0.10850746j,\n",
              "          0.26121036-0.10850746j, -0.14986383+0.18305151j,\n",
              "         -0.14986383-0.18305151j,  0.36975508+0.j        ,\n",
              "         -0.17863644+0.00413023j, -0.17863644-0.00413023j]]))"
            ]
          },
          "metadata": {},
          "execution_count": 17
        }
      ],
      "source": [
        "# Eigen values\n",
        "\n",
        "np.linalg.eig(np.random.randn(10, 10))"
      ]
    },
    {
      "cell_type": "markdown",
      "id": "815072bb",
      "metadata": {
        "id": "815072bb"
      },
      "source": [
        "## Accessing elements\n"
      ]
    },
    {
      "cell_type": "markdown",
      "id": "985d7452",
      "metadata": {
        "id": "985d7452"
      },
      "source": [
        "> `numpy` allows us to access data in multiple ways\n",
        "\n",
        "Before we move on to accessing data (and advanced way to do that) you should keep the following in mind (__all the time!__):\n",
        "- __ALWAYS USE `numpy` OPERATIONS__\n",
        "- __NO FOR LOOPS KNOWN FROM PYTHON__ (every operation you do should be done purely in `numpy`)\n",
        "- You will learn more and more ways to avoid loops as we go through the course materials\n",
        "\n",
        "## Standard index-based item\n",
        "\n",
        "First, let's create a `2D` array we will use:"
      ]
    },
    {
      "cell_type": "code",
      "execution_count": 18,
      "id": "26f582fa",
      "metadata": {
        "id": "26f582fa",
        "outputId": "87e63325-f28a-4ec1-ca2c-a7bc88d91e45",
        "colab": {
          "base_uri": "https://localhost:8080/"
        }
      },
      "outputs": [
        {
          "output_type": "execute_result",
          "data": {
            "text/plain": [
              "array([[ 0,  1,  2,  3],\n",
              "       [ 4,  5,  6,  7],\n",
              "       [ 8,  9, 10, 11],\n",
              "       [12, 13, 14, 15],\n",
              "       [16, 17, 18, 19]])"
            ]
          },
          "metadata": {},
          "execution_count": 18
        }
      ],
      "source": [
        "matrix = np.arange(20).reshape(5, 4)\n",
        "\n",
        "matrix"
      ]
    },
    {
      "cell_type": "code",
      "execution_count": 19,
      "id": "1e683ee8",
      "metadata": {
        "id": "1e683ee8",
        "outputId": "a70d0b1d-3695-4c1a-e048-01346d51e80b",
        "colab": {
          "base_uri": "https://localhost:8080/"
        }
      },
      "outputs": [
        {
          "output_type": "execute_result",
          "data": {
            "text/plain": [
              "(0, 4, 1, 8)"
            ]
          },
          "metadata": {},
          "execution_count": 19
        }
      ],
      "source": [
        "# Obtaining single element\n",
        "\n",
        "matrix[0, 0], matrix[1, 0], matrix[0, 1], matrix[2][0]"
      ]
    },
    {
      "cell_type": "code",
      "execution_count": 20,
      "id": "e7aa178a",
      "metadata": {
        "id": "e7aa178a",
        "outputId": "b707d6e6-b7af-4ae6-d6d8-31622e59a50a",
        "colab": {
          "base_uri": "https://localhost:8080/"
        }
      },
      "outputs": [
        {
          "output_type": "execute_result",
          "data": {
            "text/plain": [
              "array([0, 1, 2, 3])"
            ]
          },
          "metadata": {},
          "execution_count": 20
        }
      ],
      "source": [
        "# first row\n",
        "\n",
        "matrix[0]"
      ]
    },
    {
      "cell_type": "code",
      "execution_count": 21,
      "id": "0739e876",
      "metadata": {
        "id": "0739e876",
        "outputId": "9db5d25e-320f-4c35-a23d-dba961abc3f9",
        "colab": {
          "base_uri": "https://localhost:8080/"
        }
      },
      "outputs": [
        {
          "output_type": "execute_result",
          "data": {
            "text/plain": [
              "array([ 0,  4,  8, 12, 16])"
            ]
          },
          "metadata": {},
          "execution_count": 21
        }
      ],
      "source": [
        "# : means all elements\n",
        "# 0 means 0th column\n",
        "\n",
        "matrix[:, 0]"
      ]
    },
    {
      "cell_type": "code",
      "execution_count": 22,
      "id": "a67aa896",
      "metadata": {
        "id": "a67aa896",
        "outputId": "2aab5eab-1b61-44fd-c88a-73de905a13ff",
        "colab": {
          "base_uri": "https://localhost:8080/"
        }
      },
      "outputs": [
        {
          "output_type": "execute_result",
          "data": {
            "text/plain": [
              "array([[ 8,  9, 10, 11],\n",
              "       [12, 13, 14, 15],\n",
              "       [16, 17, 18, 19]])"
            ]
          },
          "metadata": {},
          "execution_count": 22
        }
      ],
      "source": [
        "# Rows from second upwards\n",
        "matrix[2:]"
      ]
    },
    {
      "cell_type": "code",
      "execution_count": 23,
      "id": "5866b0e3",
      "metadata": {
        "id": "5866b0e3",
        "outputId": "ba15afc9-c9fd-49e3-f430-d477f7fc7ba6",
        "colab": {
          "base_uri": "https://localhost:8080/"
        }
      },
      "outputs": [
        {
          "output_type": "execute_result",
          "data": {
            "text/plain": [
              "array([[ 2,  3],\n",
              "       [ 6,  7],\n",
              "       [10, 11],\n",
              "       [14, 15],\n",
              "       [18, 19]])"
            ]
          },
          "metadata": {},
          "execution_count": 23
        }
      ],
      "source": [
        "# Columns from second upwards\n",
        "matrix[:, 2:]"
      ]
    },
    {
      "cell_type": "code",
      "execution_count": 24,
      "id": "f5660fb7",
      "metadata": {
        "id": "f5660fb7",
        "outputId": "2b73f330-8458-4b87-9115-cf68000e3b78",
        "colab": {
          "base_uri": "https://localhost:8080/"
        }
      },
      "outputs": [
        {
          "output_type": "execute_result",
          "data": {
            "text/plain": [
              "array([0, 4, 8])"
            ]
          },
          "metadata": {},
          "execution_count": 24
        }
      ],
      "source": [
        "# Rows from zeroth to third, column 0\n",
        "matrix[:3, 0]"
      ]
    },
    {
      "cell_type": "code",
      "execution_count": 37,
      "id": "eeac113c",
      "metadata": {
        "id": "eeac113c",
        "outputId": "584dbf98-d4a8-4db6-e30f-5764c08421e9",
        "colab": {
          "base_uri": "https://localhost:8080/"
        }
      },
      "outputs": [
        {
          "output_type": "execute_result",
          "data": {
            "text/plain": [
              "array([[ 3,  2,  1,  0],\n",
              "       [ 7,  6,  5,  4],\n",
              "       [11, 10,  9,  8],\n",
              "       [15, 14, 13, 12],\n",
              "       [19, 18, 17, 16]])"
            ]
          },
          "metadata": {},
          "execution_count": 37
        }
      ],
      "source": [
        "# Inverse of columns\n",
        "\n",
        "matrix[:, ::-1]"
      ]
    },
    {
      "cell_type": "code",
      "execution_count": null,
      "id": "9fc9d72c",
      "metadata": {
        "id": "9fc9d72c",
        "outputId": "9e40c153-2899-4065-c7a9-1123e1744adc"
      },
      "outputs": [
        {
          "data": {
            "text/plain": [
              "array([[19, 18, 17, 16],\n",
              "       [15, 14, 13, 12],\n",
              "       [11, 10,  9,  8],\n",
              "       [ 7,  6,  5,  4],\n",
              "       [ 3,  2,  1,  0]])"
            ]
          },
          "execution_count": 103,
          "metadata": {},
          "output_type": "execute_result"
        }
      ],
      "source": [
        "matrix[::-1, ::-1]"
      ]
    },
    {
      "cell_type": "code",
      "execution_count": 26,
      "id": "1182c39b",
      "metadata": {
        "id": "1182c39b",
        "outputId": "c483e554-0151-4117-cf91-429b2526df4b",
        "colab": {
          "base_uri": "https://localhost:8080/"
        }
      },
      "outputs": [
        {
          "output_type": "execute_result",
          "data": {
            "text/plain": [
              "array([[19, 17],\n",
              "       [ 7,  5]])"
            ]
          },
          "metadata": {},
          "execution_count": 26
        }
      ],
      "source": [
        "matrix[::-3, ::-2]"
      ]
    },
    {
      "cell_type": "code",
      "execution_count": null,
      "id": "06fb8a8a",
      "metadata": {
        "id": "06fb8a8a",
        "outputId": "d641605b-85f1-4e4f-8b85-49d0aae66e38"
      },
      "outputs": [
        {
          "data": {
            "text/plain": [
              "(2, 2, 5)"
            ]
          },
          "execution_count": 87,
          "metadata": {},
          "output_type": "execute_result"
        }
      ],
      "source": [
        "# change to 3D tensor\n",
        "temp = matrix.reshape(2, 2, -1)\n",
        "temp.shape"
      ]
    },
    {
      "cell_type": "code",
      "execution_count": null,
      "id": "f2b2f5f6",
      "metadata": {
        "id": "f2b2f5f6",
        "outputId": "1562c917-f3b1-40cf-e762-b2b6bbf94c94"
      },
      "outputs": [
        {
          "data": {
            "text/plain": [
              "array([[ 4,  9],\n",
              "       [14, 19]])"
            ]
          },
          "execution_count": 89,
          "metadata": {},
          "output_type": "execute_result"
        }
      ],
      "source": [
        "# Same as temp[:, :, -1] e.g. last element from last dimension\n",
        "# Rest left in-tact\n",
        "# 2, 2 as we have created five 2,2 matrices\n",
        "\n",
        "temp[..., -1]"
      ]
    },
    {
      "cell_type": "markdown",
      "id": "bf385799",
      "metadata": {
        "id": "bf385799"
      },
      "source": [
        "## Fancy indexing\n",
        "\n",
        "One of `numpy`'s killer features:\n",
        "\n",
        "> __Fancy indexing allows us to choose elements FROM ANY DIMENSION based on indices we provide__\n",
        "\n",
        "![](https://github.com/AI-Core/Content-Public/blob/main/Content/units/Data-Handling/1.%20Numpy/1.%20Numpy%20-%20Array%20Operations/images/numpy_fancy_indexing.png?raw=1)\n",
        "\n",
        "Once again, we will use our `2D` matrix:"
      ]
    },
    {
      "cell_type": "code",
      "execution_count": 38,
      "id": "80991a99",
      "metadata": {
        "id": "80991a99",
        "outputId": "993e2e67-4b73-49e8-8300-0a9dec7d440b",
        "colab": {
          "base_uri": "https://localhost:8080/"
        }
      },
      "outputs": [
        {
          "output_type": "execute_result",
          "data": {
            "text/plain": [
              "array([[ 0,  1,  2,  3],\n",
              "       [ 4,  5,  6,  7],\n",
              "       [ 8,  9, 10, 11],\n",
              "       [12, 13, 14, 15],\n",
              "       [16, 17, 18, 19]])"
            ]
          },
          "metadata": {},
          "execution_count": 38
        }
      ],
      "source": [
        "matrix"
      ]
    },
    {
      "cell_type": "code",
      "execution_count": 39,
      "id": "4806a09b",
      "metadata": {
        "id": "4806a09b",
        "outputId": "26f54593-1e7c-4c23-d51e-42ffdf4d2de0",
        "colab": {
          "base_uri": "https://localhost:8080/"
        }
      },
      "outputs": [
        {
          "output_type": "execute_result",
          "data": {
            "text/plain": [
              "array([[ 0,  2],\n",
              "       [ 4,  6],\n",
              "       [ 8, 10],\n",
              "       [12, 14],\n",
              "       [16, 18]])"
            ]
          },
          "metadata": {},
          "execution_count": 39
        }
      ],
      "source": [
        "# Column 0 and 2\n",
        "matrix[:, [0, 2]]"
      ]
    },
    {
      "cell_type": "code",
      "execution_count": 40,
      "id": "5518085a",
      "metadata": {
        "id": "5518085a",
        "outputId": "d3bbb76d-85ad-4810-c4cc-d341648f50db",
        "colab": {
          "base_uri": "https://localhost:8080/"
        }
      },
      "outputs": [
        {
          "output_type": "execute_result",
          "data": {
            "text/plain": [
              "array([[16, 17, 18, 19],\n",
              "       [16, 17, 18, 19]])"
            ]
          },
          "metadata": {},
          "execution_count": 40
        }
      ],
      "source": [
        "# Take last row twice\n",
        "\n",
        "matrix[[-1, -1]]"
      ]
    },
    {
      "cell_type": "code",
      "execution_count": 41,
      "id": "db77ac7a",
      "metadata": {
        "id": "db77ac7a",
        "outputId": "85fdf138-0807-486c-99bd-dabd7a6da943",
        "colab": {
          "base_uri": "https://localhost:8080/"
        }
      },
      "outputs": [
        {
          "output_type": "stream",
          "name": "stdout",
          "text": [
            "[0 1 2 3 4]\n",
            "[0 1 2 3 4]\n"
          ]
        },
        {
          "output_type": "execute_result",
          "data": {
            "text/plain": [
              "array([[ 0,  1,  2,  3],\n",
              "       [ 4,  5,  6,  7],\n",
              "       [ 8,  9, 10, 11],\n",
              "       [12, 13, 14, 15],\n",
              "       [16, 17, 18, 19]])"
            ]
          },
          "metadata": {},
          "execution_count": 41
        }
      ],
      "source": [
        "# Shuffle rows using indices\n",
        "\n",
        "indices = np.arange(matrix.shape[0])\n",
        "print(indices)\n",
        "permuted = np.random.permutation(indices)\n",
        "print(permuted)\n",
        "\n",
        "matrix[permuted]"
      ]
    },
    {
      "cell_type": "code",
      "execution_count": 42,
      "id": "705a1567",
      "metadata": {
        "id": "705a1567",
        "outputId": "5ae69bda-b8a4-4e2f-efe0-7a5b8b5f0e00",
        "colab": {
          "base_uri": "https://localhost:8080/"
        }
      },
      "outputs": [
        {
          "output_type": "execute_result",
          "data": {
            "text/plain": [
              "array([[ 0,  1,  2,  3],\n",
              "       [ 4,  5,  6,  7],\n",
              "       [12, 13, 14, 15]])"
            ]
          },
          "metadata": {},
          "execution_count": 42
        }
      ],
      "source": [
        "# Obtain rows based on boolean values\n",
        "\n",
        "matrix[[True, True, False, True, False]]"
      ]
    },
    {
      "cell_type": "code",
      "execution_count": 43,
      "id": "6c6e5bac",
      "metadata": {
        "id": "6c6e5bac",
        "outputId": "a8abd605-b5a4-4f09-97e4-1ed6a9c32965",
        "colab": {
          "base_uri": "https://localhost:8080/"
        }
      },
      "outputs": [
        {
          "output_type": "stream",
          "name": "stdout",
          "text": [
            "[[False False False False]\n",
            " [False False  True  True]\n",
            " [ True  True  True  True]\n",
            " [ True  True  True  True]\n",
            " [ True  True  True  True]]\n"
          ]
        },
        {
          "output_type": "execute_result",
          "data": {
            "text/plain": [
              "array([ 6,  7,  8,  9, 10, 11, 12, 13, 14, 15, 16, 17, 18, 19])"
            ]
          },
          "metadata": {},
          "execution_count": 43
        }
      ],
      "source": [
        "# Obtaining only elements which fulfill condition\n",
        "# In this case elements larger than 5\n",
        "\n",
        "print(matrix > 5)\n",
        "\n",
        "# Array has to be flat as it lost it's N x N structure\n",
        "matrix[matrix > 5]"
      ]
    },
    {
      "cell_type": "markdown",
      "id": "1f39bbc6",
      "metadata": {
        "id": "1f39bbc6"
      },
      "source": [
        "# Key Takeaways\n",
        "\n",
        "- Numpy provides several mathematical functions that can be applied element-wise on array items. The main functions include:\n",
        "\t- Addition\n",
        "\t- Subtration\n",
        "\t- Multiplication\n",
        "\t- Division\n",
        "\t- Bitwise operations\n",
        "- Numpy also provides trigonometric and linear algebra functions\n",
        "- To access data elements in Numpy, it's strongly suggested to avoid using Python loops and to use Numpy operations instead"
      ]
    },
    {
      "cell_type": "markdown",
      "source": [
        "# More Resources\n",
        "- Numpy - Fundmentals: https://youtu.be/Lfd776JSicY?feature=shared&t=3242\n",
        " - Start at **54:02** and end at **1:16:57**\n",
        " - Goes thorugh:\n",
        "   - aggregation functions,\n",
        "   - indexing and slicing numpy arrays"
      ],
      "metadata": {
        "id": "CIf7BgzB4oqv"
      },
      "id": "CIf7BgzB4oqv"
    }
  ],
  "metadata": {
    "interpreter": {
      "hash": "ad8bebc098a042dc0df4e42fc2ecc8fff0bd7b8741641ce29007c29766dadbe0"
    },
    "kernelspec": {
      "display_name": "Python 3.9.1 64-bit ('base': conda)",
      "name": "python3"
    },
    "language_info": {
      "codemirror_mode": {
        "name": "ipython",
        "version": 3
      },
      "file_extension": ".py",
      "mimetype": "text/x-python",
      "name": "python",
      "nbconvert_exporter": "python",
      "pygments_lexer": "ipython3",
      "version": "3.9.5"
    },
    "colab": {
      "provenance": [],
      "include_colab_link": true
    }
  },
  "nbformat": 4,
  "nbformat_minor": 5
}
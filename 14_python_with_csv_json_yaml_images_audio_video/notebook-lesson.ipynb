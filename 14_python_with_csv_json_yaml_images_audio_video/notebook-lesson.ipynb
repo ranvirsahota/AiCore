{
  "cells": [
    {
      "cell_type": "markdown",
      "metadata": {
        "colab_type": "text",
        "id": "view-in-github"
      },
      "source": [
        "<a href=\"https://colab.research.google.com/github/ranvirsahota/AiCore/blob/essential-data-and-file-types/14_python_with_csv_json_yaml_images_audio_video/notebook-lesson.ipynb\" target=\"_parent\"><img src=\"https://colab.research.google.com/assets/colab-badge.svg\" alt=\"Open In Colab\"/></a>"
      ]
    },
    {
      "cell_type": "markdown",
      "metadata": {
        "id": "hRFv4hzBKN1D"
      },
      "source": [
        "# Data and File Formats"
      ]
    },
    {
      "cell_type": "code",
      "execution_count": 2,
      "metadata": {
        "id": "e9282dd6"
      },
      "outputs": [
        {
          "name": "stdout",
          "output_type": "stream",
          "text": [
            "Downloading yaml_example.yaml...\n",
            "Downloading JSON_sample.json...\n",
            "Downloading Salaries.csv...\n"
          ]
        }
      ],
      "source": [
        "#@title ### Run the following cell to download the necessary files for this lesson { display-mode: \"form\" }\n",
        "#@markdown Don't worry about what's in this collapsed cell\n",
        "\n",
        "print('Downloading yaml_example.yaml...')\n",
        "!wget https://s3-eu-west-1.amazonaws.com/aicore-portal-public-prod-307050600709/lesson_files/45d60050-aef5-400b-a6cb-e35f35f9ace9/yaml_example.yaml -q -O yaml_example.yaml\n",
        "print('Downloading JSON_sample.json...')\n",
        "!wget https://s3-eu-west-1.amazonaws.com/aicore-portal-public-prod-307050600709/lesson_files/45d60050-aef5-400b-a6cb-e35f35f9ace9/JSON_sample.json -q -O JSON_sample.json\n",
        "print('Downloading Salaries.csv...')\n",
        "!wget https://s3-eu-west-1.amazonaws.com/aicore-portal-public-prod-307050600709/lesson_files/45d60050-aef5-400b-a6cb-e35f35f9ace9/Salaries.csv -q -O Salaries.csv\n"
      ]
    },
    {
      "cell_type": "markdown",
      "metadata": {
        "id": "LHNmhKn3KN1J"
      },
      "source": [
        "When working in projects involved in AI, most likely you will need to deal with different data and file formats including:\n",
        "- CSV\n",
        "- JSON\n",
        "- YAML\n",
        "- Images\n",
        "- Videos\n",
        "- Audio\n",
        "\n",
        "In this notebook, we will briefly introduce some of them, as well as give some comments on how and when to use them."
      ]
    },
    {
      "cell_type": "markdown",
      "metadata": {
        "id": "R80JZFzHKN1J"
      },
      "source": [
        "## CSV"
      ]
    },
    {
      "cell_type": "markdown",
      "metadata": {
        "id": "sbKBV-4hKN1K"
      },
      "source": [
        "> <font size=+1> CSV __(comma-separated values)__ files contain rows of data, with each value in a row separated by a comma\n",
        "\n",
        "- They are a very common way to store data </font>\n",
        "- All of the data for a single record is on one line: each new line is a new record\n",
        "- The comma in this case is called the __'delimiter'__ as it shows the difference (or limit) between one value and the next.\n",
        "- Other common delimiters are semi-colons and tabs (also called __tsv/tab-separated values__).\n",
        "- We must be careful to check what exactly the delimiter is, as a common error is reading in a file with the wrong delimiter, and so getting a weird representation in your data.\n",
        "- CSVs can also be read by Excel.\n",
        "<p style=\"font-size:10.5px\">\n",
        "Usually if you are using data from mainland European countries (France/Spain etc) they will use semi-colons, hence some people prefer <i>character</i>-separated values for CSV.\n",
        "</p>"
      ]
    },
    {
      "cell_type": "markdown",
      "metadata": {
        "id": "AlZJoNo_KN1K"
      },
      "source": [
        "### Open CSV files"
      ]
    },
    {
      "cell_type": "markdown",
      "metadata": {
        "id": "h2Du-zttKN1K"
      },
      "source": [
        "Python counts with a library called `csv` that has the needed functionalities to read and write CSV files.\n",
        "\n",
        "We open an existing file (Salaries.csv) using a context manager, and the mode in the context manager is set to read (`r`). Then, use the reader class from csv, which will take the values in the csv and store them into a variable that becomes an iterable."
      ]
    },
    {
      "cell_type": "code",
      "execution_count": 3,
      "metadata": {
        "id": "PC_5fqqQKN1K"
      },
      "outputs": [
        {
          "name": "stdout",
          "output_type": "stream",
          "text": [
            "Id,EmployeeName,JobTitle,BasePay,OvertimePay,OtherPay,Benefits,TotalPay,TotalPayBenefits,Year,Notes,Agency,Status\n",
            "1,NATHANIEL FORD,GENERAL MANAGER-METROPOLITAN TRANSIT AUTHORITY,167411.18,0.0,400184.25,,567595.43,567595.43,2011,,San Francisco,\n",
            "2,GARY JIMENEZ,CAPTAIN III (POLICE DEPARTMENT),155966.02,245131.88,137811.38,,538909.28,538909.28,2011,,San Francisco,\n",
            "3,ALBERT PARDINI,CAPTAIN III (POLICE DEPARTMENT),212739.13,106088.18,16452.6,,335279.91,335279.91,2011,,San Francisco,\n",
            "4,CHRISTOPHER CHONG,WIRE ROPE CABLE MAINTENANCE MECHANIC,77916.0,56120.71,198306.9,,332343.61,332343.61,2011,,San Francisco,\n",
            "5,PATRICK GARDNER,DEPUTY CHIEF OF DEPARTMENT,(FIRE DEPARTMENT),134401.6,9737.0,182234.59,,326373.19,326373.19,2011,,San Francisco,\n"
          ]
        }
      ],
      "source": [
        "import csv\n",
        "with open('Salaries.csv', mode='r', newline='') as csvfile:\n",
        "    reader = csv.reader(csvfile, delimiter=',')\n",
        "    for n, row in enumerate(reader):\n",
        "        print(','.join(row))\n",
        "        if n == 5: # Read only the first five entries\n",
        "            break\n"
      ]
    },
    {
      "cell_type": "markdown",
      "metadata": {
        "id": "-TAEk4kEKN1K"
      },
      "source": [
        "### Create CSV files"
      ]
    },
    {
      "cell_type": "markdown",
      "metadata": {
        "id": "IYoAx3omKN1K"
      },
      "source": [
        "The same library can be used to generate csv files. The only thing you need to change is the mode argument in the context manager is write (`w`). If you want to append things to the csv, you can use the mode append (`a`)\n"
      ]
    },
    {
      "cell_type": "markdown",
      "metadata": {
        "id": "SRBqmNeEKN1K"
      },
      "source": [
        "As opposed to reading a CSV file, if we write a CSV, we need to use the `writer` class, which will point to the file we want to create. Notice that the file we want to generate doesn't necessarily have to exist (if it exists, it will overwrite its content)\n",
        "\n",
        "The `writer` object has some methods to create a new file. The most common one is `writerows`, which accepts iterables as arguments, and parse them into a comma separated row\n",
        "\n",
        "So, if we define a list:"
      ]
    },
    {
      "cell_type": "code",
      "execution_count": 4,
      "metadata": {
        "id": "CRQN4cQAKN1K"
      },
      "outputs": [],
      "source": [
        "my_list = [['Sparky', 7, 'Brown', 'Corgi'], ['Fido', 4, 'White', 'Husky']]"
      ]
    },
    {
      "cell_type": "markdown",
      "metadata": {
        "id": "vbq87jefKN1L"
      },
      "source": [
        "We can create a new csv file where each row contains the characteristic of each dog"
      ]
    },
    {
      "cell_type": "code",
      "execution_count": 5,
      "metadata": {
        "id": "Cb8LTrnNKN1L"
      },
      "outputs": [],
      "source": [
        "import csv\n",
        "with open('Dogs.csv', 'w', newline='') as f:\n",
        "    writer = csv.writer(f)\n",
        "    writer.writerow(['Name', 'Age', 'Colour', 'Breed'])\n",
        "    writer.writerows(my_list)"
      ]
    },
    {
      "cell_type": "markdown",
      "metadata": {
        "id": "HNE2xGBQKN1L"
      },
      "source": [
        "Notice the difference between `writerow` and `writerows`. Try running the following cell and see if you see any difference between both files"
      ]
    },
    {
      "cell_type": "code",
      "execution_count": 6,
      "metadata": {
        "id": "i64UkYSRKN1L"
      },
      "outputs": [],
      "source": [
        "with open('Dogs_2.csv', 'w', newline='') as f:\n",
        "    writer = csv.writer(f)\n",
        "    writer.writerow(['Name', 'Age', 'Colour', 'Breed'])\n",
        "    writer.writerow(my_list)"
      ]
    },
    {
      "cell_type": "markdown",
      "metadata": {
        "id": "GmL0UchcKN1L"
      },
      "source": [
        "## JSON\n"
      ]
    },
    {
      "cell_type": "markdown",
      "metadata": {
        "id": "Ai--_XD2KN1L"
      },
      "source": [
        "> <font size=+1> JSON (JavaScript Object Notation) is a file format that stores data in a way that is easily readable by both humans and machines.</font>\n",
        "\n",
        "- It is as useful way for a browser and a server to exchange data, so it is used extensively in Web-based applications of coding.\n",
        "- In fact, Jupyter Notebook .ipynb files are actually stored in JSON format.\n"
      ]
    },
    {
      "cell_type": "markdown",
      "metadata": {
        "id": "Kvo9YB86KN1L"
      },
      "source": [
        "JSON format is very similar to Python dictionaries, they contain a key and it has a corresponding value to that key"
      ]
    },
    {
      "cell_type": "markdown",
      "metadata": {
        "id": "u1BtxzGsKN1L"
      },
      "source": [
        "### Read JSON files"
      ]
    },
    {
      "cell_type": "markdown",
      "metadata": {
        "id": "_mE5qJbxKN1L"
      },
      "source": [
        "Python offers a library called `json` that can read, write, or append elements from or to a JSON file"
      ]
    },
    {
      "cell_type": "markdown",
      "metadata": {
        "id": "vNcz50JGKN1L"
      },
      "source": [
        "The syntax is very similar to the one for CSV files. We use a context manager, set the mode we want to use, and then use a method. In this case, for reading a file, we use the `load` method"
      ]
    },
    {
      "cell_type": "code",
      "execution_count": 7,
      "metadata": {
        "id": "y_KYEm-DKN1L"
      },
      "outputs": [
        {
          "name": "stdout",
          "output_type": "stream",
          "text": [
            "[{'userId': '28e0a8ff-3a16-46be-be7e-94dc7f67a7d1', 'jobTitle': 'Developer', 'firstName': 'Albin', 'lastName': 'Bailey', 'employeeCode': 'E1', 'region': 'CA', 'phoneNumber': '123456'}, {'userId': 'ebeb806d-82ec-4c0e-9a91-328fddec94a3', 'jobTitle': 'Developer', 'firstName': 'Carlos', 'lastName': 'Diaz', 'employeeCode': 'E2', 'region': 'CA', 'phoneNumber': '1111111'}, {'userId': 'facbd40a-53cd-4357-9dac-e85d8bcc0636', 'jobTitle': 'Program Directory', 'firstName': 'Eugene', 'lastName': 'Faraday', 'employeeCode': 'E3', 'region': 'CA', 'phoneNumber': '2222222'}]\n"
          ]
        }
      ],
      "source": [
        "import json\n",
        "with open('JSON_sample.json', mode='r') as f:\n",
        "    json_dict = json.load(f)\n",
        "\n",
        "print(json_dict)"
      ]
    },
    {
      "cell_type": "markdown",
      "metadata": {
        "id": "KBLxafX0KN1M"
      },
      "source": [
        "Observe that, whatever we read, is a dictionary"
      ]
    },
    {
      "cell_type": "code",
      "execution_count": 8,
      "metadata": {
        "id": "r334Iyu8KN1M"
      },
      "outputs": [
        {
          "data": {
            "text/plain": [
              "list"
            ]
          },
          "execution_count": 8,
          "metadata": {},
          "output_type": "execute_result"
        }
      ],
      "source": [
        "type(json_dict)"
      ]
    },
    {
      "cell_type": "markdown",
      "metadata": {
        "id": "qQnNmcFRKN1M"
      },
      "source": [
        "### Create JSON files"
      ]
    },
    {
      "cell_type": "markdown",
      "metadata": {
        "id": "-xA4B5Z1KN1M"
      },
      "source": [
        "We can create json files from dictionaries. Observe that the mode of the context manager is `w`. The method in this case is `dump`. The `dump` method accepts the data we want to use, and then the file we want to dump the data into."
      ]
    },
    {
      "cell_type": "code",
      "execution_count": 9,
      "metadata": {
        "id": "pXHoUBRvKN1M"
      },
      "outputs": [],
      "source": [
        "test_dict = {'a': 1, 'b': 2, 'c': 3, 'd': 4}\n",
        "with open('JSON_test.json', mode='w') as f:\n",
        "    json.dump(test_dict, f)"
      ]
    },
    {
      "cell_type": "markdown",
      "metadata": {
        "id": "ZX54YpSIKN1M"
      },
      "source": [
        "Observe in your directory that now you have a `json` file called `JSON_test.json`"
      ]
    },
    {
      "cell_type": "markdown",
      "metadata": {
        "id": "IpM0y7JPKN1M"
      },
      "source": [
        "We can also have a string containing a json and parse it"
      ]
    },
    {
      "cell_type": "code",
      "execution_count": 10,
      "metadata": {
        "id": "P8gpE3z-KN1M"
      },
      "outputs": [],
      "source": [
        "x =  '{\"name\": \"John\", \"age\": 30, \"city\": \"New York\"}'"
      ]
    },
    {
      "cell_type": "code",
      "execution_count": 11,
      "metadata": {
        "id": "gVAz6uTaKN1M"
      },
      "outputs": [
        {
          "name": "stdout",
          "output_type": "stream",
          "text": [
            "{'name': 'John', 'age': 30, 'city': 'New York'}\n",
            "<class 'dict'>\n"
          ]
        }
      ],
      "source": [
        "y = json.loads(x)\n",
        "print(y)\n",
        "print(type(y))"
      ]
    },
    {
      "cell_type": "markdown",
      "metadata": {
        "id": "KyTO-w5aKN1M"
      },
      "source": [
        "Be careful with the double quotes! If your keys have single quotes, the json parser will not work!"
      ]
    },
    {
      "cell_type": "code",
      "execution_count": 12,
      "metadata": {
        "id": "5RCwMZVyKN1M"
      },
      "outputs": [
        {
          "ename": "JSONDecodeError",
          "evalue": "Expecting property name enclosed in double quotes: line 1 column 2 (char 1)",
          "output_type": "error",
          "traceback": [
            "\u001b[0;31m---------------------------------------------------------------------------\u001b[0m",
            "\u001b[0;31mJSONDecodeError\u001b[0m                           Traceback (most recent call last)",
            "\u001b[1;32m/home/ranvir/AiCore/14_python_with_csv_json_yaml_images_audio_video/notebook-lesson.ipynb Cell 35\u001b[0m line \u001b[0;36m2\n\u001b[1;32m      <a href='vscode-notebook-cell://wsl%2Bubuntu/home/ranvir/AiCore/14_python_with_csv_json_yaml_images_audio_video/notebook-lesson.ipynb#X46sdnNjb2RlLXJlbW90ZQ%3D%3D?line=0'>1</a>\u001b[0m x \u001b[39m=\u001b[39m  \u001b[39m\"\u001b[39m\u001b[39m{\u001b[39m\u001b[39m'\u001b[39m\u001b[39mname\u001b[39m\u001b[39m'\u001b[39m\u001b[39m: \u001b[39m\u001b[39m'\u001b[39m\u001b[39mJohn\u001b[39m\u001b[39m'\u001b[39m\u001b[39m, \u001b[39m\u001b[39m'\u001b[39m\u001b[39mage\u001b[39m\u001b[39m'\u001b[39m\u001b[39m: 30, \u001b[39m\u001b[39m'\u001b[39m\u001b[39mcity\u001b[39m\u001b[39m'\u001b[39m\u001b[39m: \u001b[39m\u001b[39m'\u001b[39m\u001b[39mNew York\u001b[39m\u001b[39m'\u001b[39m\u001b[39m}\u001b[39m\u001b[39m\"\u001b[39m\n\u001b[0;32m----> <a href='vscode-notebook-cell://wsl%2Bubuntu/home/ranvir/AiCore/14_python_with_csv_json_yaml_images_audio_video/notebook-lesson.ipynb#X46sdnNjb2RlLXJlbW90ZQ%3D%3D?line=1'>2</a>\u001b[0m y \u001b[39m=\u001b[39m json\u001b[39m.\u001b[39;49mloads(x)\n",
            "File \u001b[0;32m/usr/lib/python3.10/json/__init__.py:346\u001b[0m, in \u001b[0;36mloads\u001b[0;34m(s, cls, object_hook, parse_float, parse_int, parse_constant, object_pairs_hook, **kw)\u001b[0m\n\u001b[1;32m    341\u001b[0m     s \u001b[39m=\u001b[39m s\u001b[39m.\u001b[39mdecode(detect_encoding(s), \u001b[39m'\u001b[39m\u001b[39msurrogatepass\u001b[39m\u001b[39m'\u001b[39m)\n\u001b[1;32m    343\u001b[0m \u001b[39mif\u001b[39;00m (\u001b[39mcls\u001b[39m \u001b[39mis\u001b[39;00m \u001b[39mNone\u001b[39;00m \u001b[39mand\u001b[39;00m object_hook \u001b[39mis\u001b[39;00m \u001b[39mNone\u001b[39;00m \u001b[39mand\u001b[39;00m\n\u001b[1;32m    344\u001b[0m         parse_int \u001b[39mis\u001b[39;00m \u001b[39mNone\u001b[39;00m \u001b[39mand\u001b[39;00m parse_float \u001b[39mis\u001b[39;00m \u001b[39mNone\u001b[39;00m \u001b[39mand\u001b[39;00m\n\u001b[1;32m    345\u001b[0m         parse_constant \u001b[39mis\u001b[39;00m \u001b[39mNone\u001b[39;00m \u001b[39mand\u001b[39;00m object_pairs_hook \u001b[39mis\u001b[39;00m \u001b[39mNone\u001b[39;00m \u001b[39mand\u001b[39;00m \u001b[39mnot\u001b[39;00m kw):\n\u001b[0;32m--> 346\u001b[0m     \u001b[39mreturn\u001b[39;00m _default_decoder\u001b[39m.\u001b[39;49mdecode(s)\n\u001b[1;32m    347\u001b[0m \u001b[39mif\u001b[39;00m \u001b[39mcls\u001b[39m \u001b[39mis\u001b[39;00m \u001b[39mNone\u001b[39;00m:\n\u001b[1;32m    348\u001b[0m     \u001b[39mcls\u001b[39m \u001b[39m=\u001b[39m JSONDecoder\n",
            "File \u001b[0;32m/usr/lib/python3.10/json/decoder.py:337\u001b[0m, in \u001b[0;36mJSONDecoder.decode\u001b[0;34m(self, s, _w)\u001b[0m\n\u001b[1;32m    332\u001b[0m \u001b[39mdef\u001b[39;00m \u001b[39mdecode\u001b[39m(\u001b[39mself\u001b[39m, s, _w\u001b[39m=\u001b[39mWHITESPACE\u001b[39m.\u001b[39mmatch):\n\u001b[1;32m    333\u001b[0m \u001b[39m    \u001b[39m\u001b[39m\"\"\"Return the Python representation of ``s`` (a ``str`` instance\u001b[39;00m\n\u001b[1;32m    334\u001b[0m \u001b[39m    containing a JSON document).\u001b[39;00m\n\u001b[1;32m    335\u001b[0m \n\u001b[1;32m    336\u001b[0m \u001b[39m    \"\"\"\u001b[39;00m\n\u001b[0;32m--> 337\u001b[0m     obj, end \u001b[39m=\u001b[39m \u001b[39mself\u001b[39;49m\u001b[39m.\u001b[39;49mraw_decode(s, idx\u001b[39m=\u001b[39;49m_w(s, \u001b[39m0\u001b[39;49m)\u001b[39m.\u001b[39;49mend())\n\u001b[1;32m    338\u001b[0m     end \u001b[39m=\u001b[39m _w(s, end)\u001b[39m.\u001b[39mend()\n\u001b[1;32m    339\u001b[0m     \u001b[39mif\u001b[39;00m end \u001b[39m!=\u001b[39m \u001b[39mlen\u001b[39m(s):\n",
            "File \u001b[0;32m/usr/lib/python3.10/json/decoder.py:353\u001b[0m, in \u001b[0;36mJSONDecoder.raw_decode\u001b[0;34m(self, s, idx)\u001b[0m\n\u001b[1;32m    344\u001b[0m \u001b[39m\u001b[39m\u001b[39m\"\"\"Decode a JSON document from ``s`` (a ``str`` beginning with\u001b[39;00m\n\u001b[1;32m    345\u001b[0m \u001b[39ma JSON document) and return a 2-tuple of the Python\u001b[39;00m\n\u001b[1;32m    346\u001b[0m \u001b[39mrepresentation and the index in ``s`` where the document ended.\u001b[39;00m\n\u001b[0;32m   (...)\u001b[0m\n\u001b[1;32m    350\u001b[0m \n\u001b[1;32m    351\u001b[0m \u001b[39m\"\"\"\u001b[39;00m\n\u001b[1;32m    352\u001b[0m \u001b[39mtry\u001b[39;00m:\n\u001b[0;32m--> 353\u001b[0m     obj, end \u001b[39m=\u001b[39m \u001b[39mself\u001b[39;49m\u001b[39m.\u001b[39;49mscan_once(s, idx)\n\u001b[1;32m    354\u001b[0m \u001b[39mexcept\u001b[39;00m \u001b[39mStopIteration\u001b[39;00m \u001b[39mas\u001b[39;00m err:\n\u001b[1;32m    355\u001b[0m     \u001b[39mraise\u001b[39;00m JSONDecodeError(\u001b[39m\"\u001b[39m\u001b[39mExpecting value\u001b[39m\u001b[39m\"\u001b[39m, s, err\u001b[39m.\u001b[39mvalue) \u001b[39mfrom\u001b[39;00m \u001b[39mNone\u001b[39;00m\n",
            "\u001b[0;31mJSONDecodeError\u001b[0m: Expecting property name enclosed in double quotes: line 1 column 2 (char 1)"
          ]
        }
      ],
      "source": [
        "x =  \"{'name': 'John', 'age': 30, 'city': 'New York'}\"\n",
        "y = json.loads(x)"
      ]
    },
    {
      "cell_type": "markdown",
      "metadata": {
        "id": "FvI7maaLKN1N"
      },
      "source": [
        "We do the opposite (from dictionary to JSON string) using the `dumps` method"
      ]
    },
    {
      "cell_type": "code",
      "execution_count": 13,
      "metadata": {
        "id": "TH63E2GvKN1N"
      },
      "outputs": [
        {
          "name": "stdout",
          "output_type": "stream",
          "text": [
            "{\"a\": 3, \"b\": 4}\n"
          ]
        }
      ],
      "source": [
        "test_dict = {'a': 3, 'b': 4}\n",
        "new_json = json.dumps(test_dict)\n",
        "print(new_json)"
      ]
    },
    {
      "cell_type": "markdown",
      "metadata": {
        "id": "65ajRf5LKN1N"
      },
      "source": [
        "# YAML"
      ]
    },
    {
      "cell_type": "markdown",
      "metadata": {
        "id": "s6E9YpWAKN1N"
      },
      "source": [
        "YAML is a data serialisation language, which means that it is a common language across different applications. In fact, you already saw a serialisation language in this lesson: JSON.\n",
        "\n",
        "> <font size=+1> YAML (YAML Ain't Markup Language) is a data serialisation language </font>"
      ]
    },
    {
      "cell_type": "markdown",
      "metadata": {
        "id": "uA6aC3vQKN1N"
      },
      "source": [
        "The main advantage of YAML is that is highly human-readable. You can see a comparison between JSON and YAML containing the same information.\n",
        "### YAML:\n",
        "```\n",
        "simple-property: a simple value\n",
        "\n",
        "object-property:\n",
        "    first-property: first value\n",
        "    second-property: second value\n",
        "\n",
        "array-property:\n",
        "    - item-1-property-1: one\n",
        "      item-1-property-2: 2\n",
        "    - item-2-property-1: three\n",
        "      item-2-property-2: 4\n",
        "```\n",
        "\n",
        "### JSON\n",
        "```\n",
        "{\n",
        "  \"simple-property\": \"a simple value\",\n",
        "\n",
        "  \"object-property\": {\n",
        "      \"first-property\": \"first value\",\n",
        "      \"second-property\": \"second value\",\n",
        "  },\n",
        "\n",
        "  \"array-property\": [\n",
        "      { \"item-1-property-1\": \"one\",\n",
        "        \"item-1-property-2\": 2 },\n",
        "      { \"item-2-property-1\": \"three\",\n",
        "        \"item-2-property-2\": 4}\n",
        "  ]\n",
        "}\n",
        "```\n"
      ]
    },
    {
      "cell_type": "markdown",
      "metadata": {
        "id": "FkTQZM5mKN1P"
      },
      "source": [
        "Observe that the base of YAML files lies in the indentation and the linespaces.\n",
        "\n",
        "The most basic syntax in a YAML file is the __key:value__ pair\n",
        "```\n",
        "key: value\n",
        "```\n",
        "For example:\n",
        "```\n",
        "# This is a comment\n",
        "name: Ivan\n",
        "surname: 'Ying'\n",
        "role: \"Instructor\"\n",
        "IQ: 0\n",
        "```\n",
        "Notice that strings can be either into double quotes, single quotes or nothing, and they will work the same.\n",
        "\n",
        "Another useful way of using YAML files is leveraging __objects__ simply by indenting the key:value pairs:\n",
        "```\n",
        "# This is a comment\n",
        "Person:\n",
        "    name: Ivan\n",
        "    surname: 'Ying'\n",
        "    role: \"Instructor\"\n",
        "    IQ: 0\n",
        "```\n",
        "Same as with Python, indentation should be at the right level, and it would be a good idea to have a linter for checking it."
      ]
    },
    {
      "cell_type": "markdown",
      "metadata": {
        "id": "XaL9_O70KN1P"
      },
      "source": [
        "You can look for `docs-yaml` in your Extensions tab on VSCode to install a linter to tell you whether your YAML file is well indented or not. Or you can also visit [this link](https://codebeautify.org/yaml-validator)"
      ]
    },
    {
      "cell_type": "markdown",
      "metadata": {
        "id": "JxHMoxGyKN1P"
      },
      "source": [
        "One more thing you can use in YAML files are lists. List can contain single values, or it can also contain key:value pair values\n",
        "```\n",
        "Person:\n",
        "    - name: Ivan\n",
        "      surname: 'Ying'\n",
        "      role: \"Instructor\"\n",
        "      IQ: 0\n",
        "    - name: Not Ivan\n",
        "      surname: 'Gniy'\n",
        "      role: \"Doppelganger\"\n",
        "      IQ: 150\n",
        "Animals:\n",
        "    - Cat\n",
        "    - Dog\n",
        "    - Shoebill\n",
        "    - Kakapo\n",
        "```\n",
        "The last list can also be written as:\n",
        "```\n",
        "Animals: [Cat, Dog, Shoebill, Kakapo]\n",
        "```"
      ]
    },
    {
      "cell_type": "markdown",
      "metadata": {
        "id": "g2b14NiTKN1Q"
      },
      "source": [
        "### Read YAML files"
      ]
    },
    {
      "cell_type": "markdown",
      "metadata": {
        "id": "00-XHptxKN1Q"
      },
      "source": [
        "Python doesn't have a library for reading YAML files. But not to worry, you can install a library that allows you to do so. The library is named `PyYAML`."
      ]
    },
    {
      "cell_type": "code",
      "execution_count": 14,
      "metadata": {
        "id": "jjiCx21nKN1Q"
      },
      "outputs": [
        {
          "name": "stdout",
          "output_type": "stream",
          "text": [
            "Defaulting to user installation because normal site-packages is not writeable\n",
            "Requirement already satisfied: PyYAML in /usr/lib/python3/dist-packages (5.4.1)\n"
          ]
        }
      ],
      "source": [
        "!pip install PyYAML"
      ]
    },
    {
      "cell_type": "markdown",
      "metadata": {
        "id": "Hq_kgOOwKN1Q"
      },
      "source": [
        "Be careful, some libraries don't have the same name as they are published with. In this case, if you want to use the PyYAML library, you simply need to import `yaml`\n",
        "\n",
        "Like CSVs and JSONs, we might want to use a context manager with the read mode"
      ]
    },
    {
      "cell_type": "code",
      "execution_count": 15,
      "metadata": {
        "id": "BUBzzqDEKN1Q"
      },
      "outputs": [
        {
          "name": "stdout",
          "output_type": "stream",
          "text": [
            "<class 'dict'>\n"
          ]
        }
      ],
      "source": [
        "import yaml\n",
        "with open('yaml_example.yaml', 'r') as stream:\n",
        "    data_loaded = yaml.safe_load(stream)\n",
        "\n",
        "print(type(data_loaded))"
      ]
    },
    {
      "cell_type": "markdown",
      "metadata": {
        "id": "vJGbHOH3KN1Q"
      },
      "source": [
        "Observe that, same as with JSON files, we obtain a dictionary. Let's print it out:"
      ]
    },
    {
      "cell_type": "code",
      "execution_count": 16,
      "metadata": {
        "id": "OdaNj6cpKN1Q"
      },
      "outputs": [
        {
          "name": "stdout",
          "output_type": "stream",
          "text": [
            "{'Person': [{'name': 'Ivan', 'surname': 'Ying', 'role': 'Instructor', 'IQ': 0}, {'name': 'Not Ivan', 'surname': 'Gniy', 'role': 'Doppelganger', 'IQ': 150}], 'Animals': ['Cat', 'Dog', 'Shoebill', 'Kakapo']}\n",
            "dict_keys(['Person', 'Animals'])\n"
          ]
        }
      ],
      "source": [
        "print(data_loaded)\n",
        "print(data_loaded.keys())"
      ]
    },
    {
      "cell_type": "markdown",
      "metadata": {
        "id": "MK5NVG7HKN1Q"
      },
      "source": [
        "Notice that we have two main keys, 'Person', and 'Animal'. The value corresponding to 'Person' is a list with dictionaries, and the value corresponding to 'Animal' is just a regular list\n",
        "\n",
        "So we can get the values of it by indexing the correct key and/or index"
      ]
    },
    {
      "cell_type": "code",
      "execution_count": 17,
      "metadata": {
        "id": "nKe2hB1WKN1Q"
      },
      "outputs": [
        {
          "name": "stdout",
          "output_type": "stream",
          "text": [
            "The first element of Person is: {'name': 'Ivan', 'surname': 'Ying', 'role': 'Instructor', 'IQ': 0}\n",
            "The name of the first element of Person is: Ivan\n",
            "The second element of Person is: {'name': 'Not Ivan', 'surname': 'Gniy', 'role': 'Doppelganger', 'IQ': 150}\n",
            "The name of the second element of Person is: Not Ivan\n",
            "The value corresponding to Animals is: ['Cat', 'Dog', 'Shoebill', 'Kakapo']\n"
          ]
        }
      ],
      "source": [
        "print(f\"The first element of Person is: {data_loaded['Person'][0]}\")\n",
        "print(f\"The name of the first element of Person is: {data_loaded['Person'][0]['name']}\")\n",
        "print(f\"The second element of Person is: {data_loaded['Person'][1]}\")\n",
        "print(f\"The name of the second element of Person is: {data_loaded['Person'][1]['name']}\")\n",
        "print(f'The value corresponding to Animals is: {data_loaded[\"Animals\"]}')\n"
      ]
    },
    {
      "cell_type": "markdown",
      "metadata": {
        "id": "HZMTlqKSKN1Q"
      },
      "source": [
        "### Create YAML files"
      ]
    },
    {
      "cell_type": "markdown",
      "metadata": {
        "id": "TuO-Xde9KN1Q"
      },
      "source": [
        "You can also create YAML using the same library. The variable you need to use to create a YAML file is a dictionary. So, let's define a simple dictionary out of a JSON file we have, and then create a YAML from there"
      ]
    },
    {
      "cell_type": "code",
      "execution_count": 18,
      "metadata": {
        "id": "LG4mMYHnKN1R"
      },
      "outputs": [
        {
          "name": "stdout",
          "output_type": "stream",
          "text": [
            "[{'userId': '28e0a8ff-3a16-46be-be7e-94dc7f67a7d1', 'jobTitle': 'Developer', 'firstName': 'Albin', 'lastName': 'Bailey', 'employeeCode': 'E1', 'region': 'CA', 'phoneNumber': '123456'}, {'userId': 'ebeb806d-82ec-4c0e-9a91-328fddec94a3', 'jobTitle': 'Developer', 'firstName': 'Carlos', 'lastName': 'Diaz', 'employeeCode': 'E2', 'region': 'CA', 'phoneNumber': '1111111'}, {'userId': 'facbd40a-53cd-4357-9dac-e85d8bcc0636', 'jobTitle': 'Program Directory', 'firstName': 'Eugene', 'lastName': 'Faraday', 'employeeCode': 'E3', 'region': 'CA', 'phoneNumber': '2222222'}]\n"
          ]
        }
      ],
      "source": [
        "import json\n",
        "\n",
        "with open('JSON_sample.json', mode='r') as f:\n",
        "    my_dict = json.load(f)\n",
        "\n",
        "print(my_dict)"
      ]
    },
    {
      "cell_type": "markdown",
      "metadata": {
        "id": "RGrEG743KN1R"
      },
      "source": [
        "Now, we can use the `dump` method to save the dictionary as a yaml file. The `dump` method accepts the data we want to use, and then the file in which we want to dump our data"
      ]
    },
    {
      "cell_type": "code",
      "execution_count": 19,
      "metadata": {
        "id": "Jvq37UkbKN1R"
      },
      "outputs": [],
      "source": [
        "with open('YAML_from_JSON.yaml', 'w') as f:\n",
        "        yaml.dump(my_dict, f)"
      ]
    },
    {
      "cell_type": "markdown",
      "metadata": {
        "id": "LLGJa8RUKN1R"
      },
      "source": [
        "# Key Takeaways\n",
        "\n",
        "- Some popular types of file formats used in industry include: CSV, JSON, YAML, images, videos and audio\n",
        "- Python provides different ways to read and write data for each of the above-mentioned file types\n",
        "- CSV (comma separated value) files are those which contain rows and columns of data, with each line separated by a comma from the next\n",
        "- JSON (JavaScript object notation) files are those which store data in a key-value pair that is easily read by humans. It's widely used in web applications.\n",
        "- YAML (YAML Ain't Markup Language) is a data serisalisation language which is easily readable by humans. It also stores data in key-value pairs (similar to JSON)."
      ]
    }
  ],
  "metadata": {
    "colab": {
      "include_colab_link": true,
      "provenance": []
    },
    "interpreter": {
      "hash": "aee8b7b246df8f9039afb4144a1f6fd8d2ca17a180786b69acc140d282b71a49"
    },
    "kernelspec": {
      "display_name": "Python 3.9.6 64-bit",
      "name": "python3"
    },
    "language_info": {
      "codemirror_mode": {
        "name": "ipython",
        "version": 3
      },
      "file_extension": ".py",
      "mimetype": "text/x-python",
      "name": "python",
      "nbconvert_exporter": "python",
      "pygments_lexer": "ipython3",
      "version": "3.10.12"
    }
  },
  "nbformat": 4,
  "nbformat_minor": 0
}

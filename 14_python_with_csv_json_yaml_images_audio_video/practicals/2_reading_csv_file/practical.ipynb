{
  "cells": [
    {
      "cell_type": "markdown",
      "metadata": {
        "id": "FIEKlszeLmXj"
      },
      "source": [
        "# Reading a CSV file"
      ]
    },
    {
      "cell_type": "code",
      "execution_count": 1,
      "metadata": {
        "id": "7b17afac"
      },
      "outputs": [
        {
          "name": "stdout",
          "output_type": "stream",
          "text": [
            "Downloading the marking system\n",
            "Downloading sample_csv.csv...\n"
          ]
        }
      ],
      "source": [
        "#@title ### Run the following cell to download the necessary files for this practical { display-mode: \"form\" }\n",
        "#@markdown Don't worry about what's in this collapsed cell\n",
        "\n",
        "print('Downloading the marking system')\n",
        "!wget https://s3-eu-west-1.amazonaws.com/aicore-portal-public-prod-307050600709/practical_files/98215ced-7292-4d75-855d-2bc5f7e8fd07/marking_system.py -q -O marking_system.py\n",
        "import marking_system\n",
        "import importlib\n",
        "importlib.reload(marking_system)\n",
        "import sys\n",
        "ipython = get_ipython()\n",
        "def hide_traceback(exc_tuple=None, filename=None, tb_offset=None, exception_only=False, running_compiled_code=False):\n",
        "    etype, value, tb = sys.exc_info()\n",
        "    value.__cause__ = None  # suppress chained exceptions\n",
        "    return ipython._showtraceback(etype, \"❌ \" + f\"\u001b[91m{value}\", ipython.InteractiveTB.get_exception_only(etype, \"❌ \" + f\"\u001b[91m{value}\"))\n",
        "ipython.showtraceback = hide_traceback\n",
        "print('Downloading sample_csv.csv...')\n",
        "!wget https://s3-eu-west-1.amazonaws.com/aicore-portal-public-prod-307050600709/practical_files/98215ced-7292-4d75-855d-2bc5f7e8fd07/sample_csv.csv -q -O sample_csv.csv\n"
      ]
    },
    {
      "cell_type": "markdown",
      "metadata": {
        "id": "oEcjx1FHLmXl"
      },
      "source": [
        "### 1. Read the file called `sample_csv.csv` and print all the rows.\n",
        "\n",
        "Assign the data in the file to a variable called `my_data`."
      ]
    },
    {
      "cell_type": "code",
      "execution_count": 4,
      "metadata": {
        "id": "j-Cl545SLmXl"
      },
      "outputs": [],
      "source": [
        "import csv\n",
        "\n",
        "with open('sample_csv.csv', 'r') as f:\n",
        "    reader = csv.reader(f, delimiter=',')\n",
        "    print(reader)\n",
        "    my_data = list(reader)\n",
        "    print(my_data)"
      ]
    },
    {
      "cell_type": "code",
      "execution_count": 5,
      "metadata": {
        "id": "fpep37J_LmXl"
      },
      "outputs": [
        {
          "ename": "TypeError",
          "evalue": "❌ \u001b[91mcheck_step_1() missing 1 required positional argument: 'my_data'",
          "output_type": "error",
          "traceback": [
            "\u001b[0;31mTypeError\u001b[0m\u001b[0;31m:\u001b[0m ❌ \u001b[91mcheck_step_1() missing 1 required positional argument: 'my_data'\n"
          ]
        }
      ],
      "source": [
        "#@title #### Run this cell to check your answer { display-mode: \"form\" }\n",
        "\n",
        "assert \"reader\" in globals(), \"You have not created the variable 'reader'. Please create it using the csv.reader() method.\"\n",
        "assert \"my_data\" in globals(), \"You have not created the list 'my_data'. Please create it converting the reader object to a list (list(reader)).\"\n",
        "\n",
        "marking_system.check_step_1()\n"
      ]
    },
    {
      "cell_type": "code",
      "execution_count": null,
      "metadata": {
        "id": "lXI9InA0LmXm"
      },
      "outputs": [],
      "source": [
        "#@title #### Run this cell to get a hint { display-mode: \"form\" }\n",
        "\n",
        "marking_system.hint_step_1()\n"
      ]
    }
  ],
  "metadata": {
    "colab": {
      "provenance": []
    },
    "kernelspec": {
      "display_name": "Python 3",
      "language": "python",
      "name": "python3"
    },
    "language_info": {
      "codemirror_mode": {
        "name": "ipython",
        "version": 3
      },
      "file_extension": ".py",
      "mimetype": "text/x-python",
      "name": "python",
      "nbconvert_exporter": "python",
      "pygments_lexer": "ipython3",
      "version": "3.10.12"
    }
  },
  "nbformat": 4,
  "nbformat_minor": 0
}

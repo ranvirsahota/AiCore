{
  "cells": [
    {
      "cell_type": "markdown",
      "metadata": {
        "id": "LKed_l36-isZ"
      },
      "source": [
        "# Writing a CSV file"
      ]
    },
    {
      "cell_type": "code",
      "execution_count": 1,
      "metadata": {
        "id": "1edfcf80",
        "outputId": "122f976f-0c4b-45f0-a16b-e32ef8f33dab",
        "colab": {
          "base_uri": "https://localhost:8080/"
        }
      },
      "outputs": [
        {
          "output_type": "stream",
          "name": "stdout",
          "text": [
            "Downloading the marking system\n"
          ]
        }
      ],
      "source": [
        "#@title ### Run the following cell to download the necessary files for this practical { display-mode: \"form\" }\n",
        "#@markdown Don't worry about what's in this collapsed cell\n",
        "\n",
        "print('Downloading the marking system')\n",
        "!wget https://s3-eu-west-1.amazonaws.com/aicore-portal-public-prod-307050600709/practical_files/83c9f19b-599d-4c8b-b033-2359a30f3b29/marking_system.py -q -O marking_system.py\n",
        "import marking_system\n",
        "import importlib\n",
        "importlib.reload(marking_system)\n",
        "import sys\n",
        "ipython = get_ipython()\n",
        "def hide_traceback(exc_tuple=None, filename=None, tb_offset=None, exception_only=False, running_compiled_code=False):\n",
        "    etype, value, tb = sys.exc_info()\n",
        "    value.__cause__ = None  # suppress chained exceptions\n",
        "    return ipython._showtraceback(etype, \"❌ \" + f\"\u001b[91m{value}\", ipython.InteractiveTB.get_exception_only(etype, \"❌ \" + f\"\u001b[91m{value}\"))\n",
        "ipython.showtraceback = hide_traceback\n"
      ]
    },
    {
      "cell_type": "markdown",
      "metadata": {
        "id": "05xtwDMh-isc"
      },
      "source": [
        "Given the following list of lists"
      ]
    },
    {
      "cell_type": "code",
      "execution_count": 2,
      "metadata": {
        "id": "SNhV_eb3-isd"
      },
      "outputs": [],
      "source": [
        "my_data = [[1, 2, 3], [4, 5, 6], [7, 8, 9]]\n"
      ]
    },
    {
      "cell_type": "markdown",
      "metadata": {
        "id": "4_E9IVYp-isd"
      },
      "source": [
        "### 1. Write the list of lists to a CSV file called `my_data.csv`\n",
        "\n",
        "- Use the `csv` module\n",
        "- Use the `csv.writer` function"
      ]
    },
    {
      "cell_type": "code",
      "execution_count": 3,
      "metadata": {
        "id": "-SUZ6TND-isd"
      },
      "outputs": [],
      "source": [
        "import csv\n",
        "\n",
        "with open('my_data.csv', 'w') as f:\n",
        "  writer = csv.writer(f)\n",
        "  writer.writerows(my_data)\n",
        "# TODO - Use the csv.writer() and writerows() methods to write the data to a file called my_data.csv\n"
      ]
    },
    {
      "cell_type": "code",
      "execution_count": 4,
      "metadata": {
        "id": "JLAPsqKn-ise",
        "outputId": "ea9cd424-8de5-4c07-ae98-6010facd9c78",
        "colab": {
          "base_uri": "https://localhost:8080/"
        }
      },
      "outputs": [
        {
          "output_type": "stream",
          "name": "stdout",
          "text": [
            "\u001b[92m✔ Well done! You have successfully written the file 'my_data.csv'.\n"
          ]
        }
      ],
      "source": [
        "#@title #### Run this cell to check your answer { display-mode: \"form\" }\n",
        "\n",
        "marking_system.check_step_1()\n"
      ]
    }
  ],
  "metadata": {
    "kernelspec": {
      "display_name": "Python 3",
      "language": "python",
      "name": "python3"
    },
    "language_info": {
      "codemirror_mode": {
        "name": "ipython",
        "version": 3
      },
      "file_extension": ".py",
      "mimetype": "text/x-python",
      "name": "python",
      "nbconvert_exporter": "python",
      "pygments_lexer": "ipython3",
      "version": "3.10.8"
    },
    "colab": {
      "provenance": []
    }
  },
  "nbformat": 4,
  "nbformat_minor": 0
}
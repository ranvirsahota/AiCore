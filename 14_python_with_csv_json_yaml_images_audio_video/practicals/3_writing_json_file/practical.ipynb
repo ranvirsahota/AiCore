{
  "cells": [
    {
      "cell_type": "markdown",
      "metadata": {
        "id": "r3tlEweTdXta"
      },
      "source": [
        "# Writing a JSON file"
      ]
    },
    {
      "cell_type": "code",
      "execution_count": null,
      "metadata": {
        "id": "db736dd3"
      },
      "outputs": [],
      "source": [
        "#@title ### Run the following cell to download the necessary files for this practical { display-mode: \"form\" }\n",
        "#@markdown Don't worry about what's in this collapsed cell\n",
        "\n",
        "print('Downloading the marking system')\n",
        "!wget https://s3-eu-west-1.amazonaws.com/aicore-portal-public-prod-307050600709/practical_files/b76d7cff-8815-4366-9981-c5470a21075c/marking_system.py -q -O marking_system.py\n",
        "import marking_system\n",
        "import importlib\n",
        "importlib.reload(marking_system)\n",
        "import sys\n",
        "ipython = get_ipython()\n",
        "def hide_traceback(exc_tuple=None, filename=None, tb_offset=None, exception_only=False, running_compiled_code=False):\n",
        "    etype, value, tb = sys.exc_info()\n",
        "    value.__cause__ = None  # suppress chained exceptions\n",
        "    return ipython._showtraceback(etype, \"❌ \" + f\"\u001b[91m{value}\", ipython.InteractiveTB.get_exception_only(etype, \"❌ \" + f\"\u001b[91m{value}\"))\n",
        "ipython.showtraceback = hide_traceback\n"
      ]
    },
    {
      "cell_type": "markdown",
      "metadata": {
        "id": "u3DDhfmvdXtc"
      },
      "source": [
        "Given the following Python dictionary"
      ]
    },
    {
      "cell_type": "code",
      "execution_count": null,
      "metadata": {
        "id": "S21IOAXgdXtc"
      },
      "outputs": [],
      "source": [
        "my_data = {\"name\": \"John\", \"age\": 30, \"city\": \"New York\"}\n"
      ]
    },
    {
      "cell_type": "markdown",
      "metadata": {
        "id": "FjyeC3QqdXtc"
      },
      "source": [
        "### 1. Write the dictionary to a JSON file"
      ]
    },
    {
      "cell_type": "code",
      "execution_count": null,
      "metadata": {
        "id": "dgmR1_9VdXtc"
      },
      "outputs": [],
      "source": [
        "import json\n",
        "\n",
        "with open(\"my_data.json\", \"w\") as f:\n",
        "    pass\n",
        "    # TODO - Write the data to the file using the json.dump() method\n"
      ]
    },
    {
      "cell_type": "code",
      "execution_count": null,
      "metadata": {
        "id": "Olw78FaddXtc"
      },
      "outputs": [],
      "source": [
        "#@title #### Run this cell to check your answer { display-mode: \"form\" }\n",
        "\n",
        "assert \"my_data\" in globals(), \"You have not created the dictionary 'my_data'. Please create it by running the code in the previous cell.\"\n",
        "marking_system.check_step_1()\n"
      ]
    }
  ],
  "metadata": {
    "language_info": {
      "name": "python"
    },
    "colab": {
      "provenance": []
    }
  },
  "nbformat": 4,
  "nbformat_minor": 0
}
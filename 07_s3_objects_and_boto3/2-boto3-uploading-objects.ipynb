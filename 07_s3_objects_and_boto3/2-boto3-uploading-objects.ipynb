{
 "cells": [
  {
   "cell_type": "markdown",
   "metadata": {},
   "source": [
    "# S3 Objects and boto3 - Practicals\n"
   ]
  },
  {
   "cell_type": "markdown",
   "metadata": {},
   "source": [
    "## 1. Use Boto3 to write a Python script that uploads a local file to an S3 bucket\n",
    "\n",
    "## 2. Implement error handling to catch and display any exceptions that may occur during the upload process\n",
    "\n",
    "## 3. Test the script with different file types and verify the successful upload of objects in the S3 bucket"
   ]
  },
  {
   "cell_type": "code",
   "execution_count": 2,
   "metadata": {},
   "outputs": [],
   "source": [
    "import boto3\n",
    "s3 = boto3.client('s3')\n",
    "aws_bucket = 'aws-basics-chp7-prac'"
   ]
  },
  {
   "cell_type": "markdown",
   "metadata": {},
   "source": [
    "### Image/jpg"
   ]
  },
  {
   "cell_type": "code",
   "execution_count": 3,
   "metadata": {},
   "outputs": [],
   "source": [
    "import boto3\n",
    "from botocore.exceptions import NoCredentialsError, ClientError\n",
    "\n",
    "try:\n",
    "    s3 = boto3.client('s3')\n",
    "    aws_bucket = 'aws-basics-chp7-prac'  \n",
    "    s3.upload_file('/home/ranvir/windows_drop/downloaded-cloud-meme.jpg', 'aws-basics-chp7-prac', 'memes/downloaded-cloud-meme.jpg')\n",
    "except ClientError:\n",
    "    print('Client Error')\n",
    "except:\n",
    "    print('Uknown Error')\n"
   ]
  }
 ],
 "metadata": {
  "kernelspec": {
   "display_name": "aicore",
   "language": "python",
   "name": "python3"
  },
  "language_info": {
   "codemirror_mode": {
    "name": "ipython",
    "version": 3
   },
   "file_extension": ".py",
   "mimetype": "text/x-python",
   "name": "python",
   "nbconvert_exporter": "python",
   "pygments_lexer": "ipython3",
   "version": "3.12.0"
  }
 },
 "nbformat": 4,
 "nbformat_minor": 2
}

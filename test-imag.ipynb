{
  "cells": [
    {
      "cell_type": "markdown",
      "metadata": {
        "id": "view-in-github",
        "colab_type": "text"
      },
      "source": [
        "<a href=\"https://colab.research.google.com/github/ranvirsahota/AiCore/blob/python-programming-environment/test-imag.ipynb\" target=\"_parent\"><img src=\"https://colab.research.google.com/assets/colab-badge.svg\" alt=\"Open In Colab\"/></a>"
      ]
    },
    {
      "cell_type": "markdown",
      "metadata": {
        "id": "rhLwKgd_5fpp"
      },
      "source": [
        "## Setting up (Linux)\n",
        "You will set up everything you need to get started on your local Linux machine. To execute the commands below you will need to open the Linux command line."
      ]
    },
    {
      "cell_type": "markdown",
      "metadata": {
        "id": "UpN20rxC5fpr"
      },
      "source": [
        "### 1. Updating Linux\n",
        "First thing let's make sure our operating system is up to date."
      ]
    },
    {
      "cell_type": "code",
      "execution_count": null,
      "metadata": {
        "vscode": {
          "languageId": "shellscript"
        },
        "id": "fsIRuowy5fpr"
      },
      "outputs": [],
      "source": [
        "sudo apt-get update\n",
        "sudo apt-get upgrade -y"
      ]
    },
    {
      "cell_type": "markdown",
      "metadata": {
        "id": "wm6W7jkI5fps"
      },
      "source": [
        "### 2. Installing miniconda\n",
        "Miniconda is mininimal installer for conda (an open source environment and package manager). It includes conda, Python, the packages they depend on and a small number of other useful packages."
      ]
    },
    {
      "cell_type": "code",
      "execution_count": null,
      "metadata": {
        "vscode": {
          "languageId": "shellscript"
        },
        "id": "JcEmoIbi5fps"
      },
      "outputs": [],
      "source": [
        "\n",
        "wget -q https://repo.anaconda.com/miniconda/Miniconda3-latest-Linux-x86_64.sh -O /tmp/miniconda.sh\n",
        "sudo bash /tmp/miniconda.sh -b -p $HOME/miniconda\n",
        "sudo ~/miniconda/bin/conda init"
      ]
    },
    {
      "cell_type": "markdown",
      "metadata": {
        "id": "C62t5DTk5fps"
      },
      "source": [
        "After running the last command, you should see a similar message in your terminal. Now is time to close the current terminal and open a new one, in order for the changes to take place."
      ]
    },
    {
      "cell_type": "markdown",
      "metadata": {
        "id": "R9uL-jE_5fps"
      },
      "source": [
        "![alt text](images/Linux1.png \"Terminal output\")"
      ]
    },
    {
      "cell_type": "markdown",
      "metadata": {
        "id": "QRJuhBsk5fps"
      },
      "source": [
        "### 3. Installing Python"
      ]
    },
    {
      "cell_type": "code",
      "execution_count": null,
      "metadata": {
        "vscode": {
          "languageId": "shellscript"
        },
        "id": "7m_Bt-xg5fps"
      },
      "outputs": [],
      "source": [
        "sudo apt install python3-pip"
      ]
    },
    {
      "cell_type": "markdown",
      "metadata": {
        "id": "90txoTV-5fps"
      },
      "source": [
        "A message similar to the one before will pop up during Python installation. Make sure to press 'Y' when the 'Do you want to continue?' question comes up."
      ]
    },
    {
      "cell_type": "markdown",
      "metadata": {
        "id": "J3uE4qy75fps"
      },
      "source": [
        "![alt text](images/Linux2.png \"Terminal Python output\")"
      ]
    },
    {
      "cell_type": "markdown",
      "metadata": {
        "id": "FrfjOoQG5fps"
      },
      "source": [
        "### 4. Installing VS Code\n",
        "Visual Studio Code is a free source code editor that fully supports Python and has useful features such as support for debugging, syntax highlighthing, etc."
      ]
    },
    {
      "cell_type": "code",
      "execution_count": null,
      "metadata": {
        "vscode": {
          "languageId": "shellscript"
        },
        "id": "6W6yf_A15fpt"
      },
      "outputs": [],
      "source": [
        "sudo snap refresh\n",
        "sudo snap remove code\n",
        "sudo snap install code --classic"
      ]
    },
    {
      "cell_type": "markdown",
      "metadata": {
        "id": "3sE8XSrM5fpt"
      },
      "source": [
        "Now we should have successfully installed Visual Studio Code on your local machine. Let's open it up, just as show in the picture below"
      ]
    },
    {
      "cell_type": "markdown",
      "metadata": {
        "id": "6h6Zhxjt5fpt"
      },
      "source": [
        "![alt text](images/Linux3.png \"Open VSCode\")"
      ]
    },
    {
      "cell_type": "markdown",
      "metadata": {
        "id": "cTFxDPgv5fpt"
      },
      "source": [
        "### 4. Installing VS Code extensions"
      ]
    },
    {
      "cell_type": "markdown",
      "metadata": {
        "id": "qOSmvq9G5fpt"
      },
      "source": [
        "Finally, we are going to install some important VS Code extensions such as Python and Jupyter Notebook, an extension that provides an interactive way of running Python code. To install any extension we need to click on 'Extensions' as shown below"
      ]
    },
    {
      "cell_type": "markdown",
      "metadata": {
        "id": "1zxMFBFE5fpt"
      },
      "source": [
        "![alt text](images/Linux4.png \"Terminal Python output\")"
      ]
    },
    {
      "cell_type": "markdown",
      "metadata": {
        "id": "tK-DYrm45fpt"
      },
      "source": [
        "And from the menu, we will install Python and Jupyter."
      ]
    },
    {
      "cell_type": "markdown",
      "metadata": {
        "id": "AK--uyPO5fpt"
      },
      "source": [
        "![alt text](images/Linux5.png \"Terminal Python output\")"
      ]
    },
    {
      "cell_type": "markdown",
      "metadata": {
        "id": "In9xpvc65fpt"
      },
      "source": [
        "## Setting up (MacOS)\n",
        "You will set up everything you need to get started on your local MacOS machine. To execute the commands below you will need to open a terminal. On Mac, you can find this by simply typing terminal in your Spotlight Search."
      ]
    },
    {
      "cell_type": "markdown",
      "metadata": {
        "id": "nO_guwnq5fpt"
      },
      "source": [
        "### 1. Installing Homebrew\n",
        "Homebrew is a free and open-source software package management system that simplifies the installation of software on Apple's operating system, macOS."
      ]
    },
    {
      "cell_type": "code",
      "execution_count": null,
      "metadata": {
        "vscode": {
          "languageId": "shellscript"
        },
        "id": "ZDEbEWyA5fpt"
      },
      "outputs": [],
      "source": [
        "sudo /bin/bash -c \"$(curl -fsSL https://raw.githubusercontent.com/Homebrew/install/HEAD/install.sh)\""
      ]
    },
    {
      "cell_type": "markdown",
      "metadata": {
        "id": "MB27xbTk5fpt"
      },
      "source": [
        "When you are installing Homebrew, you will get the following message in your terminal:"
      ]
    },
    {
      "cell_type": "markdown",
      "metadata": {
        "id": "mp5KQizz5fpt"
      },
      "source": [
        "![alt text](images/Mac1.png \"Terminal Python output\")"
      ]
    },
    {
      "cell_type": "markdown",
      "metadata": {
        "id": "LBRGKdol5fpu"
      },
      "source": [
        "Make sure to press ENTER to continue the installation."
      ]
    },
    {
      "cell_type": "markdown",
      "metadata": {
        "id": "W4BtxSY65fpu"
      },
      "source": [
        "### 2. Installing miniconda\n",
        "Miniconda is mininimal installer for conda (an open source environment and package manager). It includes conda, Python, the packages they depend on and a small number of other useful packages."
      ]
    },
    {
      "cell_type": "code",
      "execution_count": null,
      "metadata": {
        "vscode": {
          "languageId": "shellscript"
        },
        "id": "_MyRl-sh5fpu"
      },
      "outputs": [],
      "source": [
        "\n",
        "curl -o /tmp/miniconda.sh https://repo.anaconda.com/miniconda/Miniconda3-latest-MacOSX-x86_64.sh\n",
        "sudo bash /tmp/miniconda.sh -b -p $HOME/miniconda\n",
        "sudo ~/miniconda/bin/conda init zsh"
      ]
    },
    {
      "cell_type": "markdown",
      "metadata": {
        "id": "dAfc-wu85fpu"
      },
      "source": [
        "Once installation is finished, you should see a message similar to the one below. Now is the time to close your terminal and open a new one, in order for the changes to take place."
      ]
    },
    {
      "cell_type": "markdown",
      "metadata": {
        "id": "eDj34Ehp5fpu"
      },
      "source": [
        "![alt text](images/Mac2.png \"Terminal Python output\")"
      ]
    },
    {
      "cell_type": "markdown",
      "metadata": {
        "id": "HXzal9CM5fpu"
      },
      "source": [
        "### 3. Installing Python\n",
        "Python is a high-level general-purpose programming language and is going to be language of choice for the programme."
      ]
    },
    {
      "cell_type": "code",
      "execution_count": null,
      "metadata": {
        "vscode": {
          "languageId": "shellscript"
        },
        "id": "DpOI_Q9N5fpu"
      },
      "outputs": [],
      "source": [
        "brew install python"
      ]
    },
    {
      "cell_type": "markdown",
      "metadata": {
        "id": "RdOX3qOW5fpu"
      },
      "source": [
        "### 4. Installing VS Code\n",
        "Visual Studio Code is a free source code editor that fully supports Python and has useful features such as support for debugging, syntax highlighthing, etc."
      ]
    },
    {
      "cell_type": "code",
      "execution_count": null,
      "metadata": {
        "vscode": {
          "languageId": "shellscript"
        },
        "id": "7oFCUy0W5fpu"
      },
      "outputs": [],
      "source": [
        "brew install --cask visual-studio-code"
      ]
    },
    {
      "cell_type": "markdown",
      "metadata": {
        "id": "aIHMBPVb5fpu"
      },
      "source": [
        "Once the installation is done, you should be able to find your VS Code in your Spotlight Search."
      ]
    },
    {
      "cell_type": "markdown",
      "metadata": {
        "id": "nL0Z8VnV5fpu"
      },
      "source": [
        "![alt text](images/Mac3.png \"Terminal Python output\")"
      ]
    },
    {
      "cell_type": "markdown",
      "metadata": {
        "id": "OlkKmfR95fpu"
      },
      "source": [
        "### 5. Installing VS Code extensions"
      ]
    },
    {
      "cell_type": "markdown",
      "metadata": {
        "id": "7hWHAjnC5fpu"
      },
      "source": [
        "Please follow the same instructions from step 4 Linux installation."
      ]
    },
    {
      "cell_type": "markdown",
      "metadata": {
        "id": "BWwWcN1B5fpu"
      },
      "source": [
        "## Setting up (Windows)\n",
        "You will set up everything you need to get started on your local Windows machine."
      ]
    },
    {
      "cell_type": "markdown",
      "metadata": {
        "id": "2fsU5iPU5fpx"
      },
      "source": [
        "### 1. Preparing to install your environment\n",
        "To execute the commands below you will need to open the PowerShell. Before running the commands below, you will need to run \"Set-ExecutionPolicy unrestricted -Scope LocalMachine\" in powershell with adminsitrator privileges. You should see the following output in your PowerShell:"
      ]
    },
    {
      "cell_type": "markdown",
      "metadata": {
        "id": "MfYwQ8jU5fpx"
      },
      "source": [
        "![alt text](images/WIndows1.png \"Terminal Python output\")"
      ]
    },
    {
      "cell_type": "markdown",
      "metadata": {
        "id": "yfPKzfjs5fpx"
      },
      "source": [
        "Make sure to type in 'y' and press Enter to continue, and then run the two following lines:"
      ]
    },
    {
      "cell_type": "code",
      "execution_count": null,
      "metadata": {
        "vscode": {
          "languageId": "shellscript"
        },
        "id": "D8VifwBo5fpx"
      },
      "outputs": [],
      "source": [
        "$UserProfile = $env:USERPROFILE\n",
        "New-Item -ErrorAction Ignore -ItemType Directory -Path C:\\temp"
      ]
    },
    {
      "cell_type": "markdown",
      "metadata": {
        "id": "ZubxN8pQ5fpx"
      },
      "source": [
        "### 2. Downloading & installing Git Bash\n",
        "Git Bash is an application that provides Git command line experience for Microsoft Windows environments."
      ]
    },
    {
      "cell_type": "code",
      "execution_count": null,
      "metadata": {
        "vscode": {
          "languageId": "shellscript"
        },
        "id": "hYUuU-Nr5fpx"
      },
      "outputs": [],
      "source": [
        "Invoke-RestMethod -Uri \"https://github.com/git-for-windows/git/releases/download/v2.37.0.windows.1/Git-2.37.0-64-bit.exe\" -OutFile \"C:\\temp\\Git-2.37.0-64-bit.exe\"\n",
        "Start-Process -FilePath C:\\temp\\Git-2.37.0-64-bit.exe -Wait -ArgumentList \"/NORESTART /VERYSILENT\""
      ]
    },
    {
      "cell_type": "markdown",
      "metadata": {
        "id": "zKhaa9hn5fpx"
      },
      "source": [
        "### 3. Downloading and installing miniconda3\n",
        "Miniconda is mininimal installer for conda (an open source environment and package manager). It includes conda, Python, the packages they depend on and a small number of other useful packages."
      ]
    },
    {
      "cell_type": "code",
      "execution_count": null,
      "metadata": {
        "vscode": {
          "languageId": "shellscript"
        },
        "id": "dRU0zsUD5fpx"
      },
      "outputs": [],
      "source": [
        "Invoke-RestMethod -Uri \"https://repo.anaconda.com/miniconda/Miniconda3-latest-Windows-x86_64.exe\" -OutFile  \"C:\\temp\\Miniconda3-latest-Windows-x86_64.exe\"\n",
        "Remove-Item -Recurse -ErrorAction Ignore \"$UserProfile\\Miniconda3\"\n",
        "Start-Process -FilePath C:\\temp\\Miniconda3-latest-Windows-x86_64.exe `\n",
        "-Wait -ArgumentList @(\"/S\", \"/InstallationType=AllUsers\", \"/RegisterPython=1\", \"/AddToPath=1\", \"/D=$UserProfile\\Miniconda3\")"
      ]
    },
    {
      "cell_type": "markdown",
      "metadata": {
        "id": "-8oZtdgY5fpx"
      },
      "source": [
        "### 4. Activating miniconda\n",
        "To activate Miniconda run the following commands:"
      ]
    },
    {
      "cell_type": "code",
      "execution_count": null,
      "metadata": {
        "vscode": {
          "languageId": "shellscript"
        },
        "id": "MJbu7WcO5fpy"
      },
      "outputs": [],
      "source": [
        "Start-Process -FilePath $UserProfile\\Miniconda3\\condabin\\activate.bat -Wait\n",
        "Start-Process -FilePath $UserProfile\\Miniconda3\\condabin\\conda.bat -Wait -ArgumentList @(\"init powershell\")\n",
        "Write-Output \". '$UserProfile\\Miniconda3\\etc\\profile.d\\conda.sh'\" | Out-File -Encoding Ascii -FilePath ~/.bashrc"
      ]
    },
    {
      "cell_type": "markdown",
      "metadata": {
        "id": "Qbbi83qg5fpy"
      },
      "source": [
        "You should now see 'base' appearing in your terminal, before you machine name, just as in the picture below:"
      ]
    },
    {
      "cell_type": "markdown",
      "metadata": {
        "id": "QQ9vNu_n5fpy"
      },
      "source": [
        "![alt text](images/WIndows2.png \"Terminal Python output\")"
      ]
    },
    {
      "cell_type": "markdown",
      "metadata": {
        "id": "TbFm2LEn5fpy"
      },
      "source": [
        "Now is the time to close your PoweShell and open a new one, in order for the changes to take place."
      ]
    },
    {
      "cell_type": "markdown",
      "metadata": {
        "id": "3s2eVbjo5fpy"
      },
      "source": [
        "### 5. Downloading and installing VS Code\n",
        "Visual Studio Code is a free source code editor that fully supports Python and has useful features such as support for debugging, syntax highlighthing, etc."
      ]
    },
    {
      "cell_type": "code",
      "execution_count": null,
      "metadata": {
        "vscode": {
          "languageId": "shellscript"
        },
        "id": "Pvw8KOBm5fpy"
      },
      "outputs": [],
      "source": [
        "Invoke-RestMethod -Uri \"https://code.visualstudio.com/sha/download?build=stable&os=win32-x64\" -OutFile \"C:\\temp\\VS_Code.exe\"\n",
        "Start-Process -FilePath C:\\temp\\VS_Code.exe -Wait -ArgumentList \"/NORESTART /VERYSILENT /MERGETASKS=!runcode\""
      ]
    },
    {
      "cell_type": "markdown",
      "metadata": {
        "id": "4HWfpf035fpy"
      },
      "source": [
        "Once the installation has finished, you should be able to find Visual Studio Code in your applications and open it."
      ]
    },
    {
      "cell_type": "markdown",
      "metadata": {
        "id": "khiS2ie_5fpy"
      },
      "source": [
        "### 6. Installing VS Code extensions"
      ]
    },
    {
      "cell_type": "markdown",
      "metadata": {
        "id": "A1vHEKxk5fpy"
      },
      "source": [
        "Please follow the same instructions from step 4 Linux installation."
      ]
    }
  ],
  "metadata": {
    "interpreter": {
      "hash": "09d8601da2aa4dd73cc7e9c40ea3f7292d3d22be5aed83dc35ceaff56697c175"
    },
    "kernelspec": {
      "display_name": "Python 3.9.7 ('base')",
      "language": "python",
      "name": "python3"
    },
    "language_info": {
      "name": "python",
      "version": "3.9.7"
    },
    "colab": {
      "provenance": [],
      "include_colab_link": true
    }
  },
  "nbformat": 4,
  "nbformat_minor": 0
}
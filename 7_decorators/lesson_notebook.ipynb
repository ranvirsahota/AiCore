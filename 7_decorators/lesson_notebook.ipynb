{
  "cells": [
    {
      "cell_type": "markdown",
      "metadata": {
        "colab_type": "text",
        "id": "view-in-github"
      },
      "source": [
        "<a href=\"https://colab.research.google.com/github/ranvirsahota/AiCore/blob/advanced-python/7-decorators.ipynb\" target=\"_parent\"><img src=\"https://colab.research.google.com/assets/colab-badge.svg\" alt=\"Open In Colab\"/></a>"
      ]
    },
    {
      "cell_type": "markdown",
      "metadata": {
        "id": "53b9BGgkJr5d"
      },
      "source": [
        "# Decorators\n"
      ]
    },
    {
      "cell_type": "markdown",
      "metadata": {
        "id": "ZM4G_reOJr5f"
      },
      "source": [
        "## Lesson Materials\n",
        "For this lesson, we will use a folder name `utils`. If you are in Colab and currently do not have this folder, run the following code to download the folder with the examples. Remember that you can access `.py` files in Colab and modify them."
      ]
    },
    {
      "cell_type": "code",
      "execution_count": null,
      "metadata": {
        "id": "X0Mh1uayJr5g"
      },
      "outputs": [],
      "source": [
        "!wget \"https://aicore-files.s3.amazonaws.com/Foundations/Python_Programming/advanced_py.zip\"\n",
        "import zipfile\n",
        "with zipfile.ZipFile(\"advanced_py.zip\", 'r') as zip_ref:\n",
        "    zip_ref.extractall(\"utils\")"
      ]
    },
    {
      "cell_type": "markdown",
      "metadata": {
        "id": "oyMTvF2gJr5g"
      },
      "source": [
        "## Introduction\n",
        "To understand decorators, a basic understanding of inner functions is required."
      ]
    },
    {
      "cell_type": "code",
      "execution_count": null,
      "metadata": {
        "id": "6AOCYpm9Jr5h",
        "outputId": "da92c00c-e0ae-43d5-9dc5-2b118fc450c7"
      },
      "outputs": [],
      "source": [
        "def caller(num):\n",
        "\n",
        "    def first_child():\n",
        "        print('I am being called')\n",
        "        return \"I am the first child\"\n",
        "\n",
        "    def second_child():\n",
        "        return \"I am the second child\"\n",
        "\n",
        "    if num == 1:\n",
        "        return first_child\n",
        "    else:\n",
        "        return second_child\n",
        "\n",
        "\n",
        "print(caller(1))"
      ]
    },
    {
      "cell_type": "markdown",
      "metadata": {
        "id": "Osz6sNdpJr5h"
      },
      "source": [
        "Observe the output of the above code. It returns a function rather than a string or a number. The flow of the code can be explained as follows:\n",
        "\n",
        "1. The caller function is called with 1 passed as the argument.\n",
        "2. Thereafter, within the function, two functions are defined: first_child and second_child. However, they are not called; thus, they are not executed.\n",
        "3. The execution of the caller function proceeds, and the if statement is triggered, which determines if the argument is 1.\n",
        "4. Finally, only the function is returned, not the result of the function."
      ]
    },
    {
      "cell_type": "markdown",
      "metadata": {
        "id": "ZGVz3g9qJr5h"
      },
      "source": [
        "> <font size=+1>Decorators extend the functionality of a function.</font>"
      ]
    },
    {
      "cell_type": "markdown",
      "metadata": {
        "id": "YJ8x29DRJr5i"
      },
      "source": [
        "Consider the code below. First, a function with a nested function is defined. Note that the name of the outer function is decided by the programmer. However, as a standard, the inner function is called `wrapper`.\n",
        "\n",
        "In this case, a function is defined that accepts another function as an argument. The inner function is defined but not called, following which the inner function is returned."
      ]
    },
    {
      "cell_type": "code",
      "execution_count": null,
      "metadata": {
        "id": "YnytEtXEJr5i"
      },
      "outputs": [],
      "source": [
        "def my_decorator(func):\n",
        "    def wrapper():\n",
        "        print(\"I come before the function!\")\n",
        "        func()\n",
        "        print(\"I come after the function!\")\n",
        "    return wrapper\n",
        "\n",
        "def say_truth():\n",
        "    print(f'Epstein didn\\'t kill himself')"
      ]
    },
    {
      "cell_type": "markdown",
      "metadata": {
        "id": "HJRgDy9dJr5i"
      },
      "source": [
        "Thus, if the outer function is called, the inner function is returned, but not its result."
      ]
    },
    {
      "cell_type": "code",
      "execution_count": null,
      "metadata": {
        "id": "bzWAlkfPJr5i",
        "outputId": "1dd650da-99e9-4ee3-9638-21a3fc1ffab1"
      },
      "outputs": [],
      "source": [
        "my_decorator(say_truth)"
      ]
    },
    {
      "cell_type": "markdown",
      "metadata": {
        "id": "Lpe1-YvpJr5i"
      },
      "source": [
        "The result, `<function __main__.my_decorator.<locals>.wrapper()>`, reveals that the output of the outer function is the inner function.\n",
        "\n",
        "To improve clarity, let us assign that function to a variable and subsequently call it."
      ]
    },
    {
      "cell_type": "code",
      "execution_count": null,
      "metadata": {
        "id": "XoXxNOUjJr5j",
        "outputId": "987bc745-4809-45af-bdcb-e5bb45648be1"
      },
      "outputs": [],
      "source": [
        "my_func = my_decorator(say_truth)\n",
        "my_func()"
      ]
    },
    {
      "cell_type": "markdown",
      "metadata": {
        "id": "btmK7B83Jr5j"
      },
      "source": [
        "The output of the inner function is printed above. Basically, `my_func` contains the information about `wrapper` and `say_truth`; therefore, once called, the interaction between `wrapper` and `say_truth` becomes clear."
      ]
    },
    {
      "cell_type": "markdown",
      "metadata": {
        "id": "WNBCJXDPJr5j"
      },
      "source": [
        "Consider the below example, where the same decorator is applied with another function."
      ]
    },
    {
      "cell_type": "code",
      "execution_count": null,
      "metadata": {
        "id": "4ZVx95V8Jr5j"
      },
      "outputs": [],
      "source": [
        "def wave():\n",
        "    print('Hello, world!')"
      ]
    },
    {
      "cell_type": "code",
      "execution_count": null,
      "metadata": {
        "id": "VSpZ6cO1Jr5j",
        "outputId": "5cf688a7-d2b1-493a-9ad5-708ab1b72ff7"
      },
      "outputs": [],
      "source": [
        "my_wave_func = my_decorator(wave)\n",
        "my_wave_func()"
      ]
    },
    {
      "cell_type": "markdown",
      "metadata": {
        "id": "Elyluc6vJr5j"
      },
      "source": [
        "Observe that `my_wave_func` contains information about `wrapper` and `wave`, indicating that we can obtain information on the interaction between `wrapper` and `wave`."
      ]
    },
    {
      "cell_type": "markdown",
      "metadata": {
        "id": "7bjMNgWvJr5j"
      },
      "source": [
        "## Decorators with Arguments"
      ]
    },
    {
      "cell_type": "markdown",
      "metadata": {
        "id": "VKo42WtqJr5j"
      },
      "source": [
        "\n",
        "Thus far, we have discussed decorators that accept no arguments. However, what happens when an argument is passed? Consider the example below, where a function with an argument is passed to the current decorator."
      ]
    },
    {
      "cell_type": "code",
      "execution_count": null,
      "metadata": {
        "id": "gxPWcydhJr5j"
      },
      "outputs": [],
      "source": [
        "def say_hello(name):\n",
        "    print(f'Hello, {name}!')"
      ]
    },
    {
      "cell_type": "code",
      "execution_count": null,
      "metadata": {
        "id": "_F3kFZNeJr5j"
      },
      "outputs": [],
      "source": [
        "my_hello_func = my_decorator(say_hello)"
      ]
    },
    {
      "cell_type": "markdown",
      "metadata": {
        "id": "ZQaDdLDRJr5k"
      },
      "source": [
        "Thus far, there are no errors. In the next step, we call the function."
      ]
    },
    {
      "cell_type": "code",
      "execution_count": null,
      "metadata": {
        "id": "s9EJEOW4Jr5k",
        "outputId": "9095023c-7fca-4397-a163-e33f1343306c"
      },
      "outputs": [],
      "source": [
        "my_hello_func()"
      ]
    },
    {
      "cell_type": "markdown",
      "metadata": {
        "id": "TyKflbATJr5k"
      },
      "source": [
        "As shown above, '`I come before the function`' is printed, followed by a type error. Recall that `func()` is the function passed to the decorator (in this case, `say_hello`) which, in turn, expects an argument. In other words, it appears as though the following code is present in `my_decorator`:\n",
        "\n",
        "``` python\n",
        "    def wrapper():\n",
        "        print(\"I come before the function!\")\n",
        "        say_hello()\n",
        "        print(\"I come after the function!\")\n",
        "```\n",
        "\n",
        "However, `say_hello` requires an argument, hence the error thrown."
      ]
    },
    {
      "cell_type": "markdown",
      "metadata": {
        "id": "-Q7oLm9GJr5k"
      },
      "source": [
        "Thus, the solution is to format the decorator to expect an argument from the caller, as follows:"
      ]
    },
    {
      "cell_type": "code",
      "execution_count": null,
      "metadata": {
        "id": "nw5BUP1BJr5k"
      },
      "outputs": [],
      "source": [
        "def my_decorator(func):\n",
        "    def wrapper():\n",
        "        print(\"I come before the function!\")\n",
        "        func(name)\n",
        "        print(\"I come after the function!\")\n",
        "    return wrapper\n",
        "\n",
        "my_hello_func = my_decorator(say_hello)"
      ]
    },
    {
      "cell_type": "markdown",
      "metadata": {
        "id": "NJG2Y2IgJr5k"
      },
      "source": [
        "Observe what happens when the code is run:"
      ]
    },
    {
      "cell_type": "code",
      "execution_count": null,
      "metadata": {
        "id": "MxQRKgJxJr5k",
        "outputId": "b31a1fb0-a02e-4a6d-c90c-01c5ae7a51b9"
      },
      "outputs": [],
      "source": [
        "my_hello_func()"
      ]
    },
    {
      "cell_type": "markdown",
      "metadata": {
        "id": "SzEuqMjoJr5k"
      },
      "source": [
        "Python throws a NameError. Notice that the function is in the local scope, where the variable, `name`, has not been defined. Thus, the `name` variable must be passed to wrapper."
      ]
    },
    {
      "cell_type": "code",
      "execution_count": null,
      "metadata": {
        "id": "EmetCBLIJr5k"
      },
      "outputs": [],
      "source": [
        "def my_decorator(func):\n",
        "    def wrapper(name):\n",
        "        print(\"I come before the function!\")\n",
        "        func(name)\n",
        "        print(\"I come after the function!\")\n",
        "    return wrapper\n",
        "\n",
        "my_hello_func = my_decorator(say_hello)"
      ]
    },
    {
      "cell_type": "code",
      "execution_count": null,
      "metadata": {
        "id": "lLpaPZeqJr5k",
        "outputId": "c94a3b1e-ad5d-4ea2-97f3-9c4383191668"
      },
      "outputs": [],
      "source": [
        "my_hello_func('Ivan')"
      ]
    },
    {
      "cell_type": "markdown",
      "metadata": {
        "id": "NlYj_B53Jr5k"
      },
      "source": [
        "After passing the name variable, the code works properly. Observe that in the last call, `Ivan` is passed as an argument. This is because `my_hello_func` is the `wrapper` with information on `say_hello`, and `wrapper` requires an argument."
      ]
    },
    {
      "cell_type": "markdown",
      "metadata": {
        "id": "iTstgbYrJr5l"
      },
      "source": [
        "Decorators enable us to pass arguments to the function. For example, a name can be passed to the function and subsequently employed to greet the user. As a better example, we can measure the time it takes for a function to execute, as shown below."
      ]
    },
    {
      "cell_type": "code",
      "execution_count": null,
      "metadata": {
        "id": "mWX_dabIJr5l",
        "outputId": "0bd02d29-cf93-4c90-c840-15a75e9ee459"
      },
      "outputs": [],
      "source": [
        "import time\n",
        "\n",
        "def my_timer(func):\n",
        "    def wrapper():\n",
        "        time_0 = time.time()\n",
        "        func()\n",
        "        time_1 = time.time()\n",
        "        print(f'It took {time_1 - time_0} second to run')\n",
        "    return wrapper\n",
        "\n",
        "\n",
        "def dummy_fun():\n",
        "    for _ in range(50000000):\n",
        "        x = 'I am just losing your time'\n",
        "    return x\n",
        "\n",
        "time_exec = my_timer(dummy_fun)\n",
        "print(time_exec)"
      ]
    },
    {
      "cell_type": "markdown",
      "metadata": {
        "id": "1-ORyjcwJr5l"
      },
      "source": [
        "Observe what happens when the function is called:"
      ]
    },
    {
      "cell_type": "code",
      "execution_count": null,
      "metadata": {
        "id": "9ZzF5D2LJr5l",
        "outputId": "28785beb-d3df-483a-b041-1a195face80d"
      },
      "outputs": [],
      "source": [
        "time_exec()"
      ]
    },
    {
      "cell_type": "markdown",
      "metadata": {
        "id": "3vVTFiDYJr5l"
      },
      "source": [
        "As 'syntactic sugar', it is possible to decorate a function by adding `@` when defining the function."
      ]
    },
    {
      "cell_type": "code",
      "execution_count": null,
      "metadata": {
        "id": "Ouy183TgJr5l",
        "outputId": "6fe7dae2-9848-423f-8d4a-9505ac80bcf7"
      },
      "outputs": [],
      "source": [
        "@my_timer\n",
        "def dummy_fun():\n",
        "    for _ in range(50000000):\n",
        "        x = 'I am just losing your time'\n",
        "\n",
        "dummy_fun()"
      ]
    },
    {
      "cell_type": "markdown",
      "metadata": {
        "id": "Ouasvc_jJr5n"
      },
      "source": [
        "## Multiple Arguments in a Decorator"
      ]
    },
    {
      "cell_type": "markdown",
      "metadata": {
        "id": "GO6wTGArJr5n"
      },
      "source": [
        "We have established that the functionality of a function can be extended using decorators. Since we have no control over the functions to be wrapped by the decorator, we can employ *args **kwargs to ensure that it applies to functions with multiple arguments."
      ]
    },
    {
      "cell_type": "code",
      "execution_count": null,
      "metadata": {
        "id": "a05GxS-mJr5o",
        "outputId": "fea8fe74-b595-4cef-9a0f-9872ef0d3e09"
      },
      "outputs": [],
      "source": [
        "def repeat(func):\n",
        "    def wrapper(*args, **kwargs):\n",
        "        func(*args, **kwargs)\n",
        "        func(*args, **kwargs)\n",
        "    return wrapper\n",
        "\n",
        "def say_hi(name):\n",
        "    print(f'Hello {name}')\n",
        "    return 1\n",
        "\n",
        "repeat(say_hi)('Ivan')"
      ]
    },
    {
      "cell_type": "markdown",
      "metadata": {
        "id": "qWeDH5OPJr5o"
      },
      "source": [
        "## `Return` Statement in the Wrapper\n",
        "\n",
        "Here, we discuss how to return information from a decorated function.\n",
        "\n",
        "We define a small function: factorial, which returns the factorial of a number (the factorial of a number is the product of all the numbers from 1 to that number)."
      ]
    },
    {
      "cell_type": "code",
      "execution_count": null,
      "metadata": {
        "id": "QNQgAY4mJr5o",
        "outputId": "8a0ea309-ec9e-4099-a845-6d9a56c4141c"
      },
      "outputs": [],
      "source": [
        "def factorial(n):\n",
        "    previous = 1\n",
        "    for i in range(1, n + 1):\n",
        "        previous *= i\n",
        "    return previous\n",
        "\n",
        "print(factorial(5))"
      ]
    },
    {
      "cell_type": "markdown",
      "metadata": {
        "id": "DOLOTFIxJr5o"
      },
      "source": [
        "Now, we define a timer decorator. However, in this case, the decorated function can accept any argument. To account for this, we employ `*args` and `**kwargs`."
      ]
    },
    {
      "cell_type": "code",
      "execution_count": null,
      "metadata": {
        "id": "Zl01uR4bJr5o",
        "outputId": "2889ba5b-17ad-4689-c6cb-2f698a50f599"
      },
      "outputs": [],
      "source": [
        "def my_timer(fun):\n",
        "    def wrapper(*args, **kwargs):\n",
        "        time_0 = time.time()\n",
        "        fun(*args, **kwargs)\n",
        "        time_1 = time.time()\n",
        "        print(f'It took {time_1 - time_0} second to run')\n",
        "    return wrapper\n",
        "\n",
        "\n",
        "@my_timer\n",
        "def factorial(n):\n",
        "    previous = 1\n",
        "    for i in range(1, n + 1):\n",
        "        previous *= i\n",
        "    return previous\n",
        "\n",
        "print(factorial(5))"
      ]
    },
    {
      "cell_type": "markdown",
      "metadata": {
        "id": "yYYJWMHyJr5o"
      },
      "source": [
        "Although the message detailing the execution duration was successfully printed, the value of the factorial was not printed. That is because wrapper does not return anything, hence the 'None' output. As a solution, we simply introduce a `return` statement."
      ]
    },
    {
      "cell_type": "code",
      "execution_count": null,
      "metadata": {
        "id": "F_s2hSjqJr5o",
        "outputId": "ee649c29-319b-42fa-b256-a137fd67a4a1"
      },
      "outputs": [],
      "source": [
        "def my_timer(fun):\n",
        "    def wrapper(*args, **kwargs):\n",
        "        time_0 = time.time()\n",
        "        output = fun(*args, **kwargs)\n",
        "        time_1 = time.time()\n",
        "        print(f'It took {time_1 - time_0} second to run')\n",
        "        return output\n",
        "    return wrapper\n",
        "\n",
        "\n",
        "@my_timer\n",
        "def factorial(n):\n",
        "    previous = 1\n",
        "    for i in range(1, n + 1):\n",
        "        previous *= i\n",
        "    return previous\n",
        "\n",
        "print(factorial(5))"
      ]
    },
    {
      "cell_type": "markdown",
      "metadata": {
        "id": "4UFbUvSRJr5o"
      },
      "source": [
        "## Classmethods and Staticmethods\n",
        "\n",
        "Two often-used decorators are classmethods and staticmethods. They add functionality to methods\n",
        "\n",
        "Classmethods must have a reference to a class object instead of an instance, whereas static methods do not point to an instance or a class. Note that classmethods are bound to the class; thus, they must be called from that class or from an instance of that class."
      ]
    },
    {
      "cell_type": "markdown",
      "metadata": {
        "id": "tVq877IqJr5o"
      },
      "source": [
        "Consider the example below, where the classmethod and staticmethod are applied. The class, `Date`, is defined, which is initialised with three parameters: day, month and year. It also has a method, `get_date`, that returns the date in a string format."
      ]
    },
    {
      "cell_type": "code",
      "execution_count": null,
      "metadata": {
        "id": "ntVjD14bJr5o",
        "outputId": "95d5c349-b0f7-4475-e05f-1e447fd8bce1"
      },
      "outputs": [],
      "source": [
        "class Date:\n",
        "\n",
        "    def __init__(self, day=0, month=0, year=0):\n",
        "        self.day = day\n",
        "        self.month = month\n",
        "        self.year = year\n",
        "\n",
        "    def get_date(self):\n",
        "        print(f'The date is {self.day}/{self.month}')\n",
        "\n",
        "date = Date(19, 5, 1991)\n",
        "date.get_date()"
      ]
    },
    {
      "cell_type": "markdown",
      "metadata": {
        "id": "S5CjsQOPJr5p"
      },
      "source": [
        "Subsequently, a classmethod is added to `Date`.\n",
        "\n",
        "> <font size=+1>Classmethods are used to create methods that do not depend on the instance but the class.</font>\n",
        "\n",
        "This indicates that a classmethod can be called without an instance of the class. Actually, a classmethod is called before the `__init__` method.\n",
        "\n",
        "As an application, classmethods can be used to create an instance of `Date` that directly provides the current date. This can be achieved by calling a classmethod that returns the current date, and no input is required.\n",
        "\n",
        "The syntax of a classmethod is\n",
        "```\n",
        "@classmethod\n",
        "def method_name(cls, *args, **kwargs):\n",
        "    # do something\n",
        "    return something\n",
        "```"
      ]
    },
    {
      "cell_type": "markdown",
      "metadata": {
        "id": "xDMb1QAUJr5p"
      },
      "source": [
        "Important! Notice that the first argument of the classmethod is the class itself, not an instance of the class. Therefore, '`cls`' is used instead of '`self`'."
      ]
    },
    {
      "cell_type": "code",
      "execution_count": null,
      "metadata": {
        "id": "5OB3V-ksJr5p"
      },
      "outputs": [],
      "source": [
        "import datetime\n",
        "\n",
        "class Date:\n",
        "\n",
        "    def __init__(self, day=0, month=0, year=0):\n",
        "        print('__init__ method called!')\n",
        "        self.day = day\n",
        "        self.month = month\n",
        "        self.year = year\n",
        "\n",
        "    def get_date(self):\n",
        "        print(f'The date is {self.day}/{self.month}')\n",
        "\n",
        "    @classmethod\n",
        "    def today(cls):\n",
        "        print('Classmethod called!')\n",
        "        today = datetime.date.today()\n",
        "        day = today.day\n",
        "        month = today.month\n",
        "        year = today.year\n",
        "        print('I am about to call the __init__ method')\n",
        "        return cls(day, month, year)"
      ]
    },
    {
      "cell_type": "markdown",
      "metadata": {
        "id": "pgGfU7T2Jr5p"
      },
      "source": [
        "Observe the code above (a few print statements have been added to enhance comprehension). A classmethod that returns the current date has been created. The method initially calculates the current date and subsequently calls the constructor of the class, `Date`, with the arguments we calculated."
      ]
    },
    {
      "cell_type": "markdown",
      "metadata": {
        "id": "QphmeVUbJr5p"
      },
      "source": [
        "We instansiate a class, `Date`, using its classmethod as follows (observe what is printed and compare the output while following the flow of the code):"
      ]
    },
    {
      "cell_type": "code",
      "execution_count": null,
      "metadata": {
        "id": "Q0LQD3qhJr5p",
        "outputId": "925ba477-fe65-4b68-9619-87ab735fd849"
      },
      "outputs": [],
      "source": [
        "current_date = Date.today()"
      ]
    },
    {
      "cell_type": "code",
      "execution_count": null,
      "metadata": {
        "id": "fhzG-hNnJr5p",
        "outputId": "f7e5d478-3b2e-4504-d822-3b7bdd91d1f1"
      },
      "outputs": [],
      "source": [
        "current_date.get_date()"
      ]
    },
    {
      "cell_type": "markdown",
      "metadata": {
        "id": "jI4krpA3Jr5p"
      },
      "source": [
        "### Staticmethods"
      ]
    },
    {
      "cell_type": "markdown",
      "metadata": {
        "id": "zY-DN_IRJr5p"
      },
      "source": [
        "> <font size=+1>Staticmethods are methods that are not bound to an instance or a class.</font>"
      ]
    },
    {
      "cell_type": "markdown",
      "metadata": {
        "id": "twrPDLBlJr5q"
      },
      "source": [
        "Thus, the '`self`' and '`cls`' arguments are not required because any data passed to the staticmethod will not depend on the instance or the class.\n",
        "\n",
        "Similar to classmethods, staticmethods can be defined as follows:\n",
        "```\n",
        "@staticmethod\n",
        "def method_name(*args, **kwargs):\n",
        "    # do something\n",
        "    return something\n",
        "```"
      ]
    },
    {
      "cell_type": "markdown",
      "metadata": {
        "id": "-rVeo5C5Jr5q"
      },
      "source": [
        "Here, we define a staticmethod that returns checks if the date is valid. Staticmethods are perfect for this task, since determining if a date is valid does not depend on the instance or the class."
      ]
    },
    {
      "cell_type": "code",
      "execution_count": null,
      "metadata": {
        "id": "lqE7zQ9kJr5q"
      },
      "outputs": [],
      "source": [
        "class Date:\n",
        "\n",
        "    def __init__(self, day=0, month=0, year=0):\n",
        "        self.day = day\n",
        "        self.month = month\n",
        "        self.year = year\n",
        "\n",
        "    def get_date(self):\n",
        "        print(self.day, self.month)\n",
        "\n",
        "    @classmethod\n",
        "    def today(cls):\n",
        "        today = datetime.date.today()\n",
        "        day = today.day\n",
        "        month = today.month\n",
        "        year = today.year\n",
        "        return cls(day, month, year)\n",
        "\n",
        "    @staticmethod\n",
        "    def is_date_valid(day, month, year):\n",
        "        return day <= 31 and month <= 12 and year <= 3999"
      ]
    },
    {
      "cell_type": "markdown",
      "metadata": {
        "id": "GQ0LxEROJr5q"
      },
      "source": [
        "Once again, staticmethods do not require the `self` or `cls` argument, indicating that they can be called from an instance or the class."
      ]
    },
    {
      "cell_type": "code",
      "execution_count": null,
      "metadata": {
        "id": "XR-FbIbQJr5q",
        "outputId": "a9ad146a-82e3-4043-9ee3-c42a7d9f2d5a"
      },
      "outputs": [],
      "source": [
        "Date.is_date_valid(1, 1, 1)"
      ]
    },
    {
      "cell_type": "code",
      "execution_count": null,
      "metadata": {
        "id": "eAQF_vBFJr5q",
        "outputId": "c5a67339-2018-448c-8d00-6535b3064c0a"
      },
      "outputs": [],
      "source": [
        "date = Date.today()\n",
        "date.is_date_valid(1, 1, 1)"
      ]
    },
    {
      "cell_type": "markdown",
      "metadata": {
        "id": "fqFSQOJcJr5q"
      },
      "source": [
        "As an added benefit, the staticmethod can be used inside the `__init__` method of the class `Date`; thus, when the arguments are passed to the constructor, the staticmethod can be utilised to determine the validity of the date."
      ]
    },
    {
      "cell_type": "code",
      "execution_count": null,
      "metadata": {
        "id": "aiBWheciJr5q"
      },
      "outputs": [],
      "source": [
        "class Date:\n",
        "\n",
        "    def __init__(self, day=0, month=0, year=0):\n",
        "        if self.is_date_valid(day, month, year):\n",
        "            self.day = day\n",
        "            self.month = month\n",
        "            self.year = year\n",
        "        else:\n",
        "            raise ValueError('Invalid date!')\n",
        "\n",
        "    def get_date(self):\n",
        "        print(self.day, self.month)\n",
        "\n",
        "    @classmethod\n",
        "    def today(cls):\n",
        "        today = datetime.date.today()\n",
        "        day = today.day\n",
        "        month = today.month\n",
        "        year = today.year\n",
        "        return cls(day, month, year)\n",
        "\n",
        "    @staticmethod\n",
        "    def is_date_valid(day, month, year):\n",
        "        return day <= 31 and month <= 12 and year <= 3999"
      ]
    },
    {
      "cell_type": "markdown",
      "metadata": {
        "id": "sg7XkY5MJr5q"
      },
      "source": [
        "If a valid date is passed, the instance will be created, without any error. Conversely, if an invalid date is passed, Python will throw an error (ValueError)."
      ]
    },
    {
      "cell_type": "code",
      "execution_count": null,
      "metadata": {
        "id": "69MuCJ7CJr5q"
      },
      "outputs": [],
      "source": [
        "good_date = Date(19, 5, 1991)\n",
        "# No error thrown, and the code works."
      ]
    },
    {
      "cell_type": "code",
      "execution_count": null,
      "metadata": {
        "id": "cC3qZooUJr5r",
        "outputId": "bf6e7e06-094e-47d3-ac14-535b16d9644d"
      },
      "outputs": [],
      "source": [
        "bad_date = Date(31, 13, 2021)"
      ]
    },
    {
      "cell_type": "markdown",
      "metadata": {
        "id": "Y_kO71xtJr5r"
      },
      "source": [
        "## Conclusion\n",
        "In this lesson, we reviewed decorators on the surface level. To improve your knowledge and understanding of decorators, engage in practicals and participate in as many challenges as possible. For examples, see [here](https://github.com/IvanYingX/Challenges_AiCore.git)"
      ]
    }
  ],
  "metadata": {
    "colab": {
      "include_colab_link": true,
      "provenance": []
    },
    "interpreter": {
      "hash": "beedbe2faf2f7048d727558d0bc3221e7eba2a0b921cac4d4771b2feb8f74b30"
    },
    "kernelspec": {
      "display_name": "Python 3.10.2 64-bit",
      "language": "python",
      "name": "python3"
    },
    "language_info": {
      "codemirror_mode": {
        "name": "ipython",
        "version": 3
      },
      "file_extension": ".py",
      "mimetype": "text/x-python",
      "name": "python",
      "nbconvert_exporter": "python",
      "pygments_lexer": "ipython3",
      "version": "3.10.12"
    }
  },
  "nbformat": 4,
  "nbformat_minor": 0
}

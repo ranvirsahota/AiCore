{
  "cells": [
    {
      "cell_type": "markdown",
      "metadata": {
        "id": "view-in-github",
        "colab_type": "text"
      },
      "source": [
        "<a href=\"https://colab.research.google.com/github/ranvirsahota/AiCore/blob/web-apis/03_getting_started_with_FastAPI/notebook_lesson.ipynb\" target=\"_parent\"><img src=\"https://colab.research.google.com/assets/colab-badge.svg\" alt=\"Open In Colab\"/></a>"
      ]
    },
    {
      "cell_type": "markdown",
      "metadata": {
        "id": "b1oIKWbSJNhz"
      },
      "source": [
        "# Getting Started with FastAPI"
      ]
    },
    {
      "cell_type": "markdown",
      "metadata": {
        "id": "uSz6qvi1JNh1"
      },
      "source": [
        "FastAPI is a modern, high-performance web framework for building APIs with Python. It is designed to be easy to use, highly efficient, and capable of handling high loads with incredible speed.\n",
        "\n",
        "## Motivation\n",
        "\n",
        "Let's take a look at some of the core advantages of learning how to use FastAPI brings to a developer:\n",
        "\n",
        "- **Lightning-Fast Performance**: FastAPI handles thousands of requests concurrently with astonishing speed, thanks to its asynchronous architecture. It guarantees exceptional performance and responsiveness under heavy loads.\n",
        "\n",
        "- **Developer-Friendly**: With modern Python features like type hints, FastAPI enables clean and maintainable code. It catches errors early and ensures robustness.\n",
        "\n",
        "- **Interactive Documentation**: FastAPI automatically generates interactive API documentation. Users can effortlessly explore and test your API endpoints.\n",
        "\n",
        "- **Security and Authentication**: FastAPI offers built-in support for secure authentication and authorization mechanisms, such as OAuth2 and JWT. Implementing authentication workflows and managing user access is seamless.\n",
        "\n",
        "- **Ecosystem and Integration**: FastAPI seamlessly integrates with the broader Python ecosystem, including popular libraries like `SQLAlchemy`. Leverage existing tools for smoother development and enhanced efficiency.\n",
        "\n",
        "\n",
        "## Uvicorn\n",
        "\n",
        "Uvicorn is a high-performance, production-ready web server that is frequently used with FastAPI. It is built on top of the asynchronous networking library, `uvloop`, and provides excellent performance and scalability for FastAPI applications. Uvicorn is known for its ability to handle thousands of simultaneous connections efficiently, making it an ideal choice for production environments where performance and reliability are crucial."
      ]
    },
    {
      "cell_type": "markdown",
      "metadata": {
        "id": "sA1nRDrmJNh2"
      },
      "source": [
        "## Installation\n",
        "\n",
        "Before diving into FastAPI development, let's walk through the installation process. FastAPI can be installed using the following command:\n",
        " ```\n",
        " pip install fastapi\n",
        " ```\n",
        "\n",
        " Uvicorn, the high-performance web server used with FastAPI, can be installed using:\n",
        "  ```\n",
        "  pip install uvicorn\n",
        "  ```\n",
        "\n"
      ]
    },
    {
      "cell_type": "markdown",
      "metadata": {
        "id": "rSWAJG9-JNh2"
      },
      "source": [
        "## Your First FastAPI App\n",
        "\n",
        "Building an API using FastAPI is incredibly straightforward. FastAPI utilizes decorators to mark functions as API endpoints within an application. This approach simplifies the process of defining and routing API requests.\n",
        "\n",
        ">Please note that the code blocks in this notebook will not run correctly on Google Colab, you will need to copy the code to your native machine and run them in VSCode instead.\n",
        "\n",
        "Let's beginning by importing he necessary FastAPI and Uvicorn modules at the beginning of the file:"
      ]
    },
    {
      "cell_type": "code",
      "execution_count": null,
      "metadata": {
        "id": "T-e6tCvnJNh3"
      },
      "outputs": [],
      "source": [
        "import fastapi\n",
        "import uvicorn"
      ]
    },
    {
      "cell_type": "markdown",
      "metadata": {
        "id": "o7iujEjAJNh3"
      },
      "source": [
        "\n",
        "As a reminder, the address structure of an API follows this pattern:\n",
        "\n",
        "```\n",
        "REQUEST = <ROOT_URL>/<Path>?<Query Parameters>\n",
        "```\n",
        "\n",
        "In this structure:\n",
        "- `<ROOT_URL>` represents the base URL of the API\n",
        "- `<Path>` refers to the specific path or endpoint within the API\n",
        "- `<Query Parameters>` are optional parameters passed in the URL query string, allowing for additional customization or filtering of the request\n",
        "\n",
        "Within `Query Parameters`, the parameters are separated by the ampersand symbol, `&`:\n",
        "\n",
        "<div style=\"text-align:center\"><img src=\"https://github.com/AI-Core/Content-Public/blob/main/Content/units/Cloud-and-DevOps/1.%20Building%20APIs/0.%20Getting%20Started%20with%20FastAPI/images/API_Structure.png?raw=1\" width=600/></div>\n",
        "\n",
        "\n",
        "\n"
      ]
    },
    {
      "cell_type": "markdown",
      "metadata": {
        "id": "lYt8NI4nJNh4"
      },
      "source": [
        "Now, let's create an instance of the `FastAPI` class, which will represent your FastAPI application:"
      ]
    },
    {
      "cell_type": "code",
      "execution_count": null,
      "metadata": {
        "id": "ERpKHbbqJNh4"
      },
      "outputs": [],
      "source": [
        "api = fastapi.FastAPI()"
      ]
    },
    {
      "cell_type": "markdown",
      "metadata": {
        "id": "Zmbqsn55JNh4"
      },
      "source": [
        "> In FastAPI, API endpoints are defined using route decorators. These decorators specify the URL path and associate it with a corresponding function that handles the request. FastAPI allows you to handle various HTTP methods, such as `GET`, `POST`, `PUT`, and `DELETE`, by defining corresponding functions with the appropriate decorators. The decorator name combines the name of your API instance with the name of the method, so in this case `api.method()`.\n",
        "\n",
        "Define your first API endpoint by creating a function decorated with `api.get()` or `api.post()` decorators. For example:"
      ]
    },
    {
      "cell_type": "code",
      "execution_count": null,
      "metadata": {
        "id": "bMkTt863JNh4"
      },
      "outputs": [],
      "source": [
        "@api.get('/test/calculate')\n",
        "def calculate():\n",
        "    return 2 + 2\n",
        "\n",
        "uvicorn.run(api, port=8000, host='127.0.0.1')"
      ]
    },
    {
      "cell_type": "markdown",
      "metadata": {
        "id": "D-FqYwx-JNh5"
      },
      "source": [
        "In this code the `@api.get` decorator defines the endpoint for `GET` requests. The URL path `test/calculate` is associated with the respective function `calculate()`.\n",
        "\n",
        "> This code should be run inside a `.py` file.\n",
        "\n",
        "In this code snippet:\n",
        "\n",
        "- The `@api.get`(`'/test/calculate'`) decorator marks the `calculate` function as an endpoint accessible at the `'/test/calculate'` path\n",
        "- Inside the `calculate` function, we perform a simple calculation and return the result\n",
        "- The `uvicorn.run(app, port=8000, host='127.0.0.1')` line starts the server using `uvicorn`, specifying the app instance, port number, and host address\n",
        "\n",
        "To test the API, you can open your browser and visit `http://localhost:8000/test/calculate`. You should see the result of the calculation, which in this case is `4`.\n",
        "\n",
        "<div style=\"text-align:center\"><img src=\"https://github.com/AI-Core/Content-Public/blob/main/Content/units/Cloud-and-DevOps/1.%20Building%20APIs/0.%20Getting%20Started%20with%20FastAPI/images/FastAPI_1.png?raw=1\" width=600/></div>\n"
      ]
    },
    {
      "cell_type": "markdown",
      "metadata": {
        "id": "dx1y-GrlJNh5"
      },
      "source": [
        "## Running Uvicorn from the Command Line\n",
        "\n",
        "You can also run a FastAPI python script using uvicorn, directly from the command line. The command is of the format:\n",
        "\n",
        "`uvicorn <script_name>:<api instance name>`\n",
        "\n",
        "So for example if you had a script called `basic_api.py` containing a `FastAP` instance called `api`, the command would be\n",
        "\n",
        "`uvicorn basic_api:api`\n",
        "\n",
        "<div style=\"text-align:center\"><img src=\"https://github.com/AI-Core/Content-Public/blob/main/Content/units/Cloud-and-DevOps/1.%20Building%20APIs/0.%20Getting%20Started%20with%20FastAPI/images/api_test.gif?raw=1\" width=800/></div>"
      ]
    },
    {
      "cell_type": "markdown",
      "metadata": {
        "id": "iCEYCRq_JNh5"
      },
      "source": [
        "You can also run queries using the `requests` library in a separate script in VSCode, rather than having to type the endpoint URL into a browser."
      ]
    },
    {
      "cell_type": "markdown",
      "metadata": {
        "id": "J3V4TZ5MJNh5"
      },
      "source": [
        "### Path Parameters and Query Parameters\n",
        "\n",
        "To enhance the functionality of the API, we can introduce query parameters by adding arguments to the decorated function.\n",
        "\n",
        "Query parameters are passed in the request's query string, following the `?` symbol, and are represented as key-value pairs separated by the `=` sign and separated by `&`. For instance, `my/path?firstparam=1&secondparam=3`.\n",
        "\n",
        "It's important to note that FastAPI expects the query parameter names to match the function argument names. This ensures that the values are correctly mapped to the corresponding function parameters."
      ]
    },
    {
      "cell_type": "code",
      "execution_count": null,
      "metadata": {
        "id": "wqk61uqnJNh5"
      },
      "outputs": [],
      "source": [
        "import fastapi\n",
        "import uvicorn\n",
        "api = fastapi.FastAPI()\n",
        "\n",
        "@api.get('/test/calculate')\n",
        "def calculate(x, y):\n",
        "    return x + y\n",
        "\n",
        "uvicorn.run(api, port=8000, host='127.0.0.1')"
      ]
    },
    {
      "cell_type": "markdown",
      "metadata": {
        "id": "NvI0y8MwJNh5"
      },
      "source": [
        "Upon visiting [127.0.0.1:8000/test/calculate](127.0.0.1:8000/test/calculate) once more, the API returns a response complaining about the lack of sufficient arguments:\n",
        "\n",
        "<div style=\"text-align:center\"><img src=\"https://github.com/AI-Core/Content-Public/blob/main/Content/units/Cloud-and-DevOps/1.%20Building%20APIs/0.%20Getting%20Started%20with%20FastAPI/images/FastAPI_2.png?raw=1\" width=800 /></div>"
      ]
    },
    {
      "cell_type": "markdown",
      "metadata": {
        "id": "SVr3RxcRJNh5"
      },
      "source": [
        "As mentioned earlier, the `x` and `y` parameters are required for the function to run. However, they can be assigned default values or passed as query parameters in the URL.\n",
        "\n",
        "<div style=\"text-align:center\"><img src=\"https://github.com/AI-Core/Content-Public/blob/main/Content/units/Cloud-and-DevOps/1.%20Building%20APIs/0.%20Getting%20Started%20with%20FastAPI/images/FastAPI_3.png?raw=1\" width=400/></div>"
      ]
    },
    {
      "cell_type": "markdown",
      "metadata": {
        "id": "KPayzaHGJNh5"
      },
      "source": [
        "As observed, the API currently returns `\"15\"` instead of the expected result of 6, which is the sum of 1 and 5. This discrepancy occurs because the query parameters are read as strings by default.\n",
        "\n",
        "> To address this issue, we can utilize type hinting to specify the desired parameter types and ensure proper data conversion. Type hinting in Python is a syntax for annotating the expected data types of function arguments and return values.\n",
        "\n",
        "You can specify the expected type of a parameter using the syntax `parameter: type`, e.g. `x: float`. By adding type hints for the input of our function, it allows FastAPI to correctly interpret the format of the parameters we supply in the query string."
      ]
    },
    {
      "cell_type": "code",
      "execution_count": null,
      "metadata": {
        "id": "tHF4m09YJNh5"
      },
      "outputs": [],
      "source": [
        "import fastapi\n",
        "import uvicorn\n",
        "api = fastapi.FastAPI()\n",
        "\n",
        "@api.get('/test/calculate')\n",
        "def calculate(x: int, y: int): # integer type hints define the default type of the arguments.\n",
        "    return x + y\n",
        "\n",
        "uvicorn.run(api, port=8000, host='127.0.0.1')"
      ]
    },
    {
      "cell_type": "markdown",
      "metadata": {
        "id": "SgAYwH7VJNh6"
      },
      "source": [
        "Moving forward, let's enhance the API by incorporating response characteristics. Instead of performing addition, we will modify the functionality to divide `x` by `y`:"
      ]
    },
    {
      "cell_type": "code",
      "execution_count": null,
      "metadata": {
        "id": "Yz0VZuG4JNh6"
      },
      "outputs": [],
      "source": [
        "import fastapi\n",
        "import uvicorn\n",
        "api = fastapi.FastAPI()\n",
        "\n",
        "@api.get('/test/calculate')\n",
        "def calculate(x: int, y: int):\n",
        "    return x / y\n",
        "\n",
        "uvicorn.run(api, port=8000, host='127.0.0.1')"
      ]
    },
    {
      "cell_type": "markdown",
      "metadata": {
        "id": "klyFpbjHJNh6"
      },
      "source": [
        "When dividing by zero in the code provided, Python will throw a `ZeroDivisionError`, which results in a `500 Internal Server Error` response.\n",
        "\n",
        "<div style=\"text-align:center\"><img src=\"https://github.com/AI-Core/Content-Public/blob/main/Content/units/Cloud-and-DevOps/1.%20Building%20APIs/0.%20Getting%20Started%20with%20FastAPI/images/FastAPI_4.png?raw=1\" width=500 /></div>"
      ]
    },
    {
      "cell_type": "markdown",
      "metadata": {
        "id": "nSMSmpUjJNh6"
      },
      "source": [
        "To enhance the error response and provide more detailed information, we can utilize the `Response` class from the `FastAPI` library and return a `400 Bad Request` error along with a custom message. Here's an updated version of the code:"
      ]
    },
    {
      "cell_type": "code",
      "execution_count": null,
      "metadata": {
        "id": "rBevfnXQJNh6"
      },
      "outputs": [],
      "source": [
        "import fastapi\n",
        "import uvicorn\n",
        "api = fastapi.FastAPI()\n",
        "\n",
        "@api.get('/test/calculate')\n",
        "def calculate(x: int, y: int):\n",
        "    if y == 0:\n",
        "        return fastapi.Response(content='y cannot be zero', status_code=400)\n",
        "    return x / y\n",
        "\n",
        "uvicorn.run(api, port=8000, host='127.0.0.1')"
      ]
    },
    {
      "cell_type": "markdown",
      "metadata": {
        "id": "o1bzGMfVJNh6"
      },
      "source": [
        "To ensure that the error message is returned in JSON format, we can update the code to explicitly specify the response content type as JSON. Here's an updated version of the code:"
      ]
    },
    {
      "cell_type": "code",
      "execution_count": null,
      "metadata": {
        "id": "qr__cg7aJNh6"
      },
      "outputs": [],
      "source": [
        "import fastapi\n",
        "import uvicorn\n",
        "import json\n",
        "api = fastapi.FastAPI()\n",
        "\n",
        "@api.get('/test/calculate')\n",
        "def calculate(x: int, y: int):\n",
        "    if y == 0:\n",
        "        return fastapi.Response(content=json.dumps({\"error\" : \"y cannot be zero\"}),\n",
        "                                media_type='application/json',\n",
        "                                status_code=400)\n",
        "    return x / y\n",
        "\n",
        "uvicorn.run(api, port=8000, host='127.0.0.1')"
      ]
    },
    {
      "cell_type": "markdown",
      "metadata": {
        "id": "86ANHzKDJNh6"
      },
      "source": [
        "Thus, the response will contain a header, indicating that it is in JSON format.\n",
        "\n",
        "<div style=\"text-align:center\"><img src=\"https://github.com/AI-Core/Content-Public/blob/main/Content/units/Cloud-and-DevOps/1.%20Building%20APIs/0.%20Getting%20Started%20with%20FastAPI/images/FastAPI_5.png?raw=1\" width=500 ></div>"
      ]
    },
    {
      "cell_type": "markdown",
      "metadata": {
        "id": "zYXYFGMOJNh6"
      },
      "source": [
        "### `POST` Requests\n",
        "\n",
        "Creating `POST` method integrations with FastAPI is straightforward. You can use the `.post()` decorator to define a `POST` endpoint. Here's an example:"
      ]
    },
    {
      "cell_type": "code",
      "execution_count": null,
      "metadata": {
        "id": "1MpdeImhJNh6"
      },
      "outputs": [],
      "source": [
        "import fastapi\n",
        "import uvicorn\n",
        "import json\n",
        "api = fastapi.FastAPI()\n",
        "\n",
        "@api.post('/send/process_data')\n",
        "def process_data(x: int, y: int):\n",
        "\n",
        "    if y == 0:\n",
        "        return fastapi.Response(content=json.dumps({\"error\" : \"y cannot be zero\"}),\n",
        "                                media_type='application/json',\n",
        "                                status_code=400)\n",
        "    return x / y\n",
        "\n",
        "uvicorn.run(api, port=8000, host='127.0.0.1')"
      ]
    },
    {
      "cell_type": "markdown",
      "metadata": {
        "id": "j1kiq4cFJNh6"
      },
      "source": [
        "`POST` requests do not necessarily require a response. However, a `body` key should always be returned in the response. For example, if the request inserts some data into a database entry, this `body` key typically returns the resulting database entry."
      ]
    },
    {
      "cell_type": "markdown",
      "metadata": {
        "id": "DZ8iQWYnJNh7"
      },
      "source": [
        "## Implementing Authentication Mechanisms\n",
        "\n",
        "FastAPI provides built-in support for implementing authentication mechanisms in your API endpoints. You can secure your endpoints by verifying the identity of the requesting client. FastAPI supports various authentication methods, including OAuth2 and JSON Web Tokens (JWT).\n",
        "\n",
        "### Securing API Endpoints using OAuth2 and JWT\n",
        "\n",
        "OAuth2 is a widely adopted authorization framework that allows users to grant limited access to their resources on a web service without sharing their credentials. FastAPI simplifies the implementation of OAuth2 authentication.\n",
        "\n",
        "To secure your API endpoints using OAuth2, you can use the `OAuth2PasswordBearer` class from FastAPI, which handles the validation and extraction of OAuth2 access tokens. Here's an example:"
      ]
    },
    {
      "cell_type": "code",
      "execution_count": null,
      "metadata": {
        "id": "SwX5r4DwJNh7"
      },
      "outputs": [],
      "source": [
        "from fastapi import FastAPI, Depends, HTTPException\n",
        "from fastapi.security import OAuth2PasswordBearer\n",
        "\n",
        "api = FastAPI()\n",
        "oauth2_scheme = OAuth2PasswordBearer(tokenUrl=\"/token\")\n",
        "\n",
        "@api.get(\"/items\")\n",
        "def get_items(token: str = Depends(oauth2_scheme)):\n",
        "    # Validate the access token and handle authorized request\n",
        "    ...\n",
        "\n",
        "@api.post(\"/token\")\n",
        "def login(username: str, password: str):\n",
        "    # Validate the username and password, generate and return the access token\n",
        "    ...\n"
      ]
    },
    {
      "cell_type": "markdown",
      "metadata": {
        "id": "dDqs1riUJNh7"
      },
      "source": [
        "In this code, the `get_items()` endpoint is secured using OAuth2 authentication. The token parameter is obtained using the `Depends` function from FastAPI, which handles the extraction and validation of the access token. If the access token is missing or invalid, FastAPI will automatically return a `401 Unauthorized response`.\n",
        "\n",
        "The `login()` endpoint is responsible for validating the username and password and generating the access token. This endpoint should authenticate the user and return the access token that will be used for subsequent authorized requests."
      ]
    },
    {
      "cell_type": "markdown",
      "metadata": {
        "id": "FuKVp_DLJNh7"
      },
      "source": [
        "## Key Takeaways\n",
        "\n",
        "- FastAPI is a high-performance web framework for building APIs in Python. It leverages Python's async and await syntax, providing exceptional speed and scalability.\n",
        "- FastAPI offers several benefits, including fast performance, developer-friendly features like type hints and automatic data validation, interactive documentation generation, and seamless integration with the Python ecosystem\n",
        "- FastAPI follows a decorator-based approach for defining API endpoints. You can use the `@app.method()` decorators to create routes for different HTTP methods (`GET`, `POST`, `PUT`, `DELETE`).\n",
        "- Path parameters and query parameters allow you to pass data to your API endpoints. FastAPI automatically validates and handles these parameters based on the specified data types.\n",
        "- Authentication and authorization can be implemented in FastAPI using mechanisms like OAuth2 and JSON Web Tokens (JWT). FastAPI offers built-in support for handling these authentication methods and securing your API endpoints."
      ]
    }
  ],
  "metadata": {
    "kernelspec": {
      "display_name": "base",
      "language": "python",
      "name": "python3"
    },
    "language_info": {
      "codemirror_mode": {
        "name": "ipython",
        "version": 3
      },
      "file_extension": ".py",
      "mimetype": "text/x-python",
      "name": "python",
      "nbconvert_exporter": "python",
      "pygments_lexer": "ipython3",
      "version": "3.11.3"
    },
    "vscode": {
      "interpreter": {
        "hash": "a2592652612463181e69ac003232387e3e9a99279aa6b168e76f5df16d5110f4"
      }
    },
    "colab": {
      "provenance": [],
      "include_colab_link": true
    }
  },
  "nbformat": 4,
  "nbformat_minor": 0
}
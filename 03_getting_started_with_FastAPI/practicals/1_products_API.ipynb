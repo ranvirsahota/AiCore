{
  "cells": [
    {
      "cell_type": "markdown",
      "metadata": {
        "id": "view-in-github",
        "colab_type": "text"
      },
      "source": [
        "<a href=\"https://colab.research.google.com/github/ranvirsahota/AiCore/blob/web-apis/03_getting_started_with_FastAPI/practicals/1_products_API.ipynb\" target=\"_parent\"><img src=\"https://colab.research.google.com/assets/colab-badge.svg\" alt=\"Open In Colab\"/></a>"
      ]
    },
    {
      "cell_type": "markdown",
      "metadata": {
        "id": "3jYR8QUWKDMc"
      },
      "source": [
        "# Products API"
      ]
    },
    {
      "cell_type": "markdown",
      "metadata": {
        "id": "2XS6xdPNKDMe"
      },
      "source": [
        "> You can follow the guide to the practical in this notebook, but given the nature of working with APIs you will need to complete the work inside VSCode."
      ]
    },
    {
      "cell_type": "markdown",
      "metadata": {
        "id": "CiWIjwx_KDMe"
      },
      "source": [
        "You are tasked with creating a simple API for an online store, which allows them to query their products database. The products data is stored in the following dictionary:"
      ]
    },
    {
      "cell_type": "code",
      "execution_count": null,
      "metadata": {
        "id": "rLG9IFSFKDMe"
      },
      "outputs": [],
      "source": [
        "products = {\n",
        "    1: {    'name': 't-shirt',   'price': 19.99,    'category': 'clothes'},\n",
        "    2: {    'name': 'stickers',  'price': 1.99,     'category': 'accessories'},\n",
        "    3: {    'name': 'mug',       'price': 9.99,     'category': 'kitchenware'},\n",
        "    4: {    'name': 'hoodie',    'price': 29.99,    'category': 'clothes'},\n",
        "    5: {    'name': 'cap',       'price': 14.99,    'category': 'accessories'}\n",
        "}\n"
      ]
    },
    {
      "cell_type": "markdown",
      "metadata": {
        "id": "87UJd1VGKDMf"
      },
      "source": [
        "1. Create a script called `products_api.py`. Import `fastapi` and create a `FastAPI` instance."
      ]
    },
    {
      "cell_type": "markdown",
      "metadata": {
        "id": "cZQgQNi9KDMg"
      },
      "source": [
        "2. Create an API `GET` request endpoint with the url `'/products/all'`. It should return the entire products dictionary when a get request is sent to it."
      ]
    },
    {
      "cell_type": "markdown",
      "metadata": {
        "id": "SrPHdA3yKDMg"
      },
      "source": [
        "3. Create a file called `api_test.py` and add the following code:"
      ]
    },
    {
      "cell_type": "code",
      "execution_count": null,
      "metadata": {
        "id": "9rpLfvc7KDMg"
      },
      "outputs": [],
      "source": [
        "import requests\n",
        "\n",
        "response = requests.get(\"http://127.0.0.1:8000/products/all/\")\n",
        "print(response.json())\n"
      ]
    },
    {
      "cell_type": "markdown",
      "metadata": {
        "id": "5X7ZCVgEKDMg"
      },
      "source": [
        "Run your API from the command line using `uvicorn`, and run your `api_test.py` file. You should see the following output:\n",
        "\n",
        "`{'1': {'name': 't-shirt', 'price': 19.99, 'category': 'clothes'}, '2': {'name': 'stickers', 'price': 1.99, 'category': 'accessories'}, '3': {'name': 'mug', 'price': 9.99, 'category': 'kitchenware'}, '4': {'name': 'hoodie', 'price': 29.99, 'category': 'clothes'}, '5': {'name': 'cap', 'price': 14.99, 'category': 'accessories'}}`"
      ]
    },
    {
      "cell_type": "markdown",
      "metadata": {
        "id": "th569d6BKDMg"
      },
      "source": [
        "4. Now create a request endpoint for getting a single product by id, using the endpoint format: `/products/{product_id}` . Test your endpoint using the following request:"
      ]
    },
    {
      "cell_type": "code",
      "execution_count": null,
      "metadata": {
        "id": "sCTjydccKDMh"
      },
      "outputs": [],
      "source": [
        "response = requests.get(\"http://127.0.0.1:8000/products/5\")\n",
        "print(response.json())\n"
      ]
    },
    {
      "cell_type": "markdown",
      "metadata": {
        "id": "fq7RaII1KDMh"
      },
      "source": [
        "The `response.json()` should have the following output:\n",
        "\n",
        "`{'name': 'cap', 'price': 14.99, 'category': 'accessories'}`"
      ]
    },
    {
      "cell_type": "markdown",
      "metadata": {
        "id": "flUQj_-aKDMh"
      },
      "source": [
        "5. Finally, create a request endpoint to return a dictionary of all products in a given category, using the endpoint format `/products/by_category/{category}` .\n",
        "\n",
        "Test your endpoint using the following request:\n"
      ]
    },
    {
      "cell_type": "code",
      "execution_count": null,
      "metadata": {
        "id": "oG1Z4nPKKDMh"
      },
      "outputs": [],
      "source": [
        "response = requests.get(\"http://127.0.0.1:8000/products/by_category/clothes\")\n",
        "print(response.json())\n"
      ]
    },
    {
      "cell_type": "markdown",
      "metadata": {
        "id": "wSMGs6U2KDMh"
      },
      "source": [
        "The `response.json()` should have the following output:\n",
        "\n",
        "`{'1': {'name': 't-shirt', 'price': 19.99, 'category': 'clothes'}, '4': {'name': 'hoodie', 'price': 29.99, 'category': 'clothes'}}`\n",
        "\n",
        "Note that you will need to write some code to loop through the entries in the products dictionary and return only those with the correct category!"
      ]
    }
  ],
  "metadata": {
    "language_info": {
      "name": "python"
    },
    "colab": {
      "provenance": [],
      "include_colab_link": true
    }
  },
  "nbformat": 4,
  "nbformat_minor": 0
}
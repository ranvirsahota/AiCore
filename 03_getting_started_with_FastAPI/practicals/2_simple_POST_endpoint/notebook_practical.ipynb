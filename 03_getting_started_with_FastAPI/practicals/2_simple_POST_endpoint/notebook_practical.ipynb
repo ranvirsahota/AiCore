{
  "cells": [
    {
      "cell_type": "markdown",
      "metadata": {
        "id": "view-in-github",
        "colab_type": "text"
      },
      "source": [
        "<a href=\"https://colab.research.google.com/github/ranvirsahota/AiCore/blob/web-apis/03_getting_started_with_FastAPI/practicals/2_simple_POST_endpoint.ipynb\" target=\"_parent\"><img src=\"https://colab.research.google.com/assets/colab-badge.svg\" alt=\"Open In Colab\"/></a>"
      ]
    },
    {
      "cell_type": "markdown",
      "metadata": {
        "id": "rQHH5a8NbEzD"
      },
      "source": [
        "# Simple POST Endpoint"
      ]
    },
    {
      "cell_type": "markdown",
      "metadata": {
        "id": "HzqOzioFbEzF"
      },
      "source": [
        "1. Create a file called `add_product_api.py`\n",
        "\n",
        "2. import `fastapi` and create an instance of `FastAPI`\n",
        "\n",
        "3. Initialise an empty list called `products`\n",
        "\n",
        "4. Create an `POST` endpoint with the url `/products/add` that expects a query parameter `product`, adds that value to the `products` list, and then prints the current `products` list.\n",
        "\n",
        "5. Test your code by running the API in the command line with `uvicorn`, and running the following test code in a separate Python file:"
      ]
    },
    {
      "cell_type": "code",
      "execution_count": null,
      "metadata": {
        "id": "idA4ddNgbEzG"
      },
      "outputs": [],
      "source": [
        "import requests\n",
        "response = requests.post(\"http://127.0.0.1:8000/products/add?product=socks\")\n"
      ]
    }
  ],
  "metadata": {
    "language_info": {
      "name": "python"
    },
    "colab": {
      "provenance": [],
      "include_colab_link": true
    }
  },
  "nbformat": 4,
  "nbformat_minor": 0
}
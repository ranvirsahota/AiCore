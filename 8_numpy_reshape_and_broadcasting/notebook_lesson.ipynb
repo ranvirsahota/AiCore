{
  "cells": [
    {
      "cell_type": "markdown",
      "metadata": {
        "id": "view-in-github",
        "colab_type": "text"
      },
      "source": [
        "<a href=\"https://colab.research.google.com/github/ranvirsahota/AiCore/blob/pandas/8_numpy_reshape_and_broadcasting/notebook_lesson.ipynb\" target=\"_parent\"><img src=\"https://colab.research.google.com/assets/colab-badge.svg\" alt=\"Open In Colab\"/></a>"
      ]
    },
    {
      "cell_type": "markdown",
      "id": "6ef92330",
      "metadata": {
        "id": "6ef92330"
      },
      "source": [
        "## Reshape and view\n",
        "\n",
        "> __`.reshape(x, y, z)` will change the way we access our array__\n",
        "\n",
        "It is important to note that:\n",
        "- reshape __USUALLY DOES NOT COPY UNDERLYING DATA__ (it is merely changing `strides` and the way we access it)\n",
        "- __COPY OF `np.ndarray`s IS USUALLY NOT DONE__ (unless necessary)\n",
        "- It almost never creates any problem for us (as long as we're working with `numpy` reasonably)\n",
        "\n",
        "First option (without copy) is called __`view`__, while the other one is called __`copy`__.\n",
        "\n",
        "![](https://github.com/AI-Core/Content-Public/blob/main/Content/units/Data-Handling/1.%20Numpy/2.%20Numpy%20-%20Reshape%20and%20Broadcasting/images/numpy_copy_view.png?raw=1)\n",
        "\n",
        "What does \"working reasonably\" mean?\n",
        "- __After reshaping DON'T CHANGE ELEMENTS IN EITHER OF THE VIEWS__\n",
        "- Use them in \"functional\" manner returning new objects (e.g. addition after reshape)\n",
        "- See examples below"
      ]
    },
    {
      "cell_type": "code",
      "execution_count": 12,
      "id": "210e6b5d",
      "metadata": {
        "id": "210e6b5d",
        "outputId": "595bf0f7-4c46-4c72-d963-e7245d77532b",
        "colab": {
          "base_uri": "https://localhost:8080/"
        }
      },
      "outputs": [
        {
          "output_type": "stream",
          "name": "stdout",
          "text": [
            "(18,) (8,)\n",
            "(3, 2, 3) (48, 24, 8)\n",
            "Sharing underlying memory: True\n"
          ]
        }
      ],
      "source": [
        "# elements 0-18 reshaped into\n",
        "import numpy as np\n",
        "\n",
        "arr = np.arange(18)\n",
        "\n",
        "print(arr.shape, arr.strides)\n",
        "\n",
        "reshaped = arr.reshape(3, 2, -1)\n",
        "\n",
        "print(reshaped.shape, reshaped.strides)\n",
        "\n",
        "print(f\"Sharing underlying memory: {np.may_share_memory(arr, reshaped)}\")"
      ]
    },
    {
      "cell_type": "code",
      "execution_count": 14,
      "id": "654e772b",
      "metadata": {
        "id": "654e772b",
        "outputId": "02654c49-afff-4ad8-c3c4-4c8a769e0f03",
        "colab": {
          "base_uri": "https://localhost:8080/"
        }
      },
      "outputs": [
        {
          "output_type": "stream",
          "name": "stdout",
          "text": [
            "[    0     1     2     3     4     5     6 99999     8     9    10    11\n",
            "    12    13    14    15    16    17]\n",
            "[[[    0     1     2]\n",
            "  [    3     4     5]]\n",
            "\n",
            " [[    6 99999     8]\n",
            "  [    9    10    11]]\n",
            "\n",
            " [[   12    13    14]\n",
            "  [   15    16    17]]]\n"
          ]
        }
      ],
      "source": [
        "# Will change both arrays\n",
        "arr[7] = 99999.\n",
        "\n",
        "print(arr)\n",
        "print(reshaped)"
      ]
    },
    {
      "cell_type": "code",
      "execution_count": 15,
      "id": "713cd360",
      "metadata": {
        "scrolled": true,
        "id": "713cd360",
        "outputId": "49d27389-0881-4d10-9b5d-2159fb4a95a3",
        "colab": {
          "base_uri": "https://localhost:8080/"
        }
      },
      "outputs": [
        {
          "output_type": "execute_result",
          "data": {
            "text/plain": [
              "array([[ 1.09695311, -0.57103464, -0.37362709, ...,  0.18364325,\n",
              "         0.2739754 , -0.23963659],\n",
              "       [-0.43891596,  0.52566686,  0.04451527, ...,  0.02906756,\n",
              "         0.15693211, -0.01929025],\n",
              "       [ 0.03280199,  0.49542968,  0.11077619, ..., -0.07418581,\n",
              "        -0.05601378,  0.28917859],\n",
              "       ...,\n",
              "       [-1.09293388, -0.40692231,  0.4142739 , ...,  0.45215304,\n",
              "         1.04179811, -0.1182217 ],\n",
              "       [-0.84412205,  0.5119517 ,  0.03951486, ..., -0.01404378,\n",
              "         0.48855078,  0.06924123],\n",
              "       [-0.45700664,  0.96316058,  0.06289761, ..., -0.14675977,\n",
              "        -0.16111533, -0.43377249]])"
            ]
          },
          "metadata": {},
          "execution_count": 15
        }
      ],
      "source": [
        "# Correct usage, will not change underlying memory\n",
        "# View will be used to multiply values within X1\n",
        "\n",
        "X1 = np.random.randn(128, 10)\n",
        "\n",
        "X2 = np.random.rand(1280)\n",
        "\n",
        "X1 * X2.reshape(X1.shape)"
      ]
    },
    {
      "cell_type": "markdown",
      "id": "a6421e44",
      "metadata": {
        "id": "a6421e44"
      },
      "source": [
        "## -1 in reshape\n",
        "\n",
        "> `-1` is used in order to __infer__ missing dimensionality\n",
        "\n",
        "It is pretty useful when:\n",
        "- __we don't know some dimension beforehand__\n",
        "- __we write function that has to work independently of some dimension__\n",
        "\n",
        "Let's see a dummy example:"
      ]
    },
    {
      "cell_type": "code",
      "execution_count": 17,
      "id": "fab3bda1",
      "metadata": {
        "id": "fab3bda1",
        "outputId": "e8908ef3-87fa-49d9-92a1-367c925554aa",
        "colab": {
          "base_uri": "https://localhost:8080/"
        }
      },
      "outputs": [
        {
          "output_type": "execute_result",
          "data": {
            "text/plain": [
              "(24, 10)"
            ]
          },
          "metadata": {},
          "execution_count": 17
        }
      ],
      "source": [
        "np.random.randn(5, 6, 8).reshape(-1, 10).shape"
      ]
    },
    {
      "cell_type": "code",
      "execution_count": 18,
      "id": "323e68e9",
      "metadata": {
        "id": "323e68e9",
        "outputId": "464be247-c5c2-4fdb-9420-2b6b8a37bd16",
        "colab": {
          "base_uri": "https://localhost:8080/"
        }
      },
      "outputs": [
        {
          "output_type": "stream",
          "name": "stdout",
          "text": [
            "(24, 10)\n"
          ]
        },
        {
          "output_type": "execute_result",
          "data": {
            "text/plain": [
              "(12, 10)"
            ]
          },
          "metadata": {},
          "execution_count": 18
        }
      ],
      "source": [
        "def make_second_dimension_10(array):\n",
        "    assert array.size % 10 == 0, \"Number of array elements has to be dividable by 10\"\n",
        "    return array.reshape(-1, 10)\n",
        "\n",
        "\n",
        "print(make_second_dimension_10(np.random.randn(5, 6, 8)).shape)\n",
        "make_second_dimension_10(np.random.randn(120)).shape"
      ]
    },
    {
      "cell_type": "markdown",
      "id": "69920bb8",
      "metadata": {
        "id": "69920bb8"
      },
      "source": [
        "# Broadcasting\n",
        "\n",
        "After explaining `fancy indexing` and `reshape`, let's take a look at a third, powerful feature of `numpy`:\n",
        "\n",
        "> __Broadcasting means automatic expansion of smaller array to a larger one__\n",
        "\n",
        "![](https://github.com/AI-Core/Content-Public/blob/main/Content/units/Data-Handling/1.%20Numpy/2.%20Numpy%20-%20Reshape%20and%20Broadcasting/images/numpy_broadcasting.png?raw=1)\n",
        "\n",
        "Looking at the picture above:\n",
        "- __Arrays have to be expandable__, e.g.:\n",
        "    - `(3, 10)` and `(3,)`, second one will be expanded to `(3, 1)`\n",
        "    - `(3, 10)` and `(10,)` __WILL NOT WORK__ as the first dimension does not match\n",
        "    - We have to reshape above to `(1, 10)`, so the `(1,)` dimension will be expanded to `(3,)`\n",
        "- __Dimensions have to match__ (exampele above)\n",
        "\n",
        "Let's see a few examples:"
      ]
    },
    {
      "cell_type": "code",
      "execution_count": 19,
      "id": "7c0731f0",
      "metadata": {
        "id": "7c0731f0",
        "outputId": "e2ac44da-adb0-42ab-9635-acedfcf7a541",
        "colab": {
          "base_uri": "https://localhost:8080/"
        }
      },
      "outputs": [
        {
          "output_type": "execute_result",
          "data": {
            "text/plain": [
              "(3, 2)"
            ]
          },
          "metadata": {},
          "execution_count": 19
        }
      ],
      "source": [
        "import numpy as np\n",
        "(np.array([[1], [2], [3]]) * np.array([[1, 2]])).shape"
      ]
    },
    {
      "cell_type": "code",
      "execution_count": 20,
      "id": "0857f92f",
      "metadata": {
        "id": "0857f92f",
        "outputId": "2c7ce383-8e21-4a20-db55-5fb371237a9c",
        "colab": {
          "base_uri": "https://localhost:8080/"
        }
      },
      "outputs": [
        {
          "output_type": "execute_result",
          "data": {
            "text/plain": [
              "(10, 5, 3)"
            ]
          },
          "metadata": {},
          "execution_count": 20
        }
      ],
      "source": [
        "# Broadcasting for both arrays\n",
        "\n",
        "arr1 = np.random.randn(10, 3)\n",
        "arr2 = np.random.randn(10, 5)\n",
        "\n",
        "result = arr1.reshape(-1, 1, 3) * arr2.reshape(10, -1, 1)\n",
        "result.shape"
      ]
    },
    {
      "cell_type": "code",
      "execution_count": 21,
      "id": "5abedc31",
      "metadata": {
        "id": "5abedc31",
        "outputId": "d826a345-866e-45a2-a290-7d77b99f23e3",
        "colab": {
          "base_uri": "https://localhost:8080/",
          "height": 211
        }
      },
      "outputs": [
        {
          "output_type": "error",
          "ename": "ValueError",
          "evalue": "ignored",
          "traceback": [
            "\u001b[0;31m---------------------------------------------------------------------------\u001b[0m",
            "\u001b[0;31mValueError\u001b[0m                                Traceback (most recent call last)",
            "\u001b[0;32m<ipython-input-21-d636365468c2>\u001b[0m in \u001b[0;36m<cell line: 5>\u001b[0;34m()\u001b[0m\n\u001b[1;32m      3\u001b[0m \u001b[0mb\u001b[0m \u001b[0;34m=\u001b[0m \u001b[0mnp\u001b[0m\u001b[0;34m.\u001b[0m\u001b[0mrandom\u001b[0m\u001b[0;34m.\u001b[0m\u001b[0mrandn\u001b[0m\u001b[0;34m(\u001b[0m\u001b[0;36m3\u001b[0m\u001b[0;34m)\u001b[0m\u001b[0;34m\u001b[0m\u001b[0;34m\u001b[0m\u001b[0m\n\u001b[1;32m      4\u001b[0m \u001b[0;34m\u001b[0m\u001b[0m\n\u001b[0;32m----> 5\u001b[0;31m \u001b[0ma\u001b[0m \u001b[0;34m+\u001b[0m \u001b[0mb\u001b[0m\u001b[0;34m\u001b[0m\u001b[0;34m\u001b[0m\u001b[0m\n\u001b[0m",
            "\u001b[0;31mValueError\u001b[0m: operands could not be broadcast together with shapes (1,10) (3,) "
          ]
        }
      ],
      "source": [
        "# Will not work\n",
        "a = np.random.randn(1, 10)\n",
        "b = np.random.randn(3)\n",
        "\n",
        "a + b"
      ]
    },
    {
      "cell_type": "code",
      "execution_count": 22,
      "id": "91cffc99",
      "metadata": {
        "id": "91cffc99",
        "outputId": "d1a5a1f9-0698-430c-f9c8-7caec2ba8a79",
        "colab": {
          "base_uri": "https://localhost:8080/"
        }
      },
      "outputs": [
        {
          "output_type": "execute_result",
          "data": {
            "text/plain": [
              "array([[ 0,  0,  0],\n",
              "       [ 8, 10, 12],\n",
              "       [ 0,  0,  0]])"
            ]
          },
          "metadata": {},
          "execution_count": 22
        }
      ],
      "source": [
        "x = np.array([[1, 2, 3], [4, 5, 6], [7, 8, 9]])\n",
        "y = np.array([0, 2, 0]).reshape(3, 1)\n",
        "\n",
        "x * y"
      ]
    },
    {
      "cell_type": "code",
      "execution_count": 23,
      "id": "8649aa96",
      "metadata": {
        "id": "8649aa96",
        "outputId": "28e9a48b-3fa7-4337-b768-1cf19731b044",
        "colab": {
          "base_uri": "https://localhost:8080/"
        }
      },
      "outputs": [
        {
          "output_type": "execute_result",
          "data": {
            "text/plain": [
              "array([[ 0.9851471 , -0.0893894 , -0.38150211],\n",
              "       [ 2.21758504,  1.35615692, -0.99540993],\n",
              "       [ 1.09978655,  1.20897105, -1.70510513]])"
            ]
          },
          "metadata": {},
          "execution_count": 23
        }
      ],
      "source": [
        "a = np.random.randn(3, 3)\n",
        "b = np.random.randn(3)\n",
        "\n",
        "a - b"
      ]
    },
    {
      "cell_type": "markdown",
      "id": "72614677",
      "metadata": {
        "id": "72614677"
      },
      "source": [
        "# Working with shapes\n",
        "\n",
        "`numpy` is a framework which allows us to work with `N` dimensional arrays.\n",
        "\n",
        "Due to that, we should try to __think in terms of shapes__, not in terms of specific elements.\n",
        "\n",
        "Throughout the course you will often see (also today) that we will define many tasks in terms of __dimensions__ and __what each dimension represents__.\n",
        "\n",
        "\n",
        "An example could be data of shape `(users, movies)` which specifies:\n",
        "- Ratings given for a movie\n",
        "- For every user\n",
        "- For every movie\n",
        "\n",
        "Visually (assume `?` are equal to zero):\n",
        "\n",
        "![](https://github.com/AI-Core/Content-Public/blob/main/Content/units/Data-Handling/1.%20Numpy/2.%20Numpy%20-%20Reshape%20and%20Broadcasting/images/numpy_example_matrix.png?raw=1)\n",
        "\n",
        "Let's create such data and see operations one can do on it:"
      ]
    },
    {
      "cell_type": "code",
      "execution_count": 24,
      "id": "b6d068f4",
      "metadata": {
        "id": "b6d068f4",
        "outputId": "1f970a31-11ff-47d3-92be-64d47ea3327d",
        "colab": {
          "base_uri": "https://localhost:8080/"
        }
      },
      "outputs": [
        {
          "output_type": "execute_result",
          "data": {
            "text/plain": [
              "array([[ 6,  0, 10,  1,  1,  1,  9, 10,  6,  3],\n",
              "       [ 5,  6,  8,  7,  3,  4,  6,  8,  1,  8],\n",
              "       [10,  5,  4,  4,  1,  4,  9,  6, 10,  1],\n",
              "       [ 5,  2, 10,  6,  5,  6,  7,  1,  8,  1],\n",
              "       [ 9, 10,  7, 10,  0,  8,  5,  5,  8,  9],\n",
              "       [ 8,  9,  2,  0,  4,  5,  9,  1,  2,  6],\n",
              "       [ 9,  3,  8,  8,  9,  3,  8, 10,  6,  9],\n",
              "       [ 1,  2,  4,  3,  3,  2, 10,  6,  4,  5],\n",
              "       [ 2,  3,  1,  3,  7,  9, 10,  2, 10,  1],\n",
              "       [ 7,  3,  8,  0,  8,  8,  0, 10,  9,  0],\n",
              "       [ 5,  2, 10,  6,  5,  2,  1,  7,  4,  0],\n",
              "       [ 8,  9,  2, 10,  1,  6,  0,  3,  3,  1],\n",
              "       [ 0,  8,  2,  9,  3,  2,  8,  9,  4,  8],\n",
              "       [10,  8,  8,  1,  7,  0,  5,  2,  5,  0],\n",
              "       [ 7,  4, 10,  3,  1,  2,  5, 10,  4, 10],\n",
              "       [ 4,  1,  8,  7,  7,  5,  9,  9,  5,  1],\n",
              "       [ 5,  3,  6,  8,  7,  9,  0,  5,  6,  8],\n",
              "       [ 8,  6,  9,  1,  6,  7,  0,  0,  2,  5],\n",
              "       [ 6,  3,  2,  3,  0,  5,  1,  0,  1,  0],\n",
              "       [ 0,  5,  5,  8,  5,  3,  0,  1,  7,  0],\n",
              "       [ 2,  9,  0,  5,  9,  4,  1,  4,  0,  0],\n",
              "       [ 9,  0,  6,  9,  1,  2,  1,  2,  0,  9],\n",
              "       [ 5,  0,  2,  6,  9, 10,  5,  2,  2, 10],\n",
              "       [ 6,  5,  4,  8,  0,  2,  6,  3,  5,  5]])"
            ]
          },
          "metadata": {},
          "execution_count": 24
        }
      ],
      "source": [
        "import numpy as np\n",
        "\n",
        "users = 24\n",
        "movies = 10\n",
        "\n",
        "data = np.random.randint(0, 11, size=(users, movies)) # 11 as it's one more than maximum 10 score\n",
        "\n",
        "data"
      ]
    },
    {
      "cell_type": "markdown",
      "id": "99c54e3b",
      "metadata": {
        "id": "99c54e3b"
      },
      "source": [
        "__Please notice__:\n",
        "- If we just look at the numbers alone, they do not convey too much information\n",
        "- If, instead, we think about what the dimensions represent, we can more easily reason about various operations\n",
        "\n",
        "> __Most of `numpy` math (and not only math) operations allow us to specify `axis` argument__\n",
        "\n",
        "> __`axis` allows us to carry operation across specific dimension__\n",
        "\n",
        "__TIPS:__\n",
        "\n",
        "- __WRITE DATA SHAPES AS YOU APPLY SPATIAL TRANSFORMATIONS IN CODE COMMENT__\n",
        "- __DIMENSION ACROSS WHICH WE CARRY THE OPERATION IS OFTEN REMOVED__\n",
        "\n",
        "\n",
        "\n",
        "Let's see how one could __find average rating for each user__:"
      ]
    },
    {
      "cell_type": "code",
      "execution_count": 25,
      "id": "ddf2884e",
      "metadata": {
        "id": "ddf2884e",
        "outputId": "3407ccd5-8df6-449b-949e-6cb92518ba52",
        "colab": {
          "base_uri": "https://localhost:8080/"
        }
      },
      "outputs": [
        {
          "output_type": "execute_result",
          "data": {
            "text/plain": [
              "array([4.7, 5.6, 5.4, 5.1, 7.1, 4.6, 7.3, 4. , 4.8, 5.3, 4.2, 4.3, 5.3,\n",
              "       4.6, 5.6, 5.6, 5.7, 4.4, 2.1, 3.4, 3.4, 3.9, 5.1, 4.4])"
            ]
          },
          "metadata": {},
          "execution_count": 25
        }
      ],
      "source": [
        "# data: (users, movies)\n",
        "\n",
        "# total_ratings: (users,)\n",
        "total_ratings = data.sum(axis=1) # sum all of the columns\n",
        "\n",
        "# mean_ratings: (users,)\n",
        "mean_ratings = total_ratings / data.shape[1] # divide by total number of available movies\n",
        "\n",
        "mean_ratings"
      ]
    },
    {
      "cell_type": "markdown",
      "id": "367d8a59",
      "metadata": {
        "id": "367d8a59"
      },
      "source": [
        "Average rating for a movie (__almost the same as previously, just changing dimensions!__):"
      ]
    },
    {
      "cell_type": "code",
      "execution_count": 26,
      "id": "55673b98",
      "metadata": {
        "id": "55673b98",
        "outputId": "c32761d1-c048-4336-8a25-562027ac92d2",
        "colab": {
          "base_uri": "https://localhost:8080/"
        }
      },
      "outputs": [
        {
          "output_type": "execute_result",
          "data": {
            "text/plain": [
              "array([5.70833333, 4.41666667, 5.66666667, 5.25      , 4.25      ,\n",
              "       4.54166667, 4.79166667, 4.83333333, 4.66666667, 4.16666667])"
            ]
          },
          "metadata": {},
          "execution_count": 26
        }
      ],
      "source": [
        "# data: (users, movies)\n",
        "\n",
        "# total_ratings: (movies,)\n",
        "total_ratings = data.sum(axis=0) # sum all of the rows\n",
        "\n",
        "# mean_ratings: (movies,)\n",
        "mean_ratings = total_ratings / data.shape[0] # divide by total number of users which gave the movie rating\n",
        "\n",
        "mean_ratings"
      ]
    },
    {
      "cell_type": "markdown",
      "id": "4f0dbb60",
      "metadata": {
        "id": "4f0dbb60"
      },
      "source": [
        "Highest rating gave for any movie by specific user:"
      ]
    },
    {
      "cell_type": "code",
      "execution_count": 27,
      "id": "9437bdb1",
      "metadata": {
        "id": "9437bdb1",
        "outputId": "a582eb9c-187f-4ccc-98ce-ed1a24159f98",
        "colab": {
          "base_uri": "https://localhost:8080/"
        }
      },
      "outputs": [
        {
          "output_type": "execute_result",
          "data": {
            "text/plain": [
              "array([10,  8, 10, 10, 10,  9, 10, 10, 10, 10, 10, 10,  9, 10, 10,  9,  9,\n",
              "        9,  6,  8,  9,  9, 10,  8])"
            ]
          },
          "metadata": {},
          "execution_count": 27
        }
      ],
      "source": [
        "data.max(axis=1)"
      ]
    },
    {
      "cell_type": "markdown",
      "id": "d6665e6d",
      "metadata": {
        "id": "d6665e6d"
      },
      "source": [
        "Which movie (__movie index__) got the lowest score for each user:"
      ]
    },
    {
      "cell_type": "code",
      "execution_count": 28,
      "id": "7c3c7182",
      "metadata": {
        "scrolled": true,
        "id": "7c3c7182",
        "outputId": "42130c97-d77b-4567-e71e-262be9aa9a24",
        "colab": {
          "base_uri": "https://localhost:8080/"
        }
      },
      "outputs": [
        {
          "output_type": "execute_result",
          "data": {
            "text/plain": [
              "array([1, 8, 4, 7, 4, 3, 1, 0, 2, 3, 9, 6, 0, 5, 4, 1, 6, 6, 4, 0, 2, 1,\n",
              "       1, 4])"
            ]
          },
          "metadata": {},
          "execution_count": 28
        }
      ],
      "source": [
        "data.argmin(axis=1)"
      ]
    },
    {
      "cell_type": "markdown",
      "id": "3f11df30",
      "metadata": {
        "id": "3f11df30"
      },
      "source": [
        "And which one was scored the lowest amongst all users:"
      ]
    },
    {
      "cell_type": "code",
      "execution_count": 29,
      "id": "2c4cdaf8",
      "metadata": {
        "id": "2c4cdaf8",
        "outputId": "1dac9c87-720c-428e-a531-22ecf20d317f",
        "colab": {
          "base_uri": "https://localhost:8080/"
        }
      },
      "outputs": [
        {
          "output_type": "execute_result",
          "data": {
            "text/plain": [
              "1"
            ]
          },
          "metadata": {},
          "execution_count": 29
        }
      ],
      "source": [
        "# Movie which got the lowest score per-user\n",
        "\n",
        "lowest = data.argmin(axis=1) # (users, )\n",
        "\n",
        "# Calculate how often each lowest value occured\n",
        "# minlength specifies number of entries (10 in our case as there are 10 movies)\n",
        "\n",
        "counts = np.bincount(lowest, minlength=data.shape[1]) # (movies,)\n",
        "\n",
        "# Get movies which got lowest rated most frequently:\n",
        "\n",
        "np.argmax(counts) # (1, )"
      ]
    },
    {
      "cell_type": "markdown",
      "id": "1f39bbc6",
      "metadata": {
        "id": "1f39bbc6"
      },
      "source": [
        "# Key Takeaways\n",
        "\n",
        "- The `reshape` feature changes the way we access arrays, and does not copy underlying data. It simply changes `strides` and the way we access it\n",
        "- The `view` option can be used to reshape data, and it does not copy the data itself\n",
        "- The `copy` option can be used when we want to physically copy the data\n",
        "- Adding `-1` to the reshape command helps to infer any missing dimensionality. It's especially useful when we don't know some dimension beforehand\n",
        "- Broadcasting is a Numpy feature which automatically expands smaller arrays into larger ones\n",
        "- It's suggested to think of data stores in arrays as shapes, rather than specific elements\n"
      ]
    },
    {
      "cell_type": "markdown",
      "source": [
        "# More Resources\n",
        "- Numpy : https://youtu.be/Lfd776JSicY?feature=shared&t=2027\n",
        " - Broadcasting: Start at **33:47** and finish at **54:02**\n",
        " - Resahpe: start at **1:17:11** and finish at **1:18:49**\n",
        " - Aggregation: start at **53:02** and fiish at **1:01:10**"
      ],
      "metadata": {
        "id": "W4pwT-2tbCq3"
      },
      "id": "W4pwT-2tbCq3"
    }
  ],
  "metadata": {
    "interpreter": {
      "hash": "ad8bebc098a042dc0df4e42fc2ecc8fff0bd7b8741641ce29007c29766dadbe0"
    },
    "kernelspec": {
      "display_name": "Python 3.9.1 64-bit ('base': conda)",
      "name": "python3"
    },
    "language_info": {
      "codemirror_mode": {
        "name": "ipython",
        "version": 3
      },
      "file_extension": ".py",
      "mimetype": "text/x-python",
      "name": "python",
      "nbconvert_exporter": "python",
      "pygments_lexer": "ipython3",
      "version": "3.9.5"
    },
    "colab": {
      "provenance": [],
      "include_colab_link": true
    }
  },
  "nbformat": 4,
  "nbformat_minor": 5
}
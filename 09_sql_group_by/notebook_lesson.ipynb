{
  "cells": [
    {
      "cell_type": "code",
      "execution_count": 8,
      "metadata": {},
      "outputs": [],
      "source": [
        "import sys\n",
        "sys.path.append('/home/ranvir/AiCore')\n",
        "from database_connection import DatabaseConnection\n",
        "db = DatabaseConnection()"
      ]
    },
    {
      "cell_type": "markdown",
      "metadata": {
        "id": "9K30tHsSsXlQ"
      },
      "source": [
        "# <img src=\"https://github.com/AI-Core/Content-Public/blob/main/Content/units/Data-Handling/3.%20SQL/12.%20SQL%20GROUP%20BY/images/SQLIcon.png?modified=2223&raw=1\" width=80px height=80px style=\"vertical-align: middle;\"> SQL `GROUP BY`\n",
        "\n",
        "Sometimes instead of aggregating a whole data column, it can be useful to aggregate a **subset** of that data. `GROUP BY` allows you to group records with the same value into one group/set of data, which makes it an indispensable tool to analyse data. Imagine you wanted to check which of your customers were the best and had rented the most movies from you. We could `SUM` the number of rows which exist for that customer but it would take a long time.\n",
        "\n",
        "We can instead use `GROUP BY` to group the table into different groups of data based on their value. Aggregations are normally applied to the remaining columns to aggregate the columns within each group.\n",
        "\n",
        "The syntax for `GROUP BY` is:"
      ]
    },
    {
      "cell_type": "code",
      "execution_count": null,
      "metadata": {
        "id": "prkwknDbsXlR",
        "vscode": {
          "languageId": "sql"
        }
      },
      "outputs": [],
      "source": [
        "SELECT {column}, {aggregation1, aggregation2 ...}\n",
        "FROM {table}\n",
        "GROUP BY {column}"
      ]
    },
    {
      "cell_type": "markdown",
      "metadata": {
        "id": "tZ9WQ13MsXlS"
      },
      "source": [
        "Let's look at the example of grouping customers together in the `rental` table and counting the amount of movies they have rented. We could do this with the following query, returning the top five customers in descending order:"
      ]
    },
    {
      "cell_type": "code",
      "execution_count": 9,
      "metadata": {
        "id": "VpgV3ZeGsXlS"
      },
      "outputs": [
        {
          "data": {
            "text/html": [
              "<div>\n",
              "<style scoped>\n",
              "    .dataframe tbody tr th:only-of-type {\n",
              "        vertical-align: middle;\n",
              "    }\n",
              "\n",
              "    .dataframe tbody tr th {\n",
              "        vertical-align: top;\n",
              "    }\n",
              "\n",
              "    .dataframe thead th {\n",
              "        text-align: right;\n",
              "    }\n",
              "</style>\n",
              "<table border=\"1\" class=\"dataframe\">\n",
              "  <thead>\n",
              "    <tr style=\"text-align: right;\">\n",
              "      <th></th>\n",
              "      <th>customer_id</th>\n",
              "      <th>total_number_of_rentals</th>\n",
              "    </tr>\n",
              "  </thead>\n",
              "  <tbody>\n",
              "    <tr>\n",
              "      <th>0</th>\n",
              "      <td>148</td>\n",
              "      <td>46</td>\n",
              "    </tr>\n",
              "    <tr>\n",
              "      <th>1</th>\n",
              "      <td>526</td>\n",
              "      <td>45</td>\n",
              "    </tr>\n",
              "    <tr>\n",
              "      <th>2</th>\n",
              "      <td>236</td>\n",
              "      <td>42</td>\n",
              "    </tr>\n",
              "    <tr>\n",
              "      <th>3</th>\n",
              "      <td>144</td>\n",
              "      <td>42</td>\n",
              "    </tr>\n",
              "    <tr>\n",
              "      <th>4</th>\n",
              "      <td>75</td>\n",
              "      <td>41</td>\n",
              "    </tr>\n",
              "  </tbody>\n",
              "</table>\n",
              "</div>"
            ],
            "text/plain": [
              "   customer_id  total_number_of_rentals\n",
              "0          148                       46\n",
              "1          526                       45\n",
              "2          236                       42\n",
              "3          144                       42\n",
              "4           75                       41"
            ]
          },
          "execution_count": 9,
          "metadata": {},
          "output_type": "execute_result"
        }
      ],
      "source": [
        "db.execute_query('''\n",
        "                    SELECT customer_id,\n",
        "                           COUNT(rental_date) AS total_number_of_rentals\n",
        "                    FROM\n",
        "                        rental\n",
        "                    GROUP BY\n",
        "                        customer_id\n",
        "                    ORDER BY\n",
        "                        total_number_of_rentals DESC\n",
        "                    LIMIT\n",
        "                        5;\n",
        "                ''')"
      ]
    },
    {
      "cell_type": "markdown",
      "metadata": {
        "id": "saTxv3xBsXlS"
      },
      "source": [
        "We are using the `GROUP BY` to group the records by `customer_id` so wherever the `customer_id`'s are the same, they will be grouped together in the same row. We've also selected another column as an aggregation `COUNT(rental_date) AS total_number_of_rentals` so that within each group the number of rentals are counted for each customer.\n",
        "\n",
        "The results are then ordered by `total_number_of_rentals` in descending order, such that users with the highest amount of rentals are shown first. Finally the records are then limited to the top five users with the `LIMIT 5` statement.\n",
        "\n",
        ">In the following and preceding images the coloured row overlay was added to the images as an aid to display the grouping SQL is performing.\n",
        "\n",
        "<img src='https://github.com/AI-Core/Content-Public/blob/main/Content/units/Data-Handling/3.%20SQL/12.%20SQL%20GROUP%20BY/images/groupby_sql.png?modified=3423324&raw=1' >"
      ]
    },
    {
      "cell_type": "markdown",
      "metadata": {
        "id": "kOfpFRpOsXlS"
      },
      "source": [
        "From the image above, we can observe that our query is grouping all the green columns together with the `GROUP BY customer_id` statement and then counting all values in the `rental_date` with `COUNT(rental_date) AS total_number_of_rentals` to get the number of rentals a customer has made. Similarly all values in the red rows will be grouped together and any additional values in the table (not shown in the image) where `customer_id` is equal to `211`. The same will happen with all the yellow rows and any additional rows where `customer_id` is equal to `209`.\n",
        "\n",
        "Multiple columns can also be added to the `GROUP BY` column to further group the data if required. Let's imagine we want to check, how many movies each staff member sold to a customer. We could first use a `GROUP BY` to group the data by the `customer_id` and then group by a secondary column `staff_id` to further group the data. The query is:"
      ]
    },
    {
      "cell_type": "code",
      "execution_count": 16,
      "metadata": {
        "id": "ZAZiwq8NsXlS"
      },
      "outputs": [
        {
          "data": {
            "text/html": [
              "<div>\n",
              "<style scoped>\n",
              "    .dataframe tbody tr th:only-of-type {\n",
              "        vertical-align: middle;\n",
              "    }\n",
              "\n",
              "    .dataframe tbody tr th {\n",
              "        vertical-align: top;\n",
              "    }\n",
              "\n",
              "    .dataframe thead th {\n",
              "        text-align: right;\n",
              "    }\n",
              "</style>\n",
              "<table border=\"1\" class=\"dataframe\">\n",
              "  <thead>\n",
              "    <tr style=\"text-align: right;\">\n",
              "      <th></th>\n",
              "      <th>customer_id</th>\n",
              "      <th>total_number_of_rentals</th>\n",
              "      <th>staff_id</th>\n",
              "    </tr>\n",
              "  </thead>\n",
              "  <tbody>\n",
              "    <tr>\n",
              "      <th>0</th>\n",
              "      <td>599</td>\n",
              "      <td>8</td>\n",
              "      <td>2</td>\n",
              "    </tr>\n",
              "    <tr>\n",
              "      <th>1</th>\n",
              "      <td>599</td>\n",
              "      <td>11</td>\n",
              "      <td>1</td>\n",
              "    </tr>\n",
              "    <tr>\n",
              "      <th>2</th>\n",
              "      <td>598</td>\n",
              "      <td>13</td>\n",
              "      <td>2</td>\n",
              "    </tr>\n",
              "    <tr>\n",
              "      <th>3</th>\n",
              "      <td>598</td>\n",
              "      <td>9</td>\n",
              "      <td>1</td>\n",
              "    </tr>\n",
              "    <tr>\n",
              "      <th>4</th>\n",
              "      <td>597</td>\n",
              "      <td>15</td>\n",
              "      <td>2</td>\n",
              "    </tr>\n",
              "    <tr>\n",
              "      <th>...</th>\n",
              "      <td>...</td>\n",
              "      <td>...</td>\n",
              "      <td>...</td>\n",
              "    </tr>\n",
              "    <tr>\n",
              "      <th>1193</th>\n",
              "      <td>3</td>\n",
              "      <td>12</td>\n",
              "      <td>1</td>\n",
              "    </tr>\n",
              "    <tr>\n",
              "      <th>1194</th>\n",
              "      <td>2</td>\n",
              "      <td>12</td>\n",
              "      <td>2</td>\n",
              "    </tr>\n",
              "    <tr>\n",
              "      <th>1195</th>\n",
              "      <td>2</td>\n",
              "      <td>15</td>\n",
              "      <td>1</td>\n",
              "    </tr>\n",
              "    <tr>\n",
              "      <th>1196</th>\n",
              "      <td>1</td>\n",
              "      <td>17</td>\n",
              "      <td>2</td>\n",
              "    </tr>\n",
              "    <tr>\n",
              "      <th>1197</th>\n",
              "      <td>1</td>\n",
              "      <td>15</td>\n",
              "      <td>1</td>\n",
              "    </tr>\n",
              "  </tbody>\n",
              "</table>\n",
              "<p>1198 rows × 3 columns</p>\n",
              "</div>"
            ],
            "text/plain": [
              "      customer_id  total_number_of_rentals  staff_id\n",
              "0             599                        8         2\n",
              "1             599                       11         1\n",
              "2             598                       13         2\n",
              "3             598                        9         1\n",
              "4             597                       15         2\n",
              "...           ...                      ...       ...\n",
              "1193            3                       12         1\n",
              "1194            2                       12         2\n",
              "1195            2                       15         1\n",
              "1196            1                       17         2\n",
              "1197            1                       15         1\n",
              "\n",
              "[1198 rows x 3 columns]"
            ]
          },
          "execution_count": 16,
          "metadata": {},
          "output_type": "execute_result"
        }
      ],
      "source": [
        "db.execute_query('''\n",
        "                    SELECT customer_id,\n",
        "                           COUNT(rental_date) AS total_number_of_rentals,\n",
        "                           staff_id\n",
        "                    FROM\n",
        "                        rental\n",
        "                    GROUP BY\n",
        "                        customer_id, staff_id\n",
        "                    ORDER BY\n",
        "                        customer_id DESC, staff_id DESC;\n",
        "                ''')"
      ]
    },
    {
      "cell_type": "markdown",
      "metadata": {
        "id": "50n6Vp4XsXlT"
      },
      "source": [
        "The query is saying `GROUP BY customer_id, staff_id` which is the equivalent of saying, in all rows where `customer_id` and `staff_id` match then group those rows together, and count all the rows in the `rental_date` column.\n",
        "\n",
        "<img src='https://github.com/AI-Core/Content-Public/blob/main/Content/units/Data-Handling/3.%20SQL/12.%20SQL%20GROUP%20BY/images/double_group_by.png?modified=231232&raw=1'>\n",
        "\n",
        "For the rows in red, green and yellow in the image above, you can see that the `customer_id` and `staff_id` match so they will be grouped together by the `GROUP BY` clause. Those rows are then counted for each group with the `COUNT(rental_date) AS total_number_of_rentals` statement. Before performing your `GROUP BY` statement it can be helpful to first look at the data in the table. This can help to visualise what rows will be grouped together before writing the statement.\n",
        "\n",
        "A common error you might run into when trying to perform `GROUP BY` statements is:\n",
        "\n",
        "`column x must appear in the GROUP BY clause or be used in an aggregate function`\n",
        "\n",
        "Where `x` is one of the columns in your `SELECT` statement, why does this happen? Let's try and use `SELECT` to also select the `inventory_id` column in our statement and investigate what SQL is trying to do:"
      ]
    },
    {
      "cell_type": "code",
      "execution_count": 17,
      "metadata": {
        "id": "3h1Wjhz8sXlT"
      },
      "outputs": [
        {
          "ename": "ProgrammingError",
          "evalue": "(psycopg2.errors.GroupingError) column \"rental.inventory_id\" must appear in the GROUP BY clause or be used in an aggregate function\nLINE 5:                         inventory_id\n                                ^\n\n[SQL: \n                    SELECT customer_id,\n                        COUNT(rental_date) AS total_number_of_rentals,\n                        staff_id,\n                        inventory_id\n                    FROM\n                        rental\n                    GROUP BY\n                        customer_id, staff_id\n                    ORDER BY\n                        customer_id DESC, staff_id DESC;\n                ]\n(Background on this error at: https://sqlalche.me/e/20/f405)",
          "output_type": "error",
          "traceback": [
            "\u001b[0;31m---------------------------------------------------------------------------\u001b[0m",
            "\u001b[0;31mGroupingError\u001b[0m                             Traceback (most recent call last)",
            "File \u001b[0;32m/opt/misc/miniconda3/envs/aicore/lib/python3.12/site-packages/sqlalchemy/engine/base.py:1969\u001b[0m, in \u001b[0;36mConnection._exec_single_context\u001b[0;34m(self, dialect, context, statement, parameters)\u001b[0m\n\u001b[1;32m   1968\u001b[0m     \u001b[39mif\u001b[39;00m \u001b[39mnot\u001b[39;00m evt_handled:\n\u001b[0;32m-> 1969\u001b[0m         \u001b[39mself\u001b[39;49m\u001b[39m.\u001b[39;49mdialect\u001b[39m.\u001b[39;49mdo_execute(\n\u001b[1;32m   1970\u001b[0m             cursor, str_statement, effective_parameters, context\n\u001b[1;32m   1971\u001b[0m         )\n\u001b[1;32m   1973\u001b[0m \u001b[39mif\u001b[39;00m \u001b[39mself\u001b[39m\u001b[39m.\u001b[39m_has_events \u001b[39mor\u001b[39;00m \u001b[39mself\u001b[39m\u001b[39m.\u001b[39mengine\u001b[39m.\u001b[39m_has_events:\n",
            "File \u001b[0;32m/opt/misc/miniconda3/envs/aicore/lib/python3.12/site-packages/sqlalchemy/engine/default.py:922\u001b[0m, in \u001b[0;36mDefaultDialect.do_execute\u001b[0;34m(self, cursor, statement, parameters, context)\u001b[0m\n\u001b[1;32m    921\u001b[0m \u001b[39mdef\u001b[39;00m \u001b[39mdo_execute\u001b[39m(\u001b[39mself\u001b[39m, cursor, statement, parameters, context\u001b[39m=\u001b[39m\u001b[39mNone\u001b[39;00m):\n\u001b[0;32m--> 922\u001b[0m     cursor\u001b[39m.\u001b[39;49mexecute(statement, parameters)\n",
            "\u001b[0;31mGroupingError\u001b[0m: column \"rental.inventory_id\" must appear in the GROUP BY clause or be used in an aggregate function\nLINE 5:                         inventory_id\n                                ^\n",
            "\nThe above exception was the direct cause of the following exception:\n",
            "\u001b[0;31mProgrammingError\u001b[0m                          Traceback (most recent call last)",
            "\u001b[1;32m/home/ranvir/AiCore/09_sql_group_by/notebook_lesson.ipynb Cell 10\u001b[0m line \u001b[0;36m1\n\u001b[0;32m----> <a href='vscode-notebook-cell://wsl%2Bubuntu/home/ranvir/AiCore/09_sql_group_by/notebook_lesson.ipynb#X11sdnNjb2RlLXJlbW90ZQ%3D%3D?line=0'>1</a>\u001b[0m db\u001b[39m.\u001b[39;49mexecute_query(\u001b[39m'''\u001b[39;49m\n\u001b[1;32m      <a href='vscode-notebook-cell://wsl%2Bubuntu/home/ranvir/AiCore/09_sql_group_by/notebook_lesson.ipynb#X11sdnNjb2RlLXJlbW90ZQ%3D%3D?line=1'>2</a>\u001b[0m \u001b[39m                    SELECT customer_id,\u001b[39;49m\n\u001b[1;32m      <a href='vscode-notebook-cell://wsl%2Bubuntu/home/ranvir/AiCore/09_sql_group_by/notebook_lesson.ipynb#X11sdnNjb2RlLXJlbW90ZQ%3D%3D?line=2'>3</a>\u001b[0m \u001b[39m                        COUNT(rental_date) AS total_number_of_rentals,\u001b[39;49m\n\u001b[1;32m      <a href='vscode-notebook-cell://wsl%2Bubuntu/home/ranvir/AiCore/09_sql_group_by/notebook_lesson.ipynb#X11sdnNjb2RlLXJlbW90ZQ%3D%3D?line=3'>4</a>\u001b[0m \u001b[39m                        staff_id,\u001b[39;49m\n\u001b[1;32m      <a href='vscode-notebook-cell://wsl%2Bubuntu/home/ranvir/AiCore/09_sql_group_by/notebook_lesson.ipynb#X11sdnNjb2RlLXJlbW90ZQ%3D%3D?line=4'>5</a>\u001b[0m \u001b[39m                        inventory_id\u001b[39;49m\n\u001b[1;32m      <a href='vscode-notebook-cell://wsl%2Bubuntu/home/ranvir/AiCore/09_sql_group_by/notebook_lesson.ipynb#X11sdnNjb2RlLXJlbW90ZQ%3D%3D?line=5'>6</a>\u001b[0m \u001b[39m                    FROM\u001b[39;49m\n\u001b[1;32m      <a href='vscode-notebook-cell://wsl%2Bubuntu/home/ranvir/AiCore/09_sql_group_by/notebook_lesson.ipynb#X11sdnNjb2RlLXJlbW90ZQ%3D%3D?line=6'>7</a>\u001b[0m \u001b[39m                        rental\u001b[39;49m\n\u001b[1;32m      <a href='vscode-notebook-cell://wsl%2Bubuntu/home/ranvir/AiCore/09_sql_group_by/notebook_lesson.ipynb#X11sdnNjb2RlLXJlbW90ZQ%3D%3D?line=7'>8</a>\u001b[0m \u001b[39m                    GROUP BY\u001b[39;49m\n\u001b[1;32m      <a href='vscode-notebook-cell://wsl%2Bubuntu/home/ranvir/AiCore/09_sql_group_by/notebook_lesson.ipynb#X11sdnNjb2RlLXJlbW90ZQ%3D%3D?line=8'>9</a>\u001b[0m \u001b[39m                        customer_id, staff_id\u001b[39;49m\n\u001b[1;32m     <a href='vscode-notebook-cell://wsl%2Bubuntu/home/ranvir/AiCore/09_sql_group_by/notebook_lesson.ipynb#X11sdnNjb2RlLXJlbW90ZQ%3D%3D?line=9'>10</a>\u001b[0m \u001b[39m                    ORDER BY\u001b[39;49m\n\u001b[1;32m     <a href='vscode-notebook-cell://wsl%2Bubuntu/home/ranvir/AiCore/09_sql_group_by/notebook_lesson.ipynb#X11sdnNjb2RlLXJlbW90ZQ%3D%3D?line=10'>11</a>\u001b[0m \u001b[39m                        customer_id DESC, staff_id DESC;\u001b[39;49m\n\u001b[1;32m     <a href='vscode-notebook-cell://wsl%2Bubuntu/home/ranvir/AiCore/09_sql_group_by/notebook_lesson.ipynb#X11sdnNjb2RlLXJlbW90ZQ%3D%3D?line=11'>12</a>\u001b[0m \u001b[39m                \u001b[39;49m\u001b[39m'''\u001b[39;49m)\n",
            "File \u001b[0;32m~/AiCore/database_connection.py:20\u001b[0m, in \u001b[0;36mDatabaseConnection.execute_query\u001b[0;34m(self, query)\u001b[0m\n\u001b[1;32m     18\u001b[0m \u001b[39mdef\u001b[39;00m \u001b[39mexecute_query\u001b[39m(\u001b[39mself\u001b[39m, query):\n\u001b[1;32m     19\u001b[0m     \u001b[39mwith\u001b[39;00m \u001b[39mself\u001b[39m\u001b[39m.\u001b[39mengine\u001b[39m.\u001b[39mconnect():\n\u001b[0;32m---> 20\u001b[0m         data \u001b[39m=\u001b[39m pd\u001b[39m.\u001b[39;49mread_sql_query(query, \u001b[39mself\u001b[39;49m\u001b[39m.\u001b[39;49mengine)    \n\u001b[1;32m     21\u001b[0m     \u001b[39mself\u001b[39m\u001b[39m.\u001b[39mengine\u001b[39m.\u001b[39mdispose()\n\u001b[1;32m     22\u001b[0m     \u001b[39mreturn\u001b[39;00m data\n",
            "File \u001b[0;32m/opt/misc/miniconda3/envs/aicore/lib/python3.12/site-packages/pandas/io/sql.py:486\u001b[0m, in \u001b[0;36mread_sql_query\u001b[0;34m(sql, con, index_col, coerce_float, params, parse_dates, chunksize, dtype, dtype_backend)\u001b[0m\n\u001b[1;32m    483\u001b[0m \u001b[39massert\u001b[39;00m dtype_backend \u001b[39mis\u001b[39;00m \u001b[39mnot\u001b[39;00m lib\u001b[39m.\u001b[39mno_default\n\u001b[1;32m    485\u001b[0m \u001b[39mwith\u001b[39;00m pandasSQL_builder(con) \u001b[39mas\u001b[39;00m pandas_sql:\n\u001b[0;32m--> 486\u001b[0m     \u001b[39mreturn\u001b[39;00m pandas_sql\u001b[39m.\u001b[39;49mread_query(\n\u001b[1;32m    487\u001b[0m         sql,\n\u001b[1;32m    488\u001b[0m         index_col\u001b[39m=\u001b[39;49mindex_col,\n\u001b[1;32m    489\u001b[0m         params\u001b[39m=\u001b[39;49mparams,\n\u001b[1;32m    490\u001b[0m         coerce_float\u001b[39m=\u001b[39;49mcoerce_float,\n\u001b[1;32m    491\u001b[0m         parse_dates\u001b[39m=\u001b[39;49mparse_dates,\n\u001b[1;32m    492\u001b[0m         chunksize\u001b[39m=\u001b[39;49mchunksize,\n\u001b[1;32m    493\u001b[0m         dtype\u001b[39m=\u001b[39;49mdtype,\n\u001b[1;32m    494\u001b[0m         dtype_backend\u001b[39m=\u001b[39;49mdtype_backend,\n\u001b[1;32m    495\u001b[0m     )\n",
            "File \u001b[0;32m/opt/misc/miniconda3/envs/aicore/lib/python3.12/site-packages/pandas/io/sql.py:1776\u001b[0m, in \u001b[0;36mSQLDatabase.read_query\u001b[0;34m(self, sql, index_col, coerce_float, parse_dates, params, chunksize, dtype, dtype_backend)\u001b[0m\n\u001b[1;32m   1719\u001b[0m \u001b[39mdef\u001b[39;00m \u001b[39mread_query\u001b[39m(\n\u001b[1;32m   1720\u001b[0m     \u001b[39mself\u001b[39m,\n\u001b[1;32m   1721\u001b[0m     sql: \u001b[39mstr\u001b[39m,\n\u001b[0;32m   (...)\u001b[0m\n\u001b[1;32m   1728\u001b[0m     dtype_backend: DtypeBackend \u001b[39m|\u001b[39m Literal[\u001b[39m\"\u001b[39m\u001b[39mnumpy\u001b[39m\u001b[39m\"\u001b[39m] \u001b[39m=\u001b[39m \u001b[39m\"\u001b[39m\u001b[39mnumpy\u001b[39m\u001b[39m\"\u001b[39m,\n\u001b[1;32m   1729\u001b[0m ) \u001b[39m-\u001b[39m\u001b[39m>\u001b[39m DataFrame \u001b[39m|\u001b[39m Iterator[DataFrame]:\n\u001b[1;32m   1730\u001b[0m \u001b[39m    \u001b[39m\u001b[39m\"\"\"\u001b[39;00m\n\u001b[1;32m   1731\u001b[0m \u001b[39m    Read SQL query into a DataFrame.\u001b[39;00m\n\u001b[1;32m   1732\u001b[0m \n\u001b[0;32m   (...)\u001b[0m\n\u001b[1;32m   1774\u001b[0m \n\u001b[1;32m   1775\u001b[0m \u001b[39m    \"\"\"\u001b[39;00m\n\u001b[0;32m-> 1776\u001b[0m     result \u001b[39m=\u001b[39m \u001b[39mself\u001b[39;49m\u001b[39m.\u001b[39;49mexecute(sql, params)\n\u001b[1;32m   1777\u001b[0m     columns \u001b[39m=\u001b[39m result\u001b[39m.\u001b[39mkeys()\n\u001b[1;32m   1779\u001b[0m     \u001b[39mif\u001b[39;00m chunksize \u001b[39mis\u001b[39;00m \u001b[39mnot\u001b[39;00m \u001b[39mNone\u001b[39;00m:\n",
            "File \u001b[0;32m/opt/misc/miniconda3/envs/aicore/lib/python3.12/site-packages/pandas/io/sql.py:1599\u001b[0m, in \u001b[0;36mSQLDatabase.execute\u001b[0;34m(self, sql, params)\u001b[0m\n\u001b[1;32m   1597\u001b[0m args \u001b[39m=\u001b[39m [] \u001b[39mif\u001b[39;00m params \u001b[39mis\u001b[39;00m \u001b[39mNone\u001b[39;00m \u001b[39melse\u001b[39;00m [params]\n\u001b[1;32m   1598\u001b[0m \u001b[39mif\u001b[39;00m \u001b[39misinstance\u001b[39m(sql, \u001b[39mstr\u001b[39m):\n\u001b[0;32m-> 1599\u001b[0m     \u001b[39mreturn\u001b[39;00m \u001b[39mself\u001b[39;49m\u001b[39m.\u001b[39;49mcon\u001b[39m.\u001b[39;49mexec_driver_sql(sql, \u001b[39m*\u001b[39;49margs)\n\u001b[1;32m   1600\u001b[0m \u001b[39mreturn\u001b[39;00m \u001b[39mself\u001b[39m\u001b[39m.\u001b[39mcon\u001b[39m.\u001b[39mexecute(sql, \u001b[39m*\u001b[39margs)\n",
            "File \u001b[0;32m/opt/misc/miniconda3/envs/aicore/lib/python3.12/site-packages/sqlalchemy/engine/base.py:1778\u001b[0m, in \u001b[0;36mConnection.exec_driver_sql\u001b[0;34m(self, statement, parameters, execution_options)\u001b[0m\n\u001b[1;32m   1773\u001b[0m execution_options \u001b[39m=\u001b[39m \u001b[39mself\u001b[39m\u001b[39m.\u001b[39m_execution_options\u001b[39m.\u001b[39mmerge_with(\n\u001b[1;32m   1774\u001b[0m     execution_options\n\u001b[1;32m   1775\u001b[0m )\n\u001b[1;32m   1777\u001b[0m dialect \u001b[39m=\u001b[39m \u001b[39mself\u001b[39m\u001b[39m.\u001b[39mdialect\n\u001b[0;32m-> 1778\u001b[0m ret \u001b[39m=\u001b[39m \u001b[39mself\u001b[39;49m\u001b[39m.\u001b[39;49m_execute_context(\n\u001b[1;32m   1779\u001b[0m     dialect,\n\u001b[1;32m   1780\u001b[0m     dialect\u001b[39m.\u001b[39;49mexecution_ctx_cls\u001b[39m.\u001b[39;49m_init_statement,\n\u001b[1;32m   1781\u001b[0m     statement,\n\u001b[1;32m   1782\u001b[0m     \u001b[39mNone\u001b[39;49;00m,\n\u001b[1;32m   1783\u001b[0m     execution_options,\n\u001b[1;32m   1784\u001b[0m     statement,\n\u001b[1;32m   1785\u001b[0m     distilled_parameters,\n\u001b[1;32m   1786\u001b[0m )\n\u001b[1;32m   1788\u001b[0m \u001b[39mreturn\u001b[39;00m ret\n",
            "File \u001b[0;32m/opt/misc/miniconda3/envs/aicore/lib/python3.12/site-packages/sqlalchemy/engine/base.py:1848\u001b[0m, in \u001b[0;36mConnection._execute_context\u001b[0;34m(self, dialect, constructor, statement, parameters, execution_options, *args, **kw)\u001b[0m\n\u001b[1;32m   1843\u001b[0m     \u001b[39mreturn\u001b[39;00m \u001b[39mself\u001b[39m\u001b[39m.\u001b[39m_exec_insertmany_context(\n\u001b[1;32m   1844\u001b[0m         dialect,\n\u001b[1;32m   1845\u001b[0m         context,\n\u001b[1;32m   1846\u001b[0m     )\n\u001b[1;32m   1847\u001b[0m \u001b[39melse\u001b[39;00m:\n\u001b[0;32m-> 1848\u001b[0m     \u001b[39mreturn\u001b[39;00m \u001b[39mself\u001b[39;49m\u001b[39m.\u001b[39;49m_exec_single_context(\n\u001b[1;32m   1849\u001b[0m         dialect, context, statement, parameters\n\u001b[1;32m   1850\u001b[0m     )\n",
            "File \u001b[0;32m/opt/misc/miniconda3/envs/aicore/lib/python3.12/site-packages/sqlalchemy/engine/base.py:1988\u001b[0m, in \u001b[0;36mConnection._exec_single_context\u001b[0;34m(self, dialect, context, statement, parameters)\u001b[0m\n\u001b[1;32m   1985\u001b[0m     result \u001b[39m=\u001b[39m context\u001b[39m.\u001b[39m_setup_result_proxy()\n\u001b[1;32m   1987\u001b[0m \u001b[39mexcept\u001b[39;00m \u001b[39mBaseException\u001b[39;00m \u001b[39mas\u001b[39;00m e:\n\u001b[0;32m-> 1988\u001b[0m     \u001b[39mself\u001b[39;49m\u001b[39m.\u001b[39;49m_handle_dbapi_exception(\n\u001b[1;32m   1989\u001b[0m         e, str_statement, effective_parameters, cursor, context\n\u001b[1;32m   1990\u001b[0m     )\n\u001b[1;32m   1992\u001b[0m \u001b[39mreturn\u001b[39;00m result\n",
            "File \u001b[0;32m/opt/misc/miniconda3/envs/aicore/lib/python3.12/site-packages/sqlalchemy/engine/base.py:2343\u001b[0m, in \u001b[0;36mConnection._handle_dbapi_exception\u001b[0;34m(self, e, statement, parameters, cursor, context, is_sub_exec)\u001b[0m\n\u001b[1;32m   2341\u001b[0m \u001b[39melif\u001b[39;00m should_wrap:\n\u001b[1;32m   2342\u001b[0m     \u001b[39massert\u001b[39;00m sqlalchemy_exception \u001b[39mis\u001b[39;00m \u001b[39mnot\u001b[39;00m \u001b[39mNone\u001b[39;00m\n\u001b[0;32m-> 2343\u001b[0m     \u001b[39mraise\u001b[39;00m sqlalchemy_exception\u001b[39m.\u001b[39mwith_traceback(exc_info[\u001b[39m2\u001b[39m]) \u001b[39mfrom\u001b[39;00m \u001b[39me\u001b[39;00m\n\u001b[1;32m   2344\u001b[0m \u001b[39melse\u001b[39;00m:\n\u001b[1;32m   2345\u001b[0m     \u001b[39massert\u001b[39;00m exc_info[\u001b[39m1\u001b[39m] \u001b[39mis\u001b[39;00m \u001b[39mnot\u001b[39;00m \u001b[39mNone\u001b[39;00m\n",
            "File \u001b[0;32m/opt/misc/miniconda3/envs/aicore/lib/python3.12/site-packages/sqlalchemy/engine/base.py:1969\u001b[0m, in \u001b[0;36mConnection._exec_single_context\u001b[0;34m(self, dialect, context, statement, parameters)\u001b[0m\n\u001b[1;32m   1967\u001b[0m                 \u001b[39mbreak\u001b[39;00m\n\u001b[1;32m   1968\u001b[0m     \u001b[39mif\u001b[39;00m \u001b[39mnot\u001b[39;00m evt_handled:\n\u001b[0;32m-> 1969\u001b[0m         \u001b[39mself\u001b[39;49m\u001b[39m.\u001b[39;49mdialect\u001b[39m.\u001b[39;49mdo_execute(\n\u001b[1;32m   1970\u001b[0m             cursor, str_statement, effective_parameters, context\n\u001b[1;32m   1971\u001b[0m         )\n\u001b[1;32m   1973\u001b[0m \u001b[39mif\u001b[39;00m \u001b[39mself\u001b[39m\u001b[39m.\u001b[39m_has_events \u001b[39mor\u001b[39;00m \u001b[39mself\u001b[39m\u001b[39m.\u001b[39mengine\u001b[39m.\u001b[39m_has_events:\n\u001b[1;32m   1974\u001b[0m     \u001b[39mself\u001b[39m\u001b[39m.\u001b[39mdispatch\u001b[39m.\u001b[39mafter_cursor_execute(\n\u001b[1;32m   1975\u001b[0m         \u001b[39mself\u001b[39m,\n\u001b[1;32m   1976\u001b[0m         cursor,\n\u001b[0;32m   (...)\u001b[0m\n\u001b[1;32m   1980\u001b[0m         context\u001b[39m.\u001b[39mexecutemany,\n\u001b[1;32m   1981\u001b[0m     )\n",
            "File \u001b[0;32m/opt/misc/miniconda3/envs/aicore/lib/python3.12/site-packages/sqlalchemy/engine/default.py:922\u001b[0m, in \u001b[0;36mDefaultDialect.do_execute\u001b[0;34m(self, cursor, statement, parameters, context)\u001b[0m\n\u001b[1;32m    921\u001b[0m \u001b[39mdef\u001b[39;00m \u001b[39mdo_execute\u001b[39m(\u001b[39mself\u001b[39m, cursor, statement, parameters, context\u001b[39m=\u001b[39m\u001b[39mNone\u001b[39;00m):\n\u001b[0;32m--> 922\u001b[0m     cursor\u001b[39m.\u001b[39;49mexecute(statement, parameters)\n",
            "\u001b[0;31mProgrammingError\u001b[0m: (psycopg2.errors.GroupingError) column \"rental.inventory_id\" must appear in the GROUP BY clause or be used in an aggregate function\nLINE 5:                         inventory_id\n                                ^\n\n[SQL: \n                    SELECT customer_id,\n                        COUNT(rental_date) AS total_number_of_rentals,\n                        staff_id,\n                        inventory_id\n                    FROM\n                        rental\n                    GROUP BY\n                        customer_id, staff_id\n                    ORDER BY\n                        customer_id DESC, staff_id DESC;\n                ]\n(Background on this error at: https://sqlalche.me/e/20/f405)"
          ]
        }
      ],
      "source": [
        "db.execute_query('''\n",
        "                    SELECT customer_id,\n",
        "                           COUNT(rental_date) AS total_number_of_rentals,\n",
        "                           staff_id,\n",
        "                           inventory_id\n",
        "                    FROM\n",
        "                        rental\n",
        "                    GROUP BY\n",
        "                        customer_id, staff_id\n",
        "                    ORDER BY\n",
        "                        customer_id DESC, staff_id DESC;\n",
        "                ''')"
      ]
    },
    {
      "cell_type": "markdown",
      "metadata": {
        "id": "6Guq22mJsXlT"
      },
      "source": [
        "When we try to run this query, the error returned is:\n",
        "\n",
        "`column \"rental.inventory_id\" must appear in the GROUP BY clause or be used in an aggregate function`\n",
        "\n",
        "Let's check which rows SQL is trying to group together to see why this might be the case:"
      ]
    },
    {
      "cell_type": "markdown",
      "metadata": {
        "id": "p6QYJ3pnsXlT"
      },
      "source": [
        "<img src='https://github.com/AI-Core/Content-Public/blob/main/Content/units/Data-Handling/3.%20SQL/12.%20SQL%20GROUP%20BY/images/group_by_errors.png?modified=323423&raw=1'>\n",
        "\n",
        "The rows of each colour match our `GROUP BY customer_id, staff_id` since in each of those row the two values are the same. Remember SQL will try and summarise these rows into one row since that was what was specified in our `GROUP BY`.\n",
        "\n",
        "If you notice with each grouping there are many different values for the value of `inventory_id` this is the complaint SQL is making. SQL doesn't know how to `SELECT` from the `inventory_id` column since there are many different possible choices of `inventory_id`, which one should it choose? We can rectify this by following SQL's advice:\n",
        "\n",
        "`column \"rental.inventory_id\" must appear in the GROUP BY clause or be used in an aggregate function`\n",
        "\n",
        "So we either need to aggregate that column or add the column to our `GROUP BY` clause. Let's add the `COUNT` of the `inventory_id` for each of our groups:"
      ]
    },
    {
      "cell_type": "code",
      "execution_count": 21,
      "metadata": {
        "id": "VBktbL-esXlT"
      },
      "outputs": [
        {
          "data": {
            "text/html": [
              "<div>\n",
              "<style scoped>\n",
              "    .dataframe tbody tr th:only-of-type {\n",
              "        vertical-align: middle;\n",
              "    }\n",
              "\n",
              "    .dataframe tbody tr th {\n",
              "        vertical-align: top;\n",
              "    }\n",
              "\n",
              "    .dataframe thead th {\n",
              "        text-align: right;\n",
              "    }\n",
              "</style>\n",
              "<table border=\"1\" class=\"dataframe\">\n",
              "  <thead>\n",
              "    <tr style=\"text-align: right;\">\n",
              "      <th></th>\n",
              "      <th>customer_id</th>\n",
              "      <th>total_number_of_rentals</th>\n",
              "      <th>staff_id</th>\n",
              "      <th>number_of_unique_rentals</th>\n",
              "    </tr>\n",
              "  </thead>\n",
              "  <tbody>\n",
              "    <tr>\n",
              "      <th>0</th>\n",
              "      <td>599</td>\n",
              "      <td>8</td>\n",
              "      <td>2</td>\n",
              "      <td>8</td>\n",
              "    </tr>\n",
              "    <tr>\n",
              "      <th>1</th>\n",
              "      <td>599</td>\n",
              "      <td>11</td>\n",
              "      <td>1</td>\n",
              "      <td>11</td>\n",
              "    </tr>\n",
              "    <tr>\n",
              "      <th>2</th>\n",
              "      <td>598</td>\n",
              "      <td>13</td>\n",
              "      <td>2</td>\n",
              "      <td>13</td>\n",
              "    </tr>\n",
              "    <tr>\n",
              "      <th>3</th>\n",
              "      <td>598</td>\n",
              "      <td>9</td>\n",
              "      <td>1</td>\n",
              "      <td>9</td>\n",
              "    </tr>\n",
              "    <tr>\n",
              "      <th>4</th>\n",
              "      <td>597</td>\n",
              "      <td>15</td>\n",
              "      <td>2</td>\n",
              "      <td>15</td>\n",
              "    </tr>\n",
              "    <tr>\n",
              "      <th>...</th>\n",
              "      <td>...</td>\n",
              "      <td>...</td>\n",
              "      <td>...</td>\n",
              "      <td>...</td>\n",
              "    </tr>\n",
              "    <tr>\n",
              "      <th>1193</th>\n",
              "      <td>3</td>\n",
              "      <td>12</td>\n",
              "      <td>1</td>\n",
              "      <td>12</td>\n",
              "    </tr>\n",
              "    <tr>\n",
              "      <th>1194</th>\n",
              "      <td>2</td>\n",
              "      <td>12</td>\n",
              "      <td>2</td>\n",
              "      <td>12</td>\n",
              "    </tr>\n",
              "    <tr>\n",
              "      <th>1195</th>\n",
              "      <td>2</td>\n",
              "      <td>15</td>\n",
              "      <td>1</td>\n",
              "      <td>15</td>\n",
              "    </tr>\n",
              "    <tr>\n",
              "      <th>1196</th>\n",
              "      <td>1</td>\n",
              "      <td>17</td>\n",
              "      <td>2</td>\n",
              "      <td>17</td>\n",
              "    </tr>\n",
              "    <tr>\n",
              "      <th>1197</th>\n",
              "      <td>1</td>\n",
              "      <td>15</td>\n",
              "      <td>1</td>\n",
              "      <td>15</td>\n",
              "    </tr>\n",
              "  </tbody>\n",
              "</table>\n",
              "<p>1198 rows × 4 columns</p>\n",
              "</div>"
            ],
            "text/plain": [
              "      customer_id  total_number_of_rentals  staff_id  number_of_unique_rentals\n",
              "0             599                        8         2                         8\n",
              "1             599                       11         1                        11\n",
              "2             598                       13         2                        13\n",
              "3             598                        9         1                         9\n",
              "4             597                       15         2                        15\n",
              "...           ...                      ...       ...                       ...\n",
              "1193            3                       12         1                        12\n",
              "1194            2                       12         2                        12\n",
              "1195            2                       15         1                        15\n",
              "1196            1                       17         2                        17\n",
              "1197            1                       15         1                        15\n",
              "\n",
              "[1198 rows x 4 columns]"
            ]
          },
          "execution_count": 21,
          "metadata": {},
          "output_type": "execute_result"
        }
      ],
      "source": [
        "db.execute_query('''\n",
        "                    SELECT customer_id,\n",
        "                           COUNT(rental_date) AS total_number_of_rentals,\n",
        "                           staff_id,\n",
        "                           COUNT(inventory_id) AS number_of_unique_rentals\n",
        "                    FROM\n",
        "                        rental\n",
        "                    GROUP BY\n",
        "                        customer_id, staff_id\n",
        "                    ORDER BY\n",
        "                        customer_id DESC, staff_id DESC;\n",
        "                ''')"
      ]
    },
    {
      "cell_type": "markdown",
      "metadata": {
        "id": "WfMhaBfIsXlT"
      },
      "source": [
        "Great, that solves our problem but might not be particularly useful since it should just return the same `COUNT` as the `rental_date`. What about if we add it to the `GROUP BY`:"
      ]
    },
    {
      "cell_type": "code",
      "execution_count": 20,
      "metadata": {
        "id": "WSNOdtpzsXlT"
      },
      "outputs": [
        {
          "data": {
            "text/html": [
              "<div>\n",
              "<style scoped>\n",
              "    .dataframe tbody tr th:only-of-type {\n",
              "        vertical-align: middle;\n",
              "    }\n",
              "\n",
              "    .dataframe tbody tr th {\n",
              "        vertical-align: top;\n",
              "    }\n",
              "\n",
              "    .dataframe thead th {\n",
              "        text-align: right;\n",
              "    }\n",
              "</style>\n",
              "<table border=\"1\" class=\"dataframe\">\n",
              "  <thead>\n",
              "    <tr style=\"text-align: right;\">\n",
              "      <th></th>\n",
              "      <th>customer_id</th>\n",
              "      <th>total_number_of_rentals</th>\n",
              "      <th>staff_id</th>\n",
              "      <th>number_of_unique_rentals</th>\n",
              "    </tr>\n",
              "  </thead>\n",
              "  <tbody>\n",
              "    <tr>\n",
              "      <th>0</th>\n",
              "      <td>599</td>\n",
              "      <td>1</td>\n",
              "      <td>2</td>\n",
              "      <td>1</td>\n",
              "    </tr>\n",
              "    <tr>\n",
              "      <th>1</th>\n",
              "      <td>599</td>\n",
              "      <td>1</td>\n",
              "      <td>2</td>\n",
              "      <td>1</td>\n",
              "    </tr>\n",
              "    <tr>\n",
              "      <th>2</th>\n",
              "      <td>599</td>\n",
              "      <td>1</td>\n",
              "      <td>2</td>\n",
              "      <td>1</td>\n",
              "    </tr>\n",
              "    <tr>\n",
              "      <th>3</th>\n",
              "      <td>599</td>\n",
              "      <td>1</td>\n",
              "      <td>2</td>\n",
              "      <td>1</td>\n",
              "    </tr>\n",
              "    <tr>\n",
              "      <th>4</th>\n",
              "      <td>599</td>\n",
              "      <td>1</td>\n",
              "      <td>2</td>\n",
              "      <td>1</td>\n",
              "    </tr>\n",
              "    <tr>\n",
              "      <th>...</th>\n",
              "      <td>...</td>\n",
              "      <td>...</td>\n",
              "      <td>...</td>\n",
              "      <td>...</td>\n",
              "    </tr>\n",
              "    <tr>\n",
              "      <th>16039</th>\n",
              "      <td>1</td>\n",
              "      <td>1</td>\n",
              "      <td>1</td>\n",
              "      <td>1</td>\n",
              "    </tr>\n",
              "    <tr>\n",
              "      <th>16040</th>\n",
              "      <td>1</td>\n",
              "      <td>1</td>\n",
              "      <td>1</td>\n",
              "      <td>1</td>\n",
              "    </tr>\n",
              "    <tr>\n",
              "      <th>16041</th>\n",
              "      <td>1</td>\n",
              "      <td>1</td>\n",
              "      <td>1</td>\n",
              "      <td>1</td>\n",
              "    </tr>\n",
              "    <tr>\n",
              "      <th>16042</th>\n",
              "      <td>1</td>\n",
              "      <td>1</td>\n",
              "      <td>1</td>\n",
              "      <td>1</td>\n",
              "    </tr>\n",
              "    <tr>\n",
              "      <th>16043</th>\n",
              "      <td>1</td>\n",
              "      <td>1</td>\n",
              "      <td>1</td>\n",
              "      <td>1</td>\n",
              "    </tr>\n",
              "  </tbody>\n",
              "</table>\n",
              "<p>16044 rows × 4 columns</p>\n",
              "</div>"
            ],
            "text/plain": [
              "       customer_id  total_number_of_rentals  staff_id  number_of_unique_rentals\n",
              "0              599                        1         2                         1\n",
              "1              599                        1         2                         1\n",
              "2              599                        1         2                         1\n",
              "3              599                        1         2                         1\n",
              "4              599                        1         2                         1\n",
              "...            ...                      ...       ...                       ...\n",
              "16039            1                        1         1                         1\n",
              "16040            1                        1         1                         1\n",
              "16041            1                        1         1                         1\n",
              "16042            1                        1         1                         1\n",
              "16043            1                        1         1                         1\n",
              "\n",
              "[16044 rows x 4 columns]"
            ]
          },
          "execution_count": 20,
          "metadata": {},
          "output_type": "execute_result"
        }
      ],
      "source": [
        "db.execute_query('''\n",
        "                    SELECT customer_id,\n",
        "                           COUNT(rental_date) AS total_number_of_rentals,\n",
        "                           staff_id,\n",
        "                           COUNT(inventory_id) AS number_of_unique_rentals\n",
        "                    FROM\n",
        "                        rental\n",
        "                    GROUP BY\n",
        "                        customer_id, staff_id, inventory_id\n",
        "                    ORDER BY\n",
        "                        customer_id DESC, staff_id DESC;                \n",
        "                ''')"
      ]
    },
    {
      "cell_type": "markdown",
      "metadata": {
        "id": "cziw0A9vsXlU"
      },
      "source": [
        "This give us something a little more useable, it returns the amount of times an item was rented by a particular customer from a particular staff member.\n",
        "\n",
        "Just be aware of the possibility of this error happening, it can be common. If it happens, it can be useful to visualise data again to check what rows you're grouping together.\n",
        "\n",
        "## `HAVING`\n",
        "\n",
        "In the SQL order of execution the `WHERE` statement is performed filtering the data before the `GROUP BY` is applied. What if we want to filter the data after the `GROUP BY`?. We can apply a `HAVING` clause after the `GROUP BY`. `HAVING` comes after `GROUP BY` in the order of execution. This allows us to filter the data so that we only get results we are interested in.\n",
        "\n",
        "The syntax for the `HAVING` statement is as follows:\n"
      ]
    },
    {
      "cell_type": "code",
      "execution_count": null,
      "metadata": {
        "id": "3PpNhHQEsXlU",
        "vscode": {
          "languageId": "sql"
        }
      },
      "outputs": [],
      "source": [
        "HAVING {conditional}"
      ]
    },
    {
      "cell_type": "markdown",
      "metadata": {
        "id": "15Pw4URnsXlU"
      },
      "source": [
        "The `HAVING` statement takes a conditional and if the result of the conditional evaluates to `True`, then the rows will become part of the returned query set. We can apply it in a statement like so:"
      ]
    },
    {
      "cell_type": "code",
      "execution_count": 22,
      "metadata": {
        "id": "yTtzsWzusXlU"
      },
      "outputs": [
        {
          "data": {
            "text/html": [
              "<div>\n",
              "<style scoped>\n",
              "    .dataframe tbody tr th:only-of-type {\n",
              "        vertical-align: middle;\n",
              "    }\n",
              "\n",
              "    .dataframe tbody tr th {\n",
              "        vertical-align: top;\n",
              "    }\n",
              "\n",
              "    .dataframe thead th {\n",
              "        text-align: right;\n",
              "    }\n",
              "</style>\n",
              "<table border=\"1\" class=\"dataframe\">\n",
              "  <thead>\n",
              "    <tr style=\"text-align: right;\">\n",
              "      <th></th>\n",
              "      <th>customer_id</th>\n",
              "      <th>total_number_of_rentals</th>\n",
              "    </tr>\n",
              "  </thead>\n",
              "  <tbody>\n",
              "    <tr>\n",
              "      <th>0</th>\n",
              "      <td>148</td>\n",
              "      <td>46</td>\n",
              "    </tr>\n",
              "    <tr>\n",
              "      <th>1</th>\n",
              "      <td>526</td>\n",
              "      <td>45</td>\n",
              "    </tr>\n",
              "    <tr>\n",
              "      <th>2</th>\n",
              "      <td>236</td>\n",
              "      <td>42</td>\n",
              "    </tr>\n",
              "    <tr>\n",
              "      <th>3</th>\n",
              "      <td>144</td>\n",
              "      <td>42</td>\n",
              "    </tr>\n",
              "    <tr>\n",
              "      <th>4</th>\n",
              "      <td>75</td>\n",
              "      <td>41</td>\n",
              "    </tr>\n",
              "    <tr>\n",
              "      <th>5</th>\n",
              "      <td>197</td>\n",
              "      <td>40</td>\n",
              "    </tr>\n",
              "    <tr>\n",
              "      <th>6</th>\n",
              "      <td>469</td>\n",
              "      <td>40</td>\n",
              "    </tr>\n",
              "    <tr>\n",
              "      <th>7</th>\n",
              "      <td>178</td>\n",
              "      <td>39</td>\n",
              "    </tr>\n",
              "    <tr>\n",
              "      <th>8</th>\n",
              "      <td>468</td>\n",
              "      <td>39</td>\n",
              "    </tr>\n",
              "    <tr>\n",
              "      <th>9</th>\n",
              "      <td>137</td>\n",
              "      <td>39</td>\n",
              "    </tr>\n",
              "    <tr>\n",
              "      <th>10</th>\n",
              "      <td>295</td>\n",
              "      <td>38</td>\n",
              "    </tr>\n",
              "    <tr>\n",
              "      <th>11</th>\n",
              "      <td>459</td>\n",
              "      <td>38</td>\n",
              "    </tr>\n",
              "    <tr>\n",
              "      <th>12</th>\n",
              "      <td>410</td>\n",
              "      <td>38</td>\n",
              "    </tr>\n",
              "    <tr>\n",
              "      <th>13</th>\n",
              "      <td>5</td>\n",
              "      <td>38</td>\n",
              "    </tr>\n",
              "  </tbody>\n",
              "</table>\n",
              "</div>"
            ],
            "text/plain": [
              "    customer_id  total_number_of_rentals\n",
              "0           148                       46\n",
              "1           526                       45\n",
              "2           236                       42\n",
              "3           144                       42\n",
              "4            75                       41\n",
              "5           197                       40\n",
              "6           469                       40\n",
              "7           178                       39\n",
              "8           468                       39\n",
              "9           137                       39\n",
              "10          295                       38\n",
              "11          459                       38\n",
              "12          410                       38\n",
              "13            5                       38"
            ]
          },
          "execution_count": 22,
          "metadata": {},
          "output_type": "execute_result"
        }
      ],
      "source": [
        "db.execute_query('''\n",
        "                    SELECT customer_id,\n",
        "                           COUNT(rental_date) AS total_number_of_rentals\n",
        "                    FROM\n",
        "                        rental\n",
        "                    GROUP BY\n",
        "                        customer_id\n",
        "                    HAVING\n",
        "                        COUNT(rental_date) > 37\n",
        "                    ORDER BY\n",
        "                        total_number_of_rentals DESC;\n",
        "                ''')\n"
      ]
    },
    {
      "cell_type": "markdown",
      "metadata": {
        "id": "ZHijxzhEsXlU"
      },
      "source": [
        "This only return the rows where the count of rentals for that customer is greater than `37`. You can apply the same conditions you would apply in a `WHERE` statement. The important distinction is that `WHERE` is applied before the `GROUP BY` and `HAVING` is applied after the `GROUP BY`. Let's look at a more complex example including both:"
      ]
    },
    {
      "cell_type": "code",
      "execution_count": 24,
      "metadata": {
        "id": "ADOpCxCBsXlU"
      },
      "outputs": [
        {
          "data": {
            "text/html": [
              "<div>\n",
              "<style scoped>\n",
              "    .dataframe tbody tr th:only-of-type {\n",
              "        vertical-align: middle;\n",
              "    }\n",
              "\n",
              "    .dataframe tbody tr th {\n",
              "        vertical-align: top;\n",
              "    }\n",
              "\n",
              "    .dataframe thead th {\n",
              "        text-align: right;\n",
              "    }\n",
              "</style>\n",
              "<table border=\"1\" class=\"dataframe\">\n",
              "  <thead>\n",
              "    <tr style=\"text-align: right;\">\n",
              "      <th></th>\n",
              "      <th>total_rating_rental_rate</th>\n",
              "      <th>rating</th>\n",
              "    </tr>\n",
              "  </thead>\n",
              "  <tbody>\n",
              "    <tr>\n",
              "      <th>0</th>\n",
              "      <td>3102.20</td>\n",
              "      <td>PG-13</td>\n",
              "    </tr>\n",
              "    <tr>\n",
              "      <th>1</th>\n",
              "      <td>2809.02</td>\n",
              "      <td>NC-17</td>\n",
              "    </tr>\n",
              "    <tr>\n",
              "      <th>2</th>\n",
              "      <td>2780.09</td>\n",
              "      <td>PG</td>\n",
              "    </tr>\n",
              "  </tbody>\n",
              "</table>\n",
              "</div>"
            ],
            "text/plain": [
              "   total_rating_rental_rate rating\n",
              "0                   3102.20  PG-13\n",
              "1                   2809.02  NC-17\n",
              "2                   2780.09     PG"
            ]
          },
          "execution_count": 24,
          "metadata": {},
          "output_type": "execute_result"
        }
      ],
      "source": [
        "db.execute_query('''\n",
        "                    SELECT SUM(rental_rate * rental_duration) AS total_rating_rental_rate, rating\n",
        "                    FROM film\n",
        "                    WHERE rental_rate > 0.99\n",
        "                    GROUP BY rating\n",
        "                    HAVING SUM(rental_rate * rental_duration) > 2500;\n",
        "                ''')\n"
      ]
    },
    {
      "cell_type": "markdown",
      "metadata": {
        "id": "E2VR8KHCsXlU"
      },
      "source": [
        "In this query we've aggregated the data so that we can check the potential value of rentals for each film rating which total over `2500`.\n",
        "\n",
        "First we apply the statement `WHERE rental_rate > 0.99` this allows us to focus only on non-budget movies. We then perform the `GROUP BY` on the `rating` column to group the movies into their respective ratings. We then `SELECT` the `SUM` of of the total `rental_rate` and `rental_duration` to get the total possible value of the rentals in that `rating` category. We finally apply our `HAVING` statement to only display film rating having a value of over 2500.\n",
        "\n",
        ">Remember the `WHERE` and `HAVING` clauses both filter but at different stages of the **SQL order of execution**:\n",
        ">\n",
        ">- `WHERE` is pre-filtering the data before the grouping\n",
        ">- `HAVING` is filtering the data after the grouping has taken place.\n",
        "\n",
        "## Key Takeaways\n",
        "\n",
        "- `GROUP BY` can be powerful when you want to perform analysis on groups of your data\n",
        "- You can use **aggregations** in your `SELECT` statement with a `GROUP BY` to help your data tell a story\n",
        "- Since you will be performing aggregations with the `GROUP BY` statement remember to **alias** your columns so the resultant data makes sense\n",
        "- It can be useful to perform on `SELECT` statement on the data first so you can view which groups you want to perform a `GROUP BY` on\n",
        "- Remember that columns selected in your `SELECT` statement need to either be included in the `GROUP BY` statement or **aggregated** in the `SELECT` statement\n",
        "- You can use the `HAVING` statement to perform filtering after the `GROUP BY` has taken place\n"
      ]
    }
  ],
  "metadata": {
    "colab": {
      "provenance": []
    },
    "kernelspec": {
      "display_name": "python39",
      "language": "python",
      "name": "python3"
    },
    "language_info": {
      "name": "python",
      "version": "3.12.0"
    },
    "vscode": {
      "interpreter": {
        "hash": "0525e202b6fd218605773abe3f41f1b2677deb6d490102468c00606d82fa7893"
      }
    }
  },
  "nbformat": 4,
  "nbformat_minor": 0
}
